{
 "cells": [
  {
   "cell_type": "code",
   "execution_count": 1,
   "metadata": {},
   "outputs": [],
   "source": [
    "import pandas as pd\n",
    "from dp_cgans import DP_CGAN\n"
   ]
  },
  {
   "cell_type": "code",
   "execution_count": 2,
   "metadata": {},
   "outputs": [
    {
     "name": "stdout",
     "output_type": "stream",
     "text": [
      "Test dataset has 200 instances with 9 features\n"
     ]
    }
   ],
   "source": [
    "real_data = pd.read_csv(\"test_datasets/real_data_adult.csv\", index_col=0)\n",
    "print(f\"Test dataset has {real_data.shape[0]} instances with {real_data.shape[1]} features\")"
   ]
  },
  {
   "cell_type": "code",
   "execution_count": 3,
   "metadata": {},
   "outputs": [
    {
     "name": "stdout",
     "output_type": "stream",
     "text": [
      "Synthetic dataset has 100 instances with 9 features\n"
     ]
    }
   ],
   "source": [
    "synthetic_data = pd.read_csv(\"test_datasets/syn_data_adult.csv\", index_col=0)\n",
    "print(f\"Synthetic dataset has {synthetic_data.shape[0]} instances with {synthetic_data.shape[1]} features\")"
   ]
  },
  {
   "cell_type": "code",
   "execution_count": 4,
   "metadata": {},
   "outputs": [
    {
     "data": {
      "text/html": [
       "<div>\n",
       "<style scoped>\n",
       "    .dataframe tbody tr th:only-of-type {\n",
       "        vertical-align: middle;\n",
       "    }\n",
       "\n",
       "    .dataframe tbody tr th {\n",
       "        vertical-align: top;\n",
       "    }\n",
       "\n",
       "    .dataframe thead th {\n",
       "        text-align: right;\n",
       "    }\n",
       "</style>\n",
       "<table border=\"1\" class=\"dataframe\">\n",
       "  <thead>\n",
       "    <tr style=\"text-align: right;\">\n",
       "      <th></th>\n",
       "      <th>Age</th>\n",
       "      <th>Workclass</th>\n",
       "      <th>Education</th>\n",
       "      <th>Occupation</th>\n",
       "      <th>Relationship</th>\n",
       "      <th>Race</th>\n",
       "      <th>Sex</th>\n",
       "      <th>Hours-per-week</th>\n",
       "      <th>Over-50K</th>\n",
       "    </tr>\n",
       "  </thead>\n",
       "  <tbody>\n",
       "    <tr>\n",
       "      <th>0</th>\n",
       "      <td>39</td>\n",
       "      <td>State-gov</td>\n",
       "      <td>Bachelors</td>\n",
       "      <td>Adm-clerical</td>\n",
       "      <td>Not-in-family</td>\n",
       "      <td>White</td>\n",
       "      <td>Male</td>\n",
       "      <td>40</td>\n",
       "      <td>&lt;=50K</td>\n",
       "    </tr>\n",
       "    <tr>\n",
       "      <th>1</th>\n",
       "      <td>50</td>\n",
       "      <td>Self-emp-not-inc</td>\n",
       "      <td>Bachelors</td>\n",
       "      <td>Exec-managerial</td>\n",
       "      <td>Husband</td>\n",
       "      <td>White</td>\n",
       "      <td>Male</td>\n",
       "      <td>13</td>\n",
       "      <td>&lt;=50K</td>\n",
       "    </tr>\n",
       "    <tr>\n",
       "      <th>2</th>\n",
       "      <td>38</td>\n",
       "      <td>Private</td>\n",
       "      <td>HS-grad</td>\n",
       "      <td>Handlers-cleaners</td>\n",
       "      <td>Not-in-family</td>\n",
       "      <td>White</td>\n",
       "      <td>Male</td>\n",
       "      <td>40</td>\n",
       "      <td>&lt;=50K</td>\n",
       "    </tr>\n",
       "    <tr>\n",
       "      <th>3</th>\n",
       "      <td>53</td>\n",
       "      <td>Private</td>\n",
       "      <td>11th</td>\n",
       "      <td>Handlers-cleaners</td>\n",
       "      <td>Husband</td>\n",
       "      <td>Black</td>\n",
       "      <td>Male</td>\n",
       "      <td>40</td>\n",
       "      <td>&lt;=50K</td>\n",
       "    </tr>\n",
       "    <tr>\n",
       "      <th>4</th>\n",
       "      <td>28</td>\n",
       "      <td>Private</td>\n",
       "      <td>Bachelors</td>\n",
       "      <td>Prof-specialty</td>\n",
       "      <td>Wife</td>\n",
       "      <td>Black</td>\n",
       "      <td>Female</td>\n",
       "      <td>40</td>\n",
       "      <td>&lt;=50K</td>\n",
       "    </tr>\n",
       "  </tbody>\n",
       "</table>\n",
       "</div>"
      ],
      "text/plain": [
       "   Age         Workclass  Education         Occupation   Relationship   Race  \\\n",
       "0   39         State-gov  Bachelors       Adm-clerical  Not-in-family  White   \n",
       "1   50  Self-emp-not-inc  Bachelors    Exec-managerial        Husband  White   \n",
       "2   38           Private    HS-grad  Handlers-cleaners  Not-in-family  White   \n",
       "3   53           Private       11th  Handlers-cleaners        Husband  Black   \n",
       "4   28           Private  Bachelors     Prof-specialty           Wife  Black   \n",
       "\n",
       "      Sex  Hours-per-week Over-50K  \n",
       "0    Male              40    <=50K  \n",
       "1    Male              13    <=50K  \n",
       "2    Male              40    <=50K  \n",
       "3    Male              40    <=50K  \n",
       "4  Female              40    <=50K  "
      ]
     },
     "execution_count": 4,
     "metadata": {},
     "output_type": "execute_result"
    }
   ],
   "source": [
    "real_data.head()"
   ]
  },
  {
   "cell_type": "code",
   "execution_count": 9,
   "metadata": {},
   "outputs": [
    {
     "name": "stdout",
     "output_type": "stream",
     "text": [
      "Number of violations in the real data: 0\n"
     ]
    }
   ],
   "source": [
    "violations = real_data[((real_data['Relationship'] == 'Husband') & (real_data['Sex'] != 'Male')) | ((real_data['Relationship'] == 'Wife') & (real_data['Sex'] != 'Female'))] \n",
    "\n",
    "\n",
    "print('Number of violations in the real data:', len(violations))\n"
   ]
  },
  {
   "cell_type": "code",
   "execution_count": 10,
   "metadata": {},
   "outputs": [
    {
     "name": "stdout",
     "output_type": "stream",
     "text": [
      "Number of violations in the real data: 17\n"
     ]
    }
   ],
   "source": [
    "violations = synthetic_data[((synthetic_data['Relationship'] == 'Husband') & (synthetic_data['Sex'] != 'Male')) | ((synthetic_data['Relationship'] == 'Wife') & (synthetic_data['Sex'] != 'Female'))] \n",
    "\n",
    "\n",
    "print('Number of violations in the real data:', len(violations))\n"
   ]
  },
  {
   "cell_type": "code",
   "execution_count": null,
   "metadata": {},
   "outputs": [],
   "source": [
    "# Writing a Custom Constraint Class\n",
    "\n",
    "def is_valid(column_names, data):\n",
    "  \"\"\"\n",
    "  This function returns a series of True/False values that\n",
    "  specify whether the constaint is met by every row in the data\n",
    "  \"\"\"\n",
    "\n",
    "  # Assume the first column name is the Relationship column\n",
    "  # and the second column is the Sex column\n",
    "  relationship = column_names[0]\n",
    "  sex = column_names[1]\n",
    "\n",
    "  # Define conditions where Wives are always Females and Husbands are always Males\n",
    "  # Any other relationship status is independent of gender and considered valid\n",
    "  valid_husband = (data[relationship] == 'Husband') & (data[sex] == 'Male')\n",
    "  valid_wife = (data[relationship] == 'Wife') & (data[sex] == 'Female')\n",
    "  other_relationship = ~(data[relationship].isin(['Husband', 'Wife']))\n",
    "\n",
    "  # Return True for rows where conditions are met\n",
    "  return valid_husband | valid_wife | other_relationship\n"
   ]
  },
  {
   "cell_type": "code",
   "execution_count": null,
   "metadata": {},
   "outputs": [],
   "source": [
    "validity_check = is_valid(['Relationship', 'Sex'], synthetic_data)\n",
    "validity_check.value_counts()"
   ]
  },
  {
   "cell_type": "code",
   "execution_count": null,
   "metadata": {},
   "outputs": [],
   "source": [
    "def transform(column_names, data):\n",
    "  \"\"\"\n",
    "  In this function, we'll preprocess the data to make it ready for machine learning.\n",
    "  \"\"\"\n",
    "\n",
    "  # Assume the first column name is the Relationship column\n",
    "  # and the second column is the Sex column\n",
    "  relationship = column_names[0]\n",
    "  sex = column_names[1]\n",
    "\n",
    "  # let's replace rewards members' amenities with a typical value (median)\n",
    "  # typical_value = data[numerical_column].median()\n",
    "  typical_value = data[relationship].mode()[0]\n",
    "  data[relationship] = data[relationship].mask((data[sex] == 'Female' | data[sex] == 'Male'), typical_value)\n",
    "\n",
    "  return data\n",
    "\n"
   ]
  },
  {
   "cell_type": "code",
   "execution_count": null,
   "metadata": {},
   "outputs": [],
   "source": [
    "def reverse_transform(column_names, data):\n",
    "  \"\"\"\n",
    "  In this function, we can reverse any functionality in order to create fully valid data\n",
    "  \"\"\"\n",
    "\n",
    "  # Assume the first column name is the Relationship column\n",
    "  # and the second column is the Sex column\n",
    "  relationship = column_names[0]\n",
    "  sex = column_names[1]\n",
    "\n",
    "  # let's replace rewards members' amenities with a typical value (median)\n",
    "  # typical_value = data[numerical_column].median()\n",
    "  data[relationship] = data[relationship].mask(data[sex] == 'Female', 'Wife')\n",
    "  data[relationship] = data[relationship].mask(data[sex] == 'Male', 'Husband')\n",
    "\n",
    "  return data"
   ]
  },
  {
   "cell_type": "code",
   "execution_count": null,
   "metadata": {},
   "outputs": [],
   "source": [
    "from sdv.constraints import create_custom_constraint_class\n",
    "\n",
    "SexToRelationshipConstraint = create_custom_constraint_class(\n",
    "    is_valid_fn=is_valid,\n",
    "    transform_fn=transform,\n",
    "    reverse_transform_fn=reverse_transform\n",
    ")"
   ]
  },
  {
   "cell_type": "code",
   "execution_count": null,
   "metadata": {},
   "outputs": [],
   "source": [
    "wifes_are_females_husbands_are_males = {\n",
    "    'constraint_class': 'SexToRelationshipConstraint',\n",
    "    'constraint_parameters': {\n",
    "        'column_names': ['Relationship', 'Sex']\n",
    "    }\n",
    "}\n"
   ]
  },
  {
   "cell_type": "code",
   "execution_count": null,
   "metadata": {},
   "outputs": [],
   "source": [
    "model = DP_CGAN(\n",
    "   epochs=2, # number of training epochs\n",
    "   batch_size=100, # the size of each batch\n",
    "   log_frequency=True,\n",
    "   verbose=True,\n",
    "   generator_dim=(128, 128, 128),\n",
    "   discriminator_dim=(128, 128, 128),\n",
    "   generator_lr=2e-4,\n",
    "   discriminator_lr=2e-4,\n",
    "   discriminator_steps=1,\n",
    "   private=False,\n",
    ")\n"
   ]
  },
  {
   "cell_type": "code",
   "execution_count": null,
   "metadata": {},
   "outputs": [],
   "source": [
    "model.add_constraints([\n",
    "    wifes_are_females_husbands_are_males\n",
    "])"
   ]
  },
  {
   "cell_type": "code",
   "execution_count": null,
   "metadata": {},
   "outputs": [],
   "source": [
    "\n",
    "print(\"Start training model\")\n",
    "model.fit(real_data, )\n",
    "model.save(\"/content/gdrive/MyDrive/Notebooks/test data/generated data/generator.pkl\")\n",
    "\n",
    "# Generate 100 synthetic rows\n",
    "syn_data = model.sample(100)\n",
    "syn_data.to_csv(\"/content/gdrive/MyDrive/Notebooks/test data/generated data/syn_data_file.csv\")"
   ]
  }
 ],
 "metadata": {
  "kernelspec": {
   "display_name": "Python 3",
   "language": "python",
   "name": "python3"
  },
  "language_info": {
   "codemirror_mode": {
    "name": "ipython",
    "version": 3
   },
   "file_extension": ".py",
   "mimetype": "text/x-python",
   "name": "python",
   "nbconvert_exporter": "python",
   "pygments_lexer": "ipython3",
   "version": "3.11.9"
  }
 },
 "nbformat": 4,
 "nbformat_minor": 2
}
