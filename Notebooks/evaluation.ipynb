{
 "cells": [
  {
   "cell_type": "code",
   "execution_count": 1,
   "metadata": {},
   "outputs": [],
   "source": [
    "import pandas as pd\n",
    "from sdv.metadata import SingleTableMetadata\n",
    "from sdv.evaluation.single_table import evaluate_quality\n",
    "from sdv.evaluation.single_table import run_diagnostic\n",
    "from sdv.evaluation.single_table import get_column_plot\n",
    "from sdv.evaluation.single_table import get_column_pair_plot\n"
   ]
  },
  {
   "cell_type": "code",
   "execution_count": 2,
   "metadata": {},
   "outputs": [
    {
     "name": "stdout",
     "output_type": "stream",
     "text": [
      "Test dataset has 200 instances with 9 features\n"
     ]
    }
   ],
   "source": [
    "real_data = pd.read_csv(\"test_datasets/real_data_adult.csv\", index_col=0)\n",
    "print(f\"Test dataset has {real_data.shape[0]} instances with {real_data.shape[1]} features\")"
   ]
  },
  {
   "cell_type": "code",
   "execution_count": 3,
   "metadata": {},
   "outputs": [
    {
     "data": {
      "text/html": [
       "<div>\n",
       "<style scoped>\n",
       "    .dataframe tbody tr th:only-of-type {\n",
       "        vertical-align: middle;\n",
       "    }\n",
       "\n",
       "    .dataframe tbody tr th {\n",
       "        vertical-align: top;\n",
       "    }\n",
       "\n",
       "    .dataframe thead th {\n",
       "        text-align: right;\n",
       "    }\n",
       "</style>\n",
       "<table border=\"1\" class=\"dataframe\">\n",
       "  <thead>\n",
       "    <tr style=\"text-align: right;\">\n",
       "      <th></th>\n",
       "      <th>Age</th>\n",
       "      <th>Workclass</th>\n",
       "      <th>Education</th>\n",
       "      <th>Occupation</th>\n",
       "      <th>Relationship</th>\n",
       "      <th>Race</th>\n",
       "      <th>Sex</th>\n",
       "      <th>Hours-per-week</th>\n",
       "      <th>Over-50K</th>\n",
       "    </tr>\n",
       "  </thead>\n",
       "  <tbody>\n",
       "    <tr>\n",
       "      <th>0</th>\n",
       "      <td>39</td>\n",
       "      <td>State-gov</td>\n",
       "      <td>Bachelors</td>\n",
       "      <td>Adm-clerical</td>\n",
       "      <td>Not-in-family</td>\n",
       "      <td>White</td>\n",
       "      <td>Male</td>\n",
       "      <td>40</td>\n",
       "      <td>&lt;=50K</td>\n",
       "    </tr>\n",
       "    <tr>\n",
       "      <th>1</th>\n",
       "      <td>50</td>\n",
       "      <td>Self-emp-not-inc</td>\n",
       "      <td>Bachelors</td>\n",
       "      <td>Exec-managerial</td>\n",
       "      <td>Husband</td>\n",
       "      <td>White</td>\n",
       "      <td>Male</td>\n",
       "      <td>13</td>\n",
       "      <td>&lt;=50K</td>\n",
       "    </tr>\n",
       "    <tr>\n",
       "      <th>2</th>\n",
       "      <td>38</td>\n",
       "      <td>Private</td>\n",
       "      <td>HS-grad</td>\n",
       "      <td>Handlers-cleaners</td>\n",
       "      <td>Not-in-family</td>\n",
       "      <td>White</td>\n",
       "      <td>Male</td>\n",
       "      <td>40</td>\n",
       "      <td>&lt;=50K</td>\n",
       "    </tr>\n",
       "    <tr>\n",
       "      <th>3</th>\n",
       "      <td>53</td>\n",
       "      <td>Private</td>\n",
       "      <td>11th</td>\n",
       "      <td>Handlers-cleaners</td>\n",
       "      <td>Husband</td>\n",
       "      <td>Black</td>\n",
       "      <td>Male</td>\n",
       "      <td>40</td>\n",
       "      <td>&lt;=50K</td>\n",
       "    </tr>\n",
       "    <tr>\n",
       "      <th>4</th>\n",
       "      <td>28</td>\n",
       "      <td>Private</td>\n",
       "      <td>Bachelors</td>\n",
       "      <td>Prof-specialty</td>\n",
       "      <td>Wife</td>\n",
       "      <td>Black</td>\n",
       "      <td>Female</td>\n",
       "      <td>40</td>\n",
       "      <td>&lt;=50K</td>\n",
       "    </tr>\n",
       "  </tbody>\n",
       "</table>\n",
       "</div>"
      ],
      "text/plain": [
       "   Age         Workclass  Education         Occupation   Relationship   Race  \\\n",
       "0   39         State-gov  Bachelors       Adm-clerical  Not-in-family  White   \n",
       "1   50  Self-emp-not-inc  Bachelors    Exec-managerial        Husband  White   \n",
       "2   38           Private    HS-grad  Handlers-cleaners  Not-in-family  White   \n",
       "3   53           Private       11th  Handlers-cleaners        Husband  Black   \n",
       "4   28           Private  Bachelors     Prof-specialty           Wife  Black   \n",
       "\n",
       "      Sex  Hours-per-week Over-50K  \n",
       "0    Male              40    <=50K  \n",
       "1    Male              13    <=50K  \n",
       "2    Male              40    <=50K  \n",
       "3    Male              40    <=50K  \n",
       "4  Female              40    <=50K  "
      ]
     },
     "execution_count": 3,
     "metadata": {},
     "output_type": "execute_result"
    }
   ],
   "source": [
    "real_data.head()"
   ]
  },
  {
   "cell_type": "markdown",
   "metadata": {},
   "source": [
    "**Creation of Meta data**\n",
    "\n",
    "Meta data are needed to evaluate the generated synthetic data"
   ]
  },
  {
   "cell_type": "code",
   "execution_count": 5,
   "metadata": {},
   "outputs": [],
   "source": [
    "metadata = SingleTableMetadata()\n",
    "metadata.detect_from_dataframe(real_data)"
   ]
  },
  {
   "cell_type": "code",
   "execution_count": 6,
   "metadata": {},
   "outputs": [
    {
     "name": "stdout",
     "output_type": "stream",
     "text": [
      "Auto detected data:\n",
      "\n"
     ]
    },
    {
     "data": {
      "image/svg+xml": [
       "<?xml version=\"1.0\" encoding=\"UTF-8\" standalone=\"no\"?>\n",
       "<!DOCTYPE svg PUBLIC \"-//W3C//DTD SVG 1.1//EN\"\n",
       " \"http://www.w3.org/Graphics/SVG/1.1/DTD/svg11.dtd\">\n",
       "<!-- Generated by graphviz version 11.0.0 (20240428.1522)\n",
       " -->\n",
       "<!-- Title: Metadata Pages: 1 -->\n",
       "<svg width=\"178pt\" height=\"159pt\"\n",
       " viewBox=\"0.00 0.00 177.75 158.75\" xmlns=\"http://www.w3.org/2000/svg\" xmlns:xlink=\"http://www.w3.org/1999/xlink\">\n",
       "<g id=\"graph0\" class=\"graph\" transform=\"scale(1 1) rotate(0) translate(4 154.75)\">\n",
       "<title>Metadata</title>\n",
       "<polygon fill=\"white\" stroke=\"none\" points=\"-4,4 -4,-154.75 173.75,-154.75 173.75,4 -4,4\"/>\n",
       "<g id=\"node1\" class=\"node\">\n",
       "<title></title>\n",
       "<path fill=\"#ffec8b\" stroke=\"black\" d=\"M12,-0.5C12,-0.5 157.75,-0.5 157.75,-0.5 163.75,-0.5 169.75,-6.5 169.75,-12.5 169.75,-12.5 169.75,-138.25 169.75,-138.25 169.75,-144.25 163.75,-150.25 157.75,-150.25 157.75,-150.25 12,-150.25 12,-150.25 6,-150.25 0,-144.25 0,-138.25 0,-138.25 0,-12.5 0,-12.5 0,-6.5 6,-0.5 12,-0.5\"/>\n",
       "<text text-anchor=\"start\" x=\"8\" y=\"-132.95\" font-family=\"Times New Roman,serif\" font-size=\"14.00\">Age : numerical</text>\n",
       "<text text-anchor=\"start\" x=\"8\" y=\"-117.2\" font-family=\"Times New Roman,serif\" font-size=\"14.00\">Workclass : categorical</text>\n",
       "<text text-anchor=\"start\" x=\"8\" y=\"-101.45\" font-family=\"Times New Roman,serif\" font-size=\"14.00\">Education : categorical</text>\n",
       "<text text-anchor=\"start\" x=\"8\" y=\"-85.7\" font-family=\"Times New Roman,serif\" font-size=\"14.00\">Occupation : categorical</text>\n",
       "<text text-anchor=\"start\" x=\"8\" y=\"-69.95\" font-family=\"Times New Roman,serif\" font-size=\"14.00\">Relationship : categorical</text>\n",
       "<text text-anchor=\"start\" x=\"8\" y=\"-54.2\" font-family=\"Times New Roman,serif\" font-size=\"14.00\">Race : categorical</text>\n",
       "<text text-anchor=\"start\" x=\"8\" y=\"-38.45\" font-family=\"Times New Roman,serif\" font-size=\"14.00\">Sex : categorical</text>\n",
       "<text text-anchor=\"start\" x=\"8\" y=\"-22.7\" font-family=\"Times New Roman,serif\" font-size=\"14.00\">Hours&#45;per&#45;week : numerical</text>\n",
       "<text text-anchor=\"start\" x=\"8\" y=\"-6.95\" font-family=\"Times New Roman,serif\" font-size=\"14.00\">Over&#45;50K : categorical</text>\n",
       "</g>\n",
       "</g>\n",
       "</svg>\n"
      ],
      "text/plain": [
       "<graphviz.graphs.Digraph at 0x1450458b790>"
      ]
     },
     "execution_count": 6,
     "metadata": {},
     "output_type": "execute_result"
    }
   ],
   "source": [
    "print('Auto detected data:\\n')\n",
    "metadata.visualize()"
   ]
  },
  {
   "cell_type": "code",
   "execution_count": 7,
   "metadata": {},
   "outputs": [],
   "source": [
    "metadata.validate()\n",
    "metadata.validate_data(data=real_data)"
   ]
  },
  {
   "cell_type": "code",
   "execution_count": 9,
   "metadata": {},
   "outputs": [],
   "source": [
    "metadata.save_to_json('test_datasets/metadata_test_adult.json')"
   ]
  },
  {
   "cell_type": "code",
   "execution_count": 10,
   "metadata": {},
   "outputs": [],
   "source": [
    "# in the future, we can reload the metadata object from the file\n",
    "metadata = SingleTableMetadata.load_from_json('test_datasets/metadata_test_adult.json')"
   ]
  },
  {
   "cell_type": "code",
   "execution_count": 11,
   "metadata": {},
   "outputs": [
    {
     "name": "stdout",
     "output_type": "stream",
     "text": [
      "Synthetic dataset has 100 instances with 9 features\n"
     ]
    }
   ],
   "source": [
    "synthetic_data = pd.read_csv(\"test_datasets/syn_data_adult.csv\", index_col=0)\n",
    "print(f\"Synthetic dataset has {synthetic_data.shape[0]} instances with {synthetic_data.shape[1]} features\")"
   ]
  },
  {
   "cell_type": "code",
   "execution_count": 12,
   "metadata": {},
   "outputs": [
    {
     "data": {
      "text/html": [
       "<div>\n",
       "<style scoped>\n",
       "    .dataframe tbody tr th:only-of-type {\n",
       "        vertical-align: middle;\n",
       "    }\n",
       "\n",
       "    .dataframe tbody tr th {\n",
       "        vertical-align: top;\n",
       "    }\n",
       "\n",
       "    .dataframe thead th {\n",
       "        text-align: right;\n",
       "    }\n",
       "</style>\n",
       "<table border=\"1\" class=\"dataframe\">\n",
       "  <thead>\n",
       "    <tr style=\"text-align: right;\">\n",
       "      <th></th>\n",
       "      <th>Age</th>\n",
       "      <th>Workclass</th>\n",
       "      <th>Education</th>\n",
       "      <th>Occupation</th>\n",
       "      <th>Relationship</th>\n",
       "      <th>Race</th>\n",
       "      <th>Sex</th>\n",
       "      <th>Hours-per-week</th>\n",
       "      <th>Over-50K</th>\n",
       "    </tr>\n",
       "  </thead>\n",
       "  <tbody>\n",
       "    <tr>\n",
       "      <th>0</th>\n",
       "      <td>17</td>\n",
       "      <td>State-gov</td>\n",
       "      <td>11th</td>\n",
       "      <td>Exec-managerial</td>\n",
       "      <td>Husband</td>\n",
       "      <td>White</td>\n",
       "      <td>Male</td>\n",
       "      <td>53</td>\n",
       "      <td>&gt;50K</td>\n",
       "    </tr>\n",
       "    <tr>\n",
       "      <th>1</th>\n",
       "      <td>38</td>\n",
       "      <td>Private</td>\n",
       "      <td>Bachelors</td>\n",
       "      <td>Handlers-cleaners</td>\n",
       "      <td>Not-in-family</td>\n",
       "      <td>White</td>\n",
       "      <td>Male</td>\n",
       "      <td>68</td>\n",
       "      <td>&lt;=50K</td>\n",
       "    </tr>\n",
       "    <tr>\n",
       "      <th>2</th>\n",
       "      <td>34</td>\n",
       "      <td>State-gov</td>\n",
       "      <td>9th</td>\n",
       "      <td>Handlers-cleaners</td>\n",
       "      <td>Wife</td>\n",
       "      <td>Other</td>\n",
       "      <td>Male</td>\n",
       "      <td>43</td>\n",
       "      <td>&lt;=50K</td>\n",
       "    </tr>\n",
       "    <tr>\n",
       "      <th>3</th>\n",
       "      <td>43</td>\n",
       "      <td>State-gov</td>\n",
       "      <td>Bachelors</td>\n",
       "      <td>Handlers-cleaners</td>\n",
       "      <td>Not-in-family</td>\n",
       "      <td>Asian-Pac-Islander</td>\n",
       "      <td>Male</td>\n",
       "      <td>43</td>\n",
       "      <td>&lt;=50K</td>\n",
       "    </tr>\n",
       "    <tr>\n",
       "      <th>4</th>\n",
       "      <td>32</td>\n",
       "      <td>State-gov</td>\n",
       "      <td>Bachelors</td>\n",
       "      <td>Handlers-cleaners</td>\n",
       "      <td>Not-in-family</td>\n",
       "      <td>White</td>\n",
       "      <td>Male</td>\n",
       "      <td>40</td>\n",
       "      <td>&lt;=50K</td>\n",
       "    </tr>\n",
       "  </tbody>\n",
       "</table>\n",
       "</div>"
      ],
      "text/plain": [
       "   Age  Workclass  Education         Occupation   Relationship  \\\n",
       "0   17  State-gov       11th    Exec-managerial        Husband   \n",
       "1   38    Private  Bachelors  Handlers-cleaners  Not-in-family   \n",
       "2   34  State-gov        9th  Handlers-cleaners           Wife   \n",
       "3   43  State-gov  Bachelors  Handlers-cleaners  Not-in-family   \n",
       "4   32  State-gov  Bachelors  Handlers-cleaners  Not-in-family   \n",
       "\n",
       "                 Race   Sex  Hours-per-week Over-50K  \n",
       "0               White  Male              53     >50K  \n",
       "1               White  Male              68    <=50K  \n",
       "2               Other  Male              43    <=50K  \n",
       "3  Asian-Pac-Islander  Male              43    <=50K  \n",
       "4               White  Male              40    <=50K  "
      ]
     },
     "execution_count": 12,
     "metadata": {},
     "output_type": "execute_result"
    }
   ],
   "source": [
    "synthetic_data.head()"
   ]
  },
  {
   "cell_type": "code",
   "execution_count": 13,
   "metadata": {},
   "outputs": [
    {
     "name": "stdout",
     "output_type": "stream",
     "text": [
      "Generating report ...\n",
      "  0%|          | 0/9 [00:00<?, ?it/s]"
     ]
    },
    {
     "name": "stdout",
     "output_type": "stream",
     "text": [
      "(1/3) Evaluating Coverage: : 100%|██████████| 9/9 [00:00<00:00, 599.42it/s]\n",
      "(2/3) Evaluating Boundary: : 100%|██████████| 9/9 [00:00<00:00, 7270.56it/s]\n",
      "(3/3) Evaluating Synthesis: : 100%|██████████| 1/1 [00:00<00:00,  2.65it/s]\n",
      "\n",
      "Diagnostic Results:\n",
      "\n",
      "SUCCESS:\n",
      "✓ The synthetic data covers over 90% of the categories present in the real data\n",
      "✓ The synthetic data covers over 90% of the numerical ranges present in the real data\n",
      "✓ The synthetic data follows over 90% of the min/max boundaries set by the real data\n",
      "✓ Over 90% of the synthetic rows are not copies of the real data\n"
     ]
    }
   ],
   "source": [
    "diagnostic = run_diagnostic(\n",
    "    real_data=real_data,\n",
    "    synthetic_data=synthetic_data,\n",
    "    metadata=metadata\n",
    ")"
   ]
  },
  {
   "cell_type": "code",
   "execution_count": 14,
   "metadata": {},
   "outputs": [
    {
     "name": "stdout",
     "output_type": "stream",
     "text": [
      "Generating report ...\n",
      "(1/2) Evaluating Column Shapes: : 100%|██████████| 9/9 [00:00<00:00, 1284.84it/s]\n",
      "(2/2) Evaluating Column Pair Trends: : 100%|██████████| 36/36 [00:00<00:00, 75.95it/s]\n",
      "\n",
      "Overall Quality Score: 57.49%\n",
      "\n",
      "Properties:\n",
      "- Column Shapes: 68.61%\n",
      "- Column Pair Trends: 46.36%\n"
     ]
    }
   ],
   "source": [
    "quality_report = evaluate_quality(\n",
    "    real_data,\n",
    "    synthetic_data,\n",
    "    metadata)"
   ]
  },
  {
   "cell_type": "code",
   "execution_count": 15,
   "metadata": {},
   "outputs": [
    {
     "data": {
      "text/html": [
       "<div>\n",
       "<style scoped>\n",
       "    .dataframe tbody tr th:only-of-type {\n",
       "        vertical-align: middle;\n",
       "    }\n",
       "\n",
       "    .dataframe tbody tr th {\n",
       "        vertical-align: top;\n",
       "    }\n",
       "\n",
       "    .dataframe thead th {\n",
       "        text-align: right;\n",
       "    }\n",
       "</style>\n",
       "<table border=\"1\" class=\"dataframe\">\n",
       "  <thead>\n",
       "    <tr style=\"text-align: right;\">\n",
       "      <th></th>\n",
       "      <th>Column</th>\n",
       "      <th>Metric</th>\n",
       "      <th>Score</th>\n",
       "    </tr>\n",
       "  </thead>\n",
       "  <tbody>\n",
       "    <tr>\n",
       "      <th>0</th>\n",
       "      <td>Age</td>\n",
       "      <td>KSComplement</td>\n",
       "      <td>0.935</td>\n",
       "    </tr>\n",
       "    <tr>\n",
       "      <th>1</th>\n",
       "      <td>Workclass</td>\n",
       "      <td>TVComplement</td>\n",
       "      <td>0.410</td>\n",
       "    </tr>\n",
       "    <tr>\n",
       "      <th>2</th>\n",
       "      <td>Education</td>\n",
       "      <td>TVComplement</td>\n",
       "      <td>0.535</td>\n",
       "    </tr>\n",
       "    <tr>\n",
       "      <th>3</th>\n",
       "      <td>Occupation</td>\n",
       "      <td>TVComplement</td>\n",
       "      <td>0.420</td>\n",
       "    </tr>\n",
       "    <tr>\n",
       "      <th>4</th>\n",
       "      <td>Relationship</td>\n",
       "      <td>TVComplement</td>\n",
       "      <td>0.645</td>\n",
       "    </tr>\n",
       "    <tr>\n",
       "      <th>5</th>\n",
       "      <td>Race</td>\n",
       "      <td>TVComplement</td>\n",
       "      <td>0.705</td>\n",
       "    </tr>\n",
       "    <tr>\n",
       "      <th>6</th>\n",
       "      <td>Sex</td>\n",
       "      <td>TVComplement</td>\n",
       "      <td>0.900</td>\n",
       "    </tr>\n",
       "    <tr>\n",
       "      <th>7</th>\n",
       "      <td>Hours-per-week</td>\n",
       "      <td>KSComplement</td>\n",
       "      <td>0.690</td>\n",
       "    </tr>\n",
       "    <tr>\n",
       "      <th>8</th>\n",
       "      <td>Over-50K</td>\n",
       "      <td>TVComplement</td>\n",
       "      <td>0.935</td>\n",
       "    </tr>\n",
       "  </tbody>\n",
       "</table>\n",
       "</div>"
      ],
      "text/plain": [
       "           Column        Metric  Score\n",
       "0             Age  KSComplement  0.935\n",
       "1       Workclass  TVComplement  0.410\n",
       "2       Education  TVComplement  0.535\n",
       "3      Occupation  TVComplement  0.420\n",
       "4    Relationship  TVComplement  0.645\n",
       "5            Race  TVComplement  0.705\n",
       "6             Sex  TVComplement  0.900\n",
       "7  Hours-per-week  KSComplement  0.690\n",
       "8        Over-50K  TVComplement  0.935"
      ]
     },
     "execution_count": 15,
     "metadata": {},
     "output_type": "execute_result"
    }
   ],
   "source": [
    "quality_report.get_details('Column Shapes')"
   ]
  },
  {
   "cell_type": "code",
   "execution_count": 16,
   "metadata": {},
   "outputs": [
    {
     "data": {
      "application/vnd.plotly.v1+json": {
       "config": {
        "plotlyServerURL": "https://plot.ly"
       },
       "data": [
        {
         "fill": "tozeroy",
         "hovertemplate": "<b>Real</b><br>Frequency: %{y}<extra></extra>",
         "legendgroup": "Real",
         "marker": {
          "color": "#000036"
         },
         "mode": "lines",
         "name": "Real",
         "showlegend": true,
         "type": "scatter",
         "x": [
          17,
          17.124,
          17.248,
          17.372,
          17.496,
          17.62,
          17.744,
          17.868,
          17.992,
          18.116,
          18.24,
          18.364,
          18.488,
          18.612000000000002,
          18.736,
          18.86,
          18.984,
          19.108,
          19.232,
          19.356,
          19.48,
          19.604,
          19.728,
          19.852,
          19.976,
          20.1,
          20.224,
          20.348,
          20.472,
          20.596,
          20.72,
          20.844,
          20.968,
          21.092,
          21.216,
          21.34,
          21.464,
          21.588,
          21.712,
          21.836,
          21.96,
          22.084,
          22.208,
          22.332,
          22.456,
          22.58,
          22.704,
          22.828,
          22.951999999999998,
          23.076,
          23.2,
          23.323999999999998,
          23.448,
          23.572,
          23.695999999999998,
          23.82,
          23.944,
          24.067999999999998,
          24.192,
          24.316,
          24.44,
          24.564,
          24.688,
          24.812,
          24.936,
          25.060000000000002,
          25.183999999999997,
          25.308,
          25.432000000000002,
          25.555999999999997,
          25.68,
          25.804000000000002,
          25.928,
          26.052,
          26.176000000000002,
          26.3,
          26.424,
          26.548000000000002,
          26.672,
          26.796,
          26.92,
          27.044,
          27.168,
          27.292,
          27.416,
          27.54,
          27.664,
          27.788,
          27.912,
          28.036,
          28.16,
          28.284,
          28.408,
          28.532,
          28.656,
          28.78,
          28.904,
          29.028,
          29.152,
          29.276,
          29.4,
          29.524,
          29.648,
          29.772,
          29.896,
          30.02,
          30.144,
          30.268,
          30.392,
          30.516,
          30.64,
          30.764,
          30.887999999999998,
          31.012,
          31.136,
          31.259999999999998,
          31.384,
          31.508,
          31.631999999999998,
          31.756,
          31.880000000000003,
          32.004,
          32.128,
          32.252,
          32.376,
          32.5,
          32.624,
          32.748,
          32.872,
          32.996,
          33.120000000000005,
          33.244,
          33.367999999999995,
          33.492000000000004,
          33.616,
          33.739999999999995,
          33.864000000000004,
          33.988,
          34.111999999999995,
          34.236000000000004,
          34.36,
          34.484,
          34.608000000000004,
          34.732,
          34.856,
          34.980000000000004,
          35.104,
          35.228,
          35.352000000000004,
          35.476,
          35.6,
          35.724000000000004,
          35.848,
          35.972,
          36.096000000000004,
          36.22,
          36.344,
          36.468,
          36.592,
          36.716,
          36.84,
          36.964,
          37.088,
          37.212,
          37.336,
          37.46,
          37.584,
          37.708,
          37.832,
          37.956,
          38.08,
          38.204,
          38.328,
          38.452,
          38.576,
          38.7,
          38.824,
          38.948,
          39.072,
          39.196,
          39.32,
          39.444,
          39.568,
          39.692,
          39.816,
          39.94,
          40.064,
          40.188,
          40.312,
          40.436,
          40.56,
          40.684,
          40.808,
          40.932,
          41.056,
          41.18,
          41.304,
          41.428,
          41.552,
          41.676,
          41.8,
          41.924,
          42.048,
          42.172,
          42.296,
          42.42,
          42.544,
          42.668,
          42.792,
          42.916,
          43.04,
          43.164,
          43.288,
          43.412,
          43.536,
          43.66,
          43.784,
          43.908,
          44.032,
          44.156,
          44.28,
          44.403999999999996,
          44.528,
          44.652,
          44.775999999999996,
          44.9,
          45.024,
          45.147999999999996,
          45.272,
          45.396,
          45.519999999999996,
          45.644,
          45.768,
          45.891999999999996,
          46.016,
          46.14,
          46.263999999999996,
          46.388000000000005,
          46.512,
          46.635999999999996,
          46.760000000000005,
          46.884,
          47.007999999999996,
          47.132000000000005,
          47.256,
          47.379999999999995,
          47.504000000000005,
          47.628,
          47.751999999999995,
          47.876000000000005,
          48,
          48.123999999999995,
          48.248000000000005,
          48.372,
          48.495999999999995,
          48.620000000000005,
          48.744,
          48.867999999999995,
          48.992000000000004,
          49.116,
          49.24,
          49.364,
          49.488,
          49.612,
          49.736,
          49.86,
          49.984,
          50.108,
          50.232,
          50.356,
          50.48,
          50.604,
          50.728,
          50.852,
          50.976,
          51.1,
          51.224,
          51.348,
          51.472,
          51.596,
          51.72,
          51.844,
          51.968,
          52.092,
          52.216,
          52.34,
          52.464,
          52.588,
          52.712,
          52.836,
          52.96,
          53.084,
          53.208,
          53.332,
          53.456,
          53.58,
          53.704,
          53.828,
          53.952,
          54.076,
          54.2,
          54.324,
          54.448,
          54.572,
          54.696,
          54.82,
          54.944,
          55.068,
          55.192,
          55.316,
          55.44,
          55.564,
          55.688,
          55.812,
          55.936,
          56.06,
          56.184,
          56.308,
          56.432,
          56.556,
          56.68,
          56.804,
          56.928,
          57.052,
          57.176,
          57.3,
          57.424,
          57.548,
          57.672,
          57.796,
          57.92,
          58.044,
          58.168,
          58.292,
          58.416,
          58.54,
          58.664,
          58.788,
          58.912,
          59.036,
          59.16,
          59.284,
          59.408,
          59.532,
          59.656,
          59.78,
          59.904,
          60.028,
          60.152,
          60.276,
          60.4,
          60.524,
          60.648,
          60.772,
          60.896,
          61.02,
          61.144,
          61.268,
          61.392,
          61.516,
          61.64,
          61.764,
          61.888,
          62.012,
          62.136,
          62.26,
          62.384,
          62.508,
          62.632,
          62.756,
          62.88,
          63.004,
          63.128,
          63.252,
          63.376,
          63.5,
          63.624,
          63.748,
          63.872,
          63.996,
          64.12,
          64.244,
          64.368,
          64.49199999999999,
          64.616,
          64.74000000000001,
          64.864,
          64.988,
          65.112,
          65.23599999999999,
          65.36,
          65.48400000000001,
          65.608,
          65.732,
          65.856,
          65.97999999999999,
          66.104,
          66.22800000000001,
          66.352,
          66.476,
          66.6,
          66.72399999999999,
          66.848,
          66.97200000000001,
          67.096,
          67.22,
          67.344,
          67.468,
          67.592,
          67.71600000000001,
          67.84,
          67.964,
          68.088,
          68.212,
          68.336,
          68.46000000000001,
          68.584,
          68.708,
          68.832,
          68.956,
          69.08,
          69.20400000000001,
          69.328,
          69.452,
          69.576,
          69.7,
          69.824,
          69.94800000000001,
          70.072,
          70.196,
          70.32,
          70.444,
          70.568,
          70.69200000000001,
          70.816,
          70.94,
          71.064,
          71.188,
          71.312,
          71.436,
          71.56,
          71.684,
          71.80799999999999,
          71.932,
          72.056,
          72.18,
          72.304,
          72.428,
          72.55199999999999,
          72.676,
          72.8,
          72.924,
          73.048,
          73.172,
          73.29599999999999,
          73.42,
          73.544,
          73.668,
          73.792,
          73.916,
          74.03999999999999,
          74.164,
          74.288,
          74.412,
          74.536,
          74.66,
          74.78399999999999,
          74.908,
          75.032,
          75.156,
          75.28,
          75.404,
          75.52799999999999,
          75.652,
          75.77600000000001,
          75.9,
          76.024,
          76.148,
          76.27199999999999,
          76.396,
          76.52000000000001,
          76.644,
          76.768,
          76.892,
          77.01599999999999,
          77.14,
          77.26400000000001,
          77.388,
          77.512,
          77.636,
          77.75999999999999,
          77.884,
          78.00800000000001,
          78.132,
          78.256,
          78.38,
          78.50399999999999,
          78.628,
          78.75200000000001,
          78.876
         ],
         "xaxis": "x",
         "y": [
          0.010555251279922781,
          0.010800245788598492,
          0.011045692618021127,
          0.011291441383894147,
          0.011537344169313572,
          0.011783255968220704,
          0.012029035116336538,
          0.012274543707344583,
          0.01251964799213818,
          0.012764218759009778,
          0.013008131692735946,
          0.013251267710597736,
          0.013493513273477198,
          0.013734760670281296,
          0.013974908274067572,
          0.014213860768379497,
          0.0144515293424421,
          0.014687831854022178,
          0.014922692958917691,
          0.015156044206210507,
          0.015387824098592162,
          0.015617978117254102,
          0.015846458711020285,
          0.0160732252495909,
          0.01629824394095885,
          0.016521487713256563,
          0.016742936061485875,
          0.016962574859780224,
          0.01718039614004186,
          0.017396397837988624,
          0.017610583507833143,
          0.017822962006999826,
          0.018033547152463043,
          0.018242357350459797,
          0.018449415201493194,
          0.018654747082696203,
          0.018858382709769434,
          0.019060354680838963,
          0.019260698004702065,
          0.019459449616037006,
          0.01965664788024926,
          0.019852332090706765,
          0.020046541961185466,
          0.020239317116396944,
          0.020430696583506693,
          0.020620718287571862,
          0.020809418553831022,
          0.02099683161976552,
          0.02118298915982354,
          0.021367919825650304,
          0.021551648804606638,
          0.021734197399276987,
          0.02191558263057381,
          0.022095816866931902,
          0.022274907481959937,
          0.022452856542773538,
          0.02262966053107751,
          0.0228053100988943,
          0.022979789860652466,
          0.023153078223153618,
          0.023325147254729922,
          0.023495962594688388,
          0.02366548340391306,
          0.02383366235726455,
          0.024000445678177187,
          0.02416577321561195,
          0.02432957856327585,
          0.024491789220770922,
          0.02465232679608685,
          0.024811107248603817,
          0.024968041171527462,
          0.025123034112437576,
          0.02527598693039635,
          0.02542679618783658,
          0.025575354575230372,
          0.025721551366331353,
          0.02586527290158772,
          0.02600640309714006,
          0.026144823976649047,
          0.026280416223047613,
          0.026413059747172955,
          0.026542634270119606,
          0.026669019916053242,
          0.02679209781214714,
          0.02691175069224286,
          0.027027863500801053,
          0.02714032399368866,
          0.027249023332356067,
          0.027353856667982828,
          0.027454723712219953,
          0.027551529291224824,
          0.027644183879777403,
          0.027732604112375873,
          0.02781671326834285,
          0.0278964417281219,
          0.02797172739811417,
          0.028042516101589608,
          0.028108761933409426,
          0.028170427576511465,
          0.028227484578340782,
          0.028279913585646934,
          0.028327704536321135,
          0.028370856807204248,
          0.02840937931706241,
          0.02844329058419642,
          0.02847261873842349,
          0.02849740148744245,
          0.02851768603786733,
          0.02853352897148072,
          0.028544996077524743,
          0.028552162142104348,
          0.028555110696025496,
          0.028553933722632503,
          0.028548731327433016,
          0.028539611371516022,
          0.028526689070964364,
          0.02851008656465045,
          0.028489932452966608,
          0.028466361310191632,
          0.028439513173323567,
          0.028409533010318216,
          0.028376570170761256,
          0.028340777822070895,
          0.02830231237437435,
          0.02826133289722839,
          0.028218000531358083,
          0.02817247789857319,
          0.028124928512985373,
          0.028075516196591863,
          0.028024404502218644,
          0.027971756146719835,
          0.027917732457220765,
          0.02786249283306372,
          0.0278061942259733,
          0.027748990640801732,
          0.027691032659044556,
          0.02763246698713777,
          0.027573436031357236,
          0.02751407750094283,
          0.027454524040865052,
          0.02739490289544365,
          0.027335335603811597,
          0.027275937728007776,
          0.027216818614261194,
          0.02715808118782115,
          0.02709982178147253,
          0.027042129997671673,
          0.026985088604035746,
          0.02692877346172452,
          0.0268732534860682,
          0.02681859063861687,
          0.026764839949621567,
          0.02671204956980082,
          0.026660260850103985,
          0.026609508448050247,
          0.02655982045910686,
          0.02651121857146416,
          0.026463718242477077,
          0.026417328894965918,
          0.026372054131509184,
          0.026327891964814384,
          0.026284835062220728,
          0.02624287100236909,
          0.026201982542071615,
          0.026162147891421267,
          0.026123340995205482,
          0.02608553181872121,
          0.02604868663613732,
          0.026012768319605924,
          0.025977736627393878,
          0.025943548489382687,
          0.02591015828837159,
          0.025877518135713106,
          0.025845578139910418,
          0.025814286666914828,
          0.025783590590972592,
          0.02575343553498614,
          0.02572376609947625,
          0.02569452607935111,
          0.0256656586678128,
          0.025637106646854077,
          0.02560881256392225,
          0.02558071889444709,
          0.02555276819005106,
          0.025524903212374262,
          0.025497067052561852,
          0.025469203236568205,
          0.025441255816537025,
          0.0254131694486135,
          0.025384889457638123,
          0.025356361889255167,
          0.02532753355004955,
          0.02529835203639466,
          0.025268765752759652,
          0.025238723920277935,
          0.025208176576428234,
          0.025177074566717833,
          0.025145369529289013,
          0.0251130138733929,
          0.025079960752689128,
          0.025046164034336623,
          0.025011578264838654,
          0.02497615863359747,
          0.024939860935114,
          0.02490264153074811,
          0.02486445731091915,
          0.024825265658592957,
          0.024785024414854355,
          0.02474369184731662,
          0.024701226622063515,
          0.024657587779760275,
          0.02461273471650633,
          0.024566627169934307,
          0.02451922521099066,
          0.024470489241759236,
          0.024420379999615386,
          0.0243688585679212,
          0.024315886393397,
          0.0242614253102275,
          0.02420543757088398,
          0.024147885883571984,
          0.024088733456138187,
          0.024027944046202638,
          0.023965482017213564,
          0.023901312400059167,
          0.023835400959811282,
          0.023767714267120012,
          0.023698219773729604,
          0.023626885891539412,
          0.023553682074596807,
          0.023478578903374066,
          0.023401548170655144,
          0.023322562968338734,
          0.0232415977744484,
          0.023158628539635295,
          0.023073632772457494,
          0.022986589622726428,
          0.0228974799622237,
          0.022806286462110786,
          0.02271299366637957,
          0.022617588060722636,
          0.022520058136239786,
          0.022420394447438336,
          0.022318589664033692,
          0.022214638616105828,
          0.022108538332224197,
          0.022000288070212197,
          0.021889889340282628,
          0.021777345920340748,
          0.021662663863315862,
          0.021545851496449102,
          0.02142691941253153,
          0.021305880453153486,
          0.021182749684091284,
          0.021057544363021773,
          0.020930283899816864,
          0.020800989809730424,
          0.02066968565984516,
          0.02053639700919969,
          0.020401151343066304,
          0.020263978001890264,
          0.020124908105444126,
          0.01998397447278116,
          0.019841211538602133,
          0.019696655266670707,
          0.019550343060929697,
          0.019402313674980503,
          0.019252607120592985,
          0.019101264575909667,
          0.018948328294002732,
          0.01879384151242656,
          0.018637848364390745,
          0.01848039379215319,
          0.018321523463202965,
          0.01816128368976918,
          0.017999721352151363,
          0.017836883826325395,
          0.01767281891623171,
          0.01750757479110301,
          0.017341199928136444,
          0.01717374306076114,
          0.01700525313269535,
          0.016835779257931748,
          0.01666537068673071,
          0.016494076777644702,
          0.01632194697553976,
          0.016149030795524495,
          0.015975377812641946,
          0.015801037657127332,
          0.015626060014986294,
          0.015450494633597255,
          0.01527439133200203,
          0.015097800015503733,
          0.014920770694157296,
          0.014743353504703037,
          0.01456559873546558,
          0.014387556853715911,
          0.014209278534974798,
          0.01403081469371886,
          0.01385221651494184,
          0.01367353548601581,
          0.01349482342829542,
          0.013316132527911896,
          0.013137515365209216,
          0.012959024942287409,
          0.012780714708131887,
          0.012602638580828048,
          0.01242485096638141,
          0.012247406773691323,
          0.01207036142525347,
          0.011893770863199645,
          0.011717691550316612,
          0.011542180465722831,
          0.011367295094920222,
          0.011193093413977489,
          0.011019633867643984,
          0.010846975341234097,
          0.010675177126165685,
          0.010504298879079756,
          0.01033440057451103,
          0.01016554245112318,
          0.009997784951565399,
          0.009831188656048097,
          0.009665814209778655,
          0.009501722244436126,
          0.00933897329390506,
          0.009177627704523886,
          0.00901774554014034,
          0.008859386482300021,
          0.00870260972592549,
          0.008547473870874405,
          0.008394036809791379,
          0.00824235561269478,
          0.008092486408762046,
          0.007944484265797934,
          0.00779840306788774,
          0.0076542953917538474,
          0.007512212382345723,
          0.007372203628205018,
          0.007234317037154133,
          0.007098598712862462,
          0.0069650928328463925,
          0.006833841528459457,
          0.006704884767426199,
          0.00657826023946796,
          0.006454003245561238,
          0.006332146591358743,
          0.006212720485291112,
          0.00609575244185169,
          0.0059812671905498825,
          0.005869286590998967,
          0.005759829554582371,
          0.005652911973119111,
          0.005548546654923003,
          0.005446743268622879,
          0.005347508295081812,
          0.005250844987722113,
          0.005156753341530577,
          0.005065230070984704,
          0.004976268597104902,
          0.004889859043802171,
          0.00480598824365272,
          0.004724639753193666,
          0.004645793877794281,
          0.004569427706119102,
          0.004495515154158443,
          0.004424027018763099,
          0.004354931040579593,
          0.004288191976243048,
          0.004223771679645454,
          0.00416162919205854,
          0.004101720840852325,
          0.004044000346513539,
          0.00398841893763212,
          0.0039349254734890576,
          0.003883466573845897,
          0.003833986755504156,
          0.0037864285751730946,
          0.003740732778156102,
          0.003696838452339955,
          0.003654683186947202,
          0.0036142032354902973,
          0.0035753336823470218,
          0.003538008612359801,
          0.003502161282847528,
          0.0034677242974069855,
          0.0034346297808722174,
          0.0034028095547942324,
          0.0033721953128003717,
          0.0033427187951921623,
          0.0033143119621433857,
          0.003286907164865065,
          0.003260437314112639,
          0.003234836045421429,
          0.0032100378804702915,
          0.0031859783839898264,
          0.0031625943156504215,
          0.0031398237763871724,
          0.0031176063486424385,
          0.003095883230033287,
          0.003074597359979397,
          0.003053693538857558,
          0.003033118539281258,
          0.003012821209138088,
          0.0029927525660533535,
          0.002972865882985532,
          0.0029531167646976073,
          0.002933463214887821,
          0.0029138656938037504,
          0.0028942871662047194,
          0.002874693139579167,
          0.0028550516925653978,
          0.002835333493566323,
          0.0028155118095905853,
          0.002795562505394261,
          0.0027754640330384314,
          0.0027551974120186445,
          0.0027347462001617692,
          0.0027140964555247226,
          0.0026932366895667348,
          0.0026721578119032587,
          0.002650853066983888,
          0.0026293179630697515,
          0.0026075501939167387,
          0.002585549553599975,
          0.0025633178449417904,
          0.0025408587820301243,
          0.0025181778873364156,
          0.002495282383961969,
          0.002472181083558774,
          0.0024488842704854566,
          0.0024254035827707627,
          0.002401751890466055,
          0.0023779431719744733,
          0.00235399238894789,
          0.00232991536034318,
          0.0023057286362270623,
          0.0022814493719136002,
          0.002257095203010349,
          0.0022326841219384394,
          0.0022082343564783675,
          0.002183764250877097,
          0.0021592921500334073,
          0.0021348362872572646,
          0.0021104146760753894,
          0.0020860450065296313,
          0.002061744546386804,
          0.0020375300476489226,
          0.0020134176587213418,
          0.0019894228425630434,
          0.001965560301108918,
          0.0019418439062180045,
          0.0019182866373649776,
          0.001894900526254353,
          0.0018716966084988916,
          0.0018486848824647696,
          0.0018258742753474284,
          0.001803272616503002,
          0.0017808866180218806,
          0.0017587218624925563,
          0.0017367827978666756,
          0.0017150727392994663,
          0.0016935938778043366,
          0.001672347295526088,
          0.001651332987404569,
          0.0016305498889693506,
          0.001609995909976794,
          0.001589667973573547,
          0.0015695620606452749,
          0.0015496732589864914,
          0.0015299958169067722,
          0.0015105232008705176,
          0.0014912481567518497,
          0.0014721627742732874,
          0.001453258554186564,
          0.00143452647774641,
          0.0014159570780232266,
          0.0013975405125985377,
          0.001379266637187607,
          0.0013611250797368885,
          0.0013431053145498975,
          0.0013251967360033915,
          0.0013073887314267428,
          0.0012896707527305055,
          0.0012720323863857636,
          0.0012544634213733181,
          0.0012369539147414619,
          0.0012194942544323426,
          0.0012020752190600793,
          0.0011846880343482618,
          0.001167324425960287,
          0.0011499766684830097,
          0.0011326376303519947,
          0.0011153008145353357,
          0.0010979603948221655,
          0.0010806112475914812,
          0.0010632489789665443,
          0.0010458699472897905,
          0.0010284712808825106,
          0.0010110508910825202
         ],
         "yaxis": "y"
        },
        {
         "fill": "tozeroy",
         "hovertemplate": "<b>Synthetic</b><br>Frequency: %{y}<extra></extra>",
         "legendgroup": "Synthetic",
         "marker": {
          "color": "#01E0C9"
         },
         "mode": "lines",
         "name": "Synthetic",
         "showlegend": true,
         "type": "scatter",
         "x": [
          11,
          11.128,
          11.256,
          11.384,
          11.512,
          11.64,
          11.768,
          11.896,
          12.024000000000001,
          12.152,
          12.28,
          12.408,
          12.536,
          12.664,
          12.792,
          12.92,
          13.048,
          13.176,
          13.304,
          13.432,
          13.56,
          13.688,
          13.815999999999999,
          13.943999999999999,
          14.072,
          14.2,
          14.328,
          14.456,
          14.584,
          14.712,
          14.84,
          14.968,
          15.096,
          15.224,
          15.352,
          15.48,
          15.608,
          15.736,
          15.864,
          15.992,
          16.12,
          16.248,
          16.376,
          16.503999999999998,
          16.631999999999998,
          16.759999999999998,
          16.887999999999998,
          17.016,
          17.144,
          17.272,
          17.4,
          17.528,
          17.656,
          17.784,
          17.912,
          18.04,
          18.168,
          18.296,
          18.424,
          18.552,
          18.68,
          18.808,
          18.936,
          19.064,
          19.192,
          19.32,
          19.448,
          19.576,
          19.704,
          19.832,
          19.96,
          20.088,
          20.216,
          20.344,
          20.472,
          20.6,
          20.728,
          20.856,
          20.984,
          21.112000000000002,
          21.240000000000002,
          21.368000000000002,
          21.496000000000002,
          21.624000000000002,
          21.752000000000002,
          21.880000000000003,
          22.008,
          22.136,
          22.264,
          22.392,
          22.52,
          22.648,
          22.776,
          22.904,
          23.032,
          23.16,
          23.288,
          23.416,
          23.544,
          23.672,
          23.8,
          23.928,
          24.055999999999997,
          24.183999999999997,
          24.311999999999998,
          24.439999999999998,
          24.567999999999998,
          24.695999999999998,
          24.823999999999998,
          24.951999999999998,
          25.08,
          25.208,
          25.336,
          25.464,
          25.592,
          25.72,
          25.848,
          25.976,
          26.104,
          26.232,
          26.36,
          26.488,
          26.616,
          26.744,
          26.872,
          27,
          27.128,
          27.256,
          27.384,
          27.512,
          27.64,
          27.768,
          27.896,
          28.024,
          28.152,
          28.28,
          28.408,
          28.536,
          28.664,
          28.792,
          28.92,
          29.048,
          29.176,
          29.304,
          29.432,
          29.56,
          29.688,
          29.816,
          29.944,
          30.072,
          30.2,
          30.328,
          30.456,
          30.584,
          30.712,
          30.84,
          30.968,
          31.096,
          31.224,
          31.352,
          31.48,
          31.608,
          31.736,
          31.864,
          31.992,
          32.120000000000005,
          32.248000000000005,
          32.376000000000005,
          32.504000000000005,
          32.632000000000005,
          32.760000000000005,
          32.888000000000005,
          33.016,
          33.144,
          33.272,
          33.4,
          33.528,
          33.656,
          33.784,
          33.912,
          34.04,
          34.168,
          34.296,
          34.424,
          34.552,
          34.68,
          34.808,
          34.936,
          35.064,
          35.192,
          35.32,
          35.448,
          35.576,
          35.704,
          35.832,
          35.96,
          36.088,
          36.216,
          36.344,
          36.472,
          36.6,
          36.728,
          36.856,
          36.984,
          37.111999999999995,
          37.239999999999995,
          37.367999999999995,
          37.495999999999995,
          37.623999999999995,
          37.751999999999995,
          37.879999999999995,
          38.007999999999996,
          38.135999999999996,
          38.263999999999996,
          38.391999999999996,
          38.519999999999996,
          38.647999999999996,
          38.775999999999996,
          38.903999999999996,
          39.032,
          39.16,
          39.288,
          39.416,
          39.544,
          39.672,
          39.8,
          39.928,
          40.056,
          40.184,
          40.312,
          40.44,
          40.568,
          40.696,
          40.824,
          40.952,
          41.08,
          41.208,
          41.336,
          41.464,
          41.592,
          41.72,
          41.848,
          41.976,
          42.104,
          42.232,
          42.36,
          42.488,
          42.616,
          42.744,
          42.872,
          43,
          43.128,
          43.256,
          43.384,
          43.512,
          43.64,
          43.768,
          43.896,
          44.024,
          44.152,
          44.28,
          44.408,
          44.536,
          44.664,
          44.792,
          44.92,
          45.048,
          45.176,
          45.304,
          45.432,
          45.56,
          45.688,
          45.816,
          45.944,
          46.072,
          46.2,
          46.328,
          46.456,
          46.584,
          46.712,
          46.84,
          46.968,
          47.096,
          47.224,
          47.352,
          47.48,
          47.608,
          47.736,
          47.864,
          47.992,
          48.12,
          48.248,
          48.376,
          48.504,
          48.632,
          48.76,
          48.888,
          49.016,
          49.144,
          49.272,
          49.4,
          49.528,
          49.656,
          49.784,
          49.912,
          50.04,
          50.168,
          50.296,
          50.424,
          50.552,
          50.68,
          50.808,
          50.936,
          51.064,
          51.192,
          51.32,
          51.448,
          51.576,
          51.704,
          51.832,
          51.96,
          52.088,
          52.216,
          52.344,
          52.472,
          52.6,
          52.728,
          52.856,
          52.984,
          53.112,
          53.24,
          53.368,
          53.496,
          53.624,
          53.752,
          53.88,
          54.008,
          54.136,
          54.264,
          54.392,
          54.52,
          54.648,
          54.776,
          54.904,
          55.032,
          55.16,
          55.288,
          55.416,
          55.544,
          55.672,
          55.8,
          55.928,
          56.056,
          56.184,
          56.312,
          56.44,
          56.568,
          56.696,
          56.824,
          56.952,
          57.08,
          57.208,
          57.336,
          57.464,
          57.592,
          57.72,
          57.848,
          57.976,
          58.104,
          58.232,
          58.36,
          58.488,
          58.616,
          58.744,
          58.872,
          59,
          59.128,
          59.256,
          59.384,
          59.512,
          59.64,
          59.768,
          59.896,
          60.024,
          60.152,
          60.28,
          60.408,
          60.536,
          60.664,
          60.792,
          60.92,
          61.048,
          61.176,
          61.304,
          61.432,
          61.56,
          61.688,
          61.816,
          61.944,
          62.072,
          62.2,
          62.328,
          62.456,
          62.584,
          62.712,
          62.84,
          62.968,
          63.096,
          63.224,
          63.352,
          63.48,
          63.608,
          63.736,
          63.864,
          63.992,
          64.12,
          64.24799999999999,
          64.376,
          64.50399999999999,
          64.632,
          64.75999999999999,
          64.888,
          65.01599999999999,
          65.144,
          65.27199999999999,
          65.4,
          65.52799999999999,
          65.656,
          65.78399999999999,
          65.912,
          66.03999999999999,
          66.168,
          66.29599999999999,
          66.424,
          66.55199999999999,
          66.68,
          66.80799999999999,
          66.936,
          67.064,
          67.19200000000001,
          67.32,
          67.44800000000001,
          67.576,
          67.70400000000001,
          67.832,
          67.96000000000001,
          68.088,
          68.21600000000001,
          68.344,
          68.47200000000001,
          68.6,
          68.72800000000001,
          68.856,
          68.98400000000001,
          69.112,
          69.24000000000001,
          69.368,
          69.49600000000001,
          69.624,
          69.75200000000001,
          69.88,
          70.00800000000001,
          70.136,
          70.26400000000001,
          70.392,
          70.52000000000001,
          70.648,
          70.77600000000001,
          70.904,
          71.032,
          71.16,
          71.288,
          71.416,
          71.544,
          71.672,
          71.8,
          71.928,
          72.056,
          72.184,
          72.312,
          72.44,
          72.568,
          72.696,
          72.824,
          72.952,
          73.08,
          73.208,
          73.336,
          73.464,
          73.592,
          73.72,
          73.848,
          73.976,
          74.104,
          74.232,
          74.36,
          74.488,
          74.616,
          74.744,
          74.872
         ],
         "xaxis": "x",
         "y": [
          0.006295729132732019,
          0.0063999753744873175,
          0.006504512770922317,
          0.006609327289541002,
          0.006714405837977444,
          0.006819736278973477,
          0.006925307442117261,
          0.007031109132334125,
          0.0071371321351352945,
          0.007243368218644177,
          0.007349810132433731,
          0.007456451603222512,
          0.007563287327490157,
          0.007670312961086368,
          0.007777525105920281,
          0.007884921293829004,
          0.007992499967736103,
          0.008100260460221621,
          0.008208202969635552,
          0.0083163285338965,
          0.008424639002125516,
          0.008533137004273645,
          0.008641825918908233,
          0.008750709839329239,
          0.008859793538192138,
          0.008969082430817493,
          0.009078582537371127,
          0.009188300444100028,
          0.009298243263810547,
          0.009408418595775292,
          0.00951883448525368,
          0.009629499382809163,
          0.009740422103602707,
          0.009851611786837801,
          0.009963077855527124,
          0.01007482997674459,
          0.010186878022519458,
          0.010299232031521026,
          0.010411902171673777,
          0.010524898703832906,
          0.010638231946640202,
          0.010751912242668827,
          0.01086594992595447,
          0.01098035529099788,
          0.011095138563311548,
          0.011210309871570316,
          0.011325879221412743,
          0.011441856470926775,
          0.011558251307839577,
          0.011675073228418589,
          0.011792331518076954,
          0.011910035233663553,
          0.01202819318740525,
          0.012146813932455756,
          0.012265905749993916,
          0.012385476637802163,
          0.012505534300245006,
          0.012626086139556649,
          0.01274713924833737,
          0.012868700403149165,
          0.012990776059092697,
          0.01311337234524083,
          0.01323649506079728,
          0.013360149671843695,
          0.013484341308533971,
          0.013609074762591699,
          0.013734354484963948,
          0.01386018458348373,
          0.013986568820393463,
          0.014113510609582876,
          0.014241013013396683,
          0.014369078738871412,
          0.014497710133264112,
          0.014626909178742197,
          0.014756677486109416,
          0.014887016287450783,
          0.015017926427587607,
          0.015149408354243303,
          0.015281462106830505,
          0.015414087303781436,
          0.015547283128354811,
          0.015681048312865185,
          0.015815381121293385,
          0.015950279330250314,
          0.016085740208280144,
          0.016221760493503004,
          0.016358336369612054,
          0.01649546344025399,
          0.01663313670183695,
          0.01677135051482432,
          0.01691009857358745,
          0.017049373874904555,
          0.01718916868520703,
          0.017329474506687943,
          0.017470282042400868,
          0.0176115811604892,
          0.017753360857698422,
          0.017895609222334824,
          0.018038313396844356,
          0.01818145954019493,
          0.018325032790253926,
          0.01846901722636029,
          0.018613395832296698,
          0.018758150459873384,
          0.018903261793338316,
          0.019048709314832685,
          0.019194471271111454,
          0.019340524641749915,
          0.019486845109056194,
          0.019633407029908127,
          0.01978018340972907,
          0.019927145878813772,
          0.020074264671208587,
          0.02022150860634472,
          0.02036884507361402,
          0.020516240020068355,
          0.0206636579414129,
          0.020811061876452815,
          0.02095841340513976,
          0.02110567265035178,
          0.02125279828352614,
          0.02139974753424923,
          0.021546476203892155,
          0.02169293868336454,
          0.021839087975041777,
          0.02198487571890382,
          0.022130252222905752,
          0.022275166497582453,
          0.022419566294871348,
          0.022563398151118692,
          0.02270660743421696,
          0.022849138394802345,
          0.022990934221423193,
          0.023131937099572918,
          0.023272088274462883,
          0.02341132811739451,
          0.023549596195572915,
          0.023686831345189088,
          0.02382297174758242,
          0.023957955008280997,
          0.024091718238704662,
          0.02422419814030195,
          0.024355331090882466,
          0.024485053232894353,
          0.02461330056338857,
          0.024740009025403017,
          0.02486511460049305,
          0.02498855340212907,
          0.0251102617696784,
          0.025230176362684705,
          0.025348234255156758,
          0.025464373029579112,
          0.025578530870355914,
          0.025690646656403734,
          0.025800660052611318,
          0.025908511599888755,
          0.026014142803536144,
          0.026117496219666806,
          0.02621851553943038,
          0.0263171456707894,
          0.02641333281761361,
          0.0265070245558683,
          0.02659816990668473,
          0.026686719406114192,
          0.02677262517138159,
          0.026855840963468616,
          0.0269363222458725,
          0.027014026239402557,
          0.027088911972891854,
          0.027160940329720114,
          0.027230074090059442,
          0.0272962779687725,
          0.027359518648910498,
          0.027419764810775377,
          0.027476987156527976,
          0.027531158430342005,
          0.027582253434119807,
          0.027630249038803536,
          0.02767512419133108,
          0.027716859917302626,
          0.027755439319438642,
          0.02779084757192551,
          0.027823071910758203,
          0.02785210162020415,
          0.027877928015523728,
          0.02790054442209541,
          0.02791994615110423,
          0.02793613047196246,
          0.02794909658163954,
          0.02795884557108748,
          0.02796538038895418,
          0.027968705802782795,
          0.027968828357901102,
          0.027965756334207566,
          0.02795949970106454,
          0.027950070070509432,
          0.027937480648997114,
          0.027921746187884487,
          0.027902882932868033,
          0.02788090857258246,
          0.027855842186565144,
          0.02782770419278625,
          0.02779651629494052,
          0.027762301429689648,
          0.027725083714037698,
          0.027684888393014702,
          0.02764174178783537,
          0.02759567124469087,
          0.02754670508432223,
          0.027494872552514975,
          0.027440203771642458,
          0.02738272969337703,
          0.027322482052675436,
          0.027259493323134598,
          0.02719379667380238,
          0.027125425927516517,
          0.027054415520833486,
          0.026980800465597702,
          0.026904616312190127,
          0.026825899114484245,
          0.02674468539652634,
          0.026661012120946695,
          0.02657491665909758,
          0.02648643676290446,
          0.026395610538407,
          0.026302476420957732,
          0.026207073152037713,
          0.026109439757640122,
          0.02600961552816681,
          0.025907639999773927,
          0.025803552937099027,
          0.02569739431729486,
          0.025589204315291592,
          0.025479023290204114,
          0.025366891772798918,
          0.025252850453931528,
          0.025136940173863642,
          0.025019201912368685,
          0.024899676779532788,
          0.024778406007159515,
          0.02465543094068632,
          0.024530793031522884,
          0.024404533829723365,
          0.024276694976906713,
          0.02414731819934294,
          0.024016445301126295,
          0.023884118157360957,
          0.02375037870728839,
          0.02361526894729175,
          0.02347883092371662,
          0.02334110672545392,
          0.023202138476235604,
          0.023061968326601005,
          0.022920638445496126,
          0.022778191011476233,
          0.022634668203486977,
          0.022490112191206148,
          0.02234456512493452,
          0.02219806912503018,
          0.02205066627088687,
          0.021902398589462805,
          0.02175330804337237,
          0.0216034365185576,
          0.021452825811563256,
          0.021301517616442046,
          0.021149553511322916,
          0.020996974944678417,
          0.02084382322133105,
          0.02069013948824233,
          0.020535964720130577,
          0.020381339704966257,
          0.020226305029395646,
          0.020070901064145063,
          0.019915167949458867,
          0.01975914558062527,
          0.019602873593643724,
          0.0194463913510877,
          0.01928973792821536,
          0.01913295209937981,
          0.0189760723247886,
          0.018819136737659958,
          0.018662183131821237,
          0.01850524894979114,
          0.018348371271385198,
          0.018191586802879595,
          0.01803493186676471,
          0.017878442392115956,
          0.017722153905604544,
          0.01756610152316708,
          0.01741031994234701,
          0.017254843435317593,
          0.017099705842589363,
          0.01694494056740201,
          0.016790580570793866,
          0.01663665836733832,
          0.01648320602153138,
          0.01633025514480907,
          0.016177836893170067,
          0.01602598196537282,
          0.015874720601673418,
          0.015724082583065575,
          0.0155740972309807,
          0.015424793407402127,
          0.015276199515344589,
          0.015128343499646927,
          0.014981252848023815,
          0.014834954592319325,
          0.014689475309904448,
          0.014544841125158324,
          0.014401077710972378,
          0.01425821029021618,
          0.014116263637103194,
          0.013975262078395431,
          0.013835229494386238,
          0.013696189319602139,
          0.013558164543165538,
          0.01342117770876304,
          0.013285250914165134,
          0.013150405810247618,
          0.013016663599466235,
          0.012884045033741189,
          0.012752570411711208,
          0.012622259575320928,
          0.012493131905710407,
          0.012365206318379472,
          0.012238501257605354,
          0.012113034690096627,
          0.011988824097872084,
          0.011865886470358517,
          0.011744238295707267,
          0.011623895551334426,
          0.011504873693696294,
          0.01138718764731646,
          0.011270851793087169,
          0.011155879955873381,
          0.011042285391453074,
          0.010930080772833407,
          0.010819278175987195,
          0.010709889065059795,
          0.010601924277101054,
          0.010495394006382107,
          0.0103903077883609,
          0.010286674483364951,
          0.010184502260063212,
          0.010083798578803049,
          0.009984570174891032,
          0.009886823041899286,
          0.009790562415081716,
          0.009695792754985959,
          0.009602517731349269,
          0.009510740207366773,
          0.009420462224422273,
          0.009331684987371114,
          0.009244408850465145,
          0.00915863330400888,
          0.009074356961834847,
          0.008991577549684817,
          0.008910291894581233,
          0.008830495915271411,
          0.008752184613823313,
          0.008675352068449386,
          0.008599991427630594,
          0.008526094905609065,
          0.008453653779313203,
          0.008382658386774516,
          0.008313098127089963,
          0.008244961461978577,
          0.008178235918975216,
          0.008112908096298312,
          0.008048963669422395,
          0.00798638739937977,
          0.007925163142809019,
          0.007865273863761466,
          0.007806701647269882,
          0.007749427714676643,
          0.0076934324407119,
          0.007638695372305067,
          0.007585195249106248,
          0.007532910025687139,
          0.007481816895384232,
          0.007431892315740552,
          0.007383112035495391,
          0.007335451123065455,
          0.007288883996454435,
          0.00724338445452236,
          0.007198925709540274,
          0.007155480420950629,
          0.007113020730248725,
          0.007071518296895877,
          0.007030944335170823,
          0.006991269651861958,
          0.006952464684699573,
          0.006914499541424274,
          0.0068773440393852855,
          0.006840967745560046,
          0.006805340016885262,
          0.006770430040788104,
          0.006736206875805878,
          0.006702639492182196,
          0.0066696968123282725,
          0.0066373477510385795,
          0.0066055612553516906,
          0.006574306343948883,
          0.006543552145985508,
          0.006513267939252823,
          0.006483423187571361,
          0.006453987577320647,
          0.006424931053013988,
          0.006396223851831958,
          0.006367836537032703,
          0.006339740030162822,
          0.00631190564199791,
          0.0062843051021478176,
          0.006256910587268,
          0.006229694747824327,
          0.0062026307333658045,
          0.006175692216265982,
          0.006148853413900953,
          0.0061220891092388825,
          0.0060953746698226485,
          0.006068686065134852,
          0.00604199988234088,
          0.006015293340413152,
          0.005988544302646209,
          0.005961731287579442,
          0.005934833478350396,
          0.005907830730508477,
          0.0058807035783245325,
          0.005853433239638192,
          0.0058260016192898745,
          0.005798391311190171,
          0.00577058559908376,
          0.00574256845606989,
          0.005714324542945162,
          0.005685839205438567,
          0.0056570984704113324,
          0.005628089041097544,
          0.005598798291463157,
          0.005569214259763496,
          0.0055393256413799686,
          0.005509121781018199,
          0.0054785926643495225,
          0.005447728909178092,
          0.005416521756214771,
          0.005384963059538219,
          0.005353045276821555,
          0.005320761459401306,
          0.0052881052422624145,
          0.00525507083401052,
          0.00522165300689895,
          0.00518784708697461,
          0.005153648944402297,
          0.0051190549840231594,
          0.005084062136197727,
          0.005048667847979517,
          0.005012870074659439,
          0.004976667271716467,
          0.0049400583872038625,
          0.0049030428545950855,
          0.004865620586107374,
          0.004827791966515475,
          0.004789557847461908,
          0.0047509195422647,
          0.004711878821217405,
          0.004672437907371057,
          0.004632599472781764,
          0.004592366635202851,
          0.004551742955194853,
          0.0045107324336223,
          0.004469339509501234,
          0.00442756905815748,
          0.004385426389651424,
          0.004342917247421706,
          0.004300047807096819,
          0.004256824675420889,
          0.004213254889237377,
          0.004169345914472535,
          0.004125105645058755,
          0.004080542401736934,
          0.0040356649306761225,
          0.003990482401848759,
          0.003945004407099549,
          0.0038992409578472746,
          0.0038532024823593513,
          0.0038068998225408443,
          0.0037603442301814647,
          0.0037135473626063575,
          0.0036665212776793624,
          0.0036192784281103593,
          0.0035718316550219344,
          0.0035241941807342037,
          0.0034763796007308903,
          0.00342840187477387,
          0.0033802753171382587,
          0.0033320145859446282,
          0.003283634671570208,
          0.0032351508841258546,
          0.0031865788399909243,
          0.0031379344474035957,
          0.0030892338911094187
         ],
         "yaxis": "y"
        }
       ],
       "layout": {
        "barmode": "overlay",
        "font": {
         "size": 18
        },
        "hovermode": "closest",
        "legend": {
         "traceorder": "reversed"
        },
        "plot_bgcolor": "#F5F5F8",
        "template": {
         "data": {
          "bar": [
           {
            "error_x": {
             "color": "#2a3f5f"
            },
            "error_y": {
             "color": "#2a3f5f"
            },
            "marker": {
             "line": {
              "color": "#E5ECF6",
              "width": 0.5
             },
             "pattern": {
              "fillmode": "overlay",
              "size": 10,
              "solidity": 0.2
             }
            },
            "type": "bar"
           }
          ],
          "barpolar": [
           {
            "marker": {
             "line": {
              "color": "#E5ECF6",
              "width": 0.5
             },
             "pattern": {
              "fillmode": "overlay",
              "size": 10,
              "solidity": 0.2
             }
            },
            "type": "barpolar"
           }
          ],
          "carpet": [
           {
            "aaxis": {
             "endlinecolor": "#2a3f5f",
             "gridcolor": "white",
             "linecolor": "white",
             "minorgridcolor": "white",
             "startlinecolor": "#2a3f5f"
            },
            "baxis": {
             "endlinecolor": "#2a3f5f",
             "gridcolor": "white",
             "linecolor": "white",
             "minorgridcolor": "white",
             "startlinecolor": "#2a3f5f"
            },
            "type": "carpet"
           }
          ],
          "choropleth": [
           {
            "colorbar": {
             "outlinewidth": 0,
             "ticks": ""
            },
            "type": "choropleth"
           }
          ],
          "contour": [
           {
            "colorbar": {
             "outlinewidth": 0,
             "ticks": ""
            },
            "colorscale": [
             [
              0,
              "#0d0887"
             ],
             [
              0.1111111111111111,
              "#46039f"
             ],
             [
              0.2222222222222222,
              "#7201a8"
             ],
             [
              0.3333333333333333,
              "#9c179e"
             ],
             [
              0.4444444444444444,
              "#bd3786"
             ],
             [
              0.5555555555555556,
              "#d8576b"
             ],
             [
              0.6666666666666666,
              "#ed7953"
             ],
             [
              0.7777777777777778,
              "#fb9f3a"
             ],
             [
              0.8888888888888888,
              "#fdca26"
             ],
             [
              1,
              "#f0f921"
             ]
            ],
            "type": "contour"
           }
          ],
          "contourcarpet": [
           {
            "colorbar": {
             "outlinewidth": 0,
             "ticks": ""
            },
            "type": "contourcarpet"
           }
          ],
          "heatmap": [
           {
            "colorbar": {
             "outlinewidth": 0,
             "ticks": ""
            },
            "colorscale": [
             [
              0,
              "#0d0887"
             ],
             [
              0.1111111111111111,
              "#46039f"
             ],
             [
              0.2222222222222222,
              "#7201a8"
             ],
             [
              0.3333333333333333,
              "#9c179e"
             ],
             [
              0.4444444444444444,
              "#bd3786"
             ],
             [
              0.5555555555555556,
              "#d8576b"
             ],
             [
              0.6666666666666666,
              "#ed7953"
             ],
             [
              0.7777777777777778,
              "#fb9f3a"
             ],
             [
              0.8888888888888888,
              "#fdca26"
             ],
             [
              1,
              "#f0f921"
             ]
            ],
            "type": "heatmap"
           }
          ],
          "heatmapgl": [
           {
            "colorbar": {
             "outlinewidth": 0,
             "ticks": ""
            },
            "colorscale": [
             [
              0,
              "#0d0887"
             ],
             [
              0.1111111111111111,
              "#46039f"
             ],
             [
              0.2222222222222222,
              "#7201a8"
             ],
             [
              0.3333333333333333,
              "#9c179e"
             ],
             [
              0.4444444444444444,
              "#bd3786"
             ],
             [
              0.5555555555555556,
              "#d8576b"
             ],
             [
              0.6666666666666666,
              "#ed7953"
             ],
             [
              0.7777777777777778,
              "#fb9f3a"
             ],
             [
              0.8888888888888888,
              "#fdca26"
             ],
             [
              1,
              "#f0f921"
             ]
            ],
            "type": "heatmapgl"
           }
          ],
          "histogram": [
           {
            "marker": {
             "pattern": {
              "fillmode": "overlay",
              "size": 10,
              "solidity": 0.2
             }
            },
            "type": "histogram"
           }
          ],
          "histogram2d": [
           {
            "colorbar": {
             "outlinewidth": 0,
             "ticks": ""
            },
            "colorscale": [
             [
              0,
              "#0d0887"
             ],
             [
              0.1111111111111111,
              "#46039f"
             ],
             [
              0.2222222222222222,
              "#7201a8"
             ],
             [
              0.3333333333333333,
              "#9c179e"
             ],
             [
              0.4444444444444444,
              "#bd3786"
             ],
             [
              0.5555555555555556,
              "#d8576b"
             ],
             [
              0.6666666666666666,
              "#ed7953"
             ],
             [
              0.7777777777777778,
              "#fb9f3a"
             ],
             [
              0.8888888888888888,
              "#fdca26"
             ],
             [
              1,
              "#f0f921"
             ]
            ],
            "type": "histogram2d"
           }
          ],
          "histogram2dcontour": [
           {
            "colorbar": {
             "outlinewidth": 0,
             "ticks": ""
            },
            "colorscale": [
             [
              0,
              "#0d0887"
             ],
             [
              0.1111111111111111,
              "#46039f"
             ],
             [
              0.2222222222222222,
              "#7201a8"
             ],
             [
              0.3333333333333333,
              "#9c179e"
             ],
             [
              0.4444444444444444,
              "#bd3786"
             ],
             [
              0.5555555555555556,
              "#d8576b"
             ],
             [
              0.6666666666666666,
              "#ed7953"
             ],
             [
              0.7777777777777778,
              "#fb9f3a"
             ],
             [
              0.8888888888888888,
              "#fdca26"
             ],
             [
              1,
              "#f0f921"
             ]
            ],
            "type": "histogram2dcontour"
           }
          ],
          "mesh3d": [
           {
            "colorbar": {
             "outlinewidth": 0,
             "ticks": ""
            },
            "type": "mesh3d"
           }
          ],
          "parcoords": [
           {
            "line": {
             "colorbar": {
              "outlinewidth": 0,
              "ticks": ""
             }
            },
            "type": "parcoords"
           }
          ],
          "pie": [
           {
            "automargin": true,
            "type": "pie"
           }
          ],
          "scatter": [
           {
            "fillpattern": {
             "fillmode": "overlay",
             "size": 10,
             "solidity": 0.2
            },
            "type": "scatter"
           }
          ],
          "scatter3d": [
           {
            "line": {
             "colorbar": {
              "outlinewidth": 0,
              "ticks": ""
             }
            },
            "marker": {
             "colorbar": {
              "outlinewidth": 0,
              "ticks": ""
             }
            },
            "type": "scatter3d"
           }
          ],
          "scattercarpet": [
           {
            "marker": {
             "colorbar": {
              "outlinewidth": 0,
              "ticks": ""
             }
            },
            "type": "scattercarpet"
           }
          ],
          "scattergeo": [
           {
            "marker": {
             "colorbar": {
              "outlinewidth": 0,
              "ticks": ""
             }
            },
            "type": "scattergeo"
           }
          ],
          "scattergl": [
           {
            "marker": {
             "colorbar": {
              "outlinewidth": 0,
              "ticks": ""
             }
            },
            "type": "scattergl"
           }
          ],
          "scattermapbox": [
           {
            "marker": {
             "colorbar": {
              "outlinewidth": 0,
              "ticks": ""
             }
            },
            "type": "scattermapbox"
           }
          ],
          "scatterpolar": [
           {
            "marker": {
             "colorbar": {
              "outlinewidth": 0,
              "ticks": ""
             }
            },
            "type": "scatterpolar"
           }
          ],
          "scatterpolargl": [
           {
            "marker": {
             "colorbar": {
              "outlinewidth": 0,
              "ticks": ""
             }
            },
            "type": "scatterpolargl"
           }
          ],
          "scatterternary": [
           {
            "marker": {
             "colorbar": {
              "outlinewidth": 0,
              "ticks": ""
             }
            },
            "type": "scatterternary"
           }
          ],
          "surface": [
           {
            "colorbar": {
             "outlinewidth": 0,
             "ticks": ""
            },
            "colorscale": [
             [
              0,
              "#0d0887"
             ],
             [
              0.1111111111111111,
              "#46039f"
             ],
             [
              0.2222222222222222,
              "#7201a8"
             ],
             [
              0.3333333333333333,
              "#9c179e"
             ],
             [
              0.4444444444444444,
              "#bd3786"
             ],
             [
              0.5555555555555556,
              "#d8576b"
             ],
             [
              0.6666666666666666,
              "#ed7953"
             ],
             [
              0.7777777777777778,
              "#fb9f3a"
             ],
             [
              0.8888888888888888,
              "#fdca26"
             ],
             [
              1,
              "#f0f921"
             ]
            ],
            "type": "surface"
           }
          ],
          "table": [
           {
            "cells": {
             "fill": {
              "color": "#EBF0F8"
             },
             "line": {
              "color": "white"
             }
            },
            "header": {
             "fill": {
              "color": "#C8D4E3"
             },
             "line": {
              "color": "white"
             }
            },
            "type": "table"
           }
          ]
         },
         "layout": {
          "annotationdefaults": {
           "arrowcolor": "#2a3f5f",
           "arrowhead": 0,
           "arrowwidth": 1
          },
          "autotypenumbers": "strict",
          "coloraxis": {
           "colorbar": {
            "outlinewidth": 0,
            "ticks": ""
           }
          },
          "colorscale": {
           "diverging": [
            [
             0,
             "#8e0152"
            ],
            [
             0.1,
             "#c51b7d"
            ],
            [
             0.2,
             "#de77ae"
            ],
            [
             0.3,
             "#f1b6da"
            ],
            [
             0.4,
             "#fde0ef"
            ],
            [
             0.5,
             "#f7f7f7"
            ],
            [
             0.6,
             "#e6f5d0"
            ],
            [
             0.7,
             "#b8e186"
            ],
            [
             0.8,
             "#7fbc41"
            ],
            [
             0.9,
             "#4d9221"
            ],
            [
             1,
             "#276419"
            ]
           ],
           "sequential": [
            [
             0,
             "#0d0887"
            ],
            [
             0.1111111111111111,
             "#46039f"
            ],
            [
             0.2222222222222222,
             "#7201a8"
            ],
            [
             0.3333333333333333,
             "#9c179e"
            ],
            [
             0.4444444444444444,
             "#bd3786"
            ],
            [
             0.5555555555555556,
             "#d8576b"
            ],
            [
             0.6666666666666666,
             "#ed7953"
            ],
            [
             0.7777777777777778,
             "#fb9f3a"
            ],
            [
             0.8888888888888888,
             "#fdca26"
            ],
            [
             1,
             "#f0f921"
            ]
           ],
           "sequentialminus": [
            [
             0,
             "#0d0887"
            ],
            [
             0.1111111111111111,
             "#46039f"
            ],
            [
             0.2222222222222222,
             "#7201a8"
            ],
            [
             0.3333333333333333,
             "#9c179e"
            ],
            [
             0.4444444444444444,
             "#bd3786"
            ],
            [
             0.5555555555555556,
             "#d8576b"
            ],
            [
             0.6666666666666666,
             "#ed7953"
            ],
            [
             0.7777777777777778,
             "#fb9f3a"
            ],
            [
             0.8888888888888888,
             "#fdca26"
            ],
            [
             1,
             "#f0f921"
            ]
           ]
          },
          "colorway": [
           "#636efa",
           "#EF553B",
           "#00cc96",
           "#ab63fa",
           "#FFA15A",
           "#19d3f3",
           "#FF6692",
           "#B6E880",
           "#FF97FF",
           "#FECB52"
          ],
          "font": {
           "color": "#2a3f5f"
          },
          "geo": {
           "bgcolor": "white",
           "lakecolor": "white",
           "landcolor": "#E5ECF6",
           "showlakes": true,
           "showland": true,
           "subunitcolor": "white"
          },
          "hoverlabel": {
           "align": "left"
          },
          "hovermode": "closest",
          "mapbox": {
           "style": "light"
          },
          "paper_bgcolor": "white",
          "plot_bgcolor": "#E5ECF6",
          "polar": {
           "angularaxis": {
            "gridcolor": "white",
            "linecolor": "white",
            "ticks": ""
           },
           "bgcolor": "#E5ECF6",
           "radialaxis": {
            "gridcolor": "white",
            "linecolor": "white",
            "ticks": ""
           }
          },
          "scene": {
           "xaxis": {
            "backgroundcolor": "#E5ECF6",
            "gridcolor": "white",
            "gridwidth": 2,
            "linecolor": "white",
            "showbackground": true,
            "ticks": "",
            "zerolinecolor": "white"
           },
           "yaxis": {
            "backgroundcolor": "#E5ECF6",
            "gridcolor": "white",
            "gridwidth": 2,
            "linecolor": "white",
            "showbackground": true,
            "ticks": "",
            "zerolinecolor": "white"
           },
           "zaxis": {
            "backgroundcolor": "#E5ECF6",
            "gridcolor": "white",
            "gridwidth": 2,
            "linecolor": "white",
            "showbackground": true,
            "ticks": "",
            "zerolinecolor": "white"
           }
          },
          "shapedefaults": {
           "line": {
            "color": "#2a3f5f"
           }
          },
          "ternary": {
           "aaxis": {
            "gridcolor": "white",
            "linecolor": "white",
            "ticks": ""
           },
           "baxis": {
            "gridcolor": "white",
            "linecolor": "white",
            "ticks": ""
           },
           "bgcolor": "#E5ECF6",
           "caxis": {
            "gridcolor": "white",
            "linecolor": "white",
            "ticks": ""
           }
          },
          "title": {
           "x": 0.05
          },
          "xaxis": {
           "automargin": true,
           "gridcolor": "white",
           "linecolor": "white",
           "ticks": "",
           "title": {
            "standoff": 15
           },
           "zerolinecolor": "white",
           "zerolinewidth": 2
          },
          "yaxis": {
           "automargin": true,
           "gridcolor": "white",
           "linecolor": "white",
           "ticks": "",
           "title": {
            "standoff": 15
           },
           "zerolinecolor": "white",
           "zerolinewidth": 2
          }
         }
        },
        "title": {
         "text": "Real vs. Synthetic Data for column 'Age'"
        },
        "xaxis": {
         "anchor": "y2",
         "domain": [
          0,
          1
         ],
         "title": {
          "text": "Value"
         },
         "zeroline": false
        },
        "yaxis": {
         "anchor": "free",
         "domain": [
          0,
          1
         ],
         "position": 0,
         "title": {
          "text": "Frequency"
         }
        }
       }
      }
     },
     "metadata": {},
     "output_type": "display_data"
    },
    {
     "data": {
      "application/vnd.plotly.v1+json": {
       "config": {
        "plotlyServerURL": "https://plot.ly"
       },
       "data": [
        {
         "alignmentgroup": "True",
         "bingroup": "x",
         "histnorm": "probability density",
         "hovertemplate": "<b>Real</b><br>Frequency: %{y}<extra></extra>",
         "legendgroup": "Real",
         "marker": {
          "color": "#000036",
          "pattern": {
           "shape": ""
          }
         },
         "name": "Real",
         "offsetgroup": "Real",
         "orientation": "v",
         "showlegend": true,
         "type": "histogram",
         "x": [
          "State-gov",
          "Self-emp-not-inc",
          "Private",
          "Private",
          "Private",
          "Private",
          "Private",
          "Self-emp-not-inc",
          "Private",
          "Private",
          "Private",
          "State-gov",
          "Private",
          "Private",
          "Private",
          "Private",
          "Self-emp-not-inc",
          "Private",
          "Private",
          "Self-emp-not-inc",
          "Private",
          "Private",
          "Federal-gov",
          "Private",
          "Private",
          "Local-gov",
          "Private",
          "?",
          "Private",
          "Private",
          "Local-gov",
          "Private",
          "Private",
          "Federal-gov",
          "State-gov",
          "Private",
          "Private",
          "Private",
          "Private",
          "Self-emp-not-inc",
          "Private",
          "Self-emp-not-inc",
          "Private",
          "Private",
          "Private",
          "Federal-gov",
          "Private",
          "Private",
          "State-gov",
          "Private",
          "Private",
          "Private",
          "Private",
          "Federal-gov",
          "Self-emp-inc",
          "Private",
          "Private",
          "Private",
          "Private",
          "Private",
          "Private",
          "?",
          "Private",
          "Private",
          "Private",
          "Private",
          "Private",
          "Private",
          "Self-emp-inc",
          "?",
          "Private",
          "Private",
          "Self-emp-not-inc",
          "Private",
          "Private",
          "Private",
          "Private",
          "?",
          "Private",
          "Local-gov",
          "Private",
          "Private",
          "Private",
          "Private",
          "Private",
          "Private",
          "Local-gov",
          "Private",
          "Private",
          "Federal-gov",
          "Private",
          "Private",
          "Private",
          "Private",
          "Local-gov",
          "Local-gov",
          "Self-emp-not-inc",
          "Private",
          "Private",
          "Federal-gov",
          "Private",
          "Private",
          "Self-emp-not-inc",
          "Private",
          "Private",
          "Self-emp-inc",
          "?",
          "Private",
          "Local-gov",
          "Private",
          "Private",
          "Private",
          "Self-emp-not-inc",
          "Private",
          "Private",
          "Private",
          "Self-emp-inc",
          "Local-gov",
          "Private",
          "Private",
          "Private",
          "Private",
          "Private",
          "State-gov",
          "Private",
          "Private",
          "Private",
          "Private",
          "?",
          "Private",
          "Private",
          "Private",
          "Self-emp-not-inc",
          "Private",
          "Private",
          "Federal-gov",
          "Self-emp-not-inc",
          "Private",
          "Private",
          "Private",
          "Self-emp-inc",
          "Private",
          "Private",
          "Private",
          "Private",
          "Private",
          "Private",
          "Private",
          "Private",
          "?",
          "Local-gov",
          "Private",
          "Private",
          "Private",
          "?",
          "Private",
          "Private",
          "Self-emp-not-inc",
          "Private",
          "Private",
          "?",
          "Private",
          "Self-emp-inc",
          "Private",
          "Self-emp-not-inc",
          "Private",
          "Federal-gov",
          "State-gov",
          "Private",
          "Local-gov",
          "Private",
          "State-gov",
          "Private",
          "Private",
          "State-gov",
          "Private",
          "Private",
          "Private",
          "Private",
          "Private",
          "Local-gov",
          "Private",
          "Private",
          "Private",
          "Federal-gov",
          "Private",
          "Self-emp-not-inc",
          "?",
          "Private",
          "State-gov",
          "Private",
          "Private",
          "Local-gov",
          "Private",
          "Federal-gov",
          "Private",
          "Private",
          "Federal-gov",
          "Private",
          "Self-emp-not-inc"
         ],
         "xaxis": "x",
         "yaxis": "y"
        },
        {
         "alignmentgroup": "True",
         "bingroup": "x",
         "histnorm": "probability density",
         "hovertemplate": "<b>Synthetic</b><br>Frequency: %{y}<extra></extra>",
         "legendgroup": "Synthetic",
         "marker": {
          "color": "#01E0C9",
          "pattern": {
           "shape": "/"
          }
         },
         "name": "Synthetic",
         "offsetgroup": "Synthetic",
         "orientation": "v",
         "showlegend": true,
         "type": "histogram",
         "x": [
          "State-gov",
          "Private",
          "State-gov",
          "State-gov",
          "State-gov",
          "Federal-gov",
          "State-gov",
          "Local-gov",
          "Private",
          "Self-emp-not-inc",
          "State-gov",
          "State-gov",
          "State-gov",
          "Federal-gov",
          "State-gov",
          "Private",
          "State-gov",
          "Federal-gov",
          "Federal-gov",
          "Self-emp-not-inc",
          "State-gov",
          "Local-gov",
          "Private",
          "State-gov",
          "State-gov",
          "State-gov",
          "Self-emp-not-inc",
          "Private",
          "Self-emp-not-inc",
          "State-gov",
          "Self-emp-not-inc",
          "State-gov",
          "State-gov",
          "State-gov",
          "Self-emp-not-inc",
          "Self-emp-inc",
          "State-gov",
          "Private",
          "State-gov",
          "State-gov",
          "Private",
          "?",
          "State-gov",
          "Private",
          "State-gov",
          "?",
          "Self-emp-not-inc",
          "Federal-gov",
          "Self-emp-not-inc",
          "Self-emp-not-inc",
          "Federal-gov",
          "Self-emp-not-inc",
          "State-gov",
          "Private",
          "Self-emp-not-inc",
          "Private",
          "Private",
          "State-gov",
          "Self-emp-not-inc",
          "State-gov",
          "Self-emp-not-inc",
          "Federal-gov",
          "State-gov",
          "State-gov",
          "State-gov",
          "State-gov",
          "Self-emp-not-inc",
          "Self-emp-not-inc",
          "State-gov",
          "Self-emp-not-inc",
          "Self-emp-not-inc",
          "Federal-gov",
          "State-gov",
          "Private",
          "State-gov",
          "State-gov",
          "Self-emp-not-inc",
          "State-gov",
          "Self-emp-not-inc",
          "?",
          "State-gov",
          "Federal-gov",
          "Private",
          "State-gov",
          "Federal-gov",
          "State-gov",
          "State-gov",
          "State-gov",
          "?",
          "State-gov",
          "State-gov",
          "Self-emp-not-inc",
          "Private",
          "Self-emp-inc",
          "State-gov",
          "Private",
          "State-gov",
          "State-gov",
          "State-gov",
          "Self-emp-not-inc"
         ],
         "xaxis": "x",
         "yaxis": "y"
        }
       ],
       "layout": {
        "barmode": "group",
        "font": {
         "size": 18
        },
        "legend": {
         "title": {
          "text": "Data"
         },
         "tracegroupgap": 0
        },
        "margin": {
         "t": 60
        },
        "plot_bgcolor": "#F5F5F8",
        "template": {
         "data": {
          "bar": [
           {
            "error_x": {
             "color": "#2a3f5f"
            },
            "error_y": {
             "color": "#2a3f5f"
            },
            "marker": {
             "line": {
              "color": "#E5ECF6",
              "width": 0.5
             },
             "pattern": {
              "fillmode": "overlay",
              "size": 10,
              "solidity": 0.2
             }
            },
            "type": "bar"
           }
          ],
          "barpolar": [
           {
            "marker": {
             "line": {
              "color": "#E5ECF6",
              "width": 0.5
             },
             "pattern": {
              "fillmode": "overlay",
              "size": 10,
              "solidity": 0.2
             }
            },
            "type": "barpolar"
           }
          ],
          "carpet": [
           {
            "aaxis": {
             "endlinecolor": "#2a3f5f",
             "gridcolor": "white",
             "linecolor": "white",
             "minorgridcolor": "white",
             "startlinecolor": "#2a3f5f"
            },
            "baxis": {
             "endlinecolor": "#2a3f5f",
             "gridcolor": "white",
             "linecolor": "white",
             "minorgridcolor": "white",
             "startlinecolor": "#2a3f5f"
            },
            "type": "carpet"
           }
          ],
          "choropleth": [
           {
            "colorbar": {
             "outlinewidth": 0,
             "ticks": ""
            },
            "type": "choropleth"
           }
          ],
          "contour": [
           {
            "colorbar": {
             "outlinewidth": 0,
             "ticks": ""
            },
            "colorscale": [
             [
              0,
              "#0d0887"
             ],
             [
              0.1111111111111111,
              "#46039f"
             ],
             [
              0.2222222222222222,
              "#7201a8"
             ],
             [
              0.3333333333333333,
              "#9c179e"
             ],
             [
              0.4444444444444444,
              "#bd3786"
             ],
             [
              0.5555555555555556,
              "#d8576b"
             ],
             [
              0.6666666666666666,
              "#ed7953"
             ],
             [
              0.7777777777777778,
              "#fb9f3a"
             ],
             [
              0.8888888888888888,
              "#fdca26"
             ],
             [
              1,
              "#f0f921"
             ]
            ],
            "type": "contour"
           }
          ],
          "contourcarpet": [
           {
            "colorbar": {
             "outlinewidth": 0,
             "ticks": ""
            },
            "type": "contourcarpet"
           }
          ],
          "heatmap": [
           {
            "colorbar": {
             "outlinewidth": 0,
             "ticks": ""
            },
            "colorscale": [
             [
              0,
              "#0d0887"
             ],
             [
              0.1111111111111111,
              "#46039f"
             ],
             [
              0.2222222222222222,
              "#7201a8"
             ],
             [
              0.3333333333333333,
              "#9c179e"
             ],
             [
              0.4444444444444444,
              "#bd3786"
             ],
             [
              0.5555555555555556,
              "#d8576b"
             ],
             [
              0.6666666666666666,
              "#ed7953"
             ],
             [
              0.7777777777777778,
              "#fb9f3a"
             ],
             [
              0.8888888888888888,
              "#fdca26"
             ],
             [
              1,
              "#f0f921"
             ]
            ],
            "type": "heatmap"
           }
          ],
          "heatmapgl": [
           {
            "colorbar": {
             "outlinewidth": 0,
             "ticks": ""
            },
            "colorscale": [
             [
              0,
              "#0d0887"
             ],
             [
              0.1111111111111111,
              "#46039f"
             ],
             [
              0.2222222222222222,
              "#7201a8"
             ],
             [
              0.3333333333333333,
              "#9c179e"
             ],
             [
              0.4444444444444444,
              "#bd3786"
             ],
             [
              0.5555555555555556,
              "#d8576b"
             ],
             [
              0.6666666666666666,
              "#ed7953"
             ],
             [
              0.7777777777777778,
              "#fb9f3a"
             ],
             [
              0.8888888888888888,
              "#fdca26"
             ],
             [
              1,
              "#f0f921"
             ]
            ],
            "type": "heatmapgl"
           }
          ],
          "histogram": [
           {
            "marker": {
             "pattern": {
              "fillmode": "overlay",
              "size": 10,
              "solidity": 0.2
             }
            },
            "type": "histogram"
           }
          ],
          "histogram2d": [
           {
            "colorbar": {
             "outlinewidth": 0,
             "ticks": ""
            },
            "colorscale": [
             [
              0,
              "#0d0887"
             ],
             [
              0.1111111111111111,
              "#46039f"
             ],
             [
              0.2222222222222222,
              "#7201a8"
             ],
             [
              0.3333333333333333,
              "#9c179e"
             ],
             [
              0.4444444444444444,
              "#bd3786"
             ],
             [
              0.5555555555555556,
              "#d8576b"
             ],
             [
              0.6666666666666666,
              "#ed7953"
             ],
             [
              0.7777777777777778,
              "#fb9f3a"
             ],
             [
              0.8888888888888888,
              "#fdca26"
             ],
             [
              1,
              "#f0f921"
             ]
            ],
            "type": "histogram2d"
           }
          ],
          "histogram2dcontour": [
           {
            "colorbar": {
             "outlinewidth": 0,
             "ticks": ""
            },
            "colorscale": [
             [
              0,
              "#0d0887"
             ],
             [
              0.1111111111111111,
              "#46039f"
             ],
             [
              0.2222222222222222,
              "#7201a8"
             ],
             [
              0.3333333333333333,
              "#9c179e"
             ],
             [
              0.4444444444444444,
              "#bd3786"
             ],
             [
              0.5555555555555556,
              "#d8576b"
             ],
             [
              0.6666666666666666,
              "#ed7953"
             ],
             [
              0.7777777777777778,
              "#fb9f3a"
             ],
             [
              0.8888888888888888,
              "#fdca26"
             ],
             [
              1,
              "#f0f921"
             ]
            ],
            "type": "histogram2dcontour"
           }
          ],
          "mesh3d": [
           {
            "colorbar": {
             "outlinewidth": 0,
             "ticks": ""
            },
            "type": "mesh3d"
           }
          ],
          "parcoords": [
           {
            "line": {
             "colorbar": {
              "outlinewidth": 0,
              "ticks": ""
             }
            },
            "type": "parcoords"
           }
          ],
          "pie": [
           {
            "automargin": true,
            "type": "pie"
           }
          ],
          "scatter": [
           {
            "fillpattern": {
             "fillmode": "overlay",
             "size": 10,
             "solidity": 0.2
            },
            "type": "scatter"
           }
          ],
          "scatter3d": [
           {
            "line": {
             "colorbar": {
              "outlinewidth": 0,
              "ticks": ""
             }
            },
            "marker": {
             "colorbar": {
              "outlinewidth": 0,
              "ticks": ""
             }
            },
            "type": "scatter3d"
           }
          ],
          "scattercarpet": [
           {
            "marker": {
             "colorbar": {
              "outlinewidth": 0,
              "ticks": ""
             }
            },
            "type": "scattercarpet"
           }
          ],
          "scattergeo": [
           {
            "marker": {
             "colorbar": {
              "outlinewidth": 0,
              "ticks": ""
             }
            },
            "type": "scattergeo"
           }
          ],
          "scattergl": [
           {
            "marker": {
             "colorbar": {
              "outlinewidth": 0,
              "ticks": ""
             }
            },
            "type": "scattergl"
           }
          ],
          "scattermapbox": [
           {
            "marker": {
             "colorbar": {
              "outlinewidth": 0,
              "ticks": ""
             }
            },
            "type": "scattermapbox"
           }
          ],
          "scatterpolar": [
           {
            "marker": {
             "colorbar": {
              "outlinewidth": 0,
              "ticks": ""
             }
            },
            "type": "scatterpolar"
           }
          ],
          "scatterpolargl": [
           {
            "marker": {
             "colorbar": {
              "outlinewidth": 0,
              "ticks": ""
             }
            },
            "type": "scatterpolargl"
           }
          ],
          "scatterternary": [
           {
            "marker": {
             "colorbar": {
              "outlinewidth": 0,
              "ticks": ""
             }
            },
            "type": "scatterternary"
           }
          ],
          "surface": [
           {
            "colorbar": {
             "outlinewidth": 0,
             "ticks": ""
            },
            "colorscale": [
             [
              0,
              "#0d0887"
             ],
             [
              0.1111111111111111,
              "#46039f"
             ],
             [
              0.2222222222222222,
              "#7201a8"
             ],
             [
              0.3333333333333333,
              "#9c179e"
             ],
             [
              0.4444444444444444,
              "#bd3786"
             ],
             [
              0.5555555555555556,
              "#d8576b"
             ],
             [
              0.6666666666666666,
              "#ed7953"
             ],
             [
              0.7777777777777778,
              "#fb9f3a"
             ],
             [
              0.8888888888888888,
              "#fdca26"
             ],
             [
              1,
              "#f0f921"
             ]
            ],
            "type": "surface"
           }
          ],
          "table": [
           {
            "cells": {
             "fill": {
              "color": "#EBF0F8"
             },
             "line": {
              "color": "white"
             }
            },
            "header": {
             "fill": {
              "color": "#C8D4E3"
             },
             "line": {
              "color": "white"
             }
            },
            "type": "table"
           }
          ]
         },
         "layout": {
          "annotationdefaults": {
           "arrowcolor": "#2a3f5f",
           "arrowhead": 0,
           "arrowwidth": 1
          },
          "autotypenumbers": "strict",
          "coloraxis": {
           "colorbar": {
            "outlinewidth": 0,
            "ticks": ""
           }
          },
          "colorscale": {
           "diverging": [
            [
             0,
             "#8e0152"
            ],
            [
             0.1,
             "#c51b7d"
            ],
            [
             0.2,
             "#de77ae"
            ],
            [
             0.3,
             "#f1b6da"
            ],
            [
             0.4,
             "#fde0ef"
            ],
            [
             0.5,
             "#f7f7f7"
            ],
            [
             0.6,
             "#e6f5d0"
            ],
            [
             0.7,
             "#b8e186"
            ],
            [
             0.8,
             "#7fbc41"
            ],
            [
             0.9,
             "#4d9221"
            ],
            [
             1,
             "#276419"
            ]
           ],
           "sequential": [
            [
             0,
             "#0d0887"
            ],
            [
             0.1111111111111111,
             "#46039f"
            ],
            [
             0.2222222222222222,
             "#7201a8"
            ],
            [
             0.3333333333333333,
             "#9c179e"
            ],
            [
             0.4444444444444444,
             "#bd3786"
            ],
            [
             0.5555555555555556,
             "#d8576b"
            ],
            [
             0.6666666666666666,
             "#ed7953"
            ],
            [
             0.7777777777777778,
             "#fb9f3a"
            ],
            [
             0.8888888888888888,
             "#fdca26"
            ],
            [
             1,
             "#f0f921"
            ]
           ],
           "sequentialminus": [
            [
             0,
             "#0d0887"
            ],
            [
             0.1111111111111111,
             "#46039f"
            ],
            [
             0.2222222222222222,
             "#7201a8"
            ],
            [
             0.3333333333333333,
             "#9c179e"
            ],
            [
             0.4444444444444444,
             "#bd3786"
            ],
            [
             0.5555555555555556,
             "#d8576b"
            ],
            [
             0.6666666666666666,
             "#ed7953"
            ],
            [
             0.7777777777777778,
             "#fb9f3a"
            ],
            [
             0.8888888888888888,
             "#fdca26"
            ],
            [
             1,
             "#f0f921"
            ]
           ]
          },
          "colorway": [
           "#636efa",
           "#EF553B",
           "#00cc96",
           "#ab63fa",
           "#FFA15A",
           "#19d3f3",
           "#FF6692",
           "#B6E880",
           "#FF97FF",
           "#FECB52"
          ],
          "font": {
           "color": "#2a3f5f"
          },
          "geo": {
           "bgcolor": "white",
           "lakecolor": "white",
           "landcolor": "#E5ECF6",
           "showlakes": true,
           "showland": true,
           "subunitcolor": "white"
          },
          "hoverlabel": {
           "align": "left"
          },
          "hovermode": "closest",
          "mapbox": {
           "style": "light"
          },
          "paper_bgcolor": "white",
          "plot_bgcolor": "#E5ECF6",
          "polar": {
           "angularaxis": {
            "gridcolor": "white",
            "linecolor": "white",
            "ticks": ""
           },
           "bgcolor": "#E5ECF6",
           "radialaxis": {
            "gridcolor": "white",
            "linecolor": "white",
            "ticks": ""
           }
          },
          "scene": {
           "xaxis": {
            "backgroundcolor": "#E5ECF6",
            "gridcolor": "white",
            "gridwidth": 2,
            "linecolor": "white",
            "showbackground": true,
            "ticks": "",
            "zerolinecolor": "white"
           },
           "yaxis": {
            "backgroundcolor": "#E5ECF6",
            "gridcolor": "white",
            "gridwidth": 2,
            "linecolor": "white",
            "showbackground": true,
            "ticks": "",
            "zerolinecolor": "white"
           },
           "zaxis": {
            "backgroundcolor": "#E5ECF6",
            "gridcolor": "white",
            "gridwidth": 2,
            "linecolor": "white",
            "showbackground": true,
            "ticks": "",
            "zerolinecolor": "white"
           }
          },
          "shapedefaults": {
           "line": {
            "color": "#2a3f5f"
           }
          },
          "ternary": {
           "aaxis": {
            "gridcolor": "white",
            "linecolor": "white",
            "ticks": ""
           },
           "baxis": {
            "gridcolor": "white",
            "linecolor": "white",
            "ticks": ""
           },
           "bgcolor": "#E5ECF6",
           "caxis": {
            "gridcolor": "white",
            "linecolor": "white",
            "ticks": ""
           }
          },
          "title": {
           "x": 0.05
          },
          "xaxis": {
           "automargin": true,
           "gridcolor": "white",
           "linecolor": "white",
           "ticks": "",
           "title": {
            "standoff": 15
           },
           "zerolinecolor": "white",
           "zerolinewidth": 2
          },
          "yaxis": {
           "automargin": true,
           "gridcolor": "white",
           "linecolor": "white",
           "ticks": "",
           "title": {
            "standoff": 15
           },
           "zerolinecolor": "white",
           "zerolinewidth": 2
          }
         }
        },
        "title": {
         "text": "Real vs. Synthetic Data for column 'Workclass'"
        },
        "xaxis": {
         "anchor": "y",
         "domain": [
          0,
          1
         ],
         "title": {
          "text": "Category"
         }
        },
        "yaxis": {
         "anchor": "x",
         "domain": [
          0,
          1
         ],
         "title": {
          "text": "Frequency"
         }
        }
       }
      }
     },
     "metadata": {},
     "output_type": "display_data"
    },
    {
     "data": {
      "application/vnd.plotly.v1+json": {
       "config": {
        "plotlyServerURL": "https://plot.ly"
       },
       "data": [
        {
         "alignmentgroup": "True",
         "bingroup": "x",
         "histnorm": "probability density",
         "hovertemplate": "<b>Real</b><br>Frequency: %{y}<extra></extra>",
         "legendgroup": "Real",
         "marker": {
          "color": "#000036",
          "pattern": {
           "shape": ""
          }
         },
         "name": "Real",
         "offsetgroup": "Real",
         "orientation": "v",
         "showlegend": true,
         "type": "histogram",
         "x": [
          "Bachelors",
          "Bachelors",
          "HS-grad",
          "11th",
          "Bachelors",
          "Masters",
          "9th",
          "HS-grad",
          "Masters",
          "Bachelors",
          "Some-college",
          "Bachelors",
          "Bachelors",
          "Assoc-acdm",
          "Assoc-voc",
          "7th-8th",
          "HS-grad",
          "HS-grad",
          "11th",
          "Masters",
          "Doctorate",
          "HS-grad",
          "9th",
          "11th",
          "HS-grad",
          "Bachelors",
          "HS-grad",
          "Some-college",
          "HS-grad",
          "HS-grad",
          "Assoc-acdm",
          "Some-college",
          "Bachelors",
          "Some-college",
          "Some-college",
          "11th",
          "Some-college",
          "HS-grad",
          "Some-college",
          "Assoc-acdm",
          "9th",
          "Bachelors",
          "Bachelors",
          "HS-grad",
          "HS-grad",
          "Bachelors",
          "HS-grad",
          "Masters",
          "Assoc-voc",
          "Assoc-voc",
          "Some-college",
          "HS-grad",
          "Prof-school",
          "Bachelors",
          "HS-grad",
          "Some-college",
          "5th-6th",
          "Assoc-voc",
          "HS-grad",
          "HS-grad",
          "Bachelors",
          "7th-8th",
          "HS-grad",
          "Doctorate",
          "Some-college",
          "HS-grad",
          "Some-college",
          "HS-grad",
          "Some-college",
          "Some-college",
          "Some-college",
          "Bachelors",
          "Bachelors",
          "Some-college",
          "Some-college",
          "HS-grad",
          "Assoc-acdm",
          "10th",
          "11th",
          "7th-8th",
          "HS-grad",
          "Bachelors",
          "HS-grad",
          "HS-grad",
          "HS-grad",
          "HS-grad",
          "HS-grad",
          "Masters",
          "9th",
          "Doctorate",
          "Assoc-voc",
          "Some-college",
          "Some-college",
          "HS-grad",
          "Bachelors",
          "Some-college",
          "Doctorate",
          "Some-college",
          "Assoc-acdm",
          "HS-grad",
          "Masters",
          "Bachelors",
          "Masters",
          "Some-college",
          "HS-grad",
          "HS-grad",
          "10th",
          "11th",
          "HS-grad",
          "HS-grad",
          "Bachelors",
          "Prof-school",
          "HS-grad",
          "Some-college",
          "HS-grad",
          "9th",
          "Some-college",
          "Assoc-voc",
          "Some-college",
          "HS-grad",
          "Some-college",
          "Bachelors",
          "Bachelors",
          "Bachelors",
          "Some-college",
          "Bachelors",
          "Some-college",
          "Assoc-acdm",
          "HS-grad",
          "Some-college",
          "Assoc-acdm",
          "HS-grad",
          "HS-grad",
          "Bachelors",
          "Assoc-acdm",
          "Masters",
          "HS-grad",
          "Assoc-voc",
          "Some-college",
          "Some-college",
          "HS-grad",
          "Some-college",
          "Some-college",
          "Assoc-voc",
          "Some-college",
          "HS-grad",
          "Some-college",
          "HS-grad",
          "11th",
          "Some-college",
          "Some-college",
          "HS-grad",
          "Bachelors",
          "HS-grad",
          "HS-grad",
          "HS-grad",
          "Bachelors",
          "Some-college",
          "HS-grad",
          "Bachelors",
          "1st-4th",
          "HS-grad",
          "Masters",
          "HS-grad",
          "Masters",
          "Some-college",
          "Assoc-acdm",
          "Masters",
          "11th",
          "Assoc-voc",
          "HS-grad",
          "HS-grad",
          "Some-college",
          "Bachelors",
          "Bachelors",
          "HS-grad",
          "HS-grad",
          "HS-grad",
          "HS-grad",
          "Bachelors",
          "Some-college",
          "Some-college",
          "Some-college",
          "7th-8th",
          "Some-college",
          "HS-grad",
          "Bachelors",
          "Bachelors",
          "Masters",
          "Doctorate",
          "Some-college",
          "Some-college",
          "Bachelors",
          "Some-college",
          "Bachelors",
          "5th-6th",
          "Some-college",
          "Masters",
          "Masters",
          "HS-grad"
         ],
         "xaxis": "x",
         "yaxis": "y"
        },
        {
         "alignmentgroup": "True",
         "bingroup": "x",
         "histnorm": "probability density",
         "hovertemplate": "<b>Synthetic</b><br>Frequency: %{y}<extra></extra>",
         "legendgroup": "Synthetic",
         "marker": {
          "color": "#01E0C9",
          "pattern": {
           "shape": "/"
          }
         },
         "name": "Synthetic",
         "offsetgroup": "Synthetic",
         "orientation": "v",
         "showlegend": true,
         "type": "histogram",
         "x": [
          "11th",
          "Bachelors",
          "9th",
          "Bachelors",
          "Bachelors",
          "9th",
          "Bachelors",
          "11th",
          "HS-grad",
          "HS-grad",
          "Bachelors",
          "11th",
          "HS-grad",
          "Masters",
          "11th",
          "Bachelors",
          "Bachelors",
          "9th",
          "HS-grad",
          "11th",
          "Masters",
          "11th",
          "9th",
          "Some-college",
          "Masters",
          "Assoc-voc",
          "Bachelors",
          "Bachelors",
          "9th",
          "Bachelors",
          "11th",
          "HS-grad",
          "Masters",
          "Bachelors",
          "Masters",
          "Masters",
          "11th",
          "11th",
          "Some-college",
          "HS-grad",
          "Bachelors",
          "7th-8th",
          "Bachelors",
          "Bachelors",
          "Bachelors",
          "Bachelors",
          "HS-grad",
          "Bachelors",
          "Bachelors",
          "11th",
          "Bachelors",
          "Some-college",
          "11th",
          "11th",
          "Bachelors",
          "Masters",
          "Some-college",
          "Bachelors",
          "HS-grad",
          "11th",
          "Bachelors",
          "Bachelors",
          "Bachelors",
          "9th",
          "Assoc-acdm",
          "Bachelors",
          "Masters",
          "HS-grad",
          "Masters",
          "Bachelors",
          "11th",
          "HS-grad",
          "11th",
          "Bachelors",
          "Bachelors",
          "HS-grad",
          "11th",
          "Bachelors",
          "HS-grad",
          "Bachelors",
          "Bachelors",
          "11th",
          "Bachelors",
          "Bachelors",
          "HS-grad",
          "11th",
          "Bachelors",
          "Bachelors",
          "Bachelors",
          "Bachelors",
          "Bachelors",
          "HS-grad",
          "Bachelors",
          "HS-grad",
          "11th",
          "Bachelors",
          "Assoc-acdm",
          "11th",
          "Masters",
          "Bachelors"
         ],
         "xaxis": "x",
         "yaxis": "y"
        }
       ],
       "layout": {
        "barmode": "group",
        "font": {
         "size": 18
        },
        "legend": {
         "title": {
          "text": "Data"
         },
         "tracegroupgap": 0
        },
        "margin": {
         "t": 60
        },
        "plot_bgcolor": "#F5F5F8",
        "template": {
         "data": {
          "bar": [
           {
            "error_x": {
             "color": "#2a3f5f"
            },
            "error_y": {
             "color": "#2a3f5f"
            },
            "marker": {
             "line": {
              "color": "#E5ECF6",
              "width": 0.5
             },
             "pattern": {
              "fillmode": "overlay",
              "size": 10,
              "solidity": 0.2
             }
            },
            "type": "bar"
           }
          ],
          "barpolar": [
           {
            "marker": {
             "line": {
              "color": "#E5ECF6",
              "width": 0.5
             },
             "pattern": {
              "fillmode": "overlay",
              "size": 10,
              "solidity": 0.2
             }
            },
            "type": "barpolar"
           }
          ],
          "carpet": [
           {
            "aaxis": {
             "endlinecolor": "#2a3f5f",
             "gridcolor": "white",
             "linecolor": "white",
             "minorgridcolor": "white",
             "startlinecolor": "#2a3f5f"
            },
            "baxis": {
             "endlinecolor": "#2a3f5f",
             "gridcolor": "white",
             "linecolor": "white",
             "minorgridcolor": "white",
             "startlinecolor": "#2a3f5f"
            },
            "type": "carpet"
           }
          ],
          "choropleth": [
           {
            "colorbar": {
             "outlinewidth": 0,
             "ticks": ""
            },
            "type": "choropleth"
           }
          ],
          "contour": [
           {
            "colorbar": {
             "outlinewidth": 0,
             "ticks": ""
            },
            "colorscale": [
             [
              0,
              "#0d0887"
             ],
             [
              0.1111111111111111,
              "#46039f"
             ],
             [
              0.2222222222222222,
              "#7201a8"
             ],
             [
              0.3333333333333333,
              "#9c179e"
             ],
             [
              0.4444444444444444,
              "#bd3786"
             ],
             [
              0.5555555555555556,
              "#d8576b"
             ],
             [
              0.6666666666666666,
              "#ed7953"
             ],
             [
              0.7777777777777778,
              "#fb9f3a"
             ],
             [
              0.8888888888888888,
              "#fdca26"
             ],
             [
              1,
              "#f0f921"
             ]
            ],
            "type": "contour"
           }
          ],
          "contourcarpet": [
           {
            "colorbar": {
             "outlinewidth": 0,
             "ticks": ""
            },
            "type": "contourcarpet"
           }
          ],
          "heatmap": [
           {
            "colorbar": {
             "outlinewidth": 0,
             "ticks": ""
            },
            "colorscale": [
             [
              0,
              "#0d0887"
             ],
             [
              0.1111111111111111,
              "#46039f"
             ],
             [
              0.2222222222222222,
              "#7201a8"
             ],
             [
              0.3333333333333333,
              "#9c179e"
             ],
             [
              0.4444444444444444,
              "#bd3786"
             ],
             [
              0.5555555555555556,
              "#d8576b"
             ],
             [
              0.6666666666666666,
              "#ed7953"
             ],
             [
              0.7777777777777778,
              "#fb9f3a"
             ],
             [
              0.8888888888888888,
              "#fdca26"
             ],
             [
              1,
              "#f0f921"
             ]
            ],
            "type": "heatmap"
           }
          ],
          "heatmapgl": [
           {
            "colorbar": {
             "outlinewidth": 0,
             "ticks": ""
            },
            "colorscale": [
             [
              0,
              "#0d0887"
             ],
             [
              0.1111111111111111,
              "#46039f"
             ],
             [
              0.2222222222222222,
              "#7201a8"
             ],
             [
              0.3333333333333333,
              "#9c179e"
             ],
             [
              0.4444444444444444,
              "#bd3786"
             ],
             [
              0.5555555555555556,
              "#d8576b"
             ],
             [
              0.6666666666666666,
              "#ed7953"
             ],
             [
              0.7777777777777778,
              "#fb9f3a"
             ],
             [
              0.8888888888888888,
              "#fdca26"
             ],
             [
              1,
              "#f0f921"
             ]
            ],
            "type": "heatmapgl"
           }
          ],
          "histogram": [
           {
            "marker": {
             "pattern": {
              "fillmode": "overlay",
              "size": 10,
              "solidity": 0.2
             }
            },
            "type": "histogram"
           }
          ],
          "histogram2d": [
           {
            "colorbar": {
             "outlinewidth": 0,
             "ticks": ""
            },
            "colorscale": [
             [
              0,
              "#0d0887"
             ],
             [
              0.1111111111111111,
              "#46039f"
             ],
             [
              0.2222222222222222,
              "#7201a8"
             ],
             [
              0.3333333333333333,
              "#9c179e"
             ],
             [
              0.4444444444444444,
              "#bd3786"
             ],
             [
              0.5555555555555556,
              "#d8576b"
             ],
             [
              0.6666666666666666,
              "#ed7953"
             ],
             [
              0.7777777777777778,
              "#fb9f3a"
             ],
             [
              0.8888888888888888,
              "#fdca26"
             ],
             [
              1,
              "#f0f921"
             ]
            ],
            "type": "histogram2d"
           }
          ],
          "histogram2dcontour": [
           {
            "colorbar": {
             "outlinewidth": 0,
             "ticks": ""
            },
            "colorscale": [
             [
              0,
              "#0d0887"
             ],
             [
              0.1111111111111111,
              "#46039f"
             ],
             [
              0.2222222222222222,
              "#7201a8"
             ],
             [
              0.3333333333333333,
              "#9c179e"
             ],
             [
              0.4444444444444444,
              "#bd3786"
             ],
             [
              0.5555555555555556,
              "#d8576b"
             ],
             [
              0.6666666666666666,
              "#ed7953"
             ],
             [
              0.7777777777777778,
              "#fb9f3a"
             ],
             [
              0.8888888888888888,
              "#fdca26"
             ],
             [
              1,
              "#f0f921"
             ]
            ],
            "type": "histogram2dcontour"
           }
          ],
          "mesh3d": [
           {
            "colorbar": {
             "outlinewidth": 0,
             "ticks": ""
            },
            "type": "mesh3d"
           }
          ],
          "parcoords": [
           {
            "line": {
             "colorbar": {
              "outlinewidth": 0,
              "ticks": ""
             }
            },
            "type": "parcoords"
           }
          ],
          "pie": [
           {
            "automargin": true,
            "type": "pie"
           }
          ],
          "scatter": [
           {
            "fillpattern": {
             "fillmode": "overlay",
             "size": 10,
             "solidity": 0.2
            },
            "type": "scatter"
           }
          ],
          "scatter3d": [
           {
            "line": {
             "colorbar": {
              "outlinewidth": 0,
              "ticks": ""
             }
            },
            "marker": {
             "colorbar": {
              "outlinewidth": 0,
              "ticks": ""
             }
            },
            "type": "scatter3d"
           }
          ],
          "scattercarpet": [
           {
            "marker": {
             "colorbar": {
              "outlinewidth": 0,
              "ticks": ""
             }
            },
            "type": "scattercarpet"
           }
          ],
          "scattergeo": [
           {
            "marker": {
             "colorbar": {
              "outlinewidth": 0,
              "ticks": ""
             }
            },
            "type": "scattergeo"
           }
          ],
          "scattergl": [
           {
            "marker": {
             "colorbar": {
              "outlinewidth": 0,
              "ticks": ""
             }
            },
            "type": "scattergl"
           }
          ],
          "scattermapbox": [
           {
            "marker": {
             "colorbar": {
              "outlinewidth": 0,
              "ticks": ""
             }
            },
            "type": "scattermapbox"
           }
          ],
          "scatterpolar": [
           {
            "marker": {
             "colorbar": {
              "outlinewidth": 0,
              "ticks": ""
             }
            },
            "type": "scatterpolar"
           }
          ],
          "scatterpolargl": [
           {
            "marker": {
             "colorbar": {
              "outlinewidth": 0,
              "ticks": ""
             }
            },
            "type": "scatterpolargl"
           }
          ],
          "scatterternary": [
           {
            "marker": {
             "colorbar": {
              "outlinewidth": 0,
              "ticks": ""
             }
            },
            "type": "scatterternary"
           }
          ],
          "surface": [
           {
            "colorbar": {
             "outlinewidth": 0,
             "ticks": ""
            },
            "colorscale": [
             [
              0,
              "#0d0887"
             ],
             [
              0.1111111111111111,
              "#46039f"
             ],
             [
              0.2222222222222222,
              "#7201a8"
             ],
             [
              0.3333333333333333,
              "#9c179e"
             ],
             [
              0.4444444444444444,
              "#bd3786"
             ],
             [
              0.5555555555555556,
              "#d8576b"
             ],
             [
              0.6666666666666666,
              "#ed7953"
             ],
             [
              0.7777777777777778,
              "#fb9f3a"
             ],
             [
              0.8888888888888888,
              "#fdca26"
             ],
             [
              1,
              "#f0f921"
             ]
            ],
            "type": "surface"
           }
          ],
          "table": [
           {
            "cells": {
             "fill": {
              "color": "#EBF0F8"
             },
             "line": {
              "color": "white"
             }
            },
            "header": {
             "fill": {
              "color": "#C8D4E3"
             },
             "line": {
              "color": "white"
             }
            },
            "type": "table"
           }
          ]
         },
         "layout": {
          "annotationdefaults": {
           "arrowcolor": "#2a3f5f",
           "arrowhead": 0,
           "arrowwidth": 1
          },
          "autotypenumbers": "strict",
          "coloraxis": {
           "colorbar": {
            "outlinewidth": 0,
            "ticks": ""
           }
          },
          "colorscale": {
           "diverging": [
            [
             0,
             "#8e0152"
            ],
            [
             0.1,
             "#c51b7d"
            ],
            [
             0.2,
             "#de77ae"
            ],
            [
             0.3,
             "#f1b6da"
            ],
            [
             0.4,
             "#fde0ef"
            ],
            [
             0.5,
             "#f7f7f7"
            ],
            [
             0.6,
             "#e6f5d0"
            ],
            [
             0.7,
             "#b8e186"
            ],
            [
             0.8,
             "#7fbc41"
            ],
            [
             0.9,
             "#4d9221"
            ],
            [
             1,
             "#276419"
            ]
           ],
           "sequential": [
            [
             0,
             "#0d0887"
            ],
            [
             0.1111111111111111,
             "#46039f"
            ],
            [
             0.2222222222222222,
             "#7201a8"
            ],
            [
             0.3333333333333333,
             "#9c179e"
            ],
            [
             0.4444444444444444,
             "#bd3786"
            ],
            [
             0.5555555555555556,
             "#d8576b"
            ],
            [
             0.6666666666666666,
             "#ed7953"
            ],
            [
             0.7777777777777778,
             "#fb9f3a"
            ],
            [
             0.8888888888888888,
             "#fdca26"
            ],
            [
             1,
             "#f0f921"
            ]
           ],
           "sequentialminus": [
            [
             0,
             "#0d0887"
            ],
            [
             0.1111111111111111,
             "#46039f"
            ],
            [
             0.2222222222222222,
             "#7201a8"
            ],
            [
             0.3333333333333333,
             "#9c179e"
            ],
            [
             0.4444444444444444,
             "#bd3786"
            ],
            [
             0.5555555555555556,
             "#d8576b"
            ],
            [
             0.6666666666666666,
             "#ed7953"
            ],
            [
             0.7777777777777778,
             "#fb9f3a"
            ],
            [
             0.8888888888888888,
             "#fdca26"
            ],
            [
             1,
             "#f0f921"
            ]
           ]
          },
          "colorway": [
           "#636efa",
           "#EF553B",
           "#00cc96",
           "#ab63fa",
           "#FFA15A",
           "#19d3f3",
           "#FF6692",
           "#B6E880",
           "#FF97FF",
           "#FECB52"
          ],
          "font": {
           "color": "#2a3f5f"
          },
          "geo": {
           "bgcolor": "white",
           "lakecolor": "white",
           "landcolor": "#E5ECF6",
           "showlakes": true,
           "showland": true,
           "subunitcolor": "white"
          },
          "hoverlabel": {
           "align": "left"
          },
          "hovermode": "closest",
          "mapbox": {
           "style": "light"
          },
          "paper_bgcolor": "white",
          "plot_bgcolor": "#E5ECF6",
          "polar": {
           "angularaxis": {
            "gridcolor": "white",
            "linecolor": "white",
            "ticks": ""
           },
           "bgcolor": "#E5ECF6",
           "radialaxis": {
            "gridcolor": "white",
            "linecolor": "white",
            "ticks": ""
           }
          },
          "scene": {
           "xaxis": {
            "backgroundcolor": "#E5ECF6",
            "gridcolor": "white",
            "gridwidth": 2,
            "linecolor": "white",
            "showbackground": true,
            "ticks": "",
            "zerolinecolor": "white"
           },
           "yaxis": {
            "backgroundcolor": "#E5ECF6",
            "gridcolor": "white",
            "gridwidth": 2,
            "linecolor": "white",
            "showbackground": true,
            "ticks": "",
            "zerolinecolor": "white"
           },
           "zaxis": {
            "backgroundcolor": "#E5ECF6",
            "gridcolor": "white",
            "gridwidth": 2,
            "linecolor": "white",
            "showbackground": true,
            "ticks": "",
            "zerolinecolor": "white"
           }
          },
          "shapedefaults": {
           "line": {
            "color": "#2a3f5f"
           }
          },
          "ternary": {
           "aaxis": {
            "gridcolor": "white",
            "linecolor": "white",
            "ticks": ""
           },
           "baxis": {
            "gridcolor": "white",
            "linecolor": "white",
            "ticks": ""
           },
           "bgcolor": "#E5ECF6",
           "caxis": {
            "gridcolor": "white",
            "linecolor": "white",
            "ticks": ""
           }
          },
          "title": {
           "x": 0.05
          },
          "xaxis": {
           "automargin": true,
           "gridcolor": "white",
           "linecolor": "white",
           "ticks": "",
           "title": {
            "standoff": 15
           },
           "zerolinecolor": "white",
           "zerolinewidth": 2
          },
          "yaxis": {
           "automargin": true,
           "gridcolor": "white",
           "linecolor": "white",
           "ticks": "",
           "title": {
            "standoff": 15
           },
           "zerolinecolor": "white",
           "zerolinewidth": 2
          }
         }
        },
        "title": {
         "text": "Real vs. Synthetic Data for column 'Education'"
        },
        "xaxis": {
         "anchor": "y",
         "domain": [
          0,
          1
         ],
         "title": {
          "text": "Category"
         }
        },
        "yaxis": {
         "anchor": "x",
         "domain": [
          0,
          1
         ],
         "title": {
          "text": "Frequency"
         }
        }
       }
      }
     },
     "metadata": {},
     "output_type": "display_data"
    },
    {
     "data": {
      "application/vnd.plotly.v1+json": {
       "config": {
        "plotlyServerURL": "https://plot.ly"
       },
       "data": [
        {
         "alignmentgroup": "True",
         "bingroup": "x",
         "histnorm": "probability density",
         "hovertemplate": "<b>Real</b><br>Frequency: %{y}<extra></extra>",
         "legendgroup": "Real",
         "marker": {
          "color": "#000036",
          "pattern": {
           "shape": ""
          }
         },
         "name": "Real",
         "offsetgroup": "Real",
         "orientation": "v",
         "showlegend": true,
         "type": "histogram",
         "x": [
          "Adm-clerical",
          "Exec-managerial",
          "Handlers-cleaners",
          "Handlers-cleaners",
          "Prof-specialty",
          "Exec-managerial",
          "Other-service",
          "Exec-managerial",
          "Prof-specialty",
          "Exec-managerial",
          "Exec-managerial",
          "Prof-specialty",
          "Adm-clerical",
          "Sales",
          "Craft-repair",
          "Transport-moving",
          "Farming-fishing",
          "Machine-op-inspct",
          "Sales",
          "Exec-managerial",
          "Prof-specialty",
          "Other-service",
          "Farming-fishing",
          "Transport-moving",
          "Tech-support",
          "Tech-support",
          "Craft-repair",
          "?",
          "Exec-managerial",
          "Craft-repair",
          "Protective-serv",
          "Sales",
          "Exec-managerial",
          "Adm-clerical",
          "Other-service",
          "Machine-op-inspct",
          "Machine-op-inspct",
          "Adm-clerical",
          "Sales",
          "Prof-specialty",
          "Machine-op-inspct",
          "Prof-specialty",
          "Tech-support",
          "Adm-clerical",
          "Handlers-cleaners",
          "Prof-specialty",
          "Machine-op-inspct",
          "Exec-managerial",
          "Craft-repair",
          "Prof-specialty",
          "Exec-managerial",
          "Other-service",
          "Prof-specialty",
          "Exec-managerial",
          "Exec-managerial",
          "Tech-support",
          "Machine-op-inspct",
          "Other-service",
          "Adm-clerical",
          "Machine-op-inspct",
          "Sales",
          "?",
          "Transport-moving",
          "Prof-specialty",
          "Tech-support",
          "Craft-repair",
          "Adm-clerical",
          "Adm-clerical",
          "Exec-managerial",
          "?",
          "Prof-specialty",
          "Sales",
          "Sales",
          "Machine-op-inspct",
          "Prof-specialty",
          "Other-service",
          "Adm-clerical",
          "?",
          "Other-service",
          "Farming-fishing",
          "Sales",
          "Other-service",
          "Other-service",
          "Sales",
          "Craft-repair",
          "Sales",
          "Protective-serv",
          "Prof-specialty",
          "Sales",
          "Prof-specialty",
          "Prof-specialty",
          "Craft-repair",
          "Machine-op-inspct",
          "Sales",
          "Protective-serv",
          "Handlers-cleaners",
          "Prof-specialty",
          "Sales",
          "Exec-managerial",
          "Other-service",
          "Exec-managerial",
          "Exec-managerial",
          "Prof-specialty",
          "Tech-support",
          "Craft-repair",
          "Craft-repair",
          "?",
          "Handlers-cleaners",
          "Adm-clerical",
          "Handlers-cleaners",
          "Sales",
          "Prof-specialty",
          "Other-service",
          "Sales",
          "Machine-op-inspct",
          "Handlers-cleaners",
          "Sales",
          "Craft-repair",
          "Sales",
          "Craft-repair",
          "Other-service",
          "Exec-managerial",
          "Exec-managerial",
          "Prof-specialty",
          "Other-service",
          "Exec-managerial",
          "Adm-clerical",
          "Adm-clerical",
          "?",
          "Craft-repair",
          "Sales",
          "Other-service",
          "Craft-repair",
          "Sales",
          "Tech-support",
          "Prof-specialty",
          "Craft-repair",
          "Adm-clerical",
          "Sales",
          "Craft-repair",
          "Craft-repair",
          "Sales",
          "Other-service",
          "Prof-specialty",
          "Tech-support",
          "Transport-moving",
          "Other-service",
          "Other-service",
          "Craft-repair",
          "?",
          "Adm-clerical",
          "Adm-clerical",
          "Exec-managerial",
          "Craft-repair",
          "?",
          "Craft-repair",
          "Handlers-cleaners",
          "Sales",
          "Craft-repair",
          "Other-service",
          "?",
          "Other-service",
          "Exec-managerial",
          "Exec-managerial",
          "Sales",
          "Other-service",
          "Exec-managerial",
          "Protective-serv",
          "Handlers-cleaners",
          "Prof-specialty",
          "Other-service",
          "Protective-serv",
          "Sales",
          "Craft-repair",
          "Prof-specialty",
          "Sales",
          "Craft-repair",
          "Handlers-cleaners",
          "Other-service",
          "Prof-specialty",
          "Exec-managerial",
          "Adm-clerical",
          "Craft-repair",
          "Machine-op-inspct",
          "Adm-clerical",
          "Adm-clerical",
          "Exec-managerial",
          "?",
          "Prof-specialty",
          "Prof-specialty",
          "Machine-op-inspct",
          "Machine-op-inspct",
          "Craft-repair",
          "Tech-support",
          "Tech-support",
          "Transport-moving",
          "Craft-repair",
          "Exec-managerial",
          "Prof-specialty",
          "Sales"
         ],
         "xaxis": "x",
         "yaxis": "y"
        },
        {
         "alignmentgroup": "True",
         "bingroup": "x",
         "histnorm": "probability density",
         "hovertemplate": "<b>Synthetic</b><br>Frequency: %{y}<extra></extra>",
         "legendgroup": "Synthetic",
         "marker": {
          "color": "#01E0C9",
          "pattern": {
           "shape": "/"
          }
         },
         "name": "Synthetic",
         "offsetgroup": "Synthetic",
         "orientation": "v",
         "showlegend": true,
         "type": "histogram",
         "x": [
          "Exec-managerial",
          "Handlers-cleaners",
          "Handlers-cleaners",
          "Handlers-cleaners",
          "Handlers-cleaners",
          "Adm-clerical",
          "Exec-managerial",
          "Handlers-cleaners",
          "Exec-managerial",
          "Handlers-cleaners",
          "Adm-clerical",
          "Prof-specialty",
          "Exec-managerial",
          "Handlers-cleaners",
          "Exec-managerial",
          "Exec-managerial",
          "Handlers-cleaners",
          "Handlers-cleaners",
          "Adm-clerical",
          "Adm-clerical",
          "Adm-clerical",
          "Adm-clerical",
          "Adm-clerical",
          "Adm-clerical",
          "Handlers-cleaners",
          "Exec-managerial",
          "Adm-clerical",
          "Adm-clerical",
          "Adm-clerical",
          "Adm-clerical",
          "Adm-clerical",
          "Sales",
          "Adm-clerical",
          "Adm-clerical",
          "Exec-managerial",
          "Machine-op-inspct",
          "Adm-clerical",
          "Adm-clerical",
          "Adm-clerical",
          "Prof-specialty",
          "Adm-clerical",
          "Adm-clerical",
          "Handlers-cleaners",
          "Adm-clerical",
          "Adm-clerical",
          "Exec-managerial",
          "Adm-clerical",
          "Exec-managerial",
          "Exec-managerial",
          "Prof-specialty",
          "Transport-moving",
          "Adm-clerical",
          "Handlers-cleaners",
          "Farming-fishing",
          "Prof-specialty",
          "Adm-clerical",
          "Adm-clerical",
          "Handlers-cleaners",
          "Craft-repair",
          "Adm-clerical",
          "Craft-repair",
          "Handlers-cleaners",
          "Handlers-cleaners",
          "Adm-clerical",
          "Adm-clerical",
          "Exec-managerial",
          "Adm-clerical",
          "Adm-clerical",
          "Adm-clerical",
          "Exec-managerial",
          "Adm-clerical",
          "?",
          "Adm-clerical",
          "Adm-clerical",
          "Adm-clerical",
          "Handlers-cleaners",
          "Adm-clerical",
          "Adm-clerical",
          "Exec-managerial",
          "Exec-managerial",
          "Adm-clerical",
          "Adm-clerical",
          "Adm-clerical",
          "Adm-clerical",
          "Handlers-cleaners",
          "Exec-managerial",
          "Handlers-cleaners",
          "Adm-clerical",
          "Exec-managerial",
          "Sales",
          "Exec-managerial",
          "Exec-managerial",
          "Adm-clerical",
          "Machine-op-inspct",
          "Other-service",
          "Adm-clerical",
          "Adm-clerical",
          "Exec-managerial",
          "Handlers-cleaners",
          "Other-service"
         ],
         "xaxis": "x",
         "yaxis": "y"
        }
       ],
       "layout": {
        "barmode": "group",
        "font": {
         "size": 18
        },
        "legend": {
         "title": {
          "text": "Data"
         },
         "tracegroupgap": 0
        },
        "margin": {
         "t": 60
        },
        "plot_bgcolor": "#F5F5F8",
        "template": {
         "data": {
          "bar": [
           {
            "error_x": {
             "color": "#2a3f5f"
            },
            "error_y": {
             "color": "#2a3f5f"
            },
            "marker": {
             "line": {
              "color": "#E5ECF6",
              "width": 0.5
             },
             "pattern": {
              "fillmode": "overlay",
              "size": 10,
              "solidity": 0.2
             }
            },
            "type": "bar"
           }
          ],
          "barpolar": [
           {
            "marker": {
             "line": {
              "color": "#E5ECF6",
              "width": 0.5
             },
             "pattern": {
              "fillmode": "overlay",
              "size": 10,
              "solidity": 0.2
             }
            },
            "type": "barpolar"
           }
          ],
          "carpet": [
           {
            "aaxis": {
             "endlinecolor": "#2a3f5f",
             "gridcolor": "white",
             "linecolor": "white",
             "minorgridcolor": "white",
             "startlinecolor": "#2a3f5f"
            },
            "baxis": {
             "endlinecolor": "#2a3f5f",
             "gridcolor": "white",
             "linecolor": "white",
             "minorgridcolor": "white",
             "startlinecolor": "#2a3f5f"
            },
            "type": "carpet"
           }
          ],
          "choropleth": [
           {
            "colorbar": {
             "outlinewidth": 0,
             "ticks": ""
            },
            "type": "choropleth"
           }
          ],
          "contour": [
           {
            "colorbar": {
             "outlinewidth": 0,
             "ticks": ""
            },
            "colorscale": [
             [
              0,
              "#0d0887"
             ],
             [
              0.1111111111111111,
              "#46039f"
             ],
             [
              0.2222222222222222,
              "#7201a8"
             ],
             [
              0.3333333333333333,
              "#9c179e"
             ],
             [
              0.4444444444444444,
              "#bd3786"
             ],
             [
              0.5555555555555556,
              "#d8576b"
             ],
             [
              0.6666666666666666,
              "#ed7953"
             ],
             [
              0.7777777777777778,
              "#fb9f3a"
             ],
             [
              0.8888888888888888,
              "#fdca26"
             ],
             [
              1,
              "#f0f921"
             ]
            ],
            "type": "contour"
           }
          ],
          "contourcarpet": [
           {
            "colorbar": {
             "outlinewidth": 0,
             "ticks": ""
            },
            "type": "contourcarpet"
           }
          ],
          "heatmap": [
           {
            "colorbar": {
             "outlinewidth": 0,
             "ticks": ""
            },
            "colorscale": [
             [
              0,
              "#0d0887"
             ],
             [
              0.1111111111111111,
              "#46039f"
             ],
             [
              0.2222222222222222,
              "#7201a8"
             ],
             [
              0.3333333333333333,
              "#9c179e"
             ],
             [
              0.4444444444444444,
              "#bd3786"
             ],
             [
              0.5555555555555556,
              "#d8576b"
             ],
             [
              0.6666666666666666,
              "#ed7953"
             ],
             [
              0.7777777777777778,
              "#fb9f3a"
             ],
             [
              0.8888888888888888,
              "#fdca26"
             ],
             [
              1,
              "#f0f921"
             ]
            ],
            "type": "heatmap"
           }
          ],
          "heatmapgl": [
           {
            "colorbar": {
             "outlinewidth": 0,
             "ticks": ""
            },
            "colorscale": [
             [
              0,
              "#0d0887"
             ],
             [
              0.1111111111111111,
              "#46039f"
             ],
             [
              0.2222222222222222,
              "#7201a8"
             ],
             [
              0.3333333333333333,
              "#9c179e"
             ],
             [
              0.4444444444444444,
              "#bd3786"
             ],
             [
              0.5555555555555556,
              "#d8576b"
             ],
             [
              0.6666666666666666,
              "#ed7953"
             ],
             [
              0.7777777777777778,
              "#fb9f3a"
             ],
             [
              0.8888888888888888,
              "#fdca26"
             ],
             [
              1,
              "#f0f921"
             ]
            ],
            "type": "heatmapgl"
           }
          ],
          "histogram": [
           {
            "marker": {
             "pattern": {
              "fillmode": "overlay",
              "size": 10,
              "solidity": 0.2
             }
            },
            "type": "histogram"
           }
          ],
          "histogram2d": [
           {
            "colorbar": {
             "outlinewidth": 0,
             "ticks": ""
            },
            "colorscale": [
             [
              0,
              "#0d0887"
             ],
             [
              0.1111111111111111,
              "#46039f"
             ],
             [
              0.2222222222222222,
              "#7201a8"
             ],
             [
              0.3333333333333333,
              "#9c179e"
             ],
             [
              0.4444444444444444,
              "#bd3786"
             ],
             [
              0.5555555555555556,
              "#d8576b"
             ],
             [
              0.6666666666666666,
              "#ed7953"
             ],
             [
              0.7777777777777778,
              "#fb9f3a"
             ],
             [
              0.8888888888888888,
              "#fdca26"
             ],
             [
              1,
              "#f0f921"
             ]
            ],
            "type": "histogram2d"
           }
          ],
          "histogram2dcontour": [
           {
            "colorbar": {
             "outlinewidth": 0,
             "ticks": ""
            },
            "colorscale": [
             [
              0,
              "#0d0887"
             ],
             [
              0.1111111111111111,
              "#46039f"
             ],
             [
              0.2222222222222222,
              "#7201a8"
             ],
             [
              0.3333333333333333,
              "#9c179e"
             ],
             [
              0.4444444444444444,
              "#bd3786"
             ],
             [
              0.5555555555555556,
              "#d8576b"
             ],
             [
              0.6666666666666666,
              "#ed7953"
             ],
             [
              0.7777777777777778,
              "#fb9f3a"
             ],
             [
              0.8888888888888888,
              "#fdca26"
             ],
             [
              1,
              "#f0f921"
             ]
            ],
            "type": "histogram2dcontour"
           }
          ],
          "mesh3d": [
           {
            "colorbar": {
             "outlinewidth": 0,
             "ticks": ""
            },
            "type": "mesh3d"
           }
          ],
          "parcoords": [
           {
            "line": {
             "colorbar": {
              "outlinewidth": 0,
              "ticks": ""
             }
            },
            "type": "parcoords"
           }
          ],
          "pie": [
           {
            "automargin": true,
            "type": "pie"
           }
          ],
          "scatter": [
           {
            "fillpattern": {
             "fillmode": "overlay",
             "size": 10,
             "solidity": 0.2
            },
            "type": "scatter"
           }
          ],
          "scatter3d": [
           {
            "line": {
             "colorbar": {
              "outlinewidth": 0,
              "ticks": ""
             }
            },
            "marker": {
             "colorbar": {
              "outlinewidth": 0,
              "ticks": ""
             }
            },
            "type": "scatter3d"
           }
          ],
          "scattercarpet": [
           {
            "marker": {
             "colorbar": {
              "outlinewidth": 0,
              "ticks": ""
             }
            },
            "type": "scattercarpet"
           }
          ],
          "scattergeo": [
           {
            "marker": {
             "colorbar": {
              "outlinewidth": 0,
              "ticks": ""
             }
            },
            "type": "scattergeo"
           }
          ],
          "scattergl": [
           {
            "marker": {
             "colorbar": {
              "outlinewidth": 0,
              "ticks": ""
             }
            },
            "type": "scattergl"
           }
          ],
          "scattermapbox": [
           {
            "marker": {
             "colorbar": {
              "outlinewidth": 0,
              "ticks": ""
             }
            },
            "type": "scattermapbox"
           }
          ],
          "scatterpolar": [
           {
            "marker": {
             "colorbar": {
              "outlinewidth": 0,
              "ticks": ""
             }
            },
            "type": "scatterpolar"
           }
          ],
          "scatterpolargl": [
           {
            "marker": {
             "colorbar": {
              "outlinewidth": 0,
              "ticks": ""
             }
            },
            "type": "scatterpolargl"
           }
          ],
          "scatterternary": [
           {
            "marker": {
             "colorbar": {
              "outlinewidth": 0,
              "ticks": ""
             }
            },
            "type": "scatterternary"
           }
          ],
          "surface": [
           {
            "colorbar": {
             "outlinewidth": 0,
             "ticks": ""
            },
            "colorscale": [
             [
              0,
              "#0d0887"
             ],
             [
              0.1111111111111111,
              "#46039f"
             ],
             [
              0.2222222222222222,
              "#7201a8"
             ],
             [
              0.3333333333333333,
              "#9c179e"
             ],
             [
              0.4444444444444444,
              "#bd3786"
             ],
             [
              0.5555555555555556,
              "#d8576b"
             ],
             [
              0.6666666666666666,
              "#ed7953"
             ],
             [
              0.7777777777777778,
              "#fb9f3a"
             ],
             [
              0.8888888888888888,
              "#fdca26"
             ],
             [
              1,
              "#f0f921"
             ]
            ],
            "type": "surface"
           }
          ],
          "table": [
           {
            "cells": {
             "fill": {
              "color": "#EBF0F8"
             },
             "line": {
              "color": "white"
             }
            },
            "header": {
             "fill": {
              "color": "#C8D4E3"
             },
             "line": {
              "color": "white"
             }
            },
            "type": "table"
           }
          ]
         },
         "layout": {
          "annotationdefaults": {
           "arrowcolor": "#2a3f5f",
           "arrowhead": 0,
           "arrowwidth": 1
          },
          "autotypenumbers": "strict",
          "coloraxis": {
           "colorbar": {
            "outlinewidth": 0,
            "ticks": ""
           }
          },
          "colorscale": {
           "diverging": [
            [
             0,
             "#8e0152"
            ],
            [
             0.1,
             "#c51b7d"
            ],
            [
             0.2,
             "#de77ae"
            ],
            [
             0.3,
             "#f1b6da"
            ],
            [
             0.4,
             "#fde0ef"
            ],
            [
             0.5,
             "#f7f7f7"
            ],
            [
             0.6,
             "#e6f5d0"
            ],
            [
             0.7,
             "#b8e186"
            ],
            [
             0.8,
             "#7fbc41"
            ],
            [
             0.9,
             "#4d9221"
            ],
            [
             1,
             "#276419"
            ]
           ],
           "sequential": [
            [
             0,
             "#0d0887"
            ],
            [
             0.1111111111111111,
             "#46039f"
            ],
            [
             0.2222222222222222,
             "#7201a8"
            ],
            [
             0.3333333333333333,
             "#9c179e"
            ],
            [
             0.4444444444444444,
             "#bd3786"
            ],
            [
             0.5555555555555556,
             "#d8576b"
            ],
            [
             0.6666666666666666,
             "#ed7953"
            ],
            [
             0.7777777777777778,
             "#fb9f3a"
            ],
            [
             0.8888888888888888,
             "#fdca26"
            ],
            [
             1,
             "#f0f921"
            ]
           ],
           "sequentialminus": [
            [
             0,
             "#0d0887"
            ],
            [
             0.1111111111111111,
             "#46039f"
            ],
            [
             0.2222222222222222,
             "#7201a8"
            ],
            [
             0.3333333333333333,
             "#9c179e"
            ],
            [
             0.4444444444444444,
             "#bd3786"
            ],
            [
             0.5555555555555556,
             "#d8576b"
            ],
            [
             0.6666666666666666,
             "#ed7953"
            ],
            [
             0.7777777777777778,
             "#fb9f3a"
            ],
            [
             0.8888888888888888,
             "#fdca26"
            ],
            [
             1,
             "#f0f921"
            ]
           ]
          },
          "colorway": [
           "#636efa",
           "#EF553B",
           "#00cc96",
           "#ab63fa",
           "#FFA15A",
           "#19d3f3",
           "#FF6692",
           "#B6E880",
           "#FF97FF",
           "#FECB52"
          ],
          "font": {
           "color": "#2a3f5f"
          },
          "geo": {
           "bgcolor": "white",
           "lakecolor": "white",
           "landcolor": "#E5ECF6",
           "showlakes": true,
           "showland": true,
           "subunitcolor": "white"
          },
          "hoverlabel": {
           "align": "left"
          },
          "hovermode": "closest",
          "mapbox": {
           "style": "light"
          },
          "paper_bgcolor": "white",
          "plot_bgcolor": "#E5ECF6",
          "polar": {
           "angularaxis": {
            "gridcolor": "white",
            "linecolor": "white",
            "ticks": ""
           },
           "bgcolor": "#E5ECF6",
           "radialaxis": {
            "gridcolor": "white",
            "linecolor": "white",
            "ticks": ""
           }
          },
          "scene": {
           "xaxis": {
            "backgroundcolor": "#E5ECF6",
            "gridcolor": "white",
            "gridwidth": 2,
            "linecolor": "white",
            "showbackground": true,
            "ticks": "",
            "zerolinecolor": "white"
           },
           "yaxis": {
            "backgroundcolor": "#E5ECF6",
            "gridcolor": "white",
            "gridwidth": 2,
            "linecolor": "white",
            "showbackground": true,
            "ticks": "",
            "zerolinecolor": "white"
           },
           "zaxis": {
            "backgroundcolor": "#E5ECF6",
            "gridcolor": "white",
            "gridwidth": 2,
            "linecolor": "white",
            "showbackground": true,
            "ticks": "",
            "zerolinecolor": "white"
           }
          },
          "shapedefaults": {
           "line": {
            "color": "#2a3f5f"
           }
          },
          "ternary": {
           "aaxis": {
            "gridcolor": "white",
            "linecolor": "white",
            "ticks": ""
           },
           "baxis": {
            "gridcolor": "white",
            "linecolor": "white",
            "ticks": ""
           },
           "bgcolor": "#E5ECF6",
           "caxis": {
            "gridcolor": "white",
            "linecolor": "white",
            "ticks": ""
           }
          },
          "title": {
           "x": 0.05
          },
          "xaxis": {
           "automargin": true,
           "gridcolor": "white",
           "linecolor": "white",
           "ticks": "",
           "title": {
            "standoff": 15
           },
           "zerolinecolor": "white",
           "zerolinewidth": 2
          },
          "yaxis": {
           "automargin": true,
           "gridcolor": "white",
           "linecolor": "white",
           "ticks": "",
           "title": {
            "standoff": 15
           },
           "zerolinecolor": "white",
           "zerolinewidth": 2
          }
         }
        },
        "title": {
         "text": "Real vs. Synthetic Data for column 'Occupation'"
        },
        "xaxis": {
         "anchor": "y",
         "domain": [
          0,
          1
         ],
         "title": {
          "text": "Category"
         }
        },
        "yaxis": {
         "anchor": "x",
         "domain": [
          0,
          1
         ],
         "title": {
          "text": "Frequency"
         }
        }
       }
      }
     },
     "metadata": {},
     "output_type": "display_data"
    },
    {
     "data": {
      "application/vnd.plotly.v1+json": {
       "config": {
        "plotlyServerURL": "https://plot.ly"
       },
       "data": [
        {
         "alignmentgroup": "True",
         "bingroup": "x",
         "histnorm": "probability density",
         "hovertemplate": "<b>Real</b><br>Frequency: %{y}<extra></extra>",
         "legendgroup": "Real",
         "marker": {
          "color": "#000036",
          "pattern": {
           "shape": ""
          }
         },
         "name": "Real",
         "offsetgroup": "Real",
         "orientation": "v",
         "showlegend": true,
         "type": "histogram",
         "x": [
          "Not-in-family",
          "Husband",
          "Not-in-family",
          "Husband",
          "Wife",
          "Wife",
          "Not-in-family",
          "Husband",
          "Not-in-family",
          "Husband",
          "Husband",
          "Husband",
          "Own-child",
          "Not-in-family",
          "Husband",
          "Husband",
          "Own-child",
          "Unmarried",
          "Husband",
          "Unmarried",
          "Husband",
          "Unmarried",
          "Husband",
          "Husband",
          "Unmarried",
          "Husband",
          "Own-child",
          "Husband",
          "Not-in-family",
          "Husband",
          "Not-in-family",
          "Own-child",
          "Own-child",
          "Own-child",
          "Husband",
          "Unmarried",
          "Own-child",
          "Wife",
          "Husband",
          "Husband",
          "Husband",
          "Husband",
          "Husband",
          "Unmarried",
          "Not-in-family",
          "Husband",
          "Husband",
          "Unmarried",
          "Husband",
          "Not-in-family",
          "Wife",
          "Own-child",
          "Wife",
          "Not-in-family",
          "Not-in-family",
          "Husband",
          "Husband",
          "Husband",
          "Husband",
          "Husband",
          "Husband",
          "Not-in-family",
          "Husband",
          "Husband",
          "Not-in-family",
          "Husband",
          "Not-in-family",
          "Wife",
          "Husband",
          "Own-child",
          "Own-child",
          "Own-child",
          "Husband",
          "Not-in-family",
          "Other-relative",
          "Own-child",
          "Husband",
          "Husband",
          "Own-child",
          "Husband",
          "Not-in-family",
          "Husband",
          "Wife",
          "Husband",
          "Not-in-family",
          "Own-child",
          "Husband",
          "Husband",
          "Not-in-family",
          "Not-in-family",
          "Husband",
          "Unmarried",
          "Unmarried",
          "Wife",
          "Husband",
          "Not-in-family",
          "Husband",
          "Husband",
          "Unmarried",
          "Own-child",
          "Husband",
          "Husband",
          "Not-in-family",
          "Own-child",
          "Not-in-family",
          "Husband",
          "Own-child",
          "Own-child",
          "Not-in-family",
          "Husband",
          "Other-relative",
          "Husband",
          "Husband",
          "Wife",
          "Own-child",
          "Husband",
          "Husband",
          "Husband",
          "Husband",
          "Not-in-family",
          "Own-child",
          "Husband",
          "Own-child",
          "Husband",
          "Own-child",
          "Wife",
          "Own-child",
          "Husband",
          "Husband",
          "Not-in-family",
          "Not-in-family",
          "Not-in-family",
          "Husband",
          "Husband",
          "Not-in-family",
          "Husband",
          "Husband",
          "Wife",
          "Own-child",
          "Husband",
          "Husband",
          "Own-child",
          "Own-child",
          "Not-in-family",
          "Other-relative",
          "Unmarried",
          "Husband",
          "Unmarried",
          "Husband",
          "Not-in-family",
          "Unmarried",
          "Not-in-family",
          "Other-relative",
          "Own-child",
          "Not-in-family",
          "Husband",
          "Not-in-family",
          "Unmarried",
          "Not-in-family",
          "Other-relative",
          "Not-in-family",
          "Unmarried",
          "Unmarried",
          "Not-in-family",
          "Husband",
          "Unmarried",
          "Not-in-family",
          "Unmarried",
          "Own-child",
          "Not-in-family",
          "Not-in-family",
          "Husband",
          "Husband",
          "Not-in-family",
          "Husband",
          "Unmarried",
          "Own-child",
          "Not-in-family",
          "Own-child",
          "Husband",
          "Husband",
          "Not-in-family",
          "Not-in-family",
          "Husband",
          "Husband",
          "Husband",
          "Not-in-family",
          "Not-in-family",
          "Wife",
          "Husband",
          "Not-in-family",
          "Husband",
          "Husband",
          "Husband",
          "Husband",
          "Other-relative",
          "Not-in-family",
          "Not-in-family",
          "Other-relative",
          "Not-in-family"
         ],
         "xaxis": "x",
         "yaxis": "y"
        },
        {
         "alignmentgroup": "True",
         "bingroup": "x",
         "histnorm": "probability density",
         "hovertemplate": "<b>Synthetic</b><br>Frequency: %{y}<extra></extra>",
         "legendgroup": "Synthetic",
         "marker": {
          "color": "#01E0C9",
          "pattern": {
           "shape": "/"
          }
         },
         "name": "Synthetic",
         "offsetgroup": "Synthetic",
         "orientation": "v",
         "showlegend": true,
         "type": "histogram",
         "x": [
          "Husband",
          "Not-in-family",
          "Wife",
          "Not-in-family",
          "Not-in-family",
          "Not-in-family",
          "Not-in-family",
          "Not-in-family",
          "Own-child",
          "Husband",
          "Husband",
          "Own-child",
          "Husband",
          "Wife",
          "Not-in-family",
          "Not-in-family",
          "Not-in-family",
          "Wife",
          "Not-in-family",
          "Not-in-family",
          "Own-child",
          "Wife",
          "Not-in-family",
          "Not-in-family",
          "Husband",
          "Not-in-family",
          "Husband",
          "Not-in-family",
          "Wife",
          "Not-in-family",
          "Own-child",
          "Other-relative",
          "Wife",
          "Husband",
          "Husband",
          "Not-in-family",
          "Not-in-family",
          "Not-in-family",
          "Not-in-family",
          "Wife",
          "Husband",
          "Husband",
          "Not-in-family",
          "Not-in-family",
          "Not-in-family",
          "Wife",
          "Not-in-family",
          "Husband",
          "Husband",
          "Husband",
          "Not-in-family",
          "Wife",
          "Not-in-family",
          "Husband",
          "Husband",
          "Wife",
          "Not-in-family",
          "Wife",
          "Wife",
          "Husband",
          "Not-in-family",
          "Husband",
          "Wife",
          "Not-in-family",
          "Not-in-family",
          "Husband",
          "Not-in-family",
          "Not-in-family",
          "Husband",
          "Wife",
          "Not-in-family",
          "Unmarried",
          "Not-in-family",
          "Husband",
          "Wife",
          "Husband",
          "Other-relative",
          "Not-in-family",
          "Wife",
          "Husband",
          "Not-in-family",
          "Not-in-family",
          "Own-child",
          "Not-in-family",
          "Not-in-family",
          "Husband",
          "Not-in-family",
          "Not-in-family",
          "Wife",
          "Husband",
          "Not-in-family",
          "Not-in-family",
          "Husband",
          "Not-in-family",
          "Not-in-family",
          "Not-in-family",
          "Not-in-family",
          "Not-in-family",
          "Not-in-family",
          "Husband"
         ],
         "xaxis": "x",
         "yaxis": "y"
        }
       ],
       "layout": {
        "barmode": "group",
        "font": {
         "size": 18
        },
        "legend": {
         "title": {
          "text": "Data"
         },
         "tracegroupgap": 0
        },
        "margin": {
         "t": 60
        },
        "plot_bgcolor": "#F5F5F8",
        "template": {
         "data": {
          "bar": [
           {
            "error_x": {
             "color": "#2a3f5f"
            },
            "error_y": {
             "color": "#2a3f5f"
            },
            "marker": {
             "line": {
              "color": "#E5ECF6",
              "width": 0.5
             },
             "pattern": {
              "fillmode": "overlay",
              "size": 10,
              "solidity": 0.2
             }
            },
            "type": "bar"
           }
          ],
          "barpolar": [
           {
            "marker": {
             "line": {
              "color": "#E5ECF6",
              "width": 0.5
             },
             "pattern": {
              "fillmode": "overlay",
              "size": 10,
              "solidity": 0.2
             }
            },
            "type": "barpolar"
           }
          ],
          "carpet": [
           {
            "aaxis": {
             "endlinecolor": "#2a3f5f",
             "gridcolor": "white",
             "linecolor": "white",
             "minorgridcolor": "white",
             "startlinecolor": "#2a3f5f"
            },
            "baxis": {
             "endlinecolor": "#2a3f5f",
             "gridcolor": "white",
             "linecolor": "white",
             "minorgridcolor": "white",
             "startlinecolor": "#2a3f5f"
            },
            "type": "carpet"
           }
          ],
          "choropleth": [
           {
            "colorbar": {
             "outlinewidth": 0,
             "ticks": ""
            },
            "type": "choropleth"
           }
          ],
          "contour": [
           {
            "colorbar": {
             "outlinewidth": 0,
             "ticks": ""
            },
            "colorscale": [
             [
              0,
              "#0d0887"
             ],
             [
              0.1111111111111111,
              "#46039f"
             ],
             [
              0.2222222222222222,
              "#7201a8"
             ],
             [
              0.3333333333333333,
              "#9c179e"
             ],
             [
              0.4444444444444444,
              "#bd3786"
             ],
             [
              0.5555555555555556,
              "#d8576b"
             ],
             [
              0.6666666666666666,
              "#ed7953"
             ],
             [
              0.7777777777777778,
              "#fb9f3a"
             ],
             [
              0.8888888888888888,
              "#fdca26"
             ],
             [
              1,
              "#f0f921"
             ]
            ],
            "type": "contour"
           }
          ],
          "contourcarpet": [
           {
            "colorbar": {
             "outlinewidth": 0,
             "ticks": ""
            },
            "type": "contourcarpet"
           }
          ],
          "heatmap": [
           {
            "colorbar": {
             "outlinewidth": 0,
             "ticks": ""
            },
            "colorscale": [
             [
              0,
              "#0d0887"
             ],
             [
              0.1111111111111111,
              "#46039f"
             ],
             [
              0.2222222222222222,
              "#7201a8"
             ],
             [
              0.3333333333333333,
              "#9c179e"
             ],
             [
              0.4444444444444444,
              "#bd3786"
             ],
             [
              0.5555555555555556,
              "#d8576b"
             ],
             [
              0.6666666666666666,
              "#ed7953"
             ],
             [
              0.7777777777777778,
              "#fb9f3a"
             ],
             [
              0.8888888888888888,
              "#fdca26"
             ],
             [
              1,
              "#f0f921"
             ]
            ],
            "type": "heatmap"
           }
          ],
          "heatmapgl": [
           {
            "colorbar": {
             "outlinewidth": 0,
             "ticks": ""
            },
            "colorscale": [
             [
              0,
              "#0d0887"
             ],
             [
              0.1111111111111111,
              "#46039f"
             ],
             [
              0.2222222222222222,
              "#7201a8"
             ],
             [
              0.3333333333333333,
              "#9c179e"
             ],
             [
              0.4444444444444444,
              "#bd3786"
             ],
             [
              0.5555555555555556,
              "#d8576b"
             ],
             [
              0.6666666666666666,
              "#ed7953"
             ],
             [
              0.7777777777777778,
              "#fb9f3a"
             ],
             [
              0.8888888888888888,
              "#fdca26"
             ],
             [
              1,
              "#f0f921"
             ]
            ],
            "type": "heatmapgl"
           }
          ],
          "histogram": [
           {
            "marker": {
             "pattern": {
              "fillmode": "overlay",
              "size": 10,
              "solidity": 0.2
             }
            },
            "type": "histogram"
           }
          ],
          "histogram2d": [
           {
            "colorbar": {
             "outlinewidth": 0,
             "ticks": ""
            },
            "colorscale": [
             [
              0,
              "#0d0887"
             ],
             [
              0.1111111111111111,
              "#46039f"
             ],
             [
              0.2222222222222222,
              "#7201a8"
             ],
             [
              0.3333333333333333,
              "#9c179e"
             ],
             [
              0.4444444444444444,
              "#bd3786"
             ],
             [
              0.5555555555555556,
              "#d8576b"
             ],
             [
              0.6666666666666666,
              "#ed7953"
             ],
             [
              0.7777777777777778,
              "#fb9f3a"
             ],
             [
              0.8888888888888888,
              "#fdca26"
             ],
             [
              1,
              "#f0f921"
             ]
            ],
            "type": "histogram2d"
           }
          ],
          "histogram2dcontour": [
           {
            "colorbar": {
             "outlinewidth": 0,
             "ticks": ""
            },
            "colorscale": [
             [
              0,
              "#0d0887"
             ],
             [
              0.1111111111111111,
              "#46039f"
             ],
             [
              0.2222222222222222,
              "#7201a8"
             ],
             [
              0.3333333333333333,
              "#9c179e"
             ],
             [
              0.4444444444444444,
              "#bd3786"
             ],
             [
              0.5555555555555556,
              "#d8576b"
             ],
             [
              0.6666666666666666,
              "#ed7953"
             ],
             [
              0.7777777777777778,
              "#fb9f3a"
             ],
             [
              0.8888888888888888,
              "#fdca26"
             ],
             [
              1,
              "#f0f921"
             ]
            ],
            "type": "histogram2dcontour"
           }
          ],
          "mesh3d": [
           {
            "colorbar": {
             "outlinewidth": 0,
             "ticks": ""
            },
            "type": "mesh3d"
           }
          ],
          "parcoords": [
           {
            "line": {
             "colorbar": {
              "outlinewidth": 0,
              "ticks": ""
             }
            },
            "type": "parcoords"
           }
          ],
          "pie": [
           {
            "automargin": true,
            "type": "pie"
           }
          ],
          "scatter": [
           {
            "fillpattern": {
             "fillmode": "overlay",
             "size": 10,
             "solidity": 0.2
            },
            "type": "scatter"
           }
          ],
          "scatter3d": [
           {
            "line": {
             "colorbar": {
              "outlinewidth": 0,
              "ticks": ""
             }
            },
            "marker": {
             "colorbar": {
              "outlinewidth": 0,
              "ticks": ""
             }
            },
            "type": "scatter3d"
           }
          ],
          "scattercarpet": [
           {
            "marker": {
             "colorbar": {
              "outlinewidth": 0,
              "ticks": ""
             }
            },
            "type": "scattercarpet"
           }
          ],
          "scattergeo": [
           {
            "marker": {
             "colorbar": {
              "outlinewidth": 0,
              "ticks": ""
             }
            },
            "type": "scattergeo"
           }
          ],
          "scattergl": [
           {
            "marker": {
             "colorbar": {
              "outlinewidth": 0,
              "ticks": ""
             }
            },
            "type": "scattergl"
           }
          ],
          "scattermapbox": [
           {
            "marker": {
             "colorbar": {
              "outlinewidth": 0,
              "ticks": ""
             }
            },
            "type": "scattermapbox"
           }
          ],
          "scatterpolar": [
           {
            "marker": {
             "colorbar": {
              "outlinewidth": 0,
              "ticks": ""
             }
            },
            "type": "scatterpolar"
           }
          ],
          "scatterpolargl": [
           {
            "marker": {
             "colorbar": {
              "outlinewidth": 0,
              "ticks": ""
             }
            },
            "type": "scatterpolargl"
           }
          ],
          "scatterternary": [
           {
            "marker": {
             "colorbar": {
              "outlinewidth": 0,
              "ticks": ""
             }
            },
            "type": "scatterternary"
           }
          ],
          "surface": [
           {
            "colorbar": {
             "outlinewidth": 0,
             "ticks": ""
            },
            "colorscale": [
             [
              0,
              "#0d0887"
             ],
             [
              0.1111111111111111,
              "#46039f"
             ],
             [
              0.2222222222222222,
              "#7201a8"
             ],
             [
              0.3333333333333333,
              "#9c179e"
             ],
             [
              0.4444444444444444,
              "#bd3786"
             ],
             [
              0.5555555555555556,
              "#d8576b"
             ],
             [
              0.6666666666666666,
              "#ed7953"
             ],
             [
              0.7777777777777778,
              "#fb9f3a"
             ],
             [
              0.8888888888888888,
              "#fdca26"
             ],
             [
              1,
              "#f0f921"
             ]
            ],
            "type": "surface"
           }
          ],
          "table": [
           {
            "cells": {
             "fill": {
              "color": "#EBF0F8"
             },
             "line": {
              "color": "white"
             }
            },
            "header": {
             "fill": {
              "color": "#C8D4E3"
             },
             "line": {
              "color": "white"
             }
            },
            "type": "table"
           }
          ]
         },
         "layout": {
          "annotationdefaults": {
           "arrowcolor": "#2a3f5f",
           "arrowhead": 0,
           "arrowwidth": 1
          },
          "autotypenumbers": "strict",
          "coloraxis": {
           "colorbar": {
            "outlinewidth": 0,
            "ticks": ""
           }
          },
          "colorscale": {
           "diverging": [
            [
             0,
             "#8e0152"
            ],
            [
             0.1,
             "#c51b7d"
            ],
            [
             0.2,
             "#de77ae"
            ],
            [
             0.3,
             "#f1b6da"
            ],
            [
             0.4,
             "#fde0ef"
            ],
            [
             0.5,
             "#f7f7f7"
            ],
            [
             0.6,
             "#e6f5d0"
            ],
            [
             0.7,
             "#b8e186"
            ],
            [
             0.8,
             "#7fbc41"
            ],
            [
             0.9,
             "#4d9221"
            ],
            [
             1,
             "#276419"
            ]
           ],
           "sequential": [
            [
             0,
             "#0d0887"
            ],
            [
             0.1111111111111111,
             "#46039f"
            ],
            [
             0.2222222222222222,
             "#7201a8"
            ],
            [
             0.3333333333333333,
             "#9c179e"
            ],
            [
             0.4444444444444444,
             "#bd3786"
            ],
            [
             0.5555555555555556,
             "#d8576b"
            ],
            [
             0.6666666666666666,
             "#ed7953"
            ],
            [
             0.7777777777777778,
             "#fb9f3a"
            ],
            [
             0.8888888888888888,
             "#fdca26"
            ],
            [
             1,
             "#f0f921"
            ]
           ],
           "sequentialminus": [
            [
             0,
             "#0d0887"
            ],
            [
             0.1111111111111111,
             "#46039f"
            ],
            [
             0.2222222222222222,
             "#7201a8"
            ],
            [
             0.3333333333333333,
             "#9c179e"
            ],
            [
             0.4444444444444444,
             "#bd3786"
            ],
            [
             0.5555555555555556,
             "#d8576b"
            ],
            [
             0.6666666666666666,
             "#ed7953"
            ],
            [
             0.7777777777777778,
             "#fb9f3a"
            ],
            [
             0.8888888888888888,
             "#fdca26"
            ],
            [
             1,
             "#f0f921"
            ]
           ]
          },
          "colorway": [
           "#636efa",
           "#EF553B",
           "#00cc96",
           "#ab63fa",
           "#FFA15A",
           "#19d3f3",
           "#FF6692",
           "#B6E880",
           "#FF97FF",
           "#FECB52"
          ],
          "font": {
           "color": "#2a3f5f"
          },
          "geo": {
           "bgcolor": "white",
           "lakecolor": "white",
           "landcolor": "#E5ECF6",
           "showlakes": true,
           "showland": true,
           "subunitcolor": "white"
          },
          "hoverlabel": {
           "align": "left"
          },
          "hovermode": "closest",
          "mapbox": {
           "style": "light"
          },
          "paper_bgcolor": "white",
          "plot_bgcolor": "#E5ECF6",
          "polar": {
           "angularaxis": {
            "gridcolor": "white",
            "linecolor": "white",
            "ticks": ""
           },
           "bgcolor": "#E5ECF6",
           "radialaxis": {
            "gridcolor": "white",
            "linecolor": "white",
            "ticks": ""
           }
          },
          "scene": {
           "xaxis": {
            "backgroundcolor": "#E5ECF6",
            "gridcolor": "white",
            "gridwidth": 2,
            "linecolor": "white",
            "showbackground": true,
            "ticks": "",
            "zerolinecolor": "white"
           },
           "yaxis": {
            "backgroundcolor": "#E5ECF6",
            "gridcolor": "white",
            "gridwidth": 2,
            "linecolor": "white",
            "showbackground": true,
            "ticks": "",
            "zerolinecolor": "white"
           },
           "zaxis": {
            "backgroundcolor": "#E5ECF6",
            "gridcolor": "white",
            "gridwidth": 2,
            "linecolor": "white",
            "showbackground": true,
            "ticks": "",
            "zerolinecolor": "white"
           }
          },
          "shapedefaults": {
           "line": {
            "color": "#2a3f5f"
           }
          },
          "ternary": {
           "aaxis": {
            "gridcolor": "white",
            "linecolor": "white",
            "ticks": ""
           },
           "baxis": {
            "gridcolor": "white",
            "linecolor": "white",
            "ticks": ""
           },
           "bgcolor": "#E5ECF6",
           "caxis": {
            "gridcolor": "white",
            "linecolor": "white",
            "ticks": ""
           }
          },
          "title": {
           "x": 0.05
          },
          "xaxis": {
           "automargin": true,
           "gridcolor": "white",
           "linecolor": "white",
           "ticks": "",
           "title": {
            "standoff": 15
           },
           "zerolinecolor": "white",
           "zerolinewidth": 2
          },
          "yaxis": {
           "automargin": true,
           "gridcolor": "white",
           "linecolor": "white",
           "ticks": "",
           "title": {
            "standoff": 15
           },
           "zerolinecolor": "white",
           "zerolinewidth": 2
          }
         }
        },
        "title": {
         "text": "Real vs. Synthetic Data for column 'Relationship'"
        },
        "xaxis": {
         "anchor": "y",
         "domain": [
          0,
          1
         ],
         "title": {
          "text": "Category"
         }
        },
        "yaxis": {
         "anchor": "x",
         "domain": [
          0,
          1
         ],
         "title": {
          "text": "Frequency"
         }
        }
       }
      }
     },
     "metadata": {},
     "output_type": "display_data"
    },
    {
     "data": {
      "application/vnd.plotly.v1+json": {
       "config": {
        "plotlyServerURL": "https://plot.ly"
       },
       "data": [
        {
         "alignmentgroup": "True",
         "bingroup": "x",
         "histnorm": "probability density",
         "hovertemplate": "<b>Real</b><br>Frequency: %{y}<extra></extra>",
         "legendgroup": "Real",
         "marker": {
          "color": "#000036",
          "pattern": {
           "shape": ""
          }
         },
         "name": "Real",
         "offsetgroup": "Real",
         "orientation": "v",
         "showlegend": true,
         "type": "histogram",
         "x": [
          "White",
          "White",
          "White",
          "Black",
          "Black",
          "White",
          "Black",
          "White",
          "White",
          "White",
          "Black",
          "Asian-Pac-Islander",
          "White",
          "Black",
          "Asian-Pac-Islander",
          "Amer-Indian-Eskimo",
          "White",
          "White",
          "White",
          "White",
          "White",
          "Black",
          "Black",
          "White",
          "White",
          "White",
          "White",
          "Asian-Pac-Islander",
          "White",
          "White",
          "White",
          "Black",
          "White",
          "White",
          "Black",
          "White",
          "White",
          "White",
          "White",
          "White",
          "White",
          "White",
          "White",
          "White",
          "White",
          "Black",
          "White",
          "White",
          "White",
          "White",
          "Other",
          "White",
          "White",
          "White",
          "White",
          "White",
          "White",
          "White",
          "White",
          "White",
          "White",
          "White",
          "White",
          "White",
          "White",
          "White",
          "White",
          "White",
          "White",
          "White",
          "White",
          "Black",
          "White",
          "White",
          "White",
          "White",
          "White",
          "White",
          "White",
          "White",
          "White",
          "White",
          "White",
          "White",
          "White",
          "White",
          "White",
          "White",
          "White",
          "White",
          "White",
          "White",
          "Black",
          "Asian-Pac-Islander",
          "White",
          "White",
          "White",
          "White",
          "White",
          "Black",
          "White",
          "White",
          "White",
          "White",
          "White",
          "White",
          "White",
          "White",
          "White",
          "White",
          "White",
          "White",
          "White",
          "White",
          "White",
          "White",
          "White",
          "Black",
          "White",
          "White",
          "White",
          "White",
          "Black",
          "White",
          "Black",
          "White",
          "White",
          "White",
          "White",
          "White",
          "White",
          "White",
          "White",
          "White",
          "Black",
          "White",
          "White",
          "White",
          "White",
          "Asian-Pac-Islander",
          "White",
          "White",
          "White",
          "White",
          "White",
          "Black",
          "White",
          "White",
          "White",
          "White",
          "White",
          "White",
          "Asian-Pac-Islander",
          "White",
          "White",
          "White",
          "White",
          "Black",
          "White",
          "Black",
          "White",
          "White",
          "Asian-Pac-Islander",
          "Asian-Pac-Islander",
          "White",
          "White",
          "White",
          "White",
          "White",
          "White",
          "White",
          "White",
          "White",
          "White",
          "White",
          "White",
          "Black",
          "Black",
          "White",
          "White",
          "Black",
          "White",
          "Black",
          "White",
          "White",
          "Black",
          "White",
          "White",
          "White",
          "White",
          "Black",
          "White",
          "Black",
          "White",
          "White",
          "White",
          "White",
          "White",
          "White",
          "White"
         ],
         "xaxis": "x",
         "yaxis": "y"
        },
        {
         "alignmentgroup": "True",
         "bingroup": "x",
         "histnorm": "probability density",
         "hovertemplate": "<b>Synthetic</b><br>Frequency: %{y}<extra></extra>",
         "legendgroup": "Synthetic",
         "marker": {
          "color": "#01E0C9",
          "pattern": {
           "shape": "/"
          }
         },
         "name": "Synthetic",
         "offsetgroup": "Synthetic",
         "orientation": "v",
         "showlegend": true,
         "type": "histogram",
         "x": [
          "White",
          "White",
          "Other",
          "Asian-Pac-Islander",
          "White",
          "White",
          "White",
          "Black",
          "Black",
          "White",
          "White",
          "Asian-Pac-Islander",
          "White",
          "White",
          "Black",
          "Black",
          "Black",
          "White",
          "Black",
          "White",
          "White",
          "Black",
          "Asian-Pac-Islander",
          "Amer-Indian-Eskimo",
          "Black",
          "Asian-Pac-Islander",
          "Black",
          "White",
          "Asian-Pac-Islander",
          "Black",
          "Black",
          "Amer-Indian-Eskimo",
          "White",
          "White",
          "White",
          "White",
          "White",
          "Asian-Pac-Islander",
          "White",
          "White",
          "Black",
          "White",
          "Amer-Indian-Eskimo",
          "Asian-Pac-Islander",
          "Black",
          "White",
          "White",
          "Black",
          "White",
          "White",
          "White",
          "White",
          "Amer-Indian-Eskimo",
          "Asian-Pac-Islander",
          "White",
          "White",
          "White",
          "Other",
          "White",
          "Black",
          "Black",
          "Black",
          "White",
          "Black",
          "Other",
          "White",
          "Black",
          "Other",
          "Asian-Pac-Islander",
          "Black",
          "White",
          "White",
          "White",
          "White",
          "White",
          "White",
          "White",
          "White",
          "Asian-Pac-Islander",
          "Amer-Indian-Eskimo",
          "White",
          "Asian-Pac-Islander",
          "White",
          "White",
          "Amer-Indian-Eskimo",
          "Black",
          "White",
          "White",
          "Black",
          "Black",
          "White",
          "Asian-Pac-Islander",
          "Black",
          "Black",
          "White",
          "White",
          "White",
          "White",
          "Black",
          "White"
         ],
         "xaxis": "x",
         "yaxis": "y"
        }
       ],
       "layout": {
        "barmode": "group",
        "font": {
         "size": 18
        },
        "legend": {
         "title": {
          "text": "Data"
         },
         "tracegroupgap": 0
        },
        "margin": {
         "t": 60
        },
        "plot_bgcolor": "#F5F5F8",
        "template": {
         "data": {
          "bar": [
           {
            "error_x": {
             "color": "#2a3f5f"
            },
            "error_y": {
             "color": "#2a3f5f"
            },
            "marker": {
             "line": {
              "color": "#E5ECF6",
              "width": 0.5
             },
             "pattern": {
              "fillmode": "overlay",
              "size": 10,
              "solidity": 0.2
             }
            },
            "type": "bar"
           }
          ],
          "barpolar": [
           {
            "marker": {
             "line": {
              "color": "#E5ECF6",
              "width": 0.5
             },
             "pattern": {
              "fillmode": "overlay",
              "size": 10,
              "solidity": 0.2
             }
            },
            "type": "barpolar"
           }
          ],
          "carpet": [
           {
            "aaxis": {
             "endlinecolor": "#2a3f5f",
             "gridcolor": "white",
             "linecolor": "white",
             "minorgridcolor": "white",
             "startlinecolor": "#2a3f5f"
            },
            "baxis": {
             "endlinecolor": "#2a3f5f",
             "gridcolor": "white",
             "linecolor": "white",
             "minorgridcolor": "white",
             "startlinecolor": "#2a3f5f"
            },
            "type": "carpet"
           }
          ],
          "choropleth": [
           {
            "colorbar": {
             "outlinewidth": 0,
             "ticks": ""
            },
            "type": "choropleth"
           }
          ],
          "contour": [
           {
            "colorbar": {
             "outlinewidth": 0,
             "ticks": ""
            },
            "colorscale": [
             [
              0,
              "#0d0887"
             ],
             [
              0.1111111111111111,
              "#46039f"
             ],
             [
              0.2222222222222222,
              "#7201a8"
             ],
             [
              0.3333333333333333,
              "#9c179e"
             ],
             [
              0.4444444444444444,
              "#bd3786"
             ],
             [
              0.5555555555555556,
              "#d8576b"
             ],
             [
              0.6666666666666666,
              "#ed7953"
             ],
             [
              0.7777777777777778,
              "#fb9f3a"
             ],
             [
              0.8888888888888888,
              "#fdca26"
             ],
             [
              1,
              "#f0f921"
             ]
            ],
            "type": "contour"
           }
          ],
          "contourcarpet": [
           {
            "colorbar": {
             "outlinewidth": 0,
             "ticks": ""
            },
            "type": "contourcarpet"
           }
          ],
          "heatmap": [
           {
            "colorbar": {
             "outlinewidth": 0,
             "ticks": ""
            },
            "colorscale": [
             [
              0,
              "#0d0887"
             ],
             [
              0.1111111111111111,
              "#46039f"
             ],
             [
              0.2222222222222222,
              "#7201a8"
             ],
             [
              0.3333333333333333,
              "#9c179e"
             ],
             [
              0.4444444444444444,
              "#bd3786"
             ],
             [
              0.5555555555555556,
              "#d8576b"
             ],
             [
              0.6666666666666666,
              "#ed7953"
             ],
             [
              0.7777777777777778,
              "#fb9f3a"
             ],
             [
              0.8888888888888888,
              "#fdca26"
             ],
             [
              1,
              "#f0f921"
             ]
            ],
            "type": "heatmap"
           }
          ],
          "heatmapgl": [
           {
            "colorbar": {
             "outlinewidth": 0,
             "ticks": ""
            },
            "colorscale": [
             [
              0,
              "#0d0887"
             ],
             [
              0.1111111111111111,
              "#46039f"
             ],
             [
              0.2222222222222222,
              "#7201a8"
             ],
             [
              0.3333333333333333,
              "#9c179e"
             ],
             [
              0.4444444444444444,
              "#bd3786"
             ],
             [
              0.5555555555555556,
              "#d8576b"
             ],
             [
              0.6666666666666666,
              "#ed7953"
             ],
             [
              0.7777777777777778,
              "#fb9f3a"
             ],
             [
              0.8888888888888888,
              "#fdca26"
             ],
             [
              1,
              "#f0f921"
             ]
            ],
            "type": "heatmapgl"
           }
          ],
          "histogram": [
           {
            "marker": {
             "pattern": {
              "fillmode": "overlay",
              "size": 10,
              "solidity": 0.2
             }
            },
            "type": "histogram"
           }
          ],
          "histogram2d": [
           {
            "colorbar": {
             "outlinewidth": 0,
             "ticks": ""
            },
            "colorscale": [
             [
              0,
              "#0d0887"
             ],
             [
              0.1111111111111111,
              "#46039f"
             ],
             [
              0.2222222222222222,
              "#7201a8"
             ],
             [
              0.3333333333333333,
              "#9c179e"
             ],
             [
              0.4444444444444444,
              "#bd3786"
             ],
             [
              0.5555555555555556,
              "#d8576b"
             ],
             [
              0.6666666666666666,
              "#ed7953"
             ],
             [
              0.7777777777777778,
              "#fb9f3a"
             ],
             [
              0.8888888888888888,
              "#fdca26"
             ],
             [
              1,
              "#f0f921"
             ]
            ],
            "type": "histogram2d"
           }
          ],
          "histogram2dcontour": [
           {
            "colorbar": {
             "outlinewidth": 0,
             "ticks": ""
            },
            "colorscale": [
             [
              0,
              "#0d0887"
             ],
             [
              0.1111111111111111,
              "#46039f"
             ],
             [
              0.2222222222222222,
              "#7201a8"
             ],
             [
              0.3333333333333333,
              "#9c179e"
             ],
             [
              0.4444444444444444,
              "#bd3786"
             ],
             [
              0.5555555555555556,
              "#d8576b"
             ],
             [
              0.6666666666666666,
              "#ed7953"
             ],
             [
              0.7777777777777778,
              "#fb9f3a"
             ],
             [
              0.8888888888888888,
              "#fdca26"
             ],
             [
              1,
              "#f0f921"
             ]
            ],
            "type": "histogram2dcontour"
           }
          ],
          "mesh3d": [
           {
            "colorbar": {
             "outlinewidth": 0,
             "ticks": ""
            },
            "type": "mesh3d"
           }
          ],
          "parcoords": [
           {
            "line": {
             "colorbar": {
              "outlinewidth": 0,
              "ticks": ""
             }
            },
            "type": "parcoords"
           }
          ],
          "pie": [
           {
            "automargin": true,
            "type": "pie"
           }
          ],
          "scatter": [
           {
            "fillpattern": {
             "fillmode": "overlay",
             "size": 10,
             "solidity": 0.2
            },
            "type": "scatter"
           }
          ],
          "scatter3d": [
           {
            "line": {
             "colorbar": {
              "outlinewidth": 0,
              "ticks": ""
             }
            },
            "marker": {
             "colorbar": {
              "outlinewidth": 0,
              "ticks": ""
             }
            },
            "type": "scatter3d"
           }
          ],
          "scattercarpet": [
           {
            "marker": {
             "colorbar": {
              "outlinewidth": 0,
              "ticks": ""
             }
            },
            "type": "scattercarpet"
           }
          ],
          "scattergeo": [
           {
            "marker": {
             "colorbar": {
              "outlinewidth": 0,
              "ticks": ""
             }
            },
            "type": "scattergeo"
           }
          ],
          "scattergl": [
           {
            "marker": {
             "colorbar": {
              "outlinewidth": 0,
              "ticks": ""
             }
            },
            "type": "scattergl"
           }
          ],
          "scattermapbox": [
           {
            "marker": {
             "colorbar": {
              "outlinewidth": 0,
              "ticks": ""
             }
            },
            "type": "scattermapbox"
           }
          ],
          "scatterpolar": [
           {
            "marker": {
             "colorbar": {
              "outlinewidth": 0,
              "ticks": ""
             }
            },
            "type": "scatterpolar"
           }
          ],
          "scatterpolargl": [
           {
            "marker": {
             "colorbar": {
              "outlinewidth": 0,
              "ticks": ""
             }
            },
            "type": "scatterpolargl"
           }
          ],
          "scatterternary": [
           {
            "marker": {
             "colorbar": {
              "outlinewidth": 0,
              "ticks": ""
             }
            },
            "type": "scatterternary"
           }
          ],
          "surface": [
           {
            "colorbar": {
             "outlinewidth": 0,
             "ticks": ""
            },
            "colorscale": [
             [
              0,
              "#0d0887"
             ],
             [
              0.1111111111111111,
              "#46039f"
             ],
             [
              0.2222222222222222,
              "#7201a8"
             ],
             [
              0.3333333333333333,
              "#9c179e"
             ],
             [
              0.4444444444444444,
              "#bd3786"
             ],
             [
              0.5555555555555556,
              "#d8576b"
             ],
             [
              0.6666666666666666,
              "#ed7953"
             ],
             [
              0.7777777777777778,
              "#fb9f3a"
             ],
             [
              0.8888888888888888,
              "#fdca26"
             ],
             [
              1,
              "#f0f921"
             ]
            ],
            "type": "surface"
           }
          ],
          "table": [
           {
            "cells": {
             "fill": {
              "color": "#EBF0F8"
             },
             "line": {
              "color": "white"
             }
            },
            "header": {
             "fill": {
              "color": "#C8D4E3"
             },
             "line": {
              "color": "white"
             }
            },
            "type": "table"
           }
          ]
         },
         "layout": {
          "annotationdefaults": {
           "arrowcolor": "#2a3f5f",
           "arrowhead": 0,
           "arrowwidth": 1
          },
          "autotypenumbers": "strict",
          "coloraxis": {
           "colorbar": {
            "outlinewidth": 0,
            "ticks": ""
           }
          },
          "colorscale": {
           "diverging": [
            [
             0,
             "#8e0152"
            ],
            [
             0.1,
             "#c51b7d"
            ],
            [
             0.2,
             "#de77ae"
            ],
            [
             0.3,
             "#f1b6da"
            ],
            [
             0.4,
             "#fde0ef"
            ],
            [
             0.5,
             "#f7f7f7"
            ],
            [
             0.6,
             "#e6f5d0"
            ],
            [
             0.7,
             "#b8e186"
            ],
            [
             0.8,
             "#7fbc41"
            ],
            [
             0.9,
             "#4d9221"
            ],
            [
             1,
             "#276419"
            ]
           ],
           "sequential": [
            [
             0,
             "#0d0887"
            ],
            [
             0.1111111111111111,
             "#46039f"
            ],
            [
             0.2222222222222222,
             "#7201a8"
            ],
            [
             0.3333333333333333,
             "#9c179e"
            ],
            [
             0.4444444444444444,
             "#bd3786"
            ],
            [
             0.5555555555555556,
             "#d8576b"
            ],
            [
             0.6666666666666666,
             "#ed7953"
            ],
            [
             0.7777777777777778,
             "#fb9f3a"
            ],
            [
             0.8888888888888888,
             "#fdca26"
            ],
            [
             1,
             "#f0f921"
            ]
           ],
           "sequentialminus": [
            [
             0,
             "#0d0887"
            ],
            [
             0.1111111111111111,
             "#46039f"
            ],
            [
             0.2222222222222222,
             "#7201a8"
            ],
            [
             0.3333333333333333,
             "#9c179e"
            ],
            [
             0.4444444444444444,
             "#bd3786"
            ],
            [
             0.5555555555555556,
             "#d8576b"
            ],
            [
             0.6666666666666666,
             "#ed7953"
            ],
            [
             0.7777777777777778,
             "#fb9f3a"
            ],
            [
             0.8888888888888888,
             "#fdca26"
            ],
            [
             1,
             "#f0f921"
            ]
           ]
          },
          "colorway": [
           "#636efa",
           "#EF553B",
           "#00cc96",
           "#ab63fa",
           "#FFA15A",
           "#19d3f3",
           "#FF6692",
           "#B6E880",
           "#FF97FF",
           "#FECB52"
          ],
          "font": {
           "color": "#2a3f5f"
          },
          "geo": {
           "bgcolor": "white",
           "lakecolor": "white",
           "landcolor": "#E5ECF6",
           "showlakes": true,
           "showland": true,
           "subunitcolor": "white"
          },
          "hoverlabel": {
           "align": "left"
          },
          "hovermode": "closest",
          "mapbox": {
           "style": "light"
          },
          "paper_bgcolor": "white",
          "plot_bgcolor": "#E5ECF6",
          "polar": {
           "angularaxis": {
            "gridcolor": "white",
            "linecolor": "white",
            "ticks": ""
           },
           "bgcolor": "#E5ECF6",
           "radialaxis": {
            "gridcolor": "white",
            "linecolor": "white",
            "ticks": ""
           }
          },
          "scene": {
           "xaxis": {
            "backgroundcolor": "#E5ECF6",
            "gridcolor": "white",
            "gridwidth": 2,
            "linecolor": "white",
            "showbackground": true,
            "ticks": "",
            "zerolinecolor": "white"
           },
           "yaxis": {
            "backgroundcolor": "#E5ECF6",
            "gridcolor": "white",
            "gridwidth": 2,
            "linecolor": "white",
            "showbackground": true,
            "ticks": "",
            "zerolinecolor": "white"
           },
           "zaxis": {
            "backgroundcolor": "#E5ECF6",
            "gridcolor": "white",
            "gridwidth": 2,
            "linecolor": "white",
            "showbackground": true,
            "ticks": "",
            "zerolinecolor": "white"
           }
          },
          "shapedefaults": {
           "line": {
            "color": "#2a3f5f"
           }
          },
          "ternary": {
           "aaxis": {
            "gridcolor": "white",
            "linecolor": "white",
            "ticks": ""
           },
           "baxis": {
            "gridcolor": "white",
            "linecolor": "white",
            "ticks": ""
           },
           "bgcolor": "#E5ECF6",
           "caxis": {
            "gridcolor": "white",
            "linecolor": "white",
            "ticks": ""
           }
          },
          "title": {
           "x": 0.05
          },
          "xaxis": {
           "automargin": true,
           "gridcolor": "white",
           "linecolor": "white",
           "ticks": "",
           "title": {
            "standoff": 15
           },
           "zerolinecolor": "white",
           "zerolinewidth": 2
          },
          "yaxis": {
           "automargin": true,
           "gridcolor": "white",
           "linecolor": "white",
           "ticks": "",
           "title": {
            "standoff": 15
           },
           "zerolinecolor": "white",
           "zerolinewidth": 2
          }
         }
        },
        "title": {
         "text": "Real vs. Synthetic Data for column 'Race'"
        },
        "xaxis": {
         "anchor": "y",
         "domain": [
          0,
          1
         ],
         "title": {
          "text": "Category"
         }
        },
        "yaxis": {
         "anchor": "x",
         "domain": [
          0,
          1
         ],
         "title": {
          "text": "Frequency"
         }
        }
       }
      }
     },
     "metadata": {},
     "output_type": "display_data"
    },
    {
     "data": {
      "application/vnd.plotly.v1+json": {
       "config": {
        "plotlyServerURL": "https://plot.ly"
       },
       "data": [
        {
         "alignmentgroup": "True",
         "bingroup": "x",
         "histnorm": "probability density",
         "hovertemplate": "<b>Real</b><br>Frequency: %{y}<extra></extra>",
         "legendgroup": "Real",
         "marker": {
          "color": "#000036",
          "pattern": {
           "shape": ""
          }
         },
         "name": "Real",
         "offsetgroup": "Real",
         "orientation": "v",
         "showlegend": true,
         "type": "histogram",
         "x": [
          "Male",
          "Male",
          "Male",
          "Male",
          "Female",
          "Female",
          "Female",
          "Male",
          "Female",
          "Male",
          "Male",
          "Male",
          "Female",
          "Male",
          "Male",
          "Male",
          "Male",
          "Male",
          "Male",
          "Female",
          "Male",
          "Female",
          "Male",
          "Male",
          "Female",
          "Male",
          "Male",
          "Male",
          "Male",
          "Male",
          "Male",
          "Male",
          "Male",
          "Male",
          "Male",
          "Male",
          "Male",
          "Female",
          "Male",
          "Male",
          "Male",
          "Male",
          "Male",
          "Female",
          "Male",
          "Male",
          "Male",
          "Female",
          "Male",
          "Male",
          "Female",
          "Female",
          "Female",
          "Male",
          "Male",
          "Male",
          "Male",
          "Male",
          "Male",
          "Male",
          "Male",
          "Male",
          "Male",
          "Male",
          "Male",
          "Male",
          "Female",
          "Female",
          "Male",
          "Male",
          "Male",
          "Female",
          "Male",
          "Male",
          "Male",
          "Male",
          "Male",
          "Male",
          "Female",
          "Male",
          "Male",
          "Male",
          "Female",
          "Male",
          "Female",
          "Female",
          "Male",
          "Male",
          "Male",
          "Female",
          "Male",
          "Female",
          "Female",
          "Female",
          "Male",
          "Male",
          "Male",
          "Male",
          "Female",
          "Male",
          "Male",
          "Male",
          "Female",
          "Female",
          "Male",
          "Male",
          "Female",
          "Male",
          "Female",
          "Male",
          "Male",
          "Male",
          "Male",
          "Female",
          "Female",
          "Male",
          "Male",
          "Male",
          "Male",
          "Male",
          "Female",
          "Male",
          "Male",
          "Male",
          "Male",
          "Female",
          "Female",
          "Male",
          "Male",
          "Male",
          "Female",
          "Female",
          "Male",
          "Male",
          "Female",
          "Male",
          "Male",
          "Female",
          "Male",
          "Male",
          "Male",
          "Female",
          "Male",
          "Female",
          "Male",
          "Female",
          "Male",
          "Female",
          "Male",
          "Female",
          "Female",
          "Female",
          "Female",
          "Male",
          "Male",
          "Male",
          "Male",
          "Male",
          "Male",
          "Male",
          "Female",
          "Female",
          "Female",
          "Female",
          "Male",
          "Female",
          "Male",
          "Male",
          "Male",
          "Female",
          "Male",
          "Male",
          "Male",
          "Male",
          "Male",
          "Female",
          "Male",
          "Male",
          "Male",
          "Male",
          "Male",
          "Female",
          "Male",
          "Male",
          "Male",
          "Male",
          "Female",
          "Female",
          "Female",
          "Male",
          "Female",
          "Male",
          "Male",
          "Male",
          "Male",
          "Male",
          "Male",
          "Female",
          "Male",
          "Male"
         ],
         "xaxis": "x",
         "yaxis": "y"
        },
        {
         "alignmentgroup": "True",
         "bingroup": "x",
         "histnorm": "probability density",
         "hovertemplate": "<b>Synthetic</b><br>Frequency: %{y}<extra></extra>",
         "legendgroup": "Synthetic",
         "marker": {
          "color": "#01E0C9",
          "pattern": {
           "shape": "/"
          }
         },
         "name": "Synthetic",
         "offsetgroup": "Synthetic",
         "orientation": "v",
         "showlegend": true,
         "type": "histogram",
         "x": [
          "Male",
          "Male",
          "Male",
          "Male",
          "Male",
          "Male",
          "Female",
          "Male",
          "Male",
          "Female",
          "Male",
          "Male",
          "Male",
          "Male",
          "Male",
          "Male",
          "Male",
          "Male",
          "Male",
          "Male",
          "Male",
          "Female",
          "Male",
          "Male",
          "Male",
          "Male",
          "Female",
          "Male",
          "Male",
          "Male",
          "Female",
          "Female",
          "Male",
          "Male",
          "Male",
          "Male",
          "Female",
          "Male",
          "Male",
          "Male",
          "Male",
          "Male",
          "Male",
          "Male",
          "Male",
          "Female",
          "Female",
          "Male",
          "Male",
          "Male",
          "Male",
          "Male",
          "Male",
          "Male",
          "Male",
          "Male",
          "Male",
          "Male",
          "Male",
          "Male",
          "Female",
          "Female",
          "Female",
          "Male",
          "Male",
          "Male",
          "Male",
          "Male",
          "Male",
          "Male",
          "Male",
          "Female",
          "Male",
          "Male",
          "Female",
          "Male",
          "Male",
          "Female",
          "Male",
          "Male",
          "Male",
          "Male",
          "Male",
          "Female",
          "Female",
          "Female",
          "Male",
          "Male",
          "Male",
          "Male",
          "Male",
          "Male",
          "Male",
          "Female",
          "Male",
          "Male",
          "Female",
          "Male",
          "Male",
          "Male"
         ],
         "xaxis": "x",
         "yaxis": "y"
        }
       ],
       "layout": {
        "barmode": "group",
        "font": {
         "size": 18
        },
        "legend": {
         "title": {
          "text": "Data"
         },
         "tracegroupgap": 0
        },
        "margin": {
         "t": 60
        },
        "plot_bgcolor": "#F5F5F8",
        "template": {
         "data": {
          "bar": [
           {
            "error_x": {
             "color": "#2a3f5f"
            },
            "error_y": {
             "color": "#2a3f5f"
            },
            "marker": {
             "line": {
              "color": "#E5ECF6",
              "width": 0.5
             },
             "pattern": {
              "fillmode": "overlay",
              "size": 10,
              "solidity": 0.2
             }
            },
            "type": "bar"
           }
          ],
          "barpolar": [
           {
            "marker": {
             "line": {
              "color": "#E5ECF6",
              "width": 0.5
             },
             "pattern": {
              "fillmode": "overlay",
              "size": 10,
              "solidity": 0.2
             }
            },
            "type": "barpolar"
           }
          ],
          "carpet": [
           {
            "aaxis": {
             "endlinecolor": "#2a3f5f",
             "gridcolor": "white",
             "linecolor": "white",
             "minorgridcolor": "white",
             "startlinecolor": "#2a3f5f"
            },
            "baxis": {
             "endlinecolor": "#2a3f5f",
             "gridcolor": "white",
             "linecolor": "white",
             "minorgridcolor": "white",
             "startlinecolor": "#2a3f5f"
            },
            "type": "carpet"
           }
          ],
          "choropleth": [
           {
            "colorbar": {
             "outlinewidth": 0,
             "ticks": ""
            },
            "type": "choropleth"
           }
          ],
          "contour": [
           {
            "colorbar": {
             "outlinewidth": 0,
             "ticks": ""
            },
            "colorscale": [
             [
              0,
              "#0d0887"
             ],
             [
              0.1111111111111111,
              "#46039f"
             ],
             [
              0.2222222222222222,
              "#7201a8"
             ],
             [
              0.3333333333333333,
              "#9c179e"
             ],
             [
              0.4444444444444444,
              "#bd3786"
             ],
             [
              0.5555555555555556,
              "#d8576b"
             ],
             [
              0.6666666666666666,
              "#ed7953"
             ],
             [
              0.7777777777777778,
              "#fb9f3a"
             ],
             [
              0.8888888888888888,
              "#fdca26"
             ],
             [
              1,
              "#f0f921"
             ]
            ],
            "type": "contour"
           }
          ],
          "contourcarpet": [
           {
            "colorbar": {
             "outlinewidth": 0,
             "ticks": ""
            },
            "type": "contourcarpet"
           }
          ],
          "heatmap": [
           {
            "colorbar": {
             "outlinewidth": 0,
             "ticks": ""
            },
            "colorscale": [
             [
              0,
              "#0d0887"
             ],
             [
              0.1111111111111111,
              "#46039f"
             ],
             [
              0.2222222222222222,
              "#7201a8"
             ],
             [
              0.3333333333333333,
              "#9c179e"
             ],
             [
              0.4444444444444444,
              "#bd3786"
             ],
             [
              0.5555555555555556,
              "#d8576b"
             ],
             [
              0.6666666666666666,
              "#ed7953"
             ],
             [
              0.7777777777777778,
              "#fb9f3a"
             ],
             [
              0.8888888888888888,
              "#fdca26"
             ],
             [
              1,
              "#f0f921"
             ]
            ],
            "type": "heatmap"
           }
          ],
          "heatmapgl": [
           {
            "colorbar": {
             "outlinewidth": 0,
             "ticks": ""
            },
            "colorscale": [
             [
              0,
              "#0d0887"
             ],
             [
              0.1111111111111111,
              "#46039f"
             ],
             [
              0.2222222222222222,
              "#7201a8"
             ],
             [
              0.3333333333333333,
              "#9c179e"
             ],
             [
              0.4444444444444444,
              "#bd3786"
             ],
             [
              0.5555555555555556,
              "#d8576b"
             ],
             [
              0.6666666666666666,
              "#ed7953"
             ],
             [
              0.7777777777777778,
              "#fb9f3a"
             ],
             [
              0.8888888888888888,
              "#fdca26"
             ],
             [
              1,
              "#f0f921"
             ]
            ],
            "type": "heatmapgl"
           }
          ],
          "histogram": [
           {
            "marker": {
             "pattern": {
              "fillmode": "overlay",
              "size": 10,
              "solidity": 0.2
             }
            },
            "type": "histogram"
           }
          ],
          "histogram2d": [
           {
            "colorbar": {
             "outlinewidth": 0,
             "ticks": ""
            },
            "colorscale": [
             [
              0,
              "#0d0887"
             ],
             [
              0.1111111111111111,
              "#46039f"
             ],
             [
              0.2222222222222222,
              "#7201a8"
             ],
             [
              0.3333333333333333,
              "#9c179e"
             ],
             [
              0.4444444444444444,
              "#bd3786"
             ],
             [
              0.5555555555555556,
              "#d8576b"
             ],
             [
              0.6666666666666666,
              "#ed7953"
             ],
             [
              0.7777777777777778,
              "#fb9f3a"
             ],
             [
              0.8888888888888888,
              "#fdca26"
             ],
             [
              1,
              "#f0f921"
             ]
            ],
            "type": "histogram2d"
           }
          ],
          "histogram2dcontour": [
           {
            "colorbar": {
             "outlinewidth": 0,
             "ticks": ""
            },
            "colorscale": [
             [
              0,
              "#0d0887"
             ],
             [
              0.1111111111111111,
              "#46039f"
             ],
             [
              0.2222222222222222,
              "#7201a8"
             ],
             [
              0.3333333333333333,
              "#9c179e"
             ],
             [
              0.4444444444444444,
              "#bd3786"
             ],
             [
              0.5555555555555556,
              "#d8576b"
             ],
             [
              0.6666666666666666,
              "#ed7953"
             ],
             [
              0.7777777777777778,
              "#fb9f3a"
             ],
             [
              0.8888888888888888,
              "#fdca26"
             ],
             [
              1,
              "#f0f921"
             ]
            ],
            "type": "histogram2dcontour"
           }
          ],
          "mesh3d": [
           {
            "colorbar": {
             "outlinewidth": 0,
             "ticks": ""
            },
            "type": "mesh3d"
           }
          ],
          "parcoords": [
           {
            "line": {
             "colorbar": {
              "outlinewidth": 0,
              "ticks": ""
             }
            },
            "type": "parcoords"
           }
          ],
          "pie": [
           {
            "automargin": true,
            "type": "pie"
           }
          ],
          "scatter": [
           {
            "fillpattern": {
             "fillmode": "overlay",
             "size": 10,
             "solidity": 0.2
            },
            "type": "scatter"
           }
          ],
          "scatter3d": [
           {
            "line": {
             "colorbar": {
              "outlinewidth": 0,
              "ticks": ""
             }
            },
            "marker": {
             "colorbar": {
              "outlinewidth": 0,
              "ticks": ""
             }
            },
            "type": "scatter3d"
           }
          ],
          "scattercarpet": [
           {
            "marker": {
             "colorbar": {
              "outlinewidth": 0,
              "ticks": ""
             }
            },
            "type": "scattercarpet"
           }
          ],
          "scattergeo": [
           {
            "marker": {
             "colorbar": {
              "outlinewidth": 0,
              "ticks": ""
             }
            },
            "type": "scattergeo"
           }
          ],
          "scattergl": [
           {
            "marker": {
             "colorbar": {
              "outlinewidth": 0,
              "ticks": ""
             }
            },
            "type": "scattergl"
           }
          ],
          "scattermapbox": [
           {
            "marker": {
             "colorbar": {
              "outlinewidth": 0,
              "ticks": ""
             }
            },
            "type": "scattermapbox"
           }
          ],
          "scatterpolar": [
           {
            "marker": {
             "colorbar": {
              "outlinewidth": 0,
              "ticks": ""
             }
            },
            "type": "scatterpolar"
           }
          ],
          "scatterpolargl": [
           {
            "marker": {
             "colorbar": {
              "outlinewidth": 0,
              "ticks": ""
             }
            },
            "type": "scatterpolargl"
           }
          ],
          "scatterternary": [
           {
            "marker": {
             "colorbar": {
              "outlinewidth": 0,
              "ticks": ""
             }
            },
            "type": "scatterternary"
           }
          ],
          "surface": [
           {
            "colorbar": {
             "outlinewidth": 0,
             "ticks": ""
            },
            "colorscale": [
             [
              0,
              "#0d0887"
             ],
             [
              0.1111111111111111,
              "#46039f"
             ],
             [
              0.2222222222222222,
              "#7201a8"
             ],
             [
              0.3333333333333333,
              "#9c179e"
             ],
             [
              0.4444444444444444,
              "#bd3786"
             ],
             [
              0.5555555555555556,
              "#d8576b"
             ],
             [
              0.6666666666666666,
              "#ed7953"
             ],
             [
              0.7777777777777778,
              "#fb9f3a"
             ],
             [
              0.8888888888888888,
              "#fdca26"
             ],
             [
              1,
              "#f0f921"
             ]
            ],
            "type": "surface"
           }
          ],
          "table": [
           {
            "cells": {
             "fill": {
              "color": "#EBF0F8"
             },
             "line": {
              "color": "white"
             }
            },
            "header": {
             "fill": {
              "color": "#C8D4E3"
             },
             "line": {
              "color": "white"
             }
            },
            "type": "table"
           }
          ]
         },
         "layout": {
          "annotationdefaults": {
           "arrowcolor": "#2a3f5f",
           "arrowhead": 0,
           "arrowwidth": 1
          },
          "autotypenumbers": "strict",
          "coloraxis": {
           "colorbar": {
            "outlinewidth": 0,
            "ticks": ""
           }
          },
          "colorscale": {
           "diverging": [
            [
             0,
             "#8e0152"
            ],
            [
             0.1,
             "#c51b7d"
            ],
            [
             0.2,
             "#de77ae"
            ],
            [
             0.3,
             "#f1b6da"
            ],
            [
             0.4,
             "#fde0ef"
            ],
            [
             0.5,
             "#f7f7f7"
            ],
            [
             0.6,
             "#e6f5d0"
            ],
            [
             0.7,
             "#b8e186"
            ],
            [
             0.8,
             "#7fbc41"
            ],
            [
             0.9,
             "#4d9221"
            ],
            [
             1,
             "#276419"
            ]
           ],
           "sequential": [
            [
             0,
             "#0d0887"
            ],
            [
             0.1111111111111111,
             "#46039f"
            ],
            [
             0.2222222222222222,
             "#7201a8"
            ],
            [
             0.3333333333333333,
             "#9c179e"
            ],
            [
             0.4444444444444444,
             "#bd3786"
            ],
            [
             0.5555555555555556,
             "#d8576b"
            ],
            [
             0.6666666666666666,
             "#ed7953"
            ],
            [
             0.7777777777777778,
             "#fb9f3a"
            ],
            [
             0.8888888888888888,
             "#fdca26"
            ],
            [
             1,
             "#f0f921"
            ]
           ],
           "sequentialminus": [
            [
             0,
             "#0d0887"
            ],
            [
             0.1111111111111111,
             "#46039f"
            ],
            [
             0.2222222222222222,
             "#7201a8"
            ],
            [
             0.3333333333333333,
             "#9c179e"
            ],
            [
             0.4444444444444444,
             "#bd3786"
            ],
            [
             0.5555555555555556,
             "#d8576b"
            ],
            [
             0.6666666666666666,
             "#ed7953"
            ],
            [
             0.7777777777777778,
             "#fb9f3a"
            ],
            [
             0.8888888888888888,
             "#fdca26"
            ],
            [
             1,
             "#f0f921"
            ]
           ]
          },
          "colorway": [
           "#636efa",
           "#EF553B",
           "#00cc96",
           "#ab63fa",
           "#FFA15A",
           "#19d3f3",
           "#FF6692",
           "#B6E880",
           "#FF97FF",
           "#FECB52"
          ],
          "font": {
           "color": "#2a3f5f"
          },
          "geo": {
           "bgcolor": "white",
           "lakecolor": "white",
           "landcolor": "#E5ECF6",
           "showlakes": true,
           "showland": true,
           "subunitcolor": "white"
          },
          "hoverlabel": {
           "align": "left"
          },
          "hovermode": "closest",
          "mapbox": {
           "style": "light"
          },
          "paper_bgcolor": "white",
          "plot_bgcolor": "#E5ECF6",
          "polar": {
           "angularaxis": {
            "gridcolor": "white",
            "linecolor": "white",
            "ticks": ""
           },
           "bgcolor": "#E5ECF6",
           "radialaxis": {
            "gridcolor": "white",
            "linecolor": "white",
            "ticks": ""
           }
          },
          "scene": {
           "xaxis": {
            "backgroundcolor": "#E5ECF6",
            "gridcolor": "white",
            "gridwidth": 2,
            "linecolor": "white",
            "showbackground": true,
            "ticks": "",
            "zerolinecolor": "white"
           },
           "yaxis": {
            "backgroundcolor": "#E5ECF6",
            "gridcolor": "white",
            "gridwidth": 2,
            "linecolor": "white",
            "showbackground": true,
            "ticks": "",
            "zerolinecolor": "white"
           },
           "zaxis": {
            "backgroundcolor": "#E5ECF6",
            "gridcolor": "white",
            "gridwidth": 2,
            "linecolor": "white",
            "showbackground": true,
            "ticks": "",
            "zerolinecolor": "white"
           }
          },
          "shapedefaults": {
           "line": {
            "color": "#2a3f5f"
           }
          },
          "ternary": {
           "aaxis": {
            "gridcolor": "white",
            "linecolor": "white",
            "ticks": ""
           },
           "baxis": {
            "gridcolor": "white",
            "linecolor": "white",
            "ticks": ""
           },
           "bgcolor": "#E5ECF6",
           "caxis": {
            "gridcolor": "white",
            "linecolor": "white",
            "ticks": ""
           }
          },
          "title": {
           "x": 0.05
          },
          "xaxis": {
           "automargin": true,
           "gridcolor": "white",
           "linecolor": "white",
           "ticks": "",
           "title": {
            "standoff": 15
           },
           "zerolinecolor": "white",
           "zerolinewidth": 2
          },
          "yaxis": {
           "automargin": true,
           "gridcolor": "white",
           "linecolor": "white",
           "ticks": "",
           "title": {
            "standoff": 15
           },
           "zerolinecolor": "white",
           "zerolinewidth": 2
          }
         }
        },
        "title": {
         "text": "Real vs. Synthetic Data for column 'Sex'"
        },
        "xaxis": {
         "anchor": "y",
         "domain": [
          0,
          1
         ],
         "title": {
          "text": "Category"
         }
        },
        "yaxis": {
         "anchor": "x",
         "domain": [
          0,
          1
         ],
         "title": {
          "text": "Frequency"
         }
        }
       }
      }
     },
     "metadata": {},
     "output_type": "display_data"
    },
    {
     "data": {
      "application/vnd.plotly.v1+json": {
       "config": {
        "plotlyServerURL": "https://plot.ly"
       },
       "data": [
        {
         "fill": "tozeroy",
         "hovertemplate": "<b>Real</b><br>Frequency: %{y}<extra></extra>",
         "legendgroup": "Real",
         "marker": {
          "color": "#000036"
         },
         "mode": "lines",
         "name": "Real",
         "showlegend": true,
         "type": "scatter",
         "x": [
          1,
          1.158,
          1.316,
          1.474,
          1.6320000000000001,
          1.79,
          1.948,
          2.106,
          2.2640000000000002,
          2.4219999999999997,
          2.58,
          2.738,
          2.896,
          3.054,
          3.212,
          3.37,
          3.528,
          3.686,
          3.844,
          4.002,
          4.16,
          4.318,
          4.476,
          4.634,
          4.792,
          4.95,
          5.108,
          5.266,
          5.424,
          5.582,
          5.74,
          5.898,
          6.056,
          6.214,
          6.372,
          6.53,
          6.688,
          6.846,
          7.004,
          7.162,
          7.32,
          7.478,
          7.636,
          7.794,
          7.952,
          8.11,
          8.268,
          8.426,
          8.584,
          8.742,
          8.9,
          9.058,
          9.216,
          9.374,
          9.532,
          9.69,
          9.848,
          10.006,
          10.164,
          10.322,
          10.48,
          10.638,
          10.796,
          10.954,
          11.112,
          11.27,
          11.428,
          11.586,
          11.744,
          11.902,
          12.06,
          12.218,
          12.376,
          12.534,
          12.692,
          12.85,
          13.008,
          13.166,
          13.324,
          13.482,
          13.64,
          13.798,
          13.956,
          14.114,
          14.272,
          14.43,
          14.588,
          14.746,
          14.904,
          15.062,
          15.22,
          15.378,
          15.536,
          15.694,
          15.852,
          16.009999999999998,
          16.168,
          16.326,
          16.484,
          16.642,
          16.8,
          16.958,
          17.116,
          17.274,
          17.432,
          17.59,
          17.748,
          17.906,
          18.064,
          18.222,
          18.38,
          18.538,
          18.696,
          18.854,
          19.012,
          19.17,
          19.328,
          19.486,
          19.644,
          19.802,
          19.96,
          20.118,
          20.276,
          20.434,
          20.592,
          20.75,
          20.908,
          21.066,
          21.224,
          21.382,
          21.54,
          21.698,
          21.856,
          22.014,
          22.172,
          22.33,
          22.488,
          22.646,
          22.804,
          22.962,
          23.12,
          23.278,
          23.436,
          23.594,
          23.752,
          23.91,
          24.068,
          24.226,
          24.384,
          24.542,
          24.7,
          24.858,
          25.016,
          25.174,
          25.332,
          25.49,
          25.648,
          25.806,
          25.964,
          26.122,
          26.28,
          26.438,
          26.596,
          26.754,
          26.912,
          27.07,
          27.228,
          27.386,
          27.544,
          27.702,
          27.86,
          28.018,
          28.176,
          28.334,
          28.492,
          28.65,
          28.808,
          28.966,
          29.124,
          29.282,
          29.44,
          29.598,
          29.756,
          29.914,
          30.072,
          30.23,
          30.388,
          30.546,
          30.704,
          30.862,
          31.02,
          31.178,
          31.336,
          31.494,
          31.652,
          31.81,
          31.968,
          32.126000000000005,
          32.284,
          32.442,
          32.6,
          32.757999999999996,
          32.916,
          33.074,
          33.232,
          33.39,
          33.548,
          33.706,
          33.864,
          34.022,
          34.18,
          34.338,
          34.496,
          34.654,
          34.812,
          34.97,
          35.128,
          35.286,
          35.444,
          35.602,
          35.76,
          35.918,
          36.076,
          36.234,
          36.392,
          36.55,
          36.708,
          36.866,
          37.024,
          37.182,
          37.34,
          37.498,
          37.656,
          37.814,
          37.972,
          38.13,
          38.288,
          38.446,
          38.604,
          38.762,
          38.92,
          39.078,
          39.236,
          39.394,
          39.552,
          39.71,
          39.868,
          40.026,
          40.184,
          40.342,
          40.5,
          40.658,
          40.816,
          40.974,
          41.132,
          41.29,
          41.448,
          41.606,
          41.764,
          41.922,
          42.08,
          42.238,
          42.396,
          42.554,
          42.712,
          42.87,
          43.028,
          43.186,
          43.344,
          43.502,
          43.66,
          43.818,
          43.976,
          44.134,
          44.292,
          44.45,
          44.608,
          44.766,
          44.924,
          45.082,
          45.24,
          45.398,
          45.556,
          45.714,
          45.872,
          46.03,
          46.188,
          46.346,
          46.504,
          46.662,
          46.82,
          46.978,
          47.136,
          47.294,
          47.452,
          47.61,
          47.768,
          47.926,
          48.084,
          48.242,
          48.4,
          48.558,
          48.716,
          48.874,
          49.032,
          49.19,
          49.348,
          49.506,
          49.664,
          49.822,
          49.98,
          50.138,
          50.296,
          50.454,
          50.612,
          50.77,
          50.928,
          51.086,
          51.244,
          51.402,
          51.56,
          51.718,
          51.876,
          52.034,
          52.192,
          52.35,
          52.508,
          52.666,
          52.824,
          52.982,
          53.14,
          53.298,
          53.456,
          53.614,
          53.772,
          53.93,
          54.088,
          54.246,
          54.404,
          54.562,
          54.72,
          54.878,
          55.036,
          55.194,
          55.352,
          55.51,
          55.668,
          55.826,
          55.984,
          56.142,
          56.3,
          56.458,
          56.616,
          56.774,
          56.932,
          57.09,
          57.248,
          57.406,
          57.564,
          57.722,
          57.88,
          58.038,
          58.196,
          58.354,
          58.512,
          58.67,
          58.828,
          58.986,
          59.144,
          59.302,
          59.46,
          59.618,
          59.776,
          59.934,
          60.092,
          60.25,
          60.408,
          60.566,
          60.724,
          60.882,
          61.04,
          61.198,
          61.356,
          61.514,
          61.672,
          61.83,
          61.988,
          62.146,
          62.304,
          62.462,
          62.62,
          62.778,
          62.936,
          63.094,
          63.252,
          63.41,
          63.568,
          63.726,
          63.884,
          64.042,
          64.2,
          64.358,
          64.51599999999999,
          64.674,
          64.832,
          64.99000000000001,
          65.148,
          65.306,
          65.464,
          65.622,
          65.78,
          65.938,
          66.096,
          66.254,
          66.412,
          66.57,
          66.728,
          66.886,
          67.044,
          67.202,
          67.36,
          67.518,
          67.676,
          67.834,
          67.992,
          68.15,
          68.308,
          68.466,
          68.624,
          68.782,
          68.94,
          69.098,
          69.256,
          69.414,
          69.572,
          69.73,
          69.888,
          70.046,
          70.204,
          70.362,
          70.52,
          70.678,
          70.836,
          70.994,
          71.152,
          71.31,
          71.468,
          71.626,
          71.784,
          71.942,
          72.1,
          72.258,
          72.416,
          72.574,
          72.732,
          72.89,
          73.048,
          73.206,
          73.364,
          73.522,
          73.68,
          73.838,
          73.996,
          74.154,
          74.312,
          74.47,
          74.628,
          74.786,
          74.944,
          75.102,
          75.26,
          75.418,
          75.576,
          75.734,
          75.892,
          76.05,
          76.208,
          76.366,
          76.524,
          76.682,
          76.84,
          76.998,
          77.156,
          77.314,
          77.472,
          77.63,
          77.788,
          77.946,
          78.104,
          78.262,
          78.42,
          78.578,
          78.736,
          78.894,
          79.052,
          79.21,
          79.368,
          79.526,
          79.684,
          79.842
         ],
         "xaxis": "x",
         "y": [
          0.0015229858061562684,
          0.0015341320168916106,
          0.0015430635482240346,
          0.0015497679526638515,
          0.001554246217275061,
          0.0015565129835563459,
          0.0015565966632059454,
          0.001554539447967282,
          0.0015503972128561537,
          0.0015442393131794706,
          0.0015361482768545714,
          0.0015262193946121276,
          0.0015145602117001807,
          0.0015012899256883858,
          0.0014865386958876094,
          0.0014704468707394285,
          0.0014531641402831404,
          0.0014348486214662765,
          0.0014156658846221136,
          0.0013957879298893364,
          0.0013753921226921438,
          0.0013546600976323813,
          0.0013337766402695941,
          0.0013129285562822703,
          0.0012923035374180164,
          0.001272089033457198,
          0.0012524711391401187,
          0.0012336335046498222,
          0.0012157562778094652,
          0.0011990150856540235,
          0.0011835800624805264,
          0.001169614930878766,
          0.001157276141605448,
          0.0011467120774986488,
          0.0011380623259455809,
          0.0011314570237239796,
          0.0011270162773439273,
          0.0011248496613303386,
          0.0011250557962129582,
          0.0011277220073366,
          0.001132924064973964,
          0.0011407260056207713,
          0.0011511800337809738,
          0.0011643265030103751,
          0.0011801939744817424,
          0.0011987993508631887,
          0.0012201480828652226,
          0.0012442344454082828,
          0.0012710418799926264,
          0.0013005433995126744,
          0.0013327020514489474,
          0.0013674714350893988,
          0.0014047962681779064,
          0.0014446129981589989,
          0.0014868504529841424,
          0.0015314305262647651,
          0.0015782688914012144,
          0.0016272757391842586,
          0.0016783565332578053,
          0.0017314127777488882,
          0.001786342791315281,
          0.001843042481833559,
          0.0019014061159537065,
          0.0019613270777824672,
          0.0020226986110281247,
          0.00208541453904837,
          0.0021493699573902516,
          0.0022144618936012347,
          0.00228058992932309,
          0.002347656779957601,
          0.002415568827516137,
          0.0024842366026324135,
          0.0025535752121308513,
          0.0026235047089980213,
          0.0026939504021013198,
          0.0027648431035326793,
          0.002836119312022907,
          0.002907721331467842,
          0.002979597324227054,
          0.003051701299490723,
          0.0031239930376552654,
          0.0031964379522942633,
          0.0032690068919516905,
          0.0033416758846080558,
          0.00341442582827311,
          0.003487242131726714,
          0.0035601143099604775,
          0.003633035539352782,
          0.0037060021780372498,
          0.003779013257288311,
          0.0038520699500443883,
          0.003925175022914125,
          0.003998332278159557,
          0.004071545992220603,
          0.00414482035733697,
          0.004218158932735686,
          0.00429156411168746,
          0.004365036610495483,
          0.004438574985170725,
          0.0045121751811714305,
          0.004585830121151968,
          0.004659529335179042,
          0.004733258637344759,
          0.004806999852140876,
          0.0048807305933681235,
          0.0049544240977460055,
          0.005028049114773066,
          0.005101569853771968,
          0.005174945988448568,
          0.005248132718705624,
          0.005321080888888836,
          0.005393737161110479,
          0.005466044241801116,
          0.005537941159186136,
          0.0056093635889756495,
          0.005680244225196004,
          0.005750513192779942,
          0.005820098498272089,
          0.005888926514796216,
          0.005956922497269471,
          0.00602401112373617,
          0.006090117058627002,
          0.006155165533726948,
          0.006219082942654341,
          0.0062817974447123975,
          0.00634323957406991,
          0.006403342850359165,
          0.006462044386944192,
          0.006519285493308223,
          0.006575012268238619,
          0.0066291761807458225,
          0.00668173463594291,
          0.006732651523432715,
          0.006781897746101803,
          0.006829451727603769,
          0.006875299897230079,
          0.0069194371513146774,
          0.006961867290798177,
          0.007002603435087801,
          0.007041668412889603,
          0.007079095131254395,
          0.007114926924667946,
          0.007149217886620362,
          0.007182033186705534,
          0.007213449376918152,
          0.007243554691424744,
          0.007272449344675876,
          0.007300245833283193,
          0.007327069247596157,
          0.007353057599362885,
          0.0073783621722296544,
          0.007403147902108353,
          0.007427593794603953,
          0.0074518933867237565,
          0.007476255259973557,
          0.007500903611662822,
          0.007526078890777547,
          0.007552038504121348,
          0.0075790575975598524,
          0.007607429916120545,
          0.007637468745394799,
          0.00766950793515346,
          0.007703903004325273,
          0.007741032324500372,
          0.00778129837691559,
          0.007825129075469938,
          0.007872979145719246,
          0.007925331547034311,
          0.007982698922200203,
          0.00804562505571729,
          0.0081146863189743,
          0.008190493077337957,
          0.008273691031090996,
          0.00836496245909601,
          0.008465027331123852,
          0.008574644252016076,
          0.008694611198312463,
          0.00882576600572954,
          0.008968986563988259,
          0.009125190674023707,
          0.009295335521633153,
          0.009480416721196606,
          0.009681466883296705,
          0.00989955366093659,
          0.010135777230657509,
          0.010391267167247399,
          0.010667178673945354,
          0.010964688134128962,
          0.01128498795543735,
          0.011629280683158343,
          0.011998772366485808,
          0.012394665168928613,
          0.012818149222693467,
          0.013270393736231874,
          0.013752537374269324,
          0.014265677940454012,
          0.014810861404161997,
          0.015389070324876006,
          0.016001211739767016,
          0.016648104592511502,
          0.01733046679379406,
          0.018048902016199218,
          0.018803886338085714,
          0.019595754862350243,
          0.020424688446517715,
          0.0212907006901061,
          0.022193625333498078,
          0.023133104229372477,
          0.02410857605290365,
          0.025119265920221057,
          0.02616417608584069,
          0.0272420778887824,
          0.028351505113719755,
          0.02949074892766937,
          0.03065785454433349,
          0.03185061975723079,
          0.03306659546918099,
          0.03430308832960292,
          0.03555716557252892,
          0.03682566212737989,
          0.0381051900515554,
          0.03939215030902429,
          0.04068274689261492,
          0.04197300325992451,
          0.04325878102405576,
          0.04453580081112711,
          0.045799665167117504,
          0.04704588336752901,
          0.04826989795503674,
          0.049467112803209076,
          0.05063292247896332,
          0.05176274265313804,
          0.05285204128782439,
          0.05389637031130248,
          0.05489139747695649,
          0.055832938091672404,
          0.056716986292263634,
          0.05753974554559899,
          0.058297658049477,
          0.05898743271698896,
          0.05960607143712712,
          0.06015089331867161,
          0.06061955664280152,
          0.06101007827218382,
          0.061320850290260395,
          0.06155065367371436,
          0.06169866883325939,
          0.06176448289252365,
          0.06174809361137504,
          0.061649909898069316,
          0.06147074889349063,
          0.06121182964998803,
          0.06087476346626263,
          0.06046154097789723,
          0.059974516139870884,
          0.05941638727225485,
          0.05879017537271913,
          0.058099199929088303,
          0.057347052491514186,
          0.056537568286599095,
          0.05567479617467333,
          0.05476296726623327,
          0.05380646252409898,
          0.052809779684122975,
          0.05177749982922157,
          0.05071425394920649,
          0.04962468981247921,
          0.04851343946531246,
          0.04738508766041144,
          0.04624414149904337,
          0.045095001550567476,
          0.04394193469005867,
          0.04278904886933441,
          0.041640270009430304,
          0.0404993211739236,
          0.03936970415286399,
          0.03825468355689445,
          0.03715727349085907,
          0.0360802268461882,
          0.035026027222023935,
          0.03399688345674497,
          0.03299472672459608,
          0.03202121012680373,
          0.0310777106831192,
          0.030165333608375505,
          0.029284918739540644,
          0.02843704896201938,
          0.027622060469696084,
          0.02684005468144007,
          0.026090911627556612,
          0.025374304612902965,
          0.024689715959067552,
          0.024036453626032996,
          0.023413668514004907,
          0.02282037224846644,
          0.02225545525585252,
          0.02171770494337669,
          0.021205823804317306,
          0.020718447279292368,
          0.02025416121454706,
          0.01981151876986073,
          0.019389056641164554,
          0.018985310476168835,
          0.01859882937505621,
          0.018228189382432102,
          0.017872005891076122,
          0.017528944892458247,
          0.017197733023321324,
          0.01687716637176413,
          0.016566118020050084,
          0.016263544314717923,
          0.015968489867369158,
          0.0156800913016678,
          0.015397579773529478,
          0.015120282302127464,
          0.01484762195914719,
          0.014579116972622454,
          0.014314378809655791,
          0.014053109309321849,
          0.013795096943065497,
          0.013540212284919811,
          0.013288402777880324,
          0.013039686885792951,
          0.01279414772215232,
          0.012551926248293115,
          0.012313214133615746,
          0.012078246369761134,
          0.01184729372907512,
          0.011620655155339225,
          0.011398650171636418,
          0.011181611386437803,
          0.010969877174593181,
          0.010763784604958049,
          0.010563662680958881,
          0.01036982595455409,
          0.010182568567871187,
          0.01000215877034751,
          0.009828833952560576,
          0.009662796231157431,
          0.00950420861246057,
          0.009353191755497706,
          0.009209821348439574,
          0.009074126105789851,
          0.0089460863872111,
          0.0088256334326389,
          0.008712649202378233,
          0.00860696680523681,
          0.008508371492461949,
          0.008416602190347422,
          0.00833135353988985,
          0.008252278407827125,
          0.008178990829800222,
          0.008111069343265309,
          0.008048060665151124,
          0.0079894836671208,
          0.007934833599656898,
          0.007883586515048726,
          0.007835203838715592,
          0.007789137038145499,
          0.007744832339053688,
          0.0077017354391617065,
          0.007659296171243524,
          0.007616973068766925,
          0.007574237789552922,
          0.007530579355356117,
          0.007485508168109366,
          0.0074385597667463174,
          0.007389298291977186,
          0.007337319630116697,
          0.00728225421100318,
          0.007223769439167508,
          0.0071615717416638495,
          0.007095408220318528,
          0.0070250679005397,
          0.006950382573216939,
          0.0068712272305720586,
          0.006787520101063361,
          0.006699222292539941,
          0.006606337056753081,
          0.006508908692014406,
          0.006407021104204088,
          0.006300796049445881,
          0.006190391084541337,
          0.0060759972536720075,
          0.005957836541909306,
          0.005836159127700011,
          0.005711240467711794,
          0.005583378248219993,
          0.005452889237592355,
          0.0053201060743933715,
          0.0051853740251878834,
          0.005049047745299415,
          0.004911488074587397,
          0.004773058898779043,
          0.004634124105055794,
          0.0044950446584851615,
          0.004356175823542357,
          0.004217864552423725,
          0.0040804470591545945,
          0.00394424659568069,
          0.0038095714432453006,
          0.0036767131294370135,
          0.003545944878382138,
          0.003417520298693319,
          0.003291672311003956,
          0.003168612314250652,
          0.003048529587344094,
          0.0029315909205136475,
          0.002817940468449623,
          0.002707699815412825,
          0.0026009682407494633,
          0.002497823171748997,
          0.002398320809519087,
          0.0023024969125256638,
          0.002210367721656063,
          0.002121931010103068,
          0.002037167241028706,
          0.0019560408158381254,
          0.0018785013959614978,
          0.0018044852812911882,
          0.0017339168288354298,
          0.0016667098957099393,
          0.0016027692912791494,
          0.0015419922240575727,
          0.0014842697298744147,
          0.0014294880687696504,
          0.0013775300791131096,
          0.0013282764785016933,
          0.0012816071020792044,
          0.0012374020700253057,
          0.0011955428770609713,
          0.0011559133979083915,
          0.0011184008037124218,
          0.00108289638547152,
          0.0010492962815313936,
          0.0010175021071589974,
          0.0009874214851344763,
          0.0009589684771699287,
          0.0009320639167860889,
          0.0009066356450481408,
          0.000882618651281068,
          0.0008599551215519353,
          0.0008385943983226933,
          0.0008184928552429164,
          0.0007996136915683878,
          0.0007819266511600215,
          0.0007654076714390365,
          0.0007500384680499959,
          0.0007358060613141208,
          0.0007227022508420055,
          0.0007107230449180207,
          0.0006998680514688619,
          0.0006901398375859685,
          0.0006815432646855855,
          0.0006740848064613735,
          0.0006677718568117223,
          0.0006626120349071662,
          0.0006586124945014528,
          0.0006557792444829531,
          0.0006541164875098074,
          0.0006536259833723481,
          0.0006543064434798788,
          0.0006561529625747961,
          0.0006591564934364356,
          0.0006633033699496436,
          0.0006685748834802722,
          0.0006749469170226599,
          0.0006823896410647122,
          0.0006908672745567553,
          0.0007003379137739674,
          0.0007107534312324761,
          0.0007220594461603776,
          0.0007341953673418469,
          0.0007470945084505307,
          0.0007606842752737919,
          0.0007748864235083484,
          0.0007896173850876945,
          0.0008047886602898171,
          0.000820307272177739,
          0.0008360762792534668,
          0.0008519953415660305,
          0.0008679613349145583,
          0.0008838690072356177,
          0.0008996116707682069,
          0.0009150819231568577,
          0.0009301723902901902,
          0.0009447764833848932,
          0.0009587891626186944,
          0.0009721076994947863,
          0.0009846324300874284,
          0.00099626749137647,
          0.0010069215330277053,
          0.0010165083972163201,
          0.0010249477594201865,
          0.0010321657235254054,
          0.0010380953650838485,
          0.0010426772171359495,
          0.0010458596936546035,
          0.0010475994463696554,
          0.0010478616514884458
         ],
         "yaxis": "y"
        },
        {
         "fill": "tozeroy",
         "hovertemplate": "<b>Synthetic</b><br>Frequency: %{y}<extra></extra>",
         "legendgroup": "Synthetic",
         "marker": {
          "color": "#01E0C9"
         },
         "mode": "lines",
         "name": "Synthetic",
         "showlegend": true,
         "type": "scatter",
         "x": [
          -16,
          -15.792,
          -15.584,
          -15.376,
          -15.168,
          -14.96,
          -14.752,
          -14.544,
          -14.336,
          -14.128,
          -13.92,
          -13.712,
          -13.504,
          -13.296,
          -13.088000000000001,
          -12.879999999999999,
          -12.672,
          -12.464,
          -12.256,
          -12.048,
          -11.84,
          -11.632,
          -11.424,
          -11.216000000000001,
          -11.008,
          -10.8,
          -10.591999999999999,
          -10.384,
          -10.176,
          -9.968,
          -9.76,
          -9.552,
          -9.344000000000001,
          -9.136,
          -8.928,
          -8.719999999999999,
          -8.512,
          -8.304,
          -8.096,
          -7.888,
          -7.68,
          -7.4719999999999995,
          -7.263999999999999,
          -7.055999999999999,
          -6.848000000000001,
          -6.640000000000001,
          -6.432,
          -6.224,
          -6.016,
          -5.808,
          -5.6,
          -5.3919999999999995,
          -5.183999999999999,
          -4.976000000000001,
          -4.768000000000001,
          -4.5600000000000005,
          -4.352,
          -4.144,
          -3.936,
          -3.7279999999999998,
          -3.5199999999999996,
          -3.3119999999999994,
          -3.103999999999999,
          -2.896000000000001,
          -2.6880000000000006,
          -2.4800000000000004,
          -2.2720000000000002,
          -2.064,
          -1.8559999999999999,
          -1.6479999999999997,
          -1.4399999999999995,
          -1.2319999999999993,
          -1.0239999999999991,
          -0.8160000000000007,
          -0.6080000000000005,
          -0.40000000000000036,
          -0.19200000000000017,
          0.015999999999998238,
          0.2240000000000002,
          0.4319999999999986,
          0.6400000000000006,
          0.847999999999999,
          1.056000000000001,
          1.2639999999999993,
          1.4720000000000013,
          1.6799999999999997,
          1.8880000000000017,
          2.096,
          2.3039999999999985,
          2.5120000000000005,
          2.719999999999999,
          2.928000000000001,
          3.1359999999999992,
          3.344000000000001,
          3.5519999999999996,
          3.7600000000000016,
          3.968,
          4.175999999999998,
          4.384,
          4.591999999999999,
          4.800000000000001,
          5.007999999999999,
          5.216000000000001,
          5.4239999999999995,
          5.6320000000000014,
          5.84,
          6.047999999999998,
          6.256,
          6.463999999999999,
          6.672000000000001,
          6.879999999999999,
          7.088000000000001,
          7.295999999999999,
          7.504000000000001,
          7.712,
          7.920000000000002,
          8.128,
          8.335999999999999,
          8.544,
          8.751999999999999,
          8.96,
          9.168,
          9.376000000000001,
          9.584,
          9.792000000000002,
          10,
          10.207999999999998,
          10.416,
          10.623999999999999,
          10.832,
          11.04,
          11.248000000000001,
          11.456,
          11.664000000000001,
          11.872,
          12.079999999999998,
          12.288,
          12.495999999999999,
          12.704,
          12.911999999999999,
          13.120000000000001,
          13.328,
          13.536000000000001,
          13.744,
          13.952000000000002,
          14.16,
          14.367999999999999,
          14.576,
          14.783999999999999,
          14.992,
          15.2,
          15.408000000000001,
          15.616,
          15.824000000000002,
          16.031999999999996,
          16.240000000000002,
          16.448,
          16.656,
          16.863999999999997,
          17.072000000000003,
          17.28,
          17.488,
          17.695999999999998,
          17.904000000000003,
          18.112000000000002,
          18.32,
          18.528,
          18.735999999999997,
          18.944000000000003,
          19.152,
          19.36,
          19.567999999999998,
          19.776000000000003,
          19.984,
          20.192,
          20.4,
          20.607999999999997,
          20.816000000000003,
          21.024,
          21.232,
          21.439999999999998,
          21.648000000000003,
          21.856,
          22.064,
          22.272,
          22.479999999999997,
          22.688000000000002,
          22.896,
          23.104,
          23.311999999999998,
          23.520000000000003,
          23.728,
          23.936,
          24.144,
          24.351999999999997,
          24.560000000000002,
          24.768,
          24.976,
          25.183999999999997,
          25.392000000000003,
          25.6,
          25.808,
          26.016,
          26.223999999999997,
          26.432000000000002,
          26.64,
          26.848,
          27.055999999999997,
          27.264000000000003,
          27.472,
          27.68,
          27.887999999999998,
          28.095999999999997,
          28.304000000000002,
          28.512,
          28.72,
          28.927999999999997,
          29.136000000000003,
          29.344,
          29.552,
          29.759999999999998,
          29.968000000000004,
          30.176000000000002,
          30.384,
          30.592,
          30.799999999999997,
          31.008000000000003,
          31.216,
          31.424,
          31.631999999999998,
          31.840000000000003,
          32.048,
          32.256,
          32.464,
          32.672,
          32.88,
          33.088,
          33.296,
          33.504,
          33.712,
          33.92,
          34.128,
          34.336,
          34.544,
          34.752,
          34.96,
          35.168,
          35.376,
          35.584,
          35.792,
          36,
          36.208,
          36.416,
          36.624,
          36.832,
          37.04,
          37.248,
          37.456,
          37.664,
          37.872,
          38.08,
          38.288,
          38.496,
          38.704,
          38.912,
          39.12,
          39.328,
          39.536,
          39.744,
          39.952,
          40.16,
          40.368,
          40.576,
          40.784,
          40.992,
          41.2,
          41.408,
          41.616,
          41.824,
          42.032,
          42.24,
          42.448,
          42.656,
          42.864,
          43.072,
          43.28,
          43.488,
          43.696,
          43.904,
          44.112,
          44.32,
          44.528,
          44.736,
          44.944,
          45.152,
          45.36,
          45.568,
          45.776,
          45.984,
          46.192,
          46.4,
          46.608,
          46.816,
          47.024,
          47.232,
          47.44,
          47.648,
          47.856,
          48.06399999999999,
          48.272000000000006,
          48.480000000000004,
          48.688,
          48.896,
          49.104,
          49.312,
          49.519999999999996,
          49.727999999999994,
          49.93600000000001,
          50.144000000000005,
          50.352000000000004,
          50.56,
          50.768,
          50.976,
          51.184,
          51.391999999999996,
          51.599999999999994,
          51.80800000000001,
          52.016000000000005,
          52.224000000000004,
          52.432,
          52.64,
          52.848,
          53.056,
          53.263999999999996,
          53.471999999999994,
          53.68000000000001,
          53.888000000000005,
          54.096000000000004,
          54.304,
          54.512,
          54.72,
          54.928,
          55.135999999999996,
          55.343999999999994,
          55.55200000000001,
          55.760000000000005,
          55.968,
          56.176,
          56.384,
          56.592,
          56.8,
          57.007999999999996,
          57.215999999999994,
          57.42400000000001,
          57.632000000000005,
          57.84,
          58.048,
          58.256,
          58.464,
          58.672,
          58.879999999999995,
          59.087999999999994,
          59.29600000000001,
          59.504000000000005,
          59.712,
          59.92,
          60.128,
          60.336,
          60.544,
          60.751999999999995,
          60.959999999999994,
          61.168000000000006,
          61.376000000000005,
          61.584,
          61.792,
          62,
          62.208,
          62.416,
          62.623999999999995,
          62.831999999999994,
          63.040000000000006,
          63.248000000000005,
          63.456,
          63.664,
          63.872,
          64.08,
          64.288,
          64.496,
          64.704,
          64.912,
          65.12,
          65.328,
          65.536,
          65.744,
          65.952,
          66.16,
          66.368,
          66.576,
          66.784,
          66.992,
          67.2,
          67.408,
          67.616,
          67.824,
          68.032,
          68.24,
          68.448,
          68.656,
          68.864,
          69.072,
          69.28,
          69.488,
          69.696,
          69.904,
          70.112,
          70.32,
          70.528,
          70.736,
          70.944,
          71.152,
          71.36,
          71.568,
          71.776,
          71.984,
          72.192,
          72.4,
          72.608,
          72.816,
          73.024,
          73.232,
          73.44,
          73.648,
          73.856,
          74.064,
          74.272,
          74.48,
          74.688,
          74.896,
          75.104,
          75.312,
          75.52,
          75.728,
          75.936,
          76.144,
          76.352,
          76.56,
          76.768,
          76.976,
          77.184,
          77.392,
          77.6,
          77.808,
          78.016,
          78.224,
          78.432,
          78.64,
          78.848,
          79.056,
          79.264,
          79.472,
          79.68,
          79.888,
          80.096,
          80.304,
          80.512,
          80.72,
          80.928,
          81.136,
          81.344,
          81.552,
          81.76,
          81.968,
          82.176,
          82.384,
          82.592,
          82.8,
          83.008,
          83.216,
          83.424,
          83.632,
          83.84,
          84.048,
          84.256,
          84.464,
          84.672,
          84.88,
          85.088,
          85.296,
          85.504,
          85.712,
          85.92,
          86.128,
          86.336,
          86.544,
          86.752,
          86.96,
          87.168,
          87.376,
          87.584,
          87.792
         ],
         "xaxis": "x",
         "y": [
          0.0006323090653484775,
          0.0006366862521036421,
          0.000640836853189221,
          0.000644773863473314,
          0.0006485117673979981,
          0.0006520665170471179,
          0.0006554555042844691,
          0.0006586975271056598,
          0.0006618127503801432,
          0.0006648226611915154,
          0.00066775001901387,
          0.0006706188009895558,
          0.0006734541425988277,
          0.0006762822740344172,
          0.0006791304526137693,
          0.0006820268915784356,
          0.0006850006856437343,
          0.0006880817336721894,
          0.0006913006588513632,
          0.0006946887267604583,
          0.0006982777617104839,
          0.0007021000617398971,
          0.0007061883126414697,
          0.0007105755013868621,
          0.0007152948293030701,
          0.0007203796253397678,
          0.0007258632597487738,
          0.0007317790584766671,
          0.0007381602185491989,
          0.0007450397247019251,
          0.0007524502674856607,
          0.0007604241630483146,
          0.0007689932747667105,
          0.0007781889368734943,
          0.0007880418801955517,
          0.0007985821600918576,
          0.0008098390866507157,
          0.0008218411571793316,
          0.0008346159909928794,
          0.0008481902664860734,
          0.0008625896604480705,
          0.000877838789561537,
          0.000893961154009327,
          0.0009109790830975627,
          0.0009289136827922937,
          0.0009477847850585,
          0.0009676108988851177,
          0.0009884091628781866,
          0.0010101952993061278,
          0.0010329835694866587,
          0.0010567867304138538,
          0.0010816159925363803,
          0.0011074809786137552,
          0.0011343896835965363,
          0.0011623484354983966,
          0.0011913618572528069,
          0.001221432829574319,
          0.0012525624548738177,
          0.0012847500223082363,
          0.001317992974077774,
          0.0013522868731170837,
          0.0013876253723608685,
          0.0014240001857982983,
          0.0014614010615641325,
          0.0014998157573470241,
          0.001539230018426536,
          0.001579627558679516,
          0.0016209900449232143,
          0.0016632970849861828,
          0.0017065262199184676,
          0.001750652920769067,
          0.0017956505903710242,
          0.0018414905705822385,
          0.0018881421554329263,
          0.0019355726106283137,
          0.0019837471998473835,
          0.0020326292182651488,
          0.0020821800337068323,
          0.0021323591358175407,
          0.002183124193600438,
          0.002234431121640109,
          0.0022862341552860274,
          0.0023384859350238387,
          0.0023911376002098486,
          0.002444138892287188,
          0.0024974382675405013,
          0.002550983019380852,
          0.0026047194100835298,
          0.002658592811829885,
          0.002712547856830219,
          0.0027665285962290625,
          0.0028204786674175734,
          0.0028743414693006533,
          0.002928060344989903,
          0.002981578771317947,
          0.0030348405544962072,
          0.0030877900311670355,
          0.003140372274033636,
          0.003192533301187454,
          0.0032442202881939348,
          0.00329538178194408,
          0.003345967915231705,
          0.0033959306209756673,
          0.0034452238449724395,
          0.003493803756038551,
          0.0035416289523842875,
          0.0035886606630505503,
          0.003634862943239773,
          0.0036802028623799166,
          0.0037246506837774907,
          0.003768180034741879,
          0.0038107680660982995,
          0.003852395600051325,
          0.0038930472654137038,
          0.003932711619277219,
          0.003971381254272211,
          0.004009052890640376,
          0.004045727452430814,
          0.004081410127221547,
          0.004116110408867363,
          0.004149842122879073,
          0.004182623434148565,
          0.004214476836847483,
          0.0042454291264443075,
          0.0042755113539041925,
          0.004304758762257123,
          0.004333210705842357,
          0.004360910552659158,
          0.0043879055703752124,
          0.0044142467966636866,
          0.004439988894656541,
          0.0044651899944150265,
          0.004489911521426818,
          0.004514218013242785,
          0.00453817692546319,
          0.004561858428373613,
          0.0045853351956128005,
          0.004608682186328843,
          0.004631976422344384,
          0.004655296761906591,
          0.004678723671641828,
          0.004702338998368346,
          0.004726225742442519,
          0.004750467834324069,
          0.004775149916043936,
          0.004800357129243975,
          0.00482617491143064,
          0.004852688802045124,
          0.004879984259899827,
          0.004908146493465792,
          0.0049372603054177065,
          0.004967409952752761,
          0.00499867902369709,
          0.005031150332498961,
          0.005064905833082147,
          0.0051000265523962075,
          0.0051365925441532135,
          0.005174682863484137,
          0.005214375562882195,
          0.005255747709627235,
          0.005298875424704528,
          0.0053438339430445115,
          0.005390697694718223,
          0.005439540406527654,
          0.005490435223231299,
          0.005543454847445968,
          0.005598671697065169,
          0.005656158078836148,
          0.005715986376541038,
          0.005778229252035933,
          0.005842959857214892,
          0.0059102520547868334,
          0.005980180645582377,
          0.006052821599947322,
          0.0061282522906305715,
          0.00620655172443879,
          0.006287800769809196,
          0.0063720823773472605,
          0.006459481790288973,
          0.006550086741779202,
          0.006643987635809718,
          0.006741277708633939,
          0.006842053167471191,
          0.006946413303333097,
          0.007054460574847752,
          0.007166300660026681,
          0.007282042473013466,
          0.007401798142973386,
          0.007525682952429928,
          0.007653815232526835,
          0.007786316212893446,
          0.00792330982401564,
          0.00806492245026524,
          0.008211282632015001,
          0.00836252071556486,
          0.008518768449925787,
          0.008680158529849269,
          0.008846824084851913,
          0.00901889811436326,
          0.009196512869519622,
          0.00937979918253458,
          0.00956888574499571,
          0.009763898336864358,
          0.009964959008388457,
          0.010172185217573713,
          0.010385688926294252,
          0.010605575658555745,
          0.010831943524848491,
          0.011064882216944223,
          0.011304471977890829,
          0.01155078255234466,
          0.011803872122744034,
          0.012063786237168491,
          0.012330556735041482,
          0.012604200677118028,
          0.012884719286448222,
          0.01317209690722047,
          0.013466299988563123,
          0.013767276100514132,
          0.014074952989456716,
          0.014389237680359525,
          0.01471001563315278,
          0.015037149960514171,
          0.015370480714229987,
          0.015709824247136222,
          0.01605497265743085,
          0.016405693321882613,
          0.016761728524143166,
          0.01712279518399887,
          0.017488584692977274,
          0.017858762861253655,
          0.018232969980284442,
          0.018610821005033057,
          0.01899190585904753,
          0.019375789865007275,
          0.019762014302675848,
          0.02015009709548676,
          0.020539533626251223,
          0.020929797681715913,
          0.021320342524920537,
          0.02171060209351386,
          0.022099992321387915,
          0.022487912580190225,
          0.022873747236476397,
          0.023256867319478892,
          0.023636632293696072,
          0.02401239192975424,
          0.024383488266272575,
          0.02474925765476879,
          0.025109032878991168,
          0.025462145339452454,
          0.025807927293380002,
          0.026145714139789406,
          0.02647484673893838,
          0.026794673755029873,
          0.02710455401071172,
          0.02740385884166563,
          0.027691974439397898,
          0.027968304170234944,
          0.028232270858496087,
          0.028483319021859382,
          0.028720917047058477,
          0.028944559294247975,
          0.0291537681186506,
          0.02934809579845027,
          0.029527126358321353,
          0.029690477278479892,
          0.02983780107970814,
          0.02996878677543306,
          0.0300831611826306,
          0.0301806900840744,
          0.030261179235246394,
          0.0303244752100716,
          0.030370466080524405,
          0.030399081926073494,
          0.030410295169880017,
          0.030404120739632372,
          0.030380616051885655,
          0.030339880819764214,
          0.030282056684880328,
          0.030207326675306838,
          0.030115914492417847,
          0.03000808363036501,
          0.029884136332886342,
          0.029744412393041385,
          0.02958928780232384,
          0.029419173256418484,
          0.029234512525632184,
          0.029035780698740743,
          0.028823482309643923,
          0.028598149356809537,
          0.028360339226009713,
          0.028110632527305352,
          0.027849630857614507,
          0.027577954500508105,
          0.02729624007510772,
          0.027005138146116457,
          0.026705310807092455,
          0.026397429249080694,
          0.026082171326646326,
          0.02576021913321065,
          0.0254322565973744,
          0.025098967111630656,
          0.024761031204520036,
          0.02441912426686822,
          0.024073914342277257,
          0.023726059991516106,
          0.02337620823988204,
          0.02302499261598433,
          0.022673031289742438,
          0.022320925316695005,
          0.021969256994991786,
          0.021618588340691518,
          0.021269459686220803,
          0.020922388406067464,
          0.020577867772993037,
          0.020236365947256918,
          0.019898325100555253,
          0.0195641606755972,
          0.019234260781470777,
          0.01890898572420147,
          0.01858866767117527,
          0.018273610447395595,
          0.0179640894608701,
          0.017660351753782992,
          0.017362616175505895,
          0.017071073672936622,
          0.0167858876931342,
          0.01650719469274149,
          0.016235104748256624,
          0.015969702260831223,
          0.01571104674893942,
          0.015459173721977058,
          0.015214095627615476,
          0.01497580286554988,
          0.01474426486014587,
          0.014519431184402323,
          0.014301232727609298,
          0.014089582899088758,
          0.013884378860458433,
          0.013685502778956932,
          0.013492823094506386,
          0.013306195793366785,
          0.013125465681451383,
          0.012950467650622082,
          0.012781027931564905,
          0.012616965327156091,
          0.012458092420566625,
          0.012304216752712678,
          0.012155141964039615,
          0.012010668896025613,
          0.011870596648202506,
          0.011734723586914568,
          0.011602848302468237,
          0.011474770511761902,
          0.011350291903924677,
          0.011229216926932324,
          0.011111353513603806,
          0.010996513745813086,
          0.010884514456172067,
          0.01077517776685325,
          0.010668331565618437,
          0.01056380991950469,
          0.010461453426985678,
          0.010361109509775236,
          0.010262632645768719,
          0.010165884544924739,
          0.010070734270173727,
          0.009977058305700575,
          0.009884740575183671,
          0.009793672412782355,
          0.0097037524898492,
          0.009614886700500229,
          0.009526988009306979,
          0.009439976264478341,
          0.009353777979977166,
          0.009268326090068049,
          0.009183559679817408,
          0.00909942369506758,
          0.009015868635381818,
          0.00893285023340932,
          0.00885032912404908,
          0.008768270506699106,
          0.008686643803766018,
          0.008605422318479201,
          0.008524582894905545,
          0.008444105582897328,
          0.00836397331052775,
          0.008284171566378219,
          0.00820468809384071,
          0.008125512599387876,
          0.008046636476546859,
          0.007968052547089445,
          0.007889754820725441,
          0.007811738274357241,
          0.0077339986517258145,
          0.007656532284051416,
          0.007579335932048925,
          0.007502406649479366,
          0.007425741668187383,
          0.007349338304370046,
          0.007273193885628186,
          0.007197305698167278,
          0.0071216709533426,
          0.0070462867725843625,
          0.006971150189592986,
          0.006896258168563829,
          0.006821607637085444,
          0.006747195532256102,
          0.006673018858479836,
          0.006599074755337348,
          0.006525360573877244,
          0.006451873959640315,
          0.006378612940713567,
          0.006305576019111148,
          0.006232762263795622,
          0.006160171403685284,
          0.006087803919040042,
          0.006015661129679369,
          0.005943745278560902,
          0.0058720596093342825,
          0.005800608436584131,
          0.005729397207583493,
          0.005658432554497763,
          0.005587722336103752,
          0.005517275668220941,
          0.00544710294218942,
          0.005377215830869783,
          0.005307627281784473,
          0.005238351497164751,
          0.005169403900812655,
          0.005100801091830538,
          0.005032560785411588,
          0.004964701741021799,
          0.0048972436784352775,
          0.0048302071822105596,
          0.004763613595313532,
          0.004697484902703079,
          0.004631843605795971,
          0.004566712588818955,
          0.0045021149781365585,
          0.004438073995712242,
          0.004374612807918891,
          0.004311754370960181,
          0.004249521274198391,
          0.004187935582705737,
          0.0041270186803654225,
          0.004066791114845808,
          0.004007272445755808,
          0.00394848109726334,
          0.003890434216420244,
          0.0038331475383886413,
          0.0037766352597044237,
          0.0037209099206451496,
          0.0036659822976921816,
          0.0036118613069914974,
          0.0035585539196250895,
          0.003506065089405976,
          0.0034543976938059386,
          0.00340355248851652,
          0.003353528076032275,
          0.0033043208885311904,
          0.003255925185211937,
          0.003208333064132148,
          0.0031615344884770406,
          0.0031155173270746885,
          0.0030702674088637695,
          0.0030257685909126646,
          0.002982002839486463,
          0.0029389503235608574,
          0.0028965895200908985,
          0.0028548973302575035,
          0.002813849205837398,
          0.00277341928477231,
          0.0027335805349516166,
          0.0026943049051699947,
          0.002655563482177326,
          0.0026173266527034066,
          0.0025795642693142336,
          0.0025422458189404066,
          0.002505340592910959,
          0.002468817857328212,
          0.002432647022630265,
          0.0023967978112074445,
          0.002361240421967616,
          0.002325945690781174,
          0.0022908852457807632,
          0.0022560316565415147,
          0.0022213585762252542,
          0.0021868408758355753,
          0.0021524547697995187,
          0.0021181779321650497,
          0.0020839896027810487,
          0.0020498706829072755,
          0.0020158038197851842,
          0.001981773479785547,
          0.0019477660098354437,
          0.0019137696869137302,
          0.0018797747554909047,
          0.0018457734528747663
         ],
         "yaxis": "y"
        }
       ],
       "layout": {
        "barmode": "overlay",
        "font": {
         "size": 18
        },
        "hovermode": "closest",
        "legend": {
         "traceorder": "reversed"
        },
        "plot_bgcolor": "#F5F5F8",
        "template": {
         "data": {
          "bar": [
           {
            "error_x": {
             "color": "#2a3f5f"
            },
            "error_y": {
             "color": "#2a3f5f"
            },
            "marker": {
             "line": {
              "color": "#E5ECF6",
              "width": 0.5
             },
             "pattern": {
              "fillmode": "overlay",
              "size": 10,
              "solidity": 0.2
             }
            },
            "type": "bar"
           }
          ],
          "barpolar": [
           {
            "marker": {
             "line": {
              "color": "#E5ECF6",
              "width": 0.5
             },
             "pattern": {
              "fillmode": "overlay",
              "size": 10,
              "solidity": 0.2
             }
            },
            "type": "barpolar"
           }
          ],
          "carpet": [
           {
            "aaxis": {
             "endlinecolor": "#2a3f5f",
             "gridcolor": "white",
             "linecolor": "white",
             "minorgridcolor": "white",
             "startlinecolor": "#2a3f5f"
            },
            "baxis": {
             "endlinecolor": "#2a3f5f",
             "gridcolor": "white",
             "linecolor": "white",
             "minorgridcolor": "white",
             "startlinecolor": "#2a3f5f"
            },
            "type": "carpet"
           }
          ],
          "choropleth": [
           {
            "colorbar": {
             "outlinewidth": 0,
             "ticks": ""
            },
            "type": "choropleth"
           }
          ],
          "contour": [
           {
            "colorbar": {
             "outlinewidth": 0,
             "ticks": ""
            },
            "colorscale": [
             [
              0,
              "#0d0887"
             ],
             [
              0.1111111111111111,
              "#46039f"
             ],
             [
              0.2222222222222222,
              "#7201a8"
             ],
             [
              0.3333333333333333,
              "#9c179e"
             ],
             [
              0.4444444444444444,
              "#bd3786"
             ],
             [
              0.5555555555555556,
              "#d8576b"
             ],
             [
              0.6666666666666666,
              "#ed7953"
             ],
             [
              0.7777777777777778,
              "#fb9f3a"
             ],
             [
              0.8888888888888888,
              "#fdca26"
             ],
             [
              1,
              "#f0f921"
             ]
            ],
            "type": "contour"
           }
          ],
          "contourcarpet": [
           {
            "colorbar": {
             "outlinewidth": 0,
             "ticks": ""
            },
            "type": "contourcarpet"
           }
          ],
          "heatmap": [
           {
            "colorbar": {
             "outlinewidth": 0,
             "ticks": ""
            },
            "colorscale": [
             [
              0,
              "#0d0887"
             ],
             [
              0.1111111111111111,
              "#46039f"
             ],
             [
              0.2222222222222222,
              "#7201a8"
             ],
             [
              0.3333333333333333,
              "#9c179e"
             ],
             [
              0.4444444444444444,
              "#bd3786"
             ],
             [
              0.5555555555555556,
              "#d8576b"
             ],
             [
              0.6666666666666666,
              "#ed7953"
             ],
             [
              0.7777777777777778,
              "#fb9f3a"
             ],
             [
              0.8888888888888888,
              "#fdca26"
             ],
             [
              1,
              "#f0f921"
             ]
            ],
            "type": "heatmap"
           }
          ],
          "heatmapgl": [
           {
            "colorbar": {
             "outlinewidth": 0,
             "ticks": ""
            },
            "colorscale": [
             [
              0,
              "#0d0887"
             ],
             [
              0.1111111111111111,
              "#46039f"
             ],
             [
              0.2222222222222222,
              "#7201a8"
             ],
             [
              0.3333333333333333,
              "#9c179e"
             ],
             [
              0.4444444444444444,
              "#bd3786"
             ],
             [
              0.5555555555555556,
              "#d8576b"
             ],
             [
              0.6666666666666666,
              "#ed7953"
             ],
             [
              0.7777777777777778,
              "#fb9f3a"
             ],
             [
              0.8888888888888888,
              "#fdca26"
             ],
             [
              1,
              "#f0f921"
             ]
            ],
            "type": "heatmapgl"
           }
          ],
          "histogram": [
           {
            "marker": {
             "pattern": {
              "fillmode": "overlay",
              "size": 10,
              "solidity": 0.2
             }
            },
            "type": "histogram"
           }
          ],
          "histogram2d": [
           {
            "colorbar": {
             "outlinewidth": 0,
             "ticks": ""
            },
            "colorscale": [
             [
              0,
              "#0d0887"
             ],
             [
              0.1111111111111111,
              "#46039f"
             ],
             [
              0.2222222222222222,
              "#7201a8"
             ],
             [
              0.3333333333333333,
              "#9c179e"
             ],
             [
              0.4444444444444444,
              "#bd3786"
             ],
             [
              0.5555555555555556,
              "#d8576b"
             ],
             [
              0.6666666666666666,
              "#ed7953"
             ],
             [
              0.7777777777777778,
              "#fb9f3a"
             ],
             [
              0.8888888888888888,
              "#fdca26"
             ],
             [
              1,
              "#f0f921"
             ]
            ],
            "type": "histogram2d"
           }
          ],
          "histogram2dcontour": [
           {
            "colorbar": {
             "outlinewidth": 0,
             "ticks": ""
            },
            "colorscale": [
             [
              0,
              "#0d0887"
             ],
             [
              0.1111111111111111,
              "#46039f"
             ],
             [
              0.2222222222222222,
              "#7201a8"
             ],
             [
              0.3333333333333333,
              "#9c179e"
             ],
             [
              0.4444444444444444,
              "#bd3786"
             ],
             [
              0.5555555555555556,
              "#d8576b"
             ],
             [
              0.6666666666666666,
              "#ed7953"
             ],
             [
              0.7777777777777778,
              "#fb9f3a"
             ],
             [
              0.8888888888888888,
              "#fdca26"
             ],
             [
              1,
              "#f0f921"
             ]
            ],
            "type": "histogram2dcontour"
           }
          ],
          "mesh3d": [
           {
            "colorbar": {
             "outlinewidth": 0,
             "ticks": ""
            },
            "type": "mesh3d"
           }
          ],
          "parcoords": [
           {
            "line": {
             "colorbar": {
              "outlinewidth": 0,
              "ticks": ""
             }
            },
            "type": "parcoords"
           }
          ],
          "pie": [
           {
            "automargin": true,
            "type": "pie"
           }
          ],
          "scatter": [
           {
            "fillpattern": {
             "fillmode": "overlay",
             "size": 10,
             "solidity": 0.2
            },
            "type": "scatter"
           }
          ],
          "scatter3d": [
           {
            "line": {
             "colorbar": {
              "outlinewidth": 0,
              "ticks": ""
             }
            },
            "marker": {
             "colorbar": {
              "outlinewidth": 0,
              "ticks": ""
             }
            },
            "type": "scatter3d"
           }
          ],
          "scattercarpet": [
           {
            "marker": {
             "colorbar": {
              "outlinewidth": 0,
              "ticks": ""
             }
            },
            "type": "scattercarpet"
           }
          ],
          "scattergeo": [
           {
            "marker": {
             "colorbar": {
              "outlinewidth": 0,
              "ticks": ""
             }
            },
            "type": "scattergeo"
           }
          ],
          "scattergl": [
           {
            "marker": {
             "colorbar": {
              "outlinewidth": 0,
              "ticks": ""
             }
            },
            "type": "scattergl"
           }
          ],
          "scattermapbox": [
           {
            "marker": {
             "colorbar": {
              "outlinewidth": 0,
              "ticks": ""
             }
            },
            "type": "scattermapbox"
           }
          ],
          "scatterpolar": [
           {
            "marker": {
             "colorbar": {
              "outlinewidth": 0,
              "ticks": ""
             }
            },
            "type": "scatterpolar"
           }
          ],
          "scatterpolargl": [
           {
            "marker": {
             "colorbar": {
              "outlinewidth": 0,
              "ticks": ""
             }
            },
            "type": "scatterpolargl"
           }
          ],
          "scatterternary": [
           {
            "marker": {
             "colorbar": {
              "outlinewidth": 0,
              "ticks": ""
             }
            },
            "type": "scatterternary"
           }
          ],
          "surface": [
           {
            "colorbar": {
             "outlinewidth": 0,
             "ticks": ""
            },
            "colorscale": [
             [
              0,
              "#0d0887"
             ],
             [
              0.1111111111111111,
              "#46039f"
             ],
             [
              0.2222222222222222,
              "#7201a8"
             ],
             [
              0.3333333333333333,
              "#9c179e"
             ],
             [
              0.4444444444444444,
              "#bd3786"
             ],
             [
              0.5555555555555556,
              "#d8576b"
             ],
             [
              0.6666666666666666,
              "#ed7953"
             ],
             [
              0.7777777777777778,
              "#fb9f3a"
             ],
             [
              0.8888888888888888,
              "#fdca26"
             ],
             [
              1,
              "#f0f921"
             ]
            ],
            "type": "surface"
           }
          ],
          "table": [
           {
            "cells": {
             "fill": {
              "color": "#EBF0F8"
             },
             "line": {
              "color": "white"
             }
            },
            "header": {
             "fill": {
              "color": "#C8D4E3"
             },
             "line": {
              "color": "white"
             }
            },
            "type": "table"
           }
          ]
         },
         "layout": {
          "annotationdefaults": {
           "arrowcolor": "#2a3f5f",
           "arrowhead": 0,
           "arrowwidth": 1
          },
          "autotypenumbers": "strict",
          "coloraxis": {
           "colorbar": {
            "outlinewidth": 0,
            "ticks": ""
           }
          },
          "colorscale": {
           "diverging": [
            [
             0,
             "#8e0152"
            ],
            [
             0.1,
             "#c51b7d"
            ],
            [
             0.2,
             "#de77ae"
            ],
            [
             0.3,
             "#f1b6da"
            ],
            [
             0.4,
             "#fde0ef"
            ],
            [
             0.5,
             "#f7f7f7"
            ],
            [
             0.6,
             "#e6f5d0"
            ],
            [
             0.7,
             "#b8e186"
            ],
            [
             0.8,
             "#7fbc41"
            ],
            [
             0.9,
             "#4d9221"
            ],
            [
             1,
             "#276419"
            ]
           ],
           "sequential": [
            [
             0,
             "#0d0887"
            ],
            [
             0.1111111111111111,
             "#46039f"
            ],
            [
             0.2222222222222222,
             "#7201a8"
            ],
            [
             0.3333333333333333,
             "#9c179e"
            ],
            [
             0.4444444444444444,
             "#bd3786"
            ],
            [
             0.5555555555555556,
             "#d8576b"
            ],
            [
             0.6666666666666666,
             "#ed7953"
            ],
            [
             0.7777777777777778,
             "#fb9f3a"
            ],
            [
             0.8888888888888888,
             "#fdca26"
            ],
            [
             1,
             "#f0f921"
            ]
           ],
           "sequentialminus": [
            [
             0,
             "#0d0887"
            ],
            [
             0.1111111111111111,
             "#46039f"
            ],
            [
             0.2222222222222222,
             "#7201a8"
            ],
            [
             0.3333333333333333,
             "#9c179e"
            ],
            [
             0.4444444444444444,
             "#bd3786"
            ],
            [
             0.5555555555555556,
             "#d8576b"
            ],
            [
             0.6666666666666666,
             "#ed7953"
            ],
            [
             0.7777777777777778,
             "#fb9f3a"
            ],
            [
             0.8888888888888888,
             "#fdca26"
            ],
            [
             1,
             "#f0f921"
            ]
           ]
          },
          "colorway": [
           "#636efa",
           "#EF553B",
           "#00cc96",
           "#ab63fa",
           "#FFA15A",
           "#19d3f3",
           "#FF6692",
           "#B6E880",
           "#FF97FF",
           "#FECB52"
          ],
          "font": {
           "color": "#2a3f5f"
          },
          "geo": {
           "bgcolor": "white",
           "lakecolor": "white",
           "landcolor": "#E5ECF6",
           "showlakes": true,
           "showland": true,
           "subunitcolor": "white"
          },
          "hoverlabel": {
           "align": "left"
          },
          "hovermode": "closest",
          "mapbox": {
           "style": "light"
          },
          "paper_bgcolor": "white",
          "plot_bgcolor": "#E5ECF6",
          "polar": {
           "angularaxis": {
            "gridcolor": "white",
            "linecolor": "white",
            "ticks": ""
           },
           "bgcolor": "#E5ECF6",
           "radialaxis": {
            "gridcolor": "white",
            "linecolor": "white",
            "ticks": ""
           }
          },
          "scene": {
           "xaxis": {
            "backgroundcolor": "#E5ECF6",
            "gridcolor": "white",
            "gridwidth": 2,
            "linecolor": "white",
            "showbackground": true,
            "ticks": "",
            "zerolinecolor": "white"
           },
           "yaxis": {
            "backgroundcolor": "#E5ECF6",
            "gridcolor": "white",
            "gridwidth": 2,
            "linecolor": "white",
            "showbackground": true,
            "ticks": "",
            "zerolinecolor": "white"
           },
           "zaxis": {
            "backgroundcolor": "#E5ECF6",
            "gridcolor": "white",
            "gridwidth": 2,
            "linecolor": "white",
            "showbackground": true,
            "ticks": "",
            "zerolinecolor": "white"
           }
          },
          "shapedefaults": {
           "line": {
            "color": "#2a3f5f"
           }
          },
          "ternary": {
           "aaxis": {
            "gridcolor": "white",
            "linecolor": "white",
            "ticks": ""
           },
           "baxis": {
            "gridcolor": "white",
            "linecolor": "white",
            "ticks": ""
           },
           "bgcolor": "#E5ECF6",
           "caxis": {
            "gridcolor": "white",
            "linecolor": "white",
            "ticks": ""
           }
          },
          "title": {
           "x": 0.05
          },
          "xaxis": {
           "automargin": true,
           "gridcolor": "white",
           "linecolor": "white",
           "ticks": "",
           "title": {
            "standoff": 15
           },
           "zerolinecolor": "white",
           "zerolinewidth": 2
          },
          "yaxis": {
           "automargin": true,
           "gridcolor": "white",
           "linecolor": "white",
           "ticks": "",
           "title": {
            "standoff": 15
           },
           "zerolinecolor": "white",
           "zerolinewidth": 2
          }
         }
        },
        "title": {
         "text": "Real vs. Synthetic Data for column 'Hours-per-week'"
        },
        "xaxis": {
         "anchor": "y2",
         "domain": [
          0,
          1
         ],
         "title": {
          "text": "Value"
         },
         "zeroline": false
        },
        "yaxis": {
         "anchor": "free",
         "domain": [
          0,
          1
         ],
         "position": 0,
         "title": {
          "text": "Frequency"
         }
        }
       }
      }
     },
     "metadata": {},
     "output_type": "display_data"
    },
    {
     "data": {
      "application/vnd.plotly.v1+json": {
       "config": {
        "plotlyServerURL": "https://plot.ly"
       },
       "data": [
        {
         "alignmentgroup": "True",
         "bingroup": "x",
         "histnorm": "probability density",
         "hovertemplate": "<b>Real</b><br>Frequency: %{y}<extra></extra>",
         "legendgroup": "Real",
         "marker": {
          "color": "#000036",
          "pattern": {
           "shape": ""
          }
         },
         "name": "Real",
         "offsetgroup": "Real",
         "orientation": "v",
         "showlegend": true,
         "type": "histogram",
         "x": [
          "<=50K",
          "<=50K",
          "<=50K",
          "<=50K",
          "<=50K",
          "<=50K",
          "<=50K",
          ">50K",
          ">50K",
          ">50K",
          ">50K",
          ">50K",
          "<=50K",
          "<=50K",
          ">50K",
          "<=50K",
          "<=50K",
          "<=50K",
          "<=50K",
          ">50K",
          ">50K",
          "<=50K",
          "<=50K",
          "<=50K",
          "<=50K",
          ">50K",
          "<=50K",
          ">50K",
          "<=50K",
          "<=50K",
          "<=50K",
          "<=50K",
          "<=50K",
          "<=50K",
          "<=50K",
          "<=50K",
          "<=50K",
          "<=50K",
          ">50K",
          "<=50K",
          "<=50K",
          "<=50K",
          "<=50K",
          "<=50K",
          "<=50K",
          ">50K",
          "<=50K",
          "<=50K",
          "<=50K",
          "<=50K",
          "<=50K",
          "<=50K",
          ">50K",
          ">50K",
          "<=50K",
          ">50K",
          "<=50K",
          "<=50K",
          "<=50K",
          "<=50K",
          "<=50K",
          "<=50K",
          "<=50K",
          ">50K",
          "<=50K",
          "<=50K",
          "<=50K",
          ">50K",
          ">50K",
          "<=50K",
          "<=50K",
          "<=50K",
          ">50K",
          "<=50K",
          "<=50K",
          "<=50K",
          "<=50K",
          "<=50K",
          "<=50K",
          "<=50K",
          "<=50K",
          "<=50K",
          "<=50K",
          "<=50K",
          ">50K",
          "<=50K",
          ">50K",
          "<=50K",
          "<=50K",
          ">50K",
          "<=50K",
          "<=50K",
          "<=50K",
          "<=50K",
          ">50K",
          "<=50K",
          ">50K",
          ">50K",
          "<=50K",
          "<=50K",
          ">50K",
          ">50K",
          "<=50K",
          "<=50K",
          "<=50K",
          ">50K",
          "<=50K",
          "<=50K",
          "<=50K",
          "<=50K",
          "<=50K",
          ">50K",
          ">50K",
          "<=50K",
          "<=50K",
          "<=50K",
          "<=50K",
          ">50K",
          "<=50K",
          "<=50K",
          "<=50K",
          "<=50K",
          "<=50K",
          ">50K",
          "<=50K",
          ">50K",
          "<=50K",
          ">50K",
          "<=50K",
          "<=50K",
          "<=50K",
          "<=50K",
          "<=50K",
          "<=50K",
          "<=50K",
          ">50K",
          "<=50K",
          "<=50K",
          "<=50K",
          ">50K",
          "<=50K",
          "<=50K",
          "<=50K",
          ">50K",
          "<=50K",
          "<=50K",
          "<=50K",
          "<=50K",
          "<=50K",
          "<=50K",
          "<=50K",
          "<=50K",
          "<=50K",
          "<=50K",
          ">50K",
          "<=50K",
          "<=50K",
          "<=50K",
          "<=50K",
          "<=50K",
          "<=50K",
          "<=50K",
          "<=50K",
          "<=50K",
          ">50K",
          "<=50K",
          "<=50K",
          "<=50K",
          "<=50K",
          "<=50K",
          "<=50K",
          "<=50K",
          ">50K",
          "<=50K",
          ">50K",
          "<=50K",
          "<=50K",
          "<=50K",
          "<=50K",
          "<=50K",
          ">50K",
          "<=50K",
          "<=50K",
          ">50K",
          ">50K",
          "<=50K",
          "<=50K",
          "<=50K",
          "<=50K",
          ">50K",
          "<=50K",
          "<=50K",
          "<=50K",
          "<=50K",
          "<=50K",
          "<=50K",
          "<=50K",
          ">50K",
          ">50K",
          "<=50K"
         ],
         "xaxis": "x",
         "yaxis": "y"
        },
        {
         "alignmentgroup": "True",
         "bingroup": "x",
         "histnorm": "probability density",
         "hovertemplate": "<b>Synthetic</b><br>Frequency: %{y}<extra></extra>",
         "legendgroup": "Synthetic",
         "marker": {
          "color": "#01E0C9",
          "pattern": {
           "shape": "/"
          }
         },
         "name": "Synthetic",
         "offsetgroup": "Synthetic",
         "orientation": "v",
         "showlegend": true,
         "type": "histogram",
         "x": [
          ">50K",
          "<=50K",
          "<=50K",
          "<=50K",
          "<=50K",
          "<=50K",
          ">50K",
          ">50K",
          "<=50K",
          ">50K",
          "<=50K",
          "<=50K",
          "<=50K",
          "<=50K",
          "<=50K",
          "<=50K",
          "<=50K",
          "<=50K",
          ">50K",
          "<=50K",
          "<=50K",
          "<=50K",
          "<=50K",
          "<=50K",
          ">50K",
          "<=50K",
          "<=50K",
          "<=50K",
          "<=50K",
          "<=50K",
          "<=50K",
          "<=50K",
          "<=50K",
          "<=50K",
          "<=50K",
          "<=50K",
          "<=50K",
          "<=50K",
          "<=50K",
          "<=50K",
          "<=50K",
          "<=50K",
          "<=50K",
          "<=50K",
          "<=50K",
          "<=50K",
          "<=50K",
          "<=50K",
          "<=50K",
          ">50K",
          "<=50K",
          "<=50K",
          ">50K",
          "<=50K",
          "<=50K",
          "<=50K",
          "<=50K",
          "<=50K",
          "<=50K",
          ">50K",
          "<=50K",
          "<=50K",
          "<=50K",
          "<=50K",
          "<=50K",
          "<=50K",
          "<=50K",
          "<=50K",
          ">50K",
          ">50K",
          "<=50K",
          "<=50K",
          ">50K",
          "<=50K",
          "<=50K",
          "<=50K",
          "<=50K",
          "<=50K",
          "<=50K",
          "<=50K",
          "<=50K",
          "<=50K",
          "<=50K",
          ">50K",
          "<=50K",
          "<=50K",
          ">50K",
          "<=50K",
          "<=50K",
          "<=50K",
          ">50K",
          "<=50K",
          "<=50K",
          ">50K",
          "<=50K",
          "<=50K",
          "<=50K",
          ">50K",
          "<=50K",
          "<=50K"
         ],
         "xaxis": "x",
         "yaxis": "y"
        }
       ],
       "layout": {
        "barmode": "group",
        "font": {
         "size": 18
        },
        "legend": {
         "title": {
          "text": "Data"
         },
         "tracegroupgap": 0
        },
        "margin": {
         "t": 60
        },
        "plot_bgcolor": "#F5F5F8",
        "template": {
         "data": {
          "bar": [
           {
            "error_x": {
             "color": "#2a3f5f"
            },
            "error_y": {
             "color": "#2a3f5f"
            },
            "marker": {
             "line": {
              "color": "#E5ECF6",
              "width": 0.5
             },
             "pattern": {
              "fillmode": "overlay",
              "size": 10,
              "solidity": 0.2
             }
            },
            "type": "bar"
           }
          ],
          "barpolar": [
           {
            "marker": {
             "line": {
              "color": "#E5ECF6",
              "width": 0.5
             },
             "pattern": {
              "fillmode": "overlay",
              "size": 10,
              "solidity": 0.2
             }
            },
            "type": "barpolar"
           }
          ],
          "carpet": [
           {
            "aaxis": {
             "endlinecolor": "#2a3f5f",
             "gridcolor": "white",
             "linecolor": "white",
             "minorgridcolor": "white",
             "startlinecolor": "#2a3f5f"
            },
            "baxis": {
             "endlinecolor": "#2a3f5f",
             "gridcolor": "white",
             "linecolor": "white",
             "minorgridcolor": "white",
             "startlinecolor": "#2a3f5f"
            },
            "type": "carpet"
           }
          ],
          "choropleth": [
           {
            "colorbar": {
             "outlinewidth": 0,
             "ticks": ""
            },
            "type": "choropleth"
           }
          ],
          "contour": [
           {
            "colorbar": {
             "outlinewidth": 0,
             "ticks": ""
            },
            "colorscale": [
             [
              0,
              "#0d0887"
             ],
             [
              0.1111111111111111,
              "#46039f"
             ],
             [
              0.2222222222222222,
              "#7201a8"
             ],
             [
              0.3333333333333333,
              "#9c179e"
             ],
             [
              0.4444444444444444,
              "#bd3786"
             ],
             [
              0.5555555555555556,
              "#d8576b"
             ],
             [
              0.6666666666666666,
              "#ed7953"
             ],
             [
              0.7777777777777778,
              "#fb9f3a"
             ],
             [
              0.8888888888888888,
              "#fdca26"
             ],
             [
              1,
              "#f0f921"
             ]
            ],
            "type": "contour"
           }
          ],
          "contourcarpet": [
           {
            "colorbar": {
             "outlinewidth": 0,
             "ticks": ""
            },
            "type": "contourcarpet"
           }
          ],
          "heatmap": [
           {
            "colorbar": {
             "outlinewidth": 0,
             "ticks": ""
            },
            "colorscale": [
             [
              0,
              "#0d0887"
             ],
             [
              0.1111111111111111,
              "#46039f"
             ],
             [
              0.2222222222222222,
              "#7201a8"
             ],
             [
              0.3333333333333333,
              "#9c179e"
             ],
             [
              0.4444444444444444,
              "#bd3786"
             ],
             [
              0.5555555555555556,
              "#d8576b"
             ],
             [
              0.6666666666666666,
              "#ed7953"
             ],
             [
              0.7777777777777778,
              "#fb9f3a"
             ],
             [
              0.8888888888888888,
              "#fdca26"
             ],
             [
              1,
              "#f0f921"
             ]
            ],
            "type": "heatmap"
           }
          ],
          "heatmapgl": [
           {
            "colorbar": {
             "outlinewidth": 0,
             "ticks": ""
            },
            "colorscale": [
             [
              0,
              "#0d0887"
             ],
             [
              0.1111111111111111,
              "#46039f"
             ],
             [
              0.2222222222222222,
              "#7201a8"
             ],
             [
              0.3333333333333333,
              "#9c179e"
             ],
             [
              0.4444444444444444,
              "#bd3786"
             ],
             [
              0.5555555555555556,
              "#d8576b"
             ],
             [
              0.6666666666666666,
              "#ed7953"
             ],
             [
              0.7777777777777778,
              "#fb9f3a"
             ],
             [
              0.8888888888888888,
              "#fdca26"
             ],
             [
              1,
              "#f0f921"
             ]
            ],
            "type": "heatmapgl"
           }
          ],
          "histogram": [
           {
            "marker": {
             "pattern": {
              "fillmode": "overlay",
              "size": 10,
              "solidity": 0.2
             }
            },
            "type": "histogram"
           }
          ],
          "histogram2d": [
           {
            "colorbar": {
             "outlinewidth": 0,
             "ticks": ""
            },
            "colorscale": [
             [
              0,
              "#0d0887"
             ],
             [
              0.1111111111111111,
              "#46039f"
             ],
             [
              0.2222222222222222,
              "#7201a8"
             ],
             [
              0.3333333333333333,
              "#9c179e"
             ],
             [
              0.4444444444444444,
              "#bd3786"
             ],
             [
              0.5555555555555556,
              "#d8576b"
             ],
             [
              0.6666666666666666,
              "#ed7953"
             ],
             [
              0.7777777777777778,
              "#fb9f3a"
             ],
             [
              0.8888888888888888,
              "#fdca26"
             ],
             [
              1,
              "#f0f921"
             ]
            ],
            "type": "histogram2d"
           }
          ],
          "histogram2dcontour": [
           {
            "colorbar": {
             "outlinewidth": 0,
             "ticks": ""
            },
            "colorscale": [
             [
              0,
              "#0d0887"
             ],
             [
              0.1111111111111111,
              "#46039f"
             ],
             [
              0.2222222222222222,
              "#7201a8"
             ],
             [
              0.3333333333333333,
              "#9c179e"
             ],
             [
              0.4444444444444444,
              "#bd3786"
             ],
             [
              0.5555555555555556,
              "#d8576b"
             ],
             [
              0.6666666666666666,
              "#ed7953"
             ],
             [
              0.7777777777777778,
              "#fb9f3a"
             ],
             [
              0.8888888888888888,
              "#fdca26"
             ],
             [
              1,
              "#f0f921"
             ]
            ],
            "type": "histogram2dcontour"
           }
          ],
          "mesh3d": [
           {
            "colorbar": {
             "outlinewidth": 0,
             "ticks": ""
            },
            "type": "mesh3d"
           }
          ],
          "parcoords": [
           {
            "line": {
             "colorbar": {
              "outlinewidth": 0,
              "ticks": ""
             }
            },
            "type": "parcoords"
           }
          ],
          "pie": [
           {
            "automargin": true,
            "type": "pie"
           }
          ],
          "scatter": [
           {
            "fillpattern": {
             "fillmode": "overlay",
             "size": 10,
             "solidity": 0.2
            },
            "type": "scatter"
           }
          ],
          "scatter3d": [
           {
            "line": {
             "colorbar": {
              "outlinewidth": 0,
              "ticks": ""
             }
            },
            "marker": {
             "colorbar": {
              "outlinewidth": 0,
              "ticks": ""
             }
            },
            "type": "scatter3d"
           }
          ],
          "scattercarpet": [
           {
            "marker": {
             "colorbar": {
              "outlinewidth": 0,
              "ticks": ""
             }
            },
            "type": "scattercarpet"
           }
          ],
          "scattergeo": [
           {
            "marker": {
             "colorbar": {
              "outlinewidth": 0,
              "ticks": ""
             }
            },
            "type": "scattergeo"
           }
          ],
          "scattergl": [
           {
            "marker": {
             "colorbar": {
              "outlinewidth": 0,
              "ticks": ""
             }
            },
            "type": "scattergl"
           }
          ],
          "scattermapbox": [
           {
            "marker": {
             "colorbar": {
              "outlinewidth": 0,
              "ticks": ""
             }
            },
            "type": "scattermapbox"
           }
          ],
          "scatterpolar": [
           {
            "marker": {
             "colorbar": {
              "outlinewidth": 0,
              "ticks": ""
             }
            },
            "type": "scatterpolar"
           }
          ],
          "scatterpolargl": [
           {
            "marker": {
             "colorbar": {
              "outlinewidth": 0,
              "ticks": ""
             }
            },
            "type": "scatterpolargl"
           }
          ],
          "scatterternary": [
           {
            "marker": {
             "colorbar": {
              "outlinewidth": 0,
              "ticks": ""
             }
            },
            "type": "scatterternary"
           }
          ],
          "surface": [
           {
            "colorbar": {
             "outlinewidth": 0,
             "ticks": ""
            },
            "colorscale": [
             [
              0,
              "#0d0887"
             ],
             [
              0.1111111111111111,
              "#46039f"
             ],
             [
              0.2222222222222222,
              "#7201a8"
             ],
             [
              0.3333333333333333,
              "#9c179e"
             ],
             [
              0.4444444444444444,
              "#bd3786"
             ],
             [
              0.5555555555555556,
              "#d8576b"
             ],
             [
              0.6666666666666666,
              "#ed7953"
             ],
             [
              0.7777777777777778,
              "#fb9f3a"
             ],
             [
              0.8888888888888888,
              "#fdca26"
             ],
             [
              1,
              "#f0f921"
             ]
            ],
            "type": "surface"
           }
          ],
          "table": [
           {
            "cells": {
             "fill": {
              "color": "#EBF0F8"
             },
             "line": {
              "color": "white"
             }
            },
            "header": {
             "fill": {
              "color": "#C8D4E3"
             },
             "line": {
              "color": "white"
             }
            },
            "type": "table"
           }
          ]
         },
         "layout": {
          "annotationdefaults": {
           "arrowcolor": "#2a3f5f",
           "arrowhead": 0,
           "arrowwidth": 1
          },
          "autotypenumbers": "strict",
          "coloraxis": {
           "colorbar": {
            "outlinewidth": 0,
            "ticks": ""
           }
          },
          "colorscale": {
           "diverging": [
            [
             0,
             "#8e0152"
            ],
            [
             0.1,
             "#c51b7d"
            ],
            [
             0.2,
             "#de77ae"
            ],
            [
             0.3,
             "#f1b6da"
            ],
            [
             0.4,
             "#fde0ef"
            ],
            [
             0.5,
             "#f7f7f7"
            ],
            [
             0.6,
             "#e6f5d0"
            ],
            [
             0.7,
             "#b8e186"
            ],
            [
             0.8,
             "#7fbc41"
            ],
            [
             0.9,
             "#4d9221"
            ],
            [
             1,
             "#276419"
            ]
           ],
           "sequential": [
            [
             0,
             "#0d0887"
            ],
            [
             0.1111111111111111,
             "#46039f"
            ],
            [
             0.2222222222222222,
             "#7201a8"
            ],
            [
             0.3333333333333333,
             "#9c179e"
            ],
            [
             0.4444444444444444,
             "#bd3786"
            ],
            [
             0.5555555555555556,
             "#d8576b"
            ],
            [
             0.6666666666666666,
             "#ed7953"
            ],
            [
             0.7777777777777778,
             "#fb9f3a"
            ],
            [
             0.8888888888888888,
             "#fdca26"
            ],
            [
             1,
             "#f0f921"
            ]
           ],
           "sequentialminus": [
            [
             0,
             "#0d0887"
            ],
            [
             0.1111111111111111,
             "#46039f"
            ],
            [
             0.2222222222222222,
             "#7201a8"
            ],
            [
             0.3333333333333333,
             "#9c179e"
            ],
            [
             0.4444444444444444,
             "#bd3786"
            ],
            [
             0.5555555555555556,
             "#d8576b"
            ],
            [
             0.6666666666666666,
             "#ed7953"
            ],
            [
             0.7777777777777778,
             "#fb9f3a"
            ],
            [
             0.8888888888888888,
             "#fdca26"
            ],
            [
             1,
             "#f0f921"
            ]
           ]
          },
          "colorway": [
           "#636efa",
           "#EF553B",
           "#00cc96",
           "#ab63fa",
           "#FFA15A",
           "#19d3f3",
           "#FF6692",
           "#B6E880",
           "#FF97FF",
           "#FECB52"
          ],
          "font": {
           "color": "#2a3f5f"
          },
          "geo": {
           "bgcolor": "white",
           "lakecolor": "white",
           "landcolor": "#E5ECF6",
           "showlakes": true,
           "showland": true,
           "subunitcolor": "white"
          },
          "hoverlabel": {
           "align": "left"
          },
          "hovermode": "closest",
          "mapbox": {
           "style": "light"
          },
          "paper_bgcolor": "white",
          "plot_bgcolor": "#E5ECF6",
          "polar": {
           "angularaxis": {
            "gridcolor": "white",
            "linecolor": "white",
            "ticks": ""
           },
           "bgcolor": "#E5ECF6",
           "radialaxis": {
            "gridcolor": "white",
            "linecolor": "white",
            "ticks": ""
           }
          },
          "scene": {
           "xaxis": {
            "backgroundcolor": "#E5ECF6",
            "gridcolor": "white",
            "gridwidth": 2,
            "linecolor": "white",
            "showbackground": true,
            "ticks": "",
            "zerolinecolor": "white"
           },
           "yaxis": {
            "backgroundcolor": "#E5ECF6",
            "gridcolor": "white",
            "gridwidth": 2,
            "linecolor": "white",
            "showbackground": true,
            "ticks": "",
            "zerolinecolor": "white"
           },
           "zaxis": {
            "backgroundcolor": "#E5ECF6",
            "gridcolor": "white",
            "gridwidth": 2,
            "linecolor": "white",
            "showbackground": true,
            "ticks": "",
            "zerolinecolor": "white"
           }
          },
          "shapedefaults": {
           "line": {
            "color": "#2a3f5f"
           }
          },
          "ternary": {
           "aaxis": {
            "gridcolor": "white",
            "linecolor": "white",
            "ticks": ""
           },
           "baxis": {
            "gridcolor": "white",
            "linecolor": "white",
            "ticks": ""
           },
           "bgcolor": "#E5ECF6",
           "caxis": {
            "gridcolor": "white",
            "linecolor": "white",
            "ticks": ""
           }
          },
          "title": {
           "x": 0.05
          },
          "xaxis": {
           "automargin": true,
           "gridcolor": "white",
           "linecolor": "white",
           "ticks": "",
           "title": {
            "standoff": 15
           },
           "zerolinecolor": "white",
           "zerolinewidth": 2
          },
          "yaxis": {
           "automargin": true,
           "gridcolor": "white",
           "linecolor": "white",
           "ticks": "",
           "title": {
            "standoff": 15
           },
           "zerolinecolor": "white",
           "zerolinewidth": 2
          }
         }
        },
        "title": {
         "text": "Real vs. Synthetic Data for column 'Over-50K'"
        },
        "xaxis": {
         "anchor": "y",
         "domain": [
          0,
          1
         ],
         "title": {
          "text": "Category"
         }
        },
        "yaxis": {
         "anchor": "x",
         "domain": [
          0,
          1
         ],
         "title": {
          "text": "Frequency"
         }
        }
       }
      }
     },
     "metadata": {},
     "output_type": "display_data"
    }
   ],
   "source": [
    "for column in real_data.columns:\n",
    "    # Generate the plot for the current column\n",
    "    fig = get_column_plot(\n",
    "        real_data=real_data,\n",
    "        synthetic_data=synthetic_data,\n",
    "        column_name=column,\n",
    "        metadata=metadata\n",
    "    )\n",
    "    \n",
    "    fig.show()"
   ]
  },
  {
   "cell_type": "code",
   "execution_count": 17,
   "metadata": {},
   "outputs": [
    {
     "data": {
      "application/vnd.plotly.v1+json": {
       "config": {
        "plotlyServerURL": "https://plot.ly"
       },
       "data": [
        {
         "coloraxis": "coloraxis",
         "histnorm": "probability",
         "hovertemplate": "Data=Real<br>Sex=%{x}<br>Relationship=%{y}<br>probability=%{z}<extra></extra>",
         "name": "",
         "type": "histogram2d",
         "x": [
          "Male",
          "Male",
          "Male",
          "Male",
          "Female",
          "Female",
          "Female",
          "Male",
          "Female",
          "Male",
          "Male",
          "Male",
          "Female",
          "Male",
          "Male",
          "Male",
          "Male",
          "Male",
          "Male",
          "Female",
          "Male",
          "Female",
          "Male",
          "Male",
          "Female",
          "Male",
          "Male",
          "Male",
          "Male",
          "Male",
          "Male",
          "Male",
          "Male",
          "Male",
          "Male",
          "Male",
          "Male",
          "Female",
          "Male",
          "Male",
          "Male",
          "Male",
          "Male",
          "Female",
          "Male",
          "Male",
          "Male",
          "Female",
          "Male",
          "Male",
          "Female",
          "Female",
          "Female",
          "Male",
          "Male",
          "Male",
          "Male",
          "Male",
          "Male",
          "Male",
          "Male",
          "Male",
          "Male",
          "Male",
          "Male",
          "Male",
          "Female",
          "Female",
          "Male",
          "Male",
          "Male",
          "Female",
          "Male",
          "Male",
          "Male",
          "Male",
          "Male",
          "Male",
          "Female",
          "Male",
          "Male",
          "Male",
          "Female",
          "Male",
          "Female",
          "Female",
          "Male",
          "Male",
          "Male",
          "Female",
          "Male",
          "Female",
          "Female",
          "Female",
          "Male",
          "Male",
          "Male",
          "Male",
          "Female",
          "Male",
          "Male",
          "Male",
          "Female",
          "Female",
          "Male",
          "Male",
          "Female",
          "Male",
          "Female",
          "Male",
          "Male",
          "Male",
          "Male",
          "Female",
          "Female",
          "Male",
          "Male",
          "Male",
          "Male",
          "Male",
          "Female",
          "Male",
          "Male",
          "Male",
          "Male",
          "Female",
          "Female",
          "Male",
          "Male",
          "Male",
          "Female",
          "Female",
          "Male",
          "Male",
          "Female",
          "Male",
          "Male",
          "Female",
          "Male",
          "Male",
          "Male",
          "Female",
          "Male",
          "Female",
          "Male",
          "Female",
          "Male",
          "Female",
          "Male",
          "Female",
          "Female",
          "Female",
          "Female",
          "Male",
          "Male",
          "Male",
          "Male",
          "Male",
          "Male",
          "Male",
          "Female",
          "Female",
          "Female",
          "Female",
          "Male",
          "Female",
          "Male",
          "Male",
          "Male",
          "Female",
          "Male",
          "Male",
          "Male",
          "Male",
          "Male",
          "Female",
          "Male",
          "Male",
          "Male",
          "Male",
          "Male",
          "Female",
          "Male",
          "Male",
          "Male",
          "Male",
          "Female",
          "Female",
          "Female",
          "Male",
          "Female",
          "Male",
          "Male",
          "Male",
          "Male",
          "Male",
          "Male",
          "Female",
          "Male",
          "Male"
         ],
         "xaxis": "x",
         "xbingroup": "x",
         "y": [
          "Not-in-family",
          "Husband",
          "Not-in-family",
          "Husband",
          "Wife",
          "Wife",
          "Not-in-family",
          "Husband",
          "Not-in-family",
          "Husband",
          "Husband",
          "Husband",
          "Own-child",
          "Not-in-family",
          "Husband",
          "Husband",
          "Own-child",
          "Unmarried",
          "Husband",
          "Unmarried",
          "Husband",
          "Unmarried",
          "Husband",
          "Husband",
          "Unmarried",
          "Husband",
          "Own-child",
          "Husband",
          "Not-in-family",
          "Husband",
          "Not-in-family",
          "Own-child",
          "Own-child",
          "Own-child",
          "Husband",
          "Unmarried",
          "Own-child",
          "Wife",
          "Husband",
          "Husband",
          "Husband",
          "Husband",
          "Husband",
          "Unmarried",
          "Not-in-family",
          "Husband",
          "Husband",
          "Unmarried",
          "Husband",
          "Not-in-family",
          "Wife",
          "Own-child",
          "Wife",
          "Not-in-family",
          "Not-in-family",
          "Husband",
          "Husband",
          "Husband",
          "Husband",
          "Husband",
          "Husband",
          "Not-in-family",
          "Husband",
          "Husband",
          "Not-in-family",
          "Husband",
          "Not-in-family",
          "Wife",
          "Husband",
          "Own-child",
          "Own-child",
          "Own-child",
          "Husband",
          "Not-in-family",
          "Other-relative",
          "Own-child",
          "Husband",
          "Husband",
          "Own-child",
          "Husband",
          "Not-in-family",
          "Husband",
          "Wife",
          "Husband",
          "Not-in-family",
          "Own-child",
          "Husband",
          "Husband",
          "Not-in-family",
          "Not-in-family",
          "Husband",
          "Unmarried",
          "Unmarried",
          "Wife",
          "Husband",
          "Not-in-family",
          "Husband",
          "Husband",
          "Unmarried",
          "Own-child",
          "Husband",
          "Husband",
          "Not-in-family",
          "Own-child",
          "Not-in-family",
          "Husband",
          "Own-child",
          "Own-child",
          "Not-in-family",
          "Husband",
          "Other-relative",
          "Husband",
          "Husband",
          "Wife",
          "Own-child",
          "Husband",
          "Husband",
          "Husband",
          "Husband",
          "Not-in-family",
          "Own-child",
          "Husband",
          "Own-child",
          "Husband",
          "Own-child",
          "Wife",
          "Own-child",
          "Husband",
          "Husband",
          "Not-in-family",
          "Not-in-family",
          "Not-in-family",
          "Husband",
          "Husband",
          "Not-in-family",
          "Husband",
          "Husband",
          "Wife",
          "Own-child",
          "Husband",
          "Husband",
          "Own-child",
          "Own-child",
          "Not-in-family",
          "Other-relative",
          "Unmarried",
          "Husband",
          "Unmarried",
          "Husband",
          "Not-in-family",
          "Unmarried",
          "Not-in-family",
          "Other-relative",
          "Own-child",
          "Not-in-family",
          "Husband",
          "Not-in-family",
          "Unmarried",
          "Not-in-family",
          "Other-relative",
          "Not-in-family",
          "Unmarried",
          "Unmarried",
          "Not-in-family",
          "Husband",
          "Unmarried",
          "Not-in-family",
          "Unmarried",
          "Own-child",
          "Not-in-family",
          "Not-in-family",
          "Husband",
          "Husband",
          "Not-in-family",
          "Husband",
          "Unmarried",
          "Own-child",
          "Not-in-family",
          "Own-child",
          "Husband",
          "Husband",
          "Not-in-family",
          "Not-in-family",
          "Husband",
          "Husband",
          "Husband",
          "Not-in-family",
          "Not-in-family",
          "Wife",
          "Husband",
          "Not-in-family",
          "Husband",
          "Husband",
          "Husband",
          "Husband",
          "Other-relative",
          "Not-in-family",
          "Not-in-family",
          "Other-relative",
          "Not-in-family"
         ],
         "yaxis": "y",
         "ybingroup": "y"
        },
        {
         "coloraxis": "coloraxis",
         "histnorm": "probability",
         "hovertemplate": "Data=Synthetic<br>Sex=%{x}<br>Relationship=%{y}<br>probability=%{z}<extra></extra>",
         "name": "",
         "type": "histogram2d",
         "x": [
          "Male",
          "Male",
          "Male",
          "Male",
          "Male",
          "Male",
          "Female",
          "Male",
          "Male",
          "Female",
          "Male",
          "Male",
          "Male",
          "Male",
          "Male",
          "Male",
          "Male",
          "Male",
          "Male",
          "Male",
          "Male",
          "Female",
          "Male",
          "Male",
          "Male",
          "Male",
          "Female",
          "Male",
          "Male",
          "Male",
          "Female",
          "Female",
          "Male",
          "Male",
          "Male",
          "Male",
          "Female",
          "Male",
          "Male",
          "Male",
          "Male",
          "Male",
          "Male",
          "Male",
          "Male",
          "Female",
          "Female",
          "Male",
          "Male",
          "Male",
          "Male",
          "Male",
          "Male",
          "Male",
          "Male",
          "Male",
          "Male",
          "Male",
          "Male",
          "Male",
          "Female",
          "Female",
          "Female",
          "Male",
          "Male",
          "Male",
          "Male",
          "Male",
          "Male",
          "Male",
          "Male",
          "Female",
          "Male",
          "Male",
          "Female",
          "Male",
          "Male",
          "Female",
          "Male",
          "Male",
          "Male",
          "Male",
          "Male",
          "Female",
          "Female",
          "Female",
          "Male",
          "Male",
          "Male",
          "Male",
          "Male",
          "Male",
          "Male",
          "Female",
          "Male",
          "Male",
          "Female",
          "Male",
          "Male",
          "Male"
         ],
         "xaxis": "x2",
         "xbingroup": "x",
         "y": [
          "Husband",
          "Not-in-family",
          "Wife",
          "Not-in-family",
          "Not-in-family",
          "Not-in-family",
          "Not-in-family",
          "Not-in-family",
          "Own-child",
          "Husband",
          "Husband",
          "Own-child",
          "Husband",
          "Wife",
          "Not-in-family",
          "Not-in-family",
          "Not-in-family",
          "Wife",
          "Not-in-family",
          "Not-in-family",
          "Own-child",
          "Wife",
          "Not-in-family",
          "Not-in-family",
          "Husband",
          "Not-in-family",
          "Husband",
          "Not-in-family",
          "Wife",
          "Not-in-family",
          "Own-child",
          "Other-relative",
          "Wife",
          "Husband",
          "Husband",
          "Not-in-family",
          "Not-in-family",
          "Not-in-family",
          "Not-in-family",
          "Wife",
          "Husband",
          "Husband",
          "Not-in-family",
          "Not-in-family",
          "Not-in-family",
          "Wife",
          "Not-in-family",
          "Husband",
          "Husband",
          "Husband",
          "Not-in-family",
          "Wife",
          "Not-in-family",
          "Husband",
          "Husband",
          "Wife",
          "Not-in-family",
          "Wife",
          "Wife",
          "Husband",
          "Not-in-family",
          "Husband",
          "Wife",
          "Not-in-family",
          "Not-in-family",
          "Husband",
          "Not-in-family",
          "Not-in-family",
          "Husband",
          "Wife",
          "Not-in-family",
          "Unmarried",
          "Not-in-family",
          "Husband",
          "Wife",
          "Husband",
          "Other-relative",
          "Not-in-family",
          "Wife",
          "Husband",
          "Not-in-family",
          "Not-in-family",
          "Own-child",
          "Not-in-family",
          "Not-in-family",
          "Husband",
          "Not-in-family",
          "Not-in-family",
          "Wife",
          "Husband",
          "Not-in-family",
          "Not-in-family",
          "Husband",
          "Not-in-family",
          "Not-in-family",
          "Not-in-family",
          "Not-in-family",
          "Not-in-family",
          "Not-in-family",
          "Husband"
         ],
         "yaxis": "y2",
         "ybingroup": "y"
        }
       ],
       "layout": {
        "annotations": [
         {
          "font": {},
          "showarrow": false,
          "text": "Real Data",
          "x": 0.245,
          "xanchor": "center",
          "xref": "paper",
          "y": 1,
          "yanchor": "bottom",
          "yref": "paper"
         },
         {
          "font": {},
          "showarrow": false,
          "text": "Synthetic Data",
          "x": 0.755,
          "xanchor": "center",
          "xref": "paper",
          "y": 1,
          "yanchor": "bottom",
          "yref": "paper"
         }
        ],
        "coloraxis": {
         "colorbar": {
          "title": {
           "text": "probability"
          }
         },
         "colorscale": [
          [
           0,
           "#000036"
          ],
          [
           1,
           "#01E0C9"
          ]
         ]
        },
        "font": {
         "size": 18
        },
        "legend": {
         "tracegroupgap": 0
        },
        "margin": {
         "t": 60
        },
        "template": {
         "data": {
          "bar": [
           {
            "error_x": {
             "color": "#2a3f5f"
            },
            "error_y": {
             "color": "#2a3f5f"
            },
            "marker": {
             "line": {
              "color": "#E5ECF6",
              "width": 0.5
             },
             "pattern": {
              "fillmode": "overlay",
              "size": 10,
              "solidity": 0.2
             }
            },
            "type": "bar"
           }
          ],
          "barpolar": [
           {
            "marker": {
             "line": {
              "color": "#E5ECF6",
              "width": 0.5
             },
             "pattern": {
              "fillmode": "overlay",
              "size": 10,
              "solidity": 0.2
             }
            },
            "type": "barpolar"
           }
          ],
          "carpet": [
           {
            "aaxis": {
             "endlinecolor": "#2a3f5f",
             "gridcolor": "white",
             "linecolor": "white",
             "minorgridcolor": "white",
             "startlinecolor": "#2a3f5f"
            },
            "baxis": {
             "endlinecolor": "#2a3f5f",
             "gridcolor": "white",
             "linecolor": "white",
             "minorgridcolor": "white",
             "startlinecolor": "#2a3f5f"
            },
            "type": "carpet"
           }
          ],
          "choropleth": [
           {
            "colorbar": {
             "outlinewidth": 0,
             "ticks": ""
            },
            "type": "choropleth"
           }
          ],
          "contour": [
           {
            "colorbar": {
             "outlinewidth": 0,
             "ticks": ""
            },
            "colorscale": [
             [
              0,
              "#0d0887"
             ],
             [
              0.1111111111111111,
              "#46039f"
             ],
             [
              0.2222222222222222,
              "#7201a8"
             ],
             [
              0.3333333333333333,
              "#9c179e"
             ],
             [
              0.4444444444444444,
              "#bd3786"
             ],
             [
              0.5555555555555556,
              "#d8576b"
             ],
             [
              0.6666666666666666,
              "#ed7953"
             ],
             [
              0.7777777777777778,
              "#fb9f3a"
             ],
             [
              0.8888888888888888,
              "#fdca26"
             ],
             [
              1,
              "#f0f921"
             ]
            ],
            "type": "contour"
           }
          ],
          "contourcarpet": [
           {
            "colorbar": {
             "outlinewidth": 0,
             "ticks": ""
            },
            "type": "contourcarpet"
           }
          ],
          "heatmap": [
           {
            "colorbar": {
             "outlinewidth": 0,
             "ticks": ""
            },
            "colorscale": [
             [
              0,
              "#0d0887"
             ],
             [
              0.1111111111111111,
              "#46039f"
             ],
             [
              0.2222222222222222,
              "#7201a8"
             ],
             [
              0.3333333333333333,
              "#9c179e"
             ],
             [
              0.4444444444444444,
              "#bd3786"
             ],
             [
              0.5555555555555556,
              "#d8576b"
             ],
             [
              0.6666666666666666,
              "#ed7953"
             ],
             [
              0.7777777777777778,
              "#fb9f3a"
             ],
             [
              0.8888888888888888,
              "#fdca26"
             ],
             [
              1,
              "#f0f921"
             ]
            ],
            "type": "heatmap"
           }
          ],
          "heatmapgl": [
           {
            "colorbar": {
             "outlinewidth": 0,
             "ticks": ""
            },
            "colorscale": [
             [
              0,
              "#0d0887"
             ],
             [
              0.1111111111111111,
              "#46039f"
             ],
             [
              0.2222222222222222,
              "#7201a8"
             ],
             [
              0.3333333333333333,
              "#9c179e"
             ],
             [
              0.4444444444444444,
              "#bd3786"
             ],
             [
              0.5555555555555556,
              "#d8576b"
             ],
             [
              0.6666666666666666,
              "#ed7953"
             ],
             [
              0.7777777777777778,
              "#fb9f3a"
             ],
             [
              0.8888888888888888,
              "#fdca26"
             ],
             [
              1,
              "#f0f921"
             ]
            ],
            "type": "heatmapgl"
           }
          ],
          "histogram": [
           {
            "marker": {
             "pattern": {
              "fillmode": "overlay",
              "size": 10,
              "solidity": 0.2
             }
            },
            "type": "histogram"
           }
          ],
          "histogram2d": [
           {
            "colorbar": {
             "outlinewidth": 0,
             "ticks": ""
            },
            "colorscale": [
             [
              0,
              "#0d0887"
             ],
             [
              0.1111111111111111,
              "#46039f"
             ],
             [
              0.2222222222222222,
              "#7201a8"
             ],
             [
              0.3333333333333333,
              "#9c179e"
             ],
             [
              0.4444444444444444,
              "#bd3786"
             ],
             [
              0.5555555555555556,
              "#d8576b"
             ],
             [
              0.6666666666666666,
              "#ed7953"
             ],
             [
              0.7777777777777778,
              "#fb9f3a"
             ],
             [
              0.8888888888888888,
              "#fdca26"
             ],
             [
              1,
              "#f0f921"
             ]
            ],
            "type": "histogram2d"
           }
          ],
          "histogram2dcontour": [
           {
            "colorbar": {
             "outlinewidth": 0,
             "ticks": ""
            },
            "colorscale": [
             [
              0,
              "#0d0887"
             ],
             [
              0.1111111111111111,
              "#46039f"
             ],
             [
              0.2222222222222222,
              "#7201a8"
             ],
             [
              0.3333333333333333,
              "#9c179e"
             ],
             [
              0.4444444444444444,
              "#bd3786"
             ],
             [
              0.5555555555555556,
              "#d8576b"
             ],
             [
              0.6666666666666666,
              "#ed7953"
             ],
             [
              0.7777777777777778,
              "#fb9f3a"
             ],
             [
              0.8888888888888888,
              "#fdca26"
             ],
             [
              1,
              "#f0f921"
             ]
            ],
            "type": "histogram2dcontour"
           }
          ],
          "mesh3d": [
           {
            "colorbar": {
             "outlinewidth": 0,
             "ticks": ""
            },
            "type": "mesh3d"
           }
          ],
          "parcoords": [
           {
            "line": {
             "colorbar": {
              "outlinewidth": 0,
              "ticks": ""
             }
            },
            "type": "parcoords"
           }
          ],
          "pie": [
           {
            "automargin": true,
            "type": "pie"
           }
          ],
          "scatter": [
           {
            "fillpattern": {
             "fillmode": "overlay",
             "size": 10,
             "solidity": 0.2
            },
            "type": "scatter"
           }
          ],
          "scatter3d": [
           {
            "line": {
             "colorbar": {
              "outlinewidth": 0,
              "ticks": ""
             }
            },
            "marker": {
             "colorbar": {
              "outlinewidth": 0,
              "ticks": ""
             }
            },
            "type": "scatter3d"
           }
          ],
          "scattercarpet": [
           {
            "marker": {
             "colorbar": {
              "outlinewidth": 0,
              "ticks": ""
             }
            },
            "type": "scattercarpet"
           }
          ],
          "scattergeo": [
           {
            "marker": {
             "colorbar": {
              "outlinewidth": 0,
              "ticks": ""
             }
            },
            "type": "scattergeo"
           }
          ],
          "scattergl": [
           {
            "marker": {
             "colorbar": {
              "outlinewidth": 0,
              "ticks": ""
             }
            },
            "type": "scattergl"
           }
          ],
          "scattermapbox": [
           {
            "marker": {
             "colorbar": {
              "outlinewidth": 0,
              "ticks": ""
             }
            },
            "type": "scattermapbox"
           }
          ],
          "scatterpolar": [
           {
            "marker": {
             "colorbar": {
              "outlinewidth": 0,
              "ticks": ""
             }
            },
            "type": "scatterpolar"
           }
          ],
          "scatterpolargl": [
           {
            "marker": {
             "colorbar": {
              "outlinewidth": 0,
              "ticks": ""
             }
            },
            "type": "scatterpolargl"
           }
          ],
          "scatterternary": [
           {
            "marker": {
             "colorbar": {
              "outlinewidth": 0,
              "ticks": ""
             }
            },
            "type": "scatterternary"
           }
          ],
          "surface": [
           {
            "colorbar": {
             "outlinewidth": 0,
             "ticks": ""
            },
            "colorscale": [
             [
              0,
              "#0d0887"
             ],
             [
              0.1111111111111111,
              "#46039f"
             ],
             [
              0.2222222222222222,
              "#7201a8"
             ],
             [
              0.3333333333333333,
              "#9c179e"
             ],
             [
              0.4444444444444444,
              "#bd3786"
             ],
             [
              0.5555555555555556,
              "#d8576b"
             ],
             [
              0.6666666666666666,
              "#ed7953"
             ],
             [
              0.7777777777777778,
              "#fb9f3a"
             ],
             [
              0.8888888888888888,
              "#fdca26"
             ],
             [
              1,
              "#f0f921"
             ]
            ],
            "type": "surface"
           }
          ],
          "table": [
           {
            "cells": {
             "fill": {
              "color": "#EBF0F8"
             },
             "line": {
              "color": "white"
             }
            },
            "header": {
             "fill": {
              "color": "#C8D4E3"
             },
             "line": {
              "color": "white"
             }
            },
            "type": "table"
           }
          ]
         },
         "layout": {
          "annotationdefaults": {
           "arrowcolor": "#2a3f5f",
           "arrowhead": 0,
           "arrowwidth": 1
          },
          "autotypenumbers": "strict",
          "coloraxis": {
           "colorbar": {
            "outlinewidth": 0,
            "ticks": ""
           }
          },
          "colorscale": {
           "diverging": [
            [
             0,
             "#8e0152"
            ],
            [
             0.1,
             "#c51b7d"
            ],
            [
             0.2,
             "#de77ae"
            ],
            [
             0.3,
             "#f1b6da"
            ],
            [
             0.4,
             "#fde0ef"
            ],
            [
             0.5,
             "#f7f7f7"
            ],
            [
             0.6,
             "#e6f5d0"
            ],
            [
             0.7,
             "#b8e186"
            ],
            [
             0.8,
             "#7fbc41"
            ],
            [
             0.9,
             "#4d9221"
            ],
            [
             1,
             "#276419"
            ]
           ],
           "sequential": [
            [
             0,
             "#0d0887"
            ],
            [
             0.1111111111111111,
             "#46039f"
            ],
            [
             0.2222222222222222,
             "#7201a8"
            ],
            [
             0.3333333333333333,
             "#9c179e"
            ],
            [
             0.4444444444444444,
             "#bd3786"
            ],
            [
             0.5555555555555556,
             "#d8576b"
            ],
            [
             0.6666666666666666,
             "#ed7953"
            ],
            [
             0.7777777777777778,
             "#fb9f3a"
            ],
            [
             0.8888888888888888,
             "#fdca26"
            ],
            [
             1,
             "#f0f921"
            ]
           ],
           "sequentialminus": [
            [
             0,
             "#0d0887"
            ],
            [
             0.1111111111111111,
             "#46039f"
            ],
            [
             0.2222222222222222,
             "#7201a8"
            ],
            [
             0.3333333333333333,
             "#9c179e"
            ],
            [
             0.4444444444444444,
             "#bd3786"
            ],
            [
             0.5555555555555556,
             "#d8576b"
            ],
            [
             0.6666666666666666,
             "#ed7953"
            ],
            [
             0.7777777777777778,
             "#fb9f3a"
            ],
            [
             0.8888888888888888,
             "#fdca26"
            ],
            [
             1,
             "#f0f921"
            ]
           ]
          },
          "colorway": [
           "#636efa",
           "#EF553B",
           "#00cc96",
           "#ab63fa",
           "#FFA15A",
           "#19d3f3",
           "#FF6692",
           "#B6E880",
           "#FF97FF",
           "#FECB52"
          ],
          "font": {
           "color": "#2a3f5f"
          },
          "geo": {
           "bgcolor": "white",
           "lakecolor": "white",
           "landcolor": "#E5ECF6",
           "showlakes": true,
           "showland": true,
           "subunitcolor": "white"
          },
          "hoverlabel": {
           "align": "left"
          },
          "hovermode": "closest",
          "mapbox": {
           "style": "light"
          },
          "paper_bgcolor": "white",
          "plot_bgcolor": "#E5ECF6",
          "polar": {
           "angularaxis": {
            "gridcolor": "white",
            "linecolor": "white",
            "ticks": ""
           },
           "bgcolor": "#E5ECF6",
           "radialaxis": {
            "gridcolor": "white",
            "linecolor": "white",
            "ticks": ""
           }
          },
          "scene": {
           "xaxis": {
            "backgroundcolor": "#E5ECF6",
            "gridcolor": "white",
            "gridwidth": 2,
            "linecolor": "white",
            "showbackground": true,
            "ticks": "",
            "zerolinecolor": "white"
           },
           "yaxis": {
            "backgroundcolor": "#E5ECF6",
            "gridcolor": "white",
            "gridwidth": 2,
            "linecolor": "white",
            "showbackground": true,
            "ticks": "",
            "zerolinecolor": "white"
           },
           "zaxis": {
            "backgroundcolor": "#E5ECF6",
            "gridcolor": "white",
            "gridwidth": 2,
            "linecolor": "white",
            "showbackground": true,
            "ticks": "",
            "zerolinecolor": "white"
           }
          },
          "shapedefaults": {
           "line": {
            "color": "#2a3f5f"
           }
          },
          "ternary": {
           "aaxis": {
            "gridcolor": "white",
            "linecolor": "white",
            "ticks": ""
           },
           "baxis": {
            "gridcolor": "white",
            "linecolor": "white",
            "ticks": ""
           },
           "bgcolor": "#E5ECF6",
           "caxis": {
            "gridcolor": "white",
            "linecolor": "white",
            "ticks": ""
           }
          },
          "title": {
           "x": 0.05
          },
          "xaxis": {
           "automargin": true,
           "gridcolor": "white",
           "linecolor": "white",
           "ticks": "",
           "title": {
            "standoff": 15
           },
           "zerolinecolor": "white",
           "zerolinewidth": 2
          },
          "yaxis": {
           "automargin": true,
           "gridcolor": "white",
           "linecolor": "white",
           "ticks": "",
           "title": {
            "standoff": 15
           },
           "zerolinecolor": "white",
           "zerolinewidth": 2
          }
         }
        },
        "title": {
         "text": "Real vs Synthetic Data for columns 'Sex' and 'Relationship'"
        },
        "xaxis": {
         "anchor": "y",
         "domain": [
          0,
          0.49
         ],
         "title": {
          "text": "Sex"
         }
        },
        "xaxis2": {
         "anchor": "y2",
         "domain": [
          0.51,
          1
         ],
         "matches": "x",
         "title": {
          "text": "Sex"
         }
        },
        "yaxis": {
         "anchor": "x",
         "domain": [
          0,
          1
         ],
         "title": {
          "text": "Relationship"
         }
        },
        "yaxis2": {
         "anchor": "x2",
         "domain": [
          0,
          1
         ],
         "matches": "y",
         "showticklabels": false
        }
       }
      }
     },
     "metadata": {},
     "output_type": "display_data"
    },
    {
     "data": {
      "application/vnd.plotly.v1+json": {
       "config": {
        "plotlyServerURL": "https://plot.ly"
       },
       "data": [
        {
         "alignmentgroup": "True",
         "hovertemplate": "Data=Real<br>Age=%{x}<br>Over-50K=%{y}<extra></extra>",
         "legendgroup": "Real",
         "marker": {
          "color": "#000036"
         },
         "name": "Real",
         "notched": false,
         "offsetgroup": "Real",
         "orientation": "h",
         "showlegend": true,
         "type": "box",
         "x": [
          39,
          50,
          38,
          53,
          28,
          37,
          49,
          52,
          31,
          42,
          37,
          30,
          23,
          32,
          40,
          34,
          25,
          32,
          38,
          43,
          40,
          54,
          35,
          43,
          59,
          56,
          19,
          54,
          39,
          49,
          23,
          20,
          45,
          30,
          22,
          48,
          21,
          19,
          31,
          48,
          31,
          53,
          24,
          49,
          25,
          57,
          53,
          44,
          41,
          29,
          25,
          18,
          47,
          50,
          47,
          43,
          46,
          35,
          41,
          30,
          30,
          32,
          48,
          42,
          29,
          36,
          28,
          53,
          49,
          25,
          19,
          31,
          29,
          23,
          79,
          27,
          40,
          67,
          18,
          31,
          18,
          52,
          46,
          59,
          44,
          53,
          49,
          33,
          30,
          43,
          57,
          37,
          28,
          30,
          34,
          29,
          48,
          37,
          48,
          32,
          76,
          44,
          47,
          20,
          29,
          32,
          17,
          30,
          31,
          42,
          24,
          38,
          56,
          28,
          36,
          53,
          56,
          49,
          55,
          22,
          21,
          40,
          30,
          29,
          19,
          47,
          20,
          31,
          35,
          39,
          28,
          24,
          38,
          37,
          46,
          38,
          43,
          27,
          20,
          49,
          61,
          27,
          19,
          45,
          70,
          31,
          22,
          36,
          64,
          43,
          47,
          34,
          33,
          21,
          52,
          48,
          23,
          71,
          29,
          42,
          68,
          25,
          44,
          28,
          45,
          36,
          39,
          46,
          18,
          66,
          27,
          28,
          51,
          27,
          28,
          27,
          21,
          34,
          18,
          33,
          44,
          43,
          30,
          40,
          37,
          34,
          41,
          53,
          31,
          58,
          38,
          24,
          41,
          47,
          41,
          23,
          36,
          40,
          35,
          24
         ],
         "x0": " ",
         "xaxis": "x",
         "y": [
          "<=50K",
          "<=50K",
          "<=50K",
          "<=50K",
          "<=50K",
          "<=50K",
          "<=50K",
          ">50K",
          ">50K",
          ">50K",
          ">50K",
          ">50K",
          "<=50K",
          "<=50K",
          ">50K",
          "<=50K",
          "<=50K",
          "<=50K",
          "<=50K",
          ">50K",
          ">50K",
          "<=50K",
          "<=50K",
          "<=50K",
          "<=50K",
          ">50K",
          "<=50K",
          ">50K",
          "<=50K",
          "<=50K",
          "<=50K",
          "<=50K",
          "<=50K",
          "<=50K",
          "<=50K",
          "<=50K",
          "<=50K",
          "<=50K",
          ">50K",
          "<=50K",
          "<=50K",
          "<=50K",
          "<=50K",
          "<=50K",
          "<=50K",
          ">50K",
          "<=50K",
          "<=50K",
          "<=50K",
          "<=50K",
          "<=50K",
          "<=50K",
          ">50K",
          ">50K",
          "<=50K",
          ">50K",
          "<=50K",
          "<=50K",
          "<=50K",
          "<=50K",
          "<=50K",
          "<=50K",
          "<=50K",
          ">50K",
          "<=50K",
          "<=50K",
          "<=50K",
          ">50K",
          ">50K",
          "<=50K",
          "<=50K",
          "<=50K",
          ">50K",
          "<=50K",
          "<=50K",
          "<=50K",
          "<=50K",
          "<=50K",
          "<=50K",
          "<=50K",
          "<=50K",
          "<=50K",
          "<=50K",
          "<=50K",
          ">50K",
          "<=50K",
          ">50K",
          "<=50K",
          "<=50K",
          ">50K",
          "<=50K",
          "<=50K",
          "<=50K",
          "<=50K",
          ">50K",
          "<=50K",
          ">50K",
          ">50K",
          "<=50K",
          "<=50K",
          ">50K",
          ">50K",
          "<=50K",
          "<=50K",
          "<=50K",
          ">50K",
          "<=50K",
          "<=50K",
          "<=50K",
          "<=50K",
          "<=50K",
          ">50K",
          ">50K",
          "<=50K",
          "<=50K",
          "<=50K",
          "<=50K",
          ">50K",
          "<=50K",
          "<=50K",
          "<=50K",
          "<=50K",
          "<=50K",
          ">50K",
          "<=50K",
          ">50K",
          "<=50K",
          ">50K",
          "<=50K",
          "<=50K",
          "<=50K",
          "<=50K",
          "<=50K",
          "<=50K",
          "<=50K",
          ">50K",
          "<=50K",
          "<=50K",
          "<=50K",
          ">50K",
          "<=50K",
          "<=50K",
          "<=50K",
          ">50K",
          "<=50K",
          "<=50K",
          "<=50K",
          "<=50K",
          "<=50K",
          "<=50K",
          "<=50K",
          "<=50K",
          "<=50K",
          "<=50K",
          ">50K",
          "<=50K",
          "<=50K",
          "<=50K",
          "<=50K",
          "<=50K",
          "<=50K",
          "<=50K",
          "<=50K",
          "<=50K",
          ">50K",
          "<=50K",
          "<=50K",
          "<=50K",
          "<=50K",
          "<=50K",
          "<=50K",
          "<=50K",
          ">50K",
          "<=50K",
          ">50K",
          "<=50K",
          "<=50K",
          "<=50K",
          "<=50K",
          "<=50K",
          ">50K",
          "<=50K",
          "<=50K",
          ">50K",
          ">50K",
          "<=50K",
          "<=50K",
          "<=50K",
          "<=50K",
          ">50K",
          "<=50K",
          "<=50K",
          "<=50K",
          "<=50K",
          "<=50K",
          "<=50K",
          "<=50K",
          ">50K",
          ">50K",
          "<=50K"
         ],
         "y0": " ",
         "yaxis": "y"
        },
        {
         "alignmentgroup": "True",
         "hovertemplate": "Data=Synthetic<br>Age=%{x}<br>Over-50K=%{y}<extra></extra>",
         "legendgroup": "Synthetic",
         "marker": {
          "color": "#01E0C9"
         },
         "name": "Synthetic",
         "notched": false,
         "offsetgroup": "Synthetic",
         "orientation": "h",
         "showlegend": true,
         "type": "box",
         "x": [
          17,
          38,
          34,
          43,
          32,
          12,
          37,
          29,
          31,
          22,
          34,
          42,
          23,
          35,
          51,
          31,
          37,
          46,
          46,
          24,
          34,
          22,
          46,
          36,
          66,
          58,
          32,
          12,
          46,
          34,
          32,
          41,
          75,
          29,
          41,
          61,
          33,
          29,
          38,
          18,
          38,
          65,
          29,
          18,
          37,
          26,
          43,
          39,
          21,
          27,
          47,
          15,
          43,
          72,
          11,
          44,
          33,
          30,
          48,
          69,
          34,
          31,
          36,
          56,
          24,
          35,
          32,
          73,
          20,
          20,
          41,
          52,
          41,
          35,
          50,
          23,
          41,
          23,
          52,
          13,
          65,
          38,
          32,
          64,
          45,
          27,
          46,
          12,
          55,
          24,
          53,
          41,
          51,
          40,
          43,
          28,
          59,
          39,
          50,
          28
         ],
         "x0": " ",
         "xaxis": "x",
         "y": [
          ">50K",
          "<=50K",
          "<=50K",
          "<=50K",
          "<=50K",
          "<=50K",
          ">50K",
          ">50K",
          "<=50K",
          ">50K",
          "<=50K",
          "<=50K",
          "<=50K",
          "<=50K",
          "<=50K",
          "<=50K",
          "<=50K",
          "<=50K",
          ">50K",
          "<=50K",
          "<=50K",
          "<=50K",
          "<=50K",
          "<=50K",
          ">50K",
          "<=50K",
          "<=50K",
          "<=50K",
          "<=50K",
          "<=50K",
          "<=50K",
          "<=50K",
          "<=50K",
          "<=50K",
          "<=50K",
          "<=50K",
          "<=50K",
          "<=50K",
          "<=50K",
          "<=50K",
          "<=50K",
          "<=50K",
          "<=50K",
          "<=50K",
          "<=50K",
          "<=50K",
          "<=50K",
          "<=50K",
          "<=50K",
          ">50K",
          "<=50K",
          "<=50K",
          ">50K",
          "<=50K",
          "<=50K",
          "<=50K",
          "<=50K",
          "<=50K",
          "<=50K",
          ">50K",
          "<=50K",
          "<=50K",
          "<=50K",
          "<=50K",
          "<=50K",
          "<=50K",
          "<=50K",
          "<=50K",
          ">50K",
          ">50K",
          "<=50K",
          "<=50K",
          ">50K",
          "<=50K",
          "<=50K",
          "<=50K",
          "<=50K",
          "<=50K",
          "<=50K",
          "<=50K",
          "<=50K",
          "<=50K",
          "<=50K",
          ">50K",
          "<=50K",
          "<=50K",
          ">50K",
          "<=50K",
          "<=50K",
          "<=50K",
          ">50K",
          "<=50K",
          "<=50K",
          ">50K",
          "<=50K",
          "<=50K",
          "<=50K",
          ">50K",
          "<=50K",
          "<=50K"
         ],
         "y0": " ",
         "yaxis": "y"
        }
       ],
       "layout": {
        "boxmode": "group",
        "font": {
         "size": 18
        },
        "legend": {
         "title": {
          "text": "Data"
         },
         "tracegroupgap": 0
        },
        "margin": {
         "t": 60
        },
        "plot_bgcolor": "#F5F5F8",
        "template": {
         "data": {
          "bar": [
           {
            "error_x": {
             "color": "#2a3f5f"
            },
            "error_y": {
             "color": "#2a3f5f"
            },
            "marker": {
             "line": {
              "color": "#E5ECF6",
              "width": 0.5
             },
             "pattern": {
              "fillmode": "overlay",
              "size": 10,
              "solidity": 0.2
             }
            },
            "type": "bar"
           }
          ],
          "barpolar": [
           {
            "marker": {
             "line": {
              "color": "#E5ECF6",
              "width": 0.5
             },
             "pattern": {
              "fillmode": "overlay",
              "size": 10,
              "solidity": 0.2
             }
            },
            "type": "barpolar"
           }
          ],
          "carpet": [
           {
            "aaxis": {
             "endlinecolor": "#2a3f5f",
             "gridcolor": "white",
             "linecolor": "white",
             "minorgridcolor": "white",
             "startlinecolor": "#2a3f5f"
            },
            "baxis": {
             "endlinecolor": "#2a3f5f",
             "gridcolor": "white",
             "linecolor": "white",
             "minorgridcolor": "white",
             "startlinecolor": "#2a3f5f"
            },
            "type": "carpet"
           }
          ],
          "choropleth": [
           {
            "colorbar": {
             "outlinewidth": 0,
             "ticks": ""
            },
            "type": "choropleth"
           }
          ],
          "contour": [
           {
            "colorbar": {
             "outlinewidth": 0,
             "ticks": ""
            },
            "colorscale": [
             [
              0,
              "#0d0887"
             ],
             [
              0.1111111111111111,
              "#46039f"
             ],
             [
              0.2222222222222222,
              "#7201a8"
             ],
             [
              0.3333333333333333,
              "#9c179e"
             ],
             [
              0.4444444444444444,
              "#bd3786"
             ],
             [
              0.5555555555555556,
              "#d8576b"
             ],
             [
              0.6666666666666666,
              "#ed7953"
             ],
             [
              0.7777777777777778,
              "#fb9f3a"
             ],
             [
              0.8888888888888888,
              "#fdca26"
             ],
             [
              1,
              "#f0f921"
             ]
            ],
            "type": "contour"
           }
          ],
          "contourcarpet": [
           {
            "colorbar": {
             "outlinewidth": 0,
             "ticks": ""
            },
            "type": "contourcarpet"
           }
          ],
          "heatmap": [
           {
            "colorbar": {
             "outlinewidth": 0,
             "ticks": ""
            },
            "colorscale": [
             [
              0,
              "#0d0887"
             ],
             [
              0.1111111111111111,
              "#46039f"
             ],
             [
              0.2222222222222222,
              "#7201a8"
             ],
             [
              0.3333333333333333,
              "#9c179e"
             ],
             [
              0.4444444444444444,
              "#bd3786"
             ],
             [
              0.5555555555555556,
              "#d8576b"
             ],
             [
              0.6666666666666666,
              "#ed7953"
             ],
             [
              0.7777777777777778,
              "#fb9f3a"
             ],
             [
              0.8888888888888888,
              "#fdca26"
             ],
             [
              1,
              "#f0f921"
             ]
            ],
            "type": "heatmap"
           }
          ],
          "heatmapgl": [
           {
            "colorbar": {
             "outlinewidth": 0,
             "ticks": ""
            },
            "colorscale": [
             [
              0,
              "#0d0887"
             ],
             [
              0.1111111111111111,
              "#46039f"
             ],
             [
              0.2222222222222222,
              "#7201a8"
             ],
             [
              0.3333333333333333,
              "#9c179e"
             ],
             [
              0.4444444444444444,
              "#bd3786"
             ],
             [
              0.5555555555555556,
              "#d8576b"
             ],
             [
              0.6666666666666666,
              "#ed7953"
             ],
             [
              0.7777777777777778,
              "#fb9f3a"
             ],
             [
              0.8888888888888888,
              "#fdca26"
             ],
             [
              1,
              "#f0f921"
             ]
            ],
            "type": "heatmapgl"
           }
          ],
          "histogram": [
           {
            "marker": {
             "pattern": {
              "fillmode": "overlay",
              "size": 10,
              "solidity": 0.2
             }
            },
            "type": "histogram"
           }
          ],
          "histogram2d": [
           {
            "colorbar": {
             "outlinewidth": 0,
             "ticks": ""
            },
            "colorscale": [
             [
              0,
              "#0d0887"
             ],
             [
              0.1111111111111111,
              "#46039f"
             ],
             [
              0.2222222222222222,
              "#7201a8"
             ],
             [
              0.3333333333333333,
              "#9c179e"
             ],
             [
              0.4444444444444444,
              "#bd3786"
             ],
             [
              0.5555555555555556,
              "#d8576b"
             ],
             [
              0.6666666666666666,
              "#ed7953"
             ],
             [
              0.7777777777777778,
              "#fb9f3a"
             ],
             [
              0.8888888888888888,
              "#fdca26"
             ],
             [
              1,
              "#f0f921"
             ]
            ],
            "type": "histogram2d"
           }
          ],
          "histogram2dcontour": [
           {
            "colorbar": {
             "outlinewidth": 0,
             "ticks": ""
            },
            "colorscale": [
             [
              0,
              "#0d0887"
             ],
             [
              0.1111111111111111,
              "#46039f"
             ],
             [
              0.2222222222222222,
              "#7201a8"
             ],
             [
              0.3333333333333333,
              "#9c179e"
             ],
             [
              0.4444444444444444,
              "#bd3786"
             ],
             [
              0.5555555555555556,
              "#d8576b"
             ],
             [
              0.6666666666666666,
              "#ed7953"
             ],
             [
              0.7777777777777778,
              "#fb9f3a"
             ],
             [
              0.8888888888888888,
              "#fdca26"
             ],
             [
              1,
              "#f0f921"
             ]
            ],
            "type": "histogram2dcontour"
           }
          ],
          "mesh3d": [
           {
            "colorbar": {
             "outlinewidth": 0,
             "ticks": ""
            },
            "type": "mesh3d"
           }
          ],
          "parcoords": [
           {
            "line": {
             "colorbar": {
              "outlinewidth": 0,
              "ticks": ""
             }
            },
            "type": "parcoords"
           }
          ],
          "pie": [
           {
            "automargin": true,
            "type": "pie"
           }
          ],
          "scatter": [
           {
            "fillpattern": {
             "fillmode": "overlay",
             "size": 10,
             "solidity": 0.2
            },
            "type": "scatter"
           }
          ],
          "scatter3d": [
           {
            "line": {
             "colorbar": {
              "outlinewidth": 0,
              "ticks": ""
             }
            },
            "marker": {
             "colorbar": {
              "outlinewidth": 0,
              "ticks": ""
             }
            },
            "type": "scatter3d"
           }
          ],
          "scattercarpet": [
           {
            "marker": {
             "colorbar": {
              "outlinewidth": 0,
              "ticks": ""
             }
            },
            "type": "scattercarpet"
           }
          ],
          "scattergeo": [
           {
            "marker": {
             "colorbar": {
              "outlinewidth": 0,
              "ticks": ""
             }
            },
            "type": "scattergeo"
           }
          ],
          "scattergl": [
           {
            "marker": {
             "colorbar": {
              "outlinewidth": 0,
              "ticks": ""
             }
            },
            "type": "scattergl"
           }
          ],
          "scattermapbox": [
           {
            "marker": {
             "colorbar": {
              "outlinewidth": 0,
              "ticks": ""
             }
            },
            "type": "scattermapbox"
           }
          ],
          "scatterpolar": [
           {
            "marker": {
             "colorbar": {
              "outlinewidth": 0,
              "ticks": ""
             }
            },
            "type": "scatterpolar"
           }
          ],
          "scatterpolargl": [
           {
            "marker": {
             "colorbar": {
              "outlinewidth": 0,
              "ticks": ""
             }
            },
            "type": "scatterpolargl"
           }
          ],
          "scatterternary": [
           {
            "marker": {
             "colorbar": {
              "outlinewidth": 0,
              "ticks": ""
             }
            },
            "type": "scatterternary"
           }
          ],
          "surface": [
           {
            "colorbar": {
             "outlinewidth": 0,
             "ticks": ""
            },
            "colorscale": [
             [
              0,
              "#0d0887"
             ],
             [
              0.1111111111111111,
              "#46039f"
             ],
             [
              0.2222222222222222,
              "#7201a8"
             ],
             [
              0.3333333333333333,
              "#9c179e"
             ],
             [
              0.4444444444444444,
              "#bd3786"
             ],
             [
              0.5555555555555556,
              "#d8576b"
             ],
             [
              0.6666666666666666,
              "#ed7953"
             ],
             [
              0.7777777777777778,
              "#fb9f3a"
             ],
             [
              0.8888888888888888,
              "#fdca26"
             ],
             [
              1,
              "#f0f921"
             ]
            ],
            "type": "surface"
           }
          ],
          "table": [
           {
            "cells": {
             "fill": {
              "color": "#EBF0F8"
             },
             "line": {
              "color": "white"
             }
            },
            "header": {
             "fill": {
              "color": "#C8D4E3"
             },
             "line": {
              "color": "white"
             }
            },
            "type": "table"
           }
          ]
         },
         "layout": {
          "annotationdefaults": {
           "arrowcolor": "#2a3f5f",
           "arrowhead": 0,
           "arrowwidth": 1
          },
          "autotypenumbers": "strict",
          "coloraxis": {
           "colorbar": {
            "outlinewidth": 0,
            "ticks": ""
           }
          },
          "colorscale": {
           "diverging": [
            [
             0,
             "#8e0152"
            ],
            [
             0.1,
             "#c51b7d"
            ],
            [
             0.2,
             "#de77ae"
            ],
            [
             0.3,
             "#f1b6da"
            ],
            [
             0.4,
             "#fde0ef"
            ],
            [
             0.5,
             "#f7f7f7"
            ],
            [
             0.6,
             "#e6f5d0"
            ],
            [
             0.7,
             "#b8e186"
            ],
            [
             0.8,
             "#7fbc41"
            ],
            [
             0.9,
             "#4d9221"
            ],
            [
             1,
             "#276419"
            ]
           ],
           "sequential": [
            [
             0,
             "#0d0887"
            ],
            [
             0.1111111111111111,
             "#46039f"
            ],
            [
             0.2222222222222222,
             "#7201a8"
            ],
            [
             0.3333333333333333,
             "#9c179e"
            ],
            [
             0.4444444444444444,
             "#bd3786"
            ],
            [
             0.5555555555555556,
             "#d8576b"
            ],
            [
             0.6666666666666666,
             "#ed7953"
            ],
            [
             0.7777777777777778,
             "#fb9f3a"
            ],
            [
             0.8888888888888888,
             "#fdca26"
            ],
            [
             1,
             "#f0f921"
            ]
           ],
           "sequentialminus": [
            [
             0,
             "#0d0887"
            ],
            [
             0.1111111111111111,
             "#46039f"
            ],
            [
             0.2222222222222222,
             "#7201a8"
            ],
            [
             0.3333333333333333,
             "#9c179e"
            ],
            [
             0.4444444444444444,
             "#bd3786"
            ],
            [
             0.5555555555555556,
             "#d8576b"
            ],
            [
             0.6666666666666666,
             "#ed7953"
            ],
            [
             0.7777777777777778,
             "#fb9f3a"
            ],
            [
             0.8888888888888888,
             "#fdca26"
            ],
            [
             1,
             "#f0f921"
            ]
           ]
          },
          "colorway": [
           "#636efa",
           "#EF553B",
           "#00cc96",
           "#ab63fa",
           "#FFA15A",
           "#19d3f3",
           "#FF6692",
           "#B6E880",
           "#FF97FF",
           "#FECB52"
          ],
          "font": {
           "color": "#2a3f5f"
          },
          "geo": {
           "bgcolor": "white",
           "lakecolor": "white",
           "landcolor": "#E5ECF6",
           "showlakes": true,
           "showland": true,
           "subunitcolor": "white"
          },
          "hoverlabel": {
           "align": "left"
          },
          "hovermode": "closest",
          "mapbox": {
           "style": "light"
          },
          "paper_bgcolor": "white",
          "plot_bgcolor": "#E5ECF6",
          "polar": {
           "angularaxis": {
            "gridcolor": "white",
            "linecolor": "white",
            "ticks": ""
           },
           "bgcolor": "#E5ECF6",
           "radialaxis": {
            "gridcolor": "white",
            "linecolor": "white",
            "ticks": ""
           }
          },
          "scene": {
           "xaxis": {
            "backgroundcolor": "#E5ECF6",
            "gridcolor": "white",
            "gridwidth": 2,
            "linecolor": "white",
            "showbackground": true,
            "ticks": "",
            "zerolinecolor": "white"
           },
           "yaxis": {
            "backgroundcolor": "#E5ECF6",
            "gridcolor": "white",
            "gridwidth": 2,
            "linecolor": "white",
            "showbackground": true,
            "ticks": "",
            "zerolinecolor": "white"
           },
           "zaxis": {
            "backgroundcolor": "#E5ECF6",
            "gridcolor": "white",
            "gridwidth": 2,
            "linecolor": "white",
            "showbackground": true,
            "ticks": "",
            "zerolinecolor": "white"
           }
          },
          "shapedefaults": {
           "line": {
            "color": "#2a3f5f"
           }
          },
          "ternary": {
           "aaxis": {
            "gridcolor": "white",
            "linecolor": "white",
            "ticks": ""
           },
           "baxis": {
            "gridcolor": "white",
            "linecolor": "white",
            "ticks": ""
           },
           "bgcolor": "#E5ECF6",
           "caxis": {
            "gridcolor": "white",
            "linecolor": "white",
            "ticks": ""
           }
          },
          "title": {
           "x": 0.05
          },
          "xaxis": {
           "automargin": true,
           "gridcolor": "white",
           "linecolor": "white",
           "ticks": "",
           "title": {
            "standoff": 15
           },
           "zerolinecolor": "white",
           "zerolinewidth": 2
          },
          "yaxis": {
           "automargin": true,
           "gridcolor": "white",
           "linecolor": "white",
           "ticks": "",
           "title": {
            "standoff": 15
           },
           "zerolinecolor": "white",
           "zerolinewidth": 2
          }
         }
        },
        "title": {
         "text": "Real vs. Synthetic Data for columns 'Age' and 'Over-50K'"
        },
        "xaxis": {
         "anchor": "y",
         "domain": [
          0,
          1
         ],
         "title": {
          "text": "Age"
         }
        },
        "yaxis": {
         "anchor": "x",
         "domain": [
          0,
          1
         ],
         "title": {
          "text": "Over-50K"
         }
        }
       }
      }
     },
     "metadata": {},
     "output_type": "display_data"
    },
    {
     "data": {
      "application/vnd.plotly.v1+json": {
       "config": {
        "plotlyServerURL": "https://plot.ly"
       },
       "data": [
        {
         "hovertemplate": "Data=Real<br>Age=%{x}<br>Hours-per-week=%{y}<extra></extra>",
         "legendgroup": "Real",
         "marker": {
          "color": "#000036",
          "symbol": "circle"
         },
         "mode": "markers",
         "name": "Real",
         "orientation": "v",
         "showlegend": true,
         "type": "scatter",
         "x": [
          39,
          50,
          38,
          53,
          28,
          37,
          49,
          52,
          31,
          42,
          37,
          30,
          23,
          32,
          40,
          34,
          25,
          32,
          38,
          43,
          40,
          54,
          35,
          43,
          59,
          56,
          19,
          54,
          39,
          49,
          23,
          20,
          45,
          30,
          22,
          48,
          21,
          19,
          31,
          48,
          31,
          53,
          24,
          49,
          25,
          57,
          53,
          44,
          41,
          29,
          25,
          18,
          47,
          50,
          47,
          43,
          46,
          35,
          41,
          30,
          30,
          32,
          48,
          42,
          29,
          36,
          28,
          53,
          49,
          25,
          19,
          31,
          29,
          23,
          79,
          27,
          40,
          67,
          18,
          31,
          18,
          52,
          46,
          59,
          44,
          53,
          49,
          33,
          30,
          43,
          57,
          37,
          28,
          30,
          34,
          29,
          48,
          37,
          48,
          32,
          76,
          44,
          47,
          20,
          29,
          32,
          17,
          30,
          31,
          42,
          24,
          38,
          56,
          28,
          36,
          53,
          56,
          49,
          55,
          22,
          21,
          40,
          30,
          29,
          19,
          47,
          20,
          31,
          35,
          39,
          28,
          24,
          38,
          37,
          46,
          38,
          43,
          27,
          20,
          49,
          61,
          27,
          19,
          45,
          70,
          31,
          22,
          36,
          64,
          43,
          47,
          34,
          33,
          21,
          52,
          48,
          23,
          71,
          29,
          42,
          68,
          25,
          44,
          28,
          45,
          36,
          39,
          46,
          18,
          66,
          27,
          28,
          51,
          27,
          28,
          27,
          21,
          34,
          18,
          33,
          44,
          43,
          30,
          40,
          37,
          34,
          41,
          53,
          31,
          58,
          38,
          24,
          41,
          47,
          41,
          23,
          36,
          40,
          35,
          24
         ],
         "xaxis": "x",
         "y": [
          40,
          13,
          40,
          40,
          40,
          40,
          16,
          45,
          50,
          40,
          80,
          40,
          30,
          50,
          40,
          45,
          35,
          40,
          50,
          45,
          60,
          20,
          40,
          40,
          40,
          40,
          40,
          60,
          80,
          40,
          52,
          44,
          40,
          40,
          15,
          40,
          40,
          25,
          38,
          40,
          43,
          40,
          50,
          40,
          35,
          40,
          38,
          40,
          40,
          43,
          40,
          30,
          60,
          55,
          60,
          40,
          40,
          40,
          48,
          40,
          40,
          40,
          40,
          45,
          58,
          40,
          40,
          40,
          50,
          40,
          32,
          40,
          70,
          40,
          20,
          40,
          40,
          2,
          22,
          40,
          30,
          40,
          40,
          48,
          40,
          35,
          40,
          50,
          40,
          50,
          40,
          40,
          25,
          35,
          40,
          50,
          60,
          48,
          40,
          40,
          40,
          60,
          50,
          40,
          40,
          40,
          32,
          40,
          40,
          40,
          40,
          40,
          50,
          25,
          40,
          50,
          50,
          40,
          56,
          41,
          40,
          60,
          40,
          50,
          35,
          40,
          28,
          40,
          40,
          40,
          60,
          40,
          35,
          50,
          36,
          40,
          60,
          35,
          20,
          40,
          40,
          40,
          30,
          40,
          40,
          30,
          24,
          24,
          40,
          40,
          38,
          40,
          40,
          35,
          45,
          46,
          40,
          2,
          60,
          50,
          20,
          40,
          40,
          40,
          40,
          40,
          42,
          40,
          16,
          20,
          40,
          40,
          40,
          50,
          40,
          25,
          40,
          40,
          12,
          65,
          38,
          40,
          45,
          40,
          42,
          40,
          40,
          50,
          50,
          1,
          28,
          40,
          40,
          45,
          24,
          40,
          40,
          55,
          40,
          40
         ],
         "yaxis": "y"
        },
        {
         "hovertemplate": "Data=Synthetic<br>Age=%{x}<br>Hours-per-week=%{y}<extra></extra>",
         "legendgroup": "Synthetic",
         "marker": {
          "color": "#01E0C9",
          "symbol": "diamond"
         },
         "mode": "markers",
         "name": "Synthetic",
         "orientation": "v",
         "showlegend": true,
         "type": "scatter",
         "x": [
          17,
          38,
          34,
          43,
          32,
          12,
          37,
          29,
          31,
          22,
          34,
          42,
          23,
          35,
          51,
          31,
          37,
          46,
          46,
          24,
          34,
          22,
          46,
          36,
          66,
          58,
          32,
          12,
          46,
          34,
          32,
          41,
          75,
          29,
          41,
          61,
          33,
          29,
          38,
          18,
          38,
          65,
          29,
          18,
          37,
          26,
          43,
          39,
          21,
          27,
          47,
          15,
          43,
          72,
          11,
          44,
          33,
          30,
          48,
          69,
          34,
          31,
          36,
          56,
          24,
          35,
          32,
          73,
          20,
          20,
          41,
          52,
          41,
          35,
          50,
          23,
          41,
          23,
          52,
          13,
          65,
          38,
          32,
          64,
          45,
          27,
          46,
          12,
          55,
          24,
          53,
          41,
          51,
          40,
          43,
          28,
          59,
          39,
          50,
          28
         ],
         "xaxis": "x",
         "y": [
          53,
          68,
          43,
          43,
          40,
          42,
          41,
          20,
          38,
          64,
          62,
          86,
          40,
          42,
          57,
          26,
          15,
          46,
          61,
          41,
          39,
          40,
          39,
          42,
          35,
          16,
          58,
          10,
          25,
          39,
          69,
          33,
          32,
          53,
          41,
          41,
          73,
          7,
          48,
          44,
          60,
          39,
          48,
          72,
          39,
          23,
          39,
          37,
          46,
          58,
          40,
          69,
          39,
          42,
          43,
          43,
          54,
          39,
          56,
          41,
          -1,
          44,
          10,
          44,
          57,
          62,
          73,
          75,
          45,
          26,
          40,
          44,
          41,
          56,
          40,
          44,
          26,
          34,
          40,
          82,
          32,
          45,
          88,
          41,
          9,
          50,
          38,
          7,
          61,
          42,
          36,
          40,
          41,
          -16,
          41,
          42,
          27,
          46,
          27,
          41
         ],
         "yaxis": "y"
        }
       ],
       "layout": {
        "font": {
         "size": 18
        },
        "legend": {
         "title": {
          "text": "Data"
         },
         "tracegroupgap": 0
        },
        "margin": {
         "t": 60
        },
        "plot_bgcolor": "#F5F5F8",
        "template": {
         "data": {
          "bar": [
           {
            "error_x": {
             "color": "#2a3f5f"
            },
            "error_y": {
             "color": "#2a3f5f"
            },
            "marker": {
             "line": {
              "color": "#E5ECF6",
              "width": 0.5
             },
             "pattern": {
              "fillmode": "overlay",
              "size": 10,
              "solidity": 0.2
             }
            },
            "type": "bar"
           }
          ],
          "barpolar": [
           {
            "marker": {
             "line": {
              "color": "#E5ECF6",
              "width": 0.5
             },
             "pattern": {
              "fillmode": "overlay",
              "size": 10,
              "solidity": 0.2
             }
            },
            "type": "barpolar"
           }
          ],
          "carpet": [
           {
            "aaxis": {
             "endlinecolor": "#2a3f5f",
             "gridcolor": "white",
             "linecolor": "white",
             "minorgridcolor": "white",
             "startlinecolor": "#2a3f5f"
            },
            "baxis": {
             "endlinecolor": "#2a3f5f",
             "gridcolor": "white",
             "linecolor": "white",
             "minorgridcolor": "white",
             "startlinecolor": "#2a3f5f"
            },
            "type": "carpet"
           }
          ],
          "choropleth": [
           {
            "colorbar": {
             "outlinewidth": 0,
             "ticks": ""
            },
            "type": "choropleth"
           }
          ],
          "contour": [
           {
            "colorbar": {
             "outlinewidth": 0,
             "ticks": ""
            },
            "colorscale": [
             [
              0,
              "#0d0887"
             ],
             [
              0.1111111111111111,
              "#46039f"
             ],
             [
              0.2222222222222222,
              "#7201a8"
             ],
             [
              0.3333333333333333,
              "#9c179e"
             ],
             [
              0.4444444444444444,
              "#bd3786"
             ],
             [
              0.5555555555555556,
              "#d8576b"
             ],
             [
              0.6666666666666666,
              "#ed7953"
             ],
             [
              0.7777777777777778,
              "#fb9f3a"
             ],
             [
              0.8888888888888888,
              "#fdca26"
             ],
             [
              1,
              "#f0f921"
             ]
            ],
            "type": "contour"
           }
          ],
          "contourcarpet": [
           {
            "colorbar": {
             "outlinewidth": 0,
             "ticks": ""
            },
            "type": "contourcarpet"
           }
          ],
          "heatmap": [
           {
            "colorbar": {
             "outlinewidth": 0,
             "ticks": ""
            },
            "colorscale": [
             [
              0,
              "#0d0887"
             ],
             [
              0.1111111111111111,
              "#46039f"
             ],
             [
              0.2222222222222222,
              "#7201a8"
             ],
             [
              0.3333333333333333,
              "#9c179e"
             ],
             [
              0.4444444444444444,
              "#bd3786"
             ],
             [
              0.5555555555555556,
              "#d8576b"
             ],
             [
              0.6666666666666666,
              "#ed7953"
             ],
             [
              0.7777777777777778,
              "#fb9f3a"
             ],
             [
              0.8888888888888888,
              "#fdca26"
             ],
             [
              1,
              "#f0f921"
             ]
            ],
            "type": "heatmap"
           }
          ],
          "heatmapgl": [
           {
            "colorbar": {
             "outlinewidth": 0,
             "ticks": ""
            },
            "colorscale": [
             [
              0,
              "#0d0887"
             ],
             [
              0.1111111111111111,
              "#46039f"
             ],
             [
              0.2222222222222222,
              "#7201a8"
             ],
             [
              0.3333333333333333,
              "#9c179e"
             ],
             [
              0.4444444444444444,
              "#bd3786"
             ],
             [
              0.5555555555555556,
              "#d8576b"
             ],
             [
              0.6666666666666666,
              "#ed7953"
             ],
             [
              0.7777777777777778,
              "#fb9f3a"
             ],
             [
              0.8888888888888888,
              "#fdca26"
             ],
             [
              1,
              "#f0f921"
             ]
            ],
            "type": "heatmapgl"
           }
          ],
          "histogram": [
           {
            "marker": {
             "pattern": {
              "fillmode": "overlay",
              "size": 10,
              "solidity": 0.2
             }
            },
            "type": "histogram"
           }
          ],
          "histogram2d": [
           {
            "colorbar": {
             "outlinewidth": 0,
             "ticks": ""
            },
            "colorscale": [
             [
              0,
              "#0d0887"
             ],
             [
              0.1111111111111111,
              "#46039f"
             ],
             [
              0.2222222222222222,
              "#7201a8"
             ],
             [
              0.3333333333333333,
              "#9c179e"
             ],
             [
              0.4444444444444444,
              "#bd3786"
             ],
             [
              0.5555555555555556,
              "#d8576b"
             ],
             [
              0.6666666666666666,
              "#ed7953"
             ],
             [
              0.7777777777777778,
              "#fb9f3a"
             ],
             [
              0.8888888888888888,
              "#fdca26"
             ],
             [
              1,
              "#f0f921"
             ]
            ],
            "type": "histogram2d"
           }
          ],
          "histogram2dcontour": [
           {
            "colorbar": {
             "outlinewidth": 0,
             "ticks": ""
            },
            "colorscale": [
             [
              0,
              "#0d0887"
             ],
             [
              0.1111111111111111,
              "#46039f"
             ],
             [
              0.2222222222222222,
              "#7201a8"
             ],
             [
              0.3333333333333333,
              "#9c179e"
             ],
             [
              0.4444444444444444,
              "#bd3786"
             ],
             [
              0.5555555555555556,
              "#d8576b"
             ],
             [
              0.6666666666666666,
              "#ed7953"
             ],
             [
              0.7777777777777778,
              "#fb9f3a"
             ],
             [
              0.8888888888888888,
              "#fdca26"
             ],
             [
              1,
              "#f0f921"
             ]
            ],
            "type": "histogram2dcontour"
           }
          ],
          "mesh3d": [
           {
            "colorbar": {
             "outlinewidth": 0,
             "ticks": ""
            },
            "type": "mesh3d"
           }
          ],
          "parcoords": [
           {
            "line": {
             "colorbar": {
              "outlinewidth": 0,
              "ticks": ""
             }
            },
            "type": "parcoords"
           }
          ],
          "pie": [
           {
            "automargin": true,
            "type": "pie"
           }
          ],
          "scatter": [
           {
            "fillpattern": {
             "fillmode": "overlay",
             "size": 10,
             "solidity": 0.2
            },
            "type": "scatter"
           }
          ],
          "scatter3d": [
           {
            "line": {
             "colorbar": {
              "outlinewidth": 0,
              "ticks": ""
             }
            },
            "marker": {
             "colorbar": {
              "outlinewidth": 0,
              "ticks": ""
             }
            },
            "type": "scatter3d"
           }
          ],
          "scattercarpet": [
           {
            "marker": {
             "colorbar": {
              "outlinewidth": 0,
              "ticks": ""
             }
            },
            "type": "scattercarpet"
           }
          ],
          "scattergeo": [
           {
            "marker": {
             "colorbar": {
              "outlinewidth": 0,
              "ticks": ""
             }
            },
            "type": "scattergeo"
           }
          ],
          "scattergl": [
           {
            "marker": {
             "colorbar": {
              "outlinewidth": 0,
              "ticks": ""
             }
            },
            "type": "scattergl"
           }
          ],
          "scattermapbox": [
           {
            "marker": {
             "colorbar": {
              "outlinewidth": 0,
              "ticks": ""
             }
            },
            "type": "scattermapbox"
           }
          ],
          "scatterpolar": [
           {
            "marker": {
             "colorbar": {
              "outlinewidth": 0,
              "ticks": ""
             }
            },
            "type": "scatterpolar"
           }
          ],
          "scatterpolargl": [
           {
            "marker": {
             "colorbar": {
              "outlinewidth": 0,
              "ticks": ""
             }
            },
            "type": "scatterpolargl"
           }
          ],
          "scatterternary": [
           {
            "marker": {
             "colorbar": {
              "outlinewidth": 0,
              "ticks": ""
             }
            },
            "type": "scatterternary"
           }
          ],
          "surface": [
           {
            "colorbar": {
             "outlinewidth": 0,
             "ticks": ""
            },
            "colorscale": [
             [
              0,
              "#0d0887"
             ],
             [
              0.1111111111111111,
              "#46039f"
             ],
             [
              0.2222222222222222,
              "#7201a8"
             ],
             [
              0.3333333333333333,
              "#9c179e"
             ],
             [
              0.4444444444444444,
              "#bd3786"
             ],
             [
              0.5555555555555556,
              "#d8576b"
             ],
             [
              0.6666666666666666,
              "#ed7953"
             ],
             [
              0.7777777777777778,
              "#fb9f3a"
             ],
             [
              0.8888888888888888,
              "#fdca26"
             ],
             [
              1,
              "#f0f921"
             ]
            ],
            "type": "surface"
           }
          ],
          "table": [
           {
            "cells": {
             "fill": {
              "color": "#EBF0F8"
             },
             "line": {
              "color": "white"
             }
            },
            "header": {
             "fill": {
              "color": "#C8D4E3"
             },
             "line": {
              "color": "white"
             }
            },
            "type": "table"
           }
          ]
         },
         "layout": {
          "annotationdefaults": {
           "arrowcolor": "#2a3f5f",
           "arrowhead": 0,
           "arrowwidth": 1
          },
          "autotypenumbers": "strict",
          "coloraxis": {
           "colorbar": {
            "outlinewidth": 0,
            "ticks": ""
           }
          },
          "colorscale": {
           "diverging": [
            [
             0,
             "#8e0152"
            ],
            [
             0.1,
             "#c51b7d"
            ],
            [
             0.2,
             "#de77ae"
            ],
            [
             0.3,
             "#f1b6da"
            ],
            [
             0.4,
             "#fde0ef"
            ],
            [
             0.5,
             "#f7f7f7"
            ],
            [
             0.6,
             "#e6f5d0"
            ],
            [
             0.7,
             "#b8e186"
            ],
            [
             0.8,
             "#7fbc41"
            ],
            [
             0.9,
             "#4d9221"
            ],
            [
             1,
             "#276419"
            ]
           ],
           "sequential": [
            [
             0,
             "#0d0887"
            ],
            [
             0.1111111111111111,
             "#46039f"
            ],
            [
             0.2222222222222222,
             "#7201a8"
            ],
            [
             0.3333333333333333,
             "#9c179e"
            ],
            [
             0.4444444444444444,
             "#bd3786"
            ],
            [
             0.5555555555555556,
             "#d8576b"
            ],
            [
             0.6666666666666666,
             "#ed7953"
            ],
            [
             0.7777777777777778,
             "#fb9f3a"
            ],
            [
             0.8888888888888888,
             "#fdca26"
            ],
            [
             1,
             "#f0f921"
            ]
           ],
           "sequentialminus": [
            [
             0,
             "#0d0887"
            ],
            [
             0.1111111111111111,
             "#46039f"
            ],
            [
             0.2222222222222222,
             "#7201a8"
            ],
            [
             0.3333333333333333,
             "#9c179e"
            ],
            [
             0.4444444444444444,
             "#bd3786"
            ],
            [
             0.5555555555555556,
             "#d8576b"
            ],
            [
             0.6666666666666666,
             "#ed7953"
            ],
            [
             0.7777777777777778,
             "#fb9f3a"
            ],
            [
             0.8888888888888888,
             "#fdca26"
            ],
            [
             1,
             "#f0f921"
            ]
           ]
          },
          "colorway": [
           "#636efa",
           "#EF553B",
           "#00cc96",
           "#ab63fa",
           "#FFA15A",
           "#19d3f3",
           "#FF6692",
           "#B6E880",
           "#FF97FF",
           "#FECB52"
          ],
          "font": {
           "color": "#2a3f5f"
          },
          "geo": {
           "bgcolor": "white",
           "lakecolor": "white",
           "landcolor": "#E5ECF6",
           "showlakes": true,
           "showland": true,
           "subunitcolor": "white"
          },
          "hoverlabel": {
           "align": "left"
          },
          "hovermode": "closest",
          "mapbox": {
           "style": "light"
          },
          "paper_bgcolor": "white",
          "plot_bgcolor": "#E5ECF6",
          "polar": {
           "angularaxis": {
            "gridcolor": "white",
            "linecolor": "white",
            "ticks": ""
           },
           "bgcolor": "#E5ECF6",
           "radialaxis": {
            "gridcolor": "white",
            "linecolor": "white",
            "ticks": ""
           }
          },
          "scene": {
           "xaxis": {
            "backgroundcolor": "#E5ECF6",
            "gridcolor": "white",
            "gridwidth": 2,
            "linecolor": "white",
            "showbackground": true,
            "ticks": "",
            "zerolinecolor": "white"
           },
           "yaxis": {
            "backgroundcolor": "#E5ECF6",
            "gridcolor": "white",
            "gridwidth": 2,
            "linecolor": "white",
            "showbackground": true,
            "ticks": "",
            "zerolinecolor": "white"
           },
           "zaxis": {
            "backgroundcolor": "#E5ECF6",
            "gridcolor": "white",
            "gridwidth": 2,
            "linecolor": "white",
            "showbackground": true,
            "ticks": "",
            "zerolinecolor": "white"
           }
          },
          "shapedefaults": {
           "line": {
            "color": "#2a3f5f"
           }
          },
          "ternary": {
           "aaxis": {
            "gridcolor": "white",
            "linecolor": "white",
            "ticks": ""
           },
           "baxis": {
            "gridcolor": "white",
            "linecolor": "white",
            "ticks": ""
           },
           "bgcolor": "#E5ECF6",
           "caxis": {
            "gridcolor": "white",
            "linecolor": "white",
            "ticks": ""
           }
          },
          "title": {
           "x": 0.05
          },
          "xaxis": {
           "automargin": true,
           "gridcolor": "white",
           "linecolor": "white",
           "ticks": "",
           "title": {
            "standoff": 15
           },
           "zerolinecolor": "white",
           "zerolinewidth": 2
          },
          "yaxis": {
           "automargin": true,
           "gridcolor": "white",
           "linecolor": "white",
           "ticks": "",
           "title": {
            "standoff": 15
           },
           "zerolinecolor": "white",
           "zerolinewidth": 2
          }
         }
        },
        "title": {
         "text": "Real vs. Synthetic Data for columns 'Age' and 'Hours-per-week'"
        },
        "xaxis": {
         "anchor": "y",
         "domain": [
          0,
          1
         ],
         "title": {
          "text": "Age"
         }
        },
        "yaxis": {
         "anchor": "x",
         "domain": [
          0,
          1
         ],
         "title": {
          "text": "Hours-per-week"
         }
        }
       }
      }
     },
     "metadata": {},
     "output_type": "display_data"
    }
   ],
   "source": [
    "\n",
    "pairs = [['Sex', 'Relationship'], ['Age', 'Over-50K'], ['Age', 'Hours-per-week']]\n",
    "\n",
    "for p in pairs:\n",
    "    fig = get_column_pair_plot(\n",
    "        real_data=real_data,\n",
    "        synthetic_data=synthetic_data,\n",
    "        column_names=p,\n",
    "        metadata=metadata\n",
    "    )\n",
    "\n",
    "    fig.show()"
   ]
  }
 ],
 "metadata": {
  "kernelspec": {
   "display_name": "Python 3",
   "language": "python",
   "name": "python3"
  },
  "language_info": {
   "codemirror_mode": {
    "name": "ipython",
    "version": 3
   },
   "file_extension": ".py",
   "mimetype": "text/x-python",
   "name": "python",
   "nbconvert_exporter": "python",
   "pygments_lexer": "ipython3",
   "version": "3.11.9"
  }
 },
 "nbformat": 4,
 "nbformat_minor": 2
}
