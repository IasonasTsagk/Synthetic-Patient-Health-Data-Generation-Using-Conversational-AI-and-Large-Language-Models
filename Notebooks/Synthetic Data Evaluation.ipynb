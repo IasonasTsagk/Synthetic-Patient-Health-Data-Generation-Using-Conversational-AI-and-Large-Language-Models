{
 "cells": [
  {
   "cell_type": "code",
   "execution_count": 1,
   "metadata": {},
   "outputs": [],
   "source": [
    "import pandas as pd\n",
    "from sdv.metadata import SingleTableMetadata\n",
    "from sdv.evaluation.single_table import evaluate_quality\n",
    "from sdv.evaluation.single_table import run_diagnostic\n",
    "from sdv.evaluation.single_table import get_column_plot\n",
    "from sdv.evaluation.single_table import get_column_pair_plot"
   ]
  },
  {
   "cell_type": "code",
   "execution_count": 2,
   "metadata": {},
   "outputs": [
    {
     "name": "stdout",
     "output_type": "stream",
     "text": [
      "Test dataset has 217 instances with 12 features\n"
     ]
    }
   ],
   "source": [
    "# real_data = pd.read_csv(\"test_datasets/real_data_adult.csv\", index_col=0)\n",
    "# print(f\"Test dataset has {real_data.shape[0]} instances with {real_data.shape[1]} features\")\n",
    "\n",
    "real_data = pd.read_csv(\"test_datasets/chapter_4.csv\")\n",
    "real_data.drop(columns=['primary_icd9_code'], inplace=True)\n",
    "print(f\"Test dataset has {real_data.shape[0]} instances with {real_data.shape[1]} features\")\n"
   ]
  },
  {
   "cell_type": "code",
   "execution_count": 3,
   "metadata": {},
   "outputs": [
    {
     "data": {
      "text/html": [
       "<div>\n",
       "<style scoped>\n",
       "    .dataframe tbody tr th:only-of-type {\n",
       "        vertical-align: middle;\n",
       "    }\n",
       "\n",
       "    .dataframe tbody tr th {\n",
       "        vertical-align: top;\n",
       "    }\n",
       "\n",
       "    .dataframe thead th {\n",
       "        text-align: right;\n",
       "    }\n",
       "</style>\n",
       "<table border=\"1\" class=\"dataframe\">\n",
       "  <thead>\n",
       "    <tr style=\"text-align: right;\">\n",
       "      <th></th>\n",
       "      <th>gender</th>\n",
       "      <th>age</th>\n",
       "      <th>ethnicity</th>\n",
       "      <th>admission_type</th>\n",
       "      <th>primary_icd9_label</th>\n",
       "      <th>num_of_icd9_codes</th>\n",
       "      <th>hospital_expire_flag</th>\n",
       "      <th>hospital_stay_hours</th>\n",
       "      <th>BMI</th>\n",
       "      <th>Hemoglobine</th>\n",
       "      <th>Hematocrit</th>\n",
       "      <th>WBC</th>\n",
       "    </tr>\n",
       "  </thead>\n",
       "  <tbody>\n",
       "    <tr>\n",
       "      <th>0</th>\n",
       "      <td>M</td>\n",
       "      <td>51</td>\n",
       "      <td>WHITE</td>\n",
       "      <td>EMERGENCY</td>\n",
       "      <td>Other disease of the blood</td>\n",
       "      <td>26</td>\n",
       "      <td>False</td>\n",
       "      <td>517.0</td>\n",
       "      <td>41.582258</td>\n",
       "      <td>8.452632</td>\n",
       "      <td>23.619048</td>\n",
       "      <td>1.500000</td>\n",
       "    </tr>\n",
       "    <tr>\n",
       "      <th>1</th>\n",
       "      <td>F</td>\n",
       "      <td>88</td>\n",
       "      <td>WHITE</td>\n",
       "      <td>EMERGENCY</td>\n",
       "      <td>Other disease of the blood</td>\n",
       "      <td>10</td>\n",
       "      <td>False</td>\n",
       "      <td>236.0</td>\n",
       "      <td>33.600197</td>\n",
       "      <td>8.700000</td>\n",
       "      <td>25.200000</td>\n",
       "      <td>0.900000</td>\n",
       "    </tr>\n",
       "    <tr>\n",
       "      <th>2</th>\n",
       "      <td>M</td>\n",
       "      <td>29</td>\n",
       "      <td>WHITE</td>\n",
       "      <td>EMERGENCY</td>\n",
       "      <td>Other disease of the blood</td>\n",
       "      <td>2</td>\n",
       "      <td>False</td>\n",
       "      <td>106.0</td>\n",
       "      <td>33.600197</td>\n",
       "      <td>8.873893</td>\n",
       "      <td>26.199079</td>\n",
       "      <td>11.785775</td>\n",
       "    </tr>\n",
       "    <tr>\n",
       "      <th>3</th>\n",
       "      <td>F</td>\n",
       "      <td>85</td>\n",
       "      <td>WHITE</td>\n",
       "      <td>EMERGENCY</td>\n",
       "      <td>Anemia</td>\n",
       "      <td>16</td>\n",
       "      <td>False</td>\n",
       "      <td>42.0</td>\n",
       "      <td>33.600197</td>\n",
       "      <td>8.200000</td>\n",
       "      <td>25.000000</td>\n",
       "      <td>6.400000</td>\n",
       "    </tr>\n",
       "    <tr>\n",
       "      <th>4</th>\n",
       "      <td>M</td>\n",
       "      <td>76</td>\n",
       "      <td>WHITE</td>\n",
       "      <td>EMERGENCY</td>\n",
       "      <td>Anemia</td>\n",
       "      <td>16</td>\n",
       "      <td>False</td>\n",
       "      <td>87.0</td>\n",
       "      <td>33.600197</td>\n",
       "      <td>7.700000</td>\n",
       "      <td>25.300000</td>\n",
       "      <td>7.900000</td>\n",
       "    </tr>\n",
       "    <tr>\n",
       "      <th>...</th>\n",
       "      <td>...</td>\n",
       "      <td>...</td>\n",
       "      <td>...</td>\n",
       "      <td>...</td>\n",
       "      <td>...</td>\n",
       "      <td>...</td>\n",
       "      <td>...</td>\n",
       "      <td>...</td>\n",
       "      <td>...</td>\n",
       "      <td>...</td>\n",
       "      <td>...</td>\n",
       "      <td>...</td>\n",
       "    </tr>\n",
       "    <tr>\n",
       "      <th>211</th>\n",
       "      <td>M</td>\n",
       "      <td>38</td>\n",
       "      <td>WHITE</td>\n",
       "      <td>EMERGENCY</td>\n",
       "      <td>Other disease of the blood</td>\n",
       "      <td>22</td>\n",
       "      <td>True</td>\n",
       "      <td>2465.0</td>\n",
       "      <td>33.600197</td>\n",
       "      <td>8.873893</td>\n",
       "      <td>26.199079</td>\n",
       "      <td>11.785775</td>\n",
       "    </tr>\n",
       "    <tr>\n",
       "      <th>212</th>\n",
       "      <td>M</td>\n",
       "      <td>65</td>\n",
       "      <td>BLACK/AFRICAN AMERICAN</td>\n",
       "      <td>EMERGENCY</td>\n",
       "      <td>Other disease of the blood</td>\n",
       "      <td>24</td>\n",
       "      <td>False</td>\n",
       "      <td>186.0</td>\n",
       "      <td>33.600197</td>\n",
       "      <td>7.100000</td>\n",
       "      <td>21.900000</td>\n",
       "      <td>21.150000</td>\n",
       "    </tr>\n",
       "    <tr>\n",
       "      <th>213</th>\n",
       "      <td>F</td>\n",
       "      <td>78</td>\n",
       "      <td>BLACK/AFRICAN AMERICAN</td>\n",
       "      <td>EMERGENCY</td>\n",
       "      <td>Coagulation/hemorrhagic</td>\n",
       "      <td>18</td>\n",
       "      <td>False</td>\n",
       "      <td>262.0</td>\n",
       "      <td>33.600197</td>\n",
       "      <td>8.633333</td>\n",
       "      <td>26.883333</td>\n",
       "      <td>10.433333</td>\n",
       "    </tr>\n",
       "    <tr>\n",
       "      <th>214</th>\n",
       "      <td>F</td>\n",
       "      <td>55</td>\n",
       "      <td>BLACK/AFRICAN AMERICAN</td>\n",
       "      <td>EMERGENCY</td>\n",
       "      <td>Other disease of the blood</td>\n",
       "      <td>22</td>\n",
       "      <td>False</td>\n",
       "      <td>2013.0</td>\n",
       "      <td>33.600197</td>\n",
       "      <td>9.075000</td>\n",
       "      <td>27.925000</td>\n",
       "      <td>5.250000</td>\n",
       "    </tr>\n",
       "    <tr>\n",
       "      <th>215</th>\n",
       "      <td>F</td>\n",
       "      <td>57</td>\n",
       "      <td>BLACK/AFRICAN AMERICAN</td>\n",
       "      <td>EMERGENCY</td>\n",
       "      <td>Anemia</td>\n",
       "      <td>9</td>\n",
       "      <td>False</td>\n",
       "      <td>212.0</td>\n",
       "      <td>33.600197</td>\n",
       "      <td>8.873893</td>\n",
       "      <td>26.199079</td>\n",
       "      <td>11.785775</td>\n",
       "    </tr>\n",
       "  </tbody>\n",
       "</table>\n",
       "<p>216 rows × 12 columns</p>\n",
       "</div>"
      ],
      "text/plain": [
       "    gender  age               ethnicity admission_type  \\\n",
       "0        M   51                   WHITE      EMERGENCY   \n",
       "1        F   88                   WHITE      EMERGENCY   \n",
       "2        M   29                   WHITE      EMERGENCY   \n",
       "3        F   85                   WHITE      EMERGENCY   \n",
       "4        M   76                   WHITE      EMERGENCY   \n",
       "..     ...  ...                     ...            ...   \n",
       "211      M   38                   WHITE      EMERGENCY   \n",
       "212      M   65  BLACK/AFRICAN AMERICAN      EMERGENCY   \n",
       "213      F   78  BLACK/AFRICAN AMERICAN      EMERGENCY   \n",
       "214      F   55  BLACK/AFRICAN AMERICAN      EMERGENCY   \n",
       "215      F   57  BLACK/AFRICAN AMERICAN      EMERGENCY   \n",
       "\n",
       "             primary_icd9_label  num_of_icd9_codes  hospital_expire_flag  \\\n",
       "0    Other disease of the blood                 26                 False   \n",
       "1    Other disease of the blood                 10                 False   \n",
       "2    Other disease of the blood                  2                 False   \n",
       "3                        Anemia                 16                 False   \n",
       "4                        Anemia                 16                 False   \n",
       "..                          ...                ...                   ...   \n",
       "211  Other disease of the blood                 22                  True   \n",
       "212  Other disease of the blood                 24                 False   \n",
       "213     Coagulation/hemorrhagic                 18                 False   \n",
       "214  Other disease of the blood                 22                 False   \n",
       "215                      Anemia                  9                 False   \n",
       "\n",
       "     hospital_stay_hours        BMI  Hemoglobine  Hematocrit        WBC  \n",
       "0                  517.0  41.582258     8.452632   23.619048   1.500000  \n",
       "1                  236.0  33.600197     8.700000   25.200000   0.900000  \n",
       "2                  106.0  33.600197     8.873893   26.199079  11.785775  \n",
       "3                   42.0  33.600197     8.200000   25.000000   6.400000  \n",
       "4                   87.0  33.600197     7.700000   25.300000   7.900000  \n",
       "..                   ...        ...          ...         ...        ...  \n",
       "211               2465.0  33.600197     8.873893   26.199079  11.785775  \n",
       "212                186.0  33.600197     7.100000   21.900000  21.150000  \n",
       "213                262.0  33.600197     8.633333   26.883333  10.433333  \n",
       "214               2013.0  33.600197     9.075000   27.925000   5.250000  \n",
       "215                212.0  33.600197     8.873893   26.199079  11.785775  \n",
       "\n",
       "[216 rows x 12 columns]"
      ]
     },
     "execution_count": 3,
     "metadata": {},
     "output_type": "execute_result"
    }
   ],
   "source": [
    "real_data.head(-1)"
   ]
  },
  {
   "cell_type": "markdown",
   "metadata": {},
   "source": [
    "**Creation of Meta data**\n",
    "\n",
    "Meta data are needed to evaluate the generated synthetic data"
   ]
  },
  {
   "cell_type": "code",
   "execution_count": 4,
   "metadata": {},
   "outputs": [],
   "source": [
    "metadata = SingleTableMetadata()\n",
    "metadata.detect_from_dataframe(real_data)"
   ]
  },
  {
   "cell_type": "code",
   "execution_count": 5,
   "metadata": {},
   "outputs": [
    {
     "name": "stdout",
     "output_type": "stream",
     "text": [
      "Auto detected data:\n",
      "\n"
     ]
    },
    {
     "data": {
      "image/svg+xml": [
       "<?xml version=\"1.0\" encoding=\"UTF-8\" standalone=\"no\"?>\n",
       "<!DOCTYPE svg PUBLIC \"-//W3C//DTD SVG 1.1//EN\"\n",
       " \"http://www.w3.org/Graphics/SVG/1.1/DTD/svg11.dtd\">\n",
       "<!-- Generated by graphviz version 11.0.0 (20240428.1522)\n",
       " -->\n",
       "<!-- Title: Metadata Pages: 1 -->\n",
       "<svg width=\"207pt\" height=\"206pt\"\n",
       " viewBox=\"0.00 0.00 207.00 206.00\" xmlns=\"http://www.w3.org/2000/svg\" xmlns:xlink=\"http://www.w3.org/1999/xlink\">\n",
       "<g id=\"graph0\" class=\"graph\" transform=\"scale(1 1) rotate(0) translate(4 202)\">\n",
       "<title>Metadata</title>\n",
       "<polygon fill=\"white\" stroke=\"none\" points=\"-4,4 -4,-202 203,-202 203,4 -4,4\"/>\n",
       "<g id=\"node1\" class=\"node\">\n",
       "<title></title>\n",
       "<path fill=\"#ffec8b\" stroke=\"black\" d=\"M12,-0.5C12,-0.5 187,-0.5 187,-0.5 193,-0.5 199,-6.5 199,-12.5 199,-12.5 199,-185.5 199,-185.5 199,-191.5 193,-197.5 187,-197.5 187,-197.5 12,-197.5 12,-197.5 6,-197.5 0,-191.5 0,-185.5 0,-185.5 0,-12.5 0,-12.5 0,-6.5 6,-0.5 12,-0.5\"/>\n",
       "<text text-anchor=\"start\" x=\"8\" y=\"-180.2\" font-family=\"Times New Roman,serif\" font-size=\"14.00\">gender : categorical</text>\n",
       "<text text-anchor=\"start\" x=\"8\" y=\"-164.45\" font-family=\"Times New Roman,serif\" font-size=\"14.00\">age : numerical</text>\n",
       "<text text-anchor=\"start\" x=\"8\" y=\"-148.7\" font-family=\"Times New Roman,serif\" font-size=\"14.00\">ethnicity : categorical</text>\n",
       "<text text-anchor=\"start\" x=\"8\" y=\"-132.95\" font-family=\"Times New Roman,serif\" font-size=\"14.00\">admission_type : categorical</text>\n",
       "<text text-anchor=\"start\" x=\"8\" y=\"-117.2\" font-family=\"Times New Roman,serif\" font-size=\"14.00\">primary_icd9_label : categorical</text>\n",
       "<text text-anchor=\"start\" x=\"8\" y=\"-101.45\" font-family=\"Times New Roman,serif\" font-size=\"14.00\">num_of_icd9_codes : numerical</text>\n",
       "<text text-anchor=\"start\" x=\"8\" y=\"-85.7\" font-family=\"Times New Roman,serif\" font-size=\"14.00\">hospital_expire_flag : categorical</text>\n",
       "<text text-anchor=\"start\" x=\"8\" y=\"-69.95\" font-family=\"Times New Roman,serif\" font-size=\"14.00\">hospital_stay_hours : numerical</text>\n",
       "<text text-anchor=\"start\" x=\"8\" y=\"-54.2\" font-family=\"Times New Roman,serif\" font-size=\"14.00\">BMI : numerical</text>\n",
       "<text text-anchor=\"start\" x=\"8\" y=\"-38.45\" font-family=\"Times New Roman,serif\" font-size=\"14.00\">Hemoglobine : numerical</text>\n",
       "<text text-anchor=\"start\" x=\"8\" y=\"-22.7\" font-family=\"Times New Roman,serif\" font-size=\"14.00\">Hematocrit : numerical</text>\n",
       "<text text-anchor=\"start\" x=\"8\" y=\"-6.95\" font-family=\"Times New Roman,serif\" font-size=\"14.00\">WBC : numerical</text>\n",
       "</g>\n",
       "</g>\n",
       "</svg>\n"
      ],
      "text/plain": [
       "<graphviz.graphs.Digraph at 0x14e3a6a07d0>"
      ]
     },
     "execution_count": 5,
     "metadata": {},
     "output_type": "execute_result"
    }
   ],
   "source": [
    "print('Auto detected data:\\n')\n",
    "metadata.visualize()"
   ]
  },
  {
   "cell_type": "code",
   "execution_count": 12,
   "metadata": {},
   "outputs": [],
   "source": [
    "# metadata.update_column(\n",
    "#     column_name='initial_diagnosis',\n",
    "#     sdtype='categorical',\n",
    "# )"
   ]
  },
  {
   "cell_type": "code",
   "execution_count": 6,
   "metadata": {},
   "outputs": [],
   "source": [
    "metadata.validate()\n",
    "metadata.validate_data(data=real_data)"
   ]
  },
  {
   "cell_type": "code",
   "execution_count": 8,
   "metadata": {},
   "outputs": [],
   "source": [
    "metadata.save_to_json('test_datasets/metadata_chapter_4.json')"
   ]
  },
  {
   "cell_type": "code",
   "execution_count": 9,
   "metadata": {},
   "outputs": [],
   "source": [
    "# in the future, we can reload the metadata object from the file\n",
    "metadata = SingleTableMetadata.load_from_json('test_datasets/metadata_chapter_4.json')"
   ]
  },
  {
   "cell_type": "code",
   "execution_count": 10,
   "metadata": {},
   "outputs": [
    {
     "name": "stdout",
     "output_type": "stream",
     "text": [
      "Synthetic dataset has 217 instances with 12 features\n"
     ]
    }
   ],
   "source": [
    "synthetic_data = pd.read_csv(\"test_datasets/syn_data_chapter_4.csv\", index_col=0)\n",
    "print(f\"Synthetic dataset has {synthetic_data.shape[0]} instances with {synthetic_data.shape[1]} features\")"
   ]
  },
  {
   "cell_type": "code",
   "execution_count": 11,
   "metadata": {},
   "outputs": [
    {
     "data": {
      "text/html": [
       "<div>\n",
       "<style scoped>\n",
       "    .dataframe tbody tr th:only-of-type {\n",
       "        vertical-align: middle;\n",
       "    }\n",
       "\n",
       "    .dataframe tbody tr th {\n",
       "        vertical-align: top;\n",
       "    }\n",
       "\n",
       "    .dataframe thead th {\n",
       "        text-align: right;\n",
       "    }\n",
       "</style>\n",
       "<table border=\"1\" class=\"dataframe\">\n",
       "  <thead>\n",
       "    <tr style=\"text-align: right;\">\n",
       "      <th></th>\n",
       "      <th>gender</th>\n",
       "      <th>age</th>\n",
       "      <th>ethnicity</th>\n",
       "      <th>admission_type</th>\n",
       "      <th>primary_icd9_label</th>\n",
       "      <th>num_of_icd9_codes</th>\n",
       "      <th>hospital_expire_flag</th>\n",
       "      <th>hospital_stay_hours</th>\n",
       "      <th>BMI</th>\n",
       "      <th>Hemoglobine</th>\n",
       "      <th>Hematocrit</th>\n",
       "      <th>WBC</th>\n",
       "    </tr>\n",
       "  </thead>\n",
       "  <tbody>\n",
       "    <tr>\n",
       "      <th>0</th>\n",
       "      <td>M</td>\n",
       "      <td>52</td>\n",
       "      <td>WHITE</td>\n",
       "      <td>EMERGENCY</td>\n",
       "      <td>Other disease of the blood</td>\n",
       "      <td>17</td>\n",
       "      <td>False</td>\n",
       "      <td>289.812303</td>\n",
       "      <td>13.248336</td>\n",
       "      <td>13.240668</td>\n",
       "      <td>25.060606</td>\n",
       "      <td>19.364552</td>\n",
       "    </tr>\n",
       "    <tr>\n",
       "      <th>1</th>\n",
       "      <td>M</td>\n",
       "      <td>43</td>\n",
       "      <td>WHITE</td>\n",
       "      <td>EMERGENCY</td>\n",
       "      <td>Anemia</td>\n",
       "      <td>6</td>\n",
       "      <td>False</td>\n",
       "      <td>-57.245888</td>\n",
       "      <td>32.706534</td>\n",
       "      <td>10.107336</td>\n",
       "      <td>25.757634</td>\n",
       "      <td>21.539489</td>\n",
       "    </tr>\n",
       "    <tr>\n",
       "      <th>2</th>\n",
       "      <td>F</td>\n",
       "      <td>72</td>\n",
       "      <td>WHITE</td>\n",
       "      <td>EMERGENCY</td>\n",
       "      <td>Anemia</td>\n",
       "      <td>7</td>\n",
       "      <td>False</td>\n",
       "      <td>195.043047</td>\n",
       "      <td>7.697783</td>\n",
       "      <td>8.200341</td>\n",
       "      <td>25.220795</td>\n",
       "      <td>16.194215</td>\n",
       "    </tr>\n",
       "    <tr>\n",
       "      <th>3</th>\n",
       "      <td>M</td>\n",
       "      <td>89</td>\n",
       "      <td>WHITE</td>\n",
       "      <td>EMERGENCY</td>\n",
       "      <td>Other disease of the blood</td>\n",
       "      <td>13</td>\n",
       "      <td>False</td>\n",
       "      <td>760.375349</td>\n",
       "      <td>31.507931</td>\n",
       "      <td>8.575220</td>\n",
       "      <td>26.335406</td>\n",
       "      <td>21.402604</td>\n",
       "    </tr>\n",
       "    <tr>\n",
       "      <th>4</th>\n",
       "      <td>M</td>\n",
       "      <td>66</td>\n",
       "      <td>WHITE</td>\n",
       "      <td>EMERGENCY</td>\n",
       "      <td>Other disease of the blood</td>\n",
       "      <td>13</td>\n",
       "      <td>False</td>\n",
       "      <td>487.908238</td>\n",
       "      <td>32.289631</td>\n",
       "      <td>8.722646</td>\n",
       "      <td>18.483517</td>\n",
       "      <td>19.109902</td>\n",
       "    </tr>\n",
       "  </tbody>\n",
       "</table>\n",
       "</div>"
      ],
      "text/plain": [
       "  gender  age ethnicity admission_type          primary_icd9_label  \\\n",
       "0      M   52     WHITE      EMERGENCY  Other disease of the blood   \n",
       "1      M   43     WHITE      EMERGENCY                      Anemia   \n",
       "2      F   72     WHITE      EMERGENCY                      Anemia   \n",
       "3      M   89     WHITE      EMERGENCY  Other disease of the blood   \n",
       "4      M   66     WHITE      EMERGENCY  Other disease of the blood   \n",
       "\n",
       "   num_of_icd9_codes  hospital_expire_flag  hospital_stay_hours        BMI  \\\n",
       "0                 17                 False           289.812303  13.248336   \n",
       "1                  6                 False           -57.245888  32.706534   \n",
       "2                  7                 False           195.043047   7.697783   \n",
       "3                 13                 False           760.375349  31.507931   \n",
       "4                 13                 False           487.908238  32.289631   \n",
       "\n",
       "   Hemoglobine  Hematocrit        WBC  \n",
       "0    13.240668   25.060606  19.364552  \n",
       "1    10.107336   25.757634  21.539489  \n",
       "2     8.200341   25.220795  16.194215  \n",
       "3     8.575220   26.335406  21.402604  \n",
       "4     8.722646   18.483517  19.109902  "
      ]
     },
     "execution_count": 11,
     "metadata": {},
     "output_type": "execute_result"
    }
   ],
   "source": [
    "synthetic_data.head()"
   ]
  },
  {
   "cell_type": "code",
   "execution_count": 12,
   "metadata": {},
   "outputs": [
    {
     "name": "stdout",
     "output_type": "stream",
     "text": [
      "Generating report ...\n",
      "(1/3) Evaluating Coverage: : 100%|██████████| 12/12 [00:00<00:00, 775.79it/s]\n",
      "(2/3) Evaluating Boundary: : 100%|██████████| 12/12 [00:00<00:00, 1883.88it/s]\n",
      "(3/3) Evaluating Synthesis: : 100%|██████████| 1/1 [00:01<00:00,  1.08s/it]\n",
      "\n",
      "Diagnostic Results:\n",
      "\n",
      "SUCCESS:\n",
      "✓ Over 90% of the synthetic rows are not copies of the real data\n",
      "\n",
      "WARNING:\n",
      "! The synthetic data is missing more than 10% of the categories present in the real data\n",
      "! The synthetic data is missing more than 10% of the numerical ranges present in the real data\n",
      "! More than 10% the synthetic data does not follow the min/max boundaries set by the real data\n"
     ]
    }
   ],
   "source": [
    "diagnostic = run_diagnostic(\n",
    "    real_data=real_data,\n",
    "    synthetic_data=synthetic_data,\n",
    "    metadata=metadata\n",
    ")"
   ]
  },
  {
   "cell_type": "code",
   "execution_count": 13,
   "metadata": {},
   "outputs": [
    {
     "name": "stdout",
     "output_type": "stream",
     "text": [
      "Generating report ...\n",
      "(1/2) Evaluating Column Shapes: : 100%|██████████| 12/12 [00:00<00:00, 1008.45it/s]\n",
      "(2/2) Evaluating Column Pair Trends: : 100%|██████████| 66/66 [00:00<00:00, 84.49it/s]\n",
      "\n",
      "Overall Quality Score: 63.51%\n",
      "\n",
      "Properties:\n",
      "- Column Shapes: 67.01%\n",
      "- Column Pair Trends: 60.0%\n"
     ]
    }
   ],
   "source": [
    "quality_report = evaluate_quality(\n",
    "    real_data,\n",
    "    synthetic_data,\n",
    "    metadata)"
   ]
  },
  {
   "cell_type": "code",
   "execution_count": 14,
   "metadata": {},
   "outputs": [
    {
     "data": {
      "text/html": [
       "<div>\n",
       "<style scoped>\n",
       "    .dataframe tbody tr th:only-of-type {\n",
       "        vertical-align: middle;\n",
       "    }\n",
       "\n",
       "    .dataframe tbody tr th {\n",
       "        vertical-align: top;\n",
       "    }\n",
       "\n",
       "    .dataframe thead th {\n",
       "        text-align: right;\n",
       "    }\n",
       "</style>\n",
       "<table border=\"1\" class=\"dataframe\">\n",
       "  <thead>\n",
       "    <tr style=\"text-align: right;\">\n",
       "      <th></th>\n",
       "      <th>Column</th>\n",
       "      <th>Metric</th>\n",
       "      <th>Score</th>\n",
       "    </tr>\n",
       "  </thead>\n",
       "  <tbody>\n",
       "    <tr>\n",
       "      <th>0</th>\n",
       "      <td>gender</td>\n",
       "      <td>TVComplement</td>\n",
       "      <td>0.562212</td>\n",
       "    </tr>\n",
       "    <tr>\n",
       "      <th>1</th>\n",
       "      <td>age</td>\n",
       "      <td>KSComplement</td>\n",
       "      <td>0.728111</td>\n",
       "    </tr>\n",
       "    <tr>\n",
       "      <th>2</th>\n",
       "      <td>ethnicity</td>\n",
       "      <td>TVComplement</td>\n",
       "      <td>0.668203</td>\n",
       "    </tr>\n",
       "    <tr>\n",
       "      <th>3</th>\n",
       "      <td>admission_type</td>\n",
       "      <td>TVComplement</td>\n",
       "      <td>0.953917</td>\n",
       "    </tr>\n",
       "    <tr>\n",
       "      <th>4</th>\n",
       "      <td>primary_icd9_label</td>\n",
       "      <td>TVComplement</td>\n",
       "      <td>0.668203</td>\n",
       "    </tr>\n",
       "    <tr>\n",
       "      <th>5</th>\n",
       "      <td>num_of_icd9_codes</td>\n",
       "      <td>KSComplement</td>\n",
       "      <td>0.898618</td>\n",
       "    </tr>\n",
       "    <tr>\n",
       "      <th>6</th>\n",
       "      <td>hospital_expire_flag</td>\n",
       "      <td>TVComplement</td>\n",
       "      <td>0.976959</td>\n",
       "    </tr>\n",
       "    <tr>\n",
       "      <th>7</th>\n",
       "      <td>hospital_stay_hours</td>\n",
       "      <td>KSComplement</td>\n",
       "      <td>0.769585</td>\n",
       "    </tr>\n",
       "    <tr>\n",
       "      <th>8</th>\n",
       "      <td>BMI</td>\n",
       "      <td>KSComplement</td>\n",
       "      <td>0.359447</td>\n",
       "    </tr>\n",
       "    <tr>\n",
       "      <th>9</th>\n",
       "      <td>Hemoglobine</td>\n",
       "      <td>KSComplement</td>\n",
       "      <td>0.603687</td>\n",
       "    </tr>\n",
       "    <tr>\n",
       "      <th>10</th>\n",
       "      <td>Hematocrit</td>\n",
       "      <td>KSComplement</td>\n",
       "      <td>0.423963</td>\n",
       "    </tr>\n",
       "    <tr>\n",
       "      <th>11</th>\n",
       "      <td>WBC</td>\n",
       "      <td>KSComplement</td>\n",
       "      <td>0.428571</td>\n",
       "    </tr>\n",
       "  </tbody>\n",
       "</table>\n",
       "</div>"
      ],
      "text/plain": [
       "                  Column        Metric     Score\n",
       "0                 gender  TVComplement  0.562212\n",
       "1                    age  KSComplement  0.728111\n",
       "2              ethnicity  TVComplement  0.668203\n",
       "3         admission_type  TVComplement  0.953917\n",
       "4     primary_icd9_label  TVComplement  0.668203\n",
       "5      num_of_icd9_codes  KSComplement  0.898618\n",
       "6   hospital_expire_flag  TVComplement  0.976959\n",
       "7    hospital_stay_hours  KSComplement  0.769585\n",
       "8                    BMI  KSComplement  0.359447\n",
       "9            Hemoglobine  KSComplement  0.603687\n",
       "10            Hematocrit  KSComplement  0.423963\n",
       "11                   WBC  KSComplement  0.428571"
      ]
     },
     "execution_count": 14,
     "metadata": {},
     "output_type": "execute_result"
    }
   ],
   "source": [
    "quality_report.get_details('Column Shapes')"
   ]
  },
  {
   "cell_type": "code",
   "execution_count": 15,
   "metadata": {},
   "outputs": [
    {
     "data": {
      "application/vnd.plotly.v1+json": {
       "config": {
        "plotlyServerURL": "https://plot.ly"
       },
       "data": [
        {
         "alignmentgroup": "True",
         "bingroup": "x",
         "histnorm": "probability density",
         "hovertemplate": "<b>Real</b><br>Frequency: %{y}<extra></extra>",
         "legendgroup": "Real",
         "marker": {
          "color": "#000036",
          "pattern": {
           "shape": ""
          }
         },
         "name": "Real",
         "offsetgroup": "Real",
         "orientation": "v",
         "showlegend": true,
         "type": "histogram",
         "x": [
          "M",
          "F",
          "M",
          "F",
          "M",
          "F",
          "F",
          "F",
          "F",
          "F",
          "F",
          "M",
          "F",
          "M",
          "F",
          "F",
          "M",
          "M",
          "F",
          "F",
          "F",
          "M",
          "M",
          "F",
          "M",
          "F",
          "F",
          "F",
          "F",
          "F",
          "F",
          "F",
          "F",
          "F",
          "F",
          "M",
          "M",
          "F",
          "F",
          "F",
          "F",
          "M",
          "F",
          "M",
          "M",
          "M",
          "F",
          "M",
          "M",
          "M",
          "M",
          "F",
          "F",
          "F",
          "F",
          "M",
          "M",
          "F",
          "F",
          "F",
          "M",
          "F",
          "M",
          "M",
          "M",
          "M",
          "F",
          "M",
          "M",
          "F",
          "M",
          "F",
          "F",
          "F",
          "F",
          "M",
          "M",
          "F",
          "F",
          "F",
          "F",
          "M",
          "F",
          "F",
          "F",
          "F",
          "M",
          "M",
          "M",
          "F",
          "M",
          "M",
          "F",
          "M",
          "F",
          "M",
          "F",
          "F",
          "M",
          "M",
          "F",
          "F",
          "F",
          "M",
          "F",
          "F",
          "F",
          "M",
          "M",
          "F",
          "M",
          "M",
          "F",
          "F",
          "M",
          "M",
          "M",
          "M",
          "M",
          "F",
          "F",
          "M",
          "M",
          "M",
          "M",
          "F",
          "M",
          "M",
          "F",
          "F",
          "F",
          "M",
          "F",
          "F",
          "M",
          "M",
          "F",
          "F",
          "M",
          "M",
          "F",
          "F",
          "F",
          "M",
          "M",
          "M",
          "F",
          "F",
          "M",
          "M",
          "M",
          "F",
          "F",
          "F",
          "M",
          "M",
          "M",
          "F",
          "M",
          "M",
          "M",
          "M",
          "M",
          "M",
          "M",
          "F",
          "M",
          "F",
          "F",
          "F",
          "F",
          "F",
          "F",
          "F",
          "M",
          "F",
          "F",
          "F",
          "F",
          "F",
          "F",
          "F",
          "F",
          "F",
          "F",
          "M",
          "F",
          "F",
          "F",
          "F",
          "F",
          "F",
          "F",
          "F",
          "F",
          "F",
          "F",
          "F",
          "M",
          "M",
          "M",
          "M",
          "M",
          "F",
          "M",
          "M",
          "F",
          "M",
          "F",
          "F",
          "M",
          "M",
          "M",
          "F",
          "F",
          "F",
          "M"
         ],
         "xaxis": "x",
         "yaxis": "y"
        },
        {
         "alignmentgroup": "True",
         "bingroup": "x",
         "histnorm": "probability density",
         "hovertemplate": "<b>Synthetic</b><br>Frequency: %{y}<extra></extra>",
         "legendgroup": "Synthetic",
         "marker": {
          "color": "#01E0C9",
          "pattern": {
           "shape": "/"
          }
         },
         "name": "Synthetic",
         "offsetgroup": "Synthetic",
         "orientation": "v",
         "showlegend": true,
         "type": "histogram",
         "x": [
          "M",
          "M",
          "F",
          "M",
          "M",
          "M",
          "M",
          "M",
          "M",
          "M",
          "F",
          "M",
          "M",
          "M",
          "M",
          "M",
          "M",
          "M",
          "M",
          "M",
          "M",
          "M",
          "F",
          "F",
          "M",
          "M",
          "M",
          "M",
          "M",
          "M",
          "M",
          "M",
          "M",
          "M",
          "M",
          "F",
          "M",
          "M",
          "M",
          "M",
          "M",
          "M",
          "M",
          "M",
          "M",
          "M",
          "M",
          "F",
          "M",
          "M",
          "M",
          "M",
          "F",
          "M",
          "M",
          "M",
          "F",
          "M",
          "M",
          "M",
          "M",
          "F",
          "F",
          "M",
          "F",
          "M",
          "M",
          "M",
          "M",
          "M",
          "M",
          "F",
          "M",
          "M",
          "F",
          "M",
          "M",
          "M",
          "M",
          "M",
          "M",
          "M",
          "F",
          "M",
          "M",
          "M",
          "M",
          "M",
          "M",
          "M",
          "M",
          "M",
          "M",
          "M",
          "M",
          "M",
          "M",
          "M",
          "M",
          "M",
          "M",
          "M",
          "M",
          "F",
          "M",
          "M",
          "M",
          "M",
          "F",
          "M",
          "M",
          "M",
          "F",
          "M",
          "M",
          "M",
          "M",
          "M",
          "F",
          "M",
          "M",
          "M",
          "M",
          "M",
          "M",
          "M",
          "M",
          "M",
          "M",
          "M",
          "M",
          "F",
          "M",
          "M",
          "M",
          "M",
          "M",
          "M",
          "M",
          "M",
          "M",
          "M",
          "M",
          "M",
          "M",
          "M",
          "F",
          "M",
          "M",
          "M",
          "M",
          "M",
          "M",
          "M",
          "M",
          "M",
          "M",
          "F",
          "M",
          "M",
          "M",
          "M",
          "M",
          "F",
          "F",
          "M",
          "M",
          "M",
          "M",
          "M",
          "M",
          "M",
          "F",
          "M",
          "M",
          "M",
          "M",
          "M",
          "M",
          "F",
          "M",
          "M",
          "M",
          "M",
          "M",
          "M",
          "M",
          "M",
          "M",
          "M",
          "M",
          "M",
          "M",
          "M",
          "M",
          "M",
          "M",
          "M",
          "F",
          "M",
          "F",
          "M",
          "M",
          "M",
          "M",
          "M",
          "M",
          "M",
          "M",
          "M",
          "M",
          "M",
          "M",
          "F",
          "M",
          "M",
          "M"
         ],
         "xaxis": "x",
         "yaxis": "y"
        }
       ],
       "layout": {
        "barmode": "group",
        "font": {
         "size": 18
        },
        "legend": {
         "title": {
          "text": "Data"
         },
         "tracegroupgap": 0
        },
        "margin": {
         "t": 60
        },
        "plot_bgcolor": "#F5F5F8",
        "template": {
         "data": {
          "bar": [
           {
            "error_x": {
             "color": "#2a3f5f"
            },
            "error_y": {
             "color": "#2a3f5f"
            },
            "marker": {
             "line": {
              "color": "#E5ECF6",
              "width": 0.5
             },
             "pattern": {
              "fillmode": "overlay",
              "size": 10,
              "solidity": 0.2
             }
            },
            "type": "bar"
           }
          ],
          "barpolar": [
           {
            "marker": {
             "line": {
              "color": "#E5ECF6",
              "width": 0.5
             },
             "pattern": {
              "fillmode": "overlay",
              "size": 10,
              "solidity": 0.2
             }
            },
            "type": "barpolar"
           }
          ],
          "carpet": [
           {
            "aaxis": {
             "endlinecolor": "#2a3f5f",
             "gridcolor": "white",
             "linecolor": "white",
             "minorgridcolor": "white",
             "startlinecolor": "#2a3f5f"
            },
            "baxis": {
             "endlinecolor": "#2a3f5f",
             "gridcolor": "white",
             "linecolor": "white",
             "minorgridcolor": "white",
             "startlinecolor": "#2a3f5f"
            },
            "type": "carpet"
           }
          ],
          "choropleth": [
           {
            "colorbar": {
             "outlinewidth": 0,
             "ticks": ""
            },
            "type": "choropleth"
           }
          ],
          "contour": [
           {
            "colorbar": {
             "outlinewidth": 0,
             "ticks": ""
            },
            "colorscale": [
             [
              0,
              "#0d0887"
             ],
             [
              0.1111111111111111,
              "#46039f"
             ],
             [
              0.2222222222222222,
              "#7201a8"
             ],
             [
              0.3333333333333333,
              "#9c179e"
             ],
             [
              0.4444444444444444,
              "#bd3786"
             ],
             [
              0.5555555555555556,
              "#d8576b"
             ],
             [
              0.6666666666666666,
              "#ed7953"
             ],
             [
              0.7777777777777778,
              "#fb9f3a"
             ],
             [
              0.8888888888888888,
              "#fdca26"
             ],
             [
              1,
              "#f0f921"
             ]
            ],
            "type": "contour"
           }
          ],
          "contourcarpet": [
           {
            "colorbar": {
             "outlinewidth": 0,
             "ticks": ""
            },
            "type": "contourcarpet"
           }
          ],
          "heatmap": [
           {
            "colorbar": {
             "outlinewidth": 0,
             "ticks": ""
            },
            "colorscale": [
             [
              0,
              "#0d0887"
             ],
             [
              0.1111111111111111,
              "#46039f"
             ],
             [
              0.2222222222222222,
              "#7201a8"
             ],
             [
              0.3333333333333333,
              "#9c179e"
             ],
             [
              0.4444444444444444,
              "#bd3786"
             ],
             [
              0.5555555555555556,
              "#d8576b"
             ],
             [
              0.6666666666666666,
              "#ed7953"
             ],
             [
              0.7777777777777778,
              "#fb9f3a"
             ],
             [
              0.8888888888888888,
              "#fdca26"
             ],
             [
              1,
              "#f0f921"
             ]
            ],
            "type": "heatmap"
           }
          ],
          "heatmapgl": [
           {
            "colorbar": {
             "outlinewidth": 0,
             "ticks": ""
            },
            "colorscale": [
             [
              0,
              "#0d0887"
             ],
             [
              0.1111111111111111,
              "#46039f"
             ],
             [
              0.2222222222222222,
              "#7201a8"
             ],
             [
              0.3333333333333333,
              "#9c179e"
             ],
             [
              0.4444444444444444,
              "#bd3786"
             ],
             [
              0.5555555555555556,
              "#d8576b"
             ],
             [
              0.6666666666666666,
              "#ed7953"
             ],
             [
              0.7777777777777778,
              "#fb9f3a"
             ],
             [
              0.8888888888888888,
              "#fdca26"
             ],
             [
              1,
              "#f0f921"
             ]
            ],
            "type": "heatmapgl"
           }
          ],
          "histogram": [
           {
            "marker": {
             "pattern": {
              "fillmode": "overlay",
              "size": 10,
              "solidity": 0.2
             }
            },
            "type": "histogram"
           }
          ],
          "histogram2d": [
           {
            "colorbar": {
             "outlinewidth": 0,
             "ticks": ""
            },
            "colorscale": [
             [
              0,
              "#0d0887"
             ],
             [
              0.1111111111111111,
              "#46039f"
             ],
             [
              0.2222222222222222,
              "#7201a8"
             ],
             [
              0.3333333333333333,
              "#9c179e"
             ],
             [
              0.4444444444444444,
              "#bd3786"
             ],
             [
              0.5555555555555556,
              "#d8576b"
             ],
             [
              0.6666666666666666,
              "#ed7953"
             ],
             [
              0.7777777777777778,
              "#fb9f3a"
             ],
             [
              0.8888888888888888,
              "#fdca26"
             ],
             [
              1,
              "#f0f921"
             ]
            ],
            "type": "histogram2d"
           }
          ],
          "histogram2dcontour": [
           {
            "colorbar": {
             "outlinewidth": 0,
             "ticks": ""
            },
            "colorscale": [
             [
              0,
              "#0d0887"
             ],
             [
              0.1111111111111111,
              "#46039f"
             ],
             [
              0.2222222222222222,
              "#7201a8"
             ],
             [
              0.3333333333333333,
              "#9c179e"
             ],
             [
              0.4444444444444444,
              "#bd3786"
             ],
             [
              0.5555555555555556,
              "#d8576b"
             ],
             [
              0.6666666666666666,
              "#ed7953"
             ],
             [
              0.7777777777777778,
              "#fb9f3a"
             ],
             [
              0.8888888888888888,
              "#fdca26"
             ],
             [
              1,
              "#f0f921"
             ]
            ],
            "type": "histogram2dcontour"
           }
          ],
          "mesh3d": [
           {
            "colorbar": {
             "outlinewidth": 0,
             "ticks": ""
            },
            "type": "mesh3d"
           }
          ],
          "parcoords": [
           {
            "line": {
             "colorbar": {
              "outlinewidth": 0,
              "ticks": ""
             }
            },
            "type": "parcoords"
           }
          ],
          "pie": [
           {
            "automargin": true,
            "type": "pie"
           }
          ],
          "scatter": [
           {
            "fillpattern": {
             "fillmode": "overlay",
             "size": 10,
             "solidity": 0.2
            },
            "type": "scatter"
           }
          ],
          "scatter3d": [
           {
            "line": {
             "colorbar": {
              "outlinewidth": 0,
              "ticks": ""
             }
            },
            "marker": {
             "colorbar": {
              "outlinewidth": 0,
              "ticks": ""
             }
            },
            "type": "scatter3d"
           }
          ],
          "scattercarpet": [
           {
            "marker": {
             "colorbar": {
              "outlinewidth": 0,
              "ticks": ""
             }
            },
            "type": "scattercarpet"
           }
          ],
          "scattergeo": [
           {
            "marker": {
             "colorbar": {
              "outlinewidth": 0,
              "ticks": ""
             }
            },
            "type": "scattergeo"
           }
          ],
          "scattergl": [
           {
            "marker": {
             "colorbar": {
              "outlinewidth": 0,
              "ticks": ""
             }
            },
            "type": "scattergl"
           }
          ],
          "scattermapbox": [
           {
            "marker": {
             "colorbar": {
              "outlinewidth": 0,
              "ticks": ""
             }
            },
            "type": "scattermapbox"
           }
          ],
          "scatterpolar": [
           {
            "marker": {
             "colorbar": {
              "outlinewidth": 0,
              "ticks": ""
             }
            },
            "type": "scatterpolar"
           }
          ],
          "scatterpolargl": [
           {
            "marker": {
             "colorbar": {
              "outlinewidth": 0,
              "ticks": ""
             }
            },
            "type": "scatterpolargl"
           }
          ],
          "scatterternary": [
           {
            "marker": {
             "colorbar": {
              "outlinewidth": 0,
              "ticks": ""
             }
            },
            "type": "scatterternary"
           }
          ],
          "surface": [
           {
            "colorbar": {
             "outlinewidth": 0,
             "ticks": ""
            },
            "colorscale": [
             [
              0,
              "#0d0887"
             ],
             [
              0.1111111111111111,
              "#46039f"
             ],
             [
              0.2222222222222222,
              "#7201a8"
             ],
             [
              0.3333333333333333,
              "#9c179e"
             ],
             [
              0.4444444444444444,
              "#bd3786"
             ],
             [
              0.5555555555555556,
              "#d8576b"
             ],
             [
              0.6666666666666666,
              "#ed7953"
             ],
             [
              0.7777777777777778,
              "#fb9f3a"
             ],
             [
              0.8888888888888888,
              "#fdca26"
             ],
             [
              1,
              "#f0f921"
             ]
            ],
            "type": "surface"
           }
          ],
          "table": [
           {
            "cells": {
             "fill": {
              "color": "#EBF0F8"
             },
             "line": {
              "color": "white"
             }
            },
            "header": {
             "fill": {
              "color": "#C8D4E3"
             },
             "line": {
              "color": "white"
             }
            },
            "type": "table"
           }
          ]
         },
         "layout": {
          "annotationdefaults": {
           "arrowcolor": "#2a3f5f",
           "arrowhead": 0,
           "arrowwidth": 1
          },
          "autotypenumbers": "strict",
          "coloraxis": {
           "colorbar": {
            "outlinewidth": 0,
            "ticks": ""
           }
          },
          "colorscale": {
           "diverging": [
            [
             0,
             "#8e0152"
            ],
            [
             0.1,
             "#c51b7d"
            ],
            [
             0.2,
             "#de77ae"
            ],
            [
             0.3,
             "#f1b6da"
            ],
            [
             0.4,
             "#fde0ef"
            ],
            [
             0.5,
             "#f7f7f7"
            ],
            [
             0.6,
             "#e6f5d0"
            ],
            [
             0.7,
             "#b8e186"
            ],
            [
             0.8,
             "#7fbc41"
            ],
            [
             0.9,
             "#4d9221"
            ],
            [
             1,
             "#276419"
            ]
           ],
           "sequential": [
            [
             0,
             "#0d0887"
            ],
            [
             0.1111111111111111,
             "#46039f"
            ],
            [
             0.2222222222222222,
             "#7201a8"
            ],
            [
             0.3333333333333333,
             "#9c179e"
            ],
            [
             0.4444444444444444,
             "#bd3786"
            ],
            [
             0.5555555555555556,
             "#d8576b"
            ],
            [
             0.6666666666666666,
             "#ed7953"
            ],
            [
             0.7777777777777778,
             "#fb9f3a"
            ],
            [
             0.8888888888888888,
             "#fdca26"
            ],
            [
             1,
             "#f0f921"
            ]
           ],
           "sequentialminus": [
            [
             0,
             "#0d0887"
            ],
            [
             0.1111111111111111,
             "#46039f"
            ],
            [
             0.2222222222222222,
             "#7201a8"
            ],
            [
             0.3333333333333333,
             "#9c179e"
            ],
            [
             0.4444444444444444,
             "#bd3786"
            ],
            [
             0.5555555555555556,
             "#d8576b"
            ],
            [
             0.6666666666666666,
             "#ed7953"
            ],
            [
             0.7777777777777778,
             "#fb9f3a"
            ],
            [
             0.8888888888888888,
             "#fdca26"
            ],
            [
             1,
             "#f0f921"
            ]
           ]
          },
          "colorway": [
           "#636efa",
           "#EF553B",
           "#00cc96",
           "#ab63fa",
           "#FFA15A",
           "#19d3f3",
           "#FF6692",
           "#B6E880",
           "#FF97FF",
           "#FECB52"
          ],
          "font": {
           "color": "#2a3f5f"
          },
          "geo": {
           "bgcolor": "white",
           "lakecolor": "white",
           "landcolor": "#E5ECF6",
           "showlakes": true,
           "showland": true,
           "subunitcolor": "white"
          },
          "hoverlabel": {
           "align": "left"
          },
          "hovermode": "closest",
          "mapbox": {
           "style": "light"
          },
          "paper_bgcolor": "white",
          "plot_bgcolor": "#E5ECF6",
          "polar": {
           "angularaxis": {
            "gridcolor": "white",
            "linecolor": "white",
            "ticks": ""
           },
           "bgcolor": "#E5ECF6",
           "radialaxis": {
            "gridcolor": "white",
            "linecolor": "white",
            "ticks": ""
           }
          },
          "scene": {
           "xaxis": {
            "backgroundcolor": "#E5ECF6",
            "gridcolor": "white",
            "gridwidth": 2,
            "linecolor": "white",
            "showbackground": true,
            "ticks": "",
            "zerolinecolor": "white"
           },
           "yaxis": {
            "backgroundcolor": "#E5ECF6",
            "gridcolor": "white",
            "gridwidth": 2,
            "linecolor": "white",
            "showbackground": true,
            "ticks": "",
            "zerolinecolor": "white"
           },
           "zaxis": {
            "backgroundcolor": "#E5ECF6",
            "gridcolor": "white",
            "gridwidth": 2,
            "linecolor": "white",
            "showbackground": true,
            "ticks": "",
            "zerolinecolor": "white"
           }
          },
          "shapedefaults": {
           "line": {
            "color": "#2a3f5f"
           }
          },
          "ternary": {
           "aaxis": {
            "gridcolor": "white",
            "linecolor": "white",
            "ticks": ""
           },
           "baxis": {
            "gridcolor": "white",
            "linecolor": "white",
            "ticks": ""
           },
           "bgcolor": "#E5ECF6",
           "caxis": {
            "gridcolor": "white",
            "linecolor": "white",
            "ticks": ""
           }
          },
          "title": {
           "x": 0.05
          },
          "xaxis": {
           "automargin": true,
           "gridcolor": "white",
           "linecolor": "white",
           "ticks": "",
           "title": {
            "standoff": 15
           },
           "zerolinecolor": "white",
           "zerolinewidth": 2
          },
          "yaxis": {
           "automargin": true,
           "gridcolor": "white",
           "linecolor": "white",
           "ticks": "",
           "title": {
            "standoff": 15
           },
           "zerolinecolor": "white",
           "zerolinewidth": 2
          }
         }
        },
        "title": {
         "text": "Real vs. Synthetic Data for column 'gender'"
        },
        "xaxis": {
         "anchor": "y",
         "domain": [
          0,
          1
         ],
         "title": {
          "text": "Category"
         }
        },
        "yaxis": {
         "anchor": "x",
         "domain": [
          0,
          1
         ],
         "title": {
          "text": "Frequency"
         }
        }
       }
      }
     },
     "metadata": {},
     "output_type": "display_data"
    },
    {
     "data": {
      "application/vnd.plotly.v1+json": {
       "config": {
        "plotlyServerURL": "https://plot.ly"
       },
       "data": [
        {
         "fill": "tozeroy",
         "hovertemplate": "<b>Real</b><br>Frequency: %{y}<extra></extra>",
         "legendgroup": "Real",
         "marker": {
          "color": "#000036"
         },
         "mode": "lines",
         "name": "Real",
         "showlegend": true,
         "type": "scatter",
         "x": [
          21,
          21.136,
          21.272,
          21.408,
          21.544,
          21.68,
          21.816,
          21.951999999999998,
          22.088,
          22.224,
          22.36,
          22.496,
          22.632,
          22.768,
          22.904,
          23.04,
          23.176000000000002,
          23.312,
          23.448,
          23.584,
          23.72,
          23.856,
          23.992,
          24.128,
          24.264,
          24.4,
          24.536,
          24.672,
          24.808,
          24.944,
          25.08,
          25.216,
          25.352,
          25.488,
          25.624,
          25.759999999999998,
          25.896,
          26.032,
          26.168,
          26.304000000000002,
          26.44,
          26.576,
          26.712,
          26.848,
          26.984,
          27.12,
          27.256,
          27.392,
          27.528,
          27.664,
          27.8,
          27.936,
          28.072,
          28.208,
          28.344,
          28.48,
          28.616,
          28.752,
          28.887999999999998,
          29.024,
          29.16,
          29.296,
          29.432000000000002,
          29.567999999999998,
          29.704,
          29.84,
          29.976,
          30.112000000000002,
          30.247999999999998,
          30.384,
          30.52,
          30.656,
          30.792,
          30.928,
          31.064,
          31.2,
          31.336,
          31.472,
          31.608,
          31.744,
          31.880000000000003,
          32.016,
          32.152,
          32.288,
          32.424,
          32.56,
          32.696,
          32.832,
          32.968,
          33.104,
          33.24,
          33.376,
          33.512,
          33.647999999999996,
          33.784,
          33.92,
          34.056,
          34.192,
          34.328,
          34.464,
          34.6,
          34.736000000000004,
          34.872,
          35.007999999999996,
          35.144,
          35.28,
          35.416,
          35.552,
          35.688,
          35.824,
          35.96,
          36.096000000000004,
          36.232,
          36.368,
          36.504,
          36.64,
          36.775999999999996,
          36.912,
          37.048,
          37.184,
          37.32,
          37.456,
          37.592,
          37.728,
          37.864000000000004,
          38,
          38.135999999999996,
          38.272,
          38.408,
          38.544,
          38.68,
          38.816,
          38.952,
          39.088,
          39.224000000000004,
          39.36,
          39.495999999999995,
          39.632000000000005,
          39.768,
          39.903999999999996,
          40.04,
          40.176,
          40.312,
          40.448,
          40.584,
          40.72,
          40.856,
          40.992000000000004,
          41.128,
          41.263999999999996,
          41.4,
          41.536,
          41.672,
          41.808,
          41.944,
          42.08,
          42.216,
          42.352000000000004,
          42.488,
          42.623999999999995,
          42.760000000000005,
          42.896,
          43.032,
          43.168,
          43.304,
          43.44,
          43.576,
          43.712,
          43.848,
          43.984,
          44.120000000000005,
          44.256,
          44.391999999999996,
          44.528,
          44.664,
          44.8,
          44.936,
          45.072,
          45.208,
          45.344,
          45.480000000000004,
          45.616,
          45.751999999999995,
          45.888000000000005,
          46.024,
          46.16,
          46.296,
          46.432,
          46.568,
          46.704,
          46.84,
          46.976,
          47.111999999999995,
          47.248000000000005,
          47.384,
          47.519999999999996,
          47.656,
          47.792,
          47.928,
          48.064,
          48.2,
          48.336,
          48.472,
          48.608000000000004,
          48.744,
          48.879999999999995,
          49.016,
          49.152,
          49.288,
          49.424,
          49.56,
          49.696,
          49.832,
          49.968,
          50.104,
          50.239999999999995,
          50.376000000000005,
          50.512,
          50.647999999999996,
          50.784,
          50.92,
          51.056,
          51.192,
          51.328,
          51.464,
          51.6,
          51.736000000000004,
          51.872,
          52.007999999999996,
          52.144,
          52.28,
          52.416,
          52.552,
          52.688,
          52.824,
          52.96,
          53.096,
          53.232,
          53.368,
          53.504,
          53.64,
          53.776,
          53.912,
          54.048,
          54.184,
          54.32,
          54.456,
          54.592,
          54.728,
          54.864,
          55,
          55.136,
          55.272,
          55.408,
          55.544,
          55.68,
          55.816,
          55.952,
          56.088,
          56.224,
          56.36,
          56.496,
          56.632,
          56.768,
          56.904,
          57.04,
          57.176,
          57.312,
          57.448,
          57.584,
          57.72,
          57.856,
          57.992,
          58.128,
          58.264,
          58.4,
          58.536,
          58.672,
          58.808,
          58.944,
          59.08,
          59.216,
          59.352,
          59.488,
          59.624,
          59.76,
          59.896,
          60.032,
          60.168,
          60.304,
          60.44,
          60.576,
          60.712,
          60.848,
          60.984,
          61.12,
          61.256,
          61.392,
          61.528,
          61.664,
          61.8,
          61.936,
          62.072,
          62.208,
          62.344,
          62.48,
          62.616,
          62.752,
          62.888,
          63.024,
          63.16,
          63.296,
          63.432,
          63.568,
          63.704,
          63.84,
          63.976,
          64.112,
          64.24799999999999,
          64.384,
          64.52000000000001,
          64.656,
          64.792,
          64.928,
          65.064,
          65.2,
          65.336,
          65.47200000000001,
          65.608,
          65.744,
          65.88,
          66.01599999999999,
          66.152,
          66.288,
          66.424,
          66.56,
          66.696,
          66.832,
          66.968,
          67.104,
          67.24000000000001,
          67.376,
          67.512,
          67.648,
          67.78399999999999,
          67.92,
          68.056,
          68.19200000000001,
          68.328,
          68.464,
          68.6,
          68.73599999999999,
          68.872,
          69.00800000000001,
          69.144,
          69.28,
          69.416,
          69.55199999999999,
          69.688,
          69.824,
          69.96000000000001,
          70.096,
          70.232,
          70.368,
          70.50399999999999,
          70.64,
          70.77600000000001,
          70.912,
          71.048,
          71.184,
          71.32,
          71.456,
          71.592,
          71.72800000000001,
          71.864,
          72,
          72.136,
          72.27199999999999,
          72.408,
          72.544,
          72.68,
          72.816,
          72.952,
          73.088,
          73.22399999999999,
          73.36,
          73.49600000000001,
          73.632,
          73.768,
          73.904,
          74.03999999999999,
          74.176,
          74.312,
          74.44800000000001,
          74.584,
          74.72,
          74.856,
          74.99199999999999,
          75.128,
          75.26400000000001,
          75.4,
          75.536,
          75.672,
          75.80799999999999,
          75.944,
          76.08,
          76.21600000000001,
          76.352,
          76.488,
          76.624,
          76.75999999999999,
          76.896,
          77.032,
          77.168,
          77.304,
          77.44,
          77.576,
          77.712,
          77.848,
          77.98400000000001,
          78.12,
          78.256,
          78.392,
          78.52799999999999,
          78.664,
          78.8,
          78.936,
          79.072,
          79.208,
          79.344,
          79.47999999999999,
          79.616,
          79.75200000000001,
          79.888,
          80.024,
          80.16,
          80.29599999999999,
          80.432,
          80.568,
          80.70400000000001,
          80.84,
          80.976,
          81.112,
          81.24799999999999,
          81.384,
          81.52000000000001,
          81.656,
          81.792,
          81.928,
          82.064,
          82.2,
          82.336,
          82.47200000000001,
          82.608,
          82.744,
          82.88,
          83.01599999999999,
          83.152,
          83.288,
          83.424,
          83.56,
          83.696,
          83.832,
          83.968,
          84.104,
          84.24000000000001,
          84.376,
          84.512,
          84.648,
          84.78399999999999,
          84.92,
          85.056,
          85.192,
          85.328,
          85.464,
          85.6,
          85.736,
          85.872,
          86.008,
          86.144,
          86.28,
          86.416,
          86.552,
          86.688,
          86.824,
          86.96,
          87.096,
          87.232,
          87.368,
          87.504,
          87.64,
          87.776,
          87.912,
          88.048,
          88.184,
          88.32,
          88.456,
          88.592,
          88.728,
          88.864
         ],
         "xaxis": "x",
         "y": [
          0.0039606166538438325,
          0.004017869705039744,
          0.004074826934918277,
          0.004131469985728011,
          0.004187781387935916,
          0.004243744586324869,
          0.004299343963676409,
          0.004354564862002344,
          0.004409393601298821,
          0.004463817495806117,
          0.0045178248677671656,
          0.004571405058687451,
          0.0046245484381083005,
          0.004677246409914711,
          0.00472949141620786,
          0.004781276938781101,
          0.004832597498246245,
          0.00488344865086502,
          0.0049338269831479915,
          0.004983730104289765,
          0.0050331566365164025,
          0.0050821062034259925,
          0.005130579416409559,
          0.005178577859243372,
          0.005226104070948609,
          0.005273161527017206,
          0.005319754619106125,
          0.0053658886333045825,
          0.005411569727079838,
          0.005456804905009108,
          0.005501601993405031,
          0.005545969613942063,
          0.005589917156390683,
          0.005633454750564993,
          0.005676593237587049,
          0.00571934414056982,
          0.005761719634817105,
          0.005803732517635715,
          0.005845396177852151,
          0.005886724565121091,
          0.005927732159109361,
          0.005968433938634169,
          0.00600884535082975,
          0.006048982280410853,
          0.0060888610190972265,
          0.006128498235257092,
          0.006167910943822446,
          0.006207116476523675,
          0.006246132452485456,
          0.0062849767492202295,
          0.006323667474050721,
          0.006362222935987324,
          0.006400661618081496,
          0.006439002150271267,
          0.006477263282730512,
          0.006515463859729204,
          0.006553622794007979,
          0.00659175904166645,
          0.006629891577561384,
          0.006668039371207865,
          0.006706221363173807,
          0.0067444564419556945,
          0.006782763421321967,
          0.006821161018108316,
          0.006859667830448384,
          0.006898302316422378,
          0.006937082773105655,
          0.0069760273159995105,
          0.0070151538588260525,
          0.007054480093670654,
          0.007094023471455259,
          0.007133801182727832,
          0.0071738301387545365,
          0.007214126952902615,
          0.007254707922304506,
          0.007295589009795321,
          0.007336785826118276,
          0.007378313612395634,
          0.007420187222864084,
          0.007462421107877802,
          0.007505029297183296,
          0.007548025383474315,
          0.007591422506237036,
          0.007635233335898445,
          0.007679470058293843,
          0.0077241443594710515,
          0.007769267410852464,
          0.007814849854777102,
          0.00786090179044766,
          0.007907432760309151,
          0.007954451736887505,
          0.008001967110117905,
          0.008049986675193842,
          0.00809851762096897,
          0.008147566518944658,
          0.008197139312876259,
          0.008247241309032005,
          0.008297877167137974,
          0.008349050892042253,
          0.008400765826131463,
          0.008453024642531533,
          0.008505829339123909,
          0.008559181233407135,
          0.00861308095823242,
          0.008667528458440068,
          0.008722522988422046,
          0.008778063110633862,
          0.008834146695077044,
          0.008890770919771042,
          0.00894793227223139,
          0.00900562655196825,
          0.009063848874017032,
          0.009122593673510614,
          0.009181854711299505,
          0.009241625080624254,
          0.009301897214841565,
          0.0093626628962031,
          0.009423913265683505,
          0.009485638833851454,
          0.009547829492775653,
          0.009610474528954742,
          0.009673562637258354,
          0.009737081935864296,
          0.009801019982174511,
          0.009865363789691077,
          0.009930099845831273,
          0.009995214130659118,
          0.010060692136509597,
          0.010126518888479517,
          0.010192678965758777,
          0.010259156523773233,
          0.010325935317110395,
          0.010392998723197237,
          0.010460329766699389,
          0.010527911144608786,
          0.010595725251987579,
          0.01066375420833389,
          0.010731979884535397,
          0.010800383930375398,
          0.010868947802555281,
          0.010937652793197403,
          0.011006480058790562,
          0.011075410649540625,
          0.011144425539087262,
          0.011213505654547713,
          0.011282631906847229,
          0.011351785221294845,
          0.011420946568362839,
          0.011490096994626442,
          0.011559217653819842,
          0.01162828983796321,
          0.0116972950085138,
          0.011766214827494023,
          0.011835031188546473,
          0.011903726247865655,
          0.011972282454954328,
          0.012040682583150348,
          0.012108909759869148,
          0.012176947496504716,
          0.012244779717930499,
          0.01231239079154034,
          0.012379765555767485,
          0.012446889348018629,
          0.012513748031958243,
          0.012580328024076848,
          0.012646616319476158,
          0.01271260051680251,
          0.012778268842258848,
          0.012843610172625163,
          0.012908614057216413,
          0.012973270738706312,
          0.013037571172745874,
          0.013101507046305224,
          0.013165070794667355,
          0.013228255617004183,
          0.013291055490465248,
          0.01335346518271138,
          0.013415480262827122,
          0.013477097110547934,
          0.013538312923740718,
          0.013599125724078686,
          0.013659534360855406,
          0.013719538512885713,
          0.013779138688446026,
          0.013838336223210217,
          0.013897133276142377,
          0.013955532823312881,
          0.014013538649609115,
          0.014071155338318948,
          0.014128388258570143,
          0.014185243550615777,
          0.014241728108962312,
          0.014297849563343778,
          0.014353616257552722,
          0.014409037226145192,
          0.014464122169045869,
          0.014518881424084872,
          0.014573325937507193,
          0.014627467232502184,
          0.014681317375808476,
          0.014734888942456977,
          0.01478819497872235,
          0.014841248963360134,
          0.014894064767214322,
          0.014946656611286545,
          0.014999039023364979,
          0.01505122679331701,
          0.015103234927156558,
          0.01515507860000093,
          0.01520677310803916,
          0.015258333819637334,
          0.015309776125710599,
          0.015361115389496654,
          0.015412366895867384,
          0.015463545800318466,
          0.015514667077780023,
          0.01556574547139144,
          0.015616795441385703,
          0.015667831114228994,
          0.015718866232160584,
          0.015769914103278333,
          0.0158209875523134,
          0.01587209887223588,
          0.015923259776831136,
          0.01597448135438383,
          0.016025774022602697,
          0.016077147484915916,
          0.016128610688262504,
          0.01618017178249966,
          0.016231838081542348,
          0.016283616026343997,
          0.01633551114982311,
          0.016387528043832873,
          0.016439670328265436,
          0.01649194062237551,
          0.016544340518400705,
          0.016596870557549617,
          0.016649530208420915,
          0.01670231784791013,
          0.016755230744652752,
          0.016808265045045814,
          0.016861415761882385,
          0.016914676765626486,
          0.01696804077834878,
          0.01702149937033689,
          0.01707504295938668,
          0.017128660812775358,
          0.01718234105191006,
          0.017236070659640227,
          0.01728983549021564,
          0.01734362028186719,
          0.017397408671981567,
          0.017451183214836866,
          0.017504925401860463,
          0.01755861568436777,
          0.017612233498734645,
          0.017665757293954185,
          0.017719164561524236,
          0.01777243186760942,
          0.017825534887418053,
          0.017878448441732746,
          0.017931146535530077,
          0.017983602398623438,
          0.018035788528261043,
          0.018087676733609014,
          0.018139238182048913,
          0.018190443447216403,
          0.0182412625587073,
          0.01829166505337584,
          0.018341620028148823,
          0.018391096194277933,
          0.01844006193295158,
          0.01848848535218645,
          0.01853633434491775,
          0.018583576648205417,
          0.01863017990347292,
          0.018676111717692838,
          0.01872133972543258,
          0.018765831651671554,
          0.018809555375298593,
          0.01885247899319724,
          0.01889457088482357,
          0.01893579977717918,
          0.01897613481007877,
          0.01901554560160957,
          0.01905400231367672,
          0.019091475717525307,
          0.019127937259126832,
          0.01916335912431464,
          0.019197714303548972,
          0.019230976656189162,
          0.019263120974146893,
          0.019294123044790716,
          0.019323959712968516,
          0.019352608942011608,
          0.01938004987357994,
          0.019406262886205238,
          0.019431229652386132,
          0.01945493319408544,
          0.0194773579364784,
          0.01949848975979763,
          0.01951831604911903,
          0.019536825741931257,
          0.019554009373330267,
          0.019569859118680085,
          0.019584368833580702,
          0.019597534090984647,
          0.019609352215304618,
          0.019619822313357085,
          0.019628945301988054,
          0.019636723932231318,
          0.019643162809852763,
          0.019648268412139194,
          0.01965204910079514,
          0.019654515130817573,
          0.01965567865522505,
          0.019655553725525438,
          0.019654156287815035,
          0.019651504174410847,
          0.01964761709092766,
          0.019642516598722452,
          0.019636226092639812,
          0.01962877077400417,
          0.01962017761881731,
          0.019610475341132954,
          0.019599694351594102,
          0.019587866711132922,
          0.019575026079848068,
          0.019561207661089767,
          0.019546448140797687,
          0.019530785622153355,
          0.019514259555625045,
          0.01949691066449772,
          0.01947878086599915,
          0.01945991318814764,
          0.019440351682463917,
          0.019420141332705816,
          0.019399327959799092,
          0.019377958123154734,
          0.019356079018576767,
          0.019333738372979768,
          0.01931098433614931,
          0.01928786536979149,
          0.01926443013413108,
          0.019240727372328924,
          0.019216805793000977,
          0.0191927139511312,
          0.019168500127679802,
          0.019144212208196464,
          0.019119897560755876,
          0.019095602913537988,
          0.019071374232381547,
          0.019047256598642086,
          0.019023294087689137,
          0.01899952964837817,
          0.018976004983832985,
          0.01895276043387379,
          0.018929834859423077,
          0.018907265529218377,
          0.018885088009156423,
          0.018863336054586448,
          0.018842041505864656,
          0.018821234187472363,
          0.018800941810991626,
          0.018781189882221536,
          0.018762001612707645,
          0.018743397835943497,
          0.018725396928490994,
          0.018708014736251728,
          0.01869126450610685,
          0.01867515682312723,
          0.018659699553539747,
          0.018644897793618727,
          0.01863075382465416,
          0.018617267074130965,
          0.01860443408323598,
          0.01859224848079004,
          0.018580700963685432,
          0.018569779283890288,
          0.018559468242062498,
          0.018549749687797892,
          0.01854060252651959,
          0.018532002732996548,
          0.01852392337146247,
          0.018516334622288733,
          0.01850920381514766,
          0.018502495468586903,
          0.018496171335919073,
          0.01849019045731572,
          0.0184845092179805,
          0.018479081412261556,
          0.018473858313550806,
          0.018468788749804534,
          0.018463819184508422,
          0.018458893802898682,
          0.018453954603241535,
          0.018448941492962553,
          0.01844379238941064,
          0.01843844332503185,
          0.018432828556722312,
          0.01842688067912326,
          0.018420530741615388,
          0.018413708368765377,
          0.01840634188397384,
          0.018398358436069618,
          0.018389684128594548,
          0.018380244151519457,
          0.01836996291513148,
          0.0183587641858329,
          0.018346571223589687,
          0.018333306920770714,
          0.01831889394211718,
          0.018303254865585167,
          0.018286312323804142,
          0.01826798914589751,
          0.018248208499413127,
          0.01822689403211416,
          0.01820397001338452,
          0.01817936147500428,
          0.01815299435105647,
          0.01812479561672712,
          0.01809469342576629,
          0.01806261724638051,
          0.0180284979953303,
          0.017992268170011996,
          0.017953861978304373,
          0.01791321546596743,
          0.017870266641382224,
          0.01782495559742609,
          0.017777224630281148,
          0.01772701835497824,
          0.017674283817482584,
          0.017618970603131678,
          0.01756103094124019,
          0.017500419805691603,
          0.017437095011339783,
          0.017371017306049702,
          0.017302150458210284,
          0.017230461339557974,
          0.017155920003154593,
          0.017078499756368954,
          0.01699817722871631,
          0.01691493243441777,
          0.01682874882954542,
          0.016739613363628232,
          0.016647516525598892,
          0.01655245238397006,
          0.01645441862113564,
          0.01635341656170208,
          0.016249451194761486,
          0.016142531190028897,
          0.016032668907775167,
          0.015919880402495954,
          0.0158041854202696,
          0.01568560738976469,
          0.015564173406872734,
          0.015439914212950124,
          0.015312864166667385,
          0.015183061209475648,
          0.015050546824712994,
          0.014915365990387302,
          0.014777567125684466,
          0.014637202031266195,
          0.014494325823434316,
          0.014348996862253365,
          0.014201276673737929,
          0.014051229866224913,
          0.013898924041065828,
          0.013744429697789138,
          0.013587820133896146,
          0.013429171339469146,
          0.013268561886784396,
          0.01310607281513578,
          0.012941787511089623,
          0.012775791584403496,
          0.012608172739854612,
          0.012439020645236339,
          0.012268426795792016,
          0.012096484375366978,
          0.011923288114570017,
          0.011748934146244627,
          0.0115735198585595,
          0.01139714374603595,
          0.011219905258836293,
          0.011041904650643858,
          0.010863242825470503,
          0.010684021183730987,
          0.01050434146792747,
          0.010324305608288481,
          0.010144015568708545,
          0.009963573193333594,
          0.009783080054136487,
          0.009602637299824362,
          0.009422345506415932,
          0.009242304529821922,
          0.009062613360756682,
          0.008883369982301246,
          0.008704671230430977,
          0.00852661265781112,
          0.008349288401154419
         ],
         "yaxis": "y"
        },
        {
         "fill": "tozeroy",
         "hovertemplate": "<b>Synthetic</b><br>Frequency: %{y}<extra></extra>",
         "legendgroup": "Synthetic",
         "marker": {
          "color": "#01E0C9"
         },
         "mode": "lines",
         "name": "Synthetic",
         "showlegend": true,
         "type": "scatter",
         "x": [
          12,
          12.188,
          12.376,
          12.564,
          12.752,
          12.94,
          13.128,
          13.316,
          13.504,
          13.692,
          13.879999999999999,
          14.068,
          14.256,
          14.443999999999999,
          14.632,
          14.82,
          15.008,
          15.196,
          15.384,
          15.572,
          15.76,
          15.948,
          16.136,
          16.323999999999998,
          16.512,
          16.7,
          16.887999999999998,
          17.076,
          17.264,
          17.451999999999998,
          17.64,
          17.828,
          18.016,
          18.204,
          18.392,
          18.58,
          18.768,
          18.956,
          19.144,
          19.332,
          19.52,
          19.708,
          19.896,
          20.084,
          20.272,
          20.46,
          20.648,
          20.836,
          21.024,
          21.212,
          21.4,
          21.588,
          21.776,
          21.964,
          22.152,
          22.34,
          22.528,
          22.716,
          22.904,
          23.092,
          23.28,
          23.468,
          23.656,
          23.844,
          24.032,
          24.22,
          24.408,
          24.596,
          24.784,
          24.972,
          25.16,
          25.348,
          25.536,
          25.724,
          25.912,
          26.1,
          26.288,
          26.476,
          26.664,
          26.852,
          27.04,
          27.228,
          27.416,
          27.604,
          27.792,
          27.98,
          28.168,
          28.356,
          28.544,
          28.732,
          28.92,
          29.108,
          29.296,
          29.484,
          29.672,
          29.86,
          30.048,
          30.236,
          30.424,
          30.612,
          30.8,
          30.988,
          31.176,
          31.364,
          31.552,
          31.74,
          31.928,
          32.116,
          32.304,
          32.492000000000004,
          32.68,
          32.867999999999995,
          33.056,
          33.244,
          33.432,
          33.620000000000005,
          33.808,
          33.995999999999995,
          34.184,
          34.372,
          34.56,
          34.748000000000005,
          34.936,
          35.123999999999995,
          35.312,
          35.5,
          35.688,
          35.876000000000005,
          36.064,
          36.251999999999995,
          36.44,
          36.628,
          36.816,
          37.004000000000005,
          37.192,
          37.379999999999995,
          37.568,
          37.756,
          37.944,
          38.132000000000005,
          38.32,
          38.507999999999996,
          38.696,
          38.884,
          39.072,
          39.260000000000005,
          39.448,
          39.635999999999996,
          39.824,
          40.012,
          40.2,
          40.388000000000005,
          40.576,
          40.763999999999996,
          40.952,
          41.14,
          41.328,
          41.516,
          41.704,
          41.891999999999996,
          42.08,
          42.268,
          42.456,
          42.644,
          42.832,
          43.019999999999996,
          43.208,
          43.396,
          43.584,
          43.772,
          43.96,
          44.148,
          44.336,
          44.524,
          44.712,
          44.9,
          45.088,
          45.276,
          45.464,
          45.652,
          45.84,
          46.028,
          46.216,
          46.404,
          46.592,
          46.78,
          46.968,
          47.156,
          47.344,
          47.532,
          47.72,
          47.908,
          48.096,
          48.284,
          48.472,
          48.66,
          48.848,
          49.036,
          49.224,
          49.412,
          49.6,
          49.788,
          49.976,
          50.164,
          50.352,
          50.54,
          50.728,
          50.916,
          51.104,
          51.292,
          51.48,
          51.668,
          51.856,
          52.044,
          52.232,
          52.42,
          52.608,
          52.796,
          52.984,
          53.172,
          53.36,
          53.548,
          53.736,
          53.924,
          54.112,
          54.3,
          54.488,
          54.676,
          54.864,
          55.052,
          55.24,
          55.428,
          55.616,
          55.804,
          55.992,
          56.18,
          56.368,
          56.556,
          56.744,
          56.932,
          57.12,
          57.308,
          57.496,
          57.684,
          57.872,
          58.06,
          58.248,
          58.436,
          58.624,
          58.812,
          59,
          59.188,
          59.376,
          59.564,
          59.752,
          59.94,
          60.128,
          60.316,
          60.504,
          60.692,
          60.88,
          61.068,
          61.256,
          61.444,
          61.632,
          61.82,
          62.008,
          62.196,
          62.384,
          62.572,
          62.76,
          62.948,
          63.136,
          63.324,
          63.512,
          63.7,
          63.888,
          64.076,
          64.26400000000001,
          64.452,
          64.64,
          64.828,
          65.01599999999999,
          65.20400000000001,
          65.392,
          65.58,
          65.768,
          65.956,
          66.144,
          66.332,
          66.52000000000001,
          66.708,
          66.896,
          67.084,
          67.27199999999999,
          67.46000000000001,
          67.648,
          67.836,
          68.024,
          68.212,
          68.4,
          68.588,
          68.77600000000001,
          68.964,
          69.152,
          69.34,
          69.52799999999999,
          69.71600000000001,
          69.904,
          70.092,
          70.28,
          70.468,
          70.656,
          70.844,
          71.032,
          71.22,
          71.408,
          71.596,
          71.78399999999999,
          71.97200000000001,
          72.16,
          72.348,
          72.536,
          72.72399999999999,
          72.912,
          73.1,
          73.288,
          73.476,
          73.664,
          73.852,
          74.03999999999999,
          74.22800000000001,
          74.416,
          74.604,
          74.792,
          74.97999999999999,
          75.168,
          75.356,
          75.544,
          75.732,
          75.92,
          76.108,
          76.296,
          76.484,
          76.672,
          76.86,
          77.048,
          77.236,
          77.424,
          77.612,
          77.8,
          77.988,
          78.176,
          78.364,
          78.552,
          78.74,
          78.928,
          79.116,
          79.304,
          79.492,
          79.68,
          79.868,
          80.056,
          80.244,
          80.432,
          80.62,
          80.808,
          80.996,
          81.184,
          81.372,
          81.56,
          81.748,
          81.936,
          82.124,
          82.312,
          82.5,
          82.688,
          82.876,
          83.064,
          83.252,
          83.44,
          83.628,
          83.816,
          84.004,
          84.192,
          84.38,
          84.568,
          84.756,
          84.944,
          85.132,
          85.32,
          85.508,
          85.696,
          85.884,
          86.072,
          86.26,
          86.448,
          86.636,
          86.824,
          87.012,
          87.2,
          87.388,
          87.576,
          87.764,
          87.952,
          88.14,
          88.328,
          88.516,
          88.704,
          88.892,
          89.08,
          89.268,
          89.456,
          89.644,
          89.832,
          90.02,
          90.208,
          90.396,
          90.584,
          90.772,
          90.96,
          91.148,
          91.336,
          91.524,
          91.712,
          91.9,
          92.088,
          92.276,
          92.464,
          92.652,
          92.84,
          93.028,
          93.216,
          93.404,
          93.592,
          93.78,
          93.968,
          94.156,
          94.344,
          94.532,
          94.72,
          94.908,
          95.096,
          95.284,
          95.472,
          95.66,
          95.848,
          96.036,
          96.224,
          96.412,
          96.6,
          96.788,
          96.976,
          97.164,
          97.352,
          97.54,
          97.728,
          97.916,
          98.104,
          98.292,
          98.48,
          98.668,
          98.856,
          99.044,
          99.232,
          99.42,
          99.608,
          99.796,
          99.984,
          100.172,
          100.36,
          100.548,
          100.736,
          100.924,
          101.112,
          101.3,
          101.488,
          101.676,
          101.864,
          102.052,
          102.24,
          102.428,
          102.616,
          102.804,
          102.992,
          103.18,
          103.368,
          103.556,
          103.744,
          103.932,
          104.12,
          104.308,
          104.496,
          104.684,
          104.872,
          105.06,
          105.248,
          105.436,
          105.624,
          105.812
         ],
         "xaxis": "x",
         "y": [
          0.001242678503047085,
          0.0012677901541028826,
          0.0012928272335729761,
          0.0013177712313120074,
          0.001342603822804505,
          0.0013673069084003755,
          0.0013918626516007894,
          0.0014162535162532295,
          0.0014404623025225803,
          0.001464472181514281,
          0.0014882667284356202,
          0.00151182995419235,
          0.0015351463353295875,
          0.0015582008422386942,
          0.001580978965565122,
          0.0016034667407661143,
          0.0016256507707815935,
          0.0016475182467963322,
          0.0016690569670865327,
          0.0016902553539591217,
          0.0017111024688072907,
          0.00173158802532083,
          0.0017517024009047135,
          0.0017714366463737702,
          0.0017907824940052866,
          0.0018097323640446509,
          0.0018282793697717153,
          0.001846417321247152,
          0.0018641407278687555,
          0.0018814447998770955,
          0.0018983254489581785,
          0.0019147792880977203,
          0.001930803630847071,
          0.0019463964901647868,
          0.001961556577000301,
          0.001976283298786748,
          0.0019905767580091723,
          0.002004437751011573,
          0.0020178677672018806,
          0.0020308689888077873,
          0.0020434442913284364,
          0.0020555972448174083,
          0.0020673321161211815,
          0.0020786538721843683,
          0.002089568184518664,
          0.0021000814349165565,
          0.0021102007224737683,
          0.002119933871965901,
          0.002129289443605363,
          0.0021382767441841485,
          0.0021469058395869227,
          0.0021551875686368818,
          0.002163133558214726,
          0.0021707562395683684,
          0.002178068865708498,
          0.0021850855297625184,
          0.0021918211841372654,
          0.0021982916603191776,
          0.0022045136891197126,
          0.0022105049211537924,
          0.0022162839473201393,
          0.0022218703190348987,
          0.0022272845679537994,
          0.002232548224903877,
          0.002237683837733163,
          0.0022427149877764095,
          0.002247666304626529,
          0.0022525634788954758,
          0.002257433272644671,
          0.0022623035271640665,
          0.0022672031677804013,
          0.0022721622053794095,
          0.0022772117343336086,
          0.0022823839265369078,
          0.002287712021259579,
          0.002293230310552088,
          0.0022989741199440283,
          0.0023049797842045927,
          0.0023112846179536898,
          0.0023179268809380925,
          0.0023249457378142196,
          0.0023323812123087237,
          0.0023402741356594783,
          0.0023486660892726875,
          0.0023575993415665803,
          0.0023671167790081456,
          0.0023772618313865975,
          0.002388078391405006,
          0.0023996107287102947,
          0.00241190339852054,
          0.0024250011450473704,
          0.0024389487999500518,
          0.002453791176095841,
          0.002469572956938664,
          0.002486338581864281,
          0.0025041321278851895,
          0.0025229971881016483,
          0.0025429767473766946,
          0.002564113055702246,
          0.0025864474997603056,
          0.0026100204732075957,
          0.0026348712462333783,
          0.0026610378349588015,
          0.0026885568712614835,
          0.0027174634736209283,
          0.002747791119589252,
          0.002779571520496468,
          0.002812834499001363,
          0.0028476078700965545,
          0.002883917326170617,
          0.0029217863267205447,
          0.00296123599329464,
          0.0030022850102290697,
          0.003044949531721048,
          0.0030892430957578576,
          0.0031351765453938316,
          0.003182757957837328,
          0.0032319925817765943,
          0.0032828827833374656,
          0.0033354280010275744,
          0.003389624709980875,
          0.00344546639577362,
          0.003502943538038329,
          0.0035620436040562863,
          0.003622751052461683,
          0.003685047347142572,
          0.003748910981374755,
          0.0038143175121758406,
          0.0038812396048173423,
          0.00394964708738423,
          0.004019507015222764,
          0.0040907837450705736,
          0.0041634390186164605,
          0.004237432055193209,
          0.004312719653263421,
          0.004389256300317828,
          0.004466994290766775,
          0.004545883851369281,
          0.004625873273710805,
          0.004706909053209766,
          0.004788936034105407,
          0.00487189755985485,
          0.004955735628345697,
          0.005040391051312643,
          0.005125803617331585,
          0.0052119122577536136,
          0.0052986552149333205,
          0.005385970212101211,
          0.005473794624229218,
          0.005562065649240282,
          0.005650720478918637,
          0.00573969646888589,
          0.00582893130701988,
          0.005918363179707571,
          0.006007930935340922,
          0.0060975742444841045,
          0.006187233756163295,
          0.006276851249754204,
          0.006366369781969393,
          0.006455733828475658,
          0.006544889419701492,
          0.006633784270426101,
          0.006722367902773744,
          0.006810591762270479,
          0.006898409326654443,
          0.006985776207165309,
          0.007072650242073321,
          0.007158991582243184,
          0.007244762768562869,
          0.007329928801101534,
          0.00741445719989519,
          0.007498318057291325,
          0.007581484081816765,
          0.00766393063356413,
          0.007745635751122694,
          0.007826580170108977,
          0.007906747333379701,
          0.007986123393036884,
          0.008064697204359457,
          0.00814246031181962,
          0.008219406927363946,
          0.008295533901159948,
          0.008370840685027256,
          0.008445329288790202,
          0.008519004229803985,
          0.008591872475920843,
          0.008663943382174919,
          0.008735228621476096,
          0.008805742109612066,
          0.008875499924866494,
          0.008944520222568052,
          0.009012823144890466,
          0.009080430726228422,
          0.009147366794477288,
          0.009213656868547337,
          0.00927932805244373,
          0.009344408926244992,
          0.009408929434311512,
          0.00947292077105517,
          0.009536415264599247,
          0.009599446258655634,
          0.009662047992943682,
          0.009724255482471855,
          0.009786104395999785,
          0.009847630933994822,
          0.00990887170639257,
          0.009969863610467438,
          0.010030643709113917,
          0.010091249109835552,
          0.010151716844733356,
          0.010212083751780933,
          0.01027238635766891,
          0.010332660762496016,
          0.010392942526579638,
          0.010453266559653583,
          0.01051366701271552,
          0.010574177172781933,
          0.010634829360802706,
          0.01069565483298233,
          0.010756683685749243,
          0.010817944764609073,
          0.010879465577111218,
          0.010941272210152597,
          0.011003389251835395,
          0.01106583971808849,
          0.011128644984255354,
          0.011191824721842884,
          0.011255396840617294,
          0.011319377436224234,
          0.011383780743500533,
          0.011448619095634412,
          0.01151390288932009,
          0.011579640556040445,
          0.011645838539598989,
          0.011712501280007875,
          0.011779631203825056,
          0.011847228721017093,
          0.01191529222840812,
          0.01198381811975784,
          0.0120528008024924,
          0.012122232721092986,
          0.012192104387125851,
          0.012262404415876381,
          0.012333119569527285,
          0.012404234806797261,
          0.012475733338933011,
          0.012547596691921983,
          0.012619804774768338,
          0.012692335953647561,
          0.012765167131729947,
          0.012838273834435133,
          0.01291163029985347,
          0.012985209574042799,
          0.013058983610882414,
          0.013132923376139005,
          0.013206998955373726,
          0.013281179665293739,
          0.013355434168127006,
          0.013429730588575864,
          0.013504036632882363,
          0.013578319709517808,
          0.01365254705099013,
          0.013726685836245004,
          0.01380070331312241,
          0.013874566920317279,
          0.013948244408282837,
          0.014021703958508014,
          0.014094914300595571,
          0.014167844826566326,
          0.014240465701816701,
          0.01431274797216143,
          0.0143846636664023,
          0.01445618589387545,
          0.014527288936444971,
          0.014597948334430604,
          0.014668140965978887,
          0.014737845119413789,
          0.014807040558133124,
          0.014875708577649154,
          0.014943832054408804,
          0.0150113954860687,
          0.01507838502294184,
          0.015144788490378862,
          0.015210595401894225,
          0.01527579696289746,
          0.015340386064941596,
          0.015404357270454612,
          0.015467706787974331,
          0.01553043243796259,
          0.015592533609331155,
          0.015654011206867855,
          0.015714867589807162,
          0.015775106501845403,
          0.01583473299295412,
          0.015893753333398115,
          0.0159521749204155,
          0.016010006178064456,
          0.01606725645078806,
          0.016123935891289704,
          0.016180055343350885,
          0.016235626220258138,
          0.016290660379536033,
          0.016345169994709873,
          0.016399167424843028,
          0.01645266508261025,
          0.016505675301679925,
          0.016558210204184208,
          0.01661028156905745,
          0.01666190070201765,
          0.016713078307956868,
          0.016763824366491004,
          0.016814148011397922,
          0.016864057414649025,
          0.016913559675707197,
          0.016962660716729583,
          0.017011365184274062,
          0.017059676358064,
          0.017107596067318525,
          0.017155124615104763,
          0.017202260711113863,
          0.017249001413206417,
          0.017295342078014475,
          0.017341276320826052,
          0.01738679598491779,
          0.017431891120437783,
          0.017476549972880034,
          0.017520758981128016,
          0.017564502784985832,
          0.01760776424205364,
          0.017650524453747773,
          0.017692762800209063,
          0.01773445698379008,
          0.017775583080762963,
          0.017816115600841113,
          0.01785602755406742,
          0.01789529052458135,
          0.017933874750743862,
          0.017971749211068977,
          0.018008881715385675,
          0.018045239000633973,
          0.018080786830683038,
          0.01811549009954958,
          0.01814931293738851,
          0.018182218818628006,
          0.018214170671624348,
          0.018245130989221706,
          0.018275061939613823,
          0.01830392547692348,
          0.018331683450934926,
          0.01835829771544118,
          0.018383730234694796,
          0.018407943187482102,
          0.018430899068375278,
          0.018452560785751308,
          0.018472891756205107,
          0.018491855995023232,
          0.018509418202424115,
          0.018525543845311496,
          0.018540199234328966,
          0.018553351596043093,
          0.01856496914012385,
          0.01857502112142897,
          0.018583477896937466,
          0.018590310977513496,
          0.01859549307451611,
          0.01859899814130295,
          0.018600801409705676,
          0.018600879421582575,
          0.018599210055578727,
          0.018595772549245496,
          0.018590547516691446,
          0.01858351696195183,
          0.018574664288277722,
          0.018563974303556642,
          0.01855143322208339,
          0.018537028662904655,
          0.01852074964496426,
          0.018502586579273658,
          0.01848253125833133,
          0.018460576843008666,
          0.01843671784711388,
          0.01841095011983592,
          0.018383270826261233,
          0.018353678426144084,
          0.01832217265109901,
          0.01828875448037025,
          0.018253426115320045,
          0.018216190952762168,
          0.018177053557254477,
          0.01813601963244872,
          0.018093095991582913,
          0.01804829052718812,
          0.018001612180069453,
          0.017953070907608615,
          0.017902677651426287,
          0.017850444304431754,
          0.017796383677280415,
          0.017740509464252482,
          0.017682836208561193,
          0.017623379267094726,
          0.017562154774594357,
          0.017499179607269665,
          0.017434471345853124,
          0.017368048238097514,
          0.017299929160723516,
          0.017230133580829247,
          0.01715868151677885,
          0.01708559349859488,
          0.01701089052788541,
          0.016934594037347338,
          0.01685672584989418,
          0.016777308137467882,
          0.016696363379603795,
          0.01661391432182745,
          0.016529983933972814,
          0.016444595368521615,
          0.01635777191907264,
          0.01626953697906048,
          0.016179914000851097,
          0.01608892645535069,
          0.01599659779227172,
          0.015902951401206244,
          0.015808010573663437,
          0.015711798466231813,
          0.01561433806503108,
          0.015515652151620275,
          0.015415763270531018,
          0.015314693698593361,
          0.015212465416221333,
          0.015109100080822283,
          0.01500461900248995,
          0.014899043122136212,
          0.014792392992209967,
          0.014684688760143363,
          0.014575950154657123,
          0.014466196475046557,
          0.01435544658355811,
          0.014243718900954855,
          0.014131031405355366,
          0.014017401634416903,
          0.013902846690918742,
          0.013787383251785771,
          0.013671027580576395,
          0.01355379554344204,
          0.013435702628548294,
          0.013316763968929939,
          0.01319699436873467,
          0.01307640833279213,
          0.012955020099426414,
          0.012832843676413096,
          0.01270989287996268,
          0.01258618137659558,
          0.01246172272775603,
          0.012336530436994939,
          0.012210617999535664,
          0.012083998954020238,
          0.011956686936218658,
          0.011828695734468604,
          0.011700039346600213,
          0.011570732038086303,
          0.011440788401147763,
          0.011310223414532344,
          0.011179052503675277,
          0.011047291600942156,
          0.010914957205647037,
          0.010782066443532178,
          0.010648637125392647,
          0.01051468780452467,
          0.010380237832675642,
          0.010245307414173722,
          0.010109917657916316,
          0.009974090626899823,
          0.009837849384977919,
          0.009701218040542584,
          0.009564221786829067,
          0.009426886938557094,
          0.009289240964631264,
          0.009151312516636853,
          0.00901313145288213,
          0.008874728857754553,
          0.008736137056176024,
          0.008597389622961688,
          0.00845852138690771,
          0.008319568429455249,
          0.008180568077801294,
          0.00804155889235189,
          0.007902580648437796,
          0.007763674312240122,
          0.007624882010900032,
          0.007486246996814335,
          0.007347813606147673,
          0.007209627211619942,
          0.007071734169656986,
          0.0069341817620210255,
          0.006797018132066242,
          0.006660292215793024,
          0.0065240536679022736,
          0.006388352783078433,
          0.0062532404127560535,
          0.006118767877649792
         ],
         "yaxis": "y"
        }
       ],
       "layout": {
        "barmode": "overlay",
        "font": {
         "size": 18
        },
        "hovermode": "closest",
        "legend": {
         "traceorder": "reversed"
        },
        "plot_bgcolor": "#F5F5F8",
        "template": {
         "data": {
          "bar": [
           {
            "error_x": {
             "color": "#2a3f5f"
            },
            "error_y": {
             "color": "#2a3f5f"
            },
            "marker": {
             "line": {
              "color": "#E5ECF6",
              "width": 0.5
             },
             "pattern": {
              "fillmode": "overlay",
              "size": 10,
              "solidity": 0.2
             }
            },
            "type": "bar"
           }
          ],
          "barpolar": [
           {
            "marker": {
             "line": {
              "color": "#E5ECF6",
              "width": 0.5
             },
             "pattern": {
              "fillmode": "overlay",
              "size": 10,
              "solidity": 0.2
             }
            },
            "type": "barpolar"
           }
          ],
          "carpet": [
           {
            "aaxis": {
             "endlinecolor": "#2a3f5f",
             "gridcolor": "white",
             "linecolor": "white",
             "minorgridcolor": "white",
             "startlinecolor": "#2a3f5f"
            },
            "baxis": {
             "endlinecolor": "#2a3f5f",
             "gridcolor": "white",
             "linecolor": "white",
             "minorgridcolor": "white",
             "startlinecolor": "#2a3f5f"
            },
            "type": "carpet"
           }
          ],
          "choropleth": [
           {
            "colorbar": {
             "outlinewidth": 0,
             "ticks": ""
            },
            "type": "choropleth"
           }
          ],
          "contour": [
           {
            "colorbar": {
             "outlinewidth": 0,
             "ticks": ""
            },
            "colorscale": [
             [
              0,
              "#0d0887"
             ],
             [
              0.1111111111111111,
              "#46039f"
             ],
             [
              0.2222222222222222,
              "#7201a8"
             ],
             [
              0.3333333333333333,
              "#9c179e"
             ],
             [
              0.4444444444444444,
              "#bd3786"
             ],
             [
              0.5555555555555556,
              "#d8576b"
             ],
             [
              0.6666666666666666,
              "#ed7953"
             ],
             [
              0.7777777777777778,
              "#fb9f3a"
             ],
             [
              0.8888888888888888,
              "#fdca26"
             ],
             [
              1,
              "#f0f921"
             ]
            ],
            "type": "contour"
           }
          ],
          "contourcarpet": [
           {
            "colorbar": {
             "outlinewidth": 0,
             "ticks": ""
            },
            "type": "contourcarpet"
           }
          ],
          "heatmap": [
           {
            "colorbar": {
             "outlinewidth": 0,
             "ticks": ""
            },
            "colorscale": [
             [
              0,
              "#0d0887"
             ],
             [
              0.1111111111111111,
              "#46039f"
             ],
             [
              0.2222222222222222,
              "#7201a8"
             ],
             [
              0.3333333333333333,
              "#9c179e"
             ],
             [
              0.4444444444444444,
              "#bd3786"
             ],
             [
              0.5555555555555556,
              "#d8576b"
             ],
             [
              0.6666666666666666,
              "#ed7953"
             ],
             [
              0.7777777777777778,
              "#fb9f3a"
             ],
             [
              0.8888888888888888,
              "#fdca26"
             ],
             [
              1,
              "#f0f921"
             ]
            ],
            "type": "heatmap"
           }
          ],
          "heatmapgl": [
           {
            "colorbar": {
             "outlinewidth": 0,
             "ticks": ""
            },
            "colorscale": [
             [
              0,
              "#0d0887"
             ],
             [
              0.1111111111111111,
              "#46039f"
             ],
             [
              0.2222222222222222,
              "#7201a8"
             ],
             [
              0.3333333333333333,
              "#9c179e"
             ],
             [
              0.4444444444444444,
              "#bd3786"
             ],
             [
              0.5555555555555556,
              "#d8576b"
             ],
             [
              0.6666666666666666,
              "#ed7953"
             ],
             [
              0.7777777777777778,
              "#fb9f3a"
             ],
             [
              0.8888888888888888,
              "#fdca26"
             ],
             [
              1,
              "#f0f921"
             ]
            ],
            "type": "heatmapgl"
           }
          ],
          "histogram": [
           {
            "marker": {
             "pattern": {
              "fillmode": "overlay",
              "size": 10,
              "solidity": 0.2
             }
            },
            "type": "histogram"
           }
          ],
          "histogram2d": [
           {
            "colorbar": {
             "outlinewidth": 0,
             "ticks": ""
            },
            "colorscale": [
             [
              0,
              "#0d0887"
             ],
             [
              0.1111111111111111,
              "#46039f"
             ],
             [
              0.2222222222222222,
              "#7201a8"
             ],
             [
              0.3333333333333333,
              "#9c179e"
             ],
             [
              0.4444444444444444,
              "#bd3786"
             ],
             [
              0.5555555555555556,
              "#d8576b"
             ],
             [
              0.6666666666666666,
              "#ed7953"
             ],
             [
              0.7777777777777778,
              "#fb9f3a"
             ],
             [
              0.8888888888888888,
              "#fdca26"
             ],
             [
              1,
              "#f0f921"
             ]
            ],
            "type": "histogram2d"
           }
          ],
          "histogram2dcontour": [
           {
            "colorbar": {
             "outlinewidth": 0,
             "ticks": ""
            },
            "colorscale": [
             [
              0,
              "#0d0887"
             ],
             [
              0.1111111111111111,
              "#46039f"
             ],
             [
              0.2222222222222222,
              "#7201a8"
             ],
             [
              0.3333333333333333,
              "#9c179e"
             ],
             [
              0.4444444444444444,
              "#bd3786"
             ],
             [
              0.5555555555555556,
              "#d8576b"
             ],
             [
              0.6666666666666666,
              "#ed7953"
             ],
             [
              0.7777777777777778,
              "#fb9f3a"
             ],
             [
              0.8888888888888888,
              "#fdca26"
             ],
             [
              1,
              "#f0f921"
             ]
            ],
            "type": "histogram2dcontour"
           }
          ],
          "mesh3d": [
           {
            "colorbar": {
             "outlinewidth": 0,
             "ticks": ""
            },
            "type": "mesh3d"
           }
          ],
          "parcoords": [
           {
            "line": {
             "colorbar": {
              "outlinewidth": 0,
              "ticks": ""
             }
            },
            "type": "parcoords"
           }
          ],
          "pie": [
           {
            "automargin": true,
            "type": "pie"
           }
          ],
          "scatter": [
           {
            "fillpattern": {
             "fillmode": "overlay",
             "size": 10,
             "solidity": 0.2
            },
            "type": "scatter"
           }
          ],
          "scatter3d": [
           {
            "line": {
             "colorbar": {
              "outlinewidth": 0,
              "ticks": ""
             }
            },
            "marker": {
             "colorbar": {
              "outlinewidth": 0,
              "ticks": ""
             }
            },
            "type": "scatter3d"
           }
          ],
          "scattercarpet": [
           {
            "marker": {
             "colorbar": {
              "outlinewidth": 0,
              "ticks": ""
             }
            },
            "type": "scattercarpet"
           }
          ],
          "scattergeo": [
           {
            "marker": {
             "colorbar": {
              "outlinewidth": 0,
              "ticks": ""
             }
            },
            "type": "scattergeo"
           }
          ],
          "scattergl": [
           {
            "marker": {
             "colorbar": {
              "outlinewidth": 0,
              "ticks": ""
             }
            },
            "type": "scattergl"
           }
          ],
          "scattermapbox": [
           {
            "marker": {
             "colorbar": {
              "outlinewidth": 0,
              "ticks": ""
             }
            },
            "type": "scattermapbox"
           }
          ],
          "scatterpolar": [
           {
            "marker": {
             "colorbar": {
              "outlinewidth": 0,
              "ticks": ""
             }
            },
            "type": "scatterpolar"
           }
          ],
          "scatterpolargl": [
           {
            "marker": {
             "colorbar": {
              "outlinewidth": 0,
              "ticks": ""
             }
            },
            "type": "scatterpolargl"
           }
          ],
          "scatterternary": [
           {
            "marker": {
             "colorbar": {
              "outlinewidth": 0,
              "ticks": ""
             }
            },
            "type": "scatterternary"
           }
          ],
          "surface": [
           {
            "colorbar": {
             "outlinewidth": 0,
             "ticks": ""
            },
            "colorscale": [
             [
              0,
              "#0d0887"
             ],
             [
              0.1111111111111111,
              "#46039f"
             ],
             [
              0.2222222222222222,
              "#7201a8"
             ],
             [
              0.3333333333333333,
              "#9c179e"
             ],
             [
              0.4444444444444444,
              "#bd3786"
             ],
             [
              0.5555555555555556,
              "#d8576b"
             ],
             [
              0.6666666666666666,
              "#ed7953"
             ],
             [
              0.7777777777777778,
              "#fb9f3a"
             ],
             [
              0.8888888888888888,
              "#fdca26"
             ],
             [
              1,
              "#f0f921"
             ]
            ],
            "type": "surface"
           }
          ],
          "table": [
           {
            "cells": {
             "fill": {
              "color": "#EBF0F8"
             },
             "line": {
              "color": "white"
             }
            },
            "header": {
             "fill": {
              "color": "#C8D4E3"
             },
             "line": {
              "color": "white"
             }
            },
            "type": "table"
           }
          ]
         },
         "layout": {
          "annotationdefaults": {
           "arrowcolor": "#2a3f5f",
           "arrowhead": 0,
           "arrowwidth": 1
          },
          "autotypenumbers": "strict",
          "coloraxis": {
           "colorbar": {
            "outlinewidth": 0,
            "ticks": ""
           }
          },
          "colorscale": {
           "diverging": [
            [
             0,
             "#8e0152"
            ],
            [
             0.1,
             "#c51b7d"
            ],
            [
             0.2,
             "#de77ae"
            ],
            [
             0.3,
             "#f1b6da"
            ],
            [
             0.4,
             "#fde0ef"
            ],
            [
             0.5,
             "#f7f7f7"
            ],
            [
             0.6,
             "#e6f5d0"
            ],
            [
             0.7,
             "#b8e186"
            ],
            [
             0.8,
             "#7fbc41"
            ],
            [
             0.9,
             "#4d9221"
            ],
            [
             1,
             "#276419"
            ]
           ],
           "sequential": [
            [
             0,
             "#0d0887"
            ],
            [
             0.1111111111111111,
             "#46039f"
            ],
            [
             0.2222222222222222,
             "#7201a8"
            ],
            [
             0.3333333333333333,
             "#9c179e"
            ],
            [
             0.4444444444444444,
             "#bd3786"
            ],
            [
             0.5555555555555556,
             "#d8576b"
            ],
            [
             0.6666666666666666,
             "#ed7953"
            ],
            [
             0.7777777777777778,
             "#fb9f3a"
            ],
            [
             0.8888888888888888,
             "#fdca26"
            ],
            [
             1,
             "#f0f921"
            ]
           ],
           "sequentialminus": [
            [
             0,
             "#0d0887"
            ],
            [
             0.1111111111111111,
             "#46039f"
            ],
            [
             0.2222222222222222,
             "#7201a8"
            ],
            [
             0.3333333333333333,
             "#9c179e"
            ],
            [
             0.4444444444444444,
             "#bd3786"
            ],
            [
             0.5555555555555556,
             "#d8576b"
            ],
            [
             0.6666666666666666,
             "#ed7953"
            ],
            [
             0.7777777777777778,
             "#fb9f3a"
            ],
            [
             0.8888888888888888,
             "#fdca26"
            ],
            [
             1,
             "#f0f921"
            ]
           ]
          },
          "colorway": [
           "#636efa",
           "#EF553B",
           "#00cc96",
           "#ab63fa",
           "#FFA15A",
           "#19d3f3",
           "#FF6692",
           "#B6E880",
           "#FF97FF",
           "#FECB52"
          ],
          "font": {
           "color": "#2a3f5f"
          },
          "geo": {
           "bgcolor": "white",
           "lakecolor": "white",
           "landcolor": "#E5ECF6",
           "showlakes": true,
           "showland": true,
           "subunitcolor": "white"
          },
          "hoverlabel": {
           "align": "left"
          },
          "hovermode": "closest",
          "mapbox": {
           "style": "light"
          },
          "paper_bgcolor": "white",
          "plot_bgcolor": "#E5ECF6",
          "polar": {
           "angularaxis": {
            "gridcolor": "white",
            "linecolor": "white",
            "ticks": ""
           },
           "bgcolor": "#E5ECF6",
           "radialaxis": {
            "gridcolor": "white",
            "linecolor": "white",
            "ticks": ""
           }
          },
          "scene": {
           "xaxis": {
            "backgroundcolor": "#E5ECF6",
            "gridcolor": "white",
            "gridwidth": 2,
            "linecolor": "white",
            "showbackground": true,
            "ticks": "",
            "zerolinecolor": "white"
           },
           "yaxis": {
            "backgroundcolor": "#E5ECF6",
            "gridcolor": "white",
            "gridwidth": 2,
            "linecolor": "white",
            "showbackground": true,
            "ticks": "",
            "zerolinecolor": "white"
           },
           "zaxis": {
            "backgroundcolor": "#E5ECF6",
            "gridcolor": "white",
            "gridwidth": 2,
            "linecolor": "white",
            "showbackground": true,
            "ticks": "",
            "zerolinecolor": "white"
           }
          },
          "shapedefaults": {
           "line": {
            "color": "#2a3f5f"
           }
          },
          "ternary": {
           "aaxis": {
            "gridcolor": "white",
            "linecolor": "white",
            "ticks": ""
           },
           "baxis": {
            "gridcolor": "white",
            "linecolor": "white",
            "ticks": ""
           },
           "bgcolor": "#E5ECF6",
           "caxis": {
            "gridcolor": "white",
            "linecolor": "white",
            "ticks": ""
           }
          },
          "title": {
           "x": 0.05
          },
          "xaxis": {
           "automargin": true,
           "gridcolor": "white",
           "linecolor": "white",
           "ticks": "",
           "title": {
            "standoff": 15
           },
           "zerolinecolor": "white",
           "zerolinewidth": 2
          },
          "yaxis": {
           "automargin": true,
           "gridcolor": "white",
           "linecolor": "white",
           "ticks": "",
           "title": {
            "standoff": 15
           },
           "zerolinecolor": "white",
           "zerolinewidth": 2
          }
         }
        },
        "title": {
         "text": "Real vs. Synthetic Data for column 'age'"
        },
        "xaxis": {
         "anchor": "y2",
         "domain": [
          0,
          1
         ],
         "title": {
          "text": "Value"
         },
         "zeroline": false
        },
        "yaxis": {
         "anchor": "free",
         "domain": [
          0,
          1
         ],
         "position": 0,
         "title": {
          "text": "Frequency"
         }
        }
       }
      }
     },
     "metadata": {},
     "output_type": "display_data"
    },
    {
     "data": {
      "application/vnd.plotly.v1+json": {
       "config": {
        "plotlyServerURL": "https://plot.ly"
       },
       "data": [
        {
         "alignmentgroup": "True",
         "bingroup": "x",
         "histnorm": "probability density",
         "hovertemplate": "<b>Real</b><br>Frequency: %{y}<extra></extra>",
         "legendgroup": "Real",
         "marker": {
          "color": "#000036",
          "pattern": {
           "shape": ""
          }
         },
         "name": "Real",
         "offsetgroup": "Real",
         "orientation": "v",
         "showlegend": true,
         "type": "histogram",
         "x": [
          "WHITE",
          "WHITE",
          "WHITE",
          "WHITE",
          "WHITE",
          "ASIAN - ASIAN INDIAN",
          "WHITE",
          "WHITE",
          "BLACK/AFRICAN AMERICAN",
          "HISPANIC/LATINO - PUERTO RICAN",
          "WHITE",
          "WHITE",
          "WHITE",
          "WHITE",
          "WHITE",
          "WHITE",
          "WHITE",
          "WHITE",
          "BLACK/AFRICAN AMERICAN",
          "BLACK/CAPE VERDEAN",
          "WHITE",
          "WHITE",
          "BLACK/AFRICAN AMERICAN",
          "BLACK/CAPE VERDEAN",
          "WHITE",
          "WHITE",
          "PATIENT DECLINED TO ANSWER",
          "WHITE",
          "BLACK/CAPE VERDEAN",
          "WHITE",
          "HISPANIC OR LATINO",
          "HISPANIC/LATINO - PUERTO RICAN",
          "HISPANIC/LATINO - PUERTO RICAN",
          "MULTI RACE ETHNICITY",
          "OTHER",
          "BLACK/AFRICAN AMERICAN",
          "WHITE",
          "BLACK/AFRICAN AMERICAN",
          "BLACK/AFRICAN AMERICAN",
          "WHITE",
          "WHITE",
          "WHITE",
          "ASIAN - CHINESE",
          "WHITE",
          "HISPANIC OR LATINO",
          "WHITE",
          "WHITE - BRAZILIAN",
          "WHITE",
          "HISPANIC/LATINO - MEXICAN",
          "OTHER",
          "ASIAN - CAMBODIAN",
          "BLACK/AFRICAN AMERICAN",
          "BLACK/AFRICAN AMERICAN",
          "HISPANIC/LATINO - PUERTO RICAN",
          "WHITE",
          "WHITE",
          "WHITE",
          "WHITE",
          "WHITE",
          "BLACK/HAITIAN",
          "BLACK/AFRICAN AMERICAN",
          "BLACK/AFRICAN AMERICAN",
          "WHITE",
          "BLACK/AFRICAN AMERICAN",
          "BLACK/AFRICAN AMERICAN",
          "UNKNOWN/NOT SPECIFIED",
          "WHITE",
          "WHITE",
          "WHITE",
          "BLACK/AFRICAN AMERICAN",
          "BLACK/AFRICAN AMERICAN",
          "WHITE",
          "HISPANIC OR LATINO",
          "HISPANIC OR LATINO",
          "BLACK/AFRICAN AMERICAN",
          "WHITE",
          "WHITE",
          "WHITE",
          "WHITE",
          "WHITE",
          "WHITE",
          "ASIAN",
          "WHITE",
          "WHITE",
          "WHITE",
          "WHITE",
          "WHITE",
          "WHITE",
          "WHITE",
          "BLACK/AFRICAN AMERICAN",
          "WHITE",
          "WHITE",
          "WHITE",
          "PATIENT DECLINED TO ANSWER",
          "WHITE",
          "WHITE",
          "WHITE",
          "WHITE",
          "WHITE",
          "WHITE",
          "HISPANIC OR LATINO",
          "WHITE",
          "WHITE",
          "WHITE",
          "WHITE",
          "WHITE",
          "WHITE",
          "UNKNOWN/NOT SPECIFIED",
          "WHITE",
          "WHITE",
          "WHITE",
          "WHITE",
          "WHITE",
          "WHITE",
          "WHITE",
          "WHITE",
          "WHITE",
          "WHITE",
          "BLACK/AFRICAN AMERICAN",
          "WHITE",
          "WHITE",
          "BLACK/AFRICAN AMERICAN",
          "BLACK/AFRICAN AMERICAN",
          "BLACK/AFRICAN AMERICAN",
          "WHITE",
          "WHITE",
          "WHITE",
          "WHITE",
          "BLACK/AFRICAN AMERICAN",
          "OTHER",
          "WHITE",
          "WHITE",
          "WHITE",
          "WHITE",
          "WHITE",
          "WHITE",
          "WHITE",
          "WHITE",
          "ASIAN",
          "WHITE",
          "BLACK/AFRICAN AMERICAN",
          "WHITE",
          "WHITE",
          "WHITE",
          "WHITE",
          "WHITE",
          "WHITE",
          "ASIAN - CHINESE",
          "OTHER",
          "ASIAN",
          "HISPANIC OR LATINO",
          "BLACK/AFRICAN AMERICAN",
          "BLACK/AFRICAN AMERICAN",
          "PATIENT DECLINED TO ANSWER",
          "BLACK/AFRICAN AMERICAN",
          "WHITE",
          "WHITE",
          "BLACK/AFRICAN AMERICAN",
          "WHITE",
          "WHITE",
          "WHITE",
          "BLACK/AFRICAN AMERICAN",
          "WHITE",
          "BLACK/AFRICAN AMERICAN",
          "BLACK/AFRICAN AMERICAN",
          "WHITE",
          "WHITE",
          "WHITE",
          "WHITE",
          "WHITE - RUSSIAN",
          "WHITE",
          "WHITE",
          "WHITE",
          "WHITE",
          "WHITE",
          "WHITE",
          "WHITE",
          "WHITE",
          "WHITE",
          "WHITE",
          "UNABLE TO OBTAIN",
          "WHITE",
          "WHITE",
          "WHITE",
          "WHITE",
          "WHITE",
          "WHITE",
          "WHITE",
          "UNKNOWN/NOT SPECIFIED",
          "WHITE",
          "WHITE",
          "BLACK/AFRICAN AMERICAN",
          "BLACK/AFRICAN AMERICAN",
          "BLACK/AFRICAN AMERICAN",
          "WHITE",
          "WHITE",
          "BLACK/AFRICAN AMERICAN",
          "WHITE",
          "WHITE",
          "WHITE",
          "WHITE",
          "WHITE",
          "WHITE",
          "UNKNOWN/NOT SPECIFIED",
          "WHITE",
          "OTHER",
          "WHITE",
          "UNABLE TO OBTAIN",
          "WHITE",
          "WHITE",
          "WHITE",
          "WHITE",
          "BLACK/AFRICAN AMERICAN",
          "BLACK/AFRICAN AMERICAN",
          "BLACK/AFRICAN AMERICAN",
          "BLACK/AFRICAN AMERICAN",
          "BLACK/AFRICAN AMERICAN"
         ],
         "xaxis": "x",
         "yaxis": "y"
        },
        {
         "alignmentgroup": "True",
         "bingroup": "x",
         "histnorm": "probability density",
         "hovertemplate": "<b>Synthetic</b><br>Frequency: %{y}<extra></extra>",
         "legendgroup": "Synthetic",
         "marker": {
          "color": "#01E0C9",
          "pattern": {
           "shape": "/"
          }
         },
         "name": "Synthetic",
         "offsetgroup": "Synthetic",
         "orientation": "v",
         "showlegend": true,
         "type": "histogram",
         "x": [
          "WHITE",
          "WHITE",
          "WHITE",
          "WHITE",
          "WHITE",
          "WHITE",
          "BLACK/AFRICAN AMERICAN",
          "WHITE",
          "WHITE",
          "WHITE",
          "WHITE",
          "WHITE",
          "WHITE",
          "WHITE",
          "WHITE",
          "WHITE",
          "WHITE",
          "WHITE",
          "WHITE",
          "WHITE",
          "WHITE",
          "WHITE",
          "WHITE",
          "WHITE",
          "WHITE",
          "WHITE",
          "WHITE",
          "WHITE",
          "WHITE",
          "WHITE",
          "WHITE",
          "WHITE",
          "WHITE",
          "WHITE",
          "WHITE",
          "WHITE",
          "WHITE",
          "WHITE",
          "WHITE",
          "WHITE",
          "BLACK/AFRICAN AMERICAN",
          "WHITE",
          "WHITE",
          "WHITE",
          "WHITE",
          "WHITE",
          "WHITE",
          "WHITE",
          "WHITE",
          "WHITE",
          "WHITE",
          "WHITE",
          "WHITE",
          "WHITE",
          "WHITE",
          "WHITE",
          "WHITE",
          "WHITE",
          "WHITE",
          "WHITE",
          "WHITE",
          "WHITE",
          "WHITE",
          "WHITE",
          "WHITE",
          "WHITE",
          "WHITE",
          "WHITE",
          "WHITE",
          "BLACK/AFRICAN AMERICAN",
          "WHITE",
          "WHITE",
          "WHITE",
          "WHITE",
          "WHITE",
          "WHITE",
          "WHITE",
          "WHITE",
          "WHITE",
          "WHITE",
          "WHITE",
          "WHITE",
          "WHITE",
          "WHITE",
          "WHITE",
          "WHITE",
          "WHITE",
          "WHITE",
          "WHITE",
          "WHITE",
          "WHITE",
          "WHITE",
          "WHITE",
          "WHITE",
          "WHITE",
          "WHITE",
          "WHITE",
          "WHITE",
          "WHITE",
          "WHITE",
          "WHITE",
          "WHITE",
          "WHITE",
          "WHITE",
          "WHITE",
          "WHITE",
          "WHITE",
          "WHITE",
          "WHITE",
          "WHITE",
          "WHITE",
          "WHITE",
          "WHITE",
          "WHITE",
          "WHITE",
          "WHITE",
          "WHITE",
          "WHITE",
          "WHITE",
          "WHITE",
          "WHITE",
          "WHITE",
          "WHITE",
          "WHITE",
          "WHITE",
          "WHITE",
          "WHITE",
          "WHITE",
          "WHITE",
          "BLACK/AFRICAN AMERICAN",
          "WHITE",
          "WHITE",
          "WHITE",
          "WHITE",
          "WHITE",
          "WHITE",
          "WHITE",
          "WHITE",
          "WHITE",
          "WHITE",
          "WHITE",
          "WHITE",
          "WHITE",
          "WHITE",
          "WHITE",
          "WHITE",
          "WHITE",
          "WHITE",
          "WHITE",
          "WHITE",
          "WHITE",
          "WHITE",
          "WHITE",
          "WHITE",
          "WHITE",
          "WHITE",
          "WHITE",
          "WHITE",
          "WHITE",
          "WHITE",
          "WHITE",
          "WHITE",
          "WHITE",
          "WHITE",
          "WHITE",
          "WHITE",
          "WHITE",
          "WHITE",
          "WHITE",
          "WHITE",
          "WHITE",
          "WHITE",
          "WHITE",
          "WHITE",
          "WHITE",
          "WHITE",
          "WHITE",
          "WHITE",
          "WHITE",
          "WHITE",
          "WHITE",
          "WHITE",
          "WHITE",
          "WHITE",
          "WHITE",
          "WHITE",
          "WHITE",
          "WHITE",
          "WHITE",
          "WHITE",
          "WHITE",
          "WHITE",
          "WHITE",
          "WHITE",
          "WHITE",
          "WHITE",
          "WHITE",
          "WHITE",
          "WHITE",
          "WHITE",
          "WHITE",
          "WHITE",
          "WHITE",
          "BLACK/AFRICAN AMERICAN",
          "WHITE",
          "WHITE",
          "WHITE",
          "WHITE",
          "WHITE",
          "WHITE",
          "WHITE",
          "WHITE",
          "WHITE",
          "WHITE",
          "WHITE",
          "WHITE",
          "WHITE"
         ],
         "xaxis": "x",
         "yaxis": "y"
        }
       ],
       "layout": {
        "barmode": "group",
        "font": {
         "size": 18
        },
        "legend": {
         "title": {
          "text": "Data"
         },
         "tracegroupgap": 0
        },
        "margin": {
         "t": 60
        },
        "plot_bgcolor": "#F5F5F8",
        "template": {
         "data": {
          "bar": [
           {
            "error_x": {
             "color": "#2a3f5f"
            },
            "error_y": {
             "color": "#2a3f5f"
            },
            "marker": {
             "line": {
              "color": "#E5ECF6",
              "width": 0.5
             },
             "pattern": {
              "fillmode": "overlay",
              "size": 10,
              "solidity": 0.2
             }
            },
            "type": "bar"
           }
          ],
          "barpolar": [
           {
            "marker": {
             "line": {
              "color": "#E5ECF6",
              "width": 0.5
             },
             "pattern": {
              "fillmode": "overlay",
              "size": 10,
              "solidity": 0.2
             }
            },
            "type": "barpolar"
           }
          ],
          "carpet": [
           {
            "aaxis": {
             "endlinecolor": "#2a3f5f",
             "gridcolor": "white",
             "linecolor": "white",
             "minorgridcolor": "white",
             "startlinecolor": "#2a3f5f"
            },
            "baxis": {
             "endlinecolor": "#2a3f5f",
             "gridcolor": "white",
             "linecolor": "white",
             "minorgridcolor": "white",
             "startlinecolor": "#2a3f5f"
            },
            "type": "carpet"
           }
          ],
          "choropleth": [
           {
            "colorbar": {
             "outlinewidth": 0,
             "ticks": ""
            },
            "type": "choropleth"
           }
          ],
          "contour": [
           {
            "colorbar": {
             "outlinewidth": 0,
             "ticks": ""
            },
            "colorscale": [
             [
              0,
              "#0d0887"
             ],
             [
              0.1111111111111111,
              "#46039f"
             ],
             [
              0.2222222222222222,
              "#7201a8"
             ],
             [
              0.3333333333333333,
              "#9c179e"
             ],
             [
              0.4444444444444444,
              "#bd3786"
             ],
             [
              0.5555555555555556,
              "#d8576b"
             ],
             [
              0.6666666666666666,
              "#ed7953"
             ],
             [
              0.7777777777777778,
              "#fb9f3a"
             ],
             [
              0.8888888888888888,
              "#fdca26"
             ],
             [
              1,
              "#f0f921"
             ]
            ],
            "type": "contour"
           }
          ],
          "contourcarpet": [
           {
            "colorbar": {
             "outlinewidth": 0,
             "ticks": ""
            },
            "type": "contourcarpet"
           }
          ],
          "heatmap": [
           {
            "colorbar": {
             "outlinewidth": 0,
             "ticks": ""
            },
            "colorscale": [
             [
              0,
              "#0d0887"
             ],
             [
              0.1111111111111111,
              "#46039f"
             ],
             [
              0.2222222222222222,
              "#7201a8"
             ],
             [
              0.3333333333333333,
              "#9c179e"
             ],
             [
              0.4444444444444444,
              "#bd3786"
             ],
             [
              0.5555555555555556,
              "#d8576b"
             ],
             [
              0.6666666666666666,
              "#ed7953"
             ],
             [
              0.7777777777777778,
              "#fb9f3a"
             ],
             [
              0.8888888888888888,
              "#fdca26"
             ],
             [
              1,
              "#f0f921"
             ]
            ],
            "type": "heatmap"
           }
          ],
          "heatmapgl": [
           {
            "colorbar": {
             "outlinewidth": 0,
             "ticks": ""
            },
            "colorscale": [
             [
              0,
              "#0d0887"
             ],
             [
              0.1111111111111111,
              "#46039f"
             ],
             [
              0.2222222222222222,
              "#7201a8"
             ],
             [
              0.3333333333333333,
              "#9c179e"
             ],
             [
              0.4444444444444444,
              "#bd3786"
             ],
             [
              0.5555555555555556,
              "#d8576b"
             ],
             [
              0.6666666666666666,
              "#ed7953"
             ],
             [
              0.7777777777777778,
              "#fb9f3a"
             ],
             [
              0.8888888888888888,
              "#fdca26"
             ],
             [
              1,
              "#f0f921"
             ]
            ],
            "type": "heatmapgl"
           }
          ],
          "histogram": [
           {
            "marker": {
             "pattern": {
              "fillmode": "overlay",
              "size": 10,
              "solidity": 0.2
             }
            },
            "type": "histogram"
           }
          ],
          "histogram2d": [
           {
            "colorbar": {
             "outlinewidth": 0,
             "ticks": ""
            },
            "colorscale": [
             [
              0,
              "#0d0887"
             ],
             [
              0.1111111111111111,
              "#46039f"
             ],
             [
              0.2222222222222222,
              "#7201a8"
             ],
             [
              0.3333333333333333,
              "#9c179e"
             ],
             [
              0.4444444444444444,
              "#bd3786"
             ],
             [
              0.5555555555555556,
              "#d8576b"
             ],
             [
              0.6666666666666666,
              "#ed7953"
             ],
             [
              0.7777777777777778,
              "#fb9f3a"
             ],
             [
              0.8888888888888888,
              "#fdca26"
             ],
             [
              1,
              "#f0f921"
             ]
            ],
            "type": "histogram2d"
           }
          ],
          "histogram2dcontour": [
           {
            "colorbar": {
             "outlinewidth": 0,
             "ticks": ""
            },
            "colorscale": [
             [
              0,
              "#0d0887"
             ],
             [
              0.1111111111111111,
              "#46039f"
             ],
             [
              0.2222222222222222,
              "#7201a8"
             ],
             [
              0.3333333333333333,
              "#9c179e"
             ],
             [
              0.4444444444444444,
              "#bd3786"
             ],
             [
              0.5555555555555556,
              "#d8576b"
             ],
             [
              0.6666666666666666,
              "#ed7953"
             ],
             [
              0.7777777777777778,
              "#fb9f3a"
             ],
             [
              0.8888888888888888,
              "#fdca26"
             ],
             [
              1,
              "#f0f921"
             ]
            ],
            "type": "histogram2dcontour"
           }
          ],
          "mesh3d": [
           {
            "colorbar": {
             "outlinewidth": 0,
             "ticks": ""
            },
            "type": "mesh3d"
           }
          ],
          "parcoords": [
           {
            "line": {
             "colorbar": {
              "outlinewidth": 0,
              "ticks": ""
             }
            },
            "type": "parcoords"
           }
          ],
          "pie": [
           {
            "automargin": true,
            "type": "pie"
           }
          ],
          "scatter": [
           {
            "fillpattern": {
             "fillmode": "overlay",
             "size": 10,
             "solidity": 0.2
            },
            "type": "scatter"
           }
          ],
          "scatter3d": [
           {
            "line": {
             "colorbar": {
              "outlinewidth": 0,
              "ticks": ""
             }
            },
            "marker": {
             "colorbar": {
              "outlinewidth": 0,
              "ticks": ""
             }
            },
            "type": "scatter3d"
           }
          ],
          "scattercarpet": [
           {
            "marker": {
             "colorbar": {
              "outlinewidth": 0,
              "ticks": ""
             }
            },
            "type": "scattercarpet"
           }
          ],
          "scattergeo": [
           {
            "marker": {
             "colorbar": {
              "outlinewidth": 0,
              "ticks": ""
             }
            },
            "type": "scattergeo"
           }
          ],
          "scattergl": [
           {
            "marker": {
             "colorbar": {
              "outlinewidth": 0,
              "ticks": ""
             }
            },
            "type": "scattergl"
           }
          ],
          "scattermapbox": [
           {
            "marker": {
             "colorbar": {
              "outlinewidth": 0,
              "ticks": ""
             }
            },
            "type": "scattermapbox"
           }
          ],
          "scatterpolar": [
           {
            "marker": {
             "colorbar": {
              "outlinewidth": 0,
              "ticks": ""
             }
            },
            "type": "scatterpolar"
           }
          ],
          "scatterpolargl": [
           {
            "marker": {
             "colorbar": {
              "outlinewidth": 0,
              "ticks": ""
             }
            },
            "type": "scatterpolargl"
           }
          ],
          "scatterternary": [
           {
            "marker": {
             "colorbar": {
              "outlinewidth": 0,
              "ticks": ""
             }
            },
            "type": "scatterternary"
           }
          ],
          "surface": [
           {
            "colorbar": {
             "outlinewidth": 0,
             "ticks": ""
            },
            "colorscale": [
             [
              0,
              "#0d0887"
             ],
             [
              0.1111111111111111,
              "#46039f"
             ],
             [
              0.2222222222222222,
              "#7201a8"
             ],
             [
              0.3333333333333333,
              "#9c179e"
             ],
             [
              0.4444444444444444,
              "#bd3786"
             ],
             [
              0.5555555555555556,
              "#d8576b"
             ],
             [
              0.6666666666666666,
              "#ed7953"
             ],
             [
              0.7777777777777778,
              "#fb9f3a"
             ],
             [
              0.8888888888888888,
              "#fdca26"
             ],
             [
              1,
              "#f0f921"
             ]
            ],
            "type": "surface"
           }
          ],
          "table": [
           {
            "cells": {
             "fill": {
              "color": "#EBF0F8"
             },
             "line": {
              "color": "white"
             }
            },
            "header": {
             "fill": {
              "color": "#C8D4E3"
             },
             "line": {
              "color": "white"
             }
            },
            "type": "table"
           }
          ]
         },
         "layout": {
          "annotationdefaults": {
           "arrowcolor": "#2a3f5f",
           "arrowhead": 0,
           "arrowwidth": 1
          },
          "autotypenumbers": "strict",
          "coloraxis": {
           "colorbar": {
            "outlinewidth": 0,
            "ticks": ""
           }
          },
          "colorscale": {
           "diverging": [
            [
             0,
             "#8e0152"
            ],
            [
             0.1,
             "#c51b7d"
            ],
            [
             0.2,
             "#de77ae"
            ],
            [
             0.3,
             "#f1b6da"
            ],
            [
             0.4,
             "#fde0ef"
            ],
            [
             0.5,
             "#f7f7f7"
            ],
            [
             0.6,
             "#e6f5d0"
            ],
            [
             0.7,
             "#b8e186"
            ],
            [
             0.8,
             "#7fbc41"
            ],
            [
             0.9,
             "#4d9221"
            ],
            [
             1,
             "#276419"
            ]
           ],
           "sequential": [
            [
             0,
             "#0d0887"
            ],
            [
             0.1111111111111111,
             "#46039f"
            ],
            [
             0.2222222222222222,
             "#7201a8"
            ],
            [
             0.3333333333333333,
             "#9c179e"
            ],
            [
             0.4444444444444444,
             "#bd3786"
            ],
            [
             0.5555555555555556,
             "#d8576b"
            ],
            [
             0.6666666666666666,
             "#ed7953"
            ],
            [
             0.7777777777777778,
             "#fb9f3a"
            ],
            [
             0.8888888888888888,
             "#fdca26"
            ],
            [
             1,
             "#f0f921"
            ]
           ],
           "sequentialminus": [
            [
             0,
             "#0d0887"
            ],
            [
             0.1111111111111111,
             "#46039f"
            ],
            [
             0.2222222222222222,
             "#7201a8"
            ],
            [
             0.3333333333333333,
             "#9c179e"
            ],
            [
             0.4444444444444444,
             "#bd3786"
            ],
            [
             0.5555555555555556,
             "#d8576b"
            ],
            [
             0.6666666666666666,
             "#ed7953"
            ],
            [
             0.7777777777777778,
             "#fb9f3a"
            ],
            [
             0.8888888888888888,
             "#fdca26"
            ],
            [
             1,
             "#f0f921"
            ]
           ]
          },
          "colorway": [
           "#636efa",
           "#EF553B",
           "#00cc96",
           "#ab63fa",
           "#FFA15A",
           "#19d3f3",
           "#FF6692",
           "#B6E880",
           "#FF97FF",
           "#FECB52"
          ],
          "font": {
           "color": "#2a3f5f"
          },
          "geo": {
           "bgcolor": "white",
           "lakecolor": "white",
           "landcolor": "#E5ECF6",
           "showlakes": true,
           "showland": true,
           "subunitcolor": "white"
          },
          "hoverlabel": {
           "align": "left"
          },
          "hovermode": "closest",
          "mapbox": {
           "style": "light"
          },
          "paper_bgcolor": "white",
          "plot_bgcolor": "#E5ECF6",
          "polar": {
           "angularaxis": {
            "gridcolor": "white",
            "linecolor": "white",
            "ticks": ""
           },
           "bgcolor": "#E5ECF6",
           "radialaxis": {
            "gridcolor": "white",
            "linecolor": "white",
            "ticks": ""
           }
          },
          "scene": {
           "xaxis": {
            "backgroundcolor": "#E5ECF6",
            "gridcolor": "white",
            "gridwidth": 2,
            "linecolor": "white",
            "showbackground": true,
            "ticks": "",
            "zerolinecolor": "white"
           },
           "yaxis": {
            "backgroundcolor": "#E5ECF6",
            "gridcolor": "white",
            "gridwidth": 2,
            "linecolor": "white",
            "showbackground": true,
            "ticks": "",
            "zerolinecolor": "white"
           },
           "zaxis": {
            "backgroundcolor": "#E5ECF6",
            "gridcolor": "white",
            "gridwidth": 2,
            "linecolor": "white",
            "showbackground": true,
            "ticks": "",
            "zerolinecolor": "white"
           }
          },
          "shapedefaults": {
           "line": {
            "color": "#2a3f5f"
           }
          },
          "ternary": {
           "aaxis": {
            "gridcolor": "white",
            "linecolor": "white",
            "ticks": ""
           },
           "baxis": {
            "gridcolor": "white",
            "linecolor": "white",
            "ticks": ""
           },
           "bgcolor": "#E5ECF6",
           "caxis": {
            "gridcolor": "white",
            "linecolor": "white",
            "ticks": ""
           }
          },
          "title": {
           "x": 0.05
          },
          "xaxis": {
           "automargin": true,
           "gridcolor": "white",
           "linecolor": "white",
           "ticks": "",
           "title": {
            "standoff": 15
           },
           "zerolinecolor": "white",
           "zerolinewidth": 2
          },
          "yaxis": {
           "automargin": true,
           "gridcolor": "white",
           "linecolor": "white",
           "ticks": "",
           "title": {
            "standoff": 15
           },
           "zerolinecolor": "white",
           "zerolinewidth": 2
          }
         }
        },
        "title": {
         "text": "Real vs. Synthetic Data for column 'ethnicity'"
        },
        "xaxis": {
         "anchor": "y",
         "domain": [
          0,
          1
         ],
         "title": {
          "text": "Category"
         }
        },
        "yaxis": {
         "anchor": "x",
         "domain": [
          0,
          1
         ],
         "title": {
          "text": "Frequency"
         }
        }
       }
      }
     },
     "metadata": {},
     "output_type": "display_data"
    },
    {
     "data": {
      "application/vnd.plotly.v1+json": {
       "config": {
        "plotlyServerURL": "https://plot.ly"
       },
       "data": [
        {
         "alignmentgroup": "True",
         "bingroup": "x",
         "histnorm": "probability density",
         "hovertemplate": "<b>Real</b><br>Frequency: %{y}<extra></extra>",
         "legendgroup": "Real",
         "marker": {
          "color": "#000036",
          "pattern": {
           "shape": ""
          }
         },
         "name": "Real",
         "offsetgroup": "Real",
         "orientation": "v",
         "showlegend": true,
         "type": "histogram",
         "x": [
          "EMERGENCY",
          "EMERGENCY",
          "EMERGENCY",
          "EMERGENCY",
          "EMERGENCY",
          "EMERGENCY",
          "EMERGENCY",
          "EMERGENCY",
          "EMERGENCY",
          "EMERGENCY",
          "EMERGENCY",
          "EMERGENCY",
          "EMERGENCY",
          "EMERGENCY",
          "EMERGENCY",
          "EMERGENCY",
          "EMERGENCY",
          "EMERGENCY",
          "URGENT",
          "EMERGENCY",
          "EMERGENCY",
          "EMERGENCY",
          "EMERGENCY",
          "EMERGENCY",
          "EMERGENCY",
          "EMERGENCY",
          "URGENT",
          "EMERGENCY",
          "EMERGENCY",
          "EMERGENCY",
          "EMERGENCY",
          "EMERGENCY",
          "EMERGENCY",
          "EMERGENCY",
          "EMERGENCY",
          "EMERGENCY",
          "EMERGENCY",
          "EMERGENCY",
          "EMERGENCY",
          "EMERGENCY",
          "EMERGENCY",
          "EMERGENCY",
          "EMERGENCY",
          "EMERGENCY",
          "EMERGENCY",
          "EMERGENCY",
          "EMERGENCY",
          "EMERGENCY",
          "EMERGENCY",
          "EMERGENCY",
          "EMERGENCY",
          "EMERGENCY",
          "EMERGENCY",
          "EMERGENCY",
          "EMERGENCY",
          "EMERGENCY",
          "EMERGENCY",
          "EMERGENCY",
          "EMERGENCY",
          "EMERGENCY",
          "EMERGENCY",
          "EMERGENCY",
          "EMERGENCY",
          "EMERGENCY",
          "EMERGENCY",
          "EMERGENCY",
          "EMERGENCY",
          "EMERGENCY",
          "EMERGENCY",
          "EMERGENCY",
          "EMERGENCY",
          "EMERGENCY",
          "EMERGENCY",
          "EMERGENCY",
          "EMERGENCY",
          "EMERGENCY",
          "EMERGENCY",
          "EMERGENCY",
          "EMERGENCY",
          "EMERGENCY",
          "EMERGENCY",
          "EMERGENCY",
          "EMERGENCY",
          "EMERGENCY",
          "EMERGENCY",
          "EMERGENCY",
          "URGENT",
          "EMERGENCY",
          "EMERGENCY",
          "EMERGENCY",
          "EMERGENCY",
          "EMERGENCY",
          "EMERGENCY",
          "EMERGENCY",
          "EMERGENCY",
          "EMERGENCY",
          "EMERGENCY",
          "EMERGENCY",
          "EMERGENCY",
          "EMERGENCY",
          "EMERGENCY",
          "EMERGENCY",
          "EMERGENCY",
          "EMERGENCY",
          "EMERGENCY",
          "EMERGENCY",
          "EMERGENCY",
          "EMERGENCY",
          "EMERGENCY",
          "EMERGENCY",
          "EMERGENCY",
          "EMERGENCY",
          "EMERGENCY",
          "EMERGENCY",
          "EMERGENCY",
          "EMERGENCY",
          "EMERGENCY",
          "EMERGENCY",
          "EMERGENCY",
          "EMERGENCY",
          "EMERGENCY",
          "EMERGENCY",
          "EMERGENCY",
          "ELECTIVE",
          "EMERGENCY",
          "EMERGENCY",
          "EMERGENCY",
          "EMERGENCY",
          "EMERGENCY",
          "EMERGENCY",
          "EMERGENCY",
          "EMERGENCY",
          "EMERGENCY",
          "EMERGENCY",
          "EMERGENCY",
          "EMERGENCY",
          "EMERGENCY",
          "EMERGENCY",
          "EMERGENCY",
          "EMERGENCY",
          "EMERGENCY",
          "URGENT",
          "EMERGENCY",
          "EMERGENCY",
          "EMERGENCY",
          "EMERGENCY",
          "EMERGENCY",
          "EMERGENCY",
          "EMERGENCY",
          "EMERGENCY",
          "EMERGENCY",
          "EMERGENCY",
          "EMERGENCY",
          "EMERGENCY",
          "EMERGENCY",
          "EMERGENCY",
          "EMERGENCY",
          "EMERGENCY",
          "ELECTIVE",
          "EMERGENCY",
          "EMERGENCY",
          "EMERGENCY",
          "EMERGENCY",
          "EMERGENCY",
          "EMERGENCY",
          "EMERGENCY",
          "EMERGENCY",
          "EMERGENCY",
          "EMERGENCY",
          "EMERGENCY",
          "EMERGENCY",
          "EMERGENCY",
          "EMERGENCY",
          "EMERGENCY",
          "EMERGENCY",
          "EMERGENCY",
          "EMERGENCY",
          "EMERGENCY",
          "EMERGENCY",
          "EMERGENCY",
          "ELECTIVE",
          "EMERGENCY",
          "EMERGENCY",
          "EMERGENCY",
          "EMERGENCY",
          "EMERGENCY",
          "EMERGENCY",
          "EMERGENCY",
          "EMERGENCY",
          "EMERGENCY",
          "URGENT",
          "EMERGENCY",
          "EMERGENCY",
          "EMERGENCY",
          "EMERGENCY",
          "EMERGENCY",
          "EMERGENCY",
          "EMERGENCY",
          "EMERGENCY",
          "EMERGENCY",
          "EMERGENCY",
          "EMERGENCY",
          "EMERGENCY",
          "URGENT",
          "EMERGENCY",
          "EMERGENCY",
          "EMERGENCY",
          "URGENT",
          "EMERGENCY",
          "EMERGENCY",
          "EMERGENCY",
          "EMERGENCY",
          "EMERGENCY",
          "EMERGENCY",
          "EMERGENCY",
          "EMERGENCY",
          "EMERGENCY"
         ],
         "xaxis": "x",
         "yaxis": "y"
        },
        {
         "alignmentgroup": "True",
         "bingroup": "x",
         "histnorm": "probability density",
         "hovertemplate": "<b>Synthetic</b><br>Frequency: %{y}<extra></extra>",
         "legendgroup": "Synthetic",
         "marker": {
          "color": "#01E0C9",
          "pattern": {
           "shape": "/"
          }
         },
         "name": "Synthetic",
         "offsetgroup": "Synthetic",
         "orientation": "v",
         "showlegend": true,
         "type": "histogram",
         "x": [
          "EMERGENCY",
          "EMERGENCY",
          "EMERGENCY",
          "EMERGENCY",
          "EMERGENCY",
          "EMERGENCY",
          "EMERGENCY",
          "EMERGENCY",
          "EMERGENCY",
          "EMERGENCY",
          "EMERGENCY",
          "EMERGENCY",
          "EMERGENCY",
          "EMERGENCY",
          "EMERGENCY",
          "EMERGENCY",
          "EMERGENCY",
          "EMERGENCY",
          "EMERGENCY",
          "EMERGENCY",
          "EMERGENCY",
          "EMERGENCY",
          "EMERGENCY",
          "EMERGENCY",
          "EMERGENCY",
          "EMERGENCY",
          "EMERGENCY",
          "EMERGENCY",
          "EMERGENCY",
          "EMERGENCY",
          "EMERGENCY",
          "EMERGENCY",
          "EMERGENCY",
          "EMERGENCY",
          "EMERGENCY",
          "EMERGENCY",
          "EMERGENCY",
          "EMERGENCY",
          "EMERGENCY",
          "EMERGENCY",
          "EMERGENCY",
          "EMERGENCY",
          "EMERGENCY",
          "EMERGENCY",
          "EMERGENCY",
          "EMERGENCY",
          "EMERGENCY",
          "EMERGENCY",
          "EMERGENCY",
          "EMERGENCY",
          "EMERGENCY",
          "EMERGENCY",
          "EMERGENCY",
          "EMERGENCY",
          "EMERGENCY",
          "EMERGENCY",
          "EMERGENCY",
          "EMERGENCY",
          "EMERGENCY",
          "EMERGENCY",
          "EMERGENCY",
          "EMERGENCY",
          "EMERGENCY",
          "EMERGENCY",
          "EMERGENCY",
          "EMERGENCY",
          "EMERGENCY",
          "EMERGENCY",
          "EMERGENCY",
          "EMERGENCY",
          "EMERGENCY",
          "EMERGENCY",
          "EMERGENCY",
          "EMERGENCY",
          "EMERGENCY",
          "EMERGENCY",
          "EMERGENCY",
          "EMERGENCY",
          "EMERGENCY",
          "EMERGENCY",
          "EMERGENCY",
          "EMERGENCY",
          "EMERGENCY",
          "EMERGENCY",
          "EMERGENCY",
          "EMERGENCY",
          "EMERGENCY",
          "EMERGENCY",
          "EMERGENCY",
          "EMERGENCY",
          "EMERGENCY",
          "EMERGENCY",
          "EMERGENCY",
          "EMERGENCY",
          "EMERGENCY",
          "EMERGENCY",
          "EMERGENCY",
          "EMERGENCY",
          "EMERGENCY",
          "EMERGENCY",
          "EMERGENCY",
          "EMERGENCY",
          "EMERGENCY",
          "EMERGENCY",
          "EMERGENCY",
          "EMERGENCY",
          "EMERGENCY",
          "EMERGENCY",
          "EMERGENCY",
          "EMERGENCY",
          "EMERGENCY",
          "EMERGENCY",
          "EMERGENCY",
          "EMERGENCY",
          "EMERGENCY",
          "EMERGENCY",
          "EMERGENCY",
          "EMERGENCY",
          "EMERGENCY",
          "EMERGENCY",
          "EMERGENCY",
          "EMERGENCY",
          "EMERGENCY",
          "EMERGENCY",
          "EMERGENCY",
          "EMERGENCY",
          "EMERGENCY",
          "EMERGENCY",
          "EMERGENCY",
          "EMERGENCY",
          "EMERGENCY",
          "EMERGENCY",
          "EMERGENCY",
          "EMERGENCY",
          "EMERGENCY",
          "EMERGENCY",
          "EMERGENCY",
          "EMERGENCY",
          "EMERGENCY",
          "EMERGENCY",
          "EMERGENCY",
          "EMERGENCY",
          "EMERGENCY",
          "EMERGENCY",
          "EMERGENCY",
          "EMERGENCY",
          "EMERGENCY",
          "EMERGENCY",
          "EMERGENCY",
          "EMERGENCY",
          "EMERGENCY",
          "EMERGENCY",
          "EMERGENCY",
          "EMERGENCY",
          "EMERGENCY",
          "EMERGENCY",
          "EMERGENCY",
          "EMERGENCY",
          "EMERGENCY",
          "EMERGENCY",
          "EMERGENCY",
          "EMERGENCY",
          "EMERGENCY",
          "EMERGENCY",
          "EMERGENCY",
          "EMERGENCY",
          "EMERGENCY",
          "EMERGENCY",
          "EMERGENCY",
          "EMERGENCY",
          "EMERGENCY",
          "EMERGENCY",
          "EMERGENCY",
          "EMERGENCY",
          "EMERGENCY",
          "EMERGENCY",
          "EMERGENCY",
          "EMERGENCY",
          "EMERGENCY",
          "EMERGENCY",
          "EMERGENCY",
          "EMERGENCY",
          "EMERGENCY",
          "EMERGENCY",
          "EMERGENCY",
          "EMERGENCY",
          "EMERGENCY",
          "EMERGENCY",
          "EMERGENCY",
          "EMERGENCY",
          "EMERGENCY",
          "EMERGENCY",
          "EMERGENCY",
          "EMERGENCY",
          "EMERGENCY",
          "EMERGENCY",
          "EMERGENCY",
          "EMERGENCY",
          "EMERGENCY",
          "EMERGENCY",
          "EMERGENCY",
          "EMERGENCY",
          "EMERGENCY",
          "EMERGENCY",
          "EMERGENCY",
          "EMERGENCY",
          "EMERGENCY",
          "EMERGENCY",
          "EMERGENCY",
          "EMERGENCY",
          "EMERGENCY",
          "EMERGENCY",
          "EMERGENCY",
          "EMERGENCY",
          "EMERGENCY",
          "EMERGENCY",
          "EMERGENCY"
         ],
         "xaxis": "x",
         "yaxis": "y"
        }
       ],
       "layout": {
        "barmode": "group",
        "font": {
         "size": 18
        },
        "legend": {
         "title": {
          "text": "Data"
         },
         "tracegroupgap": 0
        },
        "margin": {
         "t": 60
        },
        "plot_bgcolor": "#F5F5F8",
        "template": {
         "data": {
          "bar": [
           {
            "error_x": {
             "color": "#2a3f5f"
            },
            "error_y": {
             "color": "#2a3f5f"
            },
            "marker": {
             "line": {
              "color": "#E5ECF6",
              "width": 0.5
             },
             "pattern": {
              "fillmode": "overlay",
              "size": 10,
              "solidity": 0.2
             }
            },
            "type": "bar"
           }
          ],
          "barpolar": [
           {
            "marker": {
             "line": {
              "color": "#E5ECF6",
              "width": 0.5
             },
             "pattern": {
              "fillmode": "overlay",
              "size": 10,
              "solidity": 0.2
             }
            },
            "type": "barpolar"
           }
          ],
          "carpet": [
           {
            "aaxis": {
             "endlinecolor": "#2a3f5f",
             "gridcolor": "white",
             "linecolor": "white",
             "minorgridcolor": "white",
             "startlinecolor": "#2a3f5f"
            },
            "baxis": {
             "endlinecolor": "#2a3f5f",
             "gridcolor": "white",
             "linecolor": "white",
             "minorgridcolor": "white",
             "startlinecolor": "#2a3f5f"
            },
            "type": "carpet"
           }
          ],
          "choropleth": [
           {
            "colorbar": {
             "outlinewidth": 0,
             "ticks": ""
            },
            "type": "choropleth"
           }
          ],
          "contour": [
           {
            "colorbar": {
             "outlinewidth": 0,
             "ticks": ""
            },
            "colorscale": [
             [
              0,
              "#0d0887"
             ],
             [
              0.1111111111111111,
              "#46039f"
             ],
             [
              0.2222222222222222,
              "#7201a8"
             ],
             [
              0.3333333333333333,
              "#9c179e"
             ],
             [
              0.4444444444444444,
              "#bd3786"
             ],
             [
              0.5555555555555556,
              "#d8576b"
             ],
             [
              0.6666666666666666,
              "#ed7953"
             ],
             [
              0.7777777777777778,
              "#fb9f3a"
             ],
             [
              0.8888888888888888,
              "#fdca26"
             ],
             [
              1,
              "#f0f921"
             ]
            ],
            "type": "contour"
           }
          ],
          "contourcarpet": [
           {
            "colorbar": {
             "outlinewidth": 0,
             "ticks": ""
            },
            "type": "contourcarpet"
           }
          ],
          "heatmap": [
           {
            "colorbar": {
             "outlinewidth": 0,
             "ticks": ""
            },
            "colorscale": [
             [
              0,
              "#0d0887"
             ],
             [
              0.1111111111111111,
              "#46039f"
             ],
             [
              0.2222222222222222,
              "#7201a8"
             ],
             [
              0.3333333333333333,
              "#9c179e"
             ],
             [
              0.4444444444444444,
              "#bd3786"
             ],
             [
              0.5555555555555556,
              "#d8576b"
             ],
             [
              0.6666666666666666,
              "#ed7953"
             ],
             [
              0.7777777777777778,
              "#fb9f3a"
             ],
             [
              0.8888888888888888,
              "#fdca26"
             ],
             [
              1,
              "#f0f921"
             ]
            ],
            "type": "heatmap"
           }
          ],
          "heatmapgl": [
           {
            "colorbar": {
             "outlinewidth": 0,
             "ticks": ""
            },
            "colorscale": [
             [
              0,
              "#0d0887"
             ],
             [
              0.1111111111111111,
              "#46039f"
             ],
             [
              0.2222222222222222,
              "#7201a8"
             ],
             [
              0.3333333333333333,
              "#9c179e"
             ],
             [
              0.4444444444444444,
              "#bd3786"
             ],
             [
              0.5555555555555556,
              "#d8576b"
             ],
             [
              0.6666666666666666,
              "#ed7953"
             ],
             [
              0.7777777777777778,
              "#fb9f3a"
             ],
             [
              0.8888888888888888,
              "#fdca26"
             ],
             [
              1,
              "#f0f921"
             ]
            ],
            "type": "heatmapgl"
           }
          ],
          "histogram": [
           {
            "marker": {
             "pattern": {
              "fillmode": "overlay",
              "size": 10,
              "solidity": 0.2
             }
            },
            "type": "histogram"
           }
          ],
          "histogram2d": [
           {
            "colorbar": {
             "outlinewidth": 0,
             "ticks": ""
            },
            "colorscale": [
             [
              0,
              "#0d0887"
             ],
             [
              0.1111111111111111,
              "#46039f"
             ],
             [
              0.2222222222222222,
              "#7201a8"
             ],
             [
              0.3333333333333333,
              "#9c179e"
             ],
             [
              0.4444444444444444,
              "#bd3786"
             ],
             [
              0.5555555555555556,
              "#d8576b"
             ],
             [
              0.6666666666666666,
              "#ed7953"
             ],
             [
              0.7777777777777778,
              "#fb9f3a"
             ],
             [
              0.8888888888888888,
              "#fdca26"
             ],
             [
              1,
              "#f0f921"
             ]
            ],
            "type": "histogram2d"
           }
          ],
          "histogram2dcontour": [
           {
            "colorbar": {
             "outlinewidth": 0,
             "ticks": ""
            },
            "colorscale": [
             [
              0,
              "#0d0887"
             ],
             [
              0.1111111111111111,
              "#46039f"
             ],
             [
              0.2222222222222222,
              "#7201a8"
             ],
             [
              0.3333333333333333,
              "#9c179e"
             ],
             [
              0.4444444444444444,
              "#bd3786"
             ],
             [
              0.5555555555555556,
              "#d8576b"
             ],
             [
              0.6666666666666666,
              "#ed7953"
             ],
             [
              0.7777777777777778,
              "#fb9f3a"
             ],
             [
              0.8888888888888888,
              "#fdca26"
             ],
             [
              1,
              "#f0f921"
             ]
            ],
            "type": "histogram2dcontour"
           }
          ],
          "mesh3d": [
           {
            "colorbar": {
             "outlinewidth": 0,
             "ticks": ""
            },
            "type": "mesh3d"
           }
          ],
          "parcoords": [
           {
            "line": {
             "colorbar": {
              "outlinewidth": 0,
              "ticks": ""
             }
            },
            "type": "parcoords"
           }
          ],
          "pie": [
           {
            "automargin": true,
            "type": "pie"
           }
          ],
          "scatter": [
           {
            "fillpattern": {
             "fillmode": "overlay",
             "size": 10,
             "solidity": 0.2
            },
            "type": "scatter"
           }
          ],
          "scatter3d": [
           {
            "line": {
             "colorbar": {
              "outlinewidth": 0,
              "ticks": ""
             }
            },
            "marker": {
             "colorbar": {
              "outlinewidth": 0,
              "ticks": ""
             }
            },
            "type": "scatter3d"
           }
          ],
          "scattercarpet": [
           {
            "marker": {
             "colorbar": {
              "outlinewidth": 0,
              "ticks": ""
             }
            },
            "type": "scattercarpet"
           }
          ],
          "scattergeo": [
           {
            "marker": {
             "colorbar": {
              "outlinewidth": 0,
              "ticks": ""
             }
            },
            "type": "scattergeo"
           }
          ],
          "scattergl": [
           {
            "marker": {
             "colorbar": {
              "outlinewidth": 0,
              "ticks": ""
             }
            },
            "type": "scattergl"
           }
          ],
          "scattermapbox": [
           {
            "marker": {
             "colorbar": {
              "outlinewidth": 0,
              "ticks": ""
             }
            },
            "type": "scattermapbox"
           }
          ],
          "scatterpolar": [
           {
            "marker": {
             "colorbar": {
              "outlinewidth": 0,
              "ticks": ""
             }
            },
            "type": "scatterpolar"
           }
          ],
          "scatterpolargl": [
           {
            "marker": {
             "colorbar": {
              "outlinewidth": 0,
              "ticks": ""
             }
            },
            "type": "scatterpolargl"
           }
          ],
          "scatterternary": [
           {
            "marker": {
             "colorbar": {
              "outlinewidth": 0,
              "ticks": ""
             }
            },
            "type": "scatterternary"
           }
          ],
          "surface": [
           {
            "colorbar": {
             "outlinewidth": 0,
             "ticks": ""
            },
            "colorscale": [
             [
              0,
              "#0d0887"
             ],
             [
              0.1111111111111111,
              "#46039f"
             ],
             [
              0.2222222222222222,
              "#7201a8"
             ],
             [
              0.3333333333333333,
              "#9c179e"
             ],
             [
              0.4444444444444444,
              "#bd3786"
             ],
             [
              0.5555555555555556,
              "#d8576b"
             ],
             [
              0.6666666666666666,
              "#ed7953"
             ],
             [
              0.7777777777777778,
              "#fb9f3a"
             ],
             [
              0.8888888888888888,
              "#fdca26"
             ],
             [
              1,
              "#f0f921"
             ]
            ],
            "type": "surface"
           }
          ],
          "table": [
           {
            "cells": {
             "fill": {
              "color": "#EBF0F8"
             },
             "line": {
              "color": "white"
             }
            },
            "header": {
             "fill": {
              "color": "#C8D4E3"
             },
             "line": {
              "color": "white"
             }
            },
            "type": "table"
           }
          ]
         },
         "layout": {
          "annotationdefaults": {
           "arrowcolor": "#2a3f5f",
           "arrowhead": 0,
           "arrowwidth": 1
          },
          "autotypenumbers": "strict",
          "coloraxis": {
           "colorbar": {
            "outlinewidth": 0,
            "ticks": ""
           }
          },
          "colorscale": {
           "diverging": [
            [
             0,
             "#8e0152"
            ],
            [
             0.1,
             "#c51b7d"
            ],
            [
             0.2,
             "#de77ae"
            ],
            [
             0.3,
             "#f1b6da"
            ],
            [
             0.4,
             "#fde0ef"
            ],
            [
             0.5,
             "#f7f7f7"
            ],
            [
             0.6,
             "#e6f5d0"
            ],
            [
             0.7,
             "#b8e186"
            ],
            [
             0.8,
             "#7fbc41"
            ],
            [
             0.9,
             "#4d9221"
            ],
            [
             1,
             "#276419"
            ]
           ],
           "sequential": [
            [
             0,
             "#0d0887"
            ],
            [
             0.1111111111111111,
             "#46039f"
            ],
            [
             0.2222222222222222,
             "#7201a8"
            ],
            [
             0.3333333333333333,
             "#9c179e"
            ],
            [
             0.4444444444444444,
             "#bd3786"
            ],
            [
             0.5555555555555556,
             "#d8576b"
            ],
            [
             0.6666666666666666,
             "#ed7953"
            ],
            [
             0.7777777777777778,
             "#fb9f3a"
            ],
            [
             0.8888888888888888,
             "#fdca26"
            ],
            [
             1,
             "#f0f921"
            ]
           ],
           "sequentialminus": [
            [
             0,
             "#0d0887"
            ],
            [
             0.1111111111111111,
             "#46039f"
            ],
            [
             0.2222222222222222,
             "#7201a8"
            ],
            [
             0.3333333333333333,
             "#9c179e"
            ],
            [
             0.4444444444444444,
             "#bd3786"
            ],
            [
             0.5555555555555556,
             "#d8576b"
            ],
            [
             0.6666666666666666,
             "#ed7953"
            ],
            [
             0.7777777777777778,
             "#fb9f3a"
            ],
            [
             0.8888888888888888,
             "#fdca26"
            ],
            [
             1,
             "#f0f921"
            ]
           ]
          },
          "colorway": [
           "#636efa",
           "#EF553B",
           "#00cc96",
           "#ab63fa",
           "#FFA15A",
           "#19d3f3",
           "#FF6692",
           "#B6E880",
           "#FF97FF",
           "#FECB52"
          ],
          "font": {
           "color": "#2a3f5f"
          },
          "geo": {
           "bgcolor": "white",
           "lakecolor": "white",
           "landcolor": "#E5ECF6",
           "showlakes": true,
           "showland": true,
           "subunitcolor": "white"
          },
          "hoverlabel": {
           "align": "left"
          },
          "hovermode": "closest",
          "mapbox": {
           "style": "light"
          },
          "paper_bgcolor": "white",
          "plot_bgcolor": "#E5ECF6",
          "polar": {
           "angularaxis": {
            "gridcolor": "white",
            "linecolor": "white",
            "ticks": ""
           },
           "bgcolor": "#E5ECF6",
           "radialaxis": {
            "gridcolor": "white",
            "linecolor": "white",
            "ticks": ""
           }
          },
          "scene": {
           "xaxis": {
            "backgroundcolor": "#E5ECF6",
            "gridcolor": "white",
            "gridwidth": 2,
            "linecolor": "white",
            "showbackground": true,
            "ticks": "",
            "zerolinecolor": "white"
           },
           "yaxis": {
            "backgroundcolor": "#E5ECF6",
            "gridcolor": "white",
            "gridwidth": 2,
            "linecolor": "white",
            "showbackground": true,
            "ticks": "",
            "zerolinecolor": "white"
           },
           "zaxis": {
            "backgroundcolor": "#E5ECF6",
            "gridcolor": "white",
            "gridwidth": 2,
            "linecolor": "white",
            "showbackground": true,
            "ticks": "",
            "zerolinecolor": "white"
           }
          },
          "shapedefaults": {
           "line": {
            "color": "#2a3f5f"
           }
          },
          "ternary": {
           "aaxis": {
            "gridcolor": "white",
            "linecolor": "white",
            "ticks": ""
           },
           "baxis": {
            "gridcolor": "white",
            "linecolor": "white",
            "ticks": ""
           },
           "bgcolor": "#E5ECF6",
           "caxis": {
            "gridcolor": "white",
            "linecolor": "white",
            "ticks": ""
           }
          },
          "title": {
           "x": 0.05
          },
          "xaxis": {
           "automargin": true,
           "gridcolor": "white",
           "linecolor": "white",
           "ticks": "",
           "title": {
            "standoff": 15
           },
           "zerolinecolor": "white",
           "zerolinewidth": 2
          },
          "yaxis": {
           "automargin": true,
           "gridcolor": "white",
           "linecolor": "white",
           "ticks": "",
           "title": {
            "standoff": 15
           },
           "zerolinecolor": "white",
           "zerolinewidth": 2
          }
         }
        },
        "title": {
         "text": "Real vs. Synthetic Data for column 'admission_type'"
        },
        "xaxis": {
         "anchor": "y",
         "domain": [
          0,
          1
         ],
         "title": {
          "text": "Category"
         }
        },
        "yaxis": {
         "anchor": "x",
         "domain": [
          0,
          1
         ],
         "title": {
          "text": "Frequency"
         }
        }
       }
      }
     },
     "metadata": {},
     "output_type": "display_data"
    },
    {
     "data": {
      "application/vnd.plotly.v1+json": {
       "config": {
        "plotlyServerURL": "https://plot.ly"
       },
       "data": [
        {
         "alignmentgroup": "True",
         "bingroup": "x",
         "histnorm": "probability density",
         "hovertemplate": "<b>Real</b><br>Frequency: %{y}<extra></extra>",
         "legendgroup": "Real",
         "marker": {
          "color": "#000036",
          "pattern": {
           "shape": ""
          }
         },
         "name": "Real",
         "offsetgroup": "Real",
         "orientation": "v",
         "showlegend": true,
         "type": "histogram",
         "x": [
          "Other disease of the blood",
          "Other disease of the blood",
          "Other disease of the blood",
          "Anemia",
          "Anemia",
          "Anemia",
          "Other disease of the blood",
          "Coagulation/hemorrhagic",
          "Anemia",
          "Anemia",
          "Anemia",
          "Anemia",
          "Anemia",
          "Anemia",
          "Anemia",
          "Anemia",
          "Other disease of the blood",
          "Anemia",
          "Anemia",
          "Coagulation/hemorrhagic",
          "Other disease of the blood",
          "Coagulation/hemorrhagic",
          "Other disease of the blood",
          "Other disease of the blood",
          "Coagulation/hemorrhagic",
          "Anemia",
          "Other disease of the blood",
          "Other disease of the blood",
          "Anemia",
          "Anemia",
          "Other disease of the blood",
          "Anemia",
          "Anemia",
          "Anemia",
          "Coagulation/hemorrhagic",
          "Anemia",
          "Other disease of the blood",
          "Anemia",
          "Anemia",
          "Anemia",
          "Coagulation/hemorrhagic",
          "Anemia",
          "Other disease of the blood",
          "Coagulation/hemorrhagic",
          "Anemia",
          "Other disease of the blood",
          "Other disease of the blood",
          "Anemia",
          "Anemia",
          "Other disease of the blood",
          "Other disease of the blood",
          "Coagulation/hemorrhagic",
          "Coagulation/hemorrhagic",
          "Other disease of the blood",
          "Anemia",
          "Anemia",
          "Coagulation/hemorrhagic",
          "Other disease of the blood",
          "Anemia",
          "Anemia",
          "Anemia",
          "Coagulation/hemorrhagic",
          "Other disease of the blood",
          "Anemia",
          "Anemia",
          "Anemia",
          "Other disease of the blood",
          "Anemia",
          "Anemia",
          "Anemia",
          "Anemia",
          "Coagulation/hemorrhagic",
          "Coagulation/hemorrhagic",
          "Coagulation/hemorrhagic",
          "Anemia",
          "Anemia",
          "Other disease of the blood",
          "Anemia",
          "Other disease of the blood",
          "Other disease of the blood",
          "Coagulation/hemorrhagic",
          "Other disease of the blood",
          "Other disease of the blood",
          "Anemia",
          "Anemia",
          "Anemia",
          "Other disease of the blood",
          "Other disease of the blood",
          "Coagulation/hemorrhagic",
          "Anemia",
          "Anemia",
          "Other disease of the blood",
          "Other disease of the blood",
          "Anemia",
          "Anemia",
          "Other disease of the blood",
          "Coagulation/hemorrhagic",
          "Anemia",
          "Other disease of the blood",
          "Anemia",
          "Anemia",
          "Anemia",
          "Other disease of the blood",
          "Coagulation/hemorrhagic",
          "Anemia",
          "Other disease of the blood",
          "Other disease of the blood",
          "Other disease of the blood",
          "Other disease of the blood",
          "Anemia",
          "Other disease of the blood",
          "Other disease of the blood",
          "Anemia",
          "Coagulation/hemorrhagic",
          "Other disease of the blood",
          "Anemia",
          "Other disease of the blood",
          "Anemia",
          "Coagulation/hemorrhagic",
          "Coagulation/hemorrhagic",
          "Coagulation/hemorrhagic",
          "Anemia",
          "Anemia",
          "Coagulation/hemorrhagic",
          "Other disease of the blood",
          "Other disease of the blood",
          "Other disease of the blood",
          "Coagulation/hemorrhagic",
          "Coagulation/hemorrhagic",
          "Anemia",
          "Other disease of the blood",
          "Other disease of the blood",
          "Coagulation/hemorrhagic",
          "Coagulation/hemorrhagic",
          "Anemia",
          "Other disease of the blood",
          "Other disease of the blood",
          "Anemia",
          "Coagulation/hemorrhagic",
          "Anemia",
          "Anemia",
          "Other disease of the blood",
          "Anemia",
          "Other disease of the blood",
          "Coagulation/hemorrhagic",
          "Other disease of the blood",
          "Other disease of the blood",
          "Other disease of the blood",
          "Other disease of the blood",
          "Other disease of the blood",
          "Anemia",
          "Anemia",
          "Anemia",
          "Anemia",
          "Anemia",
          "Anemia",
          "Coagulation/hemorrhagic",
          "Coagulation/hemorrhagic",
          "Coagulation/hemorrhagic",
          "Other disease of the blood",
          "Anemia",
          "Other disease of the blood",
          "Other disease of the blood",
          "Anemia",
          "Anemia",
          "Other disease of the blood",
          "Other disease of the blood",
          "Other disease of the blood",
          "Other disease of the blood",
          "Other disease of the blood",
          "Anemia",
          "Anemia",
          "Anemia",
          "Anemia",
          "Coagulation/hemorrhagic",
          "Anemia",
          "Anemia",
          "Coagulation/hemorrhagic",
          "Anemia",
          "Anemia",
          "Coagulation/hemorrhagic",
          "Coagulation/hemorrhagic",
          "Anemia",
          "Anemia",
          "Anemia",
          "Anemia",
          "Anemia",
          "Anemia",
          "Anemia",
          "Anemia",
          "Coagulation/hemorrhagic",
          "Anemia",
          "Coagulation/hemorrhagic",
          "Coagulation/hemorrhagic",
          "Other disease of the blood",
          "Coagulation/hemorrhagic",
          "Anemia",
          "Anemia",
          "Other disease of the blood",
          "Anemia",
          "Coagulation/hemorrhagic",
          "Coagulation/hemorrhagic",
          "Anemia",
          "Coagulation/hemorrhagic",
          "Other disease of the blood",
          "Anemia",
          "Other disease of the blood",
          "Other disease of the blood",
          "Other disease of the blood",
          "Other disease of the blood",
          "Anemia",
          "Other disease of the blood",
          "Other disease of the blood",
          "Coagulation/hemorrhagic",
          "Other disease of the blood",
          "Anemia",
          "Anemia"
         ],
         "xaxis": "x",
         "yaxis": "y"
        },
        {
         "alignmentgroup": "True",
         "bingroup": "x",
         "histnorm": "probability density",
         "hovertemplate": "<b>Synthetic</b><br>Frequency: %{y}<extra></extra>",
         "legendgroup": "Synthetic",
         "marker": {
          "color": "#01E0C9",
          "pattern": {
           "shape": "/"
          }
         },
         "name": "Synthetic",
         "offsetgroup": "Synthetic",
         "orientation": "v",
         "showlegend": true,
         "type": "histogram",
         "x": [
          "Other disease of the blood",
          "Anemia",
          "Anemia",
          "Other disease of the blood",
          "Other disease of the blood",
          "Other disease of the blood",
          "Anemia",
          "Anemia",
          "Anemia",
          "Other disease of the blood",
          "Anemia",
          "Anemia",
          "Anemia",
          "Other disease of the blood",
          "Other disease of the blood",
          "Anemia",
          "Anemia",
          "Other disease of the blood",
          "Anemia",
          "Other disease of the blood",
          "Other disease of the blood",
          "Other disease of the blood",
          "Other disease of the blood",
          "Other disease of the blood",
          "Other disease of the blood",
          "Anemia",
          "Other disease of the blood",
          "Anemia",
          "Other disease of the blood",
          "Anemia",
          "Other disease of the blood",
          "Other disease of the blood",
          "Anemia",
          "Other disease of the blood",
          "Anemia",
          "Other disease of the blood",
          "Other disease of the blood",
          "Other disease of the blood",
          "Other disease of the blood",
          "Other disease of the blood",
          "Other disease of the blood",
          "Other disease of the blood",
          "Anemia",
          "Anemia",
          "Anemia",
          "Other disease of the blood",
          "Other disease of the blood",
          "Other disease of the blood",
          "Other disease of the blood",
          "Coagulation/hemorrhagic",
          "Other disease of the blood",
          "Other disease of the blood",
          "Anemia",
          "Other disease of the blood",
          "Other disease of the blood",
          "Other disease of the blood",
          "Other disease of the blood",
          "Coagulation/hemorrhagic",
          "Other disease of the blood",
          "Coagulation/hemorrhagic",
          "Other disease of the blood",
          "Anemia",
          "Other disease of the blood",
          "Anemia",
          "Other disease of the blood",
          "Anemia",
          "Other disease of the blood",
          "Other disease of the blood",
          "Other disease of the blood",
          "Other disease of the blood",
          "Anemia",
          "Other disease of the blood",
          "Other disease of the blood",
          "Other disease of the blood",
          "Other disease of the blood",
          "Coagulation/hemorrhagic",
          "Other disease of the blood",
          "Other disease of the blood",
          "Anemia",
          "Anemia",
          "Other disease of the blood",
          "Anemia",
          "Other disease of the blood",
          "Other disease of the blood",
          "Anemia",
          "Anemia",
          "Other disease of the blood",
          "Other disease of the blood",
          "Other disease of the blood",
          "Other disease of the blood",
          "Other disease of the blood",
          "Other disease of the blood",
          "Other disease of the blood",
          "Other disease of the blood",
          "Other disease of the blood",
          "Other disease of the blood",
          "Other disease of the blood",
          "Other disease of the blood",
          "Other disease of the blood",
          "Other disease of the blood",
          "Other disease of the blood",
          "Anemia",
          "Other disease of the blood",
          "Other disease of the blood",
          "Other disease of the blood",
          "Coagulation/hemorrhagic",
          "Other disease of the blood",
          "Anemia",
          "Other disease of the blood",
          "Other disease of the blood",
          "Other disease of the blood",
          "Other disease of the blood",
          "Other disease of the blood",
          "Other disease of the blood",
          "Other disease of the blood",
          "Anemia",
          "Other disease of the blood",
          "Anemia",
          "Coagulation/hemorrhagic",
          "Anemia",
          "Other disease of the blood",
          "Anemia",
          "Anemia",
          "Anemia",
          "Anemia",
          "Other disease of the blood",
          "Other disease of the blood",
          "Other disease of the blood",
          "Other disease of the blood",
          "Anemia",
          "Other disease of the blood",
          "Anemia",
          "Anemia",
          "Other disease of the blood",
          "Other disease of the blood",
          "Other disease of the blood",
          "Anemia",
          "Anemia",
          "Other disease of the blood",
          "Anemia",
          "Anemia",
          "Anemia",
          "Other disease of the blood",
          "Anemia",
          "Other disease of the blood",
          "Other disease of the blood",
          "Other disease of the blood",
          "Other disease of the blood",
          "Other disease of the blood",
          "Other disease of the blood",
          "Other disease of the blood",
          "Other disease of the blood",
          "Other disease of the blood",
          "Other disease of the blood",
          "Other disease of the blood",
          "Other disease of the blood",
          "Other disease of the blood",
          "Other disease of the blood",
          "Other disease of the blood",
          "Other disease of the blood",
          "Other disease of the blood",
          "Other disease of the blood",
          "Other disease of the blood",
          "Anemia",
          "Other disease of the blood",
          "Other disease of the blood",
          "Anemia",
          "Anemia",
          "Other disease of the blood",
          "Other disease of the blood",
          "Other disease of the blood",
          "Anemia",
          "Other disease of the blood",
          "Anemia",
          "Other disease of the blood",
          "Other disease of the blood",
          "Other disease of the blood",
          "Anemia",
          "Anemia",
          "Anemia",
          "Other disease of the blood",
          "Other disease of the blood",
          "Other disease of the blood",
          "Other disease of the blood",
          "Other disease of the blood",
          "Other disease of the blood",
          "Other disease of the blood",
          "Anemia",
          "Anemia",
          "Anemia",
          "Other disease of the blood",
          "Anemia",
          "Other disease of the blood",
          "Coagulation/hemorrhagic",
          "Other disease of the blood",
          "Anemia",
          "Other disease of the blood",
          "Other disease of the blood",
          "Coagulation/hemorrhagic",
          "Other disease of the blood",
          "Other disease of the blood",
          "Other disease of the blood",
          "Other disease of the blood",
          "Anemia",
          "Other disease of the blood",
          "Other disease of the blood",
          "Other disease of the blood",
          "Coagulation/hemorrhagic",
          "Other disease of the blood",
          "Other disease of the blood",
          "Other disease of the blood",
          "Anemia",
          "Anemia",
          "Other disease of the blood",
          "Other disease of the blood",
          "Other disease of the blood",
          "Other disease of the blood"
         ],
         "xaxis": "x",
         "yaxis": "y"
        }
       ],
       "layout": {
        "barmode": "group",
        "font": {
         "size": 18
        },
        "legend": {
         "title": {
          "text": "Data"
         },
         "tracegroupgap": 0
        },
        "margin": {
         "t": 60
        },
        "plot_bgcolor": "#F5F5F8",
        "template": {
         "data": {
          "bar": [
           {
            "error_x": {
             "color": "#2a3f5f"
            },
            "error_y": {
             "color": "#2a3f5f"
            },
            "marker": {
             "line": {
              "color": "#E5ECF6",
              "width": 0.5
             },
             "pattern": {
              "fillmode": "overlay",
              "size": 10,
              "solidity": 0.2
             }
            },
            "type": "bar"
           }
          ],
          "barpolar": [
           {
            "marker": {
             "line": {
              "color": "#E5ECF6",
              "width": 0.5
             },
             "pattern": {
              "fillmode": "overlay",
              "size": 10,
              "solidity": 0.2
             }
            },
            "type": "barpolar"
           }
          ],
          "carpet": [
           {
            "aaxis": {
             "endlinecolor": "#2a3f5f",
             "gridcolor": "white",
             "linecolor": "white",
             "minorgridcolor": "white",
             "startlinecolor": "#2a3f5f"
            },
            "baxis": {
             "endlinecolor": "#2a3f5f",
             "gridcolor": "white",
             "linecolor": "white",
             "minorgridcolor": "white",
             "startlinecolor": "#2a3f5f"
            },
            "type": "carpet"
           }
          ],
          "choropleth": [
           {
            "colorbar": {
             "outlinewidth": 0,
             "ticks": ""
            },
            "type": "choropleth"
           }
          ],
          "contour": [
           {
            "colorbar": {
             "outlinewidth": 0,
             "ticks": ""
            },
            "colorscale": [
             [
              0,
              "#0d0887"
             ],
             [
              0.1111111111111111,
              "#46039f"
             ],
             [
              0.2222222222222222,
              "#7201a8"
             ],
             [
              0.3333333333333333,
              "#9c179e"
             ],
             [
              0.4444444444444444,
              "#bd3786"
             ],
             [
              0.5555555555555556,
              "#d8576b"
             ],
             [
              0.6666666666666666,
              "#ed7953"
             ],
             [
              0.7777777777777778,
              "#fb9f3a"
             ],
             [
              0.8888888888888888,
              "#fdca26"
             ],
             [
              1,
              "#f0f921"
             ]
            ],
            "type": "contour"
           }
          ],
          "contourcarpet": [
           {
            "colorbar": {
             "outlinewidth": 0,
             "ticks": ""
            },
            "type": "contourcarpet"
           }
          ],
          "heatmap": [
           {
            "colorbar": {
             "outlinewidth": 0,
             "ticks": ""
            },
            "colorscale": [
             [
              0,
              "#0d0887"
             ],
             [
              0.1111111111111111,
              "#46039f"
             ],
             [
              0.2222222222222222,
              "#7201a8"
             ],
             [
              0.3333333333333333,
              "#9c179e"
             ],
             [
              0.4444444444444444,
              "#bd3786"
             ],
             [
              0.5555555555555556,
              "#d8576b"
             ],
             [
              0.6666666666666666,
              "#ed7953"
             ],
             [
              0.7777777777777778,
              "#fb9f3a"
             ],
             [
              0.8888888888888888,
              "#fdca26"
             ],
             [
              1,
              "#f0f921"
             ]
            ],
            "type": "heatmap"
           }
          ],
          "heatmapgl": [
           {
            "colorbar": {
             "outlinewidth": 0,
             "ticks": ""
            },
            "colorscale": [
             [
              0,
              "#0d0887"
             ],
             [
              0.1111111111111111,
              "#46039f"
             ],
             [
              0.2222222222222222,
              "#7201a8"
             ],
             [
              0.3333333333333333,
              "#9c179e"
             ],
             [
              0.4444444444444444,
              "#bd3786"
             ],
             [
              0.5555555555555556,
              "#d8576b"
             ],
             [
              0.6666666666666666,
              "#ed7953"
             ],
             [
              0.7777777777777778,
              "#fb9f3a"
             ],
             [
              0.8888888888888888,
              "#fdca26"
             ],
             [
              1,
              "#f0f921"
             ]
            ],
            "type": "heatmapgl"
           }
          ],
          "histogram": [
           {
            "marker": {
             "pattern": {
              "fillmode": "overlay",
              "size": 10,
              "solidity": 0.2
             }
            },
            "type": "histogram"
           }
          ],
          "histogram2d": [
           {
            "colorbar": {
             "outlinewidth": 0,
             "ticks": ""
            },
            "colorscale": [
             [
              0,
              "#0d0887"
             ],
             [
              0.1111111111111111,
              "#46039f"
             ],
             [
              0.2222222222222222,
              "#7201a8"
             ],
             [
              0.3333333333333333,
              "#9c179e"
             ],
             [
              0.4444444444444444,
              "#bd3786"
             ],
             [
              0.5555555555555556,
              "#d8576b"
             ],
             [
              0.6666666666666666,
              "#ed7953"
             ],
             [
              0.7777777777777778,
              "#fb9f3a"
             ],
             [
              0.8888888888888888,
              "#fdca26"
             ],
             [
              1,
              "#f0f921"
             ]
            ],
            "type": "histogram2d"
           }
          ],
          "histogram2dcontour": [
           {
            "colorbar": {
             "outlinewidth": 0,
             "ticks": ""
            },
            "colorscale": [
             [
              0,
              "#0d0887"
             ],
             [
              0.1111111111111111,
              "#46039f"
             ],
             [
              0.2222222222222222,
              "#7201a8"
             ],
             [
              0.3333333333333333,
              "#9c179e"
             ],
             [
              0.4444444444444444,
              "#bd3786"
             ],
             [
              0.5555555555555556,
              "#d8576b"
             ],
             [
              0.6666666666666666,
              "#ed7953"
             ],
             [
              0.7777777777777778,
              "#fb9f3a"
             ],
             [
              0.8888888888888888,
              "#fdca26"
             ],
             [
              1,
              "#f0f921"
             ]
            ],
            "type": "histogram2dcontour"
           }
          ],
          "mesh3d": [
           {
            "colorbar": {
             "outlinewidth": 0,
             "ticks": ""
            },
            "type": "mesh3d"
           }
          ],
          "parcoords": [
           {
            "line": {
             "colorbar": {
              "outlinewidth": 0,
              "ticks": ""
             }
            },
            "type": "parcoords"
           }
          ],
          "pie": [
           {
            "automargin": true,
            "type": "pie"
           }
          ],
          "scatter": [
           {
            "fillpattern": {
             "fillmode": "overlay",
             "size": 10,
             "solidity": 0.2
            },
            "type": "scatter"
           }
          ],
          "scatter3d": [
           {
            "line": {
             "colorbar": {
              "outlinewidth": 0,
              "ticks": ""
             }
            },
            "marker": {
             "colorbar": {
              "outlinewidth": 0,
              "ticks": ""
             }
            },
            "type": "scatter3d"
           }
          ],
          "scattercarpet": [
           {
            "marker": {
             "colorbar": {
              "outlinewidth": 0,
              "ticks": ""
             }
            },
            "type": "scattercarpet"
           }
          ],
          "scattergeo": [
           {
            "marker": {
             "colorbar": {
              "outlinewidth": 0,
              "ticks": ""
             }
            },
            "type": "scattergeo"
           }
          ],
          "scattergl": [
           {
            "marker": {
             "colorbar": {
              "outlinewidth": 0,
              "ticks": ""
             }
            },
            "type": "scattergl"
           }
          ],
          "scattermapbox": [
           {
            "marker": {
             "colorbar": {
              "outlinewidth": 0,
              "ticks": ""
             }
            },
            "type": "scattermapbox"
           }
          ],
          "scatterpolar": [
           {
            "marker": {
             "colorbar": {
              "outlinewidth": 0,
              "ticks": ""
             }
            },
            "type": "scatterpolar"
           }
          ],
          "scatterpolargl": [
           {
            "marker": {
             "colorbar": {
              "outlinewidth": 0,
              "ticks": ""
             }
            },
            "type": "scatterpolargl"
           }
          ],
          "scatterternary": [
           {
            "marker": {
             "colorbar": {
              "outlinewidth": 0,
              "ticks": ""
             }
            },
            "type": "scatterternary"
           }
          ],
          "surface": [
           {
            "colorbar": {
             "outlinewidth": 0,
             "ticks": ""
            },
            "colorscale": [
             [
              0,
              "#0d0887"
             ],
             [
              0.1111111111111111,
              "#46039f"
             ],
             [
              0.2222222222222222,
              "#7201a8"
             ],
             [
              0.3333333333333333,
              "#9c179e"
             ],
             [
              0.4444444444444444,
              "#bd3786"
             ],
             [
              0.5555555555555556,
              "#d8576b"
             ],
             [
              0.6666666666666666,
              "#ed7953"
             ],
             [
              0.7777777777777778,
              "#fb9f3a"
             ],
             [
              0.8888888888888888,
              "#fdca26"
             ],
             [
              1,
              "#f0f921"
             ]
            ],
            "type": "surface"
           }
          ],
          "table": [
           {
            "cells": {
             "fill": {
              "color": "#EBF0F8"
             },
             "line": {
              "color": "white"
             }
            },
            "header": {
             "fill": {
              "color": "#C8D4E3"
             },
             "line": {
              "color": "white"
             }
            },
            "type": "table"
           }
          ]
         },
         "layout": {
          "annotationdefaults": {
           "arrowcolor": "#2a3f5f",
           "arrowhead": 0,
           "arrowwidth": 1
          },
          "autotypenumbers": "strict",
          "coloraxis": {
           "colorbar": {
            "outlinewidth": 0,
            "ticks": ""
           }
          },
          "colorscale": {
           "diverging": [
            [
             0,
             "#8e0152"
            ],
            [
             0.1,
             "#c51b7d"
            ],
            [
             0.2,
             "#de77ae"
            ],
            [
             0.3,
             "#f1b6da"
            ],
            [
             0.4,
             "#fde0ef"
            ],
            [
             0.5,
             "#f7f7f7"
            ],
            [
             0.6,
             "#e6f5d0"
            ],
            [
             0.7,
             "#b8e186"
            ],
            [
             0.8,
             "#7fbc41"
            ],
            [
             0.9,
             "#4d9221"
            ],
            [
             1,
             "#276419"
            ]
           ],
           "sequential": [
            [
             0,
             "#0d0887"
            ],
            [
             0.1111111111111111,
             "#46039f"
            ],
            [
             0.2222222222222222,
             "#7201a8"
            ],
            [
             0.3333333333333333,
             "#9c179e"
            ],
            [
             0.4444444444444444,
             "#bd3786"
            ],
            [
             0.5555555555555556,
             "#d8576b"
            ],
            [
             0.6666666666666666,
             "#ed7953"
            ],
            [
             0.7777777777777778,
             "#fb9f3a"
            ],
            [
             0.8888888888888888,
             "#fdca26"
            ],
            [
             1,
             "#f0f921"
            ]
           ],
           "sequentialminus": [
            [
             0,
             "#0d0887"
            ],
            [
             0.1111111111111111,
             "#46039f"
            ],
            [
             0.2222222222222222,
             "#7201a8"
            ],
            [
             0.3333333333333333,
             "#9c179e"
            ],
            [
             0.4444444444444444,
             "#bd3786"
            ],
            [
             0.5555555555555556,
             "#d8576b"
            ],
            [
             0.6666666666666666,
             "#ed7953"
            ],
            [
             0.7777777777777778,
             "#fb9f3a"
            ],
            [
             0.8888888888888888,
             "#fdca26"
            ],
            [
             1,
             "#f0f921"
            ]
           ]
          },
          "colorway": [
           "#636efa",
           "#EF553B",
           "#00cc96",
           "#ab63fa",
           "#FFA15A",
           "#19d3f3",
           "#FF6692",
           "#B6E880",
           "#FF97FF",
           "#FECB52"
          ],
          "font": {
           "color": "#2a3f5f"
          },
          "geo": {
           "bgcolor": "white",
           "lakecolor": "white",
           "landcolor": "#E5ECF6",
           "showlakes": true,
           "showland": true,
           "subunitcolor": "white"
          },
          "hoverlabel": {
           "align": "left"
          },
          "hovermode": "closest",
          "mapbox": {
           "style": "light"
          },
          "paper_bgcolor": "white",
          "plot_bgcolor": "#E5ECF6",
          "polar": {
           "angularaxis": {
            "gridcolor": "white",
            "linecolor": "white",
            "ticks": ""
           },
           "bgcolor": "#E5ECF6",
           "radialaxis": {
            "gridcolor": "white",
            "linecolor": "white",
            "ticks": ""
           }
          },
          "scene": {
           "xaxis": {
            "backgroundcolor": "#E5ECF6",
            "gridcolor": "white",
            "gridwidth": 2,
            "linecolor": "white",
            "showbackground": true,
            "ticks": "",
            "zerolinecolor": "white"
           },
           "yaxis": {
            "backgroundcolor": "#E5ECF6",
            "gridcolor": "white",
            "gridwidth": 2,
            "linecolor": "white",
            "showbackground": true,
            "ticks": "",
            "zerolinecolor": "white"
           },
           "zaxis": {
            "backgroundcolor": "#E5ECF6",
            "gridcolor": "white",
            "gridwidth": 2,
            "linecolor": "white",
            "showbackground": true,
            "ticks": "",
            "zerolinecolor": "white"
           }
          },
          "shapedefaults": {
           "line": {
            "color": "#2a3f5f"
           }
          },
          "ternary": {
           "aaxis": {
            "gridcolor": "white",
            "linecolor": "white",
            "ticks": ""
           },
           "baxis": {
            "gridcolor": "white",
            "linecolor": "white",
            "ticks": ""
           },
           "bgcolor": "#E5ECF6",
           "caxis": {
            "gridcolor": "white",
            "linecolor": "white",
            "ticks": ""
           }
          },
          "title": {
           "x": 0.05
          },
          "xaxis": {
           "automargin": true,
           "gridcolor": "white",
           "linecolor": "white",
           "ticks": "",
           "title": {
            "standoff": 15
           },
           "zerolinecolor": "white",
           "zerolinewidth": 2
          },
          "yaxis": {
           "automargin": true,
           "gridcolor": "white",
           "linecolor": "white",
           "ticks": "",
           "title": {
            "standoff": 15
           },
           "zerolinecolor": "white",
           "zerolinewidth": 2
          }
         }
        },
        "title": {
         "text": "Real vs. Synthetic Data for column 'primary_icd9_label'"
        },
        "xaxis": {
         "anchor": "y",
         "domain": [
          0,
          1
         ],
         "title": {
          "text": "Category"
         }
        },
        "yaxis": {
         "anchor": "x",
         "domain": [
          0,
          1
         ],
         "title": {
          "text": "Frequency"
         }
        }
       }
      }
     },
     "metadata": {},
     "output_type": "display_data"
    },
    {
     "data": {
      "application/vnd.plotly.v1+json": {
       "config": {
        "plotlyServerURL": "https://plot.ly"
       },
       "data": [
        {
         "fill": "tozeroy",
         "hovertemplate": "<b>Real</b><br>Frequency: %{y}<extra></extra>",
         "legendgroup": "Real",
         "marker": {
          "color": "#000036"
         },
         "mode": "lines",
         "name": "Real",
         "showlegend": true,
         "type": "scatter",
         "x": [
          2,
          2.07,
          2.14,
          2.21,
          2.2800000000000002,
          2.35,
          2.42,
          2.49,
          2.56,
          2.63,
          2.7,
          2.77,
          2.84,
          2.91,
          2.98,
          3.05,
          3.12,
          3.19,
          3.26,
          3.33,
          3.4,
          3.4699999999999998,
          3.54,
          3.6100000000000003,
          3.6799999999999997,
          3.75,
          3.8200000000000003,
          3.8899999999999997,
          3.96,
          4.029999999999999,
          4.1,
          4.17,
          4.24,
          4.3100000000000005,
          4.38,
          4.45,
          4.52,
          4.59,
          4.66,
          4.73,
          4.8,
          4.87,
          4.9399999999999995,
          5.01,
          5.08,
          5.15,
          5.220000000000001,
          5.29,
          5.359999999999999,
          5.43,
          5.5,
          5.57,
          5.640000000000001,
          5.71,
          5.779999999999999,
          5.85,
          5.92,
          5.99,
          6.06,
          6.13,
          6.2,
          6.27,
          6.34,
          6.41,
          6.48,
          6.55,
          6.62,
          6.69,
          6.76,
          6.83,
          6.9,
          6.97,
          7.04,
          7.11,
          7.18,
          7.25,
          7.32,
          7.39,
          7.46,
          7.53,
          7.6,
          7.67,
          7.74,
          7.81,
          7.88,
          7.95,
          8.02,
          8.09,
          8.16,
          8.23,
          8.3,
          8.370000000000001,
          8.440000000000001,
          8.51,
          8.58,
          8.65,
          8.719999999999999,
          8.79,
          8.86,
          8.93,
          9,
          9.07,
          9.14,
          9.21,
          9.280000000000001,
          9.35,
          9.42,
          9.49,
          9.559999999999999,
          9.629999999999999,
          9.7,
          9.77,
          9.84,
          9.91,
          9.98,
          10.05,
          10.12,
          10.19,
          10.26,
          10.33,
          10.4,
          10.47,
          10.54,
          10.61,
          10.68,
          10.75,
          10.82,
          10.89,
          10.96,
          11.03,
          11.1,
          11.17,
          11.24,
          11.31,
          11.38,
          11.45,
          11.52,
          11.59,
          11.66,
          11.73,
          11.8,
          11.87,
          11.94,
          12.01,
          12.08,
          12.15,
          12.22,
          12.29,
          12.36,
          12.43,
          12.5,
          12.57,
          12.64,
          12.71,
          12.78,
          12.85,
          12.92,
          12.99,
          13.06,
          13.13,
          13.2,
          13.27,
          13.34,
          13.41,
          13.48,
          13.55,
          13.62,
          13.69,
          13.76,
          13.83,
          13.9,
          13.97,
          14.04,
          14.11,
          14.18,
          14.25,
          14.32,
          14.39,
          14.46,
          14.53,
          14.6,
          14.67,
          14.74,
          14.81,
          14.88,
          14.95,
          15.02,
          15.09,
          15.16,
          15.23,
          15.3,
          15.37,
          15.44,
          15.51,
          15.58,
          15.65,
          15.72,
          15.79,
          15.86,
          15.93,
          16,
          16.07,
          16.14,
          16.21,
          16.28,
          16.35,
          16.42,
          16.490000000000002,
          16.560000000000002,
          16.630000000000003,
          16.7,
          16.77,
          16.84,
          16.91,
          16.98,
          17.05,
          17.119999999999997,
          17.189999999999998,
          17.259999999999998,
          17.33,
          17.4,
          17.47,
          17.54,
          17.61,
          17.68,
          17.75,
          17.82,
          17.89,
          17.96,
          18.03,
          18.1,
          18.17,
          18.24,
          18.31,
          18.38,
          18.45,
          18.52,
          18.59,
          18.66,
          18.73,
          18.8,
          18.87,
          18.94,
          19.01,
          19.08,
          19.15,
          19.22,
          19.29,
          19.36,
          19.43,
          19.5,
          19.57,
          19.64,
          19.71,
          19.78,
          19.85,
          19.92,
          19.99,
          20.06,
          20.13,
          20.2,
          20.27,
          20.34,
          20.41,
          20.48,
          20.55,
          20.62,
          20.69,
          20.76,
          20.83,
          20.9,
          20.97,
          21.04,
          21.11,
          21.18,
          21.25,
          21.32,
          21.39,
          21.46,
          21.53,
          21.6,
          21.67,
          21.74,
          21.81,
          21.88,
          21.95,
          22.02,
          22.09,
          22.16,
          22.23,
          22.3,
          22.37,
          22.44,
          22.51,
          22.58,
          22.65,
          22.72,
          22.79,
          22.86,
          22.93,
          23,
          23.07,
          23.14,
          23.21,
          23.28,
          23.35,
          23.42,
          23.49,
          23.56,
          23.63,
          23.7,
          23.77,
          23.84,
          23.91,
          23.98,
          24.05,
          24.12,
          24.19,
          24.26,
          24.33,
          24.4,
          24.47,
          24.54,
          24.61,
          24.68,
          24.75,
          24.82,
          24.89,
          24.96,
          25.03,
          25.1,
          25.17,
          25.24,
          25.31,
          25.38,
          25.45,
          25.52,
          25.59,
          25.66,
          25.73,
          25.8,
          25.87,
          25.94,
          26.01,
          26.08,
          26.15,
          26.22,
          26.29,
          26.36,
          26.43,
          26.5,
          26.57,
          26.64,
          26.71,
          26.78,
          26.85,
          26.92,
          26.99,
          27.06,
          27.13,
          27.2,
          27.27,
          27.34,
          27.41,
          27.48,
          27.55,
          27.62,
          27.69,
          27.76,
          27.83,
          27.9,
          27.97,
          28.04,
          28.11,
          28.18,
          28.25,
          28.32,
          28.39,
          28.46,
          28.53,
          28.6,
          28.67,
          28.74,
          28.81,
          28.88,
          28.95,
          29.02,
          29.09,
          29.16,
          29.23,
          29.3,
          29.37,
          29.44,
          29.51,
          29.58,
          29.65,
          29.72,
          29.79,
          29.86,
          29.93,
          30,
          30.07,
          30.14,
          30.21,
          30.28,
          30.35,
          30.42,
          30.49,
          30.56,
          30.63,
          30.7,
          30.77,
          30.84,
          30.91,
          30.98,
          31.05,
          31.12,
          31.19,
          31.26,
          31.33,
          31.4,
          31.47,
          31.54,
          31.61,
          31.68,
          31.75,
          31.82,
          31.89,
          31.96,
          32.03,
          32.1,
          32.17,
          32.239999999999995,
          32.31,
          32.379999999999995,
          32.45,
          32.519999999999996,
          32.59,
          32.66,
          32.730000000000004,
          32.8,
          32.870000000000005,
          32.94,
          33.010000000000005,
          33.08,
          33.15,
          33.22,
          33.29,
          33.36,
          33.43,
          33.5,
          33.57,
          33.64,
          33.71,
          33.78,
          33.85,
          33.92,
          33.989999999999995,
          34.06,
          34.13,
          34.2,
          34.27,
          34.34,
          34.41,
          34.48,
          34.55,
          34.62,
          34.69,
          34.76,
          34.83,
          34.9,
          34.97,
          35.04,
          35.11,
          35.18,
          35.25,
          35.32,
          35.39,
          35.46,
          35.53,
          35.6,
          35.67,
          35.74,
          35.81,
          35.88,
          35.95,
          36.02,
          36.09,
          36.16,
          36.23,
          36.3,
          36.37,
          36.44,
          36.51,
          36.58,
          36.65,
          36.72,
          36.79,
          36.86,
          36.93
         ],
         "xaxis": "x",
         "y": [
          0.013475076571514196,
          0.013870039438191872,
          0.014271787842562368,
          0.01468029532390089,
          0.015095531245003816,
          0.015517460742211078,
          0.015946044672768393,
          0.01638123955906075,
          0.016822997529237025,
          0.0172712662537369,
          0.017725988877227237,
          0.018187103945454426,
          0.018654545326525728,
          0.01912824212614338,
          0.019608118596332727,
          0.020094094037230413,
          0.02058608269152964,
          0.021083993631219898,
          0.021587730636304207,
          0.022097192065233827,
          0.022612270716864204,
          0.023132853683807405,
          0.023658822197139565,
          0.02419005146251032,
          0.024726410487799378,
          0.02526776190257324,
          0.02581396176970773,
          0.02636485938966457,
          0.02692029709803698,
          0.0274801100571144,
          0.02804412604235432,
          0.028612165224792475,
          0.029184039950567564,
          0.029759554518884266,
          0.030338504959886287,
          0.030920678814056714,
          0.03150585491490781,
          0.032093803176861016,
          0.03268428439035288,
          0.03327705002632981,
          0.0338718420524095,
          0.03446839276309834,
          0.03506642462654318,
          0.03566565015038062,
          0.03626577176931066,
          0.03686648175706643,
          0.03746746216548609,
          0.03806838479339673,
          0.038668911188011156,
          0.03926869268150434,
          0.03986737046537573,
          0.04046457570512793,
          0.04105992969768033,
          0.04165304407381054,
          0.04224352104775987,
          0.04283095371595801,
          0.043414926406619446,
          0.04399501508173525,
          0.044570787792732616,
          0.045141805190801215,
          0.04570762109259336,
          0.046267783101689275,
          0.04682183328589221,
          0.04736930891006975,
          0.047909743223900805,
          0.0484426663035186,
          0.048967605945661526,
          0.04948408861256152,
          0.049991640425416366,
          0.05048978820390085,
          0.05097806054879949,
          0.0514559889644596,
          0.05192310901740386,
          0.05237896152708601,
          0.05282309378443756,
          0.05325506079353575,
          0.053674426531425755,
          0.05408076522086119,
          0.054473662610480866,
          0.0548527172567271,
          0.05521754180163038,
          0.05556776424043518,
          0.0559030291729344,
          0.0562229990323039,
          0.05652735528519626,
          0.05681579959685879,
          0.0570880549550878,
          0.05734386674691792,
          0.05758300378207831,
          0.057805259257411416,
          0.05801045165666901,
          0.05819842558033942,
          0.05836905250045705,
          0.05852223143566329,
          0.058657889542147186,
          0.05877598261648468,
          0.05887649550681631,
          0.05895944242924763,
          0.059024867186828006,
          0.05907284328895703,
          0.05910347396957026,
          0.05911689210298676,
          0.05911326001682471,
          0.05909276920193811,
          0.059055639919862485,
          0.059002120708804985,
          0.05893248778974284,
          0.058847044374728714,
          0.058746119880010904,
          0.058630069047078945,
          0.05849927097522583,
          0.05835412806967214,
          0.05819506490973821,
          0.058022527041943585,
          0.05783697970330048,
          0.05763890648039571,
          0.05742880791017284,
          0.05720720002858646,
          0.056974612873538,
          0.05673158894868842,
          0.05647868165490208,
          0.05621645369617561,
          0.05594547546698832,
          0.05566632342802841,
          0.05537957847724499,
          0.0550858243231228,
          0.054785645866986345,
          0.05447962760101324,
          0.0541683520284756,
          0.05385239811252924,
          0.053532339759642236,
          0.053208744343496046,
          0.052882171274903314,
          0.05255317062297822,
          0.05222228179245547,
          0.05189003226170432,
          0.05155693638560839,
          0.0512234942670959,
          0.05089019070070843,
          0.050557494191186415,
          0.05022585604963668,
          0.04989570956943209,
          0.049567469283570136,
          0.04924153030480702,
          0.04891826774946633,
          0.04859803624541612,
          0.04828116952431314,
          0.047967980097820835,
          0.04765875901713677,
          0.04735377571480261,
          0.047053277927422456,
          0.046757491697592066,
          0.04646662145302202,
          0.04618085016055764,
          0.045900339552515455,
          0.04562523042251413,
          0.04535564298774012,
          0.04509167731438593,
          0.04483341380280532,
          0.04458091372876796,
          0.044334219837050604,
          0.04409335698347614,
          0.0438583328214127,
          0.043629138528660974,
          0.0434057495705945,
          0.04318812649537893,
          0.042976215757067115,
          0.04276995056236435,
          0.042569251736869027,
          0.04237402860661886,
          0.042184179890820434,
          0.04199959460169532,
          0.04182015294745064,
          0.041645727234467106,
          0.04147618276489599,
          0.04131137872597084,
          0.04115116906745552,
          0.04099540336378934,
          0.04084392765762814,
          0.040696585281632336,
          0.040553217655514846,
          0.040413665055527015,
          0.04027776735373883,
          0.04014536472464795,
          0.04001629831684446,
          0.03989041088764791,
          0.039767547398835174,
          0.039647555571778875,
          0.03953028640052423,
          0.039415594621542704,
          0.039303339139114525,
          0.03919338340550702,
          0.03908559575533423,
          0.038979849693700844,
          0.038876024137951784,
          0.038774003613067765,
          0.03867367840096398,
          0.038574944644163896,
          0.0384777044045329,
          0.03838186567796621,
          0.03828734236612789,
          0.0381940542065404,
          0.03810192666251409,
          0.03801089077459467,
          0.037920882975382215,
          0.03783184486974735,
          0.037743722982625995,
          0.03765646847672495,
          0.037570036842606506,
          0.03748438756374278,
          0.03739948375924283,
          0.037315291807050434,
          0.037231780950492406,
          0.037148922891121455,
          0.03706669137084904,
          0.03698506174639303,
          0.03690401055908338,
          0.03682351510306428,
          0.036743552994912484,
          0.036664101747653124,
          0.03658513835209997,
          0.0365066388683716,
          0.036428578030347915,
          0.036350928865720784,
          0.036273662334171335,
          0.03619674698606637,
          0.036120148643912775,
          0.03604383010864012,
          0.035967750892601985,
          0.03589186698099467,
          0.035816130623186934,
          0.03574049015524622,
          0.03566488985472587,
          0.03558926982855218,
          0.035513565934623376,
          0.035437709737497707,
          0.03536162849831739,
          0.03528524519888067,
          0.03520847859954563,
          0.035131243330424305,
          0.035053450015102856,
          0.03497500542591519,
          0.03489581266958932,
          0.03481577140189716,
          0.03473477806975415,
          0.034652726179048875,
          0.034569506586329034,
          0.03448500781233311,
          0.03439911637523517,
          0.03431171714136608,
          0.03422269369109022,
          0.034131928697447224,
          0.03403930431512126,
          0.033944702577270905,
          0.03384800579774037,
          0.033749096976184036,
          0.033647860203659966,
          0.03354418106629591,
          0.03343794704469114,
          0.033329047906798144,
          0.03321737609212194,
          0.03310282708518384,
          0.03298529977631967,
          0.03286469680801752,
          0.03274092490514345,
          0.032613895187562386,
          0.03248352346381945,
          0.03234973050471968,
          0.03221244229581552,
          0.03207159026798704,
          0.0319271115054805,
          0.03177894893094489,
          0.03162705146718393,
          0.031471374175512185,
          0.03131187837077079,
          0.03114853171322093,
          0.030981308277683868,
          0.03081018860044425,
          0.030635159704563927,
          0.030456215104381363,
          0.030273354790080472,
          0.030086585193313607,
          0.02989591913494979,
          0.029701375756090394,
          0.029502980433556526,
          0.029300764681093435,
          0.029094766037571163,
          0.0288850279434767,
          0.02867159960699522,
          0.028454535860970215,
          0.028233897012008003,
          0.02800974868295831,
          0.02778216164995717,
          0.027551211675160732,
          0.027316979336234243,
          0.02707954985358527,
          0.026839012916248833,
          0.026595462507243706,
          0.026348996729126817,
          0.026099717630375212,
          0.025847731033125414,
          0.025593146362698774,
          0.025336076479240965,
          0.02507663751170232,
          0.024814948694287672,
          0.024551132205409994,
          0.024285313009090186,
          0.024017618698660596,
          0.023748179342549743,
          0.023477127331853517,
          0.023204597229333174,
          0.022930725619423595,
          0.022655650958787913,
          0.022379513426915982,
          0.022102454776234945,
          0.021824618181182386,
          0.021546148085681418,
          0.021267190048460158,
          0.020987890585666722,
          0.020708397010252726,
          0.020428857267626784,
          0.02014941976711896,
          0.019870233208843197,
          0.01959144640560014,
          0.019313208099525393,
          0.019035666773255338,
          0.01875897045545837,
          0.01848326652065841,
          0.01820870148336014,
          0.01793542078657264,
          0.017663568584916554,
          0.017393287522590017,
          0.01712471850655855,
          0.016858000475424045,
          0.01659327016451674,
          0.016330661867838492,
          0.016070307197569394,
          0.015812334841927338,
          0.015556870322242934,
          0.015304035750180871,
          0.015053949586097948,
          0.014806726399583905,
          0.014562476633275366,
          0.01432130637107272,
          0.014083317111918032,
          0.013848605550312948,
          0.013617263364766699,
          0.013389377015365146,
          0.013165027551645081,
          0.012944290431939362,
          0.012727235355331755,
          0.012513926107324245,
          0.012304420420272931,
          0.01209876984959481,
          0.011897019666684197,
          0.011699208769406222,
          0.011505369610955602,
          0.011315528147783692,
          0.011129703807202882,
          0.010947909475180926,
          0.01077015150473241,
          0.010596429745208429,
          0.01042673759267333,
          0.010261062061443582,
          0.010099383876747851,
          0.009941677588350233,
          0.009787911704861041,
          0.009638048848343605,
          0.00949204592870879,
          0.009349854337277813,
          0.009211420158782308,
          0.009076684400965544,
          0.008945583240846962,
          0.008818048286615929,
          0.0086940068540307,
          0.008573382256114813,
          0.008456094104867352,
          0.008342058623633993,
          0.008231188968726329,
          0.008123395558824423,
          0.008018586410654891,
          0.007916667479402907,
          0.007817543002291837,
          0.007721115843750296,
          0.007627287840579303,
          0.007535960145538355,
          0.007447033567780959,
          0.007360408908595048,
          0.007275987290934013,
          0.007193670481266435,
          0.0071133612023210405,
          0.007034963435361871,
          0.0069583827106932715,
          0.006883526385167225,
          0.0068103039055444825,
          0.00673862705664657,
          0.006668410193326043,
          0.006599570455378526,
          0.006532027964619229,
          0.006465706003450889,
          0.0064005311743551545,
          0.006336433539848362,
          0.006273346742552228,
          0.006211208105139799,
          0.0061499587100280004,
          0.006089543458797063,
          0.006029911111425589,
          0.005971014305536358,
          0.0059128095559511495,
          0.005855257234953489,
          0.005798321533754389,
          0.005741970405748593,
          0.005686175492236082,
          0.005630912031365625,
          0.0055761587511337215,
          0.005521897747342881,
          0.0054681143474868965,
          0.005414796961588989,
          0.00536193692106918,
          0.005309528306761146,
          0.005257567767236093,
          0.0052060543286206375,
          0.00515498919711863,
          0.005104375555462352,
          0.0050542183545274275,
          0.005004524101347131,
          0.00495530064475719,
          0.0049065569598903515,
          0.0048583029327222615,
          0.004810549145846205,
          0.004763306666624303,
          0.004716586838827916,
          0.004670401078839114,
          0.004624760677440075,
          0.004579676608167518,
          0.004535159343155278,
          0.004491218677330998,
          0.004447863561771481,
          0.004405101946958245,
          0.004362940636607747,
          0.004321385152683143,
          0.004280439612123677,
          0.004240106615756925,
          0.0042003871497863325,
          0.00416128050017395,
          0.0041227841801647945,
          0.004084893871126717,
          0.0040476033768069766,
          0.004010904591035384,
          0.003974787478833361,
          0.0039392400708195205,
          0.003904248470735267,
          0.0038697968758488535,
          0.0038358676099336316,
          0.0038024411684562066,
          0.0037694962755526968,
          0.003737009952317155,
          0.0037049575958749787,
          0.0036733130686663587,
          0.0036420487973208857,
          0.0036111358804635295,
          0.0035805442047559524,
          0.003550242568444144,
          0.003520198811654705,
          0.003490379952657568,
          0.0034607523292925213,
          0.0034312817447406238,
          0.003401933616809712,
          0.003372673129895479,
          0.0033434653887760993,
          0.003314275573399187,
          0.003285069093824724,
          0.0032558117444967077,
          0.003226469857029342,
          0.003197010450710535,
          0.0031674013799464973,
          0.003137611477895527,
          0.0031076106955675014,
          0.0030773702356967506,
          0.0030468626807309894,
          0.003016062114316534,
          0.0029849442357005825,
          0.0029534864665145453,
          0.0029216680494477247,
          0.002889470138368318,
          0.0028568758794980296,
          0.00282387048329751,
          0.0027904412867721167,
          0.0027565778059606993,
          0.002722271778423912,
          0.0026875171956031014,
          0.0026523103249750128,
          0.002616649721981893,
          0.0025805362317703443,
          0.002543972980825078,
          0.0025069653586357343,
          0.002469520989585253,
          0.0024316496952973446,
          0.002393363447727279,
          0.0023546763133252308
         ],
         "yaxis": "y"
        },
        {
         "fill": "tozeroy",
         "hovertemplate": "<b>Synthetic</b><br>Frequency: %{y}<extra></extra>",
         "legendgroup": "Synthetic",
         "marker": {
          "color": "#01E0C9"
         },
         "mode": "lines",
         "name": "Synthetic",
         "showlegend": true,
         "type": "scatter",
         "x": [
          -1,
          -0.914,
          -0.8280000000000001,
          -0.742,
          -0.656,
          -0.5700000000000001,
          -0.484,
          -0.398,
          -0.31200000000000006,
          -0.22599999999999998,
          -0.14,
          -0.05400000000000005,
          0.03200000000000003,
          0.1180000000000001,
          0.20399999999999996,
          0.29000000000000004,
          0.3759999999999999,
          0.46199999999999997,
          0.548,
          0.6339999999999999,
          0.72,
          0.806,
          0.8919999999999999,
          0.978,
          1.064,
          1.15,
          1.2360000000000002,
          1.322,
          1.408,
          1.4940000000000002,
          1.58,
          1.666,
          1.7519999999999998,
          1.838,
          1.924,
          2.01,
          2.096,
          2.182,
          2.268,
          2.354,
          2.44,
          2.526,
          2.612,
          2.698,
          2.784,
          2.87,
          2.956,
          3.042,
          3.128,
          3.2140000000000004,
          3.3,
          3.386,
          3.4720000000000004,
          3.558,
          3.644,
          3.7300000000000004,
          3.816,
          3.902,
          3.9880000000000004,
          4.074,
          4.16,
          4.246,
          4.332,
          4.418,
          4.504,
          4.59,
          4.676,
          4.762,
          4.848,
          4.934,
          5.02,
          5.106,
          5.192,
          5.278,
          5.364,
          5.45,
          5.536,
          5.622,
          5.708,
          5.794,
          5.88,
          5.966,
          6.052,
          6.138,
          6.224,
          6.31,
          6.396,
          6.482,
          6.568,
          6.654,
          6.74,
          6.826,
          6.912,
          6.998,
          7.084,
          7.17,
          7.256,
          7.3420000000000005,
          7.428000000000001,
          7.513999999999999,
          7.6,
          7.686,
          7.772,
          7.8580000000000005,
          7.944000000000001,
          8.03,
          8.116,
          8.202,
          8.288,
          8.374,
          8.46,
          8.546,
          8.632,
          8.718,
          8.804,
          8.89,
          8.976,
          9.062,
          9.148,
          9.234,
          9.32,
          9.406,
          9.492,
          9.578,
          9.664,
          9.75,
          9.836,
          9.922,
          10.008,
          10.094,
          10.18,
          10.266,
          10.352,
          10.438,
          10.524,
          10.61,
          10.696,
          10.782,
          10.868,
          10.954,
          11.04,
          11.126,
          11.212,
          11.298,
          11.384,
          11.47,
          11.556,
          11.642,
          11.728,
          11.814,
          11.9,
          11.986,
          12.072,
          12.158,
          12.244,
          12.33,
          12.416,
          12.502,
          12.588,
          12.674,
          12.76,
          12.846,
          12.932,
          13.018,
          13.104,
          13.19,
          13.276,
          13.362,
          13.448,
          13.534,
          13.62,
          13.706,
          13.792,
          13.878,
          13.964,
          14.05,
          14.136,
          14.222,
          14.308,
          14.394,
          14.48,
          14.566,
          14.652,
          14.738,
          14.824,
          14.91,
          14.996,
          15.082,
          15.168,
          15.254000000000001,
          15.34,
          15.425999999999998,
          15.512,
          15.597999999999999,
          15.684000000000001,
          15.77,
          15.856000000000002,
          15.942,
          16.028,
          16.114,
          16.2,
          16.286,
          16.372,
          16.458,
          16.544,
          16.63,
          16.716,
          16.802,
          16.888,
          16.974,
          17.06,
          17.146,
          17.232,
          17.318,
          17.404,
          17.49,
          17.576,
          17.662,
          17.748,
          17.834,
          17.92,
          18.006,
          18.092,
          18.178,
          18.264,
          18.35,
          18.436,
          18.522,
          18.608,
          18.694,
          18.78,
          18.866,
          18.952,
          19.038,
          19.124,
          19.21,
          19.296,
          19.382,
          19.468,
          19.554,
          19.64,
          19.726,
          19.812,
          19.898,
          19.984,
          20.07,
          20.156,
          20.242,
          20.328,
          20.414,
          20.5,
          20.586,
          20.672,
          20.758,
          20.844,
          20.93,
          21.016,
          21.102,
          21.188,
          21.274,
          21.36,
          21.446,
          21.532,
          21.618,
          21.704,
          21.79,
          21.876,
          21.962,
          22.048,
          22.134,
          22.22,
          22.306,
          22.392,
          22.478,
          22.564,
          22.65,
          22.736,
          22.822,
          22.908,
          22.994,
          23.08,
          23.166,
          23.252,
          23.338,
          23.424,
          23.51,
          23.596,
          23.682,
          23.768,
          23.854,
          23.94,
          24.026,
          24.112,
          24.198,
          24.284,
          24.37,
          24.456,
          24.542,
          24.628,
          24.714,
          24.8,
          24.886,
          24.972,
          25.058,
          25.144,
          25.23,
          25.316,
          25.402,
          25.488,
          25.574,
          25.66,
          25.746,
          25.832,
          25.918,
          26.004,
          26.09,
          26.176,
          26.262,
          26.348,
          26.434,
          26.52,
          26.606,
          26.692,
          26.778,
          26.864,
          26.95,
          27.036,
          27.122,
          27.208,
          27.294,
          27.38,
          27.466,
          27.552,
          27.638,
          27.724,
          27.81,
          27.896,
          27.982,
          28.068,
          28.154,
          28.24,
          28.326,
          28.412,
          28.498,
          28.584,
          28.67,
          28.756,
          28.842,
          28.928,
          29.014,
          29.1,
          29.186,
          29.272,
          29.358,
          29.444,
          29.53,
          29.616,
          29.702,
          29.788,
          29.874,
          29.96,
          30.046,
          30.132,
          30.218,
          30.304,
          30.39,
          30.476,
          30.562,
          30.648,
          30.734,
          30.82,
          30.906,
          30.992,
          31.078000000000003,
          31.164,
          31.25,
          31.336,
          31.421999999999997,
          31.508000000000003,
          31.594,
          31.68,
          31.766,
          31.851999999999997,
          31.938000000000002,
          32.024,
          32.11,
          32.196,
          32.282,
          32.368,
          32.454,
          32.54,
          32.626,
          32.712,
          32.798,
          32.884,
          32.97,
          33.056,
          33.142,
          33.228,
          33.314,
          33.4,
          33.486,
          33.572,
          33.658,
          33.744,
          33.83,
          33.916,
          34.002,
          34.088,
          34.174,
          34.26,
          34.346,
          34.432,
          34.518,
          34.604,
          34.69,
          34.776,
          34.862,
          34.948,
          35.034,
          35.12,
          35.206,
          35.292,
          35.378,
          35.464,
          35.55,
          35.636,
          35.722,
          35.808,
          35.894,
          35.98,
          36.066,
          36.152,
          36.238,
          36.324,
          36.41,
          36.496,
          36.582,
          36.668,
          36.754,
          36.84,
          36.926,
          37.012,
          37.098,
          37.184,
          37.27,
          37.356,
          37.442,
          37.528,
          37.614,
          37.7,
          37.786,
          37.872,
          37.958,
          38.044,
          38.13,
          38.216,
          38.302,
          38.388,
          38.474,
          38.56,
          38.646,
          38.732,
          38.818,
          38.904,
          38.99,
          39.076,
          39.162,
          39.248,
          39.334,
          39.42,
          39.506,
          39.592,
          39.678,
          39.764,
          39.85,
          39.936,
          40.022,
          40.108,
          40.194,
          40.28,
          40.366,
          40.452,
          40.538,
          40.624,
          40.71,
          40.796,
          40.882,
          40.968,
          41.054,
          41.14,
          41.226,
          41.312,
          41.398,
          41.484,
          41.57,
          41.656,
          41.742,
          41.828,
          41.914
         ],
         "xaxis": "x",
         "y": [
          0.010279657508579211,
          0.010532629870145088,
          0.010787417983936618,
          0.011043940865105573,
          0.011302120248819004,
          0.011561880839629736,
          0.011823150539357313,
          0.012085860651748328,
          0.012349946062305585,
          0.012615345391809111,
          0.012882001122198821,
          0.01314985969364629,
          0.013418871571813753,
          0.013688991284476959,
          0.01396017742687745,
          0.014232392635366527,
          0.014505603529105088,
          0.014779780619793095,
          0.015054898189612847,
          0.015330934137786018,
          0.015607869796358845,
          0.01588568971604521,
          0.016164381423169612,
          0.016443935148961582,
          0.016724343532656463,
          0.0170056013000552,
          0.017287704919384403,
          0.017570652236477635,
          0.01785444209146722,
          0.01813907391933201,
          0.018424547336788395,
          0.01871086171814074,
          0.018998015762817278,
          0.019286007057414293,
          0.019574831635147037,
          0.019864483535665042,
          0.02015495436822894,
          0.02044623288126586,
          0.020738304541319388,
          0.021031151124391266,
          0.02132475032262998,
          0.02161907536926149,
          0.021914094684575947,
          0.02220977154568453,
          0.022506063782640338,
          0.0228029235033802,
          0.023100296849787733,
          0.02339812378700736,
          0.023696337927948705,
          0.023994866394721554,
          0.02429362971852274,
          0.024592541779272,
          0.024891509786053638,
          0.025190434299176227,
          0.0254892092944084,
          0.02578772226968894,
          0.02608585439434821,
          0.026383480700612277,
          0.026680470316895837,
          0.026976686742128195,
          0.027271988160095254,
          0.027566227792526706,
          0.0278592542894091,
          0.028150912154766707,
          0.02844104220592281,
          0.02872948206403559,
          0.029016066673500436,
          0.029300628847618266,
          0.029582999837756828,
          0.02986300992307409,
          0.030140489017732995,
          0.030415267292417072,
          0.030687175806853276,
          0.030956047149968934,
          0.031221716084248646,
          0.03148402019081464,
          0.03174280051173905,
          0.031997902186094454,
          0.032249175076274283,
          0.032496474381157214,
          0.03273966123275174,
          0.03297860327304222,
          0.033213175207856514,
          0.03344325933469809,
          0.03366874604161859,
          0.033889534274363184,
          0.03410553196918568,
          0.03431665644891474,
          0.0345228347800433,
          0.03472400408882174,
          0.03492011183454683,
          0.03511111603846518,
          0.03529698546693681,
          0.035477699767742114,
          0.03565324955865481,
          0.03582363646764491,
          0.035988873124320336,
          0.0361489831024577,
          0.03630400081371645,
          0.03645397135286748,
          0.036598950295103634,
          0.03673900344622926,
          0.03687420654674946,
          0.037004644931094934,
          0.03713041314342986,
          0.03725161451168512,
          0.037368360681652744,
          0.03748077111315459,
          0.03758897254046682,
          0.03769309839933989,
          0.03779328822309675,
          0.03788968701042804,
          0.037982444567619386,
          0.03807171482805851,
          0.038157655151962316,
          0.0382404256093472,
          0.03832018824933642,
          0.03839710635895516,
          0.038471343714608947,
          0.03854306382947225,
          0.038612429200034784,
          0.038679600555061214,
          0.038744736110213424,
          0.0388079908315721,
          0.03886951571126173,
          0.03892945705834976,
          0.03898795580813588,
          0.03904514685288775,
          0.039101158397009665,
          0.039156111339543644,
          0.039210118686813775,
          0.039263284997919604,
          0.03931570586566986,
          0.039367467435428356,
          0.03941864596420595,
          0.039469307422195656,
          0.03951950713879154,
          0.03956928949497393,
          0.03961868766377293,
          0.039667723400343725,
          0.03971640688300066,
          0.03976473660636166,
          0.039812699327552936,
          0.03986027006621409,
          0.039907412158826115,
          0.03995407736766417,
          0.04000020604444645,
          0.040045727348519,
          0.040090559519177525,
          0.040134610201488,
          0.04017777682472237,
          0.04021994703228256,
          0.040260999161739475,
          0.040300802773369615,
          0.04033921922532773,
          0.0403761022933549,
          0.04041129883268488,
          0.04044464947958084,
          0.04047598938971243,
          0.04050514901036605,
          0.04053195488327846,
          0.04055623047468611,
          0.04057779702900442,
          0.04059647444238097,
          0.0406120821522151,
          0.0406244400386008,
          0.040633369333530484,
          0.040638693533601306,
          0.04064023931188248,
          0.040637837424550384,
          0.0406313236078571,
          0.04062053946099095,
          0.04060533331039462,
          0.040585561051145115,
          0.040561086961057084,
          0.04053178448325731,
          0.040497536973086494,
          0.04045823840531831,
          0.04041379403784426,
          0.0403641210281542,
          0.04030914899914821,
          0.04024882055104123,
          0.04018309171637331,
          0.04011193235540353,
          0.040035326489456735,
          0.03995327257009495,
          0.039865783682306116,
          0.03977288768023835,
          0.03967462725435204,
          0.039571059929221684,
          0.03946225799158057,
          0.03934830834857197,
          0.03922931231654462,
          0.03910538534110332,
          0.03897665664949851,
          0.03884326883680895,
          0.03870537738773242,
          0.03856315013615615,
          0.038416766665022764,
          0.03826641764933629,
          0.03811230414547177,
          0.03795463683024859,
          0.03779363519350808,
          0.03762952668819508,
          0.037462545842177085,
          0.0372929333362486,
          0.03712093505295257,
          0.03694680110100989,
          0.03677078482027869,
          0.036593141772268536,
          0.036414128721305124,
          0.03623400261148586,
          0.03605301954457745,
          0.03587143376398978,
          0.035689496649912715,
          0.03550745573062412,
          0.03532555371487169,
          0.03514402755009533,
          0.0349631075110955,
          0.034783016323563884,
          0.03460396832667866,
          0.03442616867873091,
          0.03424981260949047,
          0.03407508472273791,
          0.03390215835209709,
          0.03373119497298592,
          0.0335623436731786,
          0.033395740684133306,
          0.03323150897489067,
          0.03306975790999401,
          0.03291058297252166,
          0.032754065552957796,
          0.032600272804267416,
          0.03244925756317752,
          0.03230105833731145,
          0.03215569935747215,
          0.032013190694029504,
          0.03187352843603482,
          0.031736694931367784,
          0.03160265908591808,
          0.0314713767195155,
          0.031342790976052054,
          0.03121683278499052,
          0.03109342137122296,
          0.03097246481003275,
          0.03085386062373037,
          0.03073749641636798,
          0.030623250542799862,
          0.030510992808241787,
          0.03040058519438993,
          0.03029188260809822,
          0.03018473364856784,
          0.030078981388989835,
          0.029974464168584382,
          0.02987101639101535,
          0.029768469325206954,
          0.029666651904667062,
          0.02956539152151361,
          0.02946451481151711,
          0.0293638484266035,
          0.02926321979141053,
          0.029162457840657314,
          0.02906139373426295,
          0.02895986154734376,
          0.028857698932419223,
          0.0287547477513682,
          0.02865085467489662,
          0.02854587174750195,
          0.028439656916149983,
          0.028332074521110806,
          0.028222995747634667,
          0.028112299037382084,
          0.02799987045875303,
          0.02788560403548918,
          0.027769402033147594,
          0.027651175203261012,
          0.027530842985214413,
          0.02740833366606846,
          0.02728358449875756,
          0.0271565417792762,
          0.027027160883641068,
          0.026895406265583243,
          0.026761251416075747,
          0.026624678785945672,
          0.02648567967294744,
          0.026344254074792805,
          0.02620041050973604,
          0.026054165806407976,
          0.025905544864670147,
          0.025754580389330893,
          0.025601312598620054,
          0.025445788909364893,
          0.025288063600843666,
          0.025128197459315774,
          0.02496625740524179,
          0.02480231610520846,
          0.024636451570569772,
          0.024468746744799753,
          0.024299289081531058,
          0.02412817011522415,
          0.023955485026375536,
          0.023781332203130733,
          0.023605812801121607,
          0.023429030303292846,
          0.02325109008142669,
          0.023072098961014042,
          0.02289216479105507,
          0.022711396020305738,
          0.02252990128141702,
          0.022347788984342087,
          0.02216516692031242,
          0.02198214187761072,
          0.021798819270291064,
          0.021615302780921608,
          0.021431694018346607,
          0.02124809219138896,
          0.021064593799334744,
          0.020881292339965156,
          0.020698278035823366,
          0.020515637579325598,
          0.020333453897250137,
          0.020151805935060253,
          0.01997076846144155,
          0.0197904118933578,
          0.019610802141855753,
          0.019432000478773494,
          0.01925406342443466,
          0.01907704265633727,
          0.018900984938774703,
          0.018725932073255416,
          0.01855192086951851,
          0.018378983136873823,
          0.018207145695528774,
          0.01803643040749833,
          0.0178668542266319,
          0.017698429267228245,
          0.01753116289065123,
          0.017365057809301577,
          0.0172001122072451,
          0.017036319876747186,
          0.016873670369913062,
          0.016712149164589456,
          0.016551737843639946,
          0.016392414286668933,
          0.016234152873233598,
          0.016076924696553696,
          0.015920697786702083,
          0.015765437342237343,
          0.015611105969222449,
          0.015457663926560419,
          0.015305069376570358,
          0.01515327863972386,
          0.015002246452462802,
          0.014851926227026796,
          0.014702270312229045,
          0.014553230254135106,
          0.014404757055619841,
          0.014256801433801976,
          0.014109314074385437,
          0.01396224588196872,
          0.013815548225421513,
          0.013669173177467282,
          0.013523073747654235,
          0.01337720410794451,
          0.013231519810199257,
          0.013085977994889616,
          0.012940537590416433,
          0.01279515950247639,
          0.012649806792967695,
          0.012504444847985685,
          0.012359041534514774,
          0.012213567345480498,
          0.012067995532881565,
          0.01192230222877751,
          0.011776466553961881,
          0.011630470714204231,
          0.011484300083995229,
          0.01133794327777852,
          0.011191392208700489,
          0.011044642134953075,
          0.01089769169382734,
          0.010750542923634495,
          0.010603201273687433,
          0.010455675602569518,
          0.0103079781649474,
          0.010160124587212317,
          0.01001213383225889,
          0.009864028153731727,
          0.009715833040088832,
          0.009567577148847152,
          0.009419292231388703,
          0.009271013048716612,
          0.009122777278559816,
          0.00897462541423102,
          0.00882660065564793,
          0.00867874879293129,
          0.008531118082994471,
          0.008383759119540715,
          0.008236724696883819,
          0.008090069668006784,
          0.007943850797272212,
          0.007798126608196095,
          0.007652957226694769,
          0.007508404220213649,
          0.007364530433144149,
          0.0072213998189345615,
          0.007079077269299721,
          0.006937628440934125,
          0.006797119580133902,
          0.006657617345733496,
          0.006519188630765522,
          0.006381900383253948,
          0.006245819426554008,
          0.006111012279655773,
          0.005977544977872151,
          0.005845482894336585,
          0.0057148905627399564,
          0.005585831501741001,
          0.005458368041488798,
          0.005332561152700509,
          0.005208470278740714,
          0.005086153171152409,
          0.004965665729091792,
          0.0048470618431200405,
          0.0047303932438058985,
          0.0046157093555911225,
          0.004503057156368079,
          0.004392481043214419,
          0.004284022704722745,
          0.0041777210003551375,
          0.004073611847241431,
          0.003971728114827104,
          0.0038720995277616546,
          0.003774752577400136,
          0.0036797104422709326,
          0.003586992917839825,
          0.0034966163558756247,
          0.003408593613695121,
          0.003322934013535468,
          0.0032396433122701455,
          0.0031587236816504596,
          0.0030801736992187474,
          0.0030039883500013386,
          0.0029301590390500435,
          0.0028586736148600383,
          0.0027895164036497995,
          0.0027226682544459493,
          0.0026581065948717204,
          0.002595805497494125,
          0.002535735756539984,
          0.002477864974747069,
          0.0024221576600725997,
          0.00236857533193819,
          0.002317076636648012,
          0.002267617471576069,
          0.0022201511176787618,
          0.0021746283798514472,
          0.0021309977346116713,
          0.0020892054845585975,
          0.0020491959190270287,
          0.002010911480326163,
          0.0019742929349279314,
          0.0019392795489474232,
          0.0019058092672388318,
          0.0018738188954145914,
          0.0018432442840831157,
          0.0018140205145917793,
          0.0017860820855565911,
          0.00175936309945851,
          0.0017337974485884093,
          0.0017093189996284135,
          0.0016858617761665745,
          0.0016633601384548004,
          0.0016417489597359567,
          0.0016209637984858783,
          0.0016009410659385641,
          0.0015816181882888458,
          0.0015629337629953456,
          0.001544827708638051,
          0.0015272414078187782,
          0.0015101178426288734,
          0.0014934017222469253,
          0.0014770396022693014,
          0.001460979995418086,
          0.0014451734733140172,
          0.001429572759046235,
          0.0014141328103155324,
          0.0013988108929735344,
          0.0013835666448259055,
          0.00136836212961372,
          0.0013531618811328603,
          0.0013379329374964913,
          0.00132264486559028,
          0.0013072697758136982,
          0.0012917823272431182,
          0.0012761597233936152,
          0.0012603816987958516,
          0.001244430496642162,
          0.0012282908377918064,
          0.0012119498814589422
         ],
         "yaxis": "y"
        }
       ],
       "layout": {
        "barmode": "overlay",
        "font": {
         "size": 18
        },
        "hovermode": "closest",
        "legend": {
         "traceorder": "reversed"
        },
        "plot_bgcolor": "#F5F5F8",
        "template": {
         "data": {
          "bar": [
           {
            "error_x": {
             "color": "#2a3f5f"
            },
            "error_y": {
             "color": "#2a3f5f"
            },
            "marker": {
             "line": {
              "color": "#E5ECF6",
              "width": 0.5
             },
             "pattern": {
              "fillmode": "overlay",
              "size": 10,
              "solidity": 0.2
             }
            },
            "type": "bar"
           }
          ],
          "barpolar": [
           {
            "marker": {
             "line": {
              "color": "#E5ECF6",
              "width": 0.5
             },
             "pattern": {
              "fillmode": "overlay",
              "size": 10,
              "solidity": 0.2
             }
            },
            "type": "barpolar"
           }
          ],
          "carpet": [
           {
            "aaxis": {
             "endlinecolor": "#2a3f5f",
             "gridcolor": "white",
             "linecolor": "white",
             "minorgridcolor": "white",
             "startlinecolor": "#2a3f5f"
            },
            "baxis": {
             "endlinecolor": "#2a3f5f",
             "gridcolor": "white",
             "linecolor": "white",
             "minorgridcolor": "white",
             "startlinecolor": "#2a3f5f"
            },
            "type": "carpet"
           }
          ],
          "choropleth": [
           {
            "colorbar": {
             "outlinewidth": 0,
             "ticks": ""
            },
            "type": "choropleth"
           }
          ],
          "contour": [
           {
            "colorbar": {
             "outlinewidth": 0,
             "ticks": ""
            },
            "colorscale": [
             [
              0,
              "#0d0887"
             ],
             [
              0.1111111111111111,
              "#46039f"
             ],
             [
              0.2222222222222222,
              "#7201a8"
             ],
             [
              0.3333333333333333,
              "#9c179e"
             ],
             [
              0.4444444444444444,
              "#bd3786"
             ],
             [
              0.5555555555555556,
              "#d8576b"
             ],
             [
              0.6666666666666666,
              "#ed7953"
             ],
             [
              0.7777777777777778,
              "#fb9f3a"
             ],
             [
              0.8888888888888888,
              "#fdca26"
             ],
             [
              1,
              "#f0f921"
             ]
            ],
            "type": "contour"
           }
          ],
          "contourcarpet": [
           {
            "colorbar": {
             "outlinewidth": 0,
             "ticks": ""
            },
            "type": "contourcarpet"
           }
          ],
          "heatmap": [
           {
            "colorbar": {
             "outlinewidth": 0,
             "ticks": ""
            },
            "colorscale": [
             [
              0,
              "#0d0887"
             ],
             [
              0.1111111111111111,
              "#46039f"
             ],
             [
              0.2222222222222222,
              "#7201a8"
             ],
             [
              0.3333333333333333,
              "#9c179e"
             ],
             [
              0.4444444444444444,
              "#bd3786"
             ],
             [
              0.5555555555555556,
              "#d8576b"
             ],
             [
              0.6666666666666666,
              "#ed7953"
             ],
             [
              0.7777777777777778,
              "#fb9f3a"
             ],
             [
              0.8888888888888888,
              "#fdca26"
             ],
             [
              1,
              "#f0f921"
             ]
            ],
            "type": "heatmap"
           }
          ],
          "heatmapgl": [
           {
            "colorbar": {
             "outlinewidth": 0,
             "ticks": ""
            },
            "colorscale": [
             [
              0,
              "#0d0887"
             ],
             [
              0.1111111111111111,
              "#46039f"
             ],
             [
              0.2222222222222222,
              "#7201a8"
             ],
             [
              0.3333333333333333,
              "#9c179e"
             ],
             [
              0.4444444444444444,
              "#bd3786"
             ],
             [
              0.5555555555555556,
              "#d8576b"
             ],
             [
              0.6666666666666666,
              "#ed7953"
             ],
             [
              0.7777777777777778,
              "#fb9f3a"
             ],
             [
              0.8888888888888888,
              "#fdca26"
             ],
             [
              1,
              "#f0f921"
             ]
            ],
            "type": "heatmapgl"
           }
          ],
          "histogram": [
           {
            "marker": {
             "pattern": {
              "fillmode": "overlay",
              "size": 10,
              "solidity": 0.2
             }
            },
            "type": "histogram"
           }
          ],
          "histogram2d": [
           {
            "colorbar": {
             "outlinewidth": 0,
             "ticks": ""
            },
            "colorscale": [
             [
              0,
              "#0d0887"
             ],
             [
              0.1111111111111111,
              "#46039f"
             ],
             [
              0.2222222222222222,
              "#7201a8"
             ],
             [
              0.3333333333333333,
              "#9c179e"
             ],
             [
              0.4444444444444444,
              "#bd3786"
             ],
             [
              0.5555555555555556,
              "#d8576b"
             ],
             [
              0.6666666666666666,
              "#ed7953"
             ],
             [
              0.7777777777777778,
              "#fb9f3a"
             ],
             [
              0.8888888888888888,
              "#fdca26"
             ],
             [
              1,
              "#f0f921"
             ]
            ],
            "type": "histogram2d"
           }
          ],
          "histogram2dcontour": [
           {
            "colorbar": {
             "outlinewidth": 0,
             "ticks": ""
            },
            "colorscale": [
             [
              0,
              "#0d0887"
             ],
             [
              0.1111111111111111,
              "#46039f"
             ],
             [
              0.2222222222222222,
              "#7201a8"
             ],
             [
              0.3333333333333333,
              "#9c179e"
             ],
             [
              0.4444444444444444,
              "#bd3786"
             ],
             [
              0.5555555555555556,
              "#d8576b"
             ],
             [
              0.6666666666666666,
              "#ed7953"
             ],
             [
              0.7777777777777778,
              "#fb9f3a"
             ],
             [
              0.8888888888888888,
              "#fdca26"
             ],
             [
              1,
              "#f0f921"
             ]
            ],
            "type": "histogram2dcontour"
           }
          ],
          "mesh3d": [
           {
            "colorbar": {
             "outlinewidth": 0,
             "ticks": ""
            },
            "type": "mesh3d"
           }
          ],
          "parcoords": [
           {
            "line": {
             "colorbar": {
              "outlinewidth": 0,
              "ticks": ""
             }
            },
            "type": "parcoords"
           }
          ],
          "pie": [
           {
            "automargin": true,
            "type": "pie"
           }
          ],
          "scatter": [
           {
            "fillpattern": {
             "fillmode": "overlay",
             "size": 10,
             "solidity": 0.2
            },
            "type": "scatter"
           }
          ],
          "scatter3d": [
           {
            "line": {
             "colorbar": {
              "outlinewidth": 0,
              "ticks": ""
             }
            },
            "marker": {
             "colorbar": {
              "outlinewidth": 0,
              "ticks": ""
             }
            },
            "type": "scatter3d"
           }
          ],
          "scattercarpet": [
           {
            "marker": {
             "colorbar": {
              "outlinewidth": 0,
              "ticks": ""
             }
            },
            "type": "scattercarpet"
           }
          ],
          "scattergeo": [
           {
            "marker": {
             "colorbar": {
              "outlinewidth": 0,
              "ticks": ""
             }
            },
            "type": "scattergeo"
           }
          ],
          "scattergl": [
           {
            "marker": {
             "colorbar": {
              "outlinewidth": 0,
              "ticks": ""
             }
            },
            "type": "scattergl"
           }
          ],
          "scattermapbox": [
           {
            "marker": {
             "colorbar": {
              "outlinewidth": 0,
              "ticks": ""
             }
            },
            "type": "scattermapbox"
           }
          ],
          "scatterpolar": [
           {
            "marker": {
             "colorbar": {
              "outlinewidth": 0,
              "ticks": ""
             }
            },
            "type": "scatterpolar"
           }
          ],
          "scatterpolargl": [
           {
            "marker": {
             "colorbar": {
              "outlinewidth": 0,
              "ticks": ""
             }
            },
            "type": "scatterpolargl"
           }
          ],
          "scatterternary": [
           {
            "marker": {
             "colorbar": {
              "outlinewidth": 0,
              "ticks": ""
             }
            },
            "type": "scatterternary"
           }
          ],
          "surface": [
           {
            "colorbar": {
             "outlinewidth": 0,
             "ticks": ""
            },
            "colorscale": [
             [
              0,
              "#0d0887"
             ],
             [
              0.1111111111111111,
              "#46039f"
             ],
             [
              0.2222222222222222,
              "#7201a8"
             ],
             [
              0.3333333333333333,
              "#9c179e"
             ],
             [
              0.4444444444444444,
              "#bd3786"
             ],
             [
              0.5555555555555556,
              "#d8576b"
             ],
             [
              0.6666666666666666,
              "#ed7953"
             ],
             [
              0.7777777777777778,
              "#fb9f3a"
             ],
             [
              0.8888888888888888,
              "#fdca26"
             ],
             [
              1,
              "#f0f921"
             ]
            ],
            "type": "surface"
           }
          ],
          "table": [
           {
            "cells": {
             "fill": {
              "color": "#EBF0F8"
             },
             "line": {
              "color": "white"
             }
            },
            "header": {
             "fill": {
              "color": "#C8D4E3"
             },
             "line": {
              "color": "white"
             }
            },
            "type": "table"
           }
          ]
         },
         "layout": {
          "annotationdefaults": {
           "arrowcolor": "#2a3f5f",
           "arrowhead": 0,
           "arrowwidth": 1
          },
          "autotypenumbers": "strict",
          "coloraxis": {
           "colorbar": {
            "outlinewidth": 0,
            "ticks": ""
           }
          },
          "colorscale": {
           "diverging": [
            [
             0,
             "#8e0152"
            ],
            [
             0.1,
             "#c51b7d"
            ],
            [
             0.2,
             "#de77ae"
            ],
            [
             0.3,
             "#f1b6da"
            ],
            [
             0.4,
             "#fde0ef"
            ],
            [
             0.5,
             "#f7f7f7"
            ],
            [
             0.6,
             "#e6f5d0"
            ],
            [
             0.7,
             "#b8e186"
            ],
            [
             0.8,
             "#7fbc41"
            ],
            [
             0.9,
             "#4d9221"
            ],
            [
             1,
             "#276419"
            ]
           ],
           "sequential": [
            [
             0,
             "#0d0887"
            ],
            [
             0.1111111111111111,
             "#46039f"
            ],
            [
             0.2222222222222222,
             "#7201a8"
            ],
            [
             0.3333333333333333,
             "#9c179e"
            ],
            [
             0.4444444444444444,
             "#bd3786"
            ],
            [
             0.5555555555555556,
             "#d8576b"
            ],
            [
             0.6666666666666666,
             "#ed7953"
            ],
            [
             0.7777777777777778,
             "#fb9f3a"
            ],
            [
             0.8888888888888888,
             "#fdca26"
            ],
            [
             1,
             "#f0f921"
            ]
           ],
           "sequentialminus": [
            [
             0,
             "#0d0887"
            ],
            [
             0.1111111111111111,
             "#46039f"
            ],
            [
             0.2222222222222222,
             "#7201a8"
            ],
            [
             0.3333333333333333,
             "#9c179e"
            ],
            [
             0.4444444444444444,
             "#bd3786"
            ],
            [
             0.5555555555555556,
             "#d8576b"
            ],
            [
             0.6666666666666666,
             "#ed7953"
            ],
            [
             0.7777777777777778,
             "#fb9f3a"
            ],
            [
             0.8888888888888888,
             "#fdca26"
            ],
            [
             1,
             "#f0f921"
            ]
           ]
          },
          "colorway": [
           "#636efa",
           "#EF553B",
           "#00cc96",
           "#ab63fa",
           "#FFA15A",
           "#19d3f3",
           "#FF6692",
           "#B6E880",
           "#FF97FF",
           "#FECB52"
          ],
          "font": {
           "color": "#2a3f5f"
          },
          "geo": {
           "bgcolor": "white",
           "lakecolor": "white",
           "landcolor": "#E5ECF6",
           "showlakes": true,
           "showland": true,
           "subunitcolor": "white"
          },
          "hoverlabel": {
           "align": "left"
          },
          "hovermode": "closest",
          "mapbox": {
           "style": "light"
          },
          "paper_bgcolor": "white",
          "plot_bgcolor": "#E5ECF6",
          "polar": {
           "angularaxis": {
            "gridcolor": "white",
            "linecolor": "white",
            "ticks": ""
           },
           "bgcolor": "#E5ECF6",
           "radialaxis": {
            "gridcolor": "white",
            "linecolor": "white",
            "ticks": ""
           }
          },
          "scene": {
           "xaxis": {
            "backgroundcolor": "#E5ECF6",
            "gridcolor": "white",
            "gridwidth": 2,
            "linecolor": "white",
            "showbackground": true,
            "ticks": "",
            "zerolinecolor": "white"
           },
           "yaxis": {
            "backgroundcolor": "#E5ECF6",
            "gridcolor": "white",
            "gridwidth": 2,
            "linecolor": "white",
            "showbackground": true,
            "ticks": "",
            "zerolinecolor": "white"
           },
           "zaxis": {
            "backgroundcolor": "#E5ECF6",
            "gridcolor": "white",
            "gridwidth": 2,
            "linecolor": "white",
            "showbackground": true,
            "ticks": "",
            "zerolinecolor": "white"
           }
          },
          "shapedefaults": {
           "line": {
            "color": "#2a3f5f"
           }
          },
          "ternary": {
           "aaxis": {
            "gridcolor": "white",
            "linecolor": "white",
            "ticks": ""
           },
           "baxis": {
            "gridcolor": "white",
            "linecolor": "white",
            "ticks": ""
           },
           "bgcolor": "#E5ECF6",
           "caxis": {
            "gridcolor": "white",
            "linecolor": "white",
            "ticks": ""
           }
          },
          "title": {
           "x": 0.05
          },
          "xaxis": {
           "automargin": true,
           "gridcolor": "white",
           "linecolor": "white",
           "ticks": "",
           "title": {
            "standoff": 15
           },
           "zerolinecolor": "white",
           "zerolinewidth": 2
          },
          "yaxis": {
           "automargin": true,
           "gridcolor": "white",
           "linecolor": "white",
           "ticks": "",
           "title": {
            "standoff": 15
           },
           "zerolinecolor": "white",
           "zerolinewidth": 2
          }
         }
        },
        "title": {
         "text": "Real vs. Synthetic Data for column 'num_of_icd9_codes'"
        },
        "xaxis": {
         "anchor": "y2",
         "domain": [
          0,
          1
         ],
         "title": {
          "text": "Value"
         },
         "zeroline": false
        },
        "yaxis": {
         "anchor": "free",
         "domain": [
          0,
          1
         ],
         "position": 0,
         "title": {
          "text": "Frequency"
         }
        }
       }
      }
     },
     "metadata": {},
     "output_type": "display_data"
    },
    {
     "data": {
      "application/vnd.plotly.v1+json": {
       "config": {
        "plotlyServerURL": "https://plot.ly"
       },
       "data": [
        {
         "alignmentgroup": "True",
         "bingroup": "x",
         "histnorm": "probability density",
         "hovertemplate": "<b>Real</b><br>Frequency: %{y}<extra></extra>",
         "legendgroup": "Real",
         "marker": {
          "color": "#000036",
          "pattern": {
           "shape": ""
          }
         },
         "name": "Real",
         "offsetgroup": "Real",
         "orientation": "v",
         "showlegend": true,
         "type": "histogram",
         "x": [
          false,
          false,
          false,
          false,
          false,
          false,
          false,
          false,
          false,
          false,
          false,
          false,
          false,
          false,
          false,
          false,
          false,
          false,
          false,
          false,
          true,
          true,
          true,
          false,
          false,
          true,
          true,
          false,
          false,
          false,
          false,
          false,
          false,
          false,
          false,
          false,
          false,
          false,
          false,
          true,
          false,
          false,
          false,
          false,
          false,
          false,
          false,
          false,
          false,
          false,
          true,
          false,
          false,
          false,
          false,
          false,
          false,
          false,
          true,
          false,
          false,
          false,
          false,
          false,
          false,
          true,
          true,
          false,
          false,
          false,
          false,
          false,
          false,
          false,
          false,
          false,
          false,
          false,
          true,
          false,
          false,
          false,
          false,
          true,
          false,
          false,
          true,
          false,
          false,
          false,
          false,
          false,
          false,
          false,
          false,
          false,
          false,
          true,
          true,
          false,
          true,
          true,
          true,
          true,
          false,
          false,
          false,
          false,
          false,
          false,
          false,
          false,
          false,
          false,
          false,
          false,
          false,
          false,
          false,
          false,
          false,
          false,
          false,
          false,
          false,
          false,
          false,
          false,
          false,
          false,
          false,
          true,
          false,
          false,
          false,
          false,
          false,
          false,
          false,
          false,
          false,
          false,
          false,
          true,
          true,
          false,
          false,
          false,
          false,
          false,
          false,
          false,
          false,
          false,
          false,
          false,
          false,
          false,
          false,
          false,
          false,
          false,
          false,
          false,
          false,
          false,
          false,
          false,
          false,
          false,
          false,
          false,
          true,
          false,
          false,
          false,
          false,
          false,
          false,
          true,
          false,
          false,
          false,
          false,
          true,
          false,
          false,
          false,
          false,
          false,
          false,
          false,
          true,
          true,
          false,
          false,
          true,
          true,
          false,
          false,
          false,
          false,
          false,
          false,
          false,
          false,
          false,
          true,
          false,
          false,
          false,
          true,
          false,
          false,
          false,
          false,
          false
         ],
         "xaxis": "x",
         "yaxis": "y"
        },
        {
         "alignmentgroup": "True",
         "bingroup": "x",
         "histnorm": "probability density",
         "hovertemplate": "<b>Synthetic</b><br>Frequency: %{y}<extra></extra>",
         "legendgroup": "Synthetic",
         "marker": {
          "color": "#01E0C9",
          "pattern": {
           "shape": "/"
          }
         },
         "name": "Synthetic",
         "offsetgroup": "Synthetic",
         "orientation": "v",
         "showlegend": true,
         "type": "histogram",
         "x": [
          false,
          false,
          false,
          false,
          false,
          true,
          false,
          false,
          false,
          false,
          false,
          false,
          false,
          true,
          false,
          false,
          false,
          false,
          false,
          false,
          false,
          false,
          false,
          false,
          false,
          false,
          false,
          false,
          false,
          false,
          false,
          false,
          true,
          false,
          true,
          false,
          false,
          false,
          false,
          false,
          false,
          false,
          false,
          false,
          false,
          false,
          false,
          false,
          false,
          false,
          false,
          false,
          false,
          true,
          false,
          false,
          false,
          false,
          false,
          true,
          false,
          false,
          false,
          true,
          false,
          true,
          false,
          true,
          false,
          true,
          false,
          false,
          false,
          false,
          false,
          false,
          false,
          false,
          false,
          false,
          false,
          true,
          false,
          false,
          true,
          false,
          false,
          false,
          false,
          false,
          false,
          false,
          false,
          false,
          false,
          false,
          false,
          false,
          false,
          false,
          true,
          false,
          false,
          false,
          true,
          false,
          false,
          false,
          false,
          false,
          false,
          false,
          true,
          false,
          false,
          true,
          true,
          false,
          false,
          false,
          false,
          false,
          false,
          false,
          false,
          false,
          true,
          false,
          false,
          false,
          false,
          false,
          false,
          false,
          false,
          false,
          false,
          false,
          false,
          false,
          false,
          false,
          false,
          false,
          false,
          false,
          false,
          true,
          false,
          false,
          true,
          false,
          false,
          false,
          false,
          true,
          false,
          false,
          false,
          false,
          false,
          false,
          false,
          false,
          false,
          false,
          false,
          false,
          false,
          false,
          false,
          false,
          false,
          false,
          false,
          false,
          false,
          true,
          false,
          false,
          true,
          false,
          false,
          false,
          false,
          false,
          false,
          false,
          false,
          true,
          false,
          false,
          false,
          false,
          false,
          false,
          false,
          false,
          false,
          false,
          true,
          false,
          false,
          false,
          false,
          false,
          false,
          false,
          false,
          false,
          false,
          false,
          false,
          false,
          false,
          false,
          true
         ],
         "xaxis": "x",
         "yaxis": "y"
        }
       ],
       "layout": {
        "barmode": "group",
        "font": {
         "size": 18
        },
        "legend": {
         "title": {
          "text": "Data"
         },
         "tracegroupgap": 0
        },
        "margin": {
         "t": 60
        },
        "plot_bgcolor": "#F5F5F8",
        "template": {
         "data": {
          "bar": [
           {
            "error_x": {
             "color": "#2a3f5f"
            },
            "error_y": {
             "color": "#2a3f5f"
            },
            "marker": {
             "line": {
              "color": "#E5ECF6",
              "width": 0.5
             },
             "pattern": {
              "fillmode": "overlay",
              "size": 10,
              "solidity": 0.2
             }
            },
            "type": "bar"
           }
          ],
          "barpolar": [
           {
            "marker": {
             "line": {
              "color": "#E5ECF6",
              "width": 0.5
             },
             "pattern": {
              "fillmode": "overlay",
              "size": 10,
              "solidity": 0.2
             }
            },
            "type": "barpolar"
           }
          ],
          "carpet": [
           {
            "aaxis": {
             "endlinecolor": "#2a3f5f",
             "gridcolor": "white",
             "linecolor": "white",
             "minorgridcolor": "white",
             "startlinecolor": "#2a3f5f"
            },
            "baxis": {
             "endlinecolor": "#2a3f5f",
             "gridcolor": "white",
             "linecolor": "white",
             "minorgridcolor": "white",
             "startlinecolor": "#2a3f5f"
            },
            "type": "carpet"
           }
          ],
          "choropleth": [
           {
            "colorbar": {
             "outlinewidth": 0,
             "ticks": ""
            },
            "type": "choropleth"
           }
          ],
          "contour": [
           {
            "colorbar": {
             "outlinewidth": 0,
             "ticks": ""
            },
            "colorscale": [
             [
              0,
              "#0d0887"
             ],
             [
              0.1111111111111111,
              "#46039f"
             ],
             [
              0.2222222222222222,
              "#7201a8"
             ],
             [
              0.3333333333333333,
              "#9c179e"
             ],
             [
              0.4444444444444444,
              "#bd3786"
             ],
             [
              0.5555555555555556,
              "#d8576b"
             ],
             [
              0.6666666666666666,
              "#ed7953"
             ],
             [
              0.7777777777777778,
              "#fb9f3a"
             ],
             [
              0.8888888888888888,
              "#fdca26"
             ],
             [
              1,
              "#f0f921"
             ]
            ],
            "type": "contour"
           }
          ],
          "contourcarpet": [
           {
            "colorbar": {
             "outlinewidth": 0,
             "ticks": ""
            },
            "type": "contourcarpet"
           }
          ],
          "heatmap": [
           {
            "colorbar": {
             "outlinewidth": 0,
             "ticks": ""
            },
            "colorscale": [
             [
              0,
              "#0d0887"
             ],
             [
              0.1111111111111111,
              "#46039f"
             ],
             [
              0.2222222222222222,
              "#7201a8"
             ],
             [
              0.3333333333333333,
              "#9c179e"
             ],
             [
              0.4444444444444444,
              "#bd3786"
             ],
             [
              0.5555555555555556,
              "#d8576b"
             ],
             [
              0.6666666666666666,
              "#ed7953"
             ],
             [
              0.7777777777777778,
              "#fb9f3a"
             ],
             [
              0.8888888888888888,
              "#fdca26"
             ],
             [
              1,
              "#f0f921"
             ]
            ],
            "type": "heatmap"
           }
          ],
          "heatmapgl": [
           {
            "colorbar": {
             "outlinewidth": 0,
             "ticks": ""
            },
            "colorscale": [
             [
              0,
              "#0d0887"
             ],
             [
              0.1111111111111111,
              "#46039f"
             ],
             [
              0.2222222222222222,
              "#7201a8"
             ],
             [
              0.3333333333333333,
              "#9c179e"
             ],
             [
              0.4444444444444444,
              "#bd3786"
             ],
             [
              0.5555555555555556,
              "#d8576b"
             ],
             [
              0.6666666666666666,
              "#ed7953"
             ],
             [
              0.7777777777777778,
              "#fb9f3a"
             ],
             [
              0.8888888888888888,
              "#fdca26"
             ],
             [
              1,
              "#f0f921"
             ]
            ],
            "type": "heatmapgl"
           }
          ],
          "histogram": [
           {
            "marker": {
             "pattern": {
              "fillmode": "overlay",
              "size": 10,
              "solidity": 0.2
             }
            },
            "type": "histogram"
           }
          ],
          "histogram2d": [
           {
            "colorbar": {
             "outlinewidth": 0,
             "ticks": ""
            },
            "colorscale": [
             [
              0,
              "#0d0887"
             ],
             [
              0.1111111111111111,
              "#46039f"
             ],
             [
              0.2222222222222222,
              "#7201a8"
             ],
             [
              0.3333333333333333,
              "#9c179e"
             ],
             [
              0.4444444444444444,
              "#bd3786"
             ],
             [
              0.5555555555555556,
              "#d8576b"
             ],
             [
              0.6666666666666666,
              "#ed7953"
             ],
             [
              0.7777777777777778,
              "#fb9f3a"
             ],
             [
              0.8888888888888888,
              "#fdca26"
             ],
             [
              1,
              "#f0f921"
             ]
            ],
            "type": "histogram2d"
           }
          ],
          "histogram2dcontour": [
           {
            "colorbar": {
             "outlinewidth": 0,
             "ticks": ""
            },
            "colorscale": [
             [
              0,
              "#0d0887"
             ],
             [
              0.1111111111111111,
              "#46039f"
             ],
             [
              0.2222222222222222,
              "#7201a8"
             ],
             [
              0.3333333333333333,
              "#9c179e"
             ],
             [
              0.4444444444444444,
              "#bd3786"
             ],
             [
              0.5555555555555556,
              "#d8576b"
             ],
             [
              0.6666666666666666,
              "#ed7953"
             ],
             [
              0.7777777777777778,
              "#fb9f3a"
             ],
             [
              0.8888888888888888,
              "#fdca26"
             ],
             [
              1,
              "#f0f921"
             ]
            ],
            "type": "histogram2dcontour"
           }
          ],
          "mesh3d": [
           {
            "colorbar": {
             "outlinewidth": 0,
             "ticks": ""
            },
            "type": "mesh3d"
           }
          ],
          "parcoords": [
           {
            "line": {
             "colorbar": {
              "outlinewidth": 0,
              "ticks": ""
             }
            },
            "type": "parcoords"
           }
          ],
          "pie": [
           {
            "automargin": true,
            "type": "pie"
           }
          ],
          "scatter": [
           {
            "fillpattern": {
             "fillmode": "overlay",
             "size": 10,
             "solidity": 0.2
            },
            "type": "scatter"
           }
          ],
          "scatter3d": [
           {
            "line": {
             "colorbar": {
              "outlinewidth": 0,
              "ticks": ""
             }
            },
            "marker": {
             "colorbar": {
              "outlinewidth": 0,
              "ticks": ""
             }
            },
            "type": "scatter3d"
           }
          ],
          "scattercarpet": [
           {
            "marker": {
             "colorbar": {
              "outlinewidth": 0,
              "ticks": ""
             }
            },
            "type": "scattercarpet"
           }
          ],
          "scattergeo": [
           {
            "marker": {
             "colorbar": {
              "outlinewidth": 0,
              "ticks": ""
             }
            },
            "type": "scattergeo"
           }
          ],
          "scattergl": [
           {
            "marker": {
             "colorbar": {
              "outlinewidth": 0,
              "ticks": ""
             }
            },
            "type": "scattergl"
           }
          ],
          "scattermapbox": [
           {
            "marker": {
             "colorbar": {
              "outlinewidth": 0,
              "ticks": ""
             }
            },
            "type": "scattermapbox"
           }
          ],
          "scatterpolar": [
           {
            "marker": {
             "colorbar": {
              "outlinewidth": 0,
              "ticks": ""
             }
            },
            "type": "scatterpolar"
           }
          ],
          "scatterpolargl": [
           {
            "marker": {
             "colorbar": {
              "outlinewidth": 0,
              "ticks": ""
             }
            },
            "type": "scatterpolargl"
           }
          ],
          "scatterternary": [
           {
            "marker": {
             "colorbar": {
              "outlinewidth": 0,
              "ticks": ""
             }
            },
            "type": "scatterternary"
           }
          ],
          "surface": [
           {
            "colorbar": {
             "outlinewidth": 0,
             "ticks": ""
            },
            "colorscale": [
             [
              0,
              "#0d0887"
             ],
             [
              0.1111111111111111,
              "#46039f"
             ],
             [
              0.2222222222222222,
              "#7201a8"
             ],
             [
              0.3333333333333333,
              "#9c179e"
             ],
             [
              0.4444444444444444,
              "#bd3786"
             ],
             [
              0.5555555555555556,
              "#d8576b"
             ],
             [
              0.6666666666666666,
              "#ed7953"
             ],
             [
              0.7777777777777778,
              "#fb9f3a"
             ],
             [
              0.8888888888888888,
              "#fdca26"
             ],
             [
              1,
              "#f0f921"
             ]
            ],
            "type": "surface"
           }
          ],
          "table": [
           {
            "cells": {
             "fill": {
              "color": "#EBF0F8"
             },
             "line": {
              "color": "white"
             }
            },
            "header": {
             "fill": {
              "color": "#C8D4E3"
             },
             "line": {
              "color": "white"
             }
            },
            "type": "table"
           }
          ]
         },
         "layout": {
          "annotationdefaults": {
           "arrowcolor": "#2a3f5f",
           "arrowhead": 0,
           "arrowwidth": 1
          },
          "autotypenumbers": "strict",
          "coloraxis": {
           "colorbar": {
            "outlinewidth": 0,
            "ticks": ""
           }
          },
          "colorscale": {
           "diverging": [
            [
             0,
             "#8e0152"
            ],
            [
             0.1,
             "#c51b7d"
            ],
            [
             0.2,
             "#de77ae"
            ],
            [
             0.3,
             "#f1b6da"
            ],
            [
             0.4,
             "#fde0ef"
            ],
            [
             0.5,
             "#f7f7f7"
            ],
            [
             0.6,
             "#e6f5d0"
            ],
            [
             0.7,
             "#b8e186"
            ],
            [
             0.8,
             "#7fbc41"
            ],
            [
             0.9,
             "#4d9221"
            ],
            [
             1,
             "#276419"
            ]
           ],
           "sequential": [
            [
             0,
             "#0d0887"
            ],
            [
             0.1111111111111111,
             "#46039f"
            ],
            [
             0.2222222222222222,
             "#7201a8"
            ],
            [
             0.3333333333333333,
             "#9c179e"
            ],
            [
             0.4444444444444444,
             "#bd3786"
            ],
            [
             0.5555555555555556,
             "#d8576b"
            ],
            [
             0.6666666666666666,
             "#ed7953"
            ],
            [
             0.7777777777777778,
             "#fb9f3a"
            ],
            [
             0.8888888888888888,
             "#fdca26"
            ],
            [
             1,
             "#f0f921"
            ]
           ],
           "sequentialminus": [
            [
             0,
             "#0d0887"
            ],
            [
             0.1111111111111111,
             "#46039f"
            ],
            [
             0.2222222222222222,
             "#7201a8"
            ],
            [
             0.3333333333333333,
             "#9c179e"
            ],
            [
             0.4444444444444444,
             "#bd3786"
            ],
            [
             0.5555555555555556,
             "#d8576b"
            ],
            [
             0.6666666666666666,
             "#ed7953"
            ],
            [
             0.7777777777777778,
             "#fb9f3a"
            ],
            [
             0.8888888888888888,
             "#fdca26"
            ],
            [
             1,
             "#f0f921"
            ]
           ]
          },
          "colorway": [
           "#636efa",
           "#EF553B",
           "#00cc96",
           "#ab63fa",
           "#FFA15A",
           "#19d3f3",
           "#FF6692",
           "#B6E880",
           "#FF97FF",
           "#FECB52"
          ],
          "font": {
           "color": "#2a3f5f"
          },
          "geo": {
           "bgcolor": "white",
           "lakecolor": "white",
           "landcolor": "#E5ECF6",
           "showlakes": true,
           "showland": true,
           "subunitcolor": "white"
          },
          "hoverlabel": {
           "align": "left"
          },
          "hovermode": "closest",
          "mapbox": {
           "style": "light"
          },
          "paper_bgcolor": "white",
          "plot_bgcolor": "#E5ECF6",
          "polar": {
           "angularaxis": {
            "gridcolor": "white",
            "linecolor": "white",
            "ticks": ""
           },
           "bgcolor": "#E5ECF6",
           "radialaxis": {
            "gridcolor": "white",
            "linecolor": "white",
            "ticks": ""
           }
          },
          "scene": {
           "xaxis": {
            "backgroundcolor": "#E5ECF6",
            "gridcolor": "white",
            "gridwidth": 2,
            "linecolor": "white",
            "showbackground": true,
            "ticks": "",
            "zerolinecolor": "white"
           },
           "yaxis": {
            "backgroundcolor": "#E5ECF6",
            "gridcolor": "white",
            "gridwidth": 2,
            "linecolor": "white",
            "showbackground": true,
            "ticks": "",
            "zerolinecolor": "white"
           },
           "zaxis": {
            "backgroundcolor": "#E5ECF6",
            "gridcolor": "white",
            "gridwidth": 2,
            "linecolor": "white",
            "showbackground": true,
            "ticks": "",
            "zerolinecolor": "white"
           }
          },
          "shapedefaults": {
           "line": {
            "color": "#2a3f5f"
           }
          },
          "ternary": {
           "aaxis": {
            "gridcolor": "white",
            "linecolor": "white",
            "ticks": ""
           },
           "baxis": {
            "gridcolor": "white",
            "linecolor": "white",
            "ticks": ""
           },
           "bgcolor": "#E5ECF6",
           "caxis": {
            "gridcolor": "white",
            "linecolor": "white",
            "ticks": ""
           }
          },
          "title": {
           "x": 0.05
          },
          "xaxis": {
           "automargin": true,
           "gridcolor": "white",
           "linecolor": "white",
           "ticks": "",
           "title": {
            "standoff": 15
           },
           "zerolinecolor": "white",
           "zerolinewidth": 2
          },
          "yaxis": {
           "automargin": true,
           "gridcolor": "white",
           "linecolor": "white",
           "ticks": "",
           "title": {
            "standoff": 15
           },
           "zerolinecolor": "white",
           "zerolinewidth": 2
          }
         }
        },
        "title": {
         "text": "Real vs. Synthetic Data for column 'hospital_expire_flag'"
        },
        "xaxis": {
         "anchor": "y",
         "domain": [
          0,
          1
         ],
         "title": {
          "text": "Category"
         }
        },
        "yaxis": {
         "anchor": "x",
         "domain": [
          0,
          1
         ],
         "title": {
          "text": "Frequency"
         }
        }
       }
      }
     },
     "metadata": {},
     "output_type": "display_data"
    },
    {
     "data": {
      "application/vnd.plotly.v1+json": {
       "config": {
        "plotlyServerURL": "https://plot.ly"
       },
       "data": [
        {
         "fill": "tozeroy",
         "hovertemplate": "<b>Real</b><br>Frequency: %{y}<extra></extra>",
         "legendgroup": "Real",
         "marker": {
          "color": "#000036"
         },
         "mode": "lines",
         "name": "Real",
         "showlegend": true,
         "type": "scatter",
         "x": [
          9,
          13.911999999999999,
          18.823999999999998,
          23.736,
          28.648,
          33.56,
          38.472,
          43.384,
          48.296,
          53.208,
          58.12,
          63.032,
          67.944,
          72.856,
          77.768,
          82.68,
          87.592,
          92.504,
          97.416,
          102.328,
          107.24,
          112.152,
          117.064,
          121.976,
          126.888,
          131.8,
          136.712,
          141.624,
          146.536,
          151.448,
          156.36,
          161.272,
          166.184,
          171.096,
          176.008,
          180.92,
          185.832,
          190.744,
          195.656,
          200.568,
          205.48,
          210.392,
          215.304,
          220.216,
          225.128,
          230.04,
          234.952,
          239.864,
          244.776,
          249.688,
          254.6,
          259.512,
          264.424,
          269.336,
          274.248,
          279.16,
          284.072,
          288.984,
          293.896,
          298.808,
          303.72,
          308.632,
          313.544,
          318.456,
          323.368,
          328.28,
          333.192,
          338.104,
          343.016,
          347.928,
          352.84,
          357.752,
          362.664,
          367.576,
          372.488,
          377.4,
          382.312,
          387.224,
          392.136,
          397.048,
          401.96,
          406.872,
          411.784,
          416.696,
          421.608,
          426.52,
          431.432,
          436.344,
          441.256,
          446.168,
          451.08,
          455.992,
          460.904,
          465.816,
          470.728,
          475.64,
          480.552,
          485.464,
          490.376,
          495.288,
          500.2,
          505.112,
          510.024,
          514.9359999999999,
          519.848,
          524.76,
          529.672,
          534.584,
          539.496,
          544.408,
          549.32,
          554.232,
          559.144,
          564.056,
          568.968,
          573.88,
          578.792,
          583.704,
          588.616,
          593.528,
          598.44,
          603.352,
          608.264,
          613.176,
          618.088,
          623,
          627.912,
          632.824,
          637.736,
          642.648,
          647.56,
          652.472,
          657.384,
          662.296,
          667.208,
          672.12,
          677.032,
          681.944,
          686.856,
          691.768,
          696.68,
          701.592,
          706.504,
          711.416,
          716.328,
          721.24,
          726.152,
          731.064,
          735.976,
          740.888,
          745.8,
          750.712,
          755.624,
          760.536,
          765.448,
          770.36,
          775.272,
          780.184,
          785.096,
          790.008,
          794.92,
          799.832,
          804.744,
          809.656,
          814.568,
          819.48,
          824.392,
          829.304,
          834.216,
          839.128,
          844.04,
          848.952,
          853.864,
          858.776,
          863.688,
          868.6,
          873.512,
          878.424,
          883.336,
          888.248,
          893.16,
          898.072,
          902.984,
          907.896,
          912.808,
          917.72,
          922.632,
          927.544,
          932.456,
          937.368,
          942.28,
          947.192,
          952.104,
          957.016,
          961.928,
          966.84,
          971.752,
          976.664,
          981.576,
          986.488,
          991.4,
          996.312,
          1001.224,
          1006.136,
          1011.048,
          1015.96,
          1020.872,
          1025.784,
          1030.696,
          1035.608,
          1040.52,
          1045.432,
          1050.344,
          1055.256,
          1060.168,
          1065.08,
          1069.992,
          1074.904,
          1079.816,
          1084.728,
          1089.64,
          1094.552,
          1099.464,
          1104.376,
          1109.288,
          1114.2,
          1119.112,
          1124.024,
          1128.936,
          1133.848,
          1138.76,
          1143.672,
          1148.584,
          1153.496,
          1158.408,
          1163.32,
          1168.232,
          1173.144,
          1178.056,
          1182.968,
          1187.88,
          1192.792,
          1197.704,
          1202.616,
          1207.528,
          1212.44,
          1217.352,
          1222.264,
          1227.176,
          1232.088,
          1237,
          1241.912,
          1246.824,
          1251.736,
          1256.648,
          1261.56,
          1266.472,
          1271.384,
          1276.296,
          1281.208,
          1286.12,
          1291.032,
          1295.944,
          1300.856,
          1305.768,
          1310.68,
          1315.592,
          1320.504,
          1325.416,
          1330.328,
          1335.24,
          1340.152,
          1345.064,
          1349.976,
          1354.888,
          1359.8,
          1364.712,
          1369.624,
          1374.536,
          1379.448,
          1384.36,
          1389.272,
          1394.184,
          1399.096,
          1404.008,
          1408.92,
          1413.832,
          1418.744,
          1423.656,
          1428.568,
          1433.48,
          1438.392,
          1443.304,
          1448.216,
          1453.128,
          1458.04,
          1462.952,
          1467.864,
          1472.776,
          1477.688,
          1482.6,
          1487.512,
          1492.424,
          1497.336,
          1502.248,
          1507.16,
          1512.072,
          1516.984,
          1521.896,
          1526.808,
          1531.72,
          1536.632,
          1541.544,
          1546.456,
          1551.368,
          1556.28,
          1561.192,
          1566.104,
          1571.016,
          1575.928,
          1580.84,
          1585.752,
          1590.664,
          1595.576,
          1600.488,
          1605.4,
          1610.312,
          1615.224,
          1620.136,
          1625.048,
          1629.96,
          1634.872,
          1639.784,
          1644.696,
          1649.608,
          1654.52,
          1659.432,
          1664.344,
          1669.256,
          1674.168,
          1679.08,
          1683.992,
          1688.904,
          1693.816,
          1698.728,
          1703.64,
          1708.552,
          1713.464,
          1718.376,
          1723.288,
          1728.2,
          1733.112,
          1738.024,
          1742.936,
          1747.848,
          1752.76,
          1757.672,
          1762.584,
          1767.496,
          1772.408,
          1777.32,
          1782.232,
          1787.144,
          1792.056,
          1796.968,
          1801.88,
          1806.792,
          1811.704,
          1816.616,
          1821.528,
          1826.44,
          1831.352,
          1836.264,
          1841.176,
          1846.088,
          1851,
          1855.912,
          1860.824,
          1865.736,
          1870.648,
          1875.56,
          1880.472,
          1885.384,
          1890.296,
          1895.208,
          1900.12,
          1905.032,
          1909.944,
          1914.856,
          1919.768,
          1924.68,
          1929.592,
          1934.504,
          1939.416,
          1944.328,
          1949.24,
          1954.152,
          1959.064,
          1963.976,
          1968.888,
          1973.8,
          1978.712,
          1983.624,
          1988.536,
          1993.448,
          1998.36,
          2003.272,
          2008.184,
          2013.096,
          2018.008,
          2022.92,
          2027.832,
          2032.744,
          2037.656,
          2042.568,
          2047.48,
          2052.392,
          2057.304,
          2062.216,
          2067.128,
          2072.04,
          2076.952,
          2081.864,
          2086.776,
          2091.688,
          2096.6,
          2101.512,
          2106.424,
          2111.336,
          2116.248,
          2121.16,
          2126.072,
          2130.984,
          2135.896,
          2140.808,
          2145.72,
          2150.632,
          2155.544,
          2160.456,
          2165.368,
          2170.28,
          2175.192,
          2180.104,
          2185.016,
          2189.928,
          2194.84,
          2199.752,
          2204.664,
          2209.576,
          2214.488,
          2219.4,
          2224.312,
          2229.224,
          2234.136,
          2239.048,
          2243.96,
          2248.872,
          2253.784,
          2258.696,
          2263.608,
          2268.52,
          2273.432,
          2278.344,
          2283.256,
          2288.168,
          2293.08,
          2297.992,
          2302.904,
          2307.816,
          2312.728,
          2317.64,
          2322.552,
          2327.464,
          2332.376,
          2337.288,
          2342.2,
          2347.112,
          2352.024,
          2356.936,
          2361.848,
          2366.76,
          2371.672,
          2376.584,
          2381.496,
          2386.408,
          2391.32,
          2396.232,
          2401.144,
          2406.056,
          2410.968,
          2415.88,
          2420.792,
          2425.704,
          2430.616,
          2435.528,
          2440.44,
          2445.352,
          2450.264,
          2455.176,
          2460.088
         ],
         "xaxis": "x",
         "y": [
          0.0012894388499966626,
          0.001336008443645235,
          0.0013822585911463792,
          0.0014280566473702195,
          0.0014732692563989755,
          0.0015177631301052361,
          0.0015614058376078519,
          0.0016040665984147844,
          0.0016456170719488154,
          0.0016859321361305387,
          0.001724890647764316,
          0.0017623761776362312,
          0.0017982777134865832,
          0.0018324903243593653,
          0.0018649157802527174,
          0.001895463121491095,
          0.0019240491728046384,
          0.001950598997725229,
          0.0019750462895828094,
          0.001997333696099607,
          0.00201741307532317,
          0.002035245681400944,
          0.002050802279468157,
          0.0020640631896861627,
          0.002075018261219409,
          0.002083666777665473,
          0.002090017296144465,
          0.0020940874229027654,
          0.0020959035288833803,
          0.0020955004092543072,
          0.0020929208913613626,
          0.002088215395978328,
          0.002081441457061366,
          0.002072663205474744,
          0.002061950822339572,
          0.0020493799677670775,
          0.0020350311907744367,
          0.0020189893261465426,
          0.0020013428839052616,
          0.001982183436882828,
          0.001961605011673423,
          0.0019397034879623065,
          0.0019165760109117248,
          0.0018923204209235934,
          0.0018670347047078624,
          0.001840816471169257,
          0.0018137624551911634,
          0.001785968051950108,
          0.001757526883944797,
          0.0017285304024757184,
          0.001699067524871211,
          0.0016692243083285701,
          0.0016390836608293955,
          0.0016087250892007263,
          0.0015782244840316462,
          0.001547653940821427,
          0.0015170816164325432,
          0.001486571619651671,
          0.0014561839344249888,
          0.0014259743741315784,
          0.001395994565090073,
          0.0013662919573588384,
          0.0013369098607875773,
          0.0013078875042072749,
          0.0012792601156040118,
          0.0012510590211084987,
          0.0012233117606449766,
          0.0011960422181180334,
          0.0011692707640714446,
          0.0011430144088266107,
          0.001117286964197095,
          0.001092099211977335,
          0.0010674590775152893,
          0.0010433718067979895,
          0.001019840145603336,
          0.0009968645193985384,
          0.0009744432127933056,
          0.000952572547482214,
          0.0009312470577337731,
          0.00091045966260203,
          0.0008902018341486725,
          0.0008704637610684377,
          0.0008512345072071888,
          0.0008325021645497825,
          0.0008142540003331492,
          0.0007964765980089513,
          0.00077915599183949,
          0.000762277794960761,
          0.0007458273207878338,
          0.0007297896976710531,
          0.0007141499767373679,
          0.0006988932328705765,
          0.0006840046587983373,
          0.000669469652263607,
          0.0006552738962648078,
          0.0006414034323538066,
          0.0006278447269846992,
          0.0006145847309106028,
          0.000601610931631246,
          0.0005889113989018366,
          0.0005764748233244342,
          0.0005642905480573091,
          0.0005523485936960689,
          0.000540639676402836,
          0.0005291552193865621,
          0.0005178873578685435,
          0.0005068289377019106,
          0.0004959735078519842,
          0.00048531530698504773,
          0.00047484924445563754,
          0.0004645708760258811,
          0.00045447637469375843,
          0.00044456249704936555,
          0.000434826545618229,
          0.00042526632768742173,
          0.00041588011114261614,
          0.0004066665778714086,
          0.0003976247753093455,
          0.00038875406671947125,
          0.00038005408080330367,
          0.00037152466124056857,
          0.00036316581674662203,
          0.00035497767222020374,
          0.0003469604215302433,
          0.00033911428245916793,
          0.0003314394542821024,
          0.0003239360784171745,
          0.0003166042025326345,
          0.0003094437484425393,
          0.0003024544840654096,
          0.00029563599966044143,
          0.0002889876884947291,
          0.00028250873203345897,
          0.00027619808968426085,
          0.0002700544930677222,
          0.00026407644472942296,
          0.00025826222115542567,
          0.0002526098799036441,
          0.000247117270618433,
          0.00024178204965546123,
          0.00023660169800873034,
          0.0002315735422015989,
          0.00022669477777889478,
          0.00022196249501752065,
          0.00021737370645821794,
          0.00021292537585109177,
          0.0002086144481017188,
          0.00020443787980291959,
          0.00020039266993905784,
          0.00019647589035476322,
          0.0001926847155878184,
          0.00018901645167630939,
          0.0001854685635627218,
          0.00018203870073222028,
          0.00017872472073873384,
          0.00017552471029055994,
          0.00017243700358694728,
          0.00016946019761857558,
          0.00016659316416803727,
          0.00016383505827149915,
          0.00016118532292980044,
          0.00015864368988648746,
          0.0001562101763218525,
          0.00015388507734607693,
          0.00015166895421118133,
          0.0001495626182007002,
          0.00014756711019785413,
          0.00014568367597735132,
          0.00014391373731270667,
          0.0001422588590397922,
          0.0001407207122679175,
          0.00013930103398158508,
          0.00013800158332863467,
          0.0001368240949431198,
          0.00013577022970321376,
          0.00013484152337493065,
          0.00013403933364058035,
          0.00013336478605578388,
          0.00013281871951960873,
          0.00013240163187804659,
          0.00013211362631072025,
          0.00013195435917355005,
          0.00013192298998531364,
          0.00013201813425290572,
          0.0001322378198280542,
          0.00013257944747678503,
          0.00013303975632172706,
          0.00013361479478623373,
          0.00013429989762823056,
          0.0001350896696008515,
          0.00013597797621661743,
          0.0001369579420226334,
          0.00013802195671672293,
          0.0001391616893493976,
          0.00014036811076509293,
          0.00014163152433929792,
          0.00014294160496734502,
          0.00014428744615707683,
          0.0001456576149728012,
          0.00014704021447344083,
          0.0001484229531850943,
          0.00014979322104895573,
          0.00015113817119122126,
          0.00015244480677376236,
          0.0001537000721044291,
          0.00015489094711517226,
          0.00015600454425602415,
          0.00015702820680439208,
          0.0001579496075530595,
          0.00015875684681747334,
          0.00015943854869387183,
          0.00015998395450492073,
          0.00016038301238886332,
          0.00016062646202165816,
          0.00016070591350883913,
          0.0001606139195442966,
          0.00016034404000611052,
          0.00015989089824394308,
          0.00015925022840716527,
          0.00015841891326650828,
          0.00015739501209308598,
          0.00015617777827553746,
          0.00015476766647703756,
          0.00015316632925729346,
          0.00015137660320850766,
          0.00014940248477688436,
          0.0001472490960607559,
          0.00014492264099110662,
          0.00014243035240851904,
          0.00013978043065086487,
          0.00013698197435701914,
          0.00013404490427230994,
          0.00013097988091030025,
          0.00012779821698205075,
          0.00012451178554760887,
          0.00012113292487479072,
          0.00011767434100719526,
          0.00011414900904691385,
          0.00011057007414790031,
          0.00010695075319391485,
          0.00010330423810110884,
          0.000099643601640509,
          0.00009598170662095514,
          0.00009233111920958638,
          0.00008870402709601849,
          0.00008511216312925679,
          0.00008156673497450586,
          0.00007807836125179075,
          0.00007465701453105161,
          0.00007131197147050038,
          0.00006805177029779134,
          0.00006488417574819048,
          0.00006181615149152278,
          0.00005885384000122476,
          0.00005600254974518914,
          0.00005326674950998344,
          0.000050650069608021845,
          0.00004815530966180775,
          0.000045784452610727415,
          0.000043538684544208145,
          0.00004141841993038163,
          0.000039423331781609726,
          0.00003755238627712837,
          0.000035803881348344894,
          0.00003417548872361372,
          0.0000326642989261661,
          0.000031266868720817153,
          0.000029979270511589785,
          0.000028797143202974146,
          0.000027715744051655803,
          0.000026730001052685157,
          0.000025834565423755604,
          0.00002502386377304583,
          0.00002429214955956597,
          0.000023633553479759602,
          0.00002304213243993919,
          0.000022511916800706134,
          0.000022036955606600663,
          0.00002161135954166997,
          0.000021229341379287346,
          0.000020885253722297835,
          0.00002057362385732212,
          0.00002028918557475697,
          0.000020026907833617594,
          0.000019782020177825273,
          0.000019550034837805998,
          0.000019326765478274213,
          0.000019108342579760943,
          0.000018891225467721698,
          0.00001867221102882107,
          0.000018448439179112138,
          0.00001821739517316273,
          0.000017976908866564672,
          0.000017725151066511582,
          0.000017460627126055756,
          0.000017182167957050204,
          0.000016888918654445908,
          0.00001658032494034599,
          0.000016256117649826372,
          0.000015916295491842307,
          0.000015561106327398897,
          0.000015191027213445887,
          0.000014806743464571697,
          0.000014409126985459788,
          0.000013999214125221505,
          0.000013578183300154993,
          0.000013147332624273517,
          0.000012708057777209692,
          0.000012261830326989031,
          0.000011810176710872284,
          0.000011354658061218654,
          0.00001089685104538295,
          0.000010438329869313818,
          0.000009980649574074892,
          0.000009525330733282764,
          0.000009073845637772913,
          0.00000862760603199098,
          0.000008187952444981495,
          0.000007756145137714537,
          0.000007333356668138032,
          0.000006920666056032394,
          0.000006519054511706465,
          0.0000061294026760092455,
          0.0000057524893042046395,
          0.000005388991313092728,
          0.000005039485099448956,
          0.0000047044490284413395,
          0.00000438426698318713,
          0.000004079232861001755,
          0.000003789555898115,
          0.0000035153667025984728,
          0.0000032567238748492544,
          0.000003013621096074259,
          0.0000027859945676653583,
          0.0000025737306879831995,
          0.000002376673857705902,
          0.00000219463431037142,
          0.0000020273958708779872,
          0.0000018747235513356309,
          0.0000017363709006271672,
          0.000001612087031193281,
          0.0000015016232537741692,
          0.0000014047392580085885,
          0.000001321208783818263,
          0.0000012508247353204487,
          0.000001193403695564057,
          0.0000011487898066456024,
          0.0000011168579857211696,
          0.0000010975164530981732,
          0.0000010907085539916115,
          0.0000010964138607033523,
          0.0000011146485469805948,
          0.0000011454650311905428,
          0.0000011889508897768794,
          0.0000012452270473060871,
          0.0000013144452543326026,
          0.0000013967848693704604,
          0.0000014924489665068606,
          0.0000016016597956694987,
          0.0000017246536282902734,
          0.000001861675027102572,
          0.000002012970585057918,
          0.0000021787821848228425,
          0.0000023593398369669814,
          0.0000025548541617109206,
          0.0000027655085858737557,
          0.000002991451333338762,
          0.000003232787293810792,
          0.0000034895698607298823,
          0.0000037617928347764003,
          0.0000040493824942900605,
          0.0000043521899379581576,
          0.000004669983808141025,
          0.000005002443505026145,
          0.0000053491530022835535,
          0.000005709595373891057,
          0.000006083148139186011,
          0.000006469079528881513,
          0.000006866545768688844,
          0.000007274589469277849,
          0.000007692139201576086,
          0.000008118010324898235,
          0.000008550907122177981,
          0.00000898942628177078,
          0.000009432061749057751,
          0.000009877210953614913,
          0.000010323182399247813,
          0.000010768204585004161,
          0.000011210436205667008,
          0.000011647977560524083,
          0.000012078883079749547,
          0.000012501174858884158,
          0.000012912857074015225,
          0.000013311931133701701,
          0.000013696411408808197,
          0.000014064341368531896,
          0.000014413809940327958,
          0.00001474296790342689,
          0.000015050044120414218,
          0.000015333361409078338,
          0.00001559135185755097,
          0.000015822571389721286,
          0.000016025713395005003,
          0.000016199621246725706,
          0.00001634329954649722,
          0.000016455923947892666,
          0.000016536849431106903,
          0.000016585616920965,
          0.000016601958163154896,
          0.00001658579879758016,
          0.00001653725959282001,
          0.000016456655831401752,
          0.000016344494861478924,
          0.000016201471856099105,
          0.0000160284638460814,
          0.000015826522116157055,
          0.000015596863076038668,
          0.000015340857738083216,
          0.000015060019950856886,
          0.000014755993552893653,
          0.00001443053862302294,
          0.000014085517012634707,
          0.000013722877351033692,
          0.000013344639717542268,
          0.000012952880173255708,
          0.00001254971534139398,
          0.000012137287218165493,
          0.000011717748386144761,
          0.000011293247789602712,
          0.000010865917216306174,
          0.000010437858613339805,
          0.000010011132345860163,
          0.000009587746487748899,
          0.000009169647212282182,
          0.00000875871032959174,
          0.000008356733996251861,
          0.000007965432601196772,
          0.000007586431811725776,
          0.000007221264743955627,
          0.000006871369204061899,
          0.000006538085930309048,
          0.000006222657751468996,
          0.000005926229564982132,
          0.000005649849028306462,
          0.000005394467849450108,
          0.000005160943557778815,
          0.000004950041633865799,
          0.0000047624378773936946,
          0.000004598720894875514,
          0.000004459394594130088,
          0.000004344880579892561,
          0.000004255520354482826,
          0.00000419157723888648,
          0.0000041532379426845755,
          0.000004140613725733439,
          0.000004153741110060531,
          0.000004192582116801674,
          0.000004257024019845769,
          0.000004346878624852565,
          0.000004461881099143498,
          0.000004601688394312425,
          0.000004765877318949134,
          0.000004953942333309131,
          0.000005165293150815101,
          0.00000539925224267245,
          0.0000056550523513844334,
          0.0000059318341263546654,
          0.000006228643999887284,
          0.0000065444324246038975,
          0.000006878052593489,
          0.0000072282597614006965,
          0.0000075937112819296885,
          0.00000797296746598985,
          0.000008364493358568322,
          0.000008766661517773035,
          0.000009177755865875289,
          0.000009595976665667249,
          0.000010019446657406264,
          0.000010446218372195726,
          0.0000108742826171878,
          0.000011301578106852922,
          0.0000117260021931172,
          0.000012145422625831929,
          0.000012557690254202107,
          0.000012960652559878353,
          0.000013352167893800513,
          0.000013730120271952327,
          0.000014092434570304941,
          0.000014437091946709768,
          0.00001476214530763832,
          0.000015065734630691747,
          0.00001534610194989947,
          0.000015601605810127444,
          0.000015830734999481084,
          0.00001603212137442588,
          0.00001620455160139295,
          0.000016346977650766616,
          0.00001645852589417552,
          0.00001653850467368311,
          0.000016586410231497914
         ],
         "yaxis": "y"
        },
        {
         "fill": "tozeroy",
         "hovertemplate": "<b>Synthetic</b><br>Frequency: %{y}<extra></extra>",
         "legendgroup": "Synthetic",
         "marker": {
          "color": "#01E0C9"
         },
         "mode": "lines",
         "name": "Synthetic",
         "showlegend": true,
         "type": "scatter",
         "x": [
          -430.82471780660137,
          -426.5603481349084,
          -422.2959784632154,
          -418.03160879152244,
          -413.7672391198295,
          -409.50286944813655,
          -405.2384997764436,
          -400.9741301047506,
          -396.7097604330576,
          -392.44539076136465,
          -388.18102108967173,
          -383.91665141797876,
          -379.6522817462858,
          -375.3879120745928,
          -371.12354240289983,
          -366.85917273120685,
          -362.5948030595139,
          -358.3304333878209,
          -354.0660637161279,
          -349.801694044435,
          -345.53732437274203,
          -341.27295470104906,
          -337.0085850293561,
          -332.7442153576631,
          -328.47984568597013,
          -324.2154760142772,
          -319.95110634258424,
          -315.68673667089126,
          -311.4223669991983,
          -307.1579973275053,
          -302.89362765581234,
          -298.62925798411936,
          -294.3648883124264,
          -290.10051864073347,
          -285.8361489690405,
          -281.5717792973475,
          -277.30740962565454,
          -273.0430399539616,
          -268.77867028226865,
          -264.5143006105757,
          -260.2499309388827,
          -255.9855612671897,
          -251.72119159549675,
          -247.4568219238038,
          -243.19245225211083,
          -238.92808258041785,
          -234.66371290872488,
          -230.39934323703193,
          -226.13497356533892,
          -221.87060389364598,
          -217.60623422195303,
          -213.34186455026003,
          -209.07749487856708,
          -204.8131252068741,
          -200.54875553518113,
          -196.28438586348818,
          -192.0200161917952,
          -187.75564652010226,
          -183.49127684840926,
          -179.2269071767163,
          -174.96253750502336,
          -170.6981678333304,
          -166.4337981616374,
          -162.16942848994444,
          -157.90505881825146,
          -153.64068914655854,
          -149.37631947486557,
          -145.11194980317254,
          -140.84758013147962,
          -136.58321045978664,
          -132.31884078809367,
          -128.05447111640075,
          -123.79010144470772,
          -119.52573177301474,
          -115.26136210132182,
          -110.99699242962885,
          -106.73262275793587,
          -102.4682530862429,
          -98.20388341454992,
          -93.93951374285695,
          -89.67514407116403,
          -85.41077439947105,
          -81.14640472777802,
          -76.8820350560851,
          -72.61766538439213,
          -68.35329571269921,
          -64.08892604100623,
          -59.8245563693132,
          -55.56018669762028,
          -51.295817025927306,
          -47.03144735423433,
          -42.76707768254141,
          -38.50270801084838,
          -34.238338339155405,
          -29.973968667462486,
          -25.70959899576951,
          -21.44522932407648,
          -17.18085965238356,
          -12.916489980690585,
          -8.65212030899761,
          -4.387750637304691,
          -0.12338096561165912,
          4.140988706081316,
          8.405358377774235,
          12.66972804946721,
          16.934097721160185,
          21.19846739285316,
          25.462837064546136,
          29.72720673623911,
          33.99157640793203,
          38.255946079625005,
          42.52031575131798,
          46.784685423010956,
          51.04905509470393,
          55.31342476639685,
          59.577794438089825,
          63.84216410978286,
          68.10653378147578,
          72.37090345316875,
          76.63527312486173,
          80.89964279655464,
          85.16401246824773,
          89.4283821399406,
          93.69275181163357,
          97.95712148332655,
          102.22149115501952,
          106.4858608267125,
          110.75023049840547,
          115.01460017009845,
          119.27896984179142,
          123.54333951348428,
          127.80770918517726,
          132.07207885687023,
          136.33644852856332,
          140.6008182002563,
          144.86518787194927,
          149.12955754364214,
          153.3939272153351,
          157.6582968870281,
          161.92266655872106,
          166.18703623041404,
          170.451405902107,
          174.71577557379987,
          178.98014524549296,
          183.24451491718594,
          187.5088845888789,
          191.7732542605719,
          196.03762393226475,
          200.30199360395773,
          204.5663632756507,
          208.83073294734368,
          213.09510261903665,
          217.35947229072963,
          221.6238419624226,
          225.88821163411558,
          230.15258130580855,
          234.41695097750153,
          238.6813206491945,
          242.94569032088748,
          247.21005999258034,
          251.47442966427332,
          255.7387993359663,
          260.00316900765927,
          264.26753867935236,
          268.53190835104533,
          272.7962780227382,
          277.06064769443117,
          281.32501736612414,
          285.5893870378171,
          289.8537567095101,
          294.11812638120296,
          298.38249605289593,
          302.6468657245889,
          306.911235396282,
          311.17560506797497,
          315.43997473966795,
          319.7043444113608,
          323.9687140830538,
          328.23308375474676,
          332.49745342643973,
          336.7618230981327,
          341.0261927698257,
          345.29056244151855,
          349.55493211321163,
          353.8193017849046,
          358.0836714565976,
          362.34804112829056,
          366.61241079998354,
          370.8767804716764,
          375.1411501433694,
          379.40551981506235,
          383.6698894867553,
          387.9342591584484,
          392.1986288301414,
          396.46299850183425,
          400.7273681735272,
          404.9917378452202,
          409.2561075169132,
          413.52047718860615,
          417.784846860299,
          422.049216531992,
          426.31358620368496,
          430.57795587537805,
          434.842325547071,
          439.106695218764,
          443.37106489045686,
          447.63543456214984,
          451.8998042338428,
          456.1641739055358,
          460.42854357722877,
          464.69291324892174,
          468.9572829206146,
          473.2216525923077,
          477.48602226400067,
          481.75039193569364,
          486.0147616073866,
          490.2791312790796,
          494.54350095077245,
          498.80787062246543,
          503.0722402941584,
          507.3366099658514,
          511.60097963754436,
          515.8653493092373,
          520.1297189809303,
          524.3940886526233,
          528.6584583243163,
          532.9228279960092,
          537.1871976677022,
          541.4515673393951,
          545.715937011088,
          549.980306682781,
          554.244676354474,
          558.5090460261671,
          562.7734156978601,
          567.0377853695529,
          571.3021550412459,
          575.5665247129389,
          579.8308943846318,
          584.0952640563248,
          588.3596337280178,
          592.6240033997107,
          596.8883730714036,
          601.1527427430968,
          605.4171124147896,
          609.6814820864826,
          613.9458517581755,
          618.2102214298685,
          622.4745911015615,
          626.7389607732545,
          631.0033304449474,
          635.2677001166404,
          639.5320697883334,
          643.7964394600264,
          648.0608091317193,
          652.3251788034123,
          656.5895484751051,
          660.8539181467983,
          665.1182878184912,
          669.3826574901842,
          673.6470271618772,
          677.9113968335699,
          682.1757665052631,
          686.4401361769559,
          690.7045058486491,
          694.9688755203418,
          699.233245192035,
          703.497614863728,
          707.7619845354208,
          712.026354207114,
          716.2907238788067,
          720.5550935504999,
          724.8194632221927,
          729.0838328938856,
          733.3482025655786,
          737.6125722372716,
          741.8769419089646,
          746.1413115806575,
          750.4056812523505,
          754.6700509240435,
          758.9344205957365,
          763.1987902674294,
          767.4631599391224,
          771.7275296108154,
          775.9918992825084,
          780.2562689542011,
          784.5206386258943,
          788.7850082975873,
          793.0493779692803,
          797.3137476409732,
          801.578117312666,
          805.8424869843592,
          810.106856656052,
          814.3712263277451,
          818.6355959994379,
          822.8999656711309,
          827.1643353428238,
          831.4287050145168,
          835.69307468621,
          839.9574443579028,
          844.221814029596,
          848.4861837012887,
          852.7505533729817,
          857.0149230446747,
          861.2792927163676,
          865.5436623880606,
          869.8080320597536,
          874.0724017314466,
          878.3367714031396,
          882.6011410748325,
          886.8655107465255,
          891.1298804182185,
          895.3942500899115,
          899.6586197616044,
          903.9229894332972,
          908.1873591049904,
          912.4517287766831,
          916.7160984483763,
          920.9804681200693,
          925.244837791762,
          929.5092074634553,
          933.773577135148,
          938.0379468068412,
          942.302316478534,
          946.5666861502269,
          950.8310558219199,
          955.0954254936129,
          959.3597951653061,
          963.6241648369988,
          967.888534508692,
          972.1529041803848,
          976.4172738520778,
          980.6816435237707,
          984.9460131954637,
          989.2103828671567,
          993.4747525388497,
          997.7391222105426,
          1002.0034918822356,
          1006.2678615539286,
          1010.5322312256216,
          1014.7966008973145,
          1019.0609705690073,
          1023.3253402407005,
          1027.5897099123931,
          1031.8540795840863,
          1036.118449255779,
          1040.3828189274723,
          1044.6471885991655,
          1048.9115582708582,
          1053.1759279425514,
          1057.4402976142442,
          1061.7046672859374,
          1065.9690369576301,
          1070.2334066293229,
          1074.497776301016,
          1078.7621459727088,
          1083.026515644402,
          1087.2908853160948,
          1091.555254987788,
          1095.8196246594807,
          1100.083994331174,
          1104.3483640028667,
          1108.6127336745599,
          1112.8771033462526,
          1117.1414730179458,
          1121.4058426896386,
          1125.6702123613318,
          1129.9345820330245,
          1134.1989517047177,
          1138.4633213764105,
          1142.7276910481032,
          1146.9920607197964,
          1151.2564303914892,
          1155.5208000631824,
          1159.7851697348751,
          1164.0495394065683,
          1168.3139090782615,
          1172.5782787499543,
          1176.8426484216475,
          1181.1070180933402,
          1185.3713877650334,
          1189.6357574367262,
          1193.900127108419,
          1198.1644967801121,
          1202.4288664518049,
          1206.693236123498,
          1210.9576057951908,
          1215.221975466884,
          1219.4863451385768,
          1223.75071481027,
          1228.0150844819627,
          1232.279454153656,
          1236.5438238253487,
          1240.8081934970419,
          1245.0725631687346,
          1249.3369328404278,
          1253.6013025121206,
          1257.8656721838138,
          1262.1300418555065,
          1266.3944115271993,
          1270.6587811988925,
          1274.9231508705852,
          1279.1875205422784,
          1283.4518902139712,
          1287.7162598856644,
          1291.9806295573576,
          1296.2449992290503,
          1300.5093689007435,
          1304.7737385724363,
          1309.0381082441295,
          1313.3024779158222,
          1317.566847587515,
          1321.8312172592082,
          1326.095586930901,
          1330.3599566025941,
          1334.624326274287,
          1338.88869594598,
          1343.1530656176728,
          1347.417435289366,
          1351.6818049610588,
          1355.946174632752,
          1360.2105443044447,
          1364.474913976138,
          1368.7392836478307,
          1373.003653319524,
          1377.2680229912166,
          1381.5323926629098,
          1385.7967623346026,
          1390.0611320062953,
          1394.3255016779885,
          1398.5898713496813,
          1402.8542410213745,
          1407.1186106930672,
          1411.3829803647604,
          1415.6473500364532,
          1419.9117197081464,
          1424.1760893798396,
          1428.4404590515323,
          1432.7048287232255,
          1436.9691983949183,
          1441.233568066611,
          1445.4979377383042,
          1449.762307409997,
          1454.0266770816902,
          1458.291046753383,
          1462.5554164250761,
          1466.819786096769,
          1471.084155768462,
          1475.3485254401548,
          1479.612895111848,
          1483.8772647835408,
          1488.141634455234,
          1492.4060041269267,
          1496.67037379862,
          1500.9347434703127,
          1505.199113142006,
          1509.4634828136986,
          1513.7278524853914,
          1517.9922221570846,
          1522.2565918287773,
          1526.5209615004705,
          1530.7853311721633,
          1535.0497008438565,
          1539.3140705155492,
          1543.5784401872424,
          1547.8428098589357,
          1552.1071795306284,
          1556.3715492023216,
          1560.6359188740144,
          1564.900288545707,
          1569.1646582174003,
          1573.429027889093,
          1577.6933975607863,
          1581.957767232479,
          1586.2221369041722,
          1590.486506575865,
          1594.7508762475582,
          1599.015245919251,
          1603.279615590944,
          1607.5439852626369,
          1611.80835493433,
          1616.0727246060228,
          1620.337094277716,
          1624.6014639494088,
          1628.865833621102,
          1633.1302032927952,
          1637.394572964488,
          1641.6589426361807,
          1645.9233123078739,
          1650.1876819795666,
          1654.4520516512598,
          1658.7164213229526,
          1662.9807909946453,
          1667.2451606663385,
          1671.5095303380313,
          1675.7739000097245,
          1680.0382696814177,
          1684.3026393531104,
          1688.5670090248032,
          1692.8313786964964,
          1697.0957483681896
         ],
         "xaxis": "x",
         "y": [
          0.000020139450630648324,
          0.000020234142335793084,
          0.00002030680022219263,
          0.000020360161171245334,
          0.00002039747904482916,
          0.000020422545262510885,
          0.00002043970869974362,
          0.000020453894997663375,
          0.00002047062538328232,
          0.000020496035101888052,
          0.000020536891560817338,
          0.00002060061227511589,
          0.000020695282690681472,
          0.000020829673939207385,
          0.000021013260551637557,
          0.00002125623812309566,
          0.00002156954088270475,
          0.000021964859076864284,
          0.000022454656025047838,
          0.000023052184653824175,
          0.00002377150325852335,
          0.00002462749018383151,
          0.00002563585705578287,
          0.000026813160139401267,
          0.000028176809339983862,
          0.000029745074313125173,
          0.0000315370871004995,
          0.000033572840666607687,
          0.00003587318267758361,
          0.00003845980383813866,
          0.00004135522008810806,
          0.000044582747957063616,
          0.00004816647238514556,
          0.00005213120634155695,
          0.000056502441609775964,
          0.00006130629016098816,
          0.0000665694156047881,
          0.00007231895428885023,
          0.00007858242571676498,
          0.00008538763206500267,
          0.00009276254670515038,
          0.00010073519177499593,
          0.00010933350499023013,
          0.00011858519604574466,
          0.0001285175931196497,
          0.00013915748016192234,
          0.00015053092582046387,
          0.00016266310502752496,
          0.00017557811443606579,
          0.00018929878305557713,
          0.00020384647958715817,
          0.00021924091809506186,
          0.0002354999637734967,
          0.00025263944067026377,
          0.0002706729433100432,
          0.0002896116542174317,
          0.00030946416937089997,
          0.0003302363336219911,
          0.00035193108808795223,
          0.0003745483314696824,
          0.00039808479716017895,
          0.00042253394789168875,
          0.00044788588952345877,
          0.0004741273053977244,
          0.0005012414124913467,
          0.0005292079403670313,
          0.0005580031336842793,
          0.0005875997787699558,
          0.0006179672544754901,
          0.0006490716072667783,
          0.0006808756502083922,
          0.000713339085220679,
          0.0007464186477115216,
          0.0007800682724189132,
          0.0008142392790506667,
          0.000848880576078031,
          0.0008839388808347756,
          0.0009193589538959501,
          0.0009550838455641318,
          0.0009910551521777745,
          0.001027213279878124,
          0.0010634977134287105,
          0.0010998472876750118,
          0.0011362004592608086,
          0.0011724955762804183,
          0.0012086711436405516,
          0.0012446660820289016,
          0.0012804199785354904,
          0.0013158733271433649,
          0.0013509677574930349,
          0.0013856462505257693,
          0.0014198533398195933,
          0.0014535352976441126,
          0.001486640304971373,
          0.0015191186048858316,
          0.0015509226390330124,
          0.0015820071669303687,
          0.0016123293681323272,
          0.0016418489273923248,
          0.0016705281030964332,
          0.0016983317793550618,
          0.0017252275022313262,
          0.001751185500657564,
          0.0017761786926465445,
          0.0018001826774430103,
          0.0018231757142866687,
          0.0018451386884725167,
          0.0018660550654011248,
          0.0018859108333136923,
          0.001904694435407033,
          0.0019223966920254663,
          0.0019390107136320295,
          0.0019545318052732524,
          0.0019689573632711674,
          0.0019822867649046997,
          0.0019945212518804214,
          0.0020056638084395913,
          0.002015719035003737,
          0.0020246930183226994,
          0.002032593199155403,
          0.0020394282385813355,
          0.002045207884106897,
          0.002049942836791638,
          0.002053644620671333,
          0.0020563254557938613,
          0.0020579981362063957,
          0.002058675914234897,
          0.0020583723923763998,
          0.0020571014240785843,
          0.0020548770246077773,
          0.0020517132931049827,
          0.0020476243467994907,
          0.0020426242681919993,
          0.002036727065835547,
          0.002029946649135814,
          0.0020222968173656797,
          0.002013791262847007,
          0.002004443588000209,
          0.00199426733570504,
          0.0019832760321600745,
          0.0019714832411798187,
          0.00195890262863368,
          0.0019455480355160708,
          0.001931433557947756,
          0.0019165736322504193,
          0.0019009831231138583,
          0.0018846774127922144,
          0.0018676724892248632,
          0.001849985030981013,
          0.001831632486975151,
          0.0018126331489929713,
          0.0017930062152024856,
          0.0017727718430000756,
          0.001751951189752322,
          0.0017305664402369244,
          0.0017086408198542639,
          0.0016861985929689483,
          0.0016632650460412445,
          0.0016398664555147154,
          0.0016160300407313225,
          0.001591783902441855,
          0.0015671569477608393,
          0.001542178802674811,
          0.0015168797134453044,
          0.0014912904384480749,
          0.0014654421321538805,
          0.0014393662230806465,
          0.0014130942876296414,
          0.001386657921758864,
          0.001360088612444803,
          0.0013334176108406506,
          0.0013066758089567245,
          0.001279893621570519,
          0.0012531008749232023,
          0.0012263267035810298,
          0.0011995994566391269,
          0.001172946614226733,
          0.0011463947150430287,
          0.0011199692954168199,
          0.0010936948401470278,
          0.001067594745149964,
          0.0010416912917182994,
          0.0010160056319904358,
          0.0009905577850414205,
          0.0009653666428410868,
          0.0009404499851842432,
          0.0009158245025836183,
          0.0008915058260297685,
          0.0008675085624639155,
          0.0008438463347792563,
          0.000820531825162826,
          0.0007975768206118442,
          0.0007749922595036526,
          0.0007527882781643008,
          0.0007309742564646381,
          0.0007095588615715435,
          0.0006885500890921246,
          0.0006679553009673231,
          0.0006477812595949557,
          0.0006280341577877303,
          0.0006087196442962512,
          0.000589842844747801,
          0.0005714083779663379,
          0.0005534203677457711,
          0.000535882450245335,
          0.0005187977772617266,
          0.000502169015706519,
          0.0004859983436788476,
          0.00047028744357225543,
          0.00045503749269106973,
          0.0004402491518762128,
          0.0004259225526536186,
          0.0004120572834213332,
          0.00039865237518495064,
          0.00038570628733643463,
          0.0003732168939498113,
          0.0003611814710399037,
          0.0003495966851983713,
          0.00033845858398604087,
          0.0003277625884228307,
          0.00031750348787744554,
          0.00030767543761932016,
          0.00029827195925560736,
          0.0002892859442369728,
          0.00028070966057794583,
          0.0002725347629008513,
          0.0002647523058771421,
          0.00025735276110626804,
          0.00025032603744010125,
          0.00024366150473028282,
          0.00023734802094653768,
          0.00023137396258593842,
          0.00022572725826604145,
          0.00022039542536873318,
          0.00021536560957632637,
          0.0002106246271168809,
          0.00020615900951188886,
          0.00020195505059629948,
          0.00019799885555853993,
          0.00019427639172672192,
          0.0001907735408068772,
          0.00018747615225996275,
          0.00018437009748683653,
          0.0001814413244746277,
          0.00017867591254424253,
          0.00017606012682744687,
          0.00017358047209326818,
          0.000171223745537738,
          0.00016897708814839248,
          0.00016682803425574155,
          0.0001647645588882458,
          0.00016277512255536024,
          0.00016084871309497562,
          0.0001589748842371648,
          0.00015714379055551024,
          0.00015534621850037196,
          0.00015357361323517195,
          0.0001518181010269443,
          0.00015007250697585698,
          0.0001483303679049031,
          0.00014658594027023927,
          0.0001448342029943902,
          0.0001430708551684373,
          0.0001412923086149815,
          0.0001394956753507538,
          0.0001376787500357883,
          0.00013583998754468493,
          0.000133978475844146,
          0.00013209390440923008,
          0.00013018652845808859,
          0.00012825712933078764,
          0.000126306971381656,
          0.00012433775579579148,
          0.0001223515717784069,
          0.00012035084559992569,
          0.000118338288009624,
          0.00011631684055554361,
          0.00011428962136784848,
          0.00011225987097621813,
          0.00011023089873883282,
          0.00010820603046058489,
          0.00010618855777102375,
          0.00010418168981800176,
          0.00010218850781087426,
          0.0001002119229174486,
          0.0000982546379817714,
          0.00009631911348556492,
          0.00009440753812505867,
          0.00009252180431767452,
          0.00009066348889017263,
          0.00008883383913229546,
          0.00008703376432857997,
          0.00008526383280692261,
          0.0000835242744668095,
          0.00008181498867409358,
          0.00008013555733409316,
          0.00007848526288187524,
          0.000076863110859177,
          0.00007526785668275063,
          0.00007369803615017974,
          0.00007215199917750226,
          0.00007062794621924535,
          0.00006912396678658136,
          0.00006763807945386657,
          0.00006616827272833772,
          0.00006471254615245292,
          0.0000632689510133551,
          0.00006183563004904723,
          0.00006041085556574922,
          0.0000589930654149918,
          0.000057580896321548484,
          0.000056173214103393224,
          0.00005476914038143626,
          0.000053368075438640274,
          0.00005196971695398061,
          0.00005057407440524372,
          0.00004918147900448168,
          0.00004779258909971543,
          0.00004640839104484942,
          0.00004503019560551015,
          0.000043659630030461676,
          0.000042298625975373594,
          0.00004094940351714051,
          0.000039614451541941056,
          0.00003829650482827135,
          0.000036998518176907,
          0.00003572363796300478,
          0.00003447517150135263,
          0.00003325655462432081,
          0.00003207131787372683,
          0.00003092305170310179,
          0.000029815371076394796,
          0.00002875187983369616,
          0.000027736135174942925,
          0.000026771612589644323,
          0.00002586167153533643,
          0.000025009522140624927,
          0.000024218193181163314,
          0.0000234905015495327,
          0.000022829023413465534,
          0.00002223606723179953,
          0.000021713648774471263,
          0.00002126346827213806,
          0.00002088688980289298,
          0.000020584923008132854,
          0.000020358207216909705,
          0.000020206998047912398,
          0.000020131156550294935,
          0.000020130140938535204,
          0.000020203000971900504,
          0.000020348375025392603,
          0.000020564489895671242,
          0.00002084916338181801,
          0.000021199809676308698,
          0.00002161344759564882,
          0.000022086711672273387,
          0.000022615866119070588,
          0.00002319682166490444,
          0.000023825155243519815,
          0.000024496132499090856,
          0.000025204733049391412,
          0.000025945678422265106,
          0.0000267134625529837,
          0.000027502384699607014,
          0.0000283065846010797,
          0.000029120079669149413,
          0.000029936803970954832,
          0.000030750648725113445,
          0.00003155550400115316,
          0.000032345301281068964,
          0.00003311405651350248,
          0.000033855913266409254,
          0.00003456518556390452,
          0.00003523639997800355,
          0.000035864336536862994,
          0.0000364440680084132,
          0.000036970997122372294,
          0.00003744089130480793,
          0.00003784991451777811,
          0.000038194655822088016,
          0.00003847215431362006,
          0.0000386799201226628,
          0.00003881595121063016,
          0.00003887874574885428,
          0.00003886730991893304,
          0.000038781161032489996,
          0.00003862032592914344,
          0.00003838533467389057,
          0.00003807720963786295,
          0.00003769745010835283,
          0.00003724801263400543,
          0.00003673128736802393,
          0.00003615007072509482,
          0.000035507534715566954,
          0.00003480719336235051,
          0.00003405286664133252,
          0.000033248642414238014,
          0.000032398836843386386,
          0.000031507953790409745,
          0.00003058064370562707,
          0.000029621662511431752,
          0.00002863583097197692,
          0.0000276279950229806,
          0.00002660298751010436,
          0.00002556559175271562,
          0.0000245205073126174,
          0.00002347231830534111,
          0.000022425464545699677,
          0.000021384215770398175,
          0.000020352649129535735,
          0.000019334630086716443,
          0.000018333796815148994,
          0.000017353548125404638,
          0.0000163970349102512,
          0.00001546715504392907,
          0.000014566551628041018,
          0.000013697614434480552,
          0.00001286248435798049,
          0.000012063060657322446,
          0.00001130101073526204,
          0.000010577782182988849,
          0.00000989461679551591,
          0.000009252566249788238,
          0.000008652509127404243,
          0.00000809516895851618,
          0.0000075811329624698645,
          0.000007110871163808804,
          0.0000066847555690729634,
          0.000006303079100045904,
          0.000005966073992380069,
          0.000005673929384509001,
          0.000005426807840079491,
          0.000005224860567462539,
          0.000005068241121911892,
          0.0000049571173993267655,
          0.000004891681755077326,
          0.000004872159106718168,
          0.000004898812905439981,
          0.000004971948887605314,
          0.000005091916544524442,
          0.000005259108275616603,
          0.000005473956217151887,
          0.000005736926765776179,
          0.000006048512842885187,
          0.000006409223972539577,
          0.000006819574271894596,
          0.000007280068478946174,
          0.000007791186167635738,
          0.000008353364324867917,
          0.000008966978487594745,
          0.000009632322660624702,
          0.000010349588256985584,
          0.000011118842322274284,
          0.000011940005322176443,
          0.000012812828787960709,
          0.000013736873127917804,
          0.000014711485923133354,
          0.00001573578103331281,
          0.000016808618842327316,
          0.000017928587973414706,
          0.000019093988800280457,
          0.00002030281907247703,
          0.000021552761961185722,
          0.000022841176814782498,
          0.000024165092892221547,
          0.000025521206316374712,
          0.000026905880459049585,
          0.00002831514993467391,
          0.000029744728340821372,
          0.00003119001984119661,
          0.000032646134640846255,
          0.00003410790835472331,
          0.0000355699252199084,
          0.000037026545049471805,
          0.000038471933772868474,
          0.000039900097354719664,
          0.00004130491883165778,
          0.00004268019815650306,
          0.00004401969449123485,
          0.00004531717054593292,
          0.00004656643852090327,
          0.00004776140717440428,
          0.00004889612950946619,
          0.00004996485055094086,
          0.00005096205466867086,
          0.00005188251189500889,
          0.0000527213226851655,
          0.00005347396057722641,
          0.000054136312225215623,
          0.0000547047143031947,
          0.00005517598681084404,
          0.000055547462350886637,
          0.000055817010995546105,
          0.00005598306041232334,
          0.00005604461097793057,
          0.00005600124567233485,
          0.00005585313461154129,
          0.000055601034146910355,
          0.00005524628052933083,
          0.000054790778207293984
         ],
         "yaxis": "y"
        }
       ],
       "layout": {
        "barmode": "overlay",
        "font": {
         "size": 18
        },
        "hovermode": "closest",
        "legend": {
         "traceorder": "reversed"
        },
        "plot_bgcolor": "#F5F5F8",
        "template": {
         "data": {
          "bar": [
           {
            "error_x": {
             "color": "#2a3f5f"
            },
            "error_y": {
             "color": "#2a3f5f"
            },
            "marker": {
             "line": {
              "color": "#E5ECF6",
              "width": 0.5
             },
             "pattern": {
              "fillmode": "overlay",
              "size": 10,
              "solidity": 0.2
             }
            },
            "type": "bar"
           }
          ],
          "barpolar": [
           {
            "marker": {
             "line": {
              "color": "#E5ECF6",
              "width": 0.5
             },
             "pattern": {
              "fillmode": "overlay",
              "size": 10,
              "solidity": 0.2
             }
            },
            "type": "barpolar"
           }
          ],
          "carpet": [
           {
            "aaxis": {
             "endlinecolor": "#2a3f5f",
             "gridcolor": "white",
             "linecolor": "white",
             "minorgridcolor": "white",
             "startlinecolor": "#2a3f5f"
            },
            "baxis": {
             "endlinecolor": "#2a3f5f",
             "gridcolor": "white",
             "linecolor": "white",
             "minorgridcolor": "white",
             "startlinecolor": "#2a3f5f"
            },
            "type": "carpet"
           }
          ],
          "choropleth": [
           {
            "colorbar": {
             "outlinewidth": 0,
             "ticks": ""
            },
            "type": "choropleth"
           }
          ],
          "contour": [
           {
            "colorbar": {
             "outlinewidth": 0,
             "ticks": ""
            },
            "colorscale": [
             [
              0,
              "#0d0887"
             ],
             [
              0.1111111111111111,
              "#46039f"
             ],
             [
              0.2222222222222222,
              "#7201a8"
             ],
             [
              0.3333333333333333,
              "#9c179e"
             ],
             [
              0.4444444444444444,
              "#bd3786"
             ],
             [
              0.5555555555555556,
              "#d8576b"
             ],
             [
              0.6666666666666666,
              "#ed7953"
             ],
             [
              0.7777777777777778,
              "#fb9f3a"
             ],
             [
              0.8888888888888888,
              "#fdca26"
             ],
             [
              1,
              "#f0f921"
             ]
            ],
            "type": "contour"
           }
          ],
          "contourcarpet": [
           {
            "colorbar": {
             "outlinewidth": 0,
             "ticks": ""
            },
            "type": "contourcarpet"
           }
          ],
          "heatmap": [
           {
            "colorbar": {
             "outlinewidth": 0,
             "ticks": ""
            },
            "colorscale": [
             [
              0,
              "#0d0887"
             ],
             [
              0.1111111111111111,
              "#46039f"
             ],
             [
              0.2222222222222222,
              "#7201a8"
             ],
             [
              0.3333333333333333,
              "#9c179e"
             ],
             [
              0.4444444444444444,
              "#bd3786"
             ],
             [
              0.5555555555555556,
              "#d8576b"
             ],
             [
              0.6666666666666666,
              "#ed7953"
             ],
             [
              0.7777777777777778,
              "#fb9f3a"
             ],
             [
              0.8888888888888888,
              "#fdca26"
             ],
             [
              1,
              "#f0f921"
             ]
            ],
            "type": "heatmap"
           }
          ],
          "heatmapgl": [
           {
            "colorbar": {
             "outlinewidth": 0,
             "ticks": ""
            },
            "colorscale": [
             [
              0,
              "#0d0887"
             ],
             [
              0.1111111111111111,
              "#46039f"
             ],
             [
              0.2222222222222222,
              "#7201a8"
             ],
             [
              0.3333333333333333,
              "#9c179e"
             ],
             [
              0.4444444444444444,
              "#bd3786"
             ],
             [
              0.5555555555555556,
              "#d8576b"
             ],
             [
              0.6666666666666666,
              "#ed7953"
             ],
             [
              0.7777777777777778,
              "#fb9f3a"
             ],
             [
              0.8888888888888888,
              "#fdca26"
             ],
             [
              1,
              "#f0f921"
             ]
            ],
            "type": "heatmapgl"
           }
          ],
          "histogram": [
           {
            "marker": {
             "pattern": {
              "fillmode": "overlay",
              "size": 10,
              "solidity": 0.2
             }
            },
            "type": "histogram"
           }
          ],
          "histogram2d": [
           {
            "colorbar": {
             "outlinewidth": 0,
             "ticks": ""
            },
            "colorscale": [
             [
              0,
              "#0d0887"
             ],
             [
              0.1111111111111111,
              "#46039f"
             ],
             [
              0.2222222222222222,
              "#7201a8"
             ],
             [
              0.3333333333333333,
              "#9c179e"
             ],
             [
              0.4444444444444444,
              "#bd3786"
             ],
             [
              0.5555555555555556,
              "#d8576b"
             ],
             [
              0.6666666666666666,
              "#ed7953"
             ],
             [
              0.7777777777777778,
              "#fb9f3a"
             ],
             [
              0.8888888888888888,
              "#fdca26"
             ],
             [
              1,
              "#f0f921"
             ]
            ],
            "type": "histogram2d"
           }
          ],
          "histogram2dcontour": [
           {
            "colorbar": {
             "outlinewidth": 0,
             "ticks": ""
            },
            "colorscale": [
             [
              0,
              "#0d0887"
             ],
             [
              0.1111111111111111,
              "#46039f"
             ],
             [
              0.2222222222222222,
              "#7201a8"
             ],
             [
              0.3333333333333333,
              "#9c179e"
             ],
             [
              0.4444444444444444,
              "#bd3786"
             ],
             [
              0.5555555555555556,
              "#d8576b"
             ],
             [
              0.6666666666666666,
              "#ed7953"
             ],
             [
              0.7777777777777778,
              "#fb9f3a"
             ],
             [
              0.8888888888888888,
              "#fdca26"
             ],
             [
              1,
              "#f0f921"
             ]
            ],
            "type": "histogram2dcontour"
           }
          ],
          "mesh3d": [
           {
            "colorbar": {
             "outlinewidth": 0,
             "ticks": ""
            },
            "type": "mesh3d"
           }
          ],
          "parcoords": [
           {
            "line": {
             "colorbar": {
              "outlinewidth": 0,
              "ticks": ""
             }
            },
            "type": "parcoords"
           }
          ],
          "pie": [
           {
            "automargin": true,
            "type": "pie"
           }
          ],
          "scatter": [
           {
            "fillpattern": {
             "fillmode": "overlay",
             "size": 10,
             "solidity": 0.2
            },
            "type": "scatter"
           }
          ],
          "scatter3d": [
           {
            "line": {
             "colorbar": {
              "outlinewidth": 0,
              "ticks": ""
             }
            },
            "marker": {
             "colorbar": {
              "outlinewidth": 0,
              "ticks": ""
             }
            },
            "type": "scatter3d"
           }
          ],
          "scattercarpet": [
           {
            "marker": {
             "colorbar": {
              "outlinewidth": 0,
              "ticks": ""
             }
            },
            "type": "scattercarpet"
           }
          ],
          "scattergeo": [
           {
            "marker": {
             "colorbar": {
              "outlinewidth": 0,
              "ticks": ""
             }
            },
            "type": "scattergeo"
           }
          ],
          "scattergl": [
           {
            "marker": {
             "colorbar": {
              "outlinewidth": 0,
              "ticks": ""
             }
            },
            "type": "scattergl"
           }
          ],
          "scattermapbox": [
           {
            "marker": {
             "colorbar": {
              "outlinewidth": 0,
              "ticks": ""
             }
            },
            "type": "scattermapbox"
           }
          ],
          "scatterpolar": [
           {
            "marker": {
             "colorbar": {
              "outlinewidth": 0,
              "ticks": ""
             }
            },
            "type": "scatterpolar"
           }
          ],
          "scatterpolargl": [
           {
            "marker": {
             "colorbar": {
              "outlinewidth": 0,
              "ticks": ""
             }
            },
            "type": "scatterpolargl"
           }
          ],
          "scatterternary": [
           {
            "marker": {
             "colorbar": {
              "outlinewidth": 0,
              "ticks": ""
             }
            },
            "type": "scatterternary"
           }
          ],
          "surface": [
           {
            "colorbar": {
             "outlinewidth": 0,
             "ticks": ""
            },
            "colorscale": [
             [
              0,
              "#0d0887"
             ],
             [
              0.1111111111111111,
              "#46039f"
             ],
             [
              0.2222222222222222,
              "#7201a8"
             ],
             [
              0.3333333333333333,
              "#9c179e"
             ],
             [
              0.4444444444444444,
              "#bd3786"
             ],
             [
              0.5555555555555556,
              "#d8576b"
             ],
             [
              0.6666666666666666,
              "#ed7953"
             ],
             [
              0.7777777777777778,
              "#fb9f3a"
             ],
             [
              0.8888888888888888,
              "#fdca26"
             ],
             [
              1,
              "#f0f921"
             ]
            ],
            "type": "surface"
           }
          ],
          "table": [
           {
            "cells": {
             "fill": {
              "color": "#EBF0F8"
             },
             "line": {
              "color": "white"
             }
            },
            "header": {
             "fill": {
              "color": "#C8D4E3"
             },
             "line": {
              "color": "white"
             }
            },
            "type": "table"
           }
          ]
         },
         "layout": {
          "annotationdefaults": {
           "arrowcolor": "#2a3f5f",
           "arrowhead": 0,
           "arrowwidth": 1
          },
          "autotypenumbers": "strict",
          "coloraxis": {
           "colorbar": {
            "outlinewidth": 0,
            "ticks": ""
           }
          },
          "colorscale": {
           "diverging": [
            [
             0,
             "#8e0152"
            ],
            [
             0.1,
             "#c51b7d"
            ],
            [
             0.2,
             "#de77ae"
            ],
            [
             0.3,
             "#f1b6da"
            ],
            [
             0.4,
             "#fde0ef"
            ],
            [
             0.5,
             "#f7f7f7"
            ],
            [
             0.6,
             "#e6f5d0"
            ],
            [
             0.7,
             "#b8e186"
            ],
            [
             0.8,
             "#7fbc41"
            ],
            [
             0.9,
             "#4d9221"
            ],
            [
             1,
             "#276419"
            ]
           ],
           "sequential": [
            [
             0,
             "#0d0887"
            ],
            [
             0.1111111111111111,
             "#46039f"
            ],
            [
             0.2222222222222222,
             "#7201a8"
            ],
            [
             0.3333333333333333,
             "#9c179e"
            ],
            [
             0.4444444444444444,
             "#bd3786"
            ],
            [
             0.5555555555555556,
             "#d8576b"
            ],
            [
             0.6666666666666666,
             "#ed7953"
            ],
            [
             0.7777777777777778,
             "#fb9f3a"
            ],
            [
             0.8888888888888888,
             "#fdca26"
            ],
            [
             1,
             "#f0f921"
            ]
           ],
           "sequentialminus": [
            [
             0,
             "#0d0887"
            ],
            [
             0.1111111111111111,
             "#46039f"
            ],
            [
             0.2222222222222222,
             "#7201a8"
            ],
            [
             0.3333333333333333,
             "#9c179e"
            ],
            [
             0.4444444444444444,
             "#bd3786"
            ],
            [
             0.5555555555555556,
             "#d8576b"
            ],
            [
             0.6666666666666666,
             "#ed7953"
            ],
            [
             0.7777777777777778,
             "#fb9f3a"
            ],
            [
             0.8888888888888888,
             "#fdca26"
            ],
            [
             1,
             "#f0f921"
            ]
           ]
          },
          "colorway": [
           "#636efa",
           "#EF553B",
           "#00cc96",
           "#ab63fa",
           "#FFA15A",
           "#19d3f3",
           "#FF6692",
           "#B6E880",
           "#FF97FF",
           "#FECB52"
          ],
          "font": {
           "color": "#2a3f5f"
          },
          "geo": {
           "bgcolor": "white",
           "lakecolor": "white",
           "landcolor": "#E5ECF6",
           "showlakes": true,
           "showland": true,
           "subunitcolor": "white"
          },
          "hoverlabel": {
           "align": "left"
          },
          "hovermode": "closest",
          "mapbox": {
           "style": "light"
          },
          "paper_bgcolor": "white",
          "plot_bgcolor": "#E5ECF6",
          "polar": {
           "angularaxis": {
            "gridcolor": "white",
            "linecolor": "white",
            "ticks": ""
           },
           "bgcolor": "#E5ECF6",
           "radialaxis": {
            "gridcolor": "white",
            "linecolor": "white",
            "ticks": ""
           }
          },
          "scene": {
           "xaxis": {
            "backgroundcolor": "#E5ECF6",
            "gridcolor": "white",
            "gridwidth": 2,
            "linecolor": "white",
            "showbackground": true,
            "ticks": "",
            "zerolinecolor": "white"
           },
           "yaxis": {
            "backgroundcolor": "#E5ECF6",
            "gridcolor": "white",
            "gridwidth": 2,
            "linecolor": "white",
            "showbackground": true,
            "ticks": "",
            "zerolinecolor": "white"
           },
           "zaxis": {
            "backgroundcolor": "#E5ECF6",
            "gridcolor": "white",
            "gridwidth": 2,
            "linecolor": "white",
            "showbackground": true,
            "ticks": "",
            "zerolinecolor": "white"
           }
          },
          "shapedefaults": {
           "line": {
            "color": "#2a3f5f"
           }
          },
          "ternary": {
           "aaxis": {
            "gridcolor": "white",
            "linecolor": "white",
            "ticks": ""
           },
           "baxis": {
            "gridcolor": "white",
            "linecolor": "white",
            "ticks": ""
           },
           "bgcolor": "#E5ECF6",
           "caxis": {
            "gridcolor": "white",
            "linecolor": "white",
            "ticks": ""
           }
          },
          "title": {
           "x": 0.05
          },
          "xaxis": {
           "automargin": true,
           "gridcolor": "white",
           "linecolor": "white",
           "ticks": "",
           "title": {
            "standoff": 15
           },
           "zerolinecolor": "white",
           "zerolinewidth": 2
          },
          "yaxis": {
           "automargin": true,
           "gridcolor": "white",
           "linecolor": "white",
           "ticks": "",
           "title": {
            "standoff": 15
           },
           "zerolinecolor": "white",
           "zerolinewidth": 2
          }
         }
        },
        "title": {
         "text": "Real vs. Synthetic Data for column 'hospital_stay_hours'"
        },
        "xaxis": {
         "anchor": "y2",
         "domain": [
          0,
          1
         ],
         "title": {
          "text": "Value"
         },
         "zeroline": false
        },
        "yaxis": {
         "anchor": "free",
         "domain": [
          0,
          1
         ],
         "position": 0,
         "title": {
          "text": "Frequency"
         }
        }
       }
      }
     },
     "metadata": {},
     "output_type": "display_data"
    },
    {
     "data": {
      "application/vnd.plotly.v1+json": {
       "config": {
        "plotlyServerURL": "https://plot.ly"
       },
       "data": [
        {
         "fill": "tozeroy",
         "hovertemplate": "<b>Real</b><br>Frequency: %{y}<extra></extra>",
         "legendgroup": "Real",
         "marker": {
          "color": "#000036"
         },
         "mode": "lines",
         "name": "Real",
         "showlegend": true,
         "type": "scatter",
         "x": [
          13.326543130926568,
          13.609160797994125,
          13.891778465061682,
          14.174396132129239,
          14.457013799196794,
          14.73963146626435,
          15.022249133331908,
          15.304866800399465,
          15.587484467467021,
          15.870102134534578,
          16.152719801602135,
          16.43533746866969,
          16.71795513573725,
          17.000572802804804,
          17.283190469872363,
          17.565808136939918,
          17.848425804007476,
          18.13104347107503,
          18.413661138142587,
          18.69627880521014,
          18.9788964722777,
          19.26151413934526,
          19.544131806412814,
          19.82674947348037,
          20.109367140547928,
          20.391984807615483,
          20.67460247468304,
          20.957220141750597,
          21.239837808818155,
          21.52245547588571,
          21.80507314295327,
          22.087690810020824,
          22.37030847708838,
          22.652926144155934,
          22.935543811223496,
          23.21816147829105,
          23.500779145358607,
          23.78339681242616,
          24.066014479493717,
          24.34863214656128,
          24.631249813628834,
          24.91386748069639,
          25.196485147763944,
          25.479102814831503,
          25.76172048189906,
          26.044338148966617,
          26.32695581603417,
          26.60957348310173,
          26.89219115016929,
          27.174808817236844,
          27.4574264843044,
          27.740044151371954,
          28.022661818439513,
          28.30527948550707,
          28.587897152574627,
          28.87051481964218,
          29.15313248670974,
          29.4357501537773,
          29.718367820844854,
          30.00098548791241,
          30.283603154979964,
          30.56622082204752,
          30.84883848911508,
          31.131456156182637,
          31.41407382325019,
          31.696691490317747,
          31.979309157385302,
          32.261926824452864,
          32.54454449152042,
          32.827162158587974,
          33.10977982565553,
          33.392397492723084,
          33.67501515979065,
          33.9576328268582,
          34.24025049392576,
          34.52286816099331,
          34.80548582806087,
          35.08810349512843,
          35.370721162195984,
          35.65333882926354,
          35.935956496331094,
          36.21857416339866,
          36.50119183046621,
          36.78380949753377,
          37.06642716460132,
          37.34904483166888,
          37.63166249873644,
          37.914280165803994,
          38.19689783287155,
          38.479515499939104,
          38.76213316700667,
          39.04475083407422,
          39.32736850114178,
          39.60998616820933,
          39.892603835276894,
          40.17522150234445,
          40.457839169412004,
          40.74045683647956,
          41.023074503547114,
          41.30569217061468,
          41.58830983768223,
          41.87092750474979,
          42.15354517181734,
          42.436162838884904,
          42.71878050595246,
          43.001398173020014,
          43.28401584008757,
          43.566633507155125,
          43.84925117422269,
          44.13186884129024,
          44.4144865083578,
          44.69710417542535,
          44.979721842492914,
          45.26233950956047,
          45.544957176628024,
          45.82757484369558,
          46.110192510763135,
          46.39281017783069,
          46.67542784489825,
          46.95804551196581,
          47.24066317903336,
          47.52328084610092,
          47.80589851316847,
          48.08851618023603,
          48.37113384730359,
          48.653751514371145,
          48.9363691814387,
          49.21898684850626,
          49.50160451557382,
          49.78422218264137,
          50.06683984970893,
          50.34945751677648,
          50.63207518384404,
          50.9146928509116,
          51.197310517979155,
          51.47992818504671,
          51.76254585211427,
          52.04516351918183,
          52.32778118624938,
          52.61039885331694,
          52.89301652038449,
          53.17563418745205,
          53.4582518545196,
          53.740869521587165,
          54.02348718865472,
          54.30610485572228,
          54.58872252278984,
          54.87134018985739,
          55.15395785692495,
          55.4365755239925,
          55.71919319106006,
          56.00181085812761,
          56.28442852519517,
          56.56704619226274,
          56.84966385933029,
          57.13228152639785,
          57.4148991934654,
          57.69751686053296,
          57.98013452760051,
          58.26275219466807,
          58.54536986173562,
          58.82798752880318,
          59.11060519587074,
          59.3932228629383,
          59.67584053000586,
          59.95845819707341,
          60.24107586414097,
          60.52369353120852,
          60.80631119827608,
          61.08892886534363,
          61.37154653241119,
          61.65416419947875,
          61.936781866546305,
          62.21939953361387,
          62.50201720068142,
          62.78463486774898,
          63.06725253481653,
          63.34987020188409,
          63.63248786895164,
          63.9151055360192,
          64.19772320308677,
          64.48034087015432,
          64.76295853722188,
          65.04557620428943,
          65.32819387135699,
          65.61081153842454,
          65.8934292054921,
          66.17604687255965,
          66.45866453962722,
          66.74128220669478,
          67.02389987376233,
          67.30651754082989,
          67.58913520789744,
          67.871752874965,
          68.15437054203255,
          68.43698820910011,
          68.71960587616766,
          69.00222354323523,
          69.28484121030279,
          69.56745887737034,
          69.8500765444379,
          70.13269421150545,
          70.41531187857301,
          70.69792954564056,
          70.98054721270812,
          71.26316487977567,
          71.54578254684324,
          71.8284002139108,
          72.11101788097835,
          72.3936355480459,
          72.67625321511346,
          72.95887088218102,
          73.24148854924857,
          73.52410621631613,
          73.80672388338368,
          74.08934155045125,
          74.3719592175188,
          74.65457688458636,
          74.93719455165392,
          75.21981221872147,
          75.50242988578903,
          75.78504755285658,
          76.06766521992414,
          76.3502828869917,
          76.63290055405926,
          76.91551822112682,
          77.19813588819437,
          77.48075355526191,
          77.76337122232948,
          78.04598888939704,
          78.32860655646459,
          78.61122422353215,
          78.8938418905997,
          79.17645955766726,
          79.45907722473481,
          79.74169489180237,
          80.02431255886994,
          80.30693022593749,
          80.58954789300505,
          80.8721655600726,
          81.15478322714016,
          81.43740089420771,
          81.72001856127527,
          82.00263622834282,
          82.28525389541038,
          82.56787156247795,
          82.85048922954549,
          83.13310689661306,
          83.41572456368061,
          83.69834223074817,
          83.98095989781572,
          84.26357756488328,
          84.54619523195083,
          84.82881289901839,
          85.11143056608596,
          85.3940482331535,
          85.67666590022107,
          85.95928356728862,
          86.24190123435618,
          86.52451890142373,
          86.80713656849129,
          87.08975423555884,
          87.3723719026264,
          87.65498956969397,
          87.93760723676151,
          88.22022490382908,
          88.50284257089663,
          88.78546023796419,
          89.06807790503174,
          89.3506955720993,
          89.63331323916685,
          89.91593090623441,
          90.19854857330198,
          90.48116624036952,
          90.76378390743709,
          91.04640157450463,
          91.3290192415722,
          91.61163690863975,
          91.89425457570731,
          92.17687224277486,
          92.45948990984242,
          92.74210757690999,
          93.02472524397753,
          93.3073429110451,
          93.58996057811264,
          93.87257824518021,
          94.15519591224776,
          94.43781357931532,
          94.72043124638287,
          95.00304891345043,
          95.285666580518,
          95.56828424758554,
          95.85090191465311,
          96.13351958172065,
          96.41613724878822,
          96.69875491585576,
          96.98137258292333,
          97.2639902499909,
          97.54660791705844,
          97.82922558412601,
          98.11184325119355,
          98.39446091826112,
          98.67707858532866,
          98.95969625239623,
          99.24231391946377,
          99.52493158653134,
          99.8075492535989,
          100.09016692066645,
          100.37278458773402,
          100.65540225480156,
          100.93801992186913,
          101.22063758893667,
          101.50325525600424,
          101.78587292307178,
          102.06849059013935,
          102.3511082572069,
          102.63372592427446,
          102.91634359134203,
          103.19896125840957,
          103.48157892547714,
          103.76419659254468,
          104.04681425961225,
          104.32943192667979,
          104.61204959374736,
          104.89466726081491,
          105.17728492788247,
          105.45990259495004,
          105.74252026201758,
          106.02513792908515,
          106.30775559615269,
          106.59037326322026,
          106.8729909302878,
          107.15560859735537,
          107.43822626442292,
          107.72084393149048,
          108.00346159855805,
          108.28607926562559,
          108.56869693269316,
          108.8513145997607,
          109.13393226682827,
          109.41654993389581,
          109.69916760096338,
          109.98178526803093,
          110.26440293509849,
          110.54702060216604,
          110.8296382692336,
          111.11225593630117,
          111.39487360336871,
          111.67749127043628,
          111.96010893750382,
          112.24272660457139,
          112.52534427163894,
          112.8079619387065,
          113.09057960577405,
          113.37319727284161,
          113.65581493990918,
          113.93843260697672,
          114.22105027404429,
          114.50366794111183,
          114.7862856081794,
          115.06890327524695,
          115.35152094231451,
          115.63413860938206,
          115.91675627644962,
          116.19937394351717,
          116.48199161058473,
          116.7646092776523,
          117.04722694471984,
          117.32984461178741,
          117.61246227885496,
          117.89507994592252,
          118.17769761299007,
          118.46031528005763,
          118.74293294712518,
          119.02555061419274,
          119.30816828126031,
          119.59078594832786,
          119.87340361539542,
          120.15602128246297,
          120.43863894953053,
          120.72125661659808,
          121.00387428366564,
          121.2864919507332,
          121.56910961780075,
          121.85172728486832,
          122.13434495193587,
          122.41696261900343,
          122.69958028607098,
          122.98219795313854,
          123.2648156202061,
          123.54743328727365,
          123.8300509543412,
          124.11266862140876,
          124.39528628847631,
          124.67790395554388,
          124.96052162261144,
          125.243139289679,
          125.52575695674655,
          125.8083746238141,
          126.09099229088166,
          126.37360995794921,
          126.65622762501677,
          126.93884529208432,
          127.22146295915189,
          127.50408062621945,
          127.786698293287,
          128.06931596035457,
          128.3519336274221,
          128.63455129448968,
          128.91716896155722,
          129.1997866286248,
          129.48240429569233,
          129.7650219627599,
          130.04763962982744,
          130.330257296895,
          130.61287496396258,
          130.89549263103012,
          131.1781102980977,
          131.46072796516523,
          131.7433456322328,
          132.02596329930034,
          132.3085809663679,
          132.59119863343545,
          132.87381630050302,
          133.1564339675706,
          133.43905163463813,
          133.7216693017057,
          134.00428696877324,
          134.2869046358408,
          134.56952230290835,
          134.85213996997592,
          135.13475763704346,
          135.41737530411103,
          135.69999297117857,
          135.98261063824614,
          136.2652283053137,
          136.54784597238125,
          136.83046363944882,
          137.11308130651636,
          137.39569897358393,
          137.67831664065147,
          137.96093430771904,
          138.24355197478658,
          138.52616964185415,
          138.80878730892172,
          139.09140497598926,
          139.37402264305683,
          139.65664031012437,
          139.93925797719194,
          140.22187564425948,
          140.50449331132705,
          140.7871109783946,
          141.06972864546216,
          141.35234631252973,
          141.63496397959727,
          141.91758164666484,
          142.2001993137324,
          142.48281698079995,
          142.76543464786752,
          143.04805231493506,
          143.33066998200263,
          143.61328764907017,
          143.89590531613774,
          144.17852298320528,
          144.46114065027285,
          144.74375831734042,
          145.02637598440796,
          145.30899365147553,
          145.59161131854307,
          145.87422898561064,
          146.15684665267818,
          146.43946431974575,
          146.72208198681332,
          147.00469965388086,
          147.28731732094843,
          147.56993498801597,
          147.85255265508354,
          148.13517032215108,
          148.41778798921865,
          148.7004056562862,
          148.98302332335376,
          149.26564099042133,
          149.54825865748887,
          149.83087632455644,
          150.11349399162398,
          150.39611165869155,
          150.6787293257591,
          150.96134699282666,
          151.2439646598942,
          151.52658232696177,
          151.80919999402934,
          152.09181766109688,
          152.37443532816442,
          152.657052995232,
          152.93967066229956,
          153.2222883293671,
          153.50490599643467,
          153.7875236635022,
          154.07014133056978,
          154.35275899763735
         ],
         "xaxis": "x",
         "y": [
          0.002106993752868319,
          0.002294318769391986,
          0.0024933199556599938,
          0.0027040761286056805,
          0.0029265719388724136,
          0.0031606905180143587,
          0.0034062078729573575,
          0.0036627894082186378,
          0.0039299889404889035,
          0.004207250545935936,
          0.0044939135494209085,
          0.004789220928406901,
          0.005092331364417643,
          0.005402335133078099,
          0.005718273981272413,
          0.006039165097459186,
          0.006364029238588546,
          0.006691923033370861,
          0.007021975434855474,
          0.007353428242419821,
          0.007685680550472083,
          0.008018336903891107,
          0.008351258843545149,
          0.008684619404267657,
          0.009018959978098534,
          0.009355248774215183,
          0.00969493989230847,
          0.010040031779065848,
          0.010393123561689458,
          0.010757467455147506,
          0.011137015131977106,
          0.011536455639608464,
          0.011961242168738813,
          0.012417604738946523,
          0.012912545698806862,
          0.013453814863153387,
          0.014049861155996783,
          0.014709757818850694,
          0.01544309860257617,
          0.016259862903106426,
          0.017170248537292848,
          0.018184471785600585,
          0.019312535443965606,
          0.020563966906704808,
          0.021947529712449655,
          0.023470913479823132,
          0.02514040868143685,
          0.026960574186132413,
          0.028933906864779403,
          0.03106052372443295,
          0.03333786792855227,
          0.035760450600452194,
          0.03831964042481665,
          0.04100351270301069,
          0.04379676864507715,
          0.04668073427969436,
          0.049633446443149015,
          0.052629830906755534,
          0.05564197488398921,
          0.05863949301525815,
          0.06158998257495078,
          0.06445956021676205,
          0.06721346921750283,
          0.06981674305129323,
          0.07223490837835707,
          0.07443470830881355,
          0.07638482522704891,
          0.07805658163566526,
          0.07942459746667163,
          0.08046738314112761,
          0.08116784932647766,
          0.08151371679193314,
          0.0814978129059273,
          0.08111824503012367,
          0.08037844518668157,
          0.07928708473331263,
          0.0778578621856088,
          0.07610917158761166,
          0.07406366276675051,
          0.07174770825259634,
          0.0691907944506438,
          0.066424856735532,
          0.06348357939329728,
          0.060401681770170496,
          0.057214211587447536,
          0.053955865207833076,
          0.05066035277271201,
          0.04735982368482827,
          0.04408436502100126,
          0.04086158227237156,
          0.03771626847770718,
          0.034670164487915496,
          0.03174180991602622,
          0.028946481408482962,
          0.026296212320881456,
          0.023799885769398794,
          0.021463391406379102,
          0.019289835156315882,
          0.01727979054276968,
          0.015431580110869399,
          0.013741575758069677,
          0.012204507467198363,
          0.010813770919792765,
          0.009561725678138986,
          0.008439976984207079,
          0.007439635658600757,
          0.006551552024841891,
          0.005766521174619833,
          0.005075458179425297,
          0.004469543006006956,
          0.003940335881687462,
          0.003479864666189726,
          0.0030806864148209883,
          0.002735925767939756,
          0.0024392930850049032,
          0.002185085374992239,
          0.00196817307902691,
          0.001783975658254014,
          0.0016284287533788093,
          0.0014979454344840632,
          0.0013893737716424868,
          0.0012999526472001017,
          0.0012272674154217512,
          0.0011692067075517484,
          0.0011239213903875625,
          0.001089786421506812,
          0.001065366109056262,
          0.0010493830809751219,
          0.0010406910982512234,
          0.0010382517083448188,
          0.0010411146261636204,
          0.0010484016480324667,
          0.0010592938455843532,
          0.0010730217477990674,
          0.001088858196926231,
          0.0011061135543258436,
          0.0011241329322306745,
          0.001142295134370872,
          0.0011600130000537269,
          0.0011767348608905015,
          0.001191946835611333,
          0.0012051757054564014,
          0.0012159921300140535,
          0.0012240139809636386,
          0.0012289095890850737,
          0.001230400718407859,
          0.0012282651008555267,
          0.0012223383855743107,
          0.0012125153796220067,
          0.0011987504810147,
          0.001181057231287196,
          0.0011595069425245719,
          0.0011342263828579007,
          0.001105394534081751,
          0.00107323846456866,
          0.0010380283891184188,
          0.001000072013814073,
          0.0009597082873738947,
          0.0009173006999626376,
          0.0008732302851477448,
          0.0008278884900291698,
          0.0007816700821278758,
          0.0007349662592388635,
          0.0006881581202573181,
          0.0006416106413579414,
          0.0005956672834804452,
          0.0005506453346930709,
          0.0005068320656830297,
          0.00046448174947376396,
          0.0004238135686620081,
          0.0003850104061512708,
          0.00034821848960970485,
          0.0003135478366491957,
          0.0002810734277913965,
          0.00025083701823969655,
          0.00022284948768276503,
          0.00019709361996635786,
          0.00017352720142643825,
          0.0001520863277288236,
          0.00013268881379859083,
          0.00011523760930927907,
          0.0000996241326132981,
          0.00008573144825862191,
          0.00007343722667054732,
          0.00006261643852383806,
          0.00005314375018646648,
          0.00004489559985522602,
          0.00003775194619241789,
          0.00003159769208043221,
          0.000026323795310736845,
          0.000021828085489876248,
          0.000018015812144786327,
          0.000014799952990905428,
          0.000012101313703569416,
          0.000009848451470853391,
          0.000007977454304181854,
          0.000006431606761036812,
          0.000005160970617455804,
          0.0000041219063366618576,
          0.0000032765581191811057,
          0.0000025923220724823266,
          0.000002041313761559096,
          0.000001599848224364596,
          0.0000012479425569427662,
          9.688484638565403e-7,
          7.486197758319609e-7,
          5.757178816343168e-7,
          4.406563093963657e-7,
          3.356843131578527e-7,
          2.5450825113689405e-7,
          1.92048753269715e-7,
          1.4423113212037907e-7,
          1.0780615657445407e-7,
          8.019814503909667e-8,
          5.937730911439664e-8,
          4.3753357676703806e-8,
          3.208752643348398e-8,
          2.342040467984472e-8,
          1.7013168716321704e-8,
          1.2300083654165531e-8,
          8.850389301985501e-9,
          6.337931953616169e-9,
          4.517135485188255e-9,
          3.2041179033306486e-9,
          2.2619509750430758e-9,
          1.5892299235529684e-9,
          1.111267627352487e-9,
          7.733543427886545e-10,
          5.356312407259798e-10,
          3.6921586814317784e-10,
          2.5329201590953905e-10,
          1.7293740428219897e-10,
          1.1751201827149154e-10,
          7.94696279607424e-11,
          5.348663323010923e-11,
          3.582730842630826e-11,
          2.388402972905854e-11,
          1.5846202189223362e-11,
          1.046325066399603e-11,
          6.875932398189191e-12,
          4.496967934694915e-12,
          2.927055159939509e-12,
          1.8961149009413332e-12,
          1.2224208136376549e-12,
          7.843300923043357e-13,
          5.008397613850222e-13,
          3.1828797416958654e-13,
          2.0130886530197502e-13,
          1.2671456880229894e-13,
          7.937996800100889e-14,
          4.948980647164699e-14,
          3.07072417792968e-14,
          1.8962073812115043e-14,
          1.16533445291018e-14,
          7.127460700311327e-15,
          4.3384873218530734e-15,
          2.6282148152526994e-15,
          1.5845362623373842e-15,
          9.507406829394902e-16,
          5.67728013211009e-16,
          3.373934921261079e-16,
          1.995496609794451e-16,
          1.1745810492965408e-16,
          6.880697690018311e-17,
          4.0114302859093775e-17,
          2.3274646869389164e-17,
          1.3439522194646991e-17,
          7.723270295572498e-18,
          4.4170785199011324e-18,
          2.514115869570905e-18,
          1.424136283547159e-18,
          8.028487122908753e-19,
          4.504344438919591e-19,
          2.515040591473201e-19,
          1.3975705790334837e-19,
          7.728899568100919e-20,
          4.253795065286035e-20,
          2.3299696829081974e-20,
          1.2701020305135925e-20,
          6.890352039430522e-21,
          3.720133309061679e-21,
          1.9988937869599564e-21,
          1.068894632343944e-21,
          5.688449342739192e-22,
          3.0127745880500215e-22,
          1.5880103044117263e-22,
          8.330194432820606e-23,
          4.348879553171078e-23,
          2.2596510609638512e-23,
          1.1687780392233342e-23,
          6.0226198320882384e-24,
          3.101167536892617e-24,
          1.614661043013611e-24,
          8.875077783931682e-25,
          5.849262010790465e-25,
          5.661126250105041e-25,
          8.217933344145888e-25,
          1.4698530032165247e-24,
          2.8070743856438486e-24,
          5.438528754069025e-24,
          1.0538130202995358e-23,
          2.034674724168663e-23,
          3.910816628779196e-23,
          7.481309524588817e-23,
          1.424293137430834e-22,
          2.6985230285818778e-22,
          5.088106533372116e-22,
          9.547488901300132e-22,
          1.7828915269954863e-21,
          3.313320484570372e-21,
          6.127802067690493e-21,
          1.1278433137839613e-20,
          2.065834691981243e-20,
          3.7656948117956495e-20,
          6.83120675813011e-20,
          1.233253898262189e-19,
          2.215696747473428e-19,
          3.9616025263480415e-19,
          7.049109165142213e-19,
          1.2482464198330508e-18,
          2.1997289905085916e-18,
          3.857809554543175e-18,
          6.733101273236784e-18,
          1.1694785638117375e-17,
          2.0214925317657863e-17,
          3.477400988275893e-17,
          5.953058656425415e-17,
          1.0142109772688111e-16,
          1.7195674211278837e-16,
          2.9014351394377247e-16,
          4.872022453576512e-16,
          8.141575457093045e-16,
          1.3539741722014631e-15,
          2.2408617535784233e-15,
          3.690816937875368e-15,
          6.049684167705658e-15,
          9.868375265867856e-15,
          1.601995775251437e-14,
          2.5880927328968376e-14,
          4.161032009528409e-14,
          6.657712492853229e-14,
          1.060112054949791e-13,
          1.6798916292477133e-13,
          2.6491924919952213e-13,
          4.157655695240462e-13,
          6.493611231857545e-13,
          1.0093151757946076e-12,
          1.5612414710022054e-12,
          2.4033449600482465e-12,
          3.681839898503849e-12,
          5.613276623503655e-12,
          8.516688176342985e-12,
          1.2859610211517161e-11,
          1.932358134202636e-11,
          2.8896829198731735e-11,
          4.300466003607091e-11,
          6.369181180094158e-11,
          9.387597141654977e-11,
          1.3769812971216914e-10,
          2.0100385903322951e-10,
          2.9200044003304113e-10,
          4.221486190412382e-10,
          6.073653283629696e-10,
          8.696357331582799e-10,
          1.2391603627296973e-9,
          1.7571968101937236e-9,
          2.479796575222116e-9,
          3.4826871382719256e-9,
          4.867608319956524e-9,
          6.7704813166756724e-9,
          9.371869223118627e-9,
          1.2910279720981045e-8,
          1.7698963793838732e-8,
          2.414697798592696e-8,
          3.278540010416933e-8,
          4.429971645093387e-8,
          5.9569528328576116e-8,
          7.971685064970397e-8,
          1.0616438806377043e-7,
          1.4070526398363053e-7,
          1.85585732913185e-7,
          2.436024118967235e-7,
          3.1821550591529507e-7,
          4.136793559559245e-7,
          5.35191387237708e-7,
          6.890601580923139e-7,
          8.82892687167176e-7,
          0.0000011258005497236925,
          0.0000014286233681523215,
          0.0000018041672681964929,
          0.000002267454629138672,
          0.00000283598003156844,
          0.000003529965720612865,
          0.000004372608190096668,
          0.000005390305704280449,
          0.000006612854775829644,
          0.000008073601895996984,
          0.00000980953526671279,
          0.000011861300030030738,
          0.000014273119655083216,
          0.000017092605859673505,
          0.000020370439846251238,
          0.000024159908845983505,
          0.000028516284099036766,
          0.00003349602953683114,
          0.00003915583461935622,
          0.00004555147001803877,
          0.000052736471067802365,
          0.00006076066102492924,
          0.00006966853397828152,
          0.00007949752552196937,
          0.00009027620769531109,
          0.0001020224528628718,
          0.00011474161873107862,
          0.00012842481313934164,
          0.00014304730217681253,
          0.00015856712813345158,
          0.00017492400441219223,
          0.00019203855249540422,
          0.0002098119411589227,
          0.000228125980265879,
          0.00024684371069583845,
          0.00026581051846816917,
          0.00028485578525466065,
          0.0003037950697479011,
          0.00032243279539950396,
          0.00034056540061928495,
          0.00035798488846823507,
          0.00037448269506143103,
          0.0003898537801955125,
          0.00040390083095244954,
          0.0004164384599317758,
          0.00042729727490985425,
          0.00043632769651822344,
          0.0004434034051649097,
          0.0004484243078545219,
          0.00045131892952265316,
          0.0004520461514877094,
          0.0004505962409332173,
          0.0004469911390873581,
          0.00044128400095637724,
          0.0004335580050096015,
          0.0004239244759998648,
          0.00041252038706432193,
          0.00039950532740884746,
          0.0003850580383973823,
          0.00036937263309107736,
          0.0003526546217682248,
          0.00033511686849172634,
          0.00031697560139739753,
          0.00029844659229950475,
          0.0002797416099006205,
          0.00026106523597499486,
          0.00024261211612829474,
          0.00022456469697222054,
          0.00020709148068800138,
          0.00019034580688605105,
          0.0001744651512583604,
          0.00015957091154744234,
          0.00014576863449736822,
          0.00013314862325923332,
          0.00012178685360744539,
          0.00011174611955296641,
          0.00010307732464351788,
          0.00009582083441427705,
          0.00009000780797268167,
          0.00008566143234010322,
          0.00008279799161790918,
          0.00008142771391211151,
          0.00008155535180224978,
          0.00008318046649964187,
          0.00008629740120362622,
          0.00009089494501122937,
          0.00009695570453740636,
          0.00010445521563192813,
          0.00011336084171655962,
          0.00012363051781234336,
          0.00013521140981045642,
          0.00014803856653237317,
          0.00016203364725286956,
          0.00017710380932282692,
          0.00019314083911687856,
          0.0002100206046398116,
          0.00022760289977261704,
          0.0002457317384759185,
          0.00026423614258840365,
          0.00028293144959669824,
          0.00030162114748451583,
          0.00032009922318855196,
          0.0003381529900942748,
          0.0003555663392634398,
          0.0003721233395986972,
          0.00038761209481114826,
          0.0004018287507031819,
          0.00041458153565073765,
          0.00042569471086357434,
          0.0004350123054368885,
          0.0004424015145916434,
          0.00044775564781561467,
          0.00045099652660960147
         ],
         "yaxis": "y"
        },
        {
         "fill": "tozeroy",
         "hovertemplate": "<b>Synthetic</b><br>Frequency: %{y}<extra></extra>",
         "legendgroup": "Synthetic",
         "marker": {
          "color": "#01E0C9"
         },
         "mode": "lines",
         "name": "Synthetic",
         "showlegend": true,
         "type": "scatter",
         "x": [
          6.000535097893902,
          6.065768030025254,
          6.131000962156605,
          6.196233894287958,
          6.261466826419309,
          6.326699758550661,
          6.391932690682013,
          6.457165622813365,
          6.522398554944717,
          6.587631487076068,
          6.65286441920742,
          6.718097351338772,
          6.783330283470123,
          6.848563215601476,
          6.913796147732827,
          6.979029079864179,
          7.044262011995531,
          7.109494944126883,
          7.174727876258235,
          7.239960808389586,
          7.305193740520938,
          7.37042667265229,
          7.435659604783641,
          7.500892536914994,
          7.566125469046345,
          7.631358401177697,
          7.696591333309049,
          7.761824265440401,
          7.827057197571753,
          7.892290129703104,
          7.957523061834456,
          8.022755993965808,
          8.08798892609716,
          8.153221858228513,
          8.218454790359864,
          8.283687722491216,
          8.348920654622567,
          8.414153586753919,
          8.47938651888527,
          8.544619451016622,
          8.609852383147974,
          8.675085315279325,
          8.740318247410677,
          8.805551179542029,
          8.87078411167338,
          8.936017043804734,
          9.001249975936085,
          9.066482908067437,
          9.131715840198789,
          9.19694877233014,
          9.262181704461492,
          9.327414636592843,
          9.392647568724197,
          9.457880500855548,
          9.5231134329869,
          9.588346365118252,
          9.653579297249603,
          9.718812229380955,
          9.784045161512307,
          9.849278093643658,
          9.91451102577501,
          9.979743957906361,
          10.044976890037713,
          10.110209822169065,
          10.175442754300416,
          10.24067568643177,
          10.305908618563121,
          10.371141550694473,
          10.436374482825824,
          10.501607414957178,
          10.56684034708853,
          10.632073279219881,
          10.697306211351233,
          10.762539143482584,
          10.827772075613936,
          10.893005007745288,
          10.95823793987664,
          11.02347087200799,
          11.088703804139342,
          11.153936736270694,
          11.219169668402046,
          11.284402600533397,
          11.349635532664749,
          11.4148684647961,
          11.480101396927452,
          11.545334329058806,
          11.610567261190157,
          11.675800193321509,
          11.74103312545286,
          11.806266057584214,
          11.871498989715565,
          11.936731921846917,
          12.001964853978269,
          12.06719778610962,
          12.132430718240972,
          12.197663650372323,
          12.262896582503675,
          12.328129514635027,
          12.393362446766378,
          12.45859537889773,
          12.523828311029082,
          12.589061243160433,
          12.654294175291785,
          12.719527107423136,
          12.78476003955449,
          12.849992971685841,
          12.915225903817193,
          12.980458835948545,
          13.045691768079898,
          13.11092470021125,
          13.176157632342601,
          13.241390564473953,
          13.306623496605305,
          13.371856428736656,
          13.437089360868008,
          13.50232229299936,
          13.567555225130711,
          13.632788157262063,
          13.698021089393414,
          13.763254021524766,
          13.828486953656117,
          13.893719885787469,
          13.95895281791882,
          14.024185750050174,
          14.089418682181526,
          14.154651614312877,
          14.219884546444229,
          14.28511747857558,
          14.350350410706932,
          14.415583342838284,
          14.480816274969637,
          14.546049207100989,
          14.61128213923234,
          14.676515071363692,
          14.741748003495044,
          14.806980935626395,
          14.872213867757747,
          14.937446799889099,
          15.002679732020452,
          15.067912664151804,
          15.133145596283155,
          15.198378528414507,
          15.263611460545858,
          15.32884439267721,
          15.394077324808562,
          15.459310256939913,
          15.524543189071267,
          15.589776121202618,
          15.65500905333397,
          15.720241985465321,
          15.785474917596671,
          15.850707849728023,
          15.915940781859375,
          15.981173713990726,
          16.04640664612208,
          16.11163957825343,
          16.176872510384783,
          16.242105442516134,
          16.307338374647486,
          16.372571306778838,
          16.43780423891019,
          16.50303717104154,
          16.568270103172893,
          16.633503035304244,
          16.698735967435596,
          16.763968899566947,
          16.8292018316983,
          16.89443476382965,
          16.959667695961002,
          17.024900628092357,
          17.09013356022371,
          17.15536649235506,
          17.220599424486412,
          17.285832356617764,
          17.351065288749115,
          17.416298220880467,
          17.48153115301182,
          17.546764085143174,
          17.611997017274525,
          17.677229949405877,
          17.74246288153723,
          17.80769581366858,
          17.872928745799932,
          17.938161677931284,
          18.003394610062635,
          18.068627542193987,
          18.13386047432534,
          18.19909340645669,
          18.26432633858804,
          18.329559270719393,
          18.394792202850745,
          18.460025134982097,
          18.525258067113448,
          18.5904909992448,
          18.65572393137615,
          18.720956863507503,
          18.786189795638855,
          18.851422727770206,
          18.916655659901558,
          18.98188859203291,
          19.04712152416426,
          19.112354456295613,
          19.177587388426964,
          19.242820320558316,
          19.308053252689668,
          19.37328618482102,
          19.43851911695237,
          19.503752049083722,
          19.568984981215078,
          19.63421791334643,
          19.69945084547778,
          19.764683777609132,
          19.829916709740484,
          19.895149641871836,
          19.960382574003187,
          20.02561550613454,
          20.090848438265894,
          20.156081370397246,
          20.221314302528597,
          20.28654723465995,
          20.3517801667913,
          20.417013098922652,
          20.482246031054004,
          20.547478963185355,
          20.612711895316707,
          20.67794482744806,
          20.74317775957941,
          20.808410691710762,
          20.873643623842113,
          20.938876555973465,
          21.004109488104817,
          21.06934242023617,
          21.13457535236752,
          21.19980828449887,
          21.265041216630223,
          21.330274148761575,
          21.395507080892926,
          21.460740013024278,
          21.52597294515563,
          21.59120587728698,
          21.656438809418333,
          21.721671741549684,
          21.786904673681036,
          21.852137605812388,
          21.91737053794374,
          21.98260347007509,
          22.047836402206446,
          22.113069334337798,
          22.17830226646915,
          22.2435351986005,
          22.308768130731853,
          22.374001062863204,
          22.439233994994556,
          22.504466927125907,
          22.56969985925726,
          22.63493279138861,
          22.700165723519962,
          22.765398655651314,
          22.830631587782666,
          22.89586451991402,
          22.961097452045372,
          23.026330384176724,
          23.091563316308076,
          23.156796248439427,
          23.22202918057078,
          23.28726211270213,
          23.352495044833482,
          23.417727976964834,
          23.482960909096185,
          23.548193841227537,
          23.61342677335889,
          23.67865970549024,
          23.74389263762159,
          23.809125569752943,
          23.874358501884295,
          23.93959143401565,
          24.004824366147,
          24.070057298278353,
          24.135290230409705,
          24.200523162541057,
          24.26575609467241,
          24.33098902680376,
          24.39622195893511,
          24.461454891066463,
          24.526687823197815,
          24.591920755329166,
          24.657153687460518,
          24.72238661959187,
          24.78761955172322,
          24.852852483854573,
          24.918085415985924,
          24.98331834811728,
          25.04855128024863,
          25.113784212379983,
          25.179017144511334,
          25.244250076642686,
          25.309483008774038,
          25.37471594090539,
          25.43994887303674,
          25.50518180516809,
          25.57041473729944,
          25.635647669430792,
          25.700880601562144,
          25.766113533693495,
          25.831346465824847,
          25.8965793979562,
          25.96181233008755,
          26.027045262218905,
          26.092278194350257,
          26.15751112648161,
          26.22274405861296,
          26.287976990744312,
          26.353209922875664,
          26.418442855007015,
          26.483675787138367,
          26.54890871926972,
          26.61414165140107,
          26.67937458353242,
          26.744607515663773,
          26.809840447795125,
          26.875073379926476,
          26.940306312057828,
          27.005539244189183,
          27.070772176320535,
          27.136005108451887,
          27.201238040583238,
          27.26647097271459,
          27.33170390484594,
          27.396936836977293,
          27.462169769108645,
          27.527402701239996,
          27.592635633371348,
          27.6578685655027,
          27.72310149763405,
          27.788334429765403,
          27.853567361896754,
          27.918800294028106,
          27.984033226159458,
          28.049266158290813,
          28.114499090422164,
          28.179732022553516,
          28.244964954684868,
          28.31019788681622,
          28.37543081894757,
          28.440663751078922,
          28.505896683210274,
          28.571129615341626,
          28.636362547472977,
          28.70159547960433,
          28.76682841173568,
          28.832061343867032,
          28.897294275998384,
          28.962527208129735,
          29.027760140261087,
          29.092993072392442,
          29.158226004523794,
          29.223458936655145,
          29.288691868786497,
          29.35392480091785,
          29.4191577330492,
          29.484390665180552,
          29.549623597311903,
          29.614856529443255,
          29.680089461574607,
          29.74532239370596,
          29.81055532583731,
          29.87578825796866,
          29.941021190100013,
          30.006254122231365,
          30.07148705436272,
          30.13671998649407,
          30.201952918625423,
          30.267185850756775,
          30.332418782888126,
          30.397651715019478,
          30.46288464715083,
          30.52811757928218,
          30.593350511413533,
          30.658583443544885,
          30.723816375676236,
          30.789049307807588,
          30.85428223993894,
          30.91951517207029,
          30.984748104201643,
          31.049981036332994,
          31.115213968464346,
          31.180446900595697,
          31.24567983272705,
          31.3109127648584,
          31.376145696989752,
          31.441378629121104,
          31.506611561252456,
          31.571844493383807,
          31.63707742551516,
          31.70231035764651,
          31.767543289777862,
          31.832776221909214,
          31.898009154040565,
          31.963242086171917,
          32.02847501830327,
          32.09370795043462,
          32.15894088256597,
          32.22417381469732,
          32.289406746828675,
          32.35463967896003,
          32.41987261109138,
          32.48510554322273,
          32.55033847535408,
          32.61557140748543,
          32.680804339616785,
          32.746037271748136,
          32.81127020387949,
          32.87650313601084,
          32.94173606814219,
          33.00696900027354,
          33.072201932404894,
          33.13743486453625,
          33.202667796667605,
          33.267900728798956,
          33.33313366093031,
          33.39836659306166,
          33.46359952519301,
          33.52883245732436,
          33.594065389455714,
          33.659298321587066,
          33.72453125371842,
          33.78976418584977,
          33.85499711798112,
          33.92023005011247,
          33.985462982243824,
          34.050695914375176,
          34.11592884650653,
          34.181161778637886,
          34.24639471076924,
          34.31162764290059,
          34.37686057503194,
          34.44209350716329,
          34.507326439294644,
          34.572559371425996,
          34.63779230355735,
          34.7030252356887,
          34.76825816782005,
          34.8334910999514,
          34.898724032082754,
          34.963956964214105,
          35.02918989634546,
          35.09442282847681,
          35.15965576060816,
          35.22488869273951,
          35.290121624870864,
          35.355354557002215,
          35.42058748913357,
          35.48582042126492,
          35.55105335339627,
          35.61628628552762,
          35.68151921765897,
          35.746752149790325,
          35.81198508192168,
          35.87721801405303,
          35.94245094618438,
          36.00768387831573,
          36.07291681044708,
          36.138149742578435,
          36.203382674709786,
          36.26861560684114,
          36.33384853897249,
          36.39908147110384,
          36.46431440323519,
          36.529547335366544,
          36.594780267497896,
          36.66001319962925,
          36.7252461317606,
          36.79047906389195,
          36.8557119960233,
          36.920944928154654,
          36.986177860286006,
          37.05141079241736,
          37.11664372454871,
          37.18187665668006,
          37.24710958881141,
          37.312342520942764,
          37.377575453074115,
          37.44280838520547,
          37.50804131733682,
          37.57327424946817,
          37.63850718159952,
          37.70374011373087,
          37.768973045862225,
          37.83420597799358,
          37.89943891012493,
          37.96467184225628,
          38.02990477438764,
          38.09513770651899,
          38.16037063865034,
          38.22560357078169,
          38.290836502913045,
          38.3560694350444,
          38.42130236717575,
          38.4865352993071,
          38.55176823143845
         ],
         "xaxis": "x",
         "y": [
          0.003837953694946112,
          0.003926702558882924,
          0.004015904300017556,
          0.004105516439075673,
          0.004195496442624703,
          0.004285801804066493,
          0.0043763901231242165,
          0.0044672191835011385,
          0.004558247028398138,
          0.004649432033588134,
          0.0047407329777584195,
          0.004832109109846759,
          0.00492352021311357,
          0.0050149266657104835,
          0.005106289497525276,
          0.005197570443104267,
          0.005288731990475606,
          0.005379737425720506,
          0.0054705508731643674,
          0.005561137331085151,
          0.005651462702863114,
          0.005741493823522946,
          0.005831198481647087,
          0.005920545436666859,
          0.006009504431566142,
          0.006098046201060306,
          0.0061861424753408105,
          0.006273765979503307,
          0.006360890428803652,
          0.006447490519912192,
          0.006533541918361433,
          0.0066190212424059765,
          0.006703906043535686,
          0.0067881747839038595,
          0.006871806810950975,
          0.006954782329521694,
          0.007037082371787601,
          0.007118688765300957,
          0.007199584099515015,
          0.007279751691114376,
          0.0073591755485040745,
          0.007437840335808829,
          0.007515731336733628,
          0.007592834418634107,
          0.007669135997139356,
          0.007744623001661323,
          0.007819282842113674,
          0.007893103377148845,
          0.007966072884205344,
          0.008038180031637735,
          0.008109413853180028,
          0.008179763724968729,
          0.008249219345325302,
          0.008317770717469112,
          0.008385408135301569,
          0.008452122172369793,
          0.008517903674084826,
          0.008582743753234555,
          0.00864663378879583,
          0.008709565428014219,
          0.008771530591683176,
          0.008832521482517834,
          0.00889253059648253,
          0.008951550736895509,
          0.009009575031099611,
          0.009066596949454461,
          0.009122610326373883,
          0.009177609383102562,
          0.009231588751898277,
          0.009284543501261134,
          0.00933646916182895,
          0.00938736175253875,
          0.009437217806638832,
          0.009486034397123224,
          0.009533809161152316,
          0.00958054032301859,
          0.009626226715216197,
          0.009670867797176703,
          0.009714463671241385,
          0.009757015095452832,
          0.00979852349276511,
          0.009838990956292834,
          0.009878420250244506,
          0.009916814806214487,
          0.00995417871454174,
          0.009990516710479553,
          0.010025834154961662,
          0.010060137009793415,
          0.010093431807143555,
          0.0101257256132615,
          0.010157025986396421,
          0.010187340928948307,
          0.010216678833935644,
          0.010245048425920906,
          0.01027245869659104,
          0.010298918835247294,
          0.010324438154514606,
          0.010349026011636257,
          0.010372691725773656,
          0.010395444491782755,
          0.010417293290988712,
          0.010438246799526985,
          0.010458313294862579,
          0.010477500561138874,
          0.010495815794042762,
          0.010513265505904078,
          0.010529855431772437,
          0.010545590437235908,
          0.010560474428760264,
          0.01057451026733676,
          0.010587699686229432,
          0.010600043213609446,
          0.01061154010085431,
          0.01062218825727386,
          0.010631984192002265,
          0.010640922963766425,
          0.010648998139205971,
          0.010656201760378738,
          0.010662524322038599,
          0.010667954759219158,
          0.010672480445599219,
          0.010676087203062299,
          0.010678759322794974,
          0.010680479598196624,
          0.010681229369798102,
          0.010680988582307628,
          0.010679735853821665,
          0.010677448557154724,
          0.010674102913158134,
          0.010669674095812091,
          0.010664136348790336,
          0.010657463113111682,
          0.0106496271654095,
          0.010640600766268007,
          0.010630355817995376,
          0.010618864031127447,
          0.010606097098883223,
          0.010592026878725553,
          0.010576625580116726,
          0.010559865957501113,
          0.010541721507494758,
          0.010522166669215892,
          0.010501177026651386,
          0.01047872951192185,
          0.010454802608283352,
          0.010429376551686033,
          0.010402433529700805,
          0.01037395787662295,
          0.010343936263567683,
          0.010312357882386844,
          0.01027921462225728,
          0.010244501237821262,
          0.010208215507796147,
          0.010170358383014786,
          0.010130934122909638,
          0.010089950419511537,
          0.010047418508098477,
          0.010003353263699983,
          0.009957773282738497,
          0.009910700949169543,
          0.00986216248456791,
          0.009812187981695294,
          0.009760811421177577,
          0.009708070671014023,
          0.009654007468737602,
          0.009598667386143667,
          0.009542099776602635,
          0.009484357705071493,
          0.009425497861016662,
          0.009365580454557966,
          0.009304669096238581,
          0.009242830660918118,
          0.009180135136376319,
          0.009116655457300015,
          0.009052467325408736,
          0.008987649016551242,
          0.008922281175677553,
          0.008856446600658098,
          0.008790230015982326,
          0.008723717837423749,
          0.008656997928807026,
          0.008590159352053659,
          0.00852329211171798,
          0.008456486895251894,
          0.008389834810257756,
          0.008323427120001163,
          0.008257354978461553,
          0.00819170916619656,
          0.008126579828287682,
          0.008062056215618863,
          0.007998226430716997,
          0.007935177179353978,
          0.007872993529074439,
          0.007811758675771067,
          0.007751553719382096,
          0.007692457449732162,
          0.00763454614347966,
          0.007577893373070633,
          0.00752256982853236,
          0.0074686431528685525,
          0.007416177791744049,
          0.007365234858069645,
          0.007315872012018335,
          0.0072681433569228475,
          0.00722209935142192,
          0.007177786738139016,
          0.007135248489093973,
          0.007094523767963919,
          0.007055647909227559,
          0.007018652414145002,
          0.006983564963445509,
          0.006950409446517842,
          0.006919206006822717,
          0.006889971103174813,
          0.00686271758647318,
          0.006837454791394196,
          0.006814188642500468,
          0.006792921774163467,
          0.00677365366364602,
          0.006756380776645276,
          0.006741096724555792,
          0.006727792432677472,
          0.0067164563185636555,
          0.0067070744796815275,
          0.0066996308895392095,
          0.006694107601422839,
          0.0066904849588816095,
          0.006688741812099365,
          0.006688855739298427,
          0.006690803272333841,
          0.0066945601256548455,
          0.006700101427834579,
          0.0067074019548985,
          0.0067164363647168115,
          0.006727179431765808,
          0.006739606281607278,
          0.006753692624483528,
          0.006769414987477805,
          0.006786750944745729,
          0.006805679345381866,
          0.006826180538546838,
          0.006848236595543448,
          0.006871831528595117,
          0.006896951506145276,
          0.006923585064562579,
          0.006951723316202349,
          0.006981360153839811,
          0.00701249245155413,
          0.007045120262204107,
          0.007079247011695015,
          0.007114879690292449,
          0.007152029041290563,
          0.007190709747390286,
          0.007230940615185418,
          0.007272744758192174,
          0.007316149778888741,
          0.007361187950256399,
          0.00740789639733122,
          0.007456317279286066,
          0.007506497972564792,
          0.007558491255585045,
          0.007612355495511905,
          0.007668154837581563,
          0.007725959397422496,
          0.007785845456780554,
          0.007847895663004197,
          0.007912199232586755,
          0.007978852158994123,
          0.008047957424928451,
          0.00811962521909236,
          0.008193973157422567,
          0.00827112650865898,
          0.008351218424003663,
          0.00843439017050576,
          0.008520791367682651,
          0.008610580226756271,
          0.008703923791745985,
          0.008800998181517822,
          0.008901988831743613,
          0.009007090735575332,
          0.009116508681688468,
          0.009230457488197216,
          0.009349162230791902,
          0.009472858463299311,
          0.009601792428718137,
          0.009736221258637937,
          0.009876413158810127,
          0.010022647578507217,
          0.01017521536117986,
          0.010334418873805476,
          0.010500572112214867,
          0.010674000779588438,
          0.010855042335230785,
          0.011044046010664341,
          0.011241372790028943,
          0.011447395351737827,
          0.011662497968320563,
          0.011887076361383257,
          0.012121537508634431,
          0.012366299399964874,
          0.012621790739629728,
          0.012888450591663658,
          0.013166727965765306,
          0.013457081341014927,
          0.013759978124940907,
          0.01407589404562566,
          0.014405312474740641,
          0.014748723679622008,
          0.015106624002744587,
          0.01547951496722071,
          0.01586790230724028,
          0.016272294922683384,
          0.01669320375746803,
          0.01713114060155005,
          0.017586616816864308,
          0.018060141987883558,
          0.01855222249787826,
          0.01906336003237562,
          0.01959405001175008,
          0.020144779955313837,
          0.020716027779727787,
          0.021308260035002812,
          0.021921930081822038,
          0.02255747621436823,
          0.023215319733299006,
          0.02389586297396036,
          0.02459948729537481,
          0.025326551035970788,
          0.026077387442442906,
          0.026852302578533088,
          0.027651573220911992,
          0.028475444749699208,
          0.029324129041504454,
          0.030197802373179764,
          0.03109660334475901,
          0.03202063083030658,
          0.03296994196561601,
          0.03394455018187398,
          0.03494442329454533,
          0.03596948165682995,
          0.03701959638709883,
          0.038094587679721265,
          0.039194223208663004,
          0.040318216633145,
          0.041466226214525045,
          0.042637853553376695,
          0.04383264245551469,
          0.04505007793543027,
          0.0462895853652733,
          0.047550529777138216,
          0.048832215325984925,
          0.05013388492005072,
          0.05145472002509431,
          0.05279384064824587,
          0.054150305506636,
          0.05552311238533164,
          0.05691119868842583,
          0.05831344218641314,
          0.05972866196223785,
          0.061155619557625475,
          0.06259302032051382,
          0.06403951495357624,
          0.06549370126300075,
          0.06695412610583337,
          0.06841928753334654,
          0.0698876371270266,
          0.07135758252291766,
          0.07282749011920825,
          0.07429568796109493,
          0.07576046879613627,
          0.07722009329248922,
          0.07867279341163987,
          0.08011677592647463,
          0.08155022607481029,
          0.08297131133781052,
          0.08437818533206082,
          0.08576899180346939,
          0.08714186871059594,
          0.0884949523845048,
          0.08982638175178109,
          0.09113430260694894,
          0.09241687192019463,
          0.09367226216601554,
          0.09489866565820812,
          0.09609429887645075,
          0.0972574067696643,
          0.09838626702130852,
          0.09947919426183294,
          0.1005345442136112,
          0.10155071775388373,
          0.1025261648814771,
          0.10345938857339552,
          0.10434894851775256,
          0.10519346470996353,
          0.10599162089961507,
          0.10674216787599412,
          0.10744392658086775,
          0.10809579103777922,
          0.10869673108782685,
          0.1092457949226618,
          0.10974211140622972,
          0.11018489217761535,
          0.1105734335282162,
          0.11090711804735856,
          0.11118541603138524,
          0.11140788665217036,
          0.11157417888196844,
          0.11168403217244531,
          0.11173727688669996,
          0.11173383448403784,
          0.1116737174581982,
          0.11155702903067691,
          0.1113839626017019,
          0.11115480096231911,
          0.11086991527191915,
          0.11052976380638148,
          0.11013489048282661,
          0.10968592316774353,
          0.10918357177599623,
          0.10862862616891314,
          0.1080219538603095,
          0.10736449753989721,
          0.10665727242409125,
          0.10590136344472081,
          0.10509792228660311,
          0.10424816428533143,
          0.10335336519696713,
          0.1024148578516088,
          0.10143402870303567,
          0.1004123142867989,
          0.09935119759923981,
          0.09825220440998648,
          0.09711689952047124,
          0.0959468829809822,
          0.09474378627864458,
          0.09350926850859989,
          0.09224501254043832,
          0.09095272119171478,
          0.08963411342008096,
          0.08829092054525702,
          0.08692488251169012,
          0.08553774420236415,
          0.0841312518137834,
          0.08270714930170651,
          0.08126717490671244,
          0.07981305776818165,
          0.07834651463474027,
          0.07686924667867966,
          0.07538293642129305,
          0.07388924477551649,
          0.07238980821166936,
          0.07088623605151856,
          0.06938010789529828,
          0.06787297118573747,
          0.06636633891256115,
          0.06486168746036144,
          0.06336045460215796,
          0.0618640376404174,
          0.0603737916967484,
          0.05889102815095795,
          0.05741701322964164,
          0.0559529667439724,
          0.05450006097588056,
          0.053059419711348074,
          0.051632117419107136,
          0.050219178572607825,
          0.04882157711273147,
          0.047440236048347524,
          0.04607602719146893,
          0.04472977102343499,
          0.043402236688252806,
          0.04209414210895385,
          0.04080615422257444,
          0.03953888932914277,
          0.03829291354985774,
          0.037068743389466904,
          0.03586684639770271,
          0.0346876419245047,
          0.033531501963654176,
          0.03239875207936208,
          0.031289672410292915,
          0.030204498745465765,
          0.02914342366645626,
          0.028106597750320914,
          0.02709413082768768,
          0.026106093290490042,
          0.0251425174438779,
          0.02420339889690894,
          0.023288697986706557,
          0.02239834123087423,
          0.02153222280306486,
          0.020690206026732775,
          0.01987212488223066,
          0.019077785522561518,
          0.01830696779325592,
          0.01755942675200642,
          0.016834894183869804,
          0.016133080108025465,
          0.015453674272267586,
          0.014796347631601656
         ],
         "yaxis": "y"
        }
       ],
       "layout": {
        "barmode": "overlay",
        "font": {
         "size": 18
        },
        "hovermode": "closest",
        "legend": {
         "traceorder": "reversed"
        },
        "plot_bgcolor": "#F5F5F8",
        "template": {
         "data": {
          "bar": [
           {
            "error_x": {
             "color": "#2a3f5f"
            },
            "error_y": {
             "color": "#2a3f5f"
            },
            "marker": {
             "line": {
              "color": "#E5ECF6",
              "width": 0.5
             },
             "pattern": {
              "fillmode": "overlay",
              "size": 10,
              "solidity": 0.2
             }
            },
            "type": "bar"
           }
          ],
          "barpolar": [
           {
            "marker": {
             "line": {
              "color": "#E5ECF6",
              "width": 0.5
             },
             "pattern": {
              "fillmode": "overlay",
              "size": 10,
              "solidity": 0.2
             }
            },
            "type": "barpolar"
           }
          ],
          "carpet": [
           {
            "aaxis": {
             "endlinecolor": "#2a3f5f",
             "gridcolor": "white",
             "linecolor": "white",
             "minorgridcolor": "white",
             "startlinecolor": "#2a3f5f"
            },
            "baxis": {
             "endlinecolor": "#2a3f5f",
             "gridcolor": "white",
             "linecolor": "white",
             "minorgridcolor": "white",
             "startlinecolor": "#2a3f5f"
            },
            "type": "carpet"
           }
          ],
          "choropleth": [
           {
            "colorbar": {
             "outlinewidth": 0,
             "ticks": ""
            },
            "type": "choropleth"
           }
          ],
          "contour": [
           {
            "colorbar": {
             "outlinewidth": 0,
             "ticks": ""
            },
            "colorscale": [
             [
              0,
              "#0d0887"
             ],
             [
              0.1111111111111111,
              "#46039f"
             ],
             [
              0.2222222222222222,
              "#7201a8"
             ],
             [
              0.3333333333333333,
              "#9c179e"
             ],
             [
              0.4444444444444444,
              "#bd3786"
             ],
             [
              0.5555555555555556,
              "#d8576b"
             ],
             [
              0.6666666666666666,
              "#ed7953"
             ],
             [
              0.7777777777777778,
              "#fb9f3a"
             ],
             [
              0.8888888888888888,
              "#fdca26"
             ],
             [
              1,
              "#f0f921"
             ]
            ],
            "type": "contour"
           }
          ],
          "contourcarpet": [
           {
            "colorbar": {
             "outlinewidth": 0,
             "ticks": ""
            },
            "type": "contourcarpet"
           }
          ],
          "heatmap": [
           {
            "colorbar": {
             "outlinewidth": 0,
             "ticks": ""
            },
            "colorscale": [
             [
              0,
              "#0d0887"
             ],
             [
              0.1111111111111111,
              "#46039f"
             ],
             [
              0.2222222222222222,
              "#7201a8"
             ],
             [
              0.3333333333333333,
              "#9c179e"
             ],
             [
              0.4444444444444444,
              "#bd3786"
             ],
             [
              0.5555555555555556,
              "#d8576b"
             ],
             [
              0.6666666666666666,
              "#ed7953"
             ],
             [
              0.7777777777777778,
              "#fb9f3a"
             ],
             [
              0.8888888888888888,
              "#fdca26"
             ],
             [
              1,
              "#f0f921"
             ]
            ],
            "type": "heatmap"
           }
          ],
          "heatmapgl": [
           {
            "colorbar": {
             "outlinewidth": 0,
             "ticks": ""
            },
            "colorscale": [
             [
              0,
              "#0d0887"
             ],
             [
              0.1111111111111111,
              "#46039f"
             ],
             [
              0.2222222222222222,
              "#7201a8"
             ],
             [
              0.3333333333333333,
              "#9c179e"
             ],
             [
              0.4444444444444444,
              "#bd3786"
             ],
             [
              0.5555555555555556,
              "#d8576b"
             ],
             [
              0.6666666666666666,
              "#ed7953"
             ],
             [
              0.7777777777777778,
              "#fb9f3a"
             ],
             [
              0.8888888888888888,
              "#fdca26"
             ],
             [
              1,
              "#f0f921"
             ]
            ],
            "type": "heatmapgl"
           }
          ],
          "histogram": [
           {
            "marker": {
             "pattern": {
              "fillmode": "overlay",
              "size": 10,
              "solidity": 0.2
             }
            },
            "type": "histogram"
           }
          ],
          "histogram2d": [
           {
            "colorbar": {
             "outlinewidth": 0,
             "ticks": ""
            },
            "colorscale": [
             [
              0,
              "#0d0887"
             ],
             [
              0.1111111111111111,
              "#46039f"
             ],
             [
              0.2222222222222222,
              "#7201a8"
             ],
             [
              0.3333333333333333,
              "#9c179e"
             ],
             [
              0.4444444444444444,
              "#bd3786"
             ],
             [
              0.5555555555555556,
              "#d8576b"
             ],
             [
              0.6666666666666666,
              "#ed7953"
             ],
             [
              0.7777777777777778,
              "#fb9f3a"
             ],
             [
              0.8888888888888888,
              "#fdca26"
             ],
             [
              1,
              "#f0f921"
             ]
            ],
            "type": "histogram2d"
           }
          ],
          "histogram2dcontour": [
           {
            "colorbar": {
             "outlinewidth": 0,
             "ticks": ""
            },
            "colorscale": [
             [
              0,
              "#0d0887"
             ],
             [
              0.1111111111111111,
              "#46039f"
             ],
             [
              0.2222222222222222,
              "#7201a8"
             ],
             [
              0.3333333333333333,
              "#9c179e"
             ],
             [
              0.4444444444444444,
              "#bd3786"
             ],
             [
              0.5555555555555556,
              "#d8576b"
             ],
             [
              0.6666666666666666,
              "#ed7953"
             ],
             [
              0.7777777777777778,
              "#fb9f3a"
             ],
             [
              0.8888888888888888,
              "#fdca26"
             ],
             [
              1,
              "#f0f921"
             ]
            ],
            "type": "histogram2dcontour"
           }
          ],
          "mesh3d": [
           {
            "colorbar": {
             "outlinewidth": 0,
             "ticks": ""
            },
            "type": "mesh3d"
           }
          ],
          "parcoords": [
           {
            "line": {
             "colorbar": {
              "outlinewidth": 0,
              "ticks": ""
             }
            },
            "type": "parcoords"
           }
          ],
          "pie": [
           {
            "automargin": true,
            "type": "pie"
           }
          ],
          "scatter": [
           {
            "fillpattern": {
             "fillmode": "overlay",
             "size": 10,
             "solidity": 0.2
            },
            "type": "scatter"
           }
          ],
          "scatter3d": [
           {
            "line": {
             "colorbar": {
              "outlinewidth": 0,
              "ticks": ""
             }
            },
            "marker": {
             "colorbar": {
              "outlinewidth": 0,
              "ticks": ""
             }
            },
            "type": "scatter3d"
           }
          ],
          "scattercarpet": [
           {
            "marker": {
             "colorbar": {
              "outlinewidth": 0,
              "ticks": ""
             }
            },
            "type": "scattercarpet"
           }
          ],
          "scattergeo": [
           {
            "marker": {
             "colorbar": {
              "outlinewidth": 0,
              "ticks": ""
             }
            },
            "type": "scattergeo"
           }
          ],
          "scattergl": [
           {
            "marker": {
             "colorbar": {
              "outlinewidth": 0,
              "ticks": ""
             }
            },
            "type": "scattergl"
           }
          ],
          "scattermapbox": [
           {
            "marker": {
             "colorbar": {
              "outlinewidth": 0,
              "ticks": ""
             }
            },
            "type": "scattermapbox"
           }
          ],
          "scatterpolar": [
           {
            "marker": {
             "colorbar": {
              "outlinewidth": 0,
              "ticks": ""
             }
            },
            "type": "scatterpolar"
           }
          ],
          "scatterpolargl": [
           {
            "marker": {
             "colorbar": {
              "outlinewidth": 0,
              "ticks": ""
             }
            },
            "type": "scatterpolargl"
           }
          ],
          "scatterternary": [
           {
            "marker": {
             "colorbar": {
              "outlinewidth": 0,
              "ticks": ""
             }
            },
            "type": "scatterternary"
           }
          ],
          "surface": [
           {
            "colorbar": {
             "outlinewidth": 0,
             "ticks": ""
            },
            "colorscale": [
             [
              0,
              "#0d0887"
             ],
             [
              0.1111111111111111,
              "#46039f"
             ],
             [
              0.2222222222222222,
              "#7201a8"
             ],
             [
              0.3333333333333333,
              "#9c179e"
             ],
             [
              0.4444444444444444,
              "#bd3786"
             ],
             [
              0.5555555555555556,
              "#d8576b"
             ],
             [
              0.6666666666666666,
              "#ed7953"
             ],
             [
              0.7777777777777778,
              "#fb9f3a"
             ],
             [
              0.8888888888888888,
              "#fdca26"
             ],
             [
              1,
              "#f0f921"
             ]
            ],
            "type": "surface"
           }
          ],
          "table": [
           {
            "cells": {
             "fill": {
              "color": "#EBF0F8"
             },
             "line": {
              "color": "white"
             }
            },
            "header": {
             "fill": {
              "color": "#C8D4E3"
             },
             "line": {
              "color": "white"
             }
            },
            "type": "table"
           }
          ]
         },
         "layout": {
          "annotationdefaults": {
           "arrowcolor": "#2a3f5f",
           "arrowhead": 0,
           "arrowwidth": 1
          },
          "autotypenumbers": "strict",
          "coloraxis": {
           "colorbar": {
            "outlinewidth": 0,
            "ticks": ""
           }
          },
          "colorscale": {
           "diverging": [
            [
             0,
             "#8e0152"
            ],
            [
             0.1,
             "#c51b7d"
            ],
            [
             0.2,
             "#de77ae"
            ],
            [
             0.3,
             "#f1b6da"
            ],
            [
             0.4,
             "#fde0ef"
            ],
            [
             0.5,
             "#f7f7f7"
            ],
            [
             0.6,
             "#e6f5d0"
            ],
            [
             0.7,
             "#b8e186"
            ],
            [
             0.8,
             "#7fbc41"
            ],
            [
             0.9,
             "#4d9221"
            ],
            [
             1,
             "#276419"
            ]
           ],
           "sequential": [
            [
             0,
             "#0d0887"
            ],
            [
             0.1111111111111111,
             "#46039f"
            ],
            [
             0.2222222222222222,
             "#7201a8"
            ],
            [
             0.3333333333333333,
             "#9c179e"
            ],
            [
             0.4444444444444444,
             "#bd3786"
            ],
            [
             0.5555555555555556,
             "#d8576b"
            ],
            [
             0.6666666666666666,
             "#ed7953"
            ],
            [
             0.7777777777777778,
             "#fb9f3a"
            ],
            [
             0.8888888888888888,
             "#fdca26"
            ],
            [
             1,
             "#f0f921"
            ]
           ],
           "sequentialminus": [
            [
             0,
             "#0d0887"
            ],
            [
             0.1111111111111111,
             "#46039f"
            ],
            [
             0.2222222222222222,
             "#7201a8"
            ],
            [
             0.3333333333333333,
             "#9c179e"
            ],
            [
             0.4444444444444444,
             "#bd3786"
            ],
            [
             0.5555555555555556,
             "#d8576b"
            ],
            [
             0.6666666666666666,
             "#ed7953"
            ],
            [
             0.7777777777777778,
             "#fb9f3a"
            ],
            [
             0.8888888888888888,
             "#fdca26"
            ],
            [
             1,
             "#f0f921"
            ]
           ]
          },
          "colorway": [
           "#636efa",
           "#EF553B",
           "#00cc96",
           "#ab63fa",
           "#FFA15A",
           "#19d3f3",
           "#FF6692",
           "#B6E880",
           "#FF97FF",
           "#FECB52"
          ],
          "font": {
           "color": "#2a3f5f"
          },
          "geo": {
           "bgcolor": "white",
           "lakecolor": "white",
           "landcolor": "#E5ECF6",
           "showlakes": true,
           "showland": true,
           "subunitcolor": "white"
          },
          "hoverlabel": {
           "align": "left"
          },
          "hovermode": "closest",
          "mapbox": {
           "style": "light"
          },
          "paper_bgcolor": "white",
          "plot_bgcolor": "#E5ECF6",
          "polar": {
           "angularaxis": {
            "gridcolor": "white",
            "linecolor": "white",
            "ticks": ""
           },
           "bgcolor": "#E5ECF6",
           "radialaxis": {
            "gridcolor": "white",
            "linecolor": "white",
            "ticks": ""
           }
          },
          "scene": {
           "xaxis": {
            "backgroundcolor": "#E5ECF6",
            "gridcolor": "white",
            "gridwidth": 2,
            "linecolor": "white",
            "showbackground": true,
            "ticks": "",
            "zerolinecolor": "white"
           },
           "yaxis": {
            "backgroundcolor": "#E5ECF6",
            "gridcolor": "white",
            "gridwidth": 2,
            "linecolor": "white",
            "showbackground": true,
            "ticks": "",
            "zerolinecolor": "white"
           },
           "zaxis": {
            "backgroundcolor": "#E5ECF6",
            "gridcolor": "white",
            "gridwidth": 2,
            "linecolor": "white",
            "showbackground": true,
            "ticks": "",
            "zerolinecolor": "white"
           }
          },
          "shapedefaults": {
           "line": {
            "color": "#2a3f5f"
           }
          },
          "ternary": {
           "aaxis": {
            "gridcolor": "white",
            "linecolor": "white",
            "ticks": ""
           },
           "baxis": {
            "gridcolor": "white",
            "linecolor": "white",
            "ticks": ""
           },
           "bgcolor": "#E5ECF6",
           "caxis": {
            "gridcolor": "white",
            "linecolor": "white",
            "ticks": ""
           }
          },
          "title": {
           "x": 0.05
          },
          "xaxis": {
           "automargin": true,
           "gridcolor": "white",
           "linecolor": "white",
           "ticks": "",
           "title": {
            "standoff": 15
           },
           "zerolinecolor": "white",
           "zerolinewidth": 2
          },
          "yaxis": {
           "automargin": true,
           "gridcolor": "white",
           "linecolor": "white",
           "ticks": "",
           "title": {
            "standoff": 15
           },
           "zerolinecolor": "white",
           "zerolinewidth": 2
          }
         }
        },
        "title": {
         "text": "Real vs. Synthetic Data for column 'BMI'"
        },
        "xaxis": {
         "anchor": "y2",
         "domain": [
          0,
          1
         ],
         "title": {
          "text": "Value"
         },
         "zeroline": false
        },
        "yaxis": {
         "anchor": "free",
         "domain": [
          0,
          1
         ],
         "position": 0,
         "title": {
          "text": "Frequency"
         }
        }
       }
      }
     },
     "metadata": {},
     "output_type": "display_data"
    },
    {
     "data": {
      "application/vnd.plotly.v1+json": {
       "config": {
        "plotlyServerURL": "https://plot.ly"
       },
       "data": [
        {
         "fill": "tozeroy",
         "hovertemplate": "<b>Real</b><br>Frequency: %{y}<extra></extra>",
         "legendgroup": "Real",
         "marker": {
          "color": "#000036"
         },
         "mode": "lines",
         "name": "Real",
         "showlegend": true,
         "type": "scatter",
         "x": [
          6.3,
          6.31484,
          6.32968,
          6.34452,
          6.35936,
          6.3742,
          6.38904,
          6.40388,
          6.4187199999999995,
          6.43356,
          6.4483999999999995,
          6.46324,
          6.47808,
          6.49292,
          6.50776,
          6.5226,
          6.53744,
          6.55228,
          6.56712,
          6.58196,
          6.5968,
          6.6116399999999995,
          6.62648,
          6.64132,
          6.65616,
          6.671,
          6.68584,
          6.70068,
          6.71552,
          6.73036,
          6.7452,
          6.76004,
          6.77488,
          6.78972,
          6.8045599999999995,
          6.8194,
          6.834239999999999,
          6.84908,
          6.86392,
          6.87876,
          6.8936,
          6.90844,
          6.92328,
          6.93812,
          6.95296,
          6.9677999999999995,
          6.98264,
          6.9974799999999995,
          7.01232,
          7.02716,
          7.042,
          7.05684,
          7.07168,
          7.08652,
          7.10136,
          7.1162,
          7.13104,
          7.14588,
          7.1607199999999995,
          7.17556,
          7.1904,
          7.20524,
          7.22008,
          7.23492,
          7.24976,
          7.2646,
          7.27944,
          7.29428,
          7.30912,
          7.32396,
          7.3388,
          7.35364,
          7.36848,
          7.383319999999999,
          7.39816,
          7.413,
          7.42784,
          7.44268,
          7.45752,
          7.47236,
          7.4872,
          7.50204,
          7.5168800000000005,
          7.53172,
          7.5465599999999995,
          7.5614,
          7.57624,
          7.59108,
          7.605919999999999,
          7.62076,
          7.6356,
          7.65044,
          7.66528,
          7.68012,
          7.69496,
          7.7097999999999995,
          7.72464,
          7.73948,
          7.75432,
          7.769159999999999,
          7.784,
          7.79884,
          7.81368,
          7.82852,
          7.84336,
          7.8582,
          7.87304,
          7.88788,
          7.90272,
          7.91756,
          7.9323999999999995,
          7.94724,
          7.96208,
          7.97692,
          7.99176,
          8.0066,
          8.02144,
          8.03628,
          8.05112,
          8.06596,
          8.0808,
          8.09564,
          8.11048,
          8.12532,
          8.14016,
          8.155,
          8.16984,
          8.18468,
          8.19952,
          8.21436,
          8.2292,
          8.24404,
          8.25888,
          8.27372,
          8.28856,
          8.3034,
          8.31824,
          8.333079999999999,
          8.34792,
          8.36276,
          8.377600000000001,
          8.39244,
          8.40728,
          8.42212,
          8.43696,
          8.4518,
          8.46664,
          8.48148,
          8.49632,
          8.51116,
          8.526,
          8.54084,
          8.55568,
          8.57052,
          8.58536,
          8.600200000000001,
          8.61504,
          8.62988,
          8.64472,
          8.65956,
          8.6744,
          8.68924,
          8.704080000000001,
          8.71892,
          8.73376,
          8.7486,
          8.76344,
          8.77828,
          8.79312,
          8.807960000000001,
          8.8228,
          8.83764,
          8.85248,
          8.86732,
          8.88216,
          8.897,
          8.91184,
          8.926680000000001,
          8.94152,
          8.95636,
          8.9712,
          8.98604,
          9.00088,
          9.01572,
          9.030560000000001,
          9.0454,
          9.06024,
          9.07508,
          9.08992,
          9.10476,
          9.1196,
          9.13444,
          9.149280000000001,
          9.16412,
          9.17896,
          9.1938,
          9.208639999999999,
          9.22348,
          9.23832,
          9.253160000000001,
          9.268,
          9.28284,
          9.29768,
          9.31252,
          9.32736,
          9.3422,
          9.35704,
          9.37188,
          9.38672,
          9.40156,
          9.4164,
          9.431239999999999,
          9.44608,
          9.46092,
          9.475760000000001,
          9.4906,
          9.50544,
          9.52028,
          9.53512,
          9.54996,
          9.5648,
          9.57964,
          9.59448,
          9.60932,
          9.62416,
          9.639,
          9.653839999999999,
          9.66868,
          9.68352,
          9.698360000000001,
          9.7132,
          9.72804,
          9.74288,
          9.757719999999999,
          9.77256,
          9.7874,
          9.80224,
          9.81708,
          9.83192,
          9.84676,
          9.8616,
          9.87644,
          9.89128,
          9.90612,
          9.920960000000001,
          9.9358,
          9.95064,
          9.96548,
          9.98032,
          9.99516,
          10.01,
          10.024840000000001,
          10.03968,
          10.05452,
          10.06936,
          10.0842,
          10.09904,
          10.11388,
          10.12872,
          10.14356,
          10.1584,
          10.17324,
          10.18808,
          10.20292,
          10.21776,
          10.2326,
          10.247440000000001,
          10.26228,
          10.27712,
          10.29196,
          10.3068,
          10.32164,
          10.33648,
          10.351320000000001,
          10.36616,
          10.381,
          10.39584,
          10.41068,
          10.42552,
          10.44036,
          10.455200000000001,
          10.470040000000001,
          10.48488,
          10.49972,
          10.51456,
          10.5294,
          10.54424,
          10.559080000000002,
          10.573920000000001,
          10.58876,
          10.6036,
          10.61844,
          10.63328,
          10.64812,
          10.66296,
          10.677800000000001,
          10.69264,
          10.70748,
          10.72232,
          10.73716,
          10.752,
          10.76684,
          10.78168,
          10.796520000000001,
          10.81136,
          10.8262,
          10.84104,
          10.855879999999999,
          10.87072,
          10.88556,
          10.900400000000001,
          10.91524,
          10.93008,
          10.94492,
          10.95976,
          10.9746,
          10.98944,
          11.004280000000001,
          11.019120000000001,
          11.03396,
          11.0488,
          11.06364,
          11.078479999999999,
          11.09332,
          11.108160000000002,
          11.123000000000001,
          11.13784,
          11.15268,
          11.16752,
          11.18236,
          11.1972,
          11.212040000000002,
          11.22688,
          11.24172,
          11.25656,
          11.2714,
          11.28624,
          11.30108,
          11.315920000000002,
          11.33076,
          11.345600000000001,
          11.36044,
          11.37528,
          11.39012,
          11.40496,
          11.4198,
          11.43464,
          11.449480000000001,
          11.46432,
          11.47916,
          11.494,
          11.50884,
          11.523679999999999,
          11.53852,
          11.553360000000001,
          11.568200000000001,
          11.58304,
          11.59788,
          11.61272,
          11.627559999999999,
          11.6424,
          11.657240000000002,
          11.672080000000001,
          11.68692,
          11.70176,
          11.7166,
          11.73144,
          11.74628,
          11.761120000000002,
          11.775960000000001,
          11.7908,
          11.80564,
          11.82048,
          11.83532,
          11.85016,
          11.865000000000002,
          11.879840000000002,
          11.894680000000001,
          11.90952,
          11.92436,
          11.9392,
          11.95404,
          11.96888,
          11.98372,
          11.998560000000001,
          12.0134,
          12.02824,
          12.04308,
          12.057920000000001,
          12.072759999999999,
          12.0876,
          12.102440000000001,
          12.117280000000001,
          12.13212,
          12.14696,
          12.161800000000001,
          12.176639999999999,
          12.19148,
          12.206320000000002,
          12.221160000000001,
          12.236,
          12.25084,
          12.26568,
          12.28052,
          12.29536,
          12.310200000000002,
          12.325040000000001,
          12.33988,
          12.35472,
          12.36956,
          12.3844,
          12.39924,
          12.41408,
          12.428920000000002,
          12.443760000000001,
          12.4586,
          12.47344,
          12.48828,
          12.503120000000001,
          12.51796,
          12.532800000000002,
          12.547640000000001,
          12.56248,
          12.57732,
          12.59216,
          12.607000000000001,
          12.62184,
          12.63668,
          12.651520000000001,
          12.666360000000001,
          12.6812,
          12.69604,
          12.71088,
          12.725719999999999,
          12.74056,
          12.755400000000002,
          12.770240000000001,
          12.78508,
          12.79992,
          12.81476,
          12.8296,
          12.84444,
          12.85928,
          12.874120000000001,
          12.88896,
          12.9038,
          12.91864,
          12.93348,
          12.94832,
          12.96316,
          12.978000000000002,
          12.992840000000001,
          13.00768,
          13.02252,
          13.03736,
          13.052200000000001,
          13.06704,
          13.081880000000002,
          13.096720000000001,
          13.11156,
          13.1264,
          13.14124,
          13.15608,
          13.17092,
          13.185760000000002,
          13.200600000000001,
          13.215440000000001,
          13.23028,
          13.24512,
          13.25996,
          13.2748,
          13.28964,
          13.30448,
          13.319320000000001,
          13.33416,
          13.349,
          13.36384,
          13.378680000000001,
          13.39352,
          13.40836,
          13.423200000000001,
          13.43804,
          13.45288,
          13.46772,
          13.48256,
          13.4974,
          13.51224,
          13.527080000000002,
          13.541920000000001,
          13.55676,
          13.5716,
          13.58644,
          13.60128,
          13.61612,
          13.630960000000002,
          13.645800000000001,
          13.66064,
          13.67548,
          13.69032,
          13.70516
         ],
         "xaxis": "x",
         "y": [
          0.018749696580910555,
          0.0192245038568527,
          0.019697081898616894,
          0.020167529868066806,
          0.020636033393640785,
          0.021102866475597896,
          0.021568392925327484,
          0.022033067343301533,
          0.022497435643243573,
          0.022962135132458344,
          0.023427894159984225,
          0.02389553134527895,
          0.024365954400530947,
          0.024840158559425143,
          0.02531922462432256,
          0.025804316642388404,
          0.026296679219298857,
          0.02679763447684729,
          0.027308578658155447,
          0.027830978381376322,
          0.028366366539862988,
          0.028916337843882013,
          0.029482543996198374,
          0.0300666884913571,
          0.030670521026357433,
          0.031295831508766594,
          0.031944443647249375,
          0.032618208109109974,
          0.03331899522980731,
          0.03404868726062454,
          0.03480917014277081,
          0.03560232479923853,
          0.03643001793974712,
          0.037294092379084896,
          0.03819635687511611,
          0.03913857549961499,
          0.04012245656288045,
          0.04114964112171689,
          0.04222169110973699,
          0.04334007713897201,
          0.04450616603231446,
          0.04572120815724789,
          0.0469863246424636,
          0.04830249457015546,
          0.049670542247827895,
          0.051091124674138184,
          0.0525647193234211,
          0.05409161238286209,
          0.05567188758459412,
          0.05730541578204005,
          0.058991845425394394,
          0.060730594095002706,
          0.06252084125336765,
          0.06436152237637428,
          0.066251324621935,
          0.06818868418947058,
          0.07017178551634937,
          0.07219856244755077,
          0.07426670150238213,
          0.07637364734707104,
          0.07851661056457282,
          0.08069257779308318,
          0.08289832428274457,
          0.08513042889606316,
          0.08738529155198028,
          0.08965915308661594,
          0.0919481174758817,
          0.09424817633683667,
          0.09655523559628042,
          0.09886514418716755,
          0.10117372460642027,
          0.10347680514219998,
          0.1057702535550631,
          0.1080500119762691,
          0.11031213276815989,
          0.1125528150764811,
          0.11476844179308235,
          0.11695561663987164,
          0.1191112010814772,
          0.12123235077485055,
          0.12331655126909438,
          0.12536165267802252,
          0.12736590306121887,
          0.12932798026634953,
          0.13124702200585583,
          0.13312265396444406,
          0.13495501575941787,
          0.13674478460326697,
          0.13849319654631437,
          0.14020206520587553,
          0.1418737979165418,
          0.1435114092630365,
          0.14511853198179978,
          0.14669942523930557,
          0.1482589803133152,
          0.14980272371719988,
          0.15133681781654137,
          0.15286805899094733,
          0.15440387339210387,
          0.1559523103412933,
          0.15752203339589202,
          0.15912230909491862,
          0.16076299336872346,
          0.16245451556800974,
          0.16420786003310875,
          0.16603454508672363,
          0.1679465992931961,
          0.16995653478586736,
          0.1720773174227025,
          0.17432233349035076,
          0.1767053526398094,
          0.17924048670443093,
          0.18194214402469294,
          0.18482497888566904,
          0.18790383566394944,
          0.1911936872823795,
          0.19470956758478322,
          0.19846649726998933,
          0.20247940306590664,
          0.20676302988095893,
          0.21133184574219005,
          0.2161999394170997,
          0.2213809107193546,
          0.2268877536166245,
          0.23273273239076006,
          0.23892725124511352,
          0.2454817179093521,
          0.2524054019563272,
          0.25970628871619783,
          0.2673909298470008,
          0.27546429179535564,
          0.2839296035522773,
          0.2927882052738626,
          0.3020393994908731,
          0.31168030677132175,
          0.32170572782208273,
          0.33210801411562524,
          0.3428769492024276,
          0.3539996429152891,
          0.36546044068533523,
          0.37724085016855513,
          0.3893194873238939,
          0.4016720439878317,
          0.4142712788549729,
          0.427087033599156,
          0.44008627565571484,
          0.45323316893364773,
          0.466489173439213,
          0.4798131744720826,
          0.4931616417059562,
          0.5064888180913839,
          0.519746938124791,
          0.5328864746200344,
          0.545856412703406,
          0.5586045493367725,
          0.5710778162630453,
          0.5832226238712462,
          0.5949852231016793,
          0.606312082162736,
          0.6171502745163638,
          0.6274478743156837,
          0.6371543552518305,
          0.6462209885928042,
          0.6546012360797785,
          0.6622511332891768,
          0.669129659074713,
          0.6751990867737507,
          0.6804253129973267,
          0.6847781600217617,
          0.6882316480604249,
          0.6907642340132283,
          0.6923590136647166,
          0.6930038847238249,
          0.6926916685630912,
          0.6914201890151159,
          0.6891923071116842,
          0.686015911197496,
          0.6819038624074435,
          0.6768738960544054,
          0.6709484800249205,
          0.6641546318137852,
          0.6565236963369218,
          0.6480910871369833,
          0.638895994030465,
          0.6289810606319066,
          0.6183920355246656,
          0.6071774011236671,
          0.5953879844901858,
          0.5830765545094388,
          0.5702974099275386,
          0.5571059627648003,
          0.5435583215788798,
          0.5297108789458802,
          0.5156199073634533,
          0.5013411675615304,
          0.4869295329385534,
          0.47243863352962284,
          0.45792052256436705,
          0.44342536829323803,
          0.4290011733584183,
          0.41469352356698447,
          0.4005453674962848,
          0.3865968279322213,
          0.37288504571657527,
          0.3594440561664726,
          0.346304697833212,
          0.3334945529944465,
          0.32103791892765365,
          0.3089558086979015,
          0.2972659799123057,
          0.28598298964971974,
          0.2751182735684823,
          0.26468024702867976,
          0.2546744259381329,
          0.24510356494278526,
          0.23596781053122706,
          0.22726486660767,
          0.21899017010597213,
          0.21113707426613626,
          0.2036970372714958,
          0.19665981404603708,
          0.19001364913362997,
          0.183745468720973,
          0.17784107002005445,
          0.17228530639064377,
          0.16706226675533473,
          0.1621554480357234,
          0.15754791951561906,
          0.1532224782129385,
          0.14916179451376319,
          0.1453485474878484,
          0.14176554946280867,
          0.13839585958286668,
          0.1352228862161903,
          0.13223047820163394,
          0.1294030050405497,
          0.12672542624189875,
          0.12418335011912443,
          0.12176308241521483,
          0.11945166519847186,
          0.11723690652609921,
          0.11510740141648457,
          0.11305254470460341,
          0.11106253637912085,
          0.1091283800152879,
          0.10724187492543863,
          0.10539560264962526,
          0.10358290840350719,
          0.10179787808977755,
          0.10003531146394107,
          0.09829069202582515,
          0.0965601541854642,
          0.09484044822649897,
          0.09312890356253636,
          0.09142339075246138,
          0.08972228270990333,
          0.08802441551031084,
          0.08632904916666938,
          0.08463582871213135,
          0.08294474589491857,
          0.08125610175806841,
          0.07957047034407919,
          0.07788866373250738,
          0.07621169858719286,
          0.07454076435924029,
          0.07287719326231792,
          0.07122243210838265,
          0.06957801606478342,
          0.06794554436795351,
          0.06632665800476199,
          0.06472301935014144,
          0.06313629372903017,
          0.0615681328520555,
          0.06002016005785802,
          0.05849395728060903,
          0.0569910536491768,
          0.05551291561461987,
          0.05406093849520829,
          0.05263643932306007,
          0.051240650873629945,
          0.04987471675868211,
          0.048539687464906764,
          0.04723651722386223,
          0.04596606160430762,
          0.04472907572501975,
          0.04352621299467645,
          0.0423580242950742,
          0.0412249575346078,
          0.04012735751027949,
          0.03906546602826187,
          0.038039422244946906,
          0.037049263202167726,
          0.03609492454164466,
          0.03517624139441297,
          0.03429294945080729,
          0.033444686225297296,
          0.03263099253792114,
          0.03185131424007751,
          0.031105004216930004,
          0.030391324701545597,
          0.02970944993712184,
          0.0290584692232368,
          0.028437390380034334,
          0.02784514366071097,
          0.027280586137711817,
          0.026742506581808476,
          0.026229630845908097,
          0.025740627757211327,
          0.02527411551241119,
          0.024828668561245344,
          0.0244028249540906,
          0.02399509411968176,
          0.023603965029656372,
          0.023227914697714402,
          0.022865416952929037,
          0.02251495141936218,
          0.02217501262777424,
          0.02184411918003243,
          0.02152082288291677,
          0.02120371776549367,
          0.02089144889311556,
          0.0205827208914385,
          0.020276306095619985,
          0.019971052243012172,
          0.019665889632150265,
          0.01935983767653438,
          0.01905201078851494,
          0.018741623536360916,
          0.018427995026170547,
          0.01811055246949587,
          0.017788833907234496,
          0.017462490070285757,
          0.01713128536752057,
          0.016795098001571633,
          0.016453919222658823,
          0.01610785173994769,
          0.015757107318666832,
          0.015402003599236613,
          0.01504296018188477,
          0.014680494026550544,
          0.014315214223237198,
          0.01394781619231441,
          0.013579075377577798,
          0.013209840497129534,
          0.012841026418379599,
          0.012473606723714649,
          0.012108606032693902,
          0.011747092145090982,
          0.011390168066787726,
          0.011038963977534183,
          0.010694629196048114,
          0.010358324193919233,
          0.010031212705461555,
          0.009714453976111872,
          0.00940919518734369,
          0.009116564091451425,
          0.008837661885076382,
          0.008573556346089323,
          0.008325275254497338,
          0.008093800114488046,
          0.007880060191612321,
          0.007684926876493165,
          0.007509208384354223,
          0.007353644798102492,
          0.007218903461677261,
          0.00710557472986102,
          0.007014168080716695,
          0.006945108597206249,
          0.006898733825307853,
          0.006875291016999668,
          0.006874934767740669,
          0.006897725059457807,
          0.0069436257214503345,
          0.007012503322947086,
          0.007104126512202115,
          0.007218165817890418,
          0.00735419392907885,
          0.007511686470113402,
          0.00769002328630515,
          0.007888490255257306,
          0.008106281636998534,
          0.008342502973748684,
          0.008596174547117535,
          0.008866235396837206,
          0.009151547900762603,
          0.009450902910895061,
          0.00976302543463667,
          0.010086580844449305,
          0.01042018159266512,
          0.010762394401472414,
          0.011111747891216394,
          0.011466740603217434,
          0.011825849366484972,
          0.012187537951105592,
          0.01255026594488022,
          0.012912497784106065,
          0.013272711864385733,
          0.013629409653134058,
          0.013981124722156431,
          0.014326431616403599,
          0.01466395447384898,
          0.014992375311462637,
          0.015310441893514305,
          0.015616975100958717,
          0.015910875724433813,
          0.016191130608424885,
          0.01645681808035748,
          0.0167071126057167,
          0.01694128861865227,
          0.017158723486801163,
          0.017358899579112352,
          0.01754140541613151,
          0.01770593589333959,
          0.01785229157955232,
          0.017980377103898177,
          0.018090198656310345,
          0.018181860637599256,
          0.018255561505839478,
          0.01831158887581953,
          0.018350313937505254,
          0.018372185267697825,
          0.01837772211619154,
          0.018367507253636287,
          0.018342179472889228,
          0.018302425838828462,
          0.018248973783350678,
          0.018182583142564955,
          0.018104038232029024,
          0.01801414005328459,
          0.017913698720988514,
          0.01780352619468601,
          0.017684429392831404,
          0.017557203759151197,
          0.017422627343000763,
          0.017281455446142915,
          0.017134415878535644,
          0.016982204855431726,
          0.01682548355754015,
          0.016664875365357813,
          0.016500963768229137,
          0.01633429093840078,
          0.016165356950480183,
          0.01599461961742961,
          0.01582249490568059,
          0.0156493578842619,
          0.015475544156110126,
          0.01530135171406914,
          0.015127043159554559,
          0.01495284821851758,
          0.014778966487218274,
          0.014605570339422681,
          0.014432807926961947,
          0.014260806207101781,
          0.014089673932817027,
          0.013919504545780859,
          0.01375037891657133,
          0.013582367882172697,
          0.013415534537183896,
          0.013249936242120385,
          0.013085626319667623,
          0.012922655417574026,
          0.012761072524910752,
          0.012600925636523139,
          0.012442262068509829,
          0.012285128435338803,
          0.012129570306610292,
          0.011975631568368414,
          0.011823353520126284,
          0.011672773744294065,
          0.011523924789387617,
          0.011376832712172439,
          0.011231515526695067,
          0.011087981609933658,
          0.01094622811453328,
          0.01080623943877435,
          0.010667985802572224,
          0.01053142197595289,
          0.01039648620315061,
          0.010263099361296288,
          0.010131164387701288,
          0.010000566004090338,
          0.009871170759916809,
          0.009742827410228616,
          0.009615367636579927,
          0.009488607112341577,
          0.009362346906593915,
          0.009236375213735805,
          0.009110469389146997,
          0.008984398264839256,
          0.008857924713141792,
          0.00873080842121031,
          0.008602808834622474,
          0.008473688224612138,
          0.008343214830670666,
          0.008211166028351681,
          0.008077331471190196,
          0.00794151615569516,
          0.00780354335938834,
          0.007663257403812835,
          0.007520526197271763
         ],
         "yaxis": "y"
        },
        {
         "fill": "tozeroy",
         "hovertemplate": "<b>Synthetic</b><br>Frequency: %{y}<extra></extra>",
         "legendgroup": "Synthetic",
         "marker": {
          "color": "#01E0C9"
         },
         "mode": "lines",
         "name": "Synthetic",
         "showlegend": true,
         "type": "scatter",
         "x": [
          5.951898087344071,
          5.972643886865668,
          5.993389686387263,
          6.014135485908859,
          6.034881285430456,
          6.055627084952051,
          6.076372884473647,
          6.097118683995244,
          6.11786448351684,
          6.138610283038435,
          6.1593560825600315,
          6.180101882081628,
          6.200847681603223,
          6.2215934811248195,
          6.242339280646416,
          6.263085080168011,
          6.283830879689607,
          6.304576679211204,
          6.325322478732799,
          6.346068278254395,
          6.366814077775992,
          6.387559877297588,
          6.408305676819183,
          6.42905147634078,
          6.449797275862376,
          6.470543075383971,
          6.4912888749055675,
          6.512034674427164,
          6.532780473948759,
          6.553526273470355,
          6.574272072991952,
          6.595017872513547,
          6.615763672035143,
          6.63650947155674,
          6.657255271078336,
          6.678001070599931,
          6.698746870121528,
          6.719492669643124,
          6.740238469164719,
          6.7609842686863155,
          6.781730068207912,
          6.802475867729507,
          6.8232216672511035,
          6.8439674667727,
          6.864713266294295,
          6.885459065815891,
          6.906204865337488,
          6.926950664859083,
          6.947696464380679,
          6.968442263902276,
          6.989188063423871,
          7.009933862945467,
          7.0306796624670636,
          7.051425461988659,
          7.072171261510256,
          7.0929170610318515,
          7.113662860553448,
          7.134408660075044,
          7.155154459596639,
          7.175900259118236,
          7.196646058639832,
          7.217391858161427,
          7.238137657683024,
          7.25888345720462,
          7.279629256726215,
          7.300375056247812,
          7.321120855769408,
          7.341866655291003,
          7.3626124548125995,
          7.383358254334196,
          7.404104053855791,
          7.4248498533773875,
          7.445595652898984,
          7.466341452420579,
          7.487087251942175,
          7.507833051463772,
          7.528578850985367,
          7.549324650506963,
          7.57007045002856,
          7.590816249550156,
          7.611562049071751,
          7.6323078485933475,
          7.653053648114944,
          7.67379944763654,
          7.6945452471581355,
          7.715291046679732,
          7.736036846201328,
          7.756782645722923,
          7.77752844524452,
          7.798274244766116,
          7.819020044287711,
          7.839765843809308,
          7.860511643330904,
          7.881257442852499,
          7.902003242374096,
          7.922749041895692,
          7.943494841417287,
          7.9642406409388835,
          7.98498644046048,
          8.005732239982075,
          8.026478039503672,
          8.047223839025268,
          8.067969638546863,
          8.08871543806846,
          8.109461237590056,
          8.130207037111651,
          8.150952836633248,
          8.171698636154844,
          8.192444435676439,
          8.213190235198036,
          8.233936034719632,
          8.254681834241227,
          8.275427633762824,
          8.29617343328442,
          8.316919232806015,
          8.337665032327612,
          8.358410831849207,
          8.379156631370805,
          8.3999024308924,
          8.420648230413995,
          8.44139402993559,
          8.462139829457188,
          8.482885628978783,
          8.50363142850038,
          8.524377228021976,
          8.545123027543571,
          8.565868827065168,
          8.586614626586764,
          8.60736042610836,
          8.628106225629956,
          8.648852025151552,
          8.669597824673147,
          8.690343624194744,
          8.71108942371634,
          8.731835223237935,
          8.752581022759532,
          8.773326822281128,
          8.794072621802723,
          8.81481842132432,
          8.835564220845916,
          8.856310020367513,
          8.877055819889108,
          8.897801619410703,
          8.918547418932299,
          8.939293218453896,
          8.960039017975491,
          8.980784817497089,
          9.001530617018684,
          9.02227641654028,
          9.043022216061875,
          9.063768015583472,
          9.084513815105067,
          9.105259614626664,
          9.12600541414826,
          9.146751213669855,
          9.16749701319145,
          9.188242812713048,
          9.208988612234645,
          9.22973441175624,
          9.250480211277836,
          9.271226010799431,
          9.291971810321026,
          9.312717609842624,
          9.33346340936422,
          9.354209208885816,
          9.374955008407412,
          9.395700807929007,
          9.416446607450604,
          9.4371924069722,
          9.457938206493797,
          9.478684006015392,
          9.499429805536987,
          9.520175605058583,
          9.54092140458018,
          9.561667204101775,
          9.582413003623373,
          9.603158803144968,
          9.623904602666563,
          9.644650402188159,
          9.665396201709756,
          9.686142001231353,
          9.706887800752948,
          9.727633600274544,
          9.74837939979614,
          9.769125199317735,
          9.789870998839332,
          9.810616798360929,
          9.831362597882524,
          9.85210839740412,
          9.872854196925715,
          9.893599996447312,
          9.914345795968908,
          9.935091595490505,
          9.9558373950121,
          9.976583194533696,
          9.997328994055291,
          10.018074793576888,
          10.038820593098484,
          10.05956639262008,
          10.080312192141676,
          10.101057991663271,
          10.121803791184867,
          10.142549590706464,
          10.16329539022806,
          10.184041189749657,
          10.204786989271252,
          10.225532788792847,
          10.246278588314443,
          10.26702438783604,
          10.287770187357637,
          10.308515986879232,
          10.329261786400828,
          10.350007585922423,
          10.370753385444019,
          10.391499184965618,
          10.412244984487213,
          10.432990784008808,
          10.453736583530404,
          10.474482383051999,
          10.495228182573594,
          10.515973982095192,
          10.536719781616789,
          10.557465581138384,
          10.57821138065998,
          10.598957180181575,
          10.619702979703172,
          10.64044877922477,
          10.661194578746365,
          10.68194037826796,
          10.702686177789555,
          10.72343197731115,
          10.744177776832746,
          10.764923576354345,
          10.78566937587594,
          10.806415175397536,
          10.827160974919131,
          10.847906774440727,
          10.868652573962324,
          10.889398373483921,
          10.910144173005516,
          10.930889972527112,
          10.951635772048707,
          10.972381571570304,
          10.9931273710919,
          11.013873170613497,
          11.034618970135092,
          11.055364769656688,
          11.076110569178283,
          11.096856368699878,
          11.117602168221476,
          11.138347967743073,
          11.159093767264668,
          11.179839566786264,
          11.200585366307859,
          11.221331165829456,
          11.242076965351051,
          11.262822764872649,
          11.283568564394244,
          11.30431436391584,
          11.325060163437435,
          11.345805962959032,
          11.36655176248063,
          11.387297562002225,
          11.40804336152382,
          11.428789161045415,
          11.44953496056701,
          11.470280760088608,
          11.491026559610203,
          11.5117723591318,
          11.532518158653396,
          11.553263958174991,
          11.574009757696588,
          11.594755557218184,
          11.615501356739781,
          11.636247156261376,
          11.656992955782972,
          11.677738755304567,
          11.698484554826162,
          11.719230354347761,
          11.739976153869357,
          11.760721953390952,
          11.781467752912548,
          11.802213552434143,
          11.82295935195574,
          11.843705151477335,
          11.864450950998933,
          11.885196750520528,
          11.905942550042123,
          11.92668834956372,
          11.947434149085316,
          11.968179948606913,
          11.988925748128509,
          12.009671547650104,
          12.0304173471717,
          12.051163146693295,
          12.071908946214892,
          12.092654745736489,
          12.113400545258084,
          12.13414634477968,
          12.154892144301275,
          12.175637943822872,
          12.196383743344468,
          12.217129542866065,
          12.23787534238766,
          12.258621141909256,
          12.279366941430853,
          12.300112740952448,
          12.320858540474045,
          12.34160433999564,
          12.362350139517236,
          12.383095939038832,
          12.403841738560427,
          12.424587538082024,
          12.44533333760362,
          12.466079137125217,
          12.486824936646812,
          12.507570736168407,
          12.528316535690005,
          12.5490623352116,
          12.569808134733197,
          12.590553934254793,
          12.611299733776388,
          12.632045533297983,
          12.65279133281958,
          12.673537132341178,
          12.694282931862773,
          12.715028731384368,
          12.735774530905964,
          12.75652033042756,
          12.777266129949155,
          12.798011929470752,
          12.818757728992349,
          12.839503528513944,
          12.86024932803554,
          12.880995127557135,
          12.901740927078732,
          12.92248672660033,
          12.943232526121925,
          12.96397832564352,
          12.984724125165116,
          13.005469924686711,
          13.026215724208306,
          13.046961523729905,
          13.0677073232515,
          13.088453122773096,
          13.109198922294691,
          13.129944721816287,
          13.150690521337884,
          13.171436320859481,
          13.192182120381077,
          13.212927919902672,
          13.233673719424267,
          13.254419518945864,
          13.27516531846746,
          13.295911117989057,
          13.316656917510652,
          13.337402717032248,
          13.358148516553843,
          13.378894316075439,
          13.399640115597036,
          13.420385915118633,
          13.441131714640228,
          13.461877514161824,
          13.482623313683419,
          13.503369113205016,
          13.524114912726612,
          13.544860712248209,
          13.565606511769804,
          13.5863523112914,
          13.607098110812997,
          13.627843910334592,
          13.64858970985619,
          13.669335509377785,
          13.69008130889938,
          13.710827108420975,
          13.73157290794257,
          13.752318707464168,
          13.773064506985763,
          13.79381030650736,
          13.814556106028956,
          13.835301905550551,
          13.856047705072148,
          13.876793504593744,
          13.897539304115341,
          13.918285103636936,
          13.939030903158532,
          13.959776702680129,
          13.980522502201724,
          14.00126830172332,
          14.022014101244915,
          14.042759900766512,
          14.06350570028811,
          14.084251499809705,
          14.1049972993313,
          14.125743098852896,
          14.146488898374493,
          14.167234697896088,
          14.187980497417685,
          14.20872629693928,
          14.229472096460876,
          14.250217895982471,
          14.270963695504069,
          14.291709495025664,
          14.31245529454726,
          14.333201094068857,
          14.353946893590452,
          14.374692693112047,
          14.395438492633643,
          14.41618429215524,
          14.436930091676835,
          14.457675891198432,
          14.47842169072003,
          14.499167490241625,
          14.51991328976322,
          14.540659089284816,
          14.561404888806413,
          14.582150688328008,
          14.602896487849604,
          14.6236422873712,
          14.644388086892796,
          14.665133886414392,
          14.685879685935989,
          14.706625485457584,
          14.72737128497918,
          14.748117084500775,
          14.768862884022372,
          14.789608683543968,
          14.810354483065563,
          14.831100282587162,
          14.851846082108757,
          14.872591881630353,
          14.893337681151948,
          14.914083480673545,
          14.93482928019514,
          14.955575079716736,
          14.976320879238333,
          14.997066678759928,
          15.017812478281524,
          15.03855827780312,
          15.059304077324716,
          15.080049876846312,
          15.100795676367907,
          15.121541475889504,
          15.1422872754111,
          15.163033074932695,
          15.183778874454292,
          15.20452467397589,
          15.225270473497485,
          15.24601627301908,
          15.266762072540677,
          15.287507872062273,
          15.308253671583868,
          15.328999471105465,
          15.34974527062706,
          15.370491070148656,
          15.391236869670252,
          15.411982669191849,
          15.432728468713444,
          15.45347426823504,
          15.474220067756637,
          15.494965867278232,
          15.515711666799827,
          15.536457466321423,
          15.55720326584302,
          15.577949065364617,
          15.598694864886212,
          15.61944066440781,
          15.640186463929405,
          15.660932263451,
          15.681678062972596,
          15.702423862494193,
          15.723169662015788,
          15.743915461537384,
          15.764661261058981,
          15.785407060580576,
          15.806152860102172,
          15.826898659623769,
          15.847644459145364,
          15.86839025866696,
          15.889136058188555,
          15.909881857710152,
          15.930627657231748,
          15.951373456753343,
          15.972119256274942,
          15.992865055796537,
          16.013610855318134,
          16.034356654839726,
          16.055102454361325,
          16.07584825388292,
          16.096594053404516,
          16.117339852926115,
          16.138085652447707,
          16.158831451969306,
          16.179577251490898,
          16.200323051012496,
          16.221068850534092,
          16.241814650055687,
          16.262560449577286,
          16.283306249098878,
          16.304052048620477
         ],
         "xaxis": "x",
         "y": [
          0.015340015087730667,
          0.01594486337436609,
          0.016551375767392528,
          0.017158265157093063,
          0.017764245690698507,
          0.018368043890436322,
          0.018968410148216635,
          0.01956413048549861,
          0.020154038457720763,
          0.020737027075097485,
          0.021312060605861036,
          0.021878186124408908,
          0.022434544665516653,
          0.022980381846964795,
          0.023515057826722623,
          0.02403805646729359,
          0.024548993588942802,
          0.025047624205225816,
          0.02553384864836717,
          0.026007717508376174,
          0.026469435328043203,
          0.026919363015776854,
          0.02735801895919922,
          0.02778607884405061,
          0.028204374204754093,
          0.02861388975442713,
          0.02901575956265176,
          0.029411262168390358,
          0.02980181473253848,
          0.030188966349253357,
          0.030574390646961384,
          0.030959877818458797,
          0.03134732622450196,
          0.0317387337165424,
          0.0321361888217145,
          0.0325418619268486,
          0.03295799658829488,
          0.03338690108094763,
          0.03383094028340585,
          0.03429252797715113,
          0.03477411961650373,
          0.03527820560355713,
          0.03580730507896058,
          0.03636396021604109,
          0.03695073098306411,
          0.03757019031716292,
          0.03822491963432755,
          0.0389175045835015,
          0.039650530939880184,
          0.040426580523450245,
          0.04124822702405153,
          0.04211803161407367,
          0.043038538234460445,
          0.04401226844901375,
          0.045041715775925036,
          0.046129339423757826,
          0.047277557381351906,
          0.04848873883677789,
          0.04976519592890744,
          0.0511091748656118,
          0.05252284647423706,
          0.05400829628194008,
          0.05556751425475773,
          0.057202384353989985,
          0.058914674095658606,
          0.060706024322548284,
          0.06257793941779409,
          0.06453177820337946,
          0.06656874577555434,
          0.06868988653152666,
          0.0708960786373693,
          0.07318803017563245,
          0.07556627719250017,
          0.07803118383850492,
          0.08058294476397178,
          0.08322158989084392,
          0.08594699163683428,
          0.08875887461659827,
          0.09165682778861338,
          0.09464031895663631,
          0.09770871147200688,
          0.10086128291888066,
          0.10409724549994405,
          0.10741576777664215,
          0.11081599735683641,
          0.11429708406554685,
          0.11785820308246445,
          0.12149857748472113,
          0.125217499596345,
          0.12901435051830232,
          0.1328886171962538,
          0.13683990637830123,
          0.14086795482302333,
          0.14497263513983788,
          0.1491539566797412,
          0.15341206094513912,
          0.157747211052879,
          0.16215977486452043,
          0.1666502014918224,
          0.17121899099256796,
          0.17586665719099723,
          0.1805936836867942,
          0.185400473254955,
          0.19028729098376354,
          0.19525420164712565,
          0.20030100195794126,
          0.20542714849806504,
          0.2106316822647007,
          0.2159131509094591,
          0.22126952987163395,
          0.22669814371813152,
          0.23219558909589233,
          0.23775766077542448,
          0.24337928231364067,
          0.2490544428879838,
          0.2547761418499459,
          0.2605363425128949,
          0.2663259366257187,
          0.2721347208896382,
          0.27795138675099745,
          0.28376352454862996,
          0.2895576429122457,
          0.29531920410023843,
          0.3010326757344216,
          0.30668159913879867,
          0.31224867422378644,
          0.3177158605807116,
          0.32306449416903016,
          0.3282754186957439,
          0.3333291305084216,
          0.3382059355557061,
          0.3428861167177033,
          0.34735010957856194,
          0.35157868451011415,
          0.35555313276315553,
          0.3592554541261782,
          0.36266854361352835,
          0.3657763745889935,
          0.3685641757186414,
          0.37101859917962726,
          0.37312787762979355,
          0.37488196756565256,
          0.37627267686205457,
          0.37729377449313234,
          0.37794108067748106,
          0.37821253596691606,
          0.3781082481026271,
          0.37763051578959334,
          0.3767838288838156,
          0.3755748448407916,
          0.37401234163121566,
          0.37210714768428366,
          0.36987204976375293,
          0.36732168001043725,
          0.36447238369112395,
          0.3613420694722763,
          0.3579500442823382,
          0.3543168350346039,
          0.3504639996499494,
          0.34641392994254444,
          0.3421896490101832,
          0.33781460580331857,
          0.3333124695333476,
          0.32870692652229083,
          0.3240214819946563,
          0.31927926917090993,
          0.314502867844109,
          0.3097141344112011,
          0.3049340450931842,
          0.300182553818994,
          0.2954784659723807,
          0.2908393289149307,
          0.2862813399078216,
          0.28181927176555727,
          0.2774664162926478,
          0.2732345452841374,
          0.2691338886180441,
          0.26517312873643734,
          0.2613594106058005,
          0.25769836606952656,
          0.25419415135813705,
          0.25084949640765764,
          0.24766576455419786,
          0.24464302112311945,
          0.24178010941344735,
          0.23907473259081644,
          0.23652354004308526,
          0.23412221681906864,
          0.23186557485933423,
          0.2297476448351332,
          0.22776176753328997,
          0.2259006838572752,
          0.22415662265348715,
          0.22252138571298397,
          0.2209864294385058,
          0.21954294280101758,
          0.21818192133580652,
          0.2168942370424997,
          0.21567070415383705,
          0.21450214082276206,
          0.21337942684509012,
          0.21229355758501464,
          0.21123569430288716,
          0.2101972110995613,
          0.20916973869012842,
          0.20814520520363994,
          0.207115874176308,
          0.2060743798660874,
          0.20501375996897525,
          0.20392748576467087,
          0.2028094896642234,
          0.20165419007788965,
          0.2004565134703475,
          0.19921191342531044,
          0.19791638650475657,
          0.1965664846614412,
          0.19515932394869057,
          0.1936925892698424,
          0.19216453492175592,
          0.19057398071277334,
          0.1889203034750198,
          0.1872034238432002,
          0.1854237882358091,
          0.1835823460482422,
          0.18168052214865826,
          0.17972018485422758,
          0.17770360965510953,
          0.1756334390434113,
          0.17351263889175547,
          0.1713444519082423,
          0.16913234876890296,
          0.16687997759284384,
          0.164591112477031,
          0.16226960184527311,
          0.15991931738801018,
          0.15754410437506375,
          0.1551477341119692,
          0.15273385928189906,
          0.1503059728698845,
          0.1478673713049333,
          0.14542112238003807,
          0.1429700384216658,
          0.14051665508113798,
          0.1380632160127036,
          0.13561166358956758,
          0.1331636356923787,
          0.13072046848740876,
          0.12828320499665524,
          0.1258526091519747,
          0.12342918492266948,
          0.12101320001294677,
          0.11860471354441879,
          0.11620360707098107,
          0.11380961822037264,
          0.11142237621942472,
          0.1090414385390386,
          0.10666632789041587,
          0.10429656881581519,
          0.10193172314443028,
          0.09957142362597719,
          0.09721540510987305,
          0.094863532704963,
          0.09251582643174786,
          0.09017248196404205,
          0.08783388714779398,
          0.0855006340792833,
          0.08317352662086708,
          0.08085358332774271,
          0.07854203585175307,
          0.07624032297621733,
          0.07395008051731874,
          0.07167312740128742,
          0.06941144829111531,
          0.06716717319089463,
          0.06494255449927436,
          0.06273994201555373,
          0.06056175642237041,
          0.058410461777880944,
          0.056288537548086326,
          0.05419845069711605,
          0.05214262833056987,
          0.050123431355440534,
          0.0481431295807129,
          0.046203878636742766,
          0.04430769904018174,
          0.042456457675911864,
          0.04065185190949926,
          0.03889539648442211,
          0.03718841329903791,
          0.035532024100161805,
          0.03392714607432132,
          0.0323744902652775,
          0.030874562698088536,
          0.029427668046634253,
          0.02803391564365932,
          0.026693227600524873,
          0.025405348778245032,
          0.024169858332199094,
          0.022986182540163852,
          0.02185360861688581,
          0.02077129921807301,
          0.01973830734210473,
          0.018753591348480918,
          0.017816029827576088,
          0.016924436076023737,
          0.016077571955447487,
          0.015274160938590626,
          0.014512900175531657,
          0.013792471442917328,
          0.013111550870338863,
          0.01246881736947113,
          0.011862959722776577,
          0.011292682318864707,
          0.01075670955046979,
          0.010253788917986905,
          0.0097826929061771,
          0.009342219723656252,
          0.008931193013843734,
          0.008548460661932716,
          0.008192892835008802,
          0.007863379401598739,
          0.007558826882649622,
          0.007278155088265191,
          0.007020293593555343,
          0.006784178202840131,
          0.006568747544394083,
          0.006372939928168965,
          0.006195690586779149,
          0.006035929405794411,
          0.005892579233410247,
          0.005764554842220903,
          0.005650762597490157,
          0.005550100867388077,
          0.005461461191527806,
          0.005383730205179414,
          0.0053157922981270245,
          0.005256532969623291,
          0.0052048428246067955,
          0.005159622141578982,
          0.0051197859295473306,
          0.005084269380450552,
          0.005052033614665751,
          0.005022071610687727,
          0.004993414205947707,
          0.004965136054037099,
          0.004936361424304193,
          0.004906269732834515,
          0.004874100699097634,
          0.004839159029891517,
          0.00480081854144586,
          0.004758525641430234,
          0.0047118021048930345,
          0.0046602470915511306,
          0.004603538366059144,
          0.0045414326976006714,
          0.0044737654300492525,
          0.004400449228733136,
          0.004321472024205876,
          0.004236894187090283,
          0.00414684498076494,
          0.004051518350168243,
          0.003951168115102054,
          0.003846102644962718,
          0.0037366790986836907,
          0.0036232973187576584,
          0.003506393471471501,
          0.0033864335269331225,
          0.0032639066721311034,
          0.003139318748221135,
          0.003013185799585879,
          0.002886027817107271,
          0.0027583627516860458,
          0.0026307008665318933,
          0.0025035394883276,
          0.002377358208258563,
          0.002252614574308678,
          0.002129740306375184,
          0.0020091380558569846,
          0.0018911787216262955,
          0.0017761993248870882,
          0.00166450143652483,
          0.001556350142306833,
          0.0014519735238257634,
          0.0013515626264880504,
          0.0012552718802096702,
          0.0011632199338389505,
          0.001075490860704767,
          0.0009921356900864623,
          0.0009131742177949574,
          0.000838597048401717,
          0.0007683678218901863,
          0.0007024255785599779,
          0.0006406872177989784,
          0.0005830500087580531,
          0.0005293941139153752,
          0.00047958508989866114,
          0.00043347633363986755,
          0.0003909114458667813,
          0.00035172648799147114,
          0.00031575211254776975,
          0.00028281555137457025,
          0.00025274244966707574,
          0.00022535853775948995,
          0.0002004911360079839,
          0.0001779704913695721,
          0.00015763094718871504,
          0.00013931195028759092,
          0.00012285890169567672,
          0.000108123859245431,
          0.00009496610180807235,
          0.00008325256615653103,
          0.00007285816833838106,
          0.0000636660220397854,
          0.00005556756674651228,
          0.0000484626185853841,
          0.00004225935658671528,
          0.00003687425677254685,
          0.00003223198597403362,
          0.000028265266639976423,
          0.000024914723141313512,
          0.000022128719225480637,
          0.000019863195349461582,
          0.000018081513638002003,
          0.000016754317188261217,
          0.000015859409385739493,
          0.000015381657818025827,
          0.000015312926279783847,
          0.000015652037259719194,
          0.00001640476619178485,
          0.00001758386764129671,
          0.00001920913248410131,
          0.000021307474025473802,
          0.000023913039897488582,
          0.00002706734547245827,
          0.00003081942344031194,
          0.00003522598312574697,
          0.00004035157207508526,
          0.00004626873143359507,
          0.00005305813567496559,
          0.00006080870635135538,
          0.0000696176887235745,
          0.00007959067942739533,
          0.00009084159275687477,
          0.00010349255272408353,
          0.00011767369781311126,
          0.00013352288531176193,
          0.000151185282304253,
          0.0001708128308686113,
          0.00019256357576777594,
          0.0002166008439752366,
          0.0002430922667521555,
          0.0002722086367054864,
          0.0003041225943127627,
          0.000339007140797405,
          0.00037703397697067345,
          0.00041837167070392844,
          0.00046318365903111515,
          0.0005116260944679792,
          0.0005638455489242033,
          0.0006199765925185501,
          0.0006801392686179575,
          0.0007444364904316762,
          0.0008129513884153556,
          0.0008857446414866884,
          0.00096285182852489,
          0.0010442808397232114,
          0.0011300093899843803,
          0.0012199826785960087,
          0.0013141112408030728,
          0.0014122690375199564,
          0.0015142918292219113,
          0.0016199758789609228,
          0.0017290770274195775,
          0.001841310179919378,
          0.0019563492413321726,
          0.0020738275299192516,
          0.0021933386952811156,
          0.0023144381589074964,
          0.0024366450883558355,
          0.002559444907972254,
          0.0026822923404306526,
          0.002804614964359509,
          0.002925817264119681,
          0.0030452851385737063,
          0.003162390826642001,
          0.003276498198771251,
          0.00338696835534198,
          0.0034931654657138103,
          0.003594462775225702,
          0.0036902487022099258,
          0.003779932943084717,
          0.0038629525009919257,
          0.003938777552334027,
          0.0040069170660062365,
          0.004066924092145126,
          0.004118400640816678,
          0.004161002076206191,
          0.004194440958468289,
          0.004218490273337035,
          0.004232985998737273
         ],
         "yaxis": "y"
        }
       ],
       "layout": {
        "barmode": "overlay",
        "font": {
         "size": 18
        },
        "hovermode": "closest",
        "legend": {
         "traceorder": "reversed"
        },
        "plot_bgcolor": "#F5F5F8",
        "template": {
         "data": {
          "bar": [
           {
            "error_x": {
             "color": "#2a3f5f"
            },
            "error_y": {
             "color": "#2a3f5f"
            },
            "marker": {
             "line": {
              "color": "#E5ECF6",
              "width": 0.5
             },
             "pattern": {
              "fillmode": "overlay",
              "size": 10,
              "solidity": 0.2
             }
            },
            "type": "bar"
           }
          ],
          "barpolar": [
           {
            "marker": {
             "line": {
              "color": "#E5ECF6",
              "width": 0.5
             },
             "pattern": {
              "fillmode": "overlay",
              "size": 10,
              "solidity": 0.2
             }
            },
            "type": "barpolar"
           }
          ],
          "carpet": [
           {
            "aaxis": {
             "endlinecolor": "#2a3f5f",
             "gridcolor": "white",
             "linecolor": "white",
             "minorgridcolor": "white",
             "startlinecolor": "#2a3f5f"
            },
            "baxis": {
             "endlinecolor": "#2a3f5f",
             "gridcolor": "white",
             "linecolor": "white",
             "minorgridcolor": "white",
             "startlinecolor": "#2a3f5f"
            },
            "type": "carpet"
           }
          ],
          "choropleth": [
           {
            "colorbar": {
             "outlinewidth": 0,
             "ticks": ""
            },
            "type": "choropleth"
           }
          ],
          "contour": [
           {
            "colorbar": {
             "outlinewidth": 0,
             "ticks": ""
            },
            "colorscale": [
             [
              0,
              "#0d0887"
             ],
             [
              0.1111111111111111,
              "#46039f"
             ],
             [
              0.2222222222222222,
              "#7201a8"
             ],
             [
              0.3333333333333333,
              "#9c179e"
             ],
             [
              0.4444444444444444,
              "#bd3786"
             ],
             [
              0.5555555555555556,
              "#d8576b"
             ],
             [
              0.6666666666666666,
              "#ed7953"
             ],
             [
              0.7777777777777778,
              "#fb9f3a"
             ],
             [
              0.8888888888888888,
              "#fdca26"
             ],
             [
              1,
              "#f0f921"
             ]
            ],
            "type": "contour"
           }
          ],
          "contourcarpet": [
           {
            "colorbar": {
             "outlinewidth": 0,
             "ticks": ""
            },
            "type": "contourcarpet"
           }
          ],
          "heatmap": [
           {
            "colorbar": {
             "outlinewidth": 0,
             "ticks": ""
            },
            "colorscale": [
             [
              0,
              "#0d0887"
             ],
             [
              0.1111111111111111,
              "#46039f"
             ],
             [
              0.2222222222222222,
              "#7201a8"
             ],
             [
              0.3333333333333333,
              "#9c179e"
             ],
             [
              0.4444444444444444,
              "#bd3786"
             ],
             [
              0.5555555555555556,
              "#d8576b"
             ],
             [
              0.6666666666666666,
              "#ed7953"
             ],
             [
              0.7777777777777778,
              "#fb9f3a"
             ],
             [
              0.8888888888888888,
              "#fdca26"
             ],
             [
              1,
              "#f0f921"
             ]
            ],
            "type": "heatmap"
           }
          ],
          "heatmapgl": [
           {
            "colorbar": {
             "outlinewidth": 0,
             "ticks": ""
            },
            "colorscale": [
             [
              0,
              "#0d0887"
             ],
             [
              0.1111111111111111,
              "#46039f"
             ],
             [
              0.2222222222222222,
              "#7201a8"
             ],
             [
              0.3333333333333333,
              "#9c179e"
             ],
             [
              0.4444444444444444,
              "#bd3786"
             ],
             [
              0.5555555555555556,
              "#d8576b"
             ],
             [
              0.6666666666666666,
              "#ed7953"
             ],
             [
              0.7777777777777778,
              "#fb9f3a"
             ],
             [
              0.8888888888888888,
              "#fdca26"
             ],
             [
              1,
              "#f0f921"
             ]
            ],
            "type": "heatmapgl"
           }
          ],
          "histogram": [
           {
            "marker": {
             "pattern": {
              "fillmode": "overlay",
              "size": 10,
              "solidity": 0.2
             }
            },
            "type": "histogram"
           }
          ],
          "histogram2d": [
           {
            "colorbar": {
             "outlinewidth": 0,
             "ticks": ""
            },
            "colorscale": [
             [
              0,
              "#0d0887"
             ],
             [
              0.1111111111111111,
              "#46039f"
             ],
             [
              0.2222222222222222,
              "#7201a8"
             ],
             [
              0.3333333333333333,
              "#9c179e"
             ],
             [
              0.4444444444444444,
              "#bd3786"
             ],
             [
              0.5555555555555556,
              "#d8576b"
             ],
             [
              0.6666666666666666,
              "#ed7953"
             ],
             [
              0.7777777777777778,
              "#fb9f3a"
             ],
             [
              0.8888888888888888,
              "#fdca26"
             ],
             [
              1,
              "#f0f921"
             ]
            ],
            "type": "histogram2d"
           }
          ],
          "histogram2dcontour": [
           {
            "colorbar": {
             "outlinewidth": 0,
             "ticks": ""
            },
            "colorscale": [
             [
              0,
              "#0d0887"
             ],
             [
              0.1111111111111111,
              "#46039f"
             ],
             [
              0.2222222222222222,
              "#7201a8"
             ],
             [
              0.3333333333333333,
              "#9c179e"
             ],
             [
              0.4444444444444444,
              "#bd3786"
             ],
             [
              0.5555555555555556,
              "#d8576b"
             ],
             [
              0.6666666666666666,
              "#ed7953"
             ],
             [
              0.7777777777777778,
              "#fb9f3a"
             ],
             [
              0.8888888888888888,
              "#fdca26"
             ],
             [
              1,
              "#f0f921"
             ]
            ],
            "type": "histogram2dcontour"
           }
          ],
          "mesh3d": [
           {
            "colorbar": {
             "outlinewidth": 0,
             "ticks": ""
            },
            "type": "mesh3d"
           }
          ],
          "parcoords": [
           {
            "line": {
             "colorbar": {
              "outlinewidth": 0,
              "ticks": ""
             }
            },
            "type": "parcoords"
           }
          ],
          "pie": [
           {
            "automargin": true,
            "type": "pie"
           }
          ],
          "scatter": [
           {
            "fillpattern": {
             "fillmode": "overlay",
             "size": 10,
             "solidity": 0.2
            },
            "type": "scatter"
           }
          ],
          "scatter3d": [
           {
            "line": {
             "colorbar": {
              "outlinewidth": 0,
              "ticks": ""
             }
            },
            "marker": {
             "colorbar": {
              "outlinewidth": 0,
              "ticks": ""
             }
            },
            "type": "scatter3d"
           }
          ],
          "scattercarpet": [
           {
            "marker": {
             "colorbar": {
              "outlinewidth": 0,
              "ticks": ""
             }
            },
            "type": "scattercarpet"
           }
          ],
          "scattergeo": [
           {
            "marker": {
             "colorbar": {
              "outlinewidth": 0,
              "ticks": ""
             }
            },
            "type": "scattergeo"
           }
          ],
          "scattergl": [
           {
            "marker": {
             "colorbar": {
              "outlinewidth": 0,
              "ticks": ""
             }
            },
            "type": "scattergl"
           }
          ],
          "scattermapbox": [
           {
            "marker": {
             "colorbar": {
              "outlinewidth": 0,
              "ticks": ""
             }
            },
            "type": "scattermapbox"
           }
          ],
          "scatterpolar": [
           {
            "marker": {
             "colorbar": {
              "outlinewidth": 0,
              "ticks": ""
             }
            },
            "type": "scatterpolar"
           }
          ],
          "scatterpolargl": [
           {
            "marker": {
             "colorbar": {
              "outlinewidth": 0,
              "ticks": ""
             }
            },
            "type": "scatterpolargl"
           }
          ],
          "scatterternary": [
           {
            "marker": {
             "colorbar": {
              "outlinewidth": 0,
              "ticks": ""
             }
            },
            "type": "scatterternary"
           }
          ],
          "surface": [
           {
            "colorbar": {
             "outlinewidth": 0,
             "ticks": ""
            },
            "colorscale": [
             [
              0,
              "#0d0887"
             ],
             [
              0.1111111111111111,
              "#46039f"
             ],
             [
              0.2222222222222222,
              "#7201a8"
             ],
             [
              0.3333333333333333,
              "#9c179e"
             ],
             [
              0.4444444444444444,
              "#bd3786"
             ],
             [
              0.5555555555555556,
              "#d8576b"
             ],
             [
              0.6666666666666666,
              "#ed7953"
             ],
             [
              0.7777777777777778,
              "#fb9f3a"
             ],
             [
              0.8888888888888888,
              "#fdca26"
             ],
             [
              1,
              "#f0f921"
             ]
            ],
            "type": "surface"
           }
          ],
          "table": [
           {
            "cells": {
             "fill": {
              "color": "#EBF0F8"
             },
             "line": {
              "color": "white"
             }
            },
            "header": {
             "fill": {
              "color": "#C8D4E3"
             },
             "line": {
              "color": "white"
             }
            },
            "type": "table"
           }
          ]
         },
         "layout": {
          "annotationdefaults": {
           "arrowcolor": "#2a3f5f",
           "arrowhead": 0,
           "arrowwidth": 1
          },
          "autotypenumbers": "strict",
          "coloraxis": {
           "colorbar": {
            "outlinewidth": 0,
            "ticks": ""
           }
          },
          "colorscale": {
           "diverging": [
            [
             0,
             "#8e0152"
            ],
            [
             0.1,
             "#c51b7d"
            ],
            [
             0.2,
             "#de77ae"
            ],
            [
             0.3,
             "#f1b6da"
            ],
            [
             0.4,
             "#fde0ef"
            ],
            [
             0.5,
             "#f7f7f7"
            ],
            [
             0.6,
             "#e6f5d0"
            ],
            [
             0.7,
             "#b8e186"
            ],
            [
             0.8,
             "#7fbc41"
            ],
            [
             0.9,
             "#4d9221"
            ],
            [
             1,
             "#276419"
            ]
           ],
           "sequential": [
            [
             0,
             "#0d0887"
            ],
            [
             0.1111111111111111,
             "#46039f"
            ],
            [
             0.2222222222222222,
             "#7201a8"
            ],
            [
             0.3333333333333333,
             "#9c179e"
            ],
            [
             0.4444444444444444,
             "#bd3786"
            ],
            [
             0.5555555555555556,
             "#d8576b"
            ],
            [
             0.6666666666666666,
             "#ed7953"
            ],
            [
             0.7777777777777778,
             "#fb9f3a"
            ],
            [
             0.8888888888888888,
             "#fdca26"
            ],
            [
             1,
             "#f0f921"
            ]
           ],
           "sequentialminus": [
            [
             0,
             "#0d0887"
            ],
            [
             0.1111111111111111,
             "#46039f"
            ],
            [
             0.2222222222222222,
             "#7201a8"
            ],
            [
             0.3333333333333333,
             "#9c179e"
            ],
            [
             0.4444444444444444,
             "#bd3786"
            ],
            [
             0.5555555555555556,
             "#d8576b"
            ],
            [
             0.6666666666666666,
             "#ed7953"
            ],
            [
             0.7777777777777778,
             "#fb9f3a"
            ],
            [
             0.8888888888888888,
             "#fdca26"
            ],
            [
             1,
             "#f0f921"
            ]
           ]
          },
          "colorway": [
           "#636efa",
           "#EF553B",
           "#00cc96",
           "#ab63fa",
           "#FFA15A",
           "#19d3f3",
           "#FF6692",
           "#B6E880",
           "#FF97FF",
           "#FECB52"
          ],
          "font": {
           "color": "#2a3f5f"
          },
          "geo": {
           "bgcolor": "white",
           "lakecolor": "white",
           "landcolor": "#E5ECF6",
           "showlakes": true,
           "showland": true,
           "subunitcolor": "white"
          },
          "hoverlabel": {
           "align": "left"
          },
          "hovermode": "closest",
          "mapbox": {
           "style": "light"
          },
          "paper_bgcolor": "white",
          "plot_bgcolor": "#E5ECF6",
          "polar": {
           "angularaxis": {
            "gridcolor": "white",
            "linecolor": "white",
            "ticks": ""
           },
           "bgcolor": "#E5ECF6",
           "radialaxis": {
            "gridcolor": "white",
            "linecolor": "white",
            "ticks": ""
           }
          },
          "scene": {
           "xaxis": {
            "backgroundcolor": "#E5ECF6",
            "gridcolor": "white",
            "gridwidth": 2,
            "linecolor": "white",
            "showbackground": true,
            "ticks": "",
            "zerolinecolor": "white"
           },
           "yaxis": {
            "backgroundcolor": "#E5ECF6",
            "gridcolor": "white",
            "gridwidth": 2,
            "linecolor": "white",
            "showbackground": true,
            "ticks": "",
            "zerolinecolor": "white"
           },
           "zaxis": {
            "backgroundcolor": "#E5ECF6",
            "gridcolor": "white",
            "gridwidth": 2,
            "linecolor": "white",
            "showbackground": true,
            "ticks": "",
            "zerolinecolor": "white"
           }
          },
          "shapedefaults": {
           "line": {
            "color": "#2a3f5f"
           }
          },
          "ternary": {
           "aaxis": {
            "gridcolor": "white",
            "linecolor": "white",
            "ticks": ""
           },
           "baxis": {
            "gridcolor": "white",
            "linecolor": "white",
            "ticks": ""
           },
           "bgcolor": "#E5ECF6",
           "caxis": {
            "gridcolor": "white",
            "linecolor": "white",
            "ticks": ""
           }
          },
          "title": {
           "x": 0.05
          },
          "xaxis": {
           "automargin": true,
           "gridcolor": "white",
           "linecolor": "white",
           "ticks": "",
           "title": {
            "standoff": 15
           },
           "zerolinecolor": "white",
           "zerolinewidth": 2
          },
          "yaxis": {
           "automargin": true,
           "gridcolor": "white",
           "linecolor": "white",
           "ticks": "",
           "title": {
            "standoff": 15
           },
           "zerolinecolor": "white",
           "zerolinewidth": 2
          }
         }
        },
        "title": {
         "text": "Real vs. Synthetic Data for column 'Hemoglobine'"
        },
        "xaxis": {
         "anchor": "y2",
         "domain": [
          0,
          1
         ],
         "title": {
          "text": "Value"
         },
         "zeroline": false
        },
        "yaxis": {
         "anchor": "free",
         "domain": [
          0,
          1
         ],
         "position": 0,
         "title": {
          "text": "Frequency"
         }
        }
       }
      }
     },
     "metadata": {},
     "output_type": "display_data"
    },
    {
     "data": {
      "application/vnd.plotly.v1+json": {
       "config": {
        "plotlyServerURL": "https://plot.ly"
       },
       "data": [
        {
         "fill": "tozeroy",
         "hovertemplate": "<b>Real</b><br>Frequency: %{y}<extra></extra>",
         "legendgroup": "Real",
         "marker": {
          "color": "#000036"
         },
         "mode": "lines",
         "name": "Real",
         "showlegend": true,
         "type": "scatter",
         "x": [
          18.58,
          18.619439999999997,
          18.65888,
          18.69832,
          18.737759999999998,
          18.777199999999997,
          18.81664,
          18.85608,
          18.895519999999998,
          18.934959999999997,
          18.9744,
          19.01384,
          19.053279999999997,
          19.09272,
          19.13216,
          19.171599999999998,
          19.211039999999997,
          19.25048,
          19.28992,
          19.329359999999998,
          19.368799999999997,
          19.40824,
          19.44768,
          19.487119999999997,
          19.52656,
          19.566,
          19.605439999999998,
          19.644879999999997,
          19.68432,
          19.72376,
          19.763199999999998,
          19.802639999999997,
          19.84208,
          19.88152,
          19.920959999999997,
          19.9604,
          19.99984,
          20.039279999999998,
          20.078719999999997,
          20.11816,
          20.1576,
          20.197039999999998,
          20.236479999999997,
          20.27592,
          20.31536,
          20.354799999999997,
          20.394239999999996,
          20.43368,
          20.473119999999998,
          20.512559999999997,
          20.552,
          20.59144,
          20.630879999999998,
          20.670319999999997,
          20.70976,
          20.7492,
          20.788639999999997,
          20.82808,
          20.86752,
          20.906959999999998,
          20.946399999999997,
          20.985839999999996,
          21.02528,
          21.064719999999998,
          21.104159999999997,
          21.1436,
          21.18304,
          21.222479999999997,
          21.261919999999996,
          21.30136,
          21.340799999999998,
          21.380239999999997,
          21.41968,
          21.45912,
          21.498559999999998,
          21.537999999999997,
          21.57744,
          21.61688,
          21.656319999999997,
          21.69576,
          21.7352,
          21.774639999999998,
          21.814079999999997,
          21.85352,
          21.89296,
          21.932399999999998,
          21.971839999999997,
          22.01128,
          22.05072,
          22.090159999999997,
          22.129599999999996,
          22.16904,
          22.208479999999998,
          22.247919999999997,
          22.28736,
          22.3268,
          22.366239999999998,
          22.405679999999997,
          22.44512,
          22.48456,
          22.523999999999997,
          22.563439999999996,
          22.60288,
          22.642319999999998,
          22.681759999999997,
          22.721199999999996,
          22.76064,
          22.800079999999998,
          22.839519999999997,
          22.87896,
          22.9184,
          22.957839999999997,
          22.997279999999996,
          23.036719999999995,
          23.076159999999998,
          23.115599999999997,
          23.15504,
          23.19448,
          23.233919999999998,
          23.273359999999997,
          23.312799999999996,
          23.35224,
          23.391679999999997,
          23.43112,
          23.47056,
          23.509999999999998,
          23.549439999999997,
          23.58888,
          23.62832,
          23.667759999999998,
          23.7072,
          23.74664,
          23.78608,
          23.825519999999997,
          23.864959999999996,
          23.9044,
          23.943839999999998,
          23.983279999999997,
          24.02272,
          24.06216,
          24.101599999999998,
          24.141039999999997,
          24.180479999999996,
          24.21992,
          24.259359999999997,
          24.298799999999996,
          24.33824,
          24.377679999999998,
          24.417119999999997,
          24.456559999999996,
          24.496,
          24.535439999999998,
          24.574879999999997,
          24.61432,
          24.65376,
          24.693199999999997,
          24.732639999999996,
          24.77208,
          24.811519999999998,
          24.850959999999997,
          24.8904,
          24.92984,
          24.969279999999998,
          25.008719999999997,
          25.04816,
          25.0876,
          25.127039999999997,
          25.16648,
          25.20592,
          25.245359999999998,
          25.284799999999997,
          25.324239999999996,
          25.36368,
          25.403119999999998,
          25.442559999999997,
          25.482,
          25.52144,
          25.560879999999997,
          25.600319999999996,
          25.639759999999995,
          25.679199999999998,
          25.718639999999997,
          25.75808,
          25.79752,
          25.836959999999998,
          25.876399999999997,
          25.915839999999996,
          25.95528,
          25.994719999999997,
          26.03416,
          26.0736,
          26.113039999999998,
          26.152479999999997,
          26.191919999999996,
          26.23136,
          26.270799999999998,
          26.31024,
          26.34968,
          26.38912,
          26.428559999999997,
          26.467999999999996,
          26.50744,
          26.546879999999998,
          26.58632,
          26.62576,
          26.6652,
          26.704639999999998,
          26.744079999999997,
          26.78352,
          26.822959999999995,
          26.862399999999997,
          26.90184,
          26.94128,
          26.980719999999998,
          27.020159999999997,
          27.059599999999996,
          27.099039999999995,
          27.138479999999998,
          27.17792,
          27.21736,
          27.2568,
          27.296239999999997,
          27.335679999999996,
          27.375119999999995,
          27.414559999999998,
          27.454,
          27.493439999999996,
          27.53288,
          27.572319999999998,
          27.611759999999997,
          27.651199999999996,
          27.69064,
          27.730079999999997,
          27.769519999999996,
          27.80896,
          27.848399999999998,
          27.887839999999997,
          27.927279999999996,
          27.966719999999995,
          28.006159999999998,
          28.045599999999997,
          28.08504,
          28.12448,
          28.163919999999997,
          28.203359999999996,
          28.242799999999995,
          28.282239999999998,
          28.32168,
          28.36112,
          28.40056,
          28.439999999999998,
          28.479439999999997,
          28.518879999999996,
          28.55832,
          28.59776,
          28.637199999999996,
          28.67664,
          28.716079999999998,
          28.755519999999997,
          28.794959999999996,
          28.8344,
          28.873839999999998,
          28.913279999999997,
          28.95272,
          28.99216,
          29.031599999999997,
          29.071039999999996,
          29.110479999999995,
          29.149919999999998,
          29.189359999999997,
          29.2288,
          29.26824,
          29.307679999999998,
          29.347119999999997,
          29.386559999999996,
          29.426,
          29.465439999999997,
          29.50488,
          29.54432,
          29.583759999999998,
          29.623199999999997,
          29.662639999999996,
          29.70208,
          29.741519999999998,
          29.780959999999997,
          29.8204,
          29.85984,
          29.899279999999997,
          29.938719999999996,
          29.97816,
          30.017599999999995,
          30.057039999999997,
          30.09648,
          30.13592,
          30.175359999999998,
          30.214799999999997,
          30.254239999999996,
          30.293679999999995,
          30.333119999999997,
          30.37256,
          30.412,
          30.451439999999998,
          30.490879999999997,
          30.530319999999996,
          30.569759999999995,
          30.609199999999998,
          30.64864,
          30.68808,
          30.72752,
          30.766959999999997,
          30.806399999999996,
          30.84584,
          30.885279999999995,
          30.924719999999997,
          30.96416,
          31.0036,
          31.043039999999998,
          31.082479999999997,
          31.121919999999996,
          31.161359999999995,
          31.200799999999997,
          31.24024,
          31.27968,
          31.319119999999998,
          31.358559999999997,
          31.397999999999996,
          31.437439999999995,
          31.476879999999998,
          31.51632,
          31.555759999999996,
          31.5952,
          31.634639999999997,
          31.674079999999996,
          31.713519999999995,
          31.752959999999998,
          31.792399999999997,
          31.83184,
          31.87128,
          31.910719999999998,
          31.950159999999997,
          31.989599999999996,
          32.029039999999995,
          32.068479999999994,
          32.10792,
          32.14736,
          32.1868,
          32.22624,
          32.265679999999996,
          32.305119999999995,
          32.34456,
          32.384,
          32.42344,
          32.46288,
          32.50232,
          32.54176,
          32.581199999999995,
          32.620639999999995,
          32.66008,
          32.69951999999999,
          32.73896,
          32.7784,
          32.81784,
          32.857279999999996,
          32.89672,
          32.93616,
          32.9756,
          33.01504,
          33.05448,
          33.09392,
          33.133359999999996,
          33.172799999999995,
          33.212239999999994,
          33.25167999999999,
          33.29112,
          33.33056,
          33.37,
          33.40944,
          33.448879999999996,
          33.48832,
          33.52776,
          33.5672,
          33.60664,
          33.64608,
          33.68552,
          33.724959999999996,
          33.764399999999995,
          33.803839999999994,
          33.84327999999999,
          33.88272,
          33.92216,
          33.9616,
          34.001039999999996,
          34.04048,
          34.079919999999994,
          34.11936,
          34.1588,
          34.19824,
          34.23768,
          34.27712,
          34.316559999999996,
          34.355999999999995,
          34.395439999999994,
          34.43488,
          34.47432,
          34.51376,
          34.5532,
          34.59264,
          34.63208,
          34.67152,
          34.71096,
          34.7504,
          34.78984,
          34.82928,
          34.868719999999996,
          34.908159999999995,
          34.947599999999994,
          34.98704,
          35.02648,
          35.06591999999999,
          35.10536,
          35.1448,
          35.184239999999996,
          35.22368,
          35.26312,
          35.30256,
          35.342,
          35.38144,
          35.42088,
          35.460319999999996,
          35.499759999999995,
          35.539199999999994,
          35.57863999999999,
          35.61807999999999,
          35.65752,
          35.69696,
          35.736399999999996,
          35.77584,
          35.81528,
          35.85472,
          35.89416,
          35.9336,
          35.97304,
          36.01248,
          36.051919999999996,
          36.091359999999995,
          36.130799999999994,
          36.17023999999999,
          36.20968,
          36.24912,
          36.28856,
          36.328,
          36.36744,
          36.406879999999994,
          36.44632,
          36.48576,
          36.5252,
          36.56464,
          36.604079999999996,
          36.643519999999995,
          36.682959999999994,
          36.72239999999999,
          36.76184,
          36.80128,
          36.84072,
          36.88016,
          36.919599999999996,
          36.959039999999995,
          36.99848,
          37.03792,
          37.07736,
          37.1168,
          37.15624,
          37.195679999999996,
          37.235119999999995,
          37.274559999999994,
          37.314,
          37.35343999999999,
          37.39287999999999,
          37.43232,
          37.471759999999996,
          37.511199999999995,
          37.55064,
          37.59008,
          37.62952,
          37.66896,
          37.7084,
          37.74784,
          37.787279999999996,
          37.826719999999995,
          37.866159999999994,
          37.90559999999999,
          37.94503999999999,
          37.98448,
          38.02392,
          38.06336,
          38.1028,
          38.14224,
          38.18168,
          38.22112,
          38.26056
         ],
         "xaxis": "x",
         "y": [
          0.005653160519481634,
          0.005786379751732566,
          0.005920599837637457,
          0.006056038607262009,
          0.00619293669999476,
          0.006331556678563695,
          0.0064721819814321626,
          0.0066151157263650805,
          0.006760679379491678,
          0.006909211305453787,
          0.007061065215202099,
          0.007216608528660985,
          0.007376220669821113,
          0.007540291311823236,
          0.00770921858927782,
          0.007883407294421623,
          0.008063267072763548,
          0.008249210632641757,
          0.008441651981621058,
          0.008641004700948389,
          0.008847680267383974,
          0.009062086429685989,
          0.009284625644890817,
          0.009515693577350492,
          0.00975567766131548,
          0.010004955725732905,
          0.010263894677927703,
          0.010532849240986112,
          0.010812160738025437,
          0.011102155915146867,
          0.011403145793775047,
          0.011715424542314586,
          0.012039268356636193,
          0.012374934338852566,
          0.012722659364178816,
          0.013082658926385167,
          0.01345512595344822,
          0.013840229586467925,
          0.014238113916719086,
          0.014648896677823875,
          0.015072667892417024,
          0.015509488475290689,
          0.015959388797789638,
          0.016422367221134306,
          0.016898388609297196,
          0.017387382835006047,
          0.017889243295301345,
          0.018403825455790862,
          0.018930945445236956,
          0.01947037872432624,
          0.020021858854343946,
          0.020585076392947148,
          0.02115967794526083,
          0.021745265399057002,
          0.022341395372793824,
          0.022947578904767025,
          0.023563281410538397,
          0.024187922934165614,
          0.02482087871656229,
          0.025461480101600983,
          0.026109015797350935,
          0.02676273350617411,
          0.027421841933333933,
          0.02808551317936143,
          0.02875288551674943,
          0.029423066546684227,
          0.03009513672654967,
          0.030768153253961487,
          0.03144115428816443,
          0.0321131634848872,
          0.032783194816243116,
          0.03345025764311686,
          0.03411336200374211,
          0.03477152407893994,
          0.03542377179182985,
          0.0360691504977789,
          0.03670672871899638,
          0.03733560387752648,
          0.03795490798047662,
          0.038563813212142736,
          0.039161537389264756,
          0.03974734923794044,
          0.040320573453707584,
          0.0408805955099419,
          0.04142686618394365,
          0.04195890577482765,
          0.04247630799252355,
          0.042978743502722544,
          0.043465963118403804,
          0.04393780063450525,
          0.04439417530828148,
          0.0448350939937942,
          0.045260652944699525,
          0.04567103930490821,
          0.04606653231171263,
          0.04644750424046862,
          0.04681442112380878,
          0.04716784328155062,
          0.04750842569987063,
          0.04783691829986487,
          0.04815416613626514,
          0.048461109566768745,
          0.04875878443114516,
          0.049048322276980715,
          0.049330950665631285,
          0.049607993587643846,
          0.04988087201166685,
          0.0501511045846749,
          0.05042030849430792,
          0.05069020049627329,
          0.050962598101228274,
          0.051239420906403356,
          0.05152269204757273,
          0.05181453973694174,
          0.052117198842248066,
          0.05243301245196666,
          0.05276443336117188,
          0.053114025402445864,
          0.05348446453642399,
          0.053878539607295065,
          0.05429915265999257,
          0.05474931870808973,
          0.055232164834741,
          0.05575092850353435,
          0.05630895495202809,
          0.056909693538196755,
          0.05755669290915415,
          0.05825359486252136,
          0.05900412677378678,
          0.05981209246809192,
          0.06068136142219008,
          0.06161585619192712,
          0.06261953797258107,
          0.0636963902137774,
          0.06485040022752601,
          0.0660855387471226,
          0.06740573741624012,
          0.06881486421135119,
          0.07031669682657761,
          0.07191489407797479,
          0.07361296541391886,
          0.07541423864938115,
          0.07732182607421477,
          0.07933858911869814,
          0.08146710179317916,
          0.08370961315224879,
          0.0860680090669904,
          0.08854377362101844,
          0.0911379504766694,
          0.09385110458631513,
          0.09668328464974932,
          0.09963398674138123,
          0.10270211955001016,
          0.10588597168863231,
          0.10918318154160372,
          0.11259071012097988,
          0.116104817402563,
          0.11972104260471622,
          0.12343418885903314,
          0.12723831270126693,
          0.13112671878329427,
          0.13509196017243646,
          0.13912584456307459,
          0.14321944667745795,
          0.1473631270782212,
          0.1515465575547427,
          0.15575875317972854,
          0.15998811106187036,
          0.1642224557459571,
          0.16844909113423706,
          0.1726548587231326,
          0.1768262018686903,
          0.18094923571349733,
          0.18500982232840726,
          0.18899365054554604,
          0.19288631988588076,
          0.19667342791639714,
          0.20034066030985576,
          0.2038738828252101,
          0.20725923438031874,
          0.21048322035129644,
          0.2135328052058257,
          0.21639550356143117,
          0.21905946875489588,
          0.2215135780158558,
          0.2237475133564758,
          0.22575183731991677,
          0.22751806277289724,
          0.2290387159816315,
          0.23030739227522526,
          0.2313188036754433,
          0.2320688179557157,
          0.23255448868420223,
          0.2327740759043868,
          0.2327270572107906,
          0.23241412908529416,
          0.23183719846987177,
          0.23099936466257717,
          0.22990489173371245,
          0.22855917176677745,
          0.22696867933230752,
          0.2251409177006376,
          0.2230843573905675,
          0.22080836773343893,
          0.2183231422052693,
          0.215639618342147,
          0.21276939310539816,
          0.20972463460232205,
          0.2065179910952778,
          0.20316249824620794,
          0.19967148554537312,
          0.1960584828623829,
          0.19233712803476274,
          0.18852107637506205,
          0.1846239129324806,
          0.1806590682902088,
          0.17663973861603732,
          0.1725788106126291,
          0.16848879193628372,
          0.16438174757044058,
          0.16026924255393776,
          0.1561622913755699,
          0.1520713142570651,
          0.14800610045769672,
          0.1439757786465749,
          0.139988794304445,
          0.13605289403671034,
          0.1321751166044056,
          0.12836179041080786,
          0.12461853711911004,
          0.12095028102165856,
          0.11736126373414586,
          0.11385506374916489,
          0.11043462035282184,
          0.10710226138575506,
          0.10385973431567623,
          0.10070824008233067,
          0.09764846917713538,
          0.09468063942821381,
          0.09180453497660167,
          0.08901954595040643,
          0.08632470836992735,
          0.08371874384753519,
          0.08120009868061495,
          0.078766981973409,
          0.07641740246331871,
          0.0741492037684019,
          0.07196009781473645,
          0.06984769624426829,
          0.06780953964511995,
          0.06584312448652455,
          0.06394592767901715,
          0.062115428716830845,
          0.06034912939324867,
          0.058644571110583535,
          0.0569993498343277,
          0.0554111287656286,
          0.05387764882751622,
          0.05239673707820176,
          0.05096631317931754,
          0.04958439405825621,
          0.04824909691190421,
          0.046958640704258814,
          0.04571134631284699,
          0.04450563547877167,
          0.04334002871285685,
          0.04221314230603102,
          0.04112368458602273,
          0.04007045155497332,
          0.03905232203394529,
          0.03806825243080725,
          0.037117271237871764,
          0.036198473355186014,
          0.03531101432476961,
          0.03445410455054576,
          0.033627003568422666,
          0.03282901442110449,
          0.032059478182871776,
          0.03131776867090054,
          0.030603287371748594,
          0.029915458604514677,
          0.029253724935885503,
          0.028617542856872617,
          0.028006378726478712,
          0.027419704983824525,
          0.02685699662736649,
          0.026317727957697375,
          0.025801369578987578,
          0.02530738565332836,
          0.024835231401994673,
          0.024384350847885605,
          0.02395417479402405,
          0.023544119033936026,
          0.02315358279087542,
          0.02278194738414914,
          0.022428575122132862,
          0.0220928084228781,
          0.021773969164426425,
          0.021471358268000493,
          0.02118425551807784,
          0.020911919623920503,
          0.020653588527400055,
          0.020408479961883594,
          0.020175792266519325,
          0.019954705459463994,
          0.01974438257243425,
          0.01954397124744022,
          0.019352605594697463,
          0.01916940830853727,
          0.01899349303567337,
          0.01882396698749094,
          0.01865993378513089,
          0.01850049652312288,
          0.018344761034212887,
          0.01819183933491278,
          0.01804085322822187,
          0.017890938037005914,
          0.017741246438725964,
          0.017590952369653235,
          0.017439254964443453,
          0.017285382495031802,
          0.017128596271297095,
          0.016968194464871807,
          0.016803515816884485,
          0.016633943190336946,
          0.01645890692825974,
          0.01627788797977284,
          0.01609042075769502,
          0.015896095693395403,
          0.015694561457141955,
          0.015485526815248956,
          0.015268762098819062,
          0.015044100262774765,
          0.014811437518129576,
          0.014570733524989488,
          0.014322011138556806,
          0.014065355705341492,
          0.013800913911814289,
          0.013528892192777624,
          0.013249554711715605,
          0.01296322093023739,
          0.01267026278837688,
          0.012371101521893402,
          0.012066204146760347,
          0.011756079644681486,
          0.011441274886684425,
          0.011122370334561668,
          0.01079997556212845,
          0.010474724639915577,
          0.010147271427998546,
          0.009818284822166304,
          0.009488443998567108,
          0.009158433701328817,
          0.008828939616468438,
          0.008500643873699908,
          0.00817422071555483,
          0.007850332370591935,
          0.007529625164428739,
          0.007212725898941835,
          0.006900238526296171,
          0.006592741140549133,
          0.006290783305477715,
          0.005994883733072612,
          0.0057055283228762245,
          0.005423168568087322,
          0.005148220330153066,
          0.004881062979489698,
          0.004622038896050728,
          0.00437145331975245,
          0.004129574537302938,
          0.0038966343888033497,
          0.003672829074620084,
          0.0034583202404956013,
          0.003253236316681177,
          0.00305767408505595,
          0.0028717004467420214,
          0.002695354361639371,
          0.002528648930579487,
          0.0023715735904220932,
          0.002224096392384589,
          0.0020861663341767514,
          0.001957715717098136,
          0.0018386625001137454,
          0.0017289126240364369,
          0.0016283622802801636,
          0.0015369001001836646,
          0.0014544092426107443,
          0.001380769359384173,
          0.001315858420079577,
          0.0012595543797679152,
          0.001211736675426987,
          0.0011722875389206851,
          0.001141093116649145,
          0.0011180443881850753,
          0.0011030378784133278,
          0.0010959761598682317,
          0.0010967681441014436,
          0.0011053291630018002,
          0.0011215808430161973,
          0.0011454507771786952,
          0.0011768720017356759,
          0.001215782285950961,
          0.001262123245380213,
          0.0013158392905124544,
          0.0013768764241834735,
          0.0014451809025648084,
          0.0015206977758182646,
          0.0016033693256733428,
          0.0016931334182285266,
          0.0017899217911890235,
          0.0018936582955295348,
          0.0020042571122010655,
          0.0021216209649814275,
          0.0022456393508901453,
          0.002376186809745444,
          0.0025131212544240397,
          0.0026562823831901474,
          0.002805490195079622,
          0.002960543628756172,
          0.0031212193444926533,
          0.003287270667971116,
          0.0034584267134409007,
          0.0036343917024199675,
          0.003814844492583247,
          0.00399943832975122,
          0.004187800833983145,
          0.004379534228704928,
          0.004574215819572899,
          0.004771398727407938,
          0.004970612877051849,
          0.005171366241417509,
          0.005373146337353161,
          0.0055754219672452246,
          0.00577764519757147,
          0.005979253562919368,
          0.006179672481332698,
          0.006378317864277986,
          0.0065745989020635975,
          0.006767921003232396,
          0.00695768886431441,
          0.007143309644406125,
          0.007324196217360812,
          0.007499770472965435,
          0.0076694666373636105,
          0.007832734582186756,
          0.007989043091394242,
          0.008137883054712271,
          0.008278770556811895,
          0.008411249831981356,
          0.008534896055031422,
          0.008649317940513983,
          0.008754160124028978,
          0.008849105301423178,
          0.008933876104027554,
          0.009008236690711104,
          0.009071994040419777,
          0.009124998931980597,
          0.00916714660124949,
          0.009198377069120809,
          0.009218675137454682,
          0.009228070053567237,
          0.009226634847521193,
          0.009214485350001182,
          0.009191778902011258,
          0.009158712770944032,
          0.009115522290696235,
          0.009062478746400872,
          0.008999887026972304,
          0.008928083070980966,
          0.008847431133358492,
          0.008758320902055057,
          0.008661164495008315,
          0.008556393368622234,
          0.008444455169386833,
          0.008325810560292322,
          0.00820093005330886,
          0.008070290878425507,
          0.007934373918584798,
          0.00779366073833677,
          0.007648630732190912,
          0.007499758416504751,
          0.00734751088634435,
          0.007192345456127763,
          0.0070347075000592296,
          0.006875028505425878,
          0.006713724348802694,
          0.006551193802147229,
          0.006387817272704107,
          0.006223955777630107,
          0.00605995015133448,
          0.005896120480748154,
          0.005732765761126668,
          0.005570163762588494,
          0.005408571095424236,
          0.0052482234603037,
          0.005089336067882573,
          0.004932104210975965,
          0.0047767039714388575,
          0.0046232930431696784,
          0.004472011652238802
         ],
         "yaxis": "y"
        },
        {
         "fill": "tozeroy",
         "hovertemplate": "<b>Synthetic</b><br>Frequency: %{y}<extra></extra>",
         "legendgroup": "Synthetic",
         "marker": {
          "color": "#01E0C9"
         },
         "mode": "lines",
         "name": "Synthetic",
         "showlegend": true,
         "type": "scatter",
         "x": [
          12.363556816381138,
          12.403775735621533,
          12.44399465486193,
          12.484213574102325,
          12.52443249334272,
          12.564651412583116,
          12.604870331823513,
          12.645089251063908,
          12.685308170304303,
          12.725527089544698,
          12.765746008785095,
          12.80596492802549,
          12.846183847265886,
          12.886402766506281,
          12.926621685746678,
          12.966840604987073,
          13.007059524227468,
          13.047278443467864,
          13.08749736270826,
          13.127716281948656,
          13.167935201189051,
          13.208154120429446,
          13.248373039669843,
          13.288591958910239,
          13.328810878150634,
          13.369029797391029,
          13.409248716631426,
          13.449467635871821,
          13.489686555112216,
          13.529905474352612,
          13.570124393593009,
          13.610343312833404,
          13.6505622320738,
          13.690781151314194,
          13.73100007055459,
          13.771218989794987,
          13.811437909035382,
          13.851656828275777,
          13.891875747516174,
          13.93209466675657,
          13.972313585996964,
          14.01253250523736,
          14.052751424477755,
          14.092970343718152,
          14.133189262958547,
          14.173408182198942,
          14.21362710143934,
          14.253846020679735,
          14.29406493992013,
          14.334283859160525,
          14.37450277840092,
          14.414721697641317,
          14.454940616881713,
          14.49515953612211,
          14.535378455362505,
          14.5755973746029,
          14.615816293843295,
          14.65603521308369,
          14.696254132324087,
          14.736473051564483,
          14.776691970804878,
          14.816910890045273,
          14.85712980928567,
          14.897348728526065,
          14.93756764776646,
          14.977786567006856,
          15.018005486247253,
          15.058224405487648,
          15.098443324728043,
          15.138662243968438,
          15.178881163208835,
          15.21910008244923,
          15.259319001689626,
          15.299537920930021,
          15.339756840170418,
          15.379975759410813,
          15.420194678651209,
          15.460413597891604,
          15.500632517132,
          15.540851436372396,
          15.581070355612791,
          15.621289274853186,
          15.661508194093582,
          15.701727113333979,
          15.741946032574374,
          15.78216495181477,
          15.822383871055166,
          15.862602790295561,
          15.902821709535957,
          15.943040628776352,
          15.983259548016747,
          16.023478467257142,
          16.06369738649754,
          16.103916305737936,
          16.14413522497833,
          16.184354144218727,
          16.224573063459122,
          16.264791982699517,
          16.305010901939912,
          16.34522982118031,
          16.385448740420706,
          16.4256676596611,
          16.465886578901497,
          16.506105498141892,
          16.546324417382287,
          16.586543336622682,
          16.626762255863078,
          16.666981175103473,
          16.707200094343868,
          16.747419013584267,
          16.787637932824662,
          16.827856852065057,
          16.868075771305453,
          16.908294690545848,
          16.948513609786243,
          16.98873252902664,
          17.028951448267037,
          17.069170367507432,
          17.109389286747827,
          17.149608205988223,
          17.189827125228618,
          17.230046044469013,
          17.27026496370941,
          17.310483882949804,
          17.3507028021902,
          17.390921721430598,
          17.431140640670993,
          17.471359559911388,
          17.511578479151783,
          17.55179739839218,
          17.592016317632577,
          17.632235236872972,
          17.672454156113368,
          17.712673075353763,
          17.752891994594158,
          17.793110913834553,
          17.83332983307495,
          17.873548752315344,
          17.91376767155574,
          17.953986590796134,
          17.99420551003653,
          18.03442442927693,
          18.074643348517323,
          18.11486226775772,
          18.155081186998114,
          18.19530010623851,
          18.235519025478908,
          18.275737944719303,
          18.3159568639597,
          18.356175783200094,
          18.39639470244049,
          18.436613621680884,
          18.47683254092128,
          18.517051460161674,
          18.55727037940207,
          18.597489298642465,
          18.637708217882864,
          18.67792713712326,
          18.718146056363654,
          18.75836497560405,
          18.798583894844445,
          18.83880281408484,
          18.87902173332524,
          18.919240652565634,
          18.95945957180603,
          18.999678491046424,
          19.03989741028682,
          19.080116329527215,
          19.12033524876761,
          19.160554168008005,
          19.2007730872484,
          19.240992006488796,
          19.281210925729194,
          19.32142984496959,
          19.361648764209985,
          19.40186768345038,
          19.442086602690775,
          19.482305521931174,
          19.522524441171566,
          19.562743360411964,
          19.60296227965236,
          19.643181198892755,
          19.68340011813315,
          19.723619037373545,
          19.76383795661394,
          19.804056875854336,
          19.84427579509473,
          19.884494714335126,
          19.924713633575525,
          19.96493255281592,
          20.005151472056315,
          20.04537039129671,
          20.085589310537106,
          20.1258082297775,
          20.166027149017896,
          20.206246068258295,
          20.24646498749869,
          20.286683906739086,
          20.32690282597948,
          20.367121745219876,
          20.40734066446027,
          20.447559583700667,
          20.48777850294106,
          20.527997422181457,
          20.568216341421856,
          20.608435260662247,
          20.648654179902646,
          20.68887309914304,
          20.72909201838344,
          20.769310937623835,
          20.80952985686423,
          20.849748776104626,
          20.88996769534502,
          20.930186614585416,
          20.97040553382581,
          21.010624453066207,
          21.050843372306602,
          21.091062291546997,
          21.131281210787392,
          21.171500130027788,
          21.211719049268183,
          21.25193796850858,
          21.292156887748977,
          21.332375806989376,
          21.372594726229767,
          21.412813645470166,
          21.45303256471056,
          21.493251483950957,
          21.53347040319135,
          21.573689322431747,
          21.613908241672142,
          21.654127160912537,
          21.694346080152933,
          21.734564999393328,
          21.774783918633723,
          21.81500283787412,
          21.855221757114517,
          21.895440676354912,
          21.935659595595308,
          21.975878514835703,
          22.0160974340761,
          22.056316353316497,
          22.09653527255689,
          22.136754191797287,
          22.176973111037682,
          22.217192030278078,
          22.257410949518473,
          22.297629868758868,
          22.337848787999263,
          22.37806770723966,
          22.418286626480054,
          22.458505545720453,
          22.498724464960844,
          22.538943384201243,
          22.579162303441638,
          22.619381222682037,
          22.659600141922432,
          22.699819061162824,
          22.740037980403223,
          22.780256899643618,
          22.820475818884013,
          22.86069473812441,
          22.900913657364804,
          22.9411325766052,
          22.981351495845594,
          23.02157041508599,
          23.061789334326384,
          23.10200825356678,
          23.14222717280718,
          23.182446092047574,
          23.222665011287972,
          23.262883930528364,
          23.30310284976876,
          23.343321769009158,
          23.383540688249553,
          23.42375960748995,
          23.463978526730344,
          23.50419744597074,
          23.544416365211134,
          23.58463528445153,
          23.624854203691925,
          23.66507312293232,
          23.705292042172715,
          23.745510961413114,
          23.78572988065351,
          23.8259487998939,
          23.8661677191343,
          23.906386638374695,
          23.946605557615094,
          23.986824476855485,
          24.027043396095884,
          24.06726231533628,
          24.107481234576674,
          24.14770015381707,
          24.187919073057465,
          24.22813799229786,
          24.268356911538255,
          24.30857583077865,
          24.34879475001905,
          24.38901366925944,
          24.429232588499836,
          24.469451507740235,
          24.50967042698063,
          24.54988934622103,
          24.59010826546142,
          24.63032718470182,
          24.670546103942215,
          24.71076502318261,
          24.750983942423005,
          24.7912028616634,
          24.831421780903796,
          24.87164070014419,
          24.911859619384586,
          24.95207853862498,
          24.992297457865376,
          25.03251637710577,
          25.07273529634617,
          25.112954215586566,
          25.15317313482696,
          25.193392054067356,
          25.233610973307755,
          25.27382989254815,
          25.314048811788545,
          25.35426773102894,
          25.394486650269336,
          25.43470556950973,
          25.474924488750126,
          25.51514340799052,
          25.555362327230917,
          25.595581246471312,
          25.635800165711707,
          25.676019084952106,
          25.716238004192498,
          25.756456923432896,
          25.79667584267329,
          25.83689476191369,
          25.877113681154082,
          25.91733260039448,
          25.957551519634876,
          25.99777043887527,
          26.037989358115667,
          26.07820827735606,
          26.118427196596457,
          26.158646115836852,
          26.198865035077247,
          26.239083954317643,
          26.279302873558038,
          26.319521792798433,
          26.359740712038832,
          26.399959631279227,
          26.440178550519626,
          26.480397469760018,
          26.520616389000416,
          26.56083530824081,
          26.601054227481207,
          26.641273146721602,
          26.681492065961997,
          26.721710985202392,
          26.761929904442788,
          26.802148823683183,
          26.842367742923578,
          26.882586662163973,
          26.92280558140437,
          26.963024500644767,
          27.003243419885163,
          27.043462339125558,
          27.083681258365953,
          27.12390017760635,
          27.164119096846747,
          27.204338016087142,
          27.244556935327537,
          27.284775854567933,
          27.324994773808328,
          27.365213693048723,
          27.40543261228912,
          27.445651531529514,
          27.48587045076991,
          27.526089370010304,
          27.566308289250703,
          27.606527208491094,
          27.646746127731493,
          27.68696504697189,
          27.727183966212287,
          27.76740288545268,
          27.807621804693074,
          27.847840723933473,
          27.888059643173868,
          27.928278562414263,
          27.96849748165466,
          28.008716400895054,
          28.04893532013545,
          28.089154239375844,
          28.12937315861624,
          28.169592077856635,
          28.20981099709703,
          28.25002991633743,
          28.290248835577824,
          28.330467754818223,
          28.370686674058614,
          28.41090559329901,
          28.451124512539405,
          28.4913434317798,
          28.5315623510202,
          28.571781270260594,
          28.61200018950099,
          28.652219108741384,
          28.69243802798178,
          28.732656947222175,
          28.772875866462574,
          28.81309478570297,
          28.85331370494336,
          28.89353262418376,
          28.933751543424155,
          28.97397046266455,
          29.014189381904945,
          29.05440830114534,
          29.09462722038574,
          29.13484613962613,
          29.17506505886653,
          29.215283978106925,
          29.25550289734732,
          29.295721816587715,
          29.33594073582811,
          29.376159655068506,
          29.416378574308904,
          29.456597493549296,
          29.496816412789695,
          29.53703533203009,
          29.57725425127048,
          29.61747317051088,
          29.657692089751276,
          29.697911008991674,
          29.738129928232066,
          29.77834884747246,
          29.81856776671286,
          29.858786685953255,
          29.89900560519365,
          29.939224524434046,
          29.97944344367444,
          30.01966236291484,
          30.05988128215523,
          30.10010020139563,
          30.140319120636025,
          30.180538039876417,
          30.220756959116816,
          30.26097587835721,
          30.30119479759761,
          30.341413716838,
          30.381632636078397,
          30.421851555318796,
          30.46207047455919,
          30.502289393799582,
          30.54250831303998,
          30.582727232280376,
          30.622946151520775,
          30.663165070761167,
          30.703383990001562,
          30.74360290924196,
          30.783821828482353,
          30.82404074772275,
          30.864259666963147,
          30.904478586203542,
          30.944697505443937,
          30.984916424684332,
          31.02513534392473,
          31.065354263165126,
          31.105573182405518,
          31.145792101645917,
          31.186011020886312,
          31.22622994012671,
          31.266448859367102,
          31.306667778607498,
          31.346886697847896,
          31.387105617088288,
          31.427324536328687,
          31.467543455569082,
          31.507762374809477,
          31.547981294049873,
          31.588200213290268,
          31.628419132530667,
          31.66863805177106,
          31.708856971011453,
          31.749075890251852,
          31.789294809492247,
          31.82951372873264,
          31.869732647973038,
          31.909951567213433,
          31.950170486453832,
          31.990389405694224,
          32.03060832493462,
          32.07082724417502,
          32.11104616341541,
          32.15126508265581,
          32.1914840018962,
          32.2317029211366,
          32.271921840377,
          32.31214075961739,
          32.35235967885779,
          32.39257859809818,
          32.43279751733857
         ],
         "xaxis": "x",
         "y": [
          0.005022522505595939,
          0.0052167335415594885,
          0.005416505979781643,
          0.005621865280601339,
          0.005832825144656598,
          0.006049386806994651,
          0.006271538364640601,
          0.006499254144087773,
          0.006732494115117677,
          0.00697120335723767,
          0.00721531158484106,
          0.007464732736944861,
          0.0077193646370476935,
          0.007979088728273121,
          0.008243769888526245,
          0.00851325632989479,
          0.008787379585974864,
          0.00906595459019927,
          0.009348779847598925,
          0.009635637701740082,
          0.00992629469785884,
          0.010220502042465676,
          0.010517996158924743,
          0.010818499337732749,
          0.011121720479437385,
          0.011427355927355333,
          0.011735090386481992,
          0.012044597924237399,
          0.012355543047974673,
          0.012667581853494848,
          0.012980363238175096,
          0.013293530171731079,
          0.013606721017107047,
          0.013919570893523981,
          0.01423171307332361,
          0.014542780403927716,
          0.014852406745992223,
          0.015160228418678201,
          0.01546588564288658,
          0.015769023973313995,
          0.016069295710282677,
          0.01636636128247507,
          0.016659890591966497,
          0.016949564313287813,
          0.01723507513866723,
          0.01751612896208584,
          0.017792445995333972,
          0.018063761809866113,
          0.018329828298915475,
          0.018590414555036676,
          0.01884530765898967,
          0.019094313376650584,
          0.019337256761427033,
          0.019573982660458615,
          0.01980435612368752,
          0.020028262715682036,
          0.020245608730877163,
          0.020456321313654477,
          0.020660348485408677,
          0.020857659081434065,
          0.021048242601103606,
          0.021232108975399334,
          0.021409288256381064,
          0.021579830233644876,
          0.021743803983221018,
          0.021901297354688095,
          0.022052416402536437,
          0.02219728476799539,
          0.022336043017648455,
          0.022468847945195478,
          0.022595871842685883,
          0.022717301747442797,
          0.02283333867072661,
          0.022944196813955955,
          0.02305010277801365,
          0.02315129477082474,
          0.02324802181800602,
          0.023340542980959104,
          0.023429126586318176,
          0.02351404947017551,
          0.02359559624000054,
          0.023674058556647382,
          0.023749734438319597,
          0.02382292758783486,
          0.02389394674401452,
          0.023963105057518957,
          0.024030719490964168,
          0.02409711024269791,
          0.024162600193182796,
          0.024227514372542936,
          0.02429217944747407,
          0.024356923225406994,
          0.024422074173546377,
          0.024487960950188247,
          0.024554911945549637,
          0.024623254829222358,
          0.024693316101293838,
          0.02476542064415617,
          0.024839891272053865,
          0.02491704827549626,
          0.024997208957781205,
          0.02508068716104231,
          0.02516779277943666,
          0.025258831257331162,
          0.025354103070623135,
          0.025453903189636192,
          0.025558520522364687,
          0.025668237337196028,
          0.02578332866461098,
          0.025904061677751042,
          0.026030695052136846,
          0.02616347830522427,
          0.02630265111688868,
          0.026448442632328602,
          0.026601070749274577,
          0.0267607413917743,
          0.026927647773196263,
          0.027101969651447733,
          0.027283872579738994,
          0.027473507156535584,
          0.027671008278628485,
          0.027876494401509473,
          0.02809006681146787,
          0.02831180891402212,
          0.028541785543461866,
          0.028780042298405,
          0.02902660490836604,
          0.029281478636385794,
          0.029544647722790498,
          0.02981607487512393,
          0.030095700809237434,
          0.030383443846419732,
          0.03067919957131074,
          0.030982840555163003,
          0.03129421614879907,
          0.031613152349355654,
          0.0319394517446158,
          0.032272893538399544,
          0.03261323366012278,
          0.032960204961236854,
          0.0333135175008339,
          0.03367285892224689,
          0.03403789492198784,
          0.034408269811860556,
          0.034783607174551104,
          0.03516351061245089,
          0.03554756458889958,
          0.03593533536045881,
          0.03632637199823719,
          0.03672020749569827,
          0.03711635995978685,
          0.0375143338816223,
          0.03791362148242425,
          0.03831370412976775,
          0.03871405381871361,
          0.0391141347118298,
          0.039513404731618254,
          0.03991131719838998,
          0.04030732250619982,
          0.04070086982905801,
          0.041091408849292015,
          0.041478391499636315,
          0.04186127371038815,
          0.04223951715278616,
          0.04261259096965116,
          0.04297997348427378,
          0.04334115387855286,
          0.04369563383147232,
          0.04404292910916521,
          0.044382571098047406,
          0.044714108272811456,
          0.045037107591451554,
          0.04535115580995025,
          0.04565586070978197,
          0.045950852231990205,
          0.04623578351225824,
          0.0465103318121242,
          0.0467741993422793,
          0.04702711397473048,
          0.04726882984150024,
          0.04749912781847011,
          0.047717815893942056,
          0.04792472942248938,
          0.04811973126568217,
          0.048302711822301156,
          0.04847358895168104,
          0.04863230779484398,
          0.04877884049909169,
          0.04891318585269806,
          0.04903536883728776,
          0.04914544010638186,
          0.04924347539942778,
          0.049329574901409226,
          0.04940386255882709,
          0.04946648536346212,
          0.049517612615853066,
          0.04955743518084961,
          0.04958616474792014,
          0.04960403310909801,
          0.04961129146754021,
          0.0496082097896355,
          0.049595076213436645,
          0.049572196525900364,
          0.049539893720993336,
          0.049498507650167146,
          0.04944839477601714,
          0.049389928039121116,
          0.04932349684710776,
          0.04924950719393339,
          0.04916838191615812,
          0.04908056109170582,
          0.04898650258518756,
          0.048886682742357385,
          0.048781597234675365,
          0.04867176205327675,
          0.0485577146499032,
          0.04844001522055302,
          0.048319248125764415,
          0.04819602343957137,
          0.04807097861728298,
          0.04794478027034378,
          0.04781812603465178,
          0.04769174651686004,
          0.04756640730137535,
          0.04744291099901788,
          0.0473220993166268,
          0.047204855125307685,
          0.04709210450353501,
          0.04698481872995795,
          0.04688401619952794,
          0.046790764235486615,
          0.046706180768834975,
          0.04663143585616338,
          0.04656775300616903,
          0.04651641028483745,
          0.04647874116912265,
          0.046456135119044034,
          0.046450037838430776,
          0.04646195119509345,
          0.04649343277200356,
          0.04654609502210395,
          0.046621604000678815,
          0.04672167765076838,
          0.04684808361893239,
          0.04700263658073784,
          0.047187195057680174,
          0.04740365770982079,
          0.04765395909125439,
          0.047940064858575465,
          0.04826396642580406,
          0.04862767506273024,
          0.04903321543734057,
          0.04948261860687372,
          0.04997791446610574,
          0.05052112366565843,
          0.051114249017445004,
          0.05175926640877947,
          0.0524581152511629,
          0.05321268849428302,
          0.05402482224030217,
          0.05489628499801837,
          0.05582876662094565,
          0.05682386697771627,
          0.05788308440744872,
          0.059007804016786444,
          0.060199285879174495,
          0.061458653200554866,
          0.06278688051899056,
          0.06418478200873272,
          0.06565299996188807,
          0.06719199352308704,
          0.06880202775435379,
          0.07048316310872149,
          0.07223524539195858,
          0.07405789629207706,
          0.07595050455603285,
          0.07791221789218133,
          0.07994193567561216,
          0.08203830253142824,
          0.08419970286834876,
          0.08642425643170039,
          0.08870981494091995,
          0.09105395987212057,
          0.0934540014410972,
          0.09590697883637048,
          0.09840966174553237,
          0.10095855321126443,
          0.10354989384602381,
          0.10617966742654461,
          0.10884360788103487,
          0.11153720767334774,
          0.11425572757946283,
          0.1169942078424868,
          0.11974748068303091,
          0.12251018413241709,
          0.12527677714671542,
          0.12804155595022376,
          0.1307986715477484,
          0.13354214833600223,
          0.1362659037356877,
          0.13896376875746913,
          0.14162950940711078,
          0.14425684882767287,
          0.14683949006987818,
          0.14937113937563232,
          0.151845529854321,
          0.15425644542690356,
          0.1565977449091063,
          0.1588633861021546,
          0.16104744975758206,
          0.16314416328169892,
          0.16514792404532383,
          0.16705332216541066,
          0.16885516262722045,
          0.17054848661869595,
          0.17212859195268437,
          0.17359105245758866,
          0.17493173622288788,
          0.17614682259268769,
          0.17723281780802208,
          0.17818656920694162,
          0.1790052779004376,
          0.17968650985189608,
          0.18022820529795297,
          0.18062868645927657,
          0.18088666350081634,
          0.18100123871235152,
          0.1809719088916681,
          0.18079856592424653,
          0.1804814955649234,
          0.18002137443843347,
          0.17941926528701563,
          0.17867661050422043,
          0.17779522400465936,
          0.1767772814895588,
          0.1756253091775619,
          0.17434217107919836,
          0.17293105490171837,
          0.17139545667853615,
          0.1697391642242748,
          0.16796623952231618,
          0.1660810001567993,
          0.1640879999051488,
          0.16199200861043556,
          0.1597979914551772,
          0.15751108775954462,
          0.1551365894273993,
          0.15267991916314155,
          0.1501466085810171,
          0.14754227632636277,
          0.1448726063252934,
          0.14214332627560303,
          0.13936018648718626,
          0.13652893917521403,
          0.1336553183035665,
          0.13074502006983157,
          0.12780368411646995,
          0.12483687554566553,
          0.12185006780797868,
          0.11884862652724823,
          0.11583779431634399,
          0.11282267663041073,
          0.10980822869623506,
          0.10679924354837692,
          0.10380034119480414,
          0.10081595892699538,
          0.0978503427819236,
          0.09490754015600031,
          0.09199139356405457,
          0.08910553552972998,
          0.08625338458739645,
          0.08343814236976614,
          0.08066279174997011,
          0.07793009600184807,
          0.07524259893769851,
          0.07260262597871557,
          0.07001228610981479,
          0.06747347466752858,
          0.06498787690713025,
          0.06255697229311719,
          0.06018203945563189,
          0.0578641617543327,
          0.05560423339059341,
          0.05340296600872217,
          0.05126089572711512,
          0.049178390540858805,
          0.047155658038267434,
          0.04519275337513274,
          0.043289587452072384,
          0.04144593524223004,
          0.03966144421870143,
          0.03793564283338761,
          0.03626794900149271,
          0.0346576785485433,
          0.03310405357959944,
          0.031606210733209406,
          0.03016320928561035,
          0.028774039073673926,
          0.027437628208108182,
          0.026152850551426108,
          0.024918532938182757,
          0.023733462117901942,
          0.022596391403991375,
          0.021506047014726956,
          0.020461134095078406,
          0.019460342410733276,
          0.01850235170813787,
          0.017585836736708983,
          0.016709471931569558,
          0.01587193575721716,
          0.015071914714443206,
          0.014308107014582096,
          0.013579225926776097,
          0.012884002805397667,
          0.012221189806078489,
          0.011589562299947167,
          0.0109879209966893,
          0.010415093787909746,
          0.009869937323004872,
          0.009351338330351818,
          0.008858214697086605,
          0.008389516321096682,
          0.007944225749085647,
          0.007521358614699022,
          0.007119963890728822,
          0.00673912396935586,
          0.006377954584241574,
          0.0060356045880646855,
          0.00571125559880645,
          0.005404121527743334,
          0.00511344800170415,
          0.004838511691701575,
          0.004578619559566807,
          0.004333108033697532,
          0.004101342124492307,
          0.003882714489483573,
          0.003676644457611042,
          0.0034825770214990943,
          0.003299981806019091,
          0.0031283520208403616,
          0.002967203404099969,
          0.0028160731637589557,
          0.0026745189226644933,
          0.002542117672802536,
          0.0024184647437124566,
          0.0023031727895399695,
          0.002195870798732009,
          0.0020962031299286464,
          0.0020038285771807117,
          0.0019184194672213224,
          0.0018396607911416645,
          0.0017672493724696103,
          0.0017008930733197676,
          0.0016403100399784314,
          0.0015852279890021601,
          0.0015353835346466756,
          0.001490521558199262,
          0.001450394619563959,
          0.001414762411241337,
          0.0013833912546534753,
          0.001356053638587817,
          0.00133252779936927,
          0.001312597342217695,
          0.0012960509031055445,
          0.0012826818502972986,
          0.0012722880246270872,
          0.0012646715174526885,
          0.001259638485111862,
          0.0012569989986002787,
          0.0012565669270884214,
          0.0012581598537973891,
          0.0012615990226603907,
          0.0012667093141076693,
          0.0012733192482277892,
          0.0012812610134778643,
          0.0012903705190396816,
          0.0013004874688483264,
          0.0013114554552553016,
          0.0013231220702299726,
          0.0013353390319521344,
          0.0013479623246053097,
          0.0013608523491459067,
          0.0013738740827982318,
          0.0013868972450104913,
          0.0013997964676029317,
          0.0014124514668468152,
          0.0014247472152327232,
          0.0014365741107190992,
          0.0014478281412973304,
          0.0014584110427685194,
          0.0014682304476991502,
          0.0014772000236085532,
          0.001485239598539777,
          0.0014922752722771801,
          0.0014982395115982002,
          0.001503071228082457,
          0.0015067158371483134,
          0.0015091252971435472,
          0.0015102581274826468,
          0.0015100794049964237
         ],
         "yaxis": "y"
        }
       ],
       "layout": {
        "barmode": "overlay",
        "font": {
         "size": 18
        },
        "hovermode": "closest",
        "legend": {
         "traceorder": "reversed"
        },
        "plot_bgcolor": "#F5F5F8",
        "template": {
         "data": {
          "bar": [
           {
            "error_x": {
             "color": "#2a3f5f"
            },
            "error_y": {
             "color": "#2a3f5f"
            },
            "marker": {
             "line": {
              "color": "#E5ECF6",
              "width": 0.5
             },
             "pattern": {
              "fillmode": "overlay",
              "size": 10,
              "solidity": 0.2
             }
            },
            "type": "bar"
           }
          ],
          "barpolar": [
           {
            "marker": {
             "line": {
              "color": "#E5ECF6",
              "width": 0.5
             },
             "pattern": {
              "fillmode": "overlay",
              "size": 10,
              "solidity": 0.2
             }
            },
            "type": "barpolar"
           }
          ],
          "carpet": [
           {
            "aaxis": {
             "endlinecolor": "#2a3f5f",
             "gridcolor": "white",
             "linecolor": "white",
             "minorgridcolor": "white",
             "startlinecolor": "#2a3f5f"
            },
            "baxis": {
             "endlinecolor": "#2a3f5f",
             "gridcolor": "white",
             "linecolor": "white",
             "minorgridcolor": "white",
             "startlinecolor": "#2a3f5f"
            },
            "type": "carpet"
           }
          ],
          "choropleth": [
           {
            "colorbar": {
             "outlinewidth": 0,
             "ticks": ""
            },
            "type": "choropleth"
           }
          ],
          "contour": [
           {
            "colorbar": {
             "outlinewidth": 0,
             "ticks": ""
            },
            "colorscale": [
             [
              0,
              "#0d0887"
             ],
             [
              0.1111111111111111,
              "#46039f"
             ],
             [
              0.2222222222222222,
              "#7201a8"
             ],
             [
              0.3333333333333333,
              "#9c179e"
             ],
             [
              0.4444444444444444,
              "#bd3786"
             ],
             [
              0.5555555555555556,
              "#d8576b"
             ],
             [
              0.6666666666666666,
              "#ed7953"
             ],
             [
              0.7777777777777778,
              "#fb9f3a"
             ],
             [
              0.8888888888888888,
              "#fdca26"
             ],
             [
              1,
              "#f0f921"
             ]
            ],
            "type": "contour"
           }
          ],
          "contourcarpet": [
           {
            "colorbar": {
             "outlinewidth": 0,
             "ticks": ""
            },
            "type": "contourcarpet"
           }
          ],
          "heatmap": [
           {
            "colorbar": {
             "outlinewidth": 0,
             "ticks": ""
            },
            "colorscale": [
             [
              0,
              "#0d0887"
             ],
             [
              0.1111111111111111,
              "#46039f"
             ],
             [
              0.2222222222222222,
              "#7201a8"
             ],
             [
              0.3333333333333333,
              "#9c179e"
             ],
             [
              0.4444444444444444,
              "#bd3786"
             ],
             [
              0.5555555555555556,
              "#d8576b"
             ],
             [
              0.6666666666666666,
              "#ed7953"
             ],
             [
              0.7777777777777778,
              "#fb9f3a"
             ],
             [
              0.8888888888888888,
              "#fdca26"
             ],
             [
              1,
              "#f0f921"
             ]
            ],
            "type": "heatmap"
           }
          ],
          "heatmapgl": [
           {
            "colorbar": {
             "outlinewidth": 0,
             "ticks": ""
            },
            "colorscale": [
             [
              0,
              "#0d0887"
             ],
             [
              0.1111111111111111,
              "#46039f"
             ],
             [
              0.2222222222222222,
              "#7201a8"
             ],
             [
              0.3333333333333333,
              "#9c179e"
             ],
             [
              0.4444444444444444,
              "#bd3786"
             ],
             [
              0.5555555555555556,
              "#d8576b"
             ],
             [
              0.6666666666666666,
              "#ed7953"
             ],
             [
              0.7777777777777778,
              "#fb9f3a"
             ],
             [
              0.8888888888888888,
              "#fdca26"
             ],
             [
              1,
              "#f0f921"
             ]
            ],
            "type": "heatmapgl"
           }
          ],
          "histogram": [
           {
            "marker": {
             "pattern": {
              "fillmode": "overlay",
              "size": 10,
              "solidity": 0.2
             }
            },
            "type": "histogram"
           }
          ],
          "histogram2d": [
           {
            "colorbar": {
             "outlinewidth": 0,
             "ticks": ""
            },
            "colorscale": [
             [
              0,
              "#0d0887"
             ],
             [
              0.1111111111111111,
              "#46039f"
             ],
             [
              0.2222222222222222,
              "#7201a8"
             ],
             [
              0.3333333333333333,
              "#9c179e"
             ],
             [
              0.4444444444444444,
              "#bd3786"
             ],
             [
              0.5555555555555556,
              "#d8576b"
             ],
             [
              0.6666666666666666,
              "#ed7953"
             ],
             [
              0.7777777777777778,
              "#fb9f3a"
             ],
             [
              0.8888888888888888,
              "#fdca26"
             ],
             [
              1,
              "#f0f921"
             ]
            ],
            "type": "histogram2d"
           }
          ],
          "histogram2dcontour": [
           {
            "colorbar": {
             "outlinewidth": 0,
             "ticks": ""
            },
            "colorscale": [
             [
              0,
              "#0d0887"
             ],
             [
              0.1111111111111111,
              "#46039f"
             ],
             [
              0.2222222222222222,
              "#7201a8"
             ],
             [
              0.3333333333333333,
              "#9c179e"
             ],
             [
              0.4444444444444444,
              "#bd3786"
             ],
             [
              0.5555555555555556,
              "#d8576b"
             ],
             [
              0.6666666666666666,
              "#ed7953"
             ],
             [
              0.7777777777777778,
              "#fb9f3a"
             ],
             [
              0.8888888888888888,
              "#fdca26"
             ],
             [
              1,
              "#f0f921"
             ]
            ],
            "type": "histogram2dcontour"
           }
          ],
          "mesh3d": [
           {
            "colorbar": {
             "outlinewidth": 0,
             "ticks": ""
            },
            "type": "mesh3d"
           }
          ],
          "parcoords": [
           {
            "line": {
             "colorbar": {
              "outlinewidth": 0,
              "ticks": ""
             }
            },
            "type": "parcoords"
           }
          ],
          "pie": [
           {
            "automargin": true,
            "type": "pie"
           }
          ],
          "scatter": [
           {
            "fillpattern": {
             "fillmode": "overlay",
             "size": 10,
             "solidity": 0.2
            },
            "type": "scatter"
           }
          ],
          "scatter3d": [
           {
            "line": {
             "colorbar": {
              "outlinewidth": 0,
              "ticks": ""
             }
            },
            "marker": {
             "colorbar": {
              "outlinewidth": 0,
              "ticks": ""
             }
            },
            "type": "scatter3d"
           }
          ],
          "scattercarpet": [
           {
            "marker": {
             "colorbar": {
              "outlinewidth": 0,
              "ticks": ""
             }
            },
            "type": "scattercarpet"
           }
          ],
          "scattergeo": [
           {
            "marker": {
             "colorbar": {
              "outlinewidth": 0,
              "ticks": ""
             }
            },
            "type": "scattergeo"
           }
          ],
          "scattergl": [
           {
            "marker": {
             "colorbar": {
              "outlinewidth": 0,
              "ticks": ""
             }
            },
            "type": "scattergl"
           }
          ],
          "scattermapbox": [
           {
            "marker": {
             "colorbar": {
              "outlinewidth": 0,
              "ticks": ""
             }
            },
            "type": "scattermapbox"
           }
          ],
          "scatterpolar": [
           {
            "marker": {
             "colorbar": {
              "outlinewidth": 0,
              "ticks": ""
             }
            },
            "type": "scatterpolar"
           }
          ],
          "scatterpolargl": [
           {
            "marker": {
             "colorbar": {
              "outlinewidth": 0,
              "ticks": ""
             }
            },
            "type": "scatterpolargl"
           }
          ],
          "scatterternary": [
           {
            "marker": {
             "colorbar": {
              "outlinewidth": 0,
              "ticks": ""
             }
            },
            "type": "scatterternary"
           }
          ],
          "surface": [
           {
            "colorbar": {
             "outlinewidth": 0,
             "ticks": ""
            },
            "colorscale": [
             [
              0,
              "#0d0887"
             ],
             [
              0.1111111111111111,
              "#46039f"
             ],
             [
              0.2222222222222222,
              "#7201a8"
             ],
             [
              0.3333333333333333,
              "#9c179e"
             ],
             [
              0.4444444444444444,
              "#bd3786"
             ],
             [
              0.5555555555555556,
              "#d8576b"
             ],
             [
              0.6666666666666666,
              "#ed7953"
             ],
             [
              0.7777777777777778,
              "#fb9f3a"
             ],
             [
              0.8888888888888888,
              "#fdca26"
             ],
             [
              1,
              "#f0f921"
             ]
            ],
            "type": "surface"
           }
          ],
          "table": [
           {
            "cells": {
             "fill": {
              "color": "#EBF0F8"
             },
             "line": {
              "color": "white"
             }
            },
            "header": {
             "fill": {
              "color": "#C8D4E3"
             },
             "line": {
              "color": "white"
             }
            },
            "type": "table"
           }
          ]
         },
         "layout": {
          "annotationdefaults": {
           "arrowcolor": "#2a3f5f",
           "arrowhead": 0,
           "arrowwidth": 1
          },
          "autotypenumbers": "strict",
          "coloraxis": {
           "colorbar": {
            "outlinewidth": 0,
            "ticks": ""
           }
          },
          "colorscale": {
           "diverging": [
            [
             0,
             "#8e0152"
            ],
            [
             0.1,
             "#c51b7d"
            ],
            [
             0.2,
             "#de77ae"
            ],
            [
             0.3,
             "#f1b6da"
            ],
            [
             0.4,
             "#fde0ef"
            ],
            [
             0.5,
             "#f7f7f7"
            ],
            [
             0.6,
             "#e6f5d0"
            ],
            [
             0.7,
             "#b8e186"
            ],
            [
             0.8,
             "#7fbc41"
            ],
            [
             0.9,
             "#4d9221"
            ],
            [
             1,
             "#276419"
            ]
           ],
           "sequential": [
            [
             0,
             "#0d0887"
            ],
            [
             0.1111111111111111,
             "#46039f"
            ],
            [
             0.2222222222222222,
             "#7201a8"
            ],
            [
             0.3333333333333333,
             "#9c179e"
            ],
            [
             0.4444444444444444,
             "#bd3786"
            ],
            [
             0.5555555555555556,
             "#d8576b"
            ],
            [
             0.6666666666666666,
             "#ed7953"
            ],
            [
             0.7777777777777778,
             "#fb9f3a"
            ],
            [
             0.8888888888888888,
             "#fdca26"
            ],
            [
             1,
             "#f0f921"
            ]
           ],
           "sequentialminus": [
            [
             0,
             "#0d0887"
            ],
            [
             0.1111111111111111,
             "#46039f"
            ],
            [
             0.2222222222222222,
             "#7201a8"
            ],
            [
             0.3333333333333333,
             "#9c179e"
            ],
            [
             0.4444444444444444,
             "#bd3786"
            ],
            [
             0.5555555555555556,
             "#d8576b"
            ],
            [
             0.6666666666666666,
             "#ed7953"
            ],
            [
             0.7777777777777778,
             "#fb9f3a"
            ],
            [
             0.8888888888888888,
             "#fdca26"
            ],
            [
             1,
             "#f0f921"
            ]
           ]
          },
          "colorway": [
           "#636efa",
           "#EF553B",
           "#00cc96",
           "#ab63fa",
           "#FFA15A",
           "#19d3f3",
           "#FF6692",
           "#B6E880",
           "#FF97FF",
           "#FECB52"
          ],
          "font": {
           "color": "#2a3f5f"
          },
          "geo": {
           "bgcolor": "white",
           "lakecolor": "white",
           "landcolor": "#E5ECF6",
           "showlakes": true,
           "showland": true,
           "subunitcolor": "white"
          },
          "hoverlabel": {
           "align": "left"
          },
          "hovermode": "closest",
          "mapbox": {
           "style": "light"
          },
          "paper_bgcolor": "white",
          "plot_bgcolor": "#E5ECF6",
          "polar": {
           "angularaxis": {
            "gridcolor": "white",
            "linecolor": "white",
            "ticks": ""
           },
           "bgcolor": "#E5ECF6",
           "radialaxis": {
            "gridcolor": "white",
            "linecolor": "white",
            "ticks": ""
           }
          },
          "scene": {
           "xaxis": {
            "backgroundcolor": "#E5ECF6",
            "gridcolor": "white",
            "gridwidth": 2,
            "linecolor": "white",
            "showbackground": true,
            "ticks": "",
            "zerolinecolor": "white"
           },
           "yaxis": {
            "backgroundcolor": "#E5ECF6",
            "gridcolor": "white",
            "gridwidth": 2,
            "linecolor": "white",
            "showbackground": true,
            "ticks": "",
            "zerolinecolor": "white"
           },
           "zaxis": {
            "backgroundcolor": "#E5ECF6",
            "gridcolor": "white",
            "gridwidth": 2,
            "linecolor": "white",
            "showbackground": true,
            "ticks": "",
            "zerolinecolor": "white"
           }
          },
          "shapedefaults": {
           "line": {
            "color": "#2a3f5f"
           }
          },
          "ternary": {
           "aaxis": {
            "gridcolor": "white",
            "linecolor": "white",
            "ticks": ""
           },
           "baxis": {
            "gridcolor": "white",
            "linecolor": "white",
            "ticks": ""
           },
           "bgcolor": "#E5ECF6",
           "caxis": {
            "gridcolor": "white",
            "linecolor": "white",
            "ticks": ""
           }
          },
          "title": {
           "x": 0.05
          },
          "xaxis": {
           "automargin": true,
           "gridcolor": "white",
           "linecolor": "white",
           "ticks": "",
           "title": {
            "standoff": 15
           },
           "zerolinecolor": "white",
           "zerolinewidth": 2
          },
          "yaxis": {
           "automargin": true,
           "gridcolor": "white",
           "linecolor": "white",
           "ticks": "",
           "title": {
            "standoff": 15
           },
           "zerolinecolor": "white",
           "zerolinewidth": 2
          }
         }
        },
        "title": {
         "text": "Real vs. Synthetic Data for column 'Hematocrit'"
        },
        "xaxis": {
         "anchor": "y2",
         "domain": [
          0,
          1
         ],
         "title": {
          "text": "Value"
         },
         "zeroline": false
        },
        "yaxis": {
         "anchor": "free",
         "domain": [
          0,
          1
         ],
         "position": 0,
         "title": {
          "text": "Frequency"
         }
        }
       }
      }
     },
     "metadata": {},
     "output_type": "display_data"
    },
    {
     "data": {
      "application/vnd.plotly.v1+json": {
       "config": {
        "plotlyServerURL": "https://plot.ly"
       },
       "data": [
        {
         "fill": "tozeroy",
         "hovertemplate": "<b>Real</b><br>Frequency: %{y}<extra></extra>",
         "legendgroup": "Real",
         "marker": {
          "color": "#000036"
         },
         "mode": "lines",
         "name": "Real",
         "showlegend": true,
         "type": "scatter",
         "x": [
          0.1,
          0.7408666666666667,
          1.3817333333333335,
          2.0225999999999997,
          2.663466666666667,
          3.3043333333333336,
          3.9452,
          4.5860666666666665,
          5.226933333333333,
          5.8678,
          6.508666666666667,
          7.149533333333333,
          7.790399999999999,
          8.431266666666666,
          9.072133333333333,
          9.713,
          10.353866666666667,
          10.994733333333333,
          11.6356,
          12.276466666666666,
          12.917333333333334,
          13.558200000000001,
          14.199066666666667,
          14.839933333333335,
          15.480799999999999,
          16.121666666666666,
          16.762533333333334,
          17.4034,
          18.04426666666667,
          18.685133333333336,
          19.326,
          19.96686666666667,
          20.607733333333336,
          21.2486,
          21.889466666666667,
          22.530333333333335,
          23.171200000000002,
          23.812066666666666,
          24.452933333333334,
          25.0938,
          25.73466666666667,
          26.375533333333333,
          27.016400000000004,
          27.65726666666667,
          28.298133333333336,
          28.939,
          29.57986666666667,
          30.220733333333335,
          30.8616,
          31.502466666666667,
          32.14333333333333,
          32.784200000000006,
          33.425066666666666,
          34.065933333333334,
          34.7068,
          35.34766666666667,
          35.988533333333336,
          36.629400000000004,
          37.27026666666667,
          37.91113333333333,
          38.552,
          39.19286666666667,
          39.83373333333334,
          40.4746,
          41.11546666666667,
          41.75633333333334,
          42.3972,
          43.038066666666666,
          43.67893333333333,
          44.31980000000001,
          44.96066666666667,
          45.601533333333336,
          46.2424,
          46.88326666666667,
          47.52413333333333,
          48.165,
          48.80586666666667,
          49.44673333333334,
          50.0876,
          50.72846666666667,
          51.36933333333334,
          52.0102,
          52.651066666666665,
          53.29193333333333,
          53.93280000000001,
          54.57366666666667,
          55.214533333333335,
          55.8554,
          56.49626666666667,
          57.13713333333333,
          57.778,
          58.41886666666667,
          59.05973333333334,
          59.7006,
          60.34146666666667,
          60.98233333333334,
          61.6232,
          62.264066666666665,
          62.90493333333333,
          63.54580000000001,
          64.18666666666665,
          64.82753333333332,
          65.4684,
          66.10926666666666,
          66.75013333333332,
          67.39099999999999,
          68.03186666666666,
          68.67273333333333,
          69.3136,
          69.95446666666668,
          70.59533333333333,
          71.2362,
          71.87706666666666,
          72.51793333333333,
          73.1588,
          73.79966666666667,
          74.44053333333333,
          75.08139999999999,
          75.72226666666666,
          76.36313333333332,
          77.00399999999999,
          77.64486666666666,
          78.28573333333333,
          78.9266,
          79.56746666666668,
          80.20833333333333,
          80.8492,
          81.49006666666666,
          82.13093333333333,
          82.7718,
          83.41266666666667,
          84.05353333333333,
          84.69439999999999,
          85.33526666666666,
          85.97613333333332,
          86.61699999999999,
          87.25786666666666,
          87.89873333333333,
          88.53960000000001,
          89.18046666666667,
          89.82133333333333,
          90.4622,
          91.10306666666666,
          91.74393333333333,
          92.3848,
          93.02566666666667,
          93.66653333333333,
          94.30739999999999,
          94.94826666666665,
          95.58913333333332,
          96.22999999999999,
          96.87086666666666,
          97.51173333333332,
          98.1526,
          98.79346666666667,
          99.43433333333333,
          100.0752,
          100.71606666666666,
          101.35693333333333,
          101.9978,
          102.63866666666667,
          103.27953333333333,
          103.92039999999999,
          104.56126666666665,
          105.20213333333332,
          105.84299999999999,
          106.48386666666666,
          107.12473333333332,
          107.7656,
          108.40646666666667,
          109.04733333333333,
          109.6882,
          110.32906666666666,
          110.96993333333333,
          111.6108,
          112.25166666666667,
          112.89253333333333,
          113.53339999999999,
          114.17426666666665,
          114.81513333333332,
          115.45599999999999,
          116.09686666666666,
          116.73773333333334,
          117.3786,
          118.01946666666667,
          118.66033333333333,
          119.3012,
          119.94206666666666,
          120.58293333333333,
          121.2238,
          121.86466666666666,
          122.50553333333333,
          123.14639999999999,
          123.78726666666665,
          124.42813333333332,
          125.06899999999999,
          125.70986666666666,
          126.35073333333334,
          126.9916,
          127.63246666666667,
          128.2733333333333,
          128.9142,
          129.55506666666665,
          130.19593333333333,
          130.8368,
          131.47766666666666,
          132.11853333333332,
          132.7594,
          133.40026666666665,
          134.04113333333333,
          134.682,
          135.32286666666667,
          135.96373333333332,
          136.6046,
          137.24546666666666,
          137.88633333333334,
          138.5272,
          139.16806666666668,
          139.80893333333336,
          140.44979999999998,
          141.09066666666666,
          141.73153333333332,
          142.3724,
          143.01326666666665,
          143.65413333333333,
          144.295,
          144.93586666666667,
          145.57673333333332,
          146.2176,
          146.85846666666666,
          147.49933333333334,
          148.1402,
          148.78106666666667,
          149.42193333333336,
          150.06279999999998,
          150.70366666666666,
          151.34453333333332,
          151.9854,
          152.62626666666665,
          153.26713333333333,
          153.908,
          154.54886666666667,
          155.18973333333332,
          155.8306,
          156.47146666666666,
          157.11233333333334,
          157.7532,
          158.39406666666667,
          159.03493333333336,
          159.67579999999998,
          160.31666666666666,
          160.95753333333332,
          161.5984,
          162.23926666666665,
          162.88013333333333,
          163.521,
          164.16186666666667,
          164.80273333333332,
          165.4436,
          166.08446666666666,
          166.72533333333334,
          167.3662,
          168.00706666666667,
          168.64793333333336,
          169.28879999999998,
          169.92966666666666,
          170.57053333333332,
          171.2114,
          171.85226666666665,
          172.49313333333333,
          173.134,
          173.77486666666667,
          174.41573333333332,
          175.0566,
          175.69746666666666,
          176.33833333333334,
          176.97920000000002,
          177.62006666666667,
          178.26093333333336,
          178.90179999999998,
          179.54266666666666,
          180.18353333333332,
          180.8244,
          181.46526666666665,
          182.10613333333333,
          182.74699999999999,
          183.38786666666667,
          184.02873333333332,
          184.6696,
          185.31046666666666,
          185.95133333333334,
          186.59220000000002,
          187.23306666666667,
          187.87393333333335,
          188.51479999999998,
          189.15566666666666,
          189.79653333333331,
          190.4374,
          191.07826666666665,
          191.71913333333333,
          192.35999999999999,
          193.00086666666667,
          193.64173333333332,
          194.2826,
          194.92346666666666,
          195.56433333333334,
          196.20520000000002,
          196.84606666666667,
          197.48693333333335,
          198.12779999999998,
          198.76866666666666,
          199.40953333333331,
          200.0504,
          200.69126666666665,
          201.33213333333333,
          201.97299999999998,
          202.61386666666667,
          203.25473333333332,
          203.8956,
          204.53646666666666,
          205.17733333333334,
          205.81820000000002,
          206.45906666666667,
          207.09993333333335,
          207.74079999999998,
          208.38166666666666,
          209.0225333333333,
          209.6634,
          210.30426666666665,
          210.94513333333333,
          211.58599999999998,
          212.22686666666667,
          212.86773333333332,
          213.5086,
          214.14946666666665,
          214.79033333333334,
          215.43120000000002,
          216.07206666666667,
          216.71293333333335,
          217.35379999999998,
          217.99466666666666,
          218.6355333333333,
          219.2764,
          219.91726666666665,
          220.55813333333333,
          221.19899999999998,
          221.83986666666667,
          222.48073333333332,
          223.1216,
          223.76246666666668,
          224.40333333333334,
          225.04420000000002,
          225.68506666666667,
          226.32593333333335,
          226.96679999999998,
          227.60766666666666,
          228.2485333333333,
          228.8894,
          229.53026666666665,
          230.17113333333333,
          230.81199999999998,
          231.45286666666667,
          232.09373333333332,
          232.7346,
          233.37546666666668,
          234.01633333333334,
          234.65720000000002,
          235.29806666666667,
          235.93893333333335,
          236.57979999999998,
          237.22066666666666,
          237.8615333333333,
          238.5024,
          239.14326666666665,
          239.78413333333333,
          240.42499999999998,
          241.06586666666666,
          241.70673333333332,
          242.3476,
          242.98846666666668,
          243.62933333333334,
          244.27020000000002,
          244.91106666666667,
          245.55193333333335,
          246.19279999999998,
          246.83366666666666,
          247.4745333333333,
          248.1154,
          248.75626666666665,
          249.39713333333333,
          250.03799999999998,
          250.67886666666666,
          251.31973333333332,
          251.9606,
          252.60146666666668,
          253.24233333333333,
          253.88320000000002,
          254.52406666666667,
          255.16493333333335,
          255.8058,
          256.44666666666666,
          257.08753333333334,
          257.7284,
          258.3692666666667,
          259.01013333333333,
          259.651,
          260.2918666666667,
          260.9327333333334,
          261.57360000000006,
          262.2144666666667,
          262.85533333333336,
          263.49620000000004,
          264.13706666666667,
          264.77793333333335,
          265.41880000000003,
          266.0596666666667,
          266.70053333333334,
          267.3414,
          267.9822666666667,
          268.6231333333334,
          269.264,
          269.90486666666675,
          270.5457333333334,
          271.1866,
          271.8274666666667,
          272.46833333333336,
          273.10920000000004,
          273.75006666666667,
          274.39093333333335,
          275.03180000000003,
          275.6726666666667,
          276.31353333333334,
          276.9544,
          277.5952666666667,
          278.2361333333334,
          278.877,
          279.51786666666675,
          280.1587333333334,
          280.7996,
          281.4404666666667,
          282.08133333333336,
          282.72220000000004,
          283.36306666666667,
          284.00393333333335,
          284.64480000000003,
          285.2856666666667,
          285.92653333333334,
          286.5674,
          287.2082666666667,
          287.8491333333334,
          288.49,
          289.13086666666675,
          289.7717333333334,
          290.4126,
          291.0534666666667,
          291.69433333333336,
          292.33520000000004,
          292.97606666666667,
          293.61693333333335,
          294.25780000000003,
          294.8986666666667,
          295.53953333333334,
          296.1804,
          296.8212666666667,
          297.4621333333334,
          298.103,
          298.74386666666675,
          299.3847333333334,
          300.0256,
          300.6664666666667,
          301.30733333333336,
          301.94820000000004,
          302.58906666666667,
          303.22993333333335,
          303.87080000000003,
          304.5116666666667,
          305.15253333333334,
          305.7934,
          306.4342666666667,
          307.0751333333334,
          307.716,
          308.35686666666675,
          308.9977333333334,
          309.6386,
          310.2794666666667,
          310.92033333333336,
          311.56120000000004,
          312.20206666666667,
          312.84293333333335,
          313.48380000000003,
          314.1246666666667,
          314.76553333333334,
          315.4064,
          316.0472666666667,
          316.6881333333334,
          317.329,
          317.96986666666675,
          318.61073333333337,
          319.2516,
          319.8924666666667
         ],
         "xaxis": "x",
         "y": [
          0.024395898601043454,
          0.02622619283289926,
          0.028059375961279876,
          0.02987736190409965,
          0.03166079516605986,
          0.03338931021388887,
          0.03504184655491597,
          0.036597017250656914,
          0.03803352576748392,
          0.0393306229890041,
          0.040468593077268314,
          0.041429253896477274,
          0.042196455147367834,
          0.04275655544613331,
          0.043098858538388796,
          0.04321598884025054,
          0.04310418765294859,
          0.04276351373118358,
          0.04219793533543161,
          0.04141530531090131,
          0.040427215874517496,
          0.03924873535303078,
          0.037898034752898234,
          0.036395917391809716,
          0.034765269531173544,
          0.033030453708314346,
          0.031216669033016987,
          0.02934930392775746,
          0.027453306594619937,
          0.025552596925403463,
          0.023669540770848707,
          0.021824503667890224,
          0.02003549656962318,
          0.018317921147874748,
          0.01668441717077896,
          0.015144809611209275,
          0.013706148793122583,
          0.012372833253748659,
          0.011146802245146923,
          0.010027783001431742,
          0.009013577068625846,
          0.008100370077941238,
          0.0072830502311942895,
          0.006555522309557504,
          0.005911006039694193,
          0.005342309971150248,
          0.004842074457556421,
          0.004402979730851595,
          0.004017917277797714,
          0.003680124668959171,
          0.0033832855839388562,
          0.003121597988730245,
          0.002889814248099451,
          0.002683257420408644,
          0.002497818126569894,
          0.0023299362645915526,
          0.002176571519155414,
          0.0020351661557521435,
          0.001903603051385114,
          0.0017801613516879211,
          0.001663471600672837,
          0.001552471696395435,
          0.001446364604534786,
          0.0013445784227146711,
          0.0012467291327069444,
          0.001152586199595144,
          0.0010620410654887398,
          0.0009750785263259257,
          0.0008917509583847392,
          0.0008121553615349136,
          0.0007364131959828432,
          0.0006646529979337278,
          0.0005969957599916635,
          0.0005335430502361762,
          0.0004743678187311276,
          0.00041950780322222995,
          0.0003689614003042086,
          0.0003226858188726693,
          0.000280597284134103,
          0.00024257301753701158,
          0.00020845468469045587,
          0.00017805298255021035,
          0.00015115303049045248,
          0.0001275202376339451,
          0.00010690634005904372,
          0.00008905533429892584,
          0.00007370907522478373,
          0.00006061235386496599,
          0.00004951732074615319,
          0.000040187169901760406,
          0.000032399045112438124,
          0.000025946171100499564,
          0.000020639246799346408,
          0.000016307164614326244,
          0.00001279713854881309,
          0.000009974335485656555,
          0.000007721108507702041,
          0.000005935929926769786,
          0.000004532115854958952,
          0.0000034364249388328717,
          0.0000025876024890550915,
          0.0000019349287637442486,
          0.0000014368175263967894,
          0.0000010594989295362678,
          7.758098049086165e-7,
          5.641049120076787e-7,
          4.072947826092953e-7,
          2.9200953384027196e-7,
          2.0788333249209795e-7,
          1.4695092944330855e-7,
          1.0314564935165031e-7,
          7.188719997845926e-8,
          4.974743891503162e-8,
          3.418259760029505e-8,
          2.3321230741513177e-8,
          1.5798179182871695e-8,
          1.0625981548515853e-8,
          7.09634945326884e-9,
          4.7054641282175135e-9,
          3.097913224342942e-9,
          2.0250383302465247e-9,
          1.3142939300100126e-9,
          8.469254152067039e-10,
          5.418630071159333e-10,
          3.442103134720854e-10,
          2.1709346629847473e-10,
          1.3594294432137271e-10,
          8.451859380940691e-11,
          5.217136846672229e-11,
          3.1973880069295005e-11,
          1.9455412348658765e-11,
          1.175347862183942e-11,
          7.049726069322601e-12,
          4.1981399113578325e-12,
          2.482101158143109e-12,
          1.4569983221771866e-12,
          8.491311579553166e-13,
          4.913215796096474e-13,
          2.8224838259498145e-13,
          1.609796219335341e-13,
          9.115562111329755e-14,
          5.1246999065613866e-14,
          2.860389715102291e-14,
          1.585087131473551e-14,
          8.720705905737974e-15,
          4.763433848793993e-15,
          2.583200315028965e-15,
          1.3908008698641787e-15,
          7.434302662800631e-16,
          3.945331052554139e-16,
          2.0787110406160135e-16,
          1.0873561171841544e-16,
          5.646977443339634e-17,
          2.911564766070104e-17,
          1.490399180185137e-17,
          7.57432794168124e-18,
          3.8216471054268495e-18,
          1.9143514311431217e-18,
          9.520439732881967e-19,
          4.700632092250813e-19,
          2.304194282920548e-19,
          1.1213603270611168e-19,
          5.417940439517907e-20,
          2.598878108421182e-20,
          1.2376559873726204e-20,
          5.85161912718101e-21,
          2.746717191292993e-21,
          1.2800100030373834e-21,
          5.922076918715533e-22,
          2.7201680384956716e-22,
          1.240446922395873e-22,
          5.615923226219538e-23,
          2.5242038734516412e-23,
          1.126387337748553e-23,
          4.990119364149855e-24,
          2.1947938636679436e-24,
          9.583760678465785e-25,
          4.154678274914323e-25,
          1.7881249190145627e-25,
          7.640418300188459e-26,
          3.241119565326545e-26,
          1.3649961325513424e-26,
          5.7072390315156624e-27,
          2.3690749546487614e-27,
          9.763138911645983e-28,
          3.994458349668484e-28,
          1.6224970838319463e-28,
          6.54285647432976e-29,
          2.619438152232783e-29,
          1.0411325858756527e-29,
          4.108288354636617e-30,
          1.6094320369408357e-30,
          6.2595205518954385e-31,
          2.4169410853551495e-31,
          9.265044122899092e-32,
          3.52602365567433e-32,
          1.3322297435218195e-32,
          4.997227011018519e-33,
          1.8609510904730488e-33,
          6.880130048603919e-34,
          2.525306094029695e-34,
          9.202100738091738e-35,
          3.329012343729483e-35,
          1.1956365543839463e-35,
          4.2632245996863986e-36,
          1.509149929986123e-36,
          5.3037324349677125e-37,
          1.8504858526729378e-37,
          6.409804423415546e-38,
          2.2042382731512583e-38,
          7.525354396253663e-39,
          2.5506445565184263e-39,
          8.582768602251662e-40,
          2.8672083658102705e-40,
          9.509231283943107e-41,
          3.131019597202554e-41,
          1.0234822128132136e-41,
          3.3214588074659816e-42,
          1.0701173887626566e-42,
          3.4228500494688067e-43,
          1.0869214336768382e-43,
          3.4265903312620264e-44,
          1.0724570236491338e-44,
          3.332354686000773e-45,
          1.0279596857080362e-45,
          3.1481427578802245e-46,
          9.571635652110076e-47,
          2.889157647166955e-47,
          8.657840832537464e-48,
          2.5757349369682714e-48,
          7.607568865089845e-49,
          2.230713050397938e-49,
          6.49373492559051e-50,
          1.8767152391354122e-50,
          5.384620777170213e-51,
          1.533785851922228e-51,
          4.3373766804183655e-52,
          1.2177056116804613e-52,
          3.393987016657752e-53,
          9.391407735666122e-54,
          2.579905602209943e-54,
          7.036059204113233e-55,
          1.9050556036282537e-55,
          5.120805501655017e-56,
          1.366536739250143e-56,
          3.620401233580244e-57,
          9.522355951926007e-58,
          2.4864766780327187e-58,
          6.44579658386617e-59,
          1.6589029762574185e-59,
          4.238552034585889e-60,
          1.0751428053973508e-60,
          2.707489914089031e-61,
          6.768922822845604e-62,
          1.6800579371680911e-62,
          4.139814656574324e-63,
          1.0127201278743593e-63,
          2.4595171386446546e-64,
          5.9301010740823985e-65,
          1.4194697212290435e-65,
          3.373198743091516e-66,
          7.958101083843645e-67,
          1.8639259854759064e-67,
          4.33410602540075e-68,
          1.0005113573560623e-68,
          2.2929580283721783e-69,
          5.217010923219756e-70,
          1.1784167683022868e-70,
          2.6425765512148293e-71,
          5.883119976970326e-72,
          1.3002871425661352e-72,
          2.8531344397855334e-73,
          6.2152210541270805e-74,
          1.3441330810406352e-74,
          2.8858867112761434e-75,
          6.151309510457608e-76,
          1.3016889099187935e-76,
          2.7346361213489533e-77,
          5.703990507883683e-78,
          1.1835016383965946e-78,
          2.5538325789568063e-79,
          1.1164405241725805e-79,
          3.133535295396156e-79,
          1.4727468517060572e-78,
          7.080134383768204e-78,
          3.383372941729885e-77,
          1.605198001047753e-76,
          7.560594364699112e-76,
          3.5353380896200513e-75,
          1.6411701716642875e-74,
          7.563519393472551e-74,
          3.460524127207062e-73,
          1.5718369193174587e-72,
          7.087951480308134e-72,
          3.1730844711784244e-71,
          1.4102307439778545e-70,
          6.222234435501692e-70,
          2.725525242883363e-69,
          1.1852274310870368e-68,
          5.116828098122708e-68,
          2.1930453195748393e-67,
          9.331297442102825e-67,
          3.941704894992706e-66,
          1.6530037059513144e-65,
          6.881944957699901e-65,
          2.8444362799683084e-64,
          1.1671559028747433e-63,
          4.754547376971208e-63,
          1.9228133767214418e-62,
          7.719918887235617e-62,
          3.0770601559008055e-61,
          1.217606290530272e-60,
          4.7832758426167533e-60,
          1.8654843798948337e-59,
          7.222797754198831e-59,
          2.776303487957158e-58,
          1.0594392779693724e-57,
          4.0135885438914704e-57,
          1.5095144465690692e-56,
          5.636238290266605e-56,
          2.0892435271888247e-55,
          7.688408171190859e-55,
          2.8088687400937296e-54,
          1.01876520852496e-53,
          3.6682963386777866e-53,
          1.3113009219734495e-52,
          4.6535883950243856e-52,
          1.6395369771834416e-51,
          5.734586541351585e-51,
          1.991272303785562e-50,
          6.8644673296564485e-50,
          2.349257805721422e-49,
          7.98182426319652e-49,
          2.6922866129400168e-48,
          9.015463694543991e-48,
          2.9971086897834963e-47,
          9.891554858081004e-47,
          3.240964559273878e-46,
          1.0542209608722987e-45,
          3.404369248946293e-45,
          1.0914134913309399e-44,
          3.4736785261923747e-44,
          1.0975835182218146e-43,
          3.442969510564683e-43,
          1.0722015327303922e-42,
          3.314876231221757e-42,
          1.0174330909926007e-41,
          3.1002166645580585e-41,
          9.378338008159942e-41,
          2.816484484299769e-40,
          8.397238570564949e-40,
          2.4854971399821204e-39,
          7.303611950097609e-39,
          2.1306384509073792e-38,
          6.170629585470306e-38,
          1.7741765750636866e-37,
          5.06421169194686e-37,
          1.4350747042620775e-36,
          4.037242291613632e-36,
          1.1275680608771614e-35,
          3.1264275162916017e-35,
          8.606005316195049e-35,
          2.3518114620765316e-34,
          6.380446071455134e-34,
          1.7184908690021138e-33,
          4.595058687424682e-33,
          1.2197829065907209e-32,
          3.2145609943522796e-32,
          8.410241082925559e-32,
          2.184453813498937e-31,
          5.632807833180225e-31,
          1.4419647730028298e-30,
          3.664645869399366e-30,
          9.246066714058114e-30,
          2.3159526673235367e-29,
          5.759038510080715e-29,
          1.421732636802795e-28,
          3.484444331200411e-28,
          8.478065643061913e-28,
          2.0478949084066006e-27,
          4.910957826644321e-27,
          1.1691558039830928e-26,
          2.763288453307224e-26,
          6.483771507289308e-26,
          1.5103473151780176e-25,
          3.4927990576264935e-25,
          8.018959525814094e-25,
          1.8277217866975517e-24,
          4.135707380811058e-24,
          9.290458852706101e-24,
          2.071916134590974e-23,
          4.5872755428998737e-23,
          1.0082892333735778e-22,
          2.2002046537055077e-22,
          4.766380126534262e-22,
          1.025089814288839e-21,
          2.188682716089671e-21,
          4.639288125297084e-21,
          9.76264572408842e-21,
          2.0395359300426337e-20,
          4.2300240700599814e-20,
          8.709675280678925e-20,
          1.7803637199921387e-19,
          3.612960010865987e-19,
          7.278891079734938e-19,
          1.4558443109326717e-18,
          2.8907617105021846e-18,
          5.698457329569194e-18,
          1.1151927940753848e-17,
          2.1666574547211355e-17,
          4.179056120744459e-17,
          8.002281012399368e-17,
          1.5212375610925196e-16,
          2.870965204386703e-16,
          5.379060943831776e-16,
          1.0005358344365974e-15,
          1.8475937200792228e-15,
          3.38709949590423e-15,
          6.164488943698363e-15,
          1.1138170168870713e-14,
          1.9979207918369896e-14,
          3.557872095202109e-14,
          6.289991273802692e-14,
          1.103970330177205e-13,
          1.9235895422257015e-13,
          3.327476982706469e-13,
          5.714330560045164e-13,
          9.742340543952114e-13,
          1.6489553645026004e-12,
          2.7707806147342908e-12,
          4.622139280707309e-12,
          7.654759715939423e-12,
          1.2585420894272387e-11,
          2.0542418507313826e-11,
          3.3287643243816745e-11,
          5.355033238495772e-11,
          8.552418422075837e-11,
          1.3560114504037883e-10,
          2.1344472205458003e-10,
          3.335455345176044e-10,
          5.174548813433291e-10,
          7.969617767049195e-10,
          1.2185690515430562e-9,
          1.8497389532866937e-9,
          2.7875225397569434e-9,
          4.170364164718528e-9,
          6.194085836771212e-9,
          9.133308048277902e-9,
          1.336985321009282e-8,
          1.9430000840733026e-8,
          2.8032810851348106e-8,
          4.015208674588953e-8,
          5.7094890212510337e-8,
          8.059980858802429e-8,
          1.1295837228933552e-7,
          1.571630642757514e-7,
          2.170851905190554e-7,
          2.9768541236711953e-7,
          4.0525889541288735e-7,
          5.477157208923376e-7,
          7.348953571357329e-7,
          9.789115388386382e-7,
          0.0000012945208175680979,
          0.000001699504335898475,
          0.000002215048102945326,
          0.0000028661023422057276,
          0.000003681695554067158,
          0.0000046951740813835025,
          0.000005944333569319413,
          0.000007471405230098926,
          0.000009322857778597011,
          0.000011548975845019281,
          0.000014203178134532569,
          0.00001734104406743857,
          0.000021019026454270554,
          0.000025292840113832706,
          0.00003021553216384495,
          0.000035835258648079827,
          0.000042192813530278914,
          0.00004931897886811063,
          0.000057231787847458437,
          0.00006593381371200946,
          0.00007540961569181681,
          0.00008562348598717641,
          0.00009651764795969485,
          0.00010801105343263685,
          0.00011999891533597458,
          0.00013235309034618473,
          0.00014492339485465663,
          0.0001575398975040972,
          0.00017001618439053528,
          0.00018215354129339753,
          0.00019374594401907425,
          0.0002045856965787274,
          0.00021446951107981387,
          0.00022320478637603925,
          0.00023061581775509567,
          0.00023654965961129084,
          0.00024088136858392762,
          0.00024351837637878024
         ],
         "yaxis": "y"
        },
        {
         "fill": "tozeroy",
         "hovertemplate": "<b>Synthetic</b><br>Frequency: %{y}<extra></extra>",
         "legendgroup": "Synthetic",
         "marker": {
          "color": "#01E0C9"
         },
         "mode": "lines",
         "name": "Synthetic",
         "showlegend": true,
         "type": "scatter",
         "x": [
          -1.1344115919563968,
          -1.0264446010813182,
          -0.9184776102062396,
          -0.8105106193311611,
          -0.7025436284560824,
          -0.5945766375810038,
          -0.4866096467059252,
          -0.37864265583084666,
          -0.270675664955768,
          -0.16270867408068934,
          -0.05474168320561068,
          0.05322530766946798,
          0.16119229854454642,
          0.26915928941962486,
          0.3771262802947035,
          0.4850932711697822,
          0.5930602620448608,
          0.7010272529199395,
          0.8089942437950182,
          0.9169612346700964,
          1.0249282255451755,
          1.1328952164202537,
          1.2408622072953328,
          1.348829198170411,
          1.4567961890454897,
          1.5647631799205683,
          1.6727301707956466,
          1.7806971616707257,
          1.8886641525458039,
          1.996631143420883,
          2.104598134295961,
          2.2125651251710403,
          2.3205321160461185,
          2.428499106921197,
          2.536466097796276,
          2.644433088671354,
          2.752400079546433,
          2.8603670704215114,
          2.9683340612965896,
          3.0763010521716696,
          3.184268043046748,
          3.292235033921826,
          3.4002020247969043,
          3.5081690156719834,
          3.6161360065470625,
          3.7241029974221407,
          3.832069988297219,
          3.940036979172297,
          4.048003970047376,
          4.155970960922455,
          4.2639379517975335,
          4.371904942672612,
          4.47987193354769,
          4.58783892442277,
          4.695805915297848,
          4.803772906172926,
          4.911739897048005,
          5.019706887923084,
          5.127673878798163,
          5.235640869673241,
          5.343607860548319,
          5.4515748514233975,
          5.5595418422984775,
          5.667508833173556,
          5.775475824048634,
          5.883442814923712,
          5.991409805798791,
          6.09937679667387,
          6.2073437875489486,
          6.315310778424027,
          6.423277769299105,
          6.531244760174185,
          6.639211751049263,
          6.747178741924341,
          6.85514573279942,
          6.963112723674499,
          7.071079714549576,
          7.179046705424655,
          7.287013696299736,
          7.394980687174813,
          7.5029476780498925,
          7.61091466892497,
          7.718881659800049,
          7.826848650675128,
          7.934815641550205,
          8.042782632425284,
          8.150749623300364,
          8.258716614175443,
          8.366683605050522,
          8.474650595925599,
          8.582617586800678,
          8.690584577675757,
          8.798551568550835,
          8.906518559425914,
          9.014485550300991,
          9.12245254117607,
          9.23041953205115,
          9.338386522926228,
          9.446353513801307,
          9.554320504676385,
          9.662287495551464,
          9.770254486426543,
          9.87822147730162,
          9.9861884681767,
          10.094155459051777,
          10.202122449926856,
          10.310089440801937,
          10.418056431677014,
          10.526023422552093,
          10.633990413427172,
          10.74195740430225,
          10.849924395177329,
          10.957891386052406,
          11.065858376927485,
          11.173825367802564,
          11.281792358677643,
          11.389759349552723,
          11.4977263404278,
          11.605693331302879,
          11.713660322177958,
          11.821627313053035,
          11.929594303928114,
          12.037561294803192,
          12.145528285678271,
          12.253495276553352,
          12.36146226742843,
          12.469429258303508,
          12.577396249178587,
          12.685363240053665,
          12.793330230928744,
          12.901297221803821,
          13.0092642126789,
          13.11723120355398,
          13.225198194429058,
          13.333165185304138,
          13.441132176179215,
          13.549099167054294,
          13.657066157929373,
          13.76503314880445,
          13.87300013967953,
          13.980967130554607,
          14.088934121429686,
          14.196901112304767,
          14.304868103179844,
          14.412835094054923,
          14.520802084930002,
          14.62876907580508,
          14.736736066680159,
          14.844703057555236,
          14.952670048430313,
          15.060637039305394,
          15.168604030180475,
          15.276571021055549,
          15.38453801193063,
          15.492505002805707,
          15.600471993680788,
          15.708438984555869,
          15.816405975430943,
          15.924372966306024,
          16.0323399571811,
          16.140306948056182,
          16.24827393893126,
          16.356240929806336,
          16.464207920681414,
          16.572174911556495,
          16.680141902431576,
          16.788108893306653,
          16.89607588418173,
          17.004042875056808,
          17.11200986593189,
          17.219976856806966,
          17.327943847682047,
          17.435910838557124,
          17.5438778294322,
          17.651844820307282,
          17.75981181118236,
          17.86777880205744,
          17.975745792932518,
          18.083712783807595,
          18.191679774682672,
          18.299646765557753,
          18.40761375643283,
          18.51558074730791,
          18.62354773818299,
          18.731514729058066,
          18.839481719933147,
          18.947448710808224,
          19.055415701683305,
          19.16338269255838,
          19.27134968343346,
          19.379316674308537,
          19.487283665183618,
          19.595250656058695,
          19.703217646933773,
          19.811184637808854,
          19.91915162868393,
          20.027118619559012,
          20.13508561043409,
          20.243052601309167,
          20.351019592184244,
          20.458986583059325,
          20.566953573934402,
          20.674920564809483,
          20.78288755568456,
          20.890854546559638,
          20.99882153743472,
          21.106788528309796,
          21.214755519184877,
          21.32272251005995,
          21.43068950093503,
          21.53865649181011,
          21.64662348268519,
          21.75459047356027,
          21.862557464435348,
          21.970524455310425,
          22.078491446185502,
          22.186458437060583,
          22.29442542793566,
          22.40239241881074,
          22.510359409685815,
          22.618326400560896,
          22.726293391435977,
          22.834260382311054,
          22.942227373186135,
          23.05019436406121,
          23.15816135493629,
          23.266128345811367,
          23.374095336686448,
          23.482062327561525,
          23.590029318436603,
          23.697996309311684,
          23.80596330018676,
          23.913930291061842,
          24.02189728193692,
          24.129864272811997,
          24.237831263687074,
          24.345798254562155,
          24.453765245437232,
          24.561732236312313,
          24.66969922718739,
          24.777666218062468,
          24.88563320893755,
          24.993600199812626,
          25.101567190687707,
          25.20953418156278,
          25.31750117243786,
          25.42546816331294,
          25.53343515418802,
          25.6414021450631,
          25.749369135938178,
          25.857336126813255,
          25.965303117688332,
          26.073270108563413,
          26.18123709943849,
          26.28920409031357,
          26.397171081188645,
          26.505138072063726,
          26.613105062938807,
          26.721072053813884,
          26.829039044688965,
          26.93700603556404,
          27.04497302643912,
          27.152940017314197,
          27.260907008189278,
          27.368873999064355,
          27.476840989939433,
          27.584807980814514,
          27.69277497168959,
          27.800741962564672,
          27.90870895343975,
          28.016675944314827,
          28.124642935189904,
          28.232609926064985,
          28.340576916940062,
          28.448543907815143,
          28.55651089869022,
          28.664477889565298,
          28.77244488044038,
          28.880411871315456,
          28.988378862190537,
          29.09634585306561,
          29.20431284394069,
          29.31227983481577,
          29.42024682569085,
          29.52821381656593,
          29.636180807441008,
          29.744147798316085,
          29.852114789191162,
          29.960081780066243,
          30.06804877094132,
          30.1760157618164,
          30.283982752691475,
          30.391949743566556,
          30.499916734441637,
          30.607883725316714,
          30.715850716191795,
          30.82381770706687,
          30.931784697941954,
          31.039751688817024,
          31.147718679692108,
          31.255685670567185,
          31.363652661442263,
          31.471619652317347,
          31.579586643192425,
          31.687553634067495,
          31.79552062494258,
          31.903487615817657,
          32.01145460669274,
          32.11942159756781,
          32.22738858844289,
          32.33535557931798,
          32.44332257019305,
          32.55128956106813,
          32.6592565519432,
          32.767223542818286,
          32.87519053369337,
          32.98315752456844,
          33.091124515443525,
          33.199091506318595,
          33.30705849719368,
          33.415025488068764,
          33.522992478943834,
          33.63095946981892,
          33.73892646069399,
          33.84689345156907,
          33.95486044244416,
          34.06282743331923,
          34.17079442419431,
          34.27876141506938,
          34.38672840594447,
          34.49469539681955,
          34.60266238769462,
          34.710629378569706,
          34.818596369444776,
          34.92656336031986,
          35.03453035119493,
          35.142497342070016,
          35.2504643329451,
          35.35843132382017,
          35.466398314695255,
          35.574365305570325,
          35.68233229644541,
          35.790299287320494,
          35.898266278195564,
          36.00623326907065,
          36.11420025994572,
          36.2221672508208,
          36.33013424169589,
          36.43810123257096,
          36.54606822344604,
          36.65403521432111,
          36.7620022051962,
          36.86996919607128,
          36.97793618694635,
          37.085903177821436,
          37.193870168696506,
          37.30183715957159,
          37.409804150446675,
          37.517771141321745,
          37.62573813219683,
          37.7337051230719,
          37.841672113946984,
          37.949639104822054,
          38.05760609569714,
          38.16557308657222,
          38.273540077447294,
          38.38150706832238,
          38.48947405919745,
          38.59744105007253,
          38.70540804094762,
          38.81337503182269,
          38.92134202269776,
          39.02930901357284,
          39.137276004447926,
          39.24524299532301,
          39.35320998619808,
          39.46117697707315,
          39.569143967948236,
          39.67711095882332,
          39.785077949698405,
          39.893044940573475,
          40.001011931448545,
          40.10897892232363,
          40.216945913198714,
          40.324912904073784,
          40.43287989494887,
          40.54084688582394,
          40.64881387669902,
          40.75678086757411,
          40.86474785844918,
          40.97271484932426,
          41.08068184019933,
          41.18864883107442,
          41.29661582194949,
          41.40458281282457,
          41.512549803699656,
          41.620516794574726,
          41.72848378544981,
          41.83645077632488,
          41.944417767199965,
          42.05238475807505,
          42.16035174895012,
          42.268318739825204,
          42.376285730700275,
          42.48425272157536,
          42.592219712450444,
          42.700186703325514,
          42.8081536942006,
          42.91612068507567,
          43.02408767595075,
          43.13205466682584,
          43.24002165770091,
          43.34798864857599,
          43.45595563945106,
          43.56392263032615,
          43.67188962120123,
          43.7798566120763,
          43.887823602951386,
          43.995790593826456,
          44.10375758470154,
          44.21172457557661,
          44.319691566451695,
          44.42765855732678,
          44.53562554820185,
          44.643592539076934,
          44.751559529952004,
          44.85952652082709,
          44.96749351170217,
          45.07546050257724,
          45.18342749345233,
          45.2913944843274,
          45.39936147520248,
          45.50732846607757,
          45.61529545695264,
          45.72326244782772,
          45.83122943870279,
          45.939196429577876,
          46.04716342045296,
          46.15513041132803,
          46.263097402203115,
          46.371064393078186,
          46.47903138395327,
          46.586998374828354,
          46.694965365703425,
          46.80293235657851,
          46.91089934745358,
          47.018866338328664,
          47.126833329203734,
          47.23480032007882,
          47.3427673109539,
          47.45073430182897,
          47.55870129270406,
          47.66666828357913,
          47.77463527445421,
          47.8826022653293,
          47.99056925620437,
          48.09853624707945,
          48.20650323795452,
          48.314470228829606,
          48.42243721970469,
          48.53040421057976,
          48.638371201454845,
          48.746338192329915,
          48.854305183205,
          48.962272174080084,
          49.070239164955154,
          49.17820615583024,
          49.28617314670531,
          49.39414013758039,
          49.50210712845548,
          49.61007411933055,
          49.71804111020563,
          49.8260081010807,
          49.93397509195579,
          50.04194208283086,
          50.14990907370594,
          50.257876064581026,
          50.3658430554561,
          50.47381004633118,
          50.58177703720625,
          50.689744028081336,
          50.79771101895642,
          50.90567800983149,
          51.01364500070656,
          51.121611991581645,
          51.22957898245673,
          51.337545973331814,
          51.445512964206884,
          51.553479955081954,
          51.66144694595704,
          51.76941393683212,
          51.87738092770721,
          51.98534791858228,
          52.09331490945736,
          52.20128190033243,
          52.30924889120752,
          52.4172158820826,
          52.52518287295767,
          52.633149863832756,
          52.741116854707826
         ],
         "xaxis": "x",
         "y": [
          0.005980325702261427,
          0.006234452462223326,
          0.00649344407181964,
          0.006757047686196047,
          0.007024988785025426,
          0.007296971463081662,
          0.007572678893496016,
          0.00785177397416928,
          0.008133900166368242,
          0.008418682532824627,
          0.008705728980694837,
          0.008994631712547215,
          0.009284968886145148,
          0.009576306481221004,
          0.00986820036872139,
          0.01016019857519089,
          0.01045184373209065,
          0.010742675696969479,
          0.011032234330565022,
          0.011320062411162925,
          0.011605708664931491,
          0.011888730888527642,
          0.01216869913808391,
          0.012445198956778732,
          0.012717834611603918,
          0.012986232308707065,
          0.013250043355832668,
          0.013508947239934264,
          0.013762654587997615,
          0.014010909979507434,
          0.014253494579808693,
          0.014490228564849375,
          0.01472097330942914,
          0.014945633313096143,
          0.015164157840201017,
          0.015376542253300129,
          0.01558282902205545,
          0.01578310839296512,
          0.015977518708623982,
          0.0161662463687107,
          0.01634952542847219,
          0.016527636834077344,
          0.016700907297787494,
          0.01686970781939288,
          0.0170344518637454,
          0.01719559320743556,
          0.017353623470677877,
          0.017509069353250695,
          0.017662489595855244,
          0.01781447169049376,
          0.017965628365400037,
          0.018116593871678754,
          0.01826802010011667,
          0.018420572557620644,
          0.018574926233419362,
          0.018731761385546816,
          0.018891759278222908,
          0.019055597900570813,
          0.019223947696687824,
          0.019397467336431863,
          0.019576799555424105,
          0.01976256709172107,
          0.019955368745398157,
          0.020155775585932956,
          0.02036432733080053,
          0.020581528917112433,
          0.020807847286462483,
          0.021043708401403613,
          0.021289494510177743,
          0.021545541674473766,
          0.021812137573100715,
          0.022089519592545456,
          0.02237787321344297,
          0.022677330700030206,
          0.022987970097686085,
          0.023309814541688147,
          0.02364283187834817,
          0.02398693459773013,
          0.02434198007521557,
          0.024707771117271314,
          0.025084056804906302,
          0.02547053362648816,
          0.025866846889842424,
          0.026272592401892066,
          0.026687318402528155,
          0.027110527737951397,
          0.02754168025740526,
          0.027980195416051238,
          0.028425455065729483,
          0.028876806414520572,
          0.029333565135384657,
          0.029795018603715126,
          0.030260429243410294,
          0.03072903796103969,
          0.031200067647863792,
          0.031672726729847854,
          0.032146212746384656,
          0.03261971593919375,
          0.03309242283377589,
          0.03356351979685051,
          0.034032196554365284,
          0.034497649655909415,
          0.03495908587265942,
          0.035415725517300004,
          0.035866805675663346,
          0.03631158334108461,
          0.036749338443643344,
          0.037179376767527084,
          0.03760103275067883,
          0.038013672161658456,
          0.03841669464923801,
          0.038809536160646634,
          0.03919167122458198,
          0.03956261509510159,
          0.03992192575231589,
          0.04026920575542688,
          0.040604103943121236,
          0.04092631697564911,
          0.04123559071214485,
          0.041531721415893334,
          0.0418145567793696,
          0.04208399676001766,
          0.0423399942169323,
          0.042582555337912664,
          0.04281173984581832,
          0.04302766097281516,
          0.043230485190999306,
          0.04342043168806168,
          0.043597771577145276,
          0.04376282683086816,
          0.04391596893066032,
          0.04405761722410582,
          0.044188236984881765,
          0.044308337172151824,
          0.04441846788887012,
          0.0445192175413667,
          0.0446112097057777,
          0.0446950997103062,
          0.0447715709459078,
          0.0448413309217199,
          0.044905107085342504,
          0.04496364243184919,
          0.04501769092909883,
          0.04506801279044914,
          0.04511536962927282,
          0.04516051953266978,
          0.045204212094386555,
          0.04524718344913197,
          0.04529015135214897,
          0.045333810349029544,
          0.04537882708127816,
          0.04542583577302356,
          0.0454754339435136,
          0.04552817838859495,
          0.0455845814722765,
          0.04564510776671599,
          0.04571017107557303,
          0.04578013187167841,
          0.04585529517542208,
          0.04593590889522294,
          0.04602216264597823,
          0.046114187055576704,
          0.04621205356348659,
          0.04631577470918566,
          0.046425304901887364,
          0.04654054165673212,
          0.04666132727646536,
          0.04678745095170803,
          0.046918651247353706,
          0.047054618937486394,
          0.047195000146604195,
          0.04733939975093705,
          0.04748738499034037,
          0.04763848923869401,
          0.04779221587899086,
          0.047948042228405256,
          0.04810542345860893,
          0.04826379645746753,
          0.04842258357999659,
          0.048581196239062804,
          0.04873903828975076,
          0.048895509165524154,
          0.049050006729229004,
          0.049201929807537674,
          0.04935068038352474,
          0.04949566542859391,
          0.04963629836183626,
          0.049772000131967274,
          0.04990219992414857,
          0.05002633550111941,
          0.05014385319501994,
          0.050254207572961486,
          0.05035686080566172,
          0.050451281774216095,
          0.05053694495520246,
          0.05061332912873459,
          0.050679915957703166,
          0.0507361884892118,
          0.050781629631073064,
          0.05081572065715048,
          0.05083793979529498,
          0.05084776095062624,
          0.05084465261498172,
          0.05082807701051464,
          0.05079748951173235,
          0.050752338385788645,
          0.05069206488564899,
          0.05061610372493953,
          0.05052388395695627,
          0.05041483027356541,
          0.05028836473267799,
          0.050143908915753155,
          0.04998088650948719,
          0.04979872629859982,
          0.049596865549552595,
          0.04937475375822729,
          0.049131856728169145,
          0.048867660940045715,
          0.04858167816757732,
          0.04827345029043546,
          0.04794255425053883,
          0.04758860709486016,
          0.047211271045328,
          0.04681025853468733,
          0.04638533714629615,
          0.04593633439577196,
          0.04546314229316216,
          0.04496572162586951,
          0.044444105904891035,
          0.0438984049199835,
          0.043328807853104036,
          0.04273558590383604,
          0.042119094385432924,
          0.04147977425553489,
          0.040818153051455225,
          0.040134845206134036,
          0.03943055172732055,
          0.038706059229215405,
          0.037962238312582094,
          0.03720004129615949,
          0.036420499308984486,
          0.03562471875990146,
          0.03481387720700757,
          0.03398921865600072,
          0.03315204832228377,
          0.032303726897176824,
          0.03144566436363969,
          0.03057931341145119,
          0.029706162505793176,
          0.02882772866658876,
          0.027945550018727696,
          0.02706117817543437,
          0.026176170518484938,
          0.025292082439741615,
          0.02441045960853915,
          0.023532830328836688,
          0.022660698048743416,
          0.021795534083064592,
          0.02093877060691254,
          0.02009179397523251,
          0.01925593841933594,
          0.01843248016726895,
          0.017622632030128035,
          0.016827538491321778,
          0.01604827133034406,
          0.015285825806925047,
          0.014541117425551333,
          0.013814979294352808,
          0.013108160086329677,
          0.012421322604907203,
          0.01175504294992852,
          0.011109810274507831,
          0.010486027117721564,
          0.009884010292986915,
          0.00930399230721565,
          0.00874612328148899,
          0.00821047334011908,
          0.007697035431581367,
          0.0072057285419440936,
          0.006736401259109729,
          0.006288835644425938,
          0.005862751367024123,
          0.005457810055598286,
          0.005073619822226812,
          0.0047097399132521,
          0.004365685443132412,
          0.004040932168538632,
          0.0037349212617455467,
          0.0034470640445183184,
          0.0031767466461762916,
          0.002923334552276323,
          0.0026861770133476126,
          0.0024646112862769204,
          0.0022579666842369403,
          0.0020655684144195783,
          0.0018867411862339206,
          0.001720812576007006,
          0.001567116137543552,
          0.0014249942511182128,
          0.001293800706555142,
          0.001172903018965368,
          0.0010616844784339834,
          0.000959545937457486,
          0.0008659073422077442,
          0.0007802090157316774,
          0.0007019127029776224,
          0.0006305023890657044,
          0.000565484903491977,
          0.0005063903239790918,
          0.00045277219446588615,
          0.00040420757227716816,
          0.0003602969198439744,
          0.0003206638564704315,
          0.00028495478558160847,
          0.00025283841265561646,
          0.00022400516866166498,
          0.0001981665533121196,
          0.00017505441181079627,
          0.00015442015805997562,
          0.00013603395649345234,
          0.00011968387385004415,
          0.00010517501130742991,
          0.00009232862647578374,
          0.00008098125381811739,
          0.00007098383113230664,
          0.00006220083880980197,
          0.00005450945768753101,
          0.00004779875044110137,
          0.000041968870635836485,
          0.00003693030276308508,
          0.00003260313584702713,
          0.000028916372514884508,
          0.000025807274783286628,
          0.00002322074722661517,
          0.0000211087576598176,
          0.00001942979498814461,
          0.000018148363448515387,
          0.000017234512090447983,
          0.00001666339801689814,
          0.00001641488162500531,
          0.000016473151851466798,
          0.000016826379234864084,
          0.000017466394455526346,
          0.000018388389900274757,
          0.00001959064172258602,
          0.000021074249826408033,
          0.000022842893192279147,
          0.000024902597985890165,
          0.000027261515940334796,
          0.000029929710582631626,
          0.00003291894898144895,
          0.00003624249682515896,
          0.00003991491479621255,
          0.00004395185438828592,
          0.000048369851515423335,
          0.000053186116486227736,
          0.0000584183191595659,
          0.00006408436835952166,
          0.00007020218490462344,
          0.0000767894678973982,
          0.00008386345422257788,
          0.00009144067151298597,
          0.00009953668515794139,
          0.00010816584024653917,
          0.00011734099965333107,
          0.0001270732797827221,
          0.0001373717857861725,
          0.0001482433483484685,
          0.00015969226440105166,
          0.00017172004435661397,
          0.00018432516866517478,
          0.0001975028566625947,
          0.00021124485081351757,
          0.00022553921953767097,
          0.00024037018184748965,
          0.0002557179570127188,
          0.0002715586424014856,
          0.0002878641225251461,
          0.00030460201213516213,
          0.00032173563598399585,
          0.00033922404756937975,
          0.00035702208883433846,
          0.0003750804923966926,
          0.0003933460274357517,
          0.00041176168987539153,
          0.0004302669369778594,
          0.00044879796590854615,
          0.0004672880352566075,
          0.00048566782790807766,
          0.0005038658530767807,
          0.0005218088847131527,
          0.0005394224329424267,
          0.0005566312446415332,
          0.0005733598287584132,
          0.000589533001518337,
          0.0006050764462578753,
          0.0006199172822876455,
          0.0006339846369166891,
          0.0006472102145813885,
          0.0006595288569151968,
          0.0006708790875759826,
          0.0006812036357180286,
          0.0006904499321562027,
          0.0006985705725198367,
          0.0007055237420308771,
          0.0007112735969605502,
          0.00071579059831569,
          0.0007190517938723961,
          0.0007210410453025001,
          0.0007217491978173721,
          0.0007211741904731324,
          0.000719321106029534,
          0.0007162021600194336,
          0.0007118366294540725,
          0.0007062507223486051,
          0.0006994773899897972,
          0.0006915560845711788,
          0.0006825324654786927,
          0.0006724580581111197,
          0.0006613898696546222,
          0.0006493899666912638,
          0.0006365250199001469,
          0.0006228658214016587,
          0.0006084867804961101,
          0.0005934654036560444,
          0.0005778817646460889,
          0.0005618179705668273,
          0.0005453576294531086,
          0.00052858532480674,
          0.0005115861021152343,
          0.0004944449720094195,
          0.00047724643425208694,
          0.0004600740262373237,
          0.00044300989912587565,
          0.0004261344241574572,
          0.00040952583107737,
          0.00039325988000387996,
          0.00037740956745625336,
          0.00036204486667196825,
          0.0003472325017765178,
          0.00033303575484013855,
          0.00031951430437192314,
          0.00030672409337136085,
          0.00029471722468695996,
          0.0002835418811273724,
          0.0002732422675362376,
          0.0002638585718808591,
          0.00025542694231836153,
          0.00024797947719086365,
          0.00024154422496230196,
          0.00023614519124078446,
          0.0002318023502277881,
          0.0002285316581936793,
          0.00022634506689144293,
          0.00022525053517981377,
          0.00022525203752470964,
          0.0002263495684751436,
          0.00022853914265697948,
          0.00023181279028516025,
          0.00023615854865228385,
          0.00024156045049856308,
          0.0002479985105953884,
          0.0002554487122723504,
          0.00026388299597676976,
          0.0002732692522670066,
          0.0002835713218989068,
          0.000294749005861923,
          0.00030675808835255706,
          0.00031955037573364704,
          0.0003330737545157308,
          0.0003472722713100192,
          0.00036208623754121154,
          0.00037745236147402564,
          0.0003933039098028297,
          0.0004095709006832366,
          0.0004261803296539739,
          0.0004430564294132524,
          0.00046012096388477723,
          0.0004772935564432324,
          0.0004944920515777409,
          0.000511632908665167,
          0.0005286316259141659,
          0.0005454031919375647,
          0.0005618625618260308,
          0.0005779251540419794,
          0.000593507363940199,
          0.0006085270892611883,
          0.0006229042625445603,
          0.000636561385081724,
          0.0006494240567769085,
          0.0006614214961196489,
          0.0006724870443948072,
          0.0006825586482710245,
          0.000691579315016688,
          0.000699497534793616,
          0.0007062676647707213,
          0.0007118502701789167,
          0.0007162124178892704,
          0.0007193279186316466,
          0.0007211775145724859
         ],
         "yaxis": "y"
        }
       ],
       "layout": {
        "barmode": "overlay",
        "font": {
         "size": 18
        },
        "hovermode": "closest",
        "legend": {
         "traceorder": "reversed"
        },
        "plot_bgcolor": "#F5F5F8",
        "template": {
         "data": {
          "bar": [
           {
            "error_x": {
             "color": "#2a3f5f"
            },
            "error_y": {
             "color": "#2a3f5f"
            },
            "marker": {
             "line": {
              "color": "#E5ECF6",
              "width": 0.5
             },
             "pattern": {
              "fillmode": "overlay",
              "size": 10,
              "solidity": 0.2
             }
            },
            "type": "bar"
           }
          ],
          "barpolar": [
           {
            "marker": {
             "line": {
              "color": "#E5ECF6",
              "width": 0.5
             },
             "pattern": {
              "fillmode": "overlay",
              "size": 10,
              "solidity": 0.2
             }
            },
            "type": "barpolar"
           }
          ],
          "carpet": [
           {
            "aaxis": {
             "endlinecolor": "#2a3f5f",
             "gridcolor": "white",
             "linecolor": "white",
             "minorgridcolor": "white",
             "startlinecolor": "#2a3f5f"
            },
            "baxis": {
             "endlinecolor": "#2a3f5f",
             "gridcolor": "white",
             "linecolor": "white",
             "minorgridcolor": "white",
             "startlinecolor": "#2a3f5f"
            },
            "type": "carpet"
           }
          ],
          "choropleth": [
           {
            "colorbar": {
             "outlinewidth": 0,
             "ticks": ""
            },
            "type": "choropleth"
           }
          ],
          "contour": [
           {
            "colorbar": {
             "outlinewidth": 0,
             "ticks": ""
            },
            "colorscale": [
             [
              0,
              "#0d0887"
             ],
             [
              0.1111111111111111,
              "#46039f"
             ],
             [
              0.2222222222222222,
              "#7201a8"
             ],
             [
              0.3333333333333333,
              "#9c179e"
             ],
             [
              0.4444444444444444,
              "#bd3786"
             ],
             [
              0.5555555555555556,
              "#d8576b"
             ],
             [
              0.6666666666666666,
              "#ed7953"
             ],
             [
              0.7777777777777778,
              "#fb9f3a"
             ],
             [
              0.8888888888888888,
              "#fdca26"
             ],
             [
              1,
              "#f0f921"
             ]
            ],
            "type": "contour"
           }
          ],
          "contourcarpet": [
           {
            "colorbar": {
             "outlinewidth": 0,
             "ticks": ""
            },
            "type": "contourcarpet"
           }
          ],
          "heatmap": [
           {
            "colorbar": {
             "outlinewidth": 0,
             "ticks": ""
            },
            "colorscale": [
             [
              0,
              "#0d0887"
             ],
             [
              0.1111111111111111,
              "#46039f"
             ],
             [
              0.2222222222222222,
              "#7201a8"
             ],
             [
              0.3333333333333333,
              "#9c179e"
             ],
             [
              0.4444444444444444,
              "#bd3786"
             ],
             [
              0.5555555555555556,
              "#d8576b"
             ],
             [
              0.6666666666666666,
              "#ed7953"
             ],
             [
              0.7777777777777778,
              "#fb9f3a"
             ],
             [
              0.8888888888888888,
              "#fdca26"
             ],
             [
              1,
              "#f0f921"
             ]
            ],
            "type": "heatmap"
           }
          ],
          "heatmapgl": [
           {
            "colorbar": {
             "outlinewidth": 0,
             "ticks": ""
            },
            "colorscale": [
             [
              0,
              "#0d0887"
             ],
             [
              0.1111111111111111,
              "#46039f"
             ],
             [
              0.2222222222222222,
              "#7201a8"
             ],
             [
              0.3333333333333333,
              "#9c179e"
             ],
             [
              0.4444444444444444,
              "#bd3786"
             ],
             [
              0.5555555555555556,
              "#d8576b"
             ],
             [
              0.6666666666666666,
              "#ed7953"
             ],
             [
              0.7777777777777778,
              "#fb9f3a"
             ],
             [
              0.8888888888888888,
              "#fdca26"
             ],
             [
              1,
              "#f0f921"
             ]
            ],
            "type": "heatmapgl"
           }
          ],
          "histogram": [
           {
            "marker": {
             "pattern": {
              "fillmode": "overlay",
              "size": 10,
              "solidity": 0.2
             }
            },
            "type": "histogram"
           }
          ],
          "histogram2d": [
           {
            "colorbar": {
             "outlinewidth": 0,
             "ticks": ""
            },
            "colorscale": [
             [
              0,
              "#0d0887"
             ],
             [
              0.1111111111111111,
              "#46039f"
             ],
             [
              0.2222222222222222,
              "#7201a8"
             ],
             [
              0.3333333333333333,
              "#9c179e"
             ],
             [
              0.4444444444444444,
              "#bd3786"
             ],
             [
              0.5555555555555556,
              "#d8576b"
             ],
             [
              0.6666666666666666,
              "#ed7953"
             ],
             [
              0.7777777777777778,
              "#fb9f3a"
             ],
             [
              0.8888888888888888,
              "#fdca26"
             ],
             [
              1,
              "#f0f921"
             ]
            ],
            "type": "histogram2d"
           }
          ],
          "histogram2dcontour": [
           {
            "colorbar": {
             "outlinewidth": 0,
             "ticks": ""
            },
            "colorscale": [
             [
              0,
              "#0d0887"
             ],
             [
              0.1111111111111111,
              "#46039f"
             ],
             [
              0.2222222222222222,
              "#7201a8"
             ],
             [
              0.3333333333333333,
              "#9c179e"
             ],
             [
              0.4444444444444444,
              "#bd3786"
             ],
             [
              0.5555555555555556,
              "#d8576b"
             ],
             [
              0.6666666666666666,
              "#ed7953"
             ],
             [
              0.7777777777777778,
              "#fb9f3a"
             ],
             [
              0.8888888888888888,
              "#fdca26"
             ],
             [
              1,
              "#f0f921"
             ]
            ],
            "type": "histogram2dcontour"
           }
          ],
          "mesh3d": [
           {
            "colorbar": {
             "outlinewidth": 0,
             "ticks": ""
            },
            "type": "mesh3d"
           }
          ],
          "parcoords": [
           {
            "line": {
             "colorbar": {
              "outlinewidth": 0,
              "ticks": ""
             }
            },
            "type": "parcoords"
           }
          ],
          "pie": [
           {
            "automargin": true,
            "type": "pie"
           }
          ],
          "scatter": [
           {
            "fillpattern": {
             "fillmode": "overlay",
             "size": 10,
             "solidity": 0.2
            },
            "type": "scatter"
           }
          ],
          "scatter3d": [
           {
            "line": {
             "colorbar": {
              "outlinewidth": 0,
              "ticks": ""
             }
            },
            "marker": {
             "colorbar": {
              "outlinewidth": 0,
              "ticks": ""
             }
            },
            "type": "scatter3d"
           }
          ],
          "scattercarpet": [
           {
            "marker": {
             "colorbar": {
              "outlinewidth": 0,
              "ticks": ""
             }
            },
            "type": "scattercarpet"
           }
          ],
          "scattergeo": [
           {
            "marker": {
             "colorbar": {
              "outlinewidth": 0,
              "ticks": ""
             }
            },
            "type": "scattergeo"
           }
          ],
          "scattergl": [
           {
            "marker": {
             "colorbar": {
              "outlinewidth": 0,
              "ticks": ""
             }
            },
            "type": "scattergl"
           }
          ],
          "scattermapbox": [
           {
            "marker": {
             "colorbar": {
              "outlinewidth": 0,
              "ticks": ""
             }
            },
            "type": "scattermapbox"
           }
          ],
          "scatterpolar": [
           {
            "marker": {
             "colorbar": {
              "outlinewidth": 0,
              "ticks": ""
             }
            },
            "type": "scatterpolar"
           }
          ],
          "scatterpolargl": [
           {
            "marker": {
             "colorbar": {
              "outlinewidth": 0,
              "ticks": ""
             }
            },
            "type": "scatterpolargl"
           }
          ],
          "scatterternary": [
           {
            "marker": {
             "colorbar": {
              "outlinewidth": 0,
              "ticks": ""
             }
            },
            "type": "scatterternary"
           }
          ],
          "surface": [
           {
            "colorbar": {
             "outlinewidth": 0,
             "ticks": ""
            },
            "colorscale": [
             [
              0,
              "#0d0887"
             ],
             [
              0.1111111111111111,
              "#46039f"
             ],
             [
              0.2222222222222222,
              "#7201a8"
             ],
             [
              0.3333333333333333,
              "#9c179e"
             ],
             [
              0.4444444444444444,
              "#bd3786"
             ],
             [
              0.5555555555555556,
              "#d8576b"
             ],
             [
              0.6666666666666666,
              "#ed7953"
             ],
             [
              0.7777777777777778,
              "#fb9f3a"
             ],
             [
              0.8888888888888888,
              "#fdca26"
             ],
             [
              1,
              "#f0f921"
             ]
            ],
            "type": "surface"
           }
          ],
          "table": [
           {
            "cells": {
             "fill": {
              "color": "#EBF0F8"
             },
             "line": {
              "color": "white"
             }
            },
            "header": {
             "fill": {
              "color": "#C8D4E3"
             },
             "line": {
              "color": "white"
             }
            },
            "type": "table"
           }
          ]
         },
         "layout": {
          "annotationdefaults": {
           "arrowcolor": "#2a3f5f",
           "arrowhead": 0,
           "arrowwidth": 1
          },
          "autotypenumbers": "strict",
          "coloraxis": {
           "colorbar": {
            "outlinewidth": 0,
            "ticks": ""
           }
          },
          "colorscale": {
           "diverging": [
            [
             0,
             "#8e0152"
            ],
            [
             0.1,
             "#c51b7d"
            ],
            [
             0.2,
             "#de77ae"
            ],
            [
             0.3,
             "#f1b6da"
            ],
            [
             0.4,
             "#fde0ef"
            ],
            [
             0.5,
             "#f7f7f7"
            ],
            [
             0.6,
             "#e6f5d0"
            ],
            [
             0.7,
             "#b8e186"
            ],
            [
             0.8,
             "#7fbc41"
            ],
            [
             0.9,
             "#4d9221"
            ],
            [
             1,
             "#276419"
            ]
           ],
           "sequential": [
            [
             0,
             "#0d0887"
            ],
            [
             0.1111111111111111,
             "#46039f"
            ],
            [
             0.2222222222222222,
             "#7201a8"
            ],
            [
             0.3333333333333333,
             "#9c179e"
            ],
            [
             0.4444444444444444,
             "#bd3786"
            ],
            [
             0.5555555555555556,
             "#d8576b"
            ],
            [
             0.6666666666666666,
             "#ed7953"
            ],
            [
             0.7777777777777778,
             "#fb9f3a"
            ],
            [
             0.8888888888888888,
             "#fdca26"
            ],
            [
             1,
             "#f0f921"
            ]
           ],
           "sequentialminus": [
            [
             0,
             "#0d0887"
            ],
            [
             0.1111111111111111,
             "#46039f"
            ],
            [
             0.2222222222222222,
             "#7201a8"
            ],
            [
             0.3333333333333333,
             "#9c179e"
            ],
            [
             0.4444444444444444,
             "#bd3786"
            ],
            [
             0.5555555555555556,
             "#d8576b"
            ],
            [
             0.6666666666666666,
             "#ed7953"
            ],
            [
             0.7777777777777778,
             "#fb9f3a"
            ],
            [
             0.8888888888888888,
             "#fdca26"
            ],
            [
             1,
             "#f0f921"
            ]
           ]
          },
          "colorway": [
           "#636efa",
           "#EF553B",
           "#00cc96",
           "#ab63fa",
           "#FFA15A",
           "#19d3f3",
           "#FF6692",
           "#B6E880",
           "#FF97FF",
           "#FECB52"
          ],
          "font": {
           "color": "#2a3f5f"
          },
          "geo": {
           "bgcolor": "white",
           "lakecolor": "white",
           "landcolor": "#E5ECF6",
           "showlakes": true,
           "showland": true,
           "subunitcolor": "white"
          },
          "hoverlabel": {
           "align": "left"
          },
          "hovermode": "closest",
          "mapbox": {
           "style": "light"
          },
          "paper_bgcolor": "white",
          "plot_bgcolor": "#E5ECF6",
          "polar": {
           "angularaxis": {
            "gridcolor": "white",
            "linecolor": "white",
            "ticks": ""
           },
           "bgcolor": "#E5ECF6",
           "radialaxis": {
            "gridcolor": "white",
            "linecolor": "white",
            "ticks": ""
           }
          },
          "scene": {
           "xaxis": {
            "backgroundcolor": "#E5ECF6",
            "gridcolor": "white",
            "gridwidth": 2,
            "linecolor": "white",
            "showbackground": true,
            "ticks": "",
            "zerolinecolor": "white"
           },
           "yaxis": {
            "backgroundcolor": "#E5ECF6",
            "gridcolor": "white",
            "gridwidth": 2,
            "linecolor": "white",
            "showbackground": true,
            "ticks": "",
            "zerolinecolor": "white"
           },
           "zaxis": {
            "backgroundcolor": "#E5ECF6",
            "gridcolor": "white",
            "gridwidth": 2,
            "linecolor": "white",
            "showbackground": true,
            "ticks": "",
            "zerolinecolor": "white"
           }
          },
          "shapedefaults": {
           "line": {
            "color": "#2a3f5f"
           }
          },
          "ternary": {
           "aaxis": {
            "gridcolor": "white",
            "linecolor": "white",
            "ticks": ""
           },
           "baxis": {
            "gridcolor": "white",
            "linecolor": "white",
            "ticks": ""
           },
           "bgcolor": "#E5ECF6",
           "caxis": {
            "gridcolor": "white",
            "linecolor": "white",
            "ticks": ""
           }
          },
          "title": {
           "x": 0.05
          },
          "xaxis": {
           "automargin": true,
           "gridcolor": "white",
           "linecolor": "white",
           "ticks": "",
           "title": {
            "standoff": 15
           },
           "zerolinecolor": "white",
           "zerolinewidth": 2
          },
          "yaxis": {
           "automargin": true,
           "gridcolor": "white",
           "linecolor": "white",
           "ticks": "",
           "title": {
            "standoff": 15
           },
           "zerolinecolor": "white",
           "zerolinewidth": 2
          }
         }
        },
        "title": {
         "text": "Real vs. Synthetic Data for column 'WBC'"
        },
        "xaxis": {
         "anchor": "y2",
         "domain": [
          0,
          1
         ],
         "title": {
          "text": "Value"
         },
         "zeroline": false
        },
        "yaxis": {
         "anchor": "free",
         "domain": [
          0,
          1
         ],
         "position": 0,
         "title": {
          "text": "Frequency"
         }
        }
       }
      }
     },
     "metadata": {},
     "output_type": "display_data"
    }
   ],
   "source": [
    "for column in real_data.columns:\n",
    "    # Generate the plot for the current column\n",
    "    fig = get_column_plot(\n",
    "        real_data=real_data,\n",
    "        synthetic_data=synthetic_data,\n",
    "        column_name=column,\n",
    "        metadata=metadata\n",
    "    )\n",
    "    \n",
    "    fig.show()"
   ]
  },
  {
   "cell_type": "code",
   "execution_count": 17,
   "metadata": {},
   "outputs": [
    {
     "data": {
      "application/vnd.plotly.v1+json": {
       "config": {
        "plotlyServerURL": "https://plot.ly"
       },
       "data": [
        {
         "alignmentgroup": "True",
         "hovertemplate": "Data=Real<br>gender=%{x}<br>age=%{y}<extra></extra>",
         "legendgroup": "Real",
         "marker": {
          "color": "#000036"
         },
         "name": "Real",
         "notched": false,
         "offsetgroup": "Real",
         "orientation": "v",
         "showlegend": true,
         "type": "box",
         "x": [
          "M",
          "F",
          "M",
          "F",
          "M",
          "F",
          "F",
          "F",
          "F",
          "F",
          "F",
          "M",
          "F",
          "M",
          "F",
          "F",
          "M",
          "M",
          "F",
          "F",
          "F",
          "M",
          "M",
          "F",
          "M",
          "F",
          "F",
          "F",
          "F",
          "F",
          "F",
          "F",
          "F",
          "F",
          "F",
          "M",
          "M",
          "F",
          "F",
          "F",
          "F",
          "M",
          "F",
          "M",
          "M",
          "M",
          "F",
          "M",
          "M",
          "M",
          "M",
          "F",
          "F",
          "F",
          "F",
          "M",
          "M",
          "F",
          "F",
          "F",
          "M",
          "F",
          "M",
          "M",
          "M",
          "M",
          "F",
          "M",
          "M",
          "F",
          "M",
          "F",
          "F",
          "F",
          "F",
          "M",
          "M",
          "F",
          "F",
          "F",
          "F",
          "M",
          "F",
          "F",
          "F",
          "F",
          "M",
          "M",
          "M",
          "F",
          "M",
          "M",
          "F",
          "M",
          "F",
          "M",
          "F",
          "F",
          "M",
          "M",
          "F",
          "F",
          "F",
          "M",
          "F",
          "F",
          "F",
          "M",
          "M",
          "F",
          "M",
          "M",
          "F",
          "F",
          "M",
          "M",
          "M",
          "M",
          "M",
          "F",
          "F",
          "M",
          "M",
          "M",
          "M",
          "F",
          "M",
          "M",
          "F",
          "F",
          "F",
          "M",
          "F",
          "F",
          "M",
          "M",
          "F",
          "F",
          "M",
          "M",
          "F",
          "F",
          "F",
          "M",
          "M",
          "M",
          "F",
          "F",
          "M",
          "M",
          "M",
          "F",
          "F",
          "F",
          "M",
          "M",
          "M",
          "F",
          "M",
          "M",
          "M",
          "M",
          "M",
          "M",
          "M",
          "F",
          "M",
          "F",
          "F",
          "F",
          "F",
          "F",
          "F",
          "F",
          "M",
          "F",
          "F",
          "F",
          "F",
          "F",
          "F",
          "F",
          "F",
          "F",
          "F",
          "M",
          "F",
          "F",
          "F",
          "F",
          "F",
          "F",
          "F",
          "F",
          "F",
          "F",
          "F",
          "F",
          "M",
          "M",
          "M",
          "M",
          "M",
          "F",
          "M",
          "M",
          "F",
          "M",
          "F",
          "F",
          "M",
          "M",
          "M",
          "F",
          "F",
          "F",
          "M"
         ],
         "x0": " ",
         "xaxis": "x",
         "y": [
          51,
          88,
          29,
          85,
          76,
          62,
          75,
          77,
          40,
          89,
          66,
          82,
          78,
          64,
          39,
          42,
          32,
          54,
          28,
          44,
          72,
          80,
          77,
          41,
          53,
          29,
          77,
          34,
          61,
          83,
          37,
          48,
          49,
          45,
          48,
          76,
          49,
          23,
          21,
          65,
          43,
          57,
          60,
          22,
          48,
          34,
          29,
          75,
          43,
          31,
          27,
          22,
          22,
          48,
          46,
          21,
          69,
          56,
          57,
          24,
          22,
          47,
          34,
          45,
          70,
          66,
          70,
          39,
          56,
          24,
          59,
          39,
          80,
          81,
          47,
          76,
          72,
          51,
          52,
          69,
          70,
          35,
          84,
          74,
          84,
          66,
          78,
          55,
          57,
          41,
          67,
          74,
          40,
          54,
          69,
          39,
          29,
          70,
          83,
          70,
          79,
          41,
          60,
          80,
          64,
          64,
          64,
          49,
          67,
          86,
          75,
          61,
          57,
          54,
          48,
          86,
          82,
          80,
          74,
          77,
          58,
          58,
          59,
          68,
          64,
          57,
          44,
          73,
          45,
          82,
          67,
          68,
          65,
          65,
          48,
          63,
          68,
          63,
          79,
          52,
          38,
          56,
          61,
          69,
          64,
          61,
          63,
          85,
          77,
          61,
          65,
          45,
          39,
          32,
          84,
          83,
          33,
          47,
          46,
          42,
          77,
          59,
          66,
          68,
          61,
          53,
          31,
          85,
          83,
          62,
          85,
          82,
          76,
          84,
          76,
          72,
          85,
          66,
          70,
          64,
          88,
          84,
          81,
          85,
          74,
          85,
          81,
          76,
          81,
          84,
          79,
          86,
          78,
          80,
          75,
          47,
          55,
          59,
          55,
          51,
          50,
          59,
          51,
          58,
          62,
          60,
          70,
          51,
          56,
          50,
          66,
          38,
          65,
          78,
          55,
          57,
          66
         ],
         "y0": " ",
         "yaxis": "y"
        },
        {
         "alignmentgroup": "True",
         "hovertemplate": "Data=Synthetic<br>gender=%{x}<br>age=%{y}<extra></extra>",
         "legendgroup": "Synthetic",
         "marker": {
          "color": "#01E0C9"
         },
         "name": "Synthetic",
         "notched": false,
         "offsetgroup": "Synthetic",
         "orientation": "v",
         "showlegend": true,
         "type": "box",
         "x": [
          "M",
          "M",
          "F",
          "M",
          "M",
          "M",
          "M",
          "M",
          "M",
          "M",
          "F",
          "M",
          "M",
          "M",
          "M",
          "M",
          "M",
          "M",
          "M",
          "M",
          "M",
          "M",
          "F",
          "F",
          "M",
          "M",
          "M",
          "M",
          "M",
          "M",
          "M",
          "M",
          "M",
          "M",
          "M",
          "F",
          "M",
          "M",
          "M",
          "M",
          "M",
          "M",
          "M",
          "M",
          "M",
          "M",
          "M",
          "F",
          "M",
          "M",
          "M",
          "M",
          "F",
          "M",
          "M",
          "M",
          "F",
          "M",
          "M",
          "M",
          "M",
          "F",
          "F",
          "M",
          "F",
          "M",
          "M",
          "M",
          "M",
          "M",
          "M",
          "F",
          "M",
          "M",
          "F",
          "M",
          "M",
          "M",
          "M",
          "M",
          "M",
          "M",
          "F",
          "M",
          "M",
          "M",
          "M",
          "M",
          "M",
          "M",
          "M",
          "M",
          "M",
          "M",
          "M",
          "M",
          "M",
          "M",
          "M",
          "M",
          "M",
          "M",
          "M",
          "F",
          "M",
          "M",
          "M",
          "M",
          "F",
          "M",
          "M",
          "M",
          "F",
          "M",
          "M",
          "M",
          "M",
          "M",
          "F",
          "M",
          "M",
          "M",
          "M",
          "M",
          "M",
          "M",
          "M",
          "M",
          "M",
          "M",
          "M",
          "F",
          "M",
          "M",
          "M",
          "M",
          "M",
          "M",
          "M",
          "M",
          "M",
          "M",
          "M",
          "M",
          "M",
          "M",
          "F",
          "M",
          "M",
          "M",
          "M",
          "M",
          "M",
          "M",
          "M",
          "M",
          "M",
          "F",
          "M",
          "M",
          "M",
          "M",
          "M",
          "F",
          "F",
          "M",
          "M",
          "M",
          "M",
          "M",
          "M",
          "M",
          "F",
          "M",
          "M",
          "M",
          "M",
          "M",
          "M",
          "F",
          "M",
          "M",
          "M",
          "M",
          "M",
          "M",
          "M",
          "M",
          "M",
          "M",
          "M",
          "M",
          "M",
          "M",
          "M",
          "M",
          "M",
          "M",
          "F",
          "M",
          "F",
          "M",
          "M",
          "M",
          "M",
          "M",
          "M",
          "M",
          "M",
          "M",
          "M",
          "M",
          "M",
          "F",
          "M",
          "M",
          "M"
         ],
         "x0": " ",
         "xaxis": "x",
         "y": [
          52,
          43,
          72,
          89,
          66,
          86,
          16,
          60,
          71,
          94,
          52,
          44,
          90,
          75,
          59,
          96,
          67,
          66,
          50,
          94,
          16,
          58,
          67,
          77,
          105,
          50,
          76,
          18,
          104,
          65,
          78,
          76,
          78,
          79,
          80,
          60,
          29,
          79,
          72,
          98,
          41,
          104,
          57,
          87,
          88,
          85,
          66,
          60,
          28,
          68,
          77,
          105,
          81,
          93,
          44,
          87,
          48,
          86,
          50,
          89,
          49,
          70,
          102,
          86,
          61,
          70,
          54,
          63,
          87,
          80,
          79,
          54,
          59,
          82,
          101,
          85,
          86,
          42,
          76,
          48,
          81,
          66,
          69,
          85,
          78,
          66,
          104,
          77,
          95,
          85,
          92,
          79,
          39,
          57,
          70,
          56,
          27,
          86,
          87,
          71,
          66,
          88,
          102,
          106,
          106,
          75,
          88,
          53,
          89,
          95,
          79,
          64,
          70,
          25,
          91,
          50,
          69,
          80,
          30,
          67,
          76,
          64,
          69,
          66,
          12,
          75,
          70,
          95,
          68,
          72,
          82,
          96,
          90,
          87,
          56,
          76,
          92,
          85,
          91,
          90,
          45,
          97,
          65,
          99,
          72,
          88,
          106,
          102,
          81,
          78,
          64,
          97,
          51,
          63,
          103,
          60,
          78,
          82,
          42,
          50,
          23,
          45,
          79,
          95,
          91,
          93,
          76,
          93,
          85,
          48,
          100,
          86,
          100,
          97,
          74,
          39,
          43,
          83,
          56,
          61,
          64,
          62,
          95,
          41,
          77,
          50,
          77,
          50,
          77,
          80,
          42,
          95,
          88,
          94,
          97,
          66,
          70,
          83,
          68,
          83,
          58,
          76,
          47,
          78,
          58,
          43,
          66,
          100,
          56,
          98,
          19,
          88,
          57,
          85,
          60,
          83,
          69
         ],
         "y0": " ",
         "yaxis": "y"
        }
       ],
       "layout": {
        "boxmode": "group",
        "font": {
         "size": 18
        },
        "legend": {
         "title": {
          "text": "Data"
         },
         "tracegroupgap": 0
        },
        "margin": {
         "t": 60
        },
        "plot_bgcolor": "#F5F5F8",
        "template": {
         "data": {
          "bar": [
           {
            "error_x": {
             "color": "#2a3f5f"
            },
            "error_y": {
             "color": "#2a3f5f"
            },
            "marker": {
             "line": {
              "color": "#E5ECF6",
              "width": 0.5
             },
             "pattern": {
              "fillmode": "overlay",
              "size": 10,
              "solidity": 0.2
             }
            },
            "type": "bar"
           }
          ],
          "barpolar": [
           {
            "marker": {
             "line": {
              "color": "#E5ECF6",
              "width": 0.5
             },
             "pattern": {
              "fillmode": "overlay",
              "size": 10,
              "solidity": 0.2
             }
            },
            "type": "barpolar"
           }
          ],
          "carpet": [
           {
            "aaxis": {
             "endlinecolor": "#2a3f5f",
             "gridcolor": "white",
             "linecolor": "white",
             "minorgridcolor": "white",
             "startlinecolor": "#2a3f5f"
            },
            "baxis": {
             "endlinecolor": "#2a3f5f",
             "gridcolor": "white",
             "linecolor": "white",
             "minorgridcolor": "white",
             "startlinecolor": "#2a3f5f"
            },
            "type": "carpet"
           }
          ],
          "choropleth": [
           {
            "colorbar": {
             "outlinewidth": 0,
             "ticks": ""
            },
            "type": "choropleth"
           }
          ],
          "contour": [
           {
            "colorbar": {
             "outlinewidth": 0,
             "ticks": ""
            },
            "colorscale": [
             [
              0,
              "#0d0887"
             ],
             [
              0.1111111111111111,
              "#46039f"
             ],
             [
              0.2222222222222222,
              "#7201a8"
             ],
             [
              0.3333333333333333,
              "#9c179e"
             ],
             [
              0.4444444444444444,
              "#bd3786"
             ],
             [
              0.5555555555555556,
              "#d8576b"
             ],
             [
              0.6666666666666666,
              "#ed7953"
             ],
             [
              0.7777777777777778,
              "#fb9f3a"
             ],
             [
              0.8888888888888888,
              "#fdca26"
             ],
             [
              1,
              "#f0f921"
             ]
            ],
            "type": "contour"
           }
          ],
          "contourcarpet": [
           {
            "colorbar": {
             "outlinewidth": 0,
             "ticks": ""
            },
            "type": "contourcarpet"
           }
          ],
          "heatmap": [
           {
            "colorbar": {
             "outlinewidth": 0,
             "ticks": ""
            },
            "colorscale": [
             [
              0,
              "#0d0887"
             ],
             [
              0.1111111111111111,
              "#46039f"
             ],
             [
              0.2222222222222222,
              "#7201a8"
             ],
             [
              0.3333333333333333,
              "#9c179e"
             ],
             [
              0.4444444444444444,
              "#bd3786"
             ],
             [
              0.5555555555555556,
              "#d8576b"
             ],
             [
              0.6666666666666666,
              "#ed7953"
             ],
             [
              0.7777777777777778,
              "#fb9f3a"
             ],
             [
              0.8888888888888888,
              "#fdca26"
             ],
             [
              1,
              "#f0f921"
             ]
            ],
            "type": "heatmap"
           }
          ],
          "heatmapgl": [
           {
            "colorbar": {
             "outlinewidth": 0,
             "ticks": ""
            },
            "colorscale": [
             [
              0,
              "#0d0887"
             ],
             [
              0.1111111111111111,
              "#46039f"
             ],
             [
              0.2222222222222222,
              "#7201a8"
             ],
             [
              0.3333333333333333,
              "#9c179e"
             ],
             [
              0.4444444444444444,
              "#bd3786"
             ],
             [
              0.5555555555555556,
              "#d8576b"
             ],
             [
              0.6666666666666666,
              "#ed7953"
             ],
             [
              0.7777777777777778,
              "#fb9f3a"
             ],
             [
              0.8888888888888888,
              "#fdca26"
             ],
             [
              1,
              "#f0f921"
             ]
            ],
            "type": "heatmapgl"
           }
          ],
          "histogram": [
           {
            "marker": {
             "pattern": {
              "fillmode": "overlay",
              "size": 10,
              "solidity": 0.2
             }
            },
            "type": "histogram"
           }
          ],
          "histogram2d": [
           {
            "colorbar": {
             "outlinewidth": 0,
             "ticks": ""
            },
            "colorscale": [
             [
              0,
              "#0d0887"
             ],
             [
              0.1111111111111111,
              "#46039f"
             ],
             [
              0.2222222222222222,
              "#7201a8"
             ],
             [
              0.3333333333333333,
              "#9c179e"
             ],
             [
              0.4444444444444444,
              "#bd3786"
             ],
             [
              0.5555555555555556,
              "#d8576b"
             ],
             [
              0.6666666666666666,
              "#ed7953"
             ],
             [
              0.7777777777777778,
              "#fb9f3a"
             ],
             [
              0.8888888888888888,
              "#fdca26"
             ],
             [
              1,
              "#f0f921"
             ]
            ],
            "type": "histogram2d"
           }
          ],
          "histogram2dcontour": [
           {
            "colorbar": {
             "outlinewidth": 0,
             "ticks": ""
            },
            "colorscale": [
             [
              0,
              "#0d0887"
             ],
             [
              0.1111111111111111,
              "#46039f"
             ],
             [
              0.2222222222222222,
              "#7201a8"
             ],
             [
              0.3333333333333333,
              "#9c179e"
             ],
             [
              0.4444444444444444,
              "#bd3786"
             ],
             [
              0.5555555555555556,
              "#d8576b"
             ],
             [
              0.6666666666666666,
              "#ed7953"
             ],
             [
              0.7777777777777778,
              "#fb9f3a"
             ],
             [
              0.8888888888888888,
              "#fdca26"
             ],
             [
              1,
              "#f0f921"
             ]
            ],
            "type": "histogram2dcontour"
           }
          ],
          "mesh3d": [
           {
            "colorbar": {
             "outlinewidth": 0,
             "ticks": ""
            },
            "type": "mesh3d"
           }
          ],
          "parcoords": [
           {
            "line": {
             "colorbar": {
              "outlinewidth": 0,
              "ticks": ""
             }
            },
            "type": "parcoords"
           }
          ],
          "pie": [
           {
            "automargin": true,
            "type": "pie"
           }
          ],
          "scatter": [
           {
            "fillpattern": {
             "fillmode": "overlay",
             "size": 10,
             "solidity": 0.2
            },
            "type": "scatter"
           }
          ],
          "scatter3d": [
           {
            "line": {
             "colorbar": {
              "outlinewidth": 0,
              "ticks": ""
             }
            },
            "marker": {
             "colorbar": {
              "outlinewidth": 0,
              "ticks": ""
             }
            },
            "type": "scatter3d"
           }
          ],
          "scattercarpet": [
           {
            "marker": {
             "colorbar": {
              "outlinewidth": 0,
              "ticks": ""
             }
            },
            "type": "scattercarpet"
           }
          ],
          "scattergeo": [
           {
            "marker": {
             "colorbar": {
              "outlinewidth": 0,
              "ticks": ""
             }
            },
            "type": "scattergeo"
           }
          ],
          "scattergl": [
           {
            "marker": {
             "colorbar": {
              "outlinewidth": 0,
              "ticks": ""
             }
            },
            "type": "scattergl"
           }
          ],
          "scattermapbox": [
           {
            "marker": {
             "colorbar": {
              "outlinewidth": 0,
              "ticks": ""
             }
            },
            "type": "scattermapbox"
           }
          ],
          "scatterpolar": [
           {
            "marker": {
             "colorbar": {
              "outlinewidth": 0,
              "ticks": ""
             }
            },
            "type": "scatterpolar"
           }
          ],
          "scatterpolargl": [
           {
            "marker": {
             "colorbar": {
              "outlinewidth": 0,
              "ticks": ""
             }
            },
            "type": "scatterpolargl"
           }
          ],
          "scatterternary": [
           {
            "marker": {
             "colorbar": {
              "outlinewidth": 0,
              "ticks": ""
             }
            },
            "type": "scatterternary"
           }
          ],
          "surface": [
           {
            "colorbar": {
             "outlinewidth": 0,
             "ticks": ""
            },
            "colorscale": [
             [
              0,
              "#0d0887"
             ],
             [
              0.1111111111111111,
              "#46039f"
             ],
             [
              0.2222222222222222,
              "#7201a8"
             ],
             [
              0.3333333333333333,
              "#9c179e"
             ],
             [
              0.4444444444444444,
              "#bd3786"
             ],
             [
              0.5555555555555556,
              "#d8576b"
             ],
             [
              0.6666666666666666,
              "#ed7953"
             ],
             [
              0.7777777777777778,
              "#fb9f3a"
             ],
             [
              0.8888888888888888,
              "#fdca26"
             ],
             [
              1,
              "#f0f921"
             ]
            ],
            "type": "surface"
           }
          ],
          "table": [
           {
            "cells": {
             "fill": {
              "color": "#EBF0F8"
             },
             "line": {
              "color": "white"
             }
            },
            "header": {
             "fill": {
              "color": "#C8D4E3"
             },
             "line": {
              "color": "white"
             }
            },
            "type": "table"
           }
          ]
         },
         "layout": {
          "annotationdefaults": {
           "arrowcolor": "#2a3f5f",
           "arrowhead": 0,
           "arrowwidth": 1
          },
          "autotypenumbers": "strict",
          "coloraxis": {
           "colorbar": {
            "outlinewidth": 0,
            "ticks": ""
           }
          },
          "colorscale": {
           "diverging": [
            [
             0,
             "#8e0152"
            ],
            [
             0.1,
             "#c51b7d"
            ],
            [
             0.2,
             "#de77ae"
            ],
            [
             0.3,
             "#f1b6da"
            ],
            [
             0.4,
             "#fde0ef"
            ],
            [
             0.5,
             "#f7f7f7"
            ],
            [
             0.6,
             "#e6f5d0"
            ],
            [
             0.7,
             "#b8e186"
            ],
            [
             0.8,
             "#7fbc41"
            ],
            [
             0.9,
             "#4d9221"
            ],
            [
             1,
             "#276419"
            ]
           ],
           "sequential": [
            [
             0,
             "#0d0887"
            ],
            [
             0.1111111111111111,
             "#46039f"
            ],
            [
             0.2222222222222222,
             "#7201a8"
            ],
            [
             0.3333333333333333,
             "#9c179e"
            ],
            [
             0.4444444444444444,
             "#bd3786"
            ],
            [
             0.5555555555555556,
             "#d8576b"
            ],
            [
             0.6666666666666666,
             "#ed7953"
            ],
            [
             0.7777777777777778,
             "#fb9f3a"
            ],
            [
             0.8888888888888888,
             "#fdca26"
            ],
            [
             1,
             "#f0f921"
            ]
           ],
           "sequentialminus": [
            [
             0,
             "#0d0887"
            ],
            [
             0.1111111111111111,
             "#46039f"
            ],
            [
             0.2222222222222222,
             "#7201a8"
            ],
            [
             0.3333333333333333,
             "#9c179e"
            ],
            [
             0.4444444444444444,
             "#bd3786"
            ],
            [
             0.5555555555555556,
             "#d8576b"
            ],
            [
             0.6666666666666666,
             "#ed7953"
            ],
            [
             0.7777777777777778,
             "#fb9f3a"
            ],
            [
             0.8888888888888888,
             "#fdca26"
            ],
            [
             1,
             "#f0f921"
            ]
           ]
          },
          "colorway": [
           "#636efa",
           "#EF553B",
           "#00cc96",
           "#ab63fa",
           "#FFA15A",
           "#19d3f3",
           "#FF6692",
           "#B6E880",
           "#FF97FF",
           "#FECB52"
          ],
          "font": {
           "color": "#2a3f5f"
          },
          "geo": {
           "bgcolor": "white",
           "lakecolor": "white",
           "landcolor": "#E5ECF6",
           "showlakes": true,
           "showland": true,
           "subunitcolor": "white"
          },
          "hoverlabel": {
           "align": "left"
          },
          "hovermode": "closest",
          "mapbox": {
           "style": "light"
          },
          "paper_bgcolor": "white",
          "plot_bgcolor": "#E5ECF6",
          "polar": {
           "angularaxis": {
            "gridcolor": "white",
            "linecolor": "white",
            "ticks": ""
           },
           "bgcolor": "#E5ECF6",
           "radialaxis": {
            "gridcolor": "white",
            "linecolor": "white",
            "ticks": ""
           }
          },
          "scene": {
           "xaxis": {
            "backgroundcolor": "#E5ECF6",
            "gridcolor": "white",
            "gridwidth": 2,
            "linecolor": "white",
            "showbackground": true,
            "ticks": "",
            "zerolinecolor": "white"
           },
           "yaxis": {
            "backgroundcolor": "#E5ECF6",
            "gridcolor": "white",
            "gridwidth": 2,
            "linecolor": "white",
            "showbackground": true,
            "ticks": "",
            "zerolinecolor": "white"
           },
           "zaxis": {
            "backgroundcolor": "#E5ECF6",
            "gridcolor": "white",
            "gridwidth": 2,
            "linecolor": "white",
            "showbackground": true,
            "ticks": "",
            "zerolinecolor": "white"
           }
          },
          "shapedefaults": {
           "line": {
            "color": "#2a3f5f"
           }
          },
          "ternary": {
           "aaxis": {
            "gridcolor": "white",
            "linecolor": "white",
            "ticks": ""
           },
           "baxis": {
            "gridcolor": "white",
            "linecolor": "white",
            "ticks": ""
           },
           "bgcolor": "#E5ECF6",
           "caxis": {
            "gridcolor": "white",
            "linecolor": "white",
            "ticks": ""
           }
          },
          "title": {
           "x": 0.05
          },
          "xaxis": {
           "automargin": true,
           "gridcolor": "white",
           "linecolor": "white",
           "ticks": "",
           "title": {
            "standoff": 15
           },
           "zerolinecolor": "white",
           "zerolinewidth": 2
          },
          "yaxis": {
           "automargin": true,
           "gridcolor": "white",
           "linecolor": "white",
           "ticks": "",
           "title": {
            "standoff": 15
           },
           "zerolinecolor": "white",
           "zerolinewidth": 2
          }
         }
        },
        "title": {
         "text": "Real vs. Synthetic Data for columns 'gender' and 'age'"
        },
        "xaxis": {
         "anchor": "y",
         "domain": [
          0,
          1
         ],
         "title": {
          "text": "gender"
         }
        },
        "yaxis": {
         "anchor": "x",
         "domain": [
          0,
          1
         ],
         "title": {
          "text": "age"
         }
        }
       }
      }
     },
     "metadata": {},
     "output_type": "display_data"
    },
    {
     "data": {
      "application/vnd.plotly.v1+json": {
       "config": {
        "plotlyServerURL": "https://plot.ly"
       },
       "data": [
        {
         "alignmentgroup": "True",
         "hovertemplate": "Data=Real<br>admission_type=%{x}<br>hospital_stay_hours=%{y}<extra></extra>",
         "legendgroup": "Real",
         "marker": {
          "color": "#000036"
         },
         "name": "Real",
         "notched": false,
         "offsetgroup": "Real",
         "orientation": "v",
         "showlegend": true,
         "type": "box",
         "x": [
          "EMERGENCY",
          "EMERGENCY",
          "EMERGENCY",
          "EMERGENCY",
          "EMERGENCY",
          "EMERGENCY",
          "EMERGENCY",
          "EMERGENCY",
          "EMERGENCY",
          "EMERGENCY",
          "EMERGENCY",
          "EMERGENCY",
          "EMERGENCY",
          "EMERGENCY",
          "EMERGENCY",
          "EMERGENCY",
          "EMERGENCY",
          "EMERGENCY",
          "URGENT",
          "EMERGENCY",
          "EMERGENCY",
          "EMERGENCY",
          "EMERGENCY",
          "EMERGENCY",
          "EMERGENCY",
          "EMERGENCY",
          "URGENT",
          "EMERGENCY",
          "EMERGENCY",
          "EMERGENCY",
          "EMERGENCY",
          "EMERGENCY",
          "EMERGENCY",
          "EMERGENCY",
          "EMERGENCY",
          "EMERGENCY",
          "EMERGENCY",
          "EMERGENCY",
          "EMERGENCY",
          "EMERGENCY",
          "EMERGENCY",
          "EMERGENCY",
          "EMERGENCY",
          "EMERGENCY",
          "EMERGENCY",
          "EMERGENCY",
          "EMERGENCY",
          "EMERGENCY",
          "EMERGENCY",
          "EMERGENCY",
          "EMERGENCY",
          "EMERGENCY",
          "EMERGENCY",
          "EMERGENCY",
          "EMERGENCY",
          "EMERGENCY",
          "EMERGENCY",
          "EMERGENCY",
          "EMERGENCY",
          "EMERGENCY",
          "EMERGENCY",
          "EMERGENCY",
          "EMERGENCY",
          "EMERGENCY",
          "EMERGENCY",
          "EMERGENCY",
          "EMERGENCY",
          "EMERGENCY",
          "EMERGENCY",
          "EMERGENCY",
          "EMERGENCY",
          "EMERGENCY",
          "EMERGENCY",
          "EMERGENCY",
          "EMERGENCY",
          "EMERGENCY",
          "EMERGENCY",
          "EMERGENCY",
          "EMERGENCY",
          "EMERGENCY",
          "EMERGENCY",
          "EMERGENCY",
          "EMERGENCY",
          "EMERGENCY",
          "EMERGENCY",
          "EMERGENCY",
          "URGENT",
          "EMERGENCY",
          "EMERGENCY",
          "EMERGENCY",
          "EMERGENCY",
          "EMERGENCY",
          "EMERGENCY",
          "EMERGENCY",
          "EMERGENCY",
          "EMERGENCY",
          "EMERGENCY",
          "EMERGENCY",
          "EMERGENCY",
          "EMERGENCY",
          "EMERGENCY",
          "EMERGENCY",
          "EMERGENCY",
          "EMERGENCY",
          "EMERGENCY",
          "EMERGENCY",
          "EMERGENCY",
          "EMERGENCY",
          "EMERGENCY",
          "EMERGENCY",
          "EMERGENCY",
          "EMERGENCY",
          "EMERGENCY",
          "EMERGENCY",
          "EMERGENCY",
          "EMERGENCY",
          "EMERGENCY",
          "EMERGENCY",
          "EMERGENCY",
          "EMERGENCY",
          "EMERGENCY",
          "EMERGENCY",
          "EMERGENCY",
          "ELECTIVE",
          "EMERGENCY",
          "EMERGENCY",
          "EMERGENCY",
          "EMERGENCY",
          "EMERGENCY",
          "EMERGENCY",
          "EMERGENCY",
          "EMERGENCY",
          "EMERGENCY",
          "EMERGENCY",
          "EMERGENCY",
          "EMERGENCY",
          "EMERGENCY",
          "EMERGENCY",
          "EMERGENCY",
          "EMERGENCY",
          "EMERGENCY",
          "URGENT",
          "EMERGENCY",
          "EMERGENCY",
          "EMERGENCY",
          "EMERGENCY",
          "EMERGENCY",
          "EMERGENCY",
          "EMERGENCY",
          "EMERGENCY",
          "EMERGENCY",
          "EMERGENCY",
          "EMERGENCY",
          "EMERGENCY",
          "EMERGENCY",
          "EMERGENCY",
          "EMERGENCY",
          "EMERGENCY",
          "ELECTIVE",
          "EMERGENCY",
          "EMERGENCY",
          "EMERGENCY",
          "EMERGENCY",
          "EMERGENCY",
          "EMERGENCY",
          "EMERGENCY",
          "EMERGENCY",
          "EMERGENCY",
          "EMERGENCY",
          "EMERGENCY",
          "EMERGENCY",
          "EMERGENCY",
          "EMERGENCY",
          "EMERGENCY",
          "EMERGENCY",
          "EMERGENCY",
          "EMERGENCY",
          "EMERGENCY",
          "EMERGENCY",
          "EMERGENCY",
          "ELECTIVE",
          "EMERGENCY",
          "EMERGENCY",
          "EMERGENCY",
          "EMERGENCY",
          "EMERGENCY",
          "EMERGENCY",
          "EMERGENCY",
          "EMERGENCY",
          "EMERGENCY",
          "URGENT",
          "EMERGENCY",
          "EMERGENCY",
          "EMERGENCY",
          "EMERGENCY",
          "EMERGENCY",
          "EMERGENCY",
          "EMERGENCY",
          "EMERGENCY",
          "EMERGENCY",
          "EMERGENCY",
          "EMERGENCY",
          "EMERGENCY",
          "URGENT",
          "EMERGENCY",
          "EMERGENCY",
          "EMERGENCY",
          "URGENT",
          "EMERGENCY",
          "EMERGENCY",
          "EMERGENCY",
          "EMERGENCY",
          "EMERGENCY",
          "EMERGENCY",
          "EMERGENCY",
          "EMERGENCY",
          "EMERGENCY"
         ],
         "x0": " ",
         "xaxis": "x",
         "y": [
          517,
          236,
          106,
          42,
          87,
          185,
          189,
          9,
          135,
          69,
          397,
          191,
          112,
          1057,
          107,
          128,
          121,
          48,
          550,
          164,
          482,
          549,
          258,
          386,
          1434,
          991,
          143,
          285,
          211,
          90,
          245,
          552,
          433,
          210,
          1113,
          170,
          669,
          188,
          112,
          158,
          206,
          87,
          60,
          108,
          54,
          229,
          285,
          64,
          65,
          265,
          656,
          13,
          51,
          238,
          999,
          285,
          455,
          332,
          292,
          151,
          180,
          1147,
          1081,
          53,
          71,
          43,
          1091,
          317,
          430,
          141,
          120,
          309,
          167,
          159,
          202,
          119,
          158,
          217,
          35,
          88,
          260,
          95,
          119,
          78,
          179,
          237,
          360,
          225,
          375,
          142,
          361,
          183,
          107,
          53,
          121,
          376,
          92,
          527,
          714,
          425,
          57,
          209,
          560,
          436,
          600,
          372,
          739,
          97,
          168,
          151,
          162,
          502,
          89,
          336,
          255,
          20,
          136,
          73,
          565,
          1142,
          330,
          116,
          118,
          409,
          189,
          165,
          166,
          739,
          98,
          81,
          842,
          330,
          123,
          672,
          50,
          121,
          134,
          251,
          832,
          116,
          51,
          44,
          183,
          1081,
          369,
          1071,
          111,
          405,
          88,
          467,
          640,
          92,
          14,
          355,
          68,
          125,
          240,
          138,
          266,
          282,
          43,
          806,
          288,
          120,
          118,
          91,
          229,
          117,
          179,
          143,
          194,
          84,
          135,
          503,
          114,
          65,
          171,
          170,
          479,
          275,
          148,
          890,
          396,
          301,
          329,
          168,
          240,
          95,
          258,
          480,
          135,
          49,
          267,
          254,
          193,
          96,
          58,
          208,
          44,
          119,
          42,
          313,
          43,
          523,
          93,
          20,
          285,
          398,
          559,
          21,
          386,
          2465,
          186,
          262,
          2013,
          212,
          213
         ],
         "y0": " ",
         "yaxis": "y"
        },
        {
         "alignmentgroup": "True",
         "hovertemplate": "Data=Synthetic<br>admission_type=%{x}<br>hospital_stay_hours=%{y}<extra></extra>",
         "legendgroup": "Synthetic",
         "marker": {
          "color": "#01E0C9"
         },
         "name": "Synthetic",
         "notched": false,
         "offsetgroup": "Synthetic",
         "orientation": "v",
         "showlegend": true,
         "type": "box",
         "x": [
          "EMERGENCY",
          "EMERGENCY",
          "EMERGENCY",
          "EMERGENCY",
          "EMERGENCY",
          "EMERGENCY",
          "EMERGENCY",
          "EMERGENCY",
          "EMERGENCY",
          "EMERGENCY",
          "EMERGENCY",
          "EMERGENCY",
          "EMERGENCY",
          "EMERGENCY",
          "EMERGENCY",
          "EMERGENCY",
          "EMERGENCY",
          "EMERGENCY",
          "EMERGENCY",
          "EMERGENCY",
          "EMERGENCY",
          "EMERGENCY",
          "EMERGENCY",
          "EMERGENCY",
          "EMERGENCY",
          "EMERGENCY",
          "EMERGENCY",
          "EMERGENCY",
          "EMERGENCY",
          "EMERGENCY",
          "EMERGENCY",
          "EMERGENCY",
          "EMERGENCY",
          "EMERGENCY",
          "EMERGENCY",
          "EMERGENCY",
          "EMERGENCY",
          "EMERGENCY",
          "EMERGENCY",
          "EMERGENCY",
          "EMERGENCY",
          "EMERGENCY",
          "EMERGENCY",
          "EMERGENCY",
          "EMERGENCY",
          "EMERGENCY",
          "EMERGENCY",
          "EMERGENCY",
          "EMERGENCY",
          "EMERGENCY",
          "EMERGENCY",
          "EMERGENCY",
          "EMERGENCY",
          "EMERGENCY",
          "EMERGENCY",
          "EMERGENCY",
          "EMERGENCY",
          "EMERGENCY",
          "EMERGENCY",
          "EMERGENCY",
          "EMERGENCY",
          "EMERGENCY",
          "EMERGENCY",
          "EMERGENCY",
          "EMERGENCY",
          "EMERGENCY",
          "EMERGENCY",
          "EMERGENCY",
          "EMERGENCY",
          "EMERGENCY",
          "EMERGENCY",
          "EMERGENCY",
          "EMERGENCY",
          "EMERGENCY",
          "EMERGENCY",
          "EMERGENCY",
          "EMERGENCY",
          "EMERGENCY",
          "EMERGENCY",
          "EMERGENCY",
          "EMERGENCY",
          "EMERGENCY",
          "EMERGENCY",
          "EMERGENCY",
          "EMERGENCY",
          "EMERGENCY",
          "EMERGENCY",
          "EMERGENCY",
          "EMERGENCY",
          "EMERGENCY",
          "EMERGENCY",
          "EMERGENCY",
          "EMERGENCY",
          "EMERGENCY",
          "EMERGENCY",
          "EMERGENCY",
          "EMERGENCY",
          "EMERGENCY",
          "EMERGENCY",
          "EMERGENCY",
          "EMERGENCY",
          "EMERGENCY",
          "EMERGENCY",
          "EMERGENCY",
          "EMERGENCY",
          "EMERGENCY",
          "EMERGENCY",
          "EMERGENCY",
          "EMERGENCY",
          "EMERGENCY",
          "EMERGENCY",
          "EMERGENCY",
          "EMERGENCY",
          "EMERGENCY",
          "EMERGENCY",
          "EMERGENCY",
          "EMERGENCY",
          "EMERGENCY",
          "EMERGENCY",
          "EMERGENCY",
          "EMERGENCY",
          "EMERGENCY",
          "EMERGENCY",
          "EMERGENCY",
          "EMERGENCY",
          "EMERGENCY",
          "EMERGENCY",
          "EMERGENCY",
          "EMERGENCY",
          "EMERGENCY",
          "EMERGENCY",
          "EMERGENCY",
          "EMERGENCY",
          "EMERGENCY",
          "EMERGENCY",
          "EMERGENCY",
          "EMERGENCY",
          "EMERGENCY",
          "EMERGENCY",
          "EMERGENCY",
          "EMERGENCY",
          "EMERGENCY",
          "EMERGENCY",
          "EMERGENCY",
          "EMERGENCY",
          "EMERGENCY",
          "EMERGENCY",
          "EMERGENCY",
          "EMERGENCY",
          "EMERGENCY",
          "EMERGENCY",
          "EMERGENCY",
          "EMERGENCY",
          "EMERGENCY",
          "EMERGENCY",
          "EMERGENCY",
          "EMERGENCY",
          "EMERGENCY",
          "EMERGENCY",
          "EMERGENCY",
          "EMERGENCY",
          "EMERGENCY",
          "EMERGENCY",
          "EMERGENCY",
          "EMERGENCY",
          "EMERGENCY",
          "EMERGENCY",
          "EMERGENCY",
          "EMERGENCY",
          "EMERGENCY",
          "EMERGENCY",
          "EMERGENCY",
          "EMERGENCY",
          "EMERGENCY",
          "EMERGENCY",
          "EMERGENCY",
          "EMERGENCY",
          "EMERGENCY",
          "EMERGENCY",
          "EMERGENCY",
          "EMERGENCY",
          "EMERGENCY",
          "EMERGENCY",
          "EMERGENCY",
          "EMERGENCY",
          "EMERGENCY",
          "EMERGENCY",
          "EMERGENCY",
          "EMERGENCY",
          "EMERGENCY",
          "EMERGENCY",
          "EMERGENCY",
          "EMERGENCY",
          "EMERGENCY",
          "EMERGENCY",
          "EMERGENCY",
          "EMERGENCY",
          "EMERGENCY",
          "EMERGENCY",
          "EMERGENCY",
          "EMERGENCY",
          "EMERGENCY",
          "EMERGENCY",
          "EMERGENCY",
          "EMERGENCY",
          "EMERGENCY",
          "EMERGENCY",
          "EMERGENCY",
          "EMERGENCY",
          "EMERGENCY",
          "EMERGENCY",
          "EMERGENCY",
          "EMERGENCY",
          "EMERGENCY",
          "EMERGENCY",
          "EMERGENCY",
          "EMERGENCY"
         ],
         "x0": " ",
         "xaxis": "x",
         "y": [
          289.812303246527,
          -57.2458883092913,
          195.04304666374549,
          760.3753485063144,
          487.9082378847763,
          171.80806542601857,
          -47.43015186598444,
          216.87791973164863,
          351.17655918901033,
          240.8946375958547,
          649.3555305857001,
          306.29519383635056,
          37.06524782433402,
          182.60536568474893,
          -26.41728504881567,
          43.03032313105997,
          250.21771048726825,
          160.4335929589964,
          99.16452823985236,
          234.68014950656493,
          14.777640548408726,
          28.87828907636863,
          112.02083798257964,
          -142.80438260008248,
          431.5896675607127,
          -19.33686467105386,
          396.119551789682,
          399.2028996295256,
          18.640636963499176,
          262.92710669077263,
          300.07665067129443,
          91.7473261356777,
          145.70515619993523,
          56.3876015801705,
          316.8917136143888,
          205.45694091124028,
          233.16293476214605,
          85.58323511639284,
          53.00878696162114,
          -24.410752963866543,
          140.81350108702387,
          713.6793390657995,
          207.99701543320649,
          116.7699767249738,
          68.16693252741536,
          125.77681990833634,
          -82.67570875015483,
          294.1823140095352,
          901.9623550672824,
          75.55556286204038,
          84.15096184782607,
          7.940397163160725,
          601.7134750578539,
          294.59760499565925,
          177.32816153248658,
          134.57221196863853,
          213.23546925029257,
          331.0889070624083,
          -3.3841256766472725,
          327.40440912756026,
          83.03611313660272,
          24.656488404711467,
          518.573233031594,
          375.5319424705167,
          1701.360118039882,
          -119.55775902180216,
          201.6972217383324,
          66.89797638053362,
          -34.121833498754995,
          414.7339202206036,
          221.86817385327583,
          153.34442766061642,
          97.64002869513088,
          1686.8481303331878,
          115.36020673939318,
          0.8067041084891002,
          101.58250415738446,
          398.8058904107544,
          213.17203348335977,
          -61.29386475748916,
          -5.688862406690248,
          224.4954702289245,
          190.48919104324537,
          187.1353697695689,
          208.7011093303455,
          -49.56522639901962,
          -62.97224894736266,
          -22.37756488264813,
          362.38418683573934,
          172.11533426501938,
          661.0708562426472,
          -22.37459135796638,
          -8.207996057549593,
          -47.06329773443821,
          -65.6311649174059,
          257.93543720651166,
          123.18245282896392,
          244.31212955569637,
          -54.212844816389406,
          -430.82471780660137,
          561.7316312977821,
          -35.37731683312518,
          133.44333187811057,
          243.0399191068154,
          264.21089957304093,
          -7.334736970330681,
          118.04191840241114,
          65.42506549523557,
          167.2418279028635,
          -75.33135272791728,
          187.86108384591816,
          -5.122987132392723,
          -18.194431131832857,
          77.7052831768923,
          141.92017573732912,
          171.42739676543235,
          -60.68109136832615,
          138.91212846078497,
          54.82042164611936,
          222.84058204166217,
          1638.2527996752242,
          40.56680883889925,
          -14.69119237730547,
          443.9986027669655,
          212.46832795943087,
          -75.30052927500418,
          113.24560788174426,
          -86.61599969130037,
          321.6772369932271,
          144.3806694918727,
          175.98392332829465,
          55.37895912546904,
          208.19316123624577,
          345.7833002152328,
          151.85155672206474,
          388.3810369317552,
          315.47401709446297,
          117.32265863287164,
          280.9462959234137,
          62.61732512714264,
          364.6157222638285,
          50.53553904818784,
          199.26230164844333,
          -0.7713662547162699,
          119.69572786711052,
          -68.1336046851606,
          84.95128552932374,
          4.816328160874775,
          227.35784457757148,
          221.146751724157,
          -5.475363283664393,
          78.52176359978597,
          74.0319643024206,
          407.8231997852411,
          179.43249861554642,
          179.39513156767896,
          -39.387314383983664,
          15.606541777529143,
          259.9479944115615,
          212.89027311571505,
          83.76297065139153,
          351.34787704113904,
          91.5724698769646,
          415.7102150536888,
          1195.977841946764,
          257.4488768144333,
          486.1971637045731,
          -74.12489368733276,
          226.48365174417057,
          352.2464750510652,
          123.08156155399904,
          644.4690876438085,
          307.0422890710207,
          253.43153630193623,
          221.8130877429916,
          12.457428719751306,
          273.1553328816575,
          73.70930093755081,
          14.143056814215685,
          344.672592047032,
          54.33274075862255,
          243.10774441452656,
          314.4841675102876,
          104.13799545163744,
          326.92162733887267,
          59.71608727951015,
          82.62256186704938,
          -65.63352385512883,
          103.02171417719276,
          881.1506389358163,
          143.26242289672226,
          91.48014695183294,
          33.84193634626247,
          239.55662905313065,
          79.63634820240148,
          4.579382695512408,
          43.14819138594966,
          176.4489657853316,
          102.10003052153009,
          241.6981874532142,
          495.9032842793089,
          83.6567791382304,
          197.71462718068875,
          95.61184603138088,
          -134.09561699889508,
          -35.086282891557175,
          -70.64141103623501,
          83.18897230104938,
          1214.6620869594813,
          -66.1092429625889,
          57.21957925723791,
          -86.12801410768103,
          738.8592876378718,
          60.21744509134642,
          215.93251155128283,
          16.075056296027043,
          208.49976917444928
         ],
         "y0": " ",
         "yaxis": "y"
        }
       ],
       "layout": {
        "boxmode": "group",
        "font": {
         "size": 18
        },
        "legend": {
         "title": {
          "text": "Data"
         },
         "tracegroupgap": 0
        },
        "margin": {
         "t": 60
        },
        "plot_bgcolor": "#F5F5F8",
        "template": {
         "data": {
          "bar": [
           {
            "error_x": {
             "color": "#2a3f5f"
            },
            "error_y": {
             "color": "#2a3f5f"
            },
            "marker": {
             "line": {
              "color": "#E5ECF6",
              "width": 0.5
             },
             "pattern": {
              "fillmode": "overlay",
              "size": 10,
              "solidity": 0.2
             }
            },
            "type": "bar"
           }
          ],
          "barpolar": [
           {
            "marker": {
             "line": {
              "color": "#E5ECF6",
              "width": 0.5
             },
             "pattern": {
              "fillmode": "overlay",
              "size": 10,
              "solidity": 0.2
             }
            },
            "type": "barpolar"
           }
          ],
          "carpet": [
           {
            "aaxis": {
             "endlinecolor": "#2a3f5f",
             "gridcolor": "white",
             "linecolor": "white",
             "minorgridcolor": "white",
             "startlinecolor": "#2a3f5f"
            },
            "baxis": {
             "endlinecolor": "#2a3f5f",
             "gridcolor": "white",
             "linecolor": "white",
             "minorgridcolor": "white",
             "startlinecolor": "#2a3f5f"
            },
            "type": "carpet"
           }
          ],
          "choropleth": [
           {
            "colorbar": {
             "outlinewidth": 0,
             "ticks": ""
            },
            "type": "choropleth"
           }
          ],
          "contour": [
           {
            "colorbar": {
             "outlinewidth": 0,
             "ticks": ""
            },
            "colorscale": [
             [
              0,
              "#0d0887"
             ],
             [
              0.1111111111111111,
              "#46039f"
             ],
             [
              0.2222222222222222,
              "#7201a8"
             ],
             [
              0.3333333333333333,
              "#9c179e"
             ],
             [
              0.4444444444444444,
              "#bd3786"
             ],
             [
              0.5555555555555556,
              "#d8576b"
             ],
             [
              0.6666666666666666,
              "#ed7953"
             ],
             [
              0.7777777777777778,
              "#fb9f3a"
             ],
             [
              0.8888888888888888,
              "#fdca26"
             ],
             [
              1,
              "#f0f921"
             ]
            ],
            "type": "contour"
           }
          ],
          "contourcarpet": [
           {
            "colorbar": {
             "outlinewidth": 0,
             "ticks": ""
            },
            "type": "contourcarpet"
           }
          ],
          "heatmap": [
           {
            "colorbar": {
             "outlinewidth": 0,
             "ticks": ""
            },
            "colorscale": [
             [
              0,
              "#0d0887"
             ],
             [
              0.1111111111111111,
              "#46039f"
             ],
             [
              0.2222222222222222,
              "#7201a8"
             ],
             [
              0.3333333333333333,
              "#9c179e"
             ],
             [
              0.4444444444444444,
              "#bd3786"
             ],
             [
              0.5555555555555556,
              "#d8576b"
             ],
             [
              0.6666666666666666,
              "#ed7953"
             ],
             [
              0.7777777777777778,
              "#fb9f3a"
             ],
             [
              0.8888888888888888,
              "#fdca26"
             ],
             [
              1,
              "#f0f921"
             ]
            ],
            "type": "heatmap"
           }
          ],
          "heatmapgl": [
           {
            "colorbar": {
             "outlinewidth": 0,
             "ticks": ""
            },
            "colorscale": [
             [
              0,
              "#0d0887"
             ],
             [
              0.1111111111111111,
              "#46039f"
             ],
             [
              0.2222222222222222,
              "#7201a8"
             ],
             [
              0.3333333333333333,
              "#9c179e"
             ],
             [
              0.4444444444444444,
              "#bd3786"
             ],
             [
              0.5555555555555556,
              "#d8576b"
             ],
             [
              0.6666666666666666,
              "#ed7953"
             ],
             [
              0.7777777777777778,
              "#fb9f3a"
             ],
             [
              0.8888888888888888,
              "#fdca26"
             ],
             [
              1,
              "#f0f921"
             ]
            ],
            "type": "heatmapgl"
           }
          ],
          "histogram": [
           {
            "marker": {
             "pattern": {
              "fillmode": "overlay",
              "size": 10,
              "solidity": 0.2
             }
            },
            "type": "histogram"
           }
          ],
          "histogram2d": [
           {
            "colorbar": {
             "outlinewidth": 0,
             "ticks": ""
            },
            "colorscale": [
             [
              0,
              "#0d0887"
             ],
             [
              0.1111111111111111,
              "#46039f"
             ],
             [
              0.2222222222222222,
              "#7201a8"
             ],
             [
              0.3333333333333333,
              "#9c179e"
             ],
             [
              0.4444444444444444,
              "#bd3786"
             ],
             [
              0.5555555555555556,
              "#d8576b"
             ],
             [
              0.6666666666666666,
              "#ed7953"
             ],
             [
              0.7777777777777778,
              "#fb9f3a"
             ],
             [
              0.8888888888888888,
              "#fdca26"
             ],
             [
              1,
              "#f0f921"
             ]
            ],
            "type": "histogram2d"
           }
          ],
          "histogram2dcontour": [
           {
            "colorbar": {
             "outlinewidth": 0,
             "ticks": ""
            },
            "colorscale": [
             [
              0,
              "#0d0887"
             ],
             [
              0.1111111111111111,
              "#46039f"
             ],
             [
              0.2222222222222222,
              "#7201a8"
             ],
             [
              0.3333333333333333,
              "#9c179e"
             ],
             [
              0.4444444444444444,
              "#bd3786"
             ],
             [
              0.5555555555555556,
              "#d8576b"
             ],
             [
              0.6666666666666666,
              "#ed7953"
             ],
             [
              0.7777777777777778,
              "#fb9f3a"
             ],
             [
              0.8888888888888888,
              "#fdca26"
             ],
             [
              1,
              "#f0f921"
             ]
            ],
            "type": "histogram2dcontour"
           }
          ],
          "mesh3d": [
           {
            "colorbar": {
             "outlinewidth": 0,
             "ticks": ""
            },
            "type": "mesh3d"
           }
          ],
          "parcoords": [
           {
            "line": {
             "colorbar": {
              "outlinewidth": 0,
              "ticks": ""
             }
            },
            "type": "parcoords"
           }
          ],
          "pie": [
           {
            "automargin": true,
            "type": "pie"
           }
          ],
          "scatter": [
           {
            "fillpattern": {
             "fillmode": "overlay",
             "size": 10,
             "solidity": 0.2
            },
            "type": "scatter"
           }
          ],
          "scatter3d": [
           {
            "line": {
             "colorbar": {
              "outlinewidth": 0,
              "ticks": ""
             }
            },
            "marker": {
             "colorbar": {
              "outlinewidth": 0,
              "ticks": ""
             }
            },
            "type": "scatter3d"
           }
          ],
          "scattercarpet": [
           {
            "marker": {
             "colorbar": {
              "outlinewidth": 0,
              "ticks": ""
             }
            },
            "type": "scattercarpet"
           }
          ],
          "scattergeo": [
           {
            "marker": {
             "colorbar": {
              "outlinewidth": 0,
              "ticks": ""
             }
            },
            "type": "scattergeo"
           }
          ],
          "scattergl": [
           {
            "marker": {
             "colorbar": {
              "outlinewidth": 0,
              "ticks": ""
             }
            },
            "type": "scattergl"
           }
          ],
          "scattermapbox": [
           {
            "marker": {
             "colorbar": {
              "outlinewidth": 0,
              "ticks": ""
             }
            },
            "type": "scattermapbox"
           }
          ],
          "scatterpolar": [
           {
            "marker": {
             "colorbar": {
              "outlinewidth": 0,
              "ticks": ""
             }
            },
            "type": "scatterpolar"
           }
          ],
          "scatterpolargl": [
           {
            "marker": {
             "colorbar": {
              "outlinewidth": 0,
              "ticks": ""
             }
            },
            "type": "scatterpolargl"
           }
          ],
          "scatterternary": [
           {
            "marker": {
             "colorbar": {
              "outlinewidth": 0,
              "ticks": ""
             }
            },
            "type": "scatterternary"
           }
          ],
          "surface": [
           {
            "colorbar": {
             "outlinewidth": 0,
             "ticks": ""
            },
            "colorscale": [
             [
              0,
              "#0d0887"
             ],
             [
              0.1111111111111111,
              "#46039f"
             ],
             [
              0.2222222222222222,
              "#7201a8"
             ],
             [
              0.3333333333333333,
              "#9c179e"
             ],
             [
              0.4444444444444444,
              "#bd3786"
             ],
             [
              0.5555555555555556,
              "#d8576b"
             ],
             [
              0.6666666666666666,
              "#ed7953"
             ],
             [
              0.7777777777777778,
              "#fb9f3a"
             ],
             [
              0.8888888888888888,
              "#fdca26"
             ],
             [
              1,
              "#f0f921"
             ]
            ],
            "type": "surface"
           }
          ],
          "table": [
           {
            "cells": {
             "fill": {
              "color": "#EBF0F8"
             },
             "line": {
              "color": "white"
             }
            },
            "header": {
             "fill": {
              "color": "#C8D4E3"
             },
             "line": {
              "color": "white"
             }
            },
            "type": "table"
           }
          ]
         },
         "layout": {
          "annotationdefaults": {
           "arrowcolor": "#2a3f5f",
           "arrowhead": 0,
           "arrowwidth": 1
          },
          "autotypenumbers": "strict",
          "coloraxis": {
           "colorbar": {
            "outlinewidth": 0,
            "ticks": ""
           }
          },
          "colorscale": {
           "diverging": [
            [
             0,
             "#8e0152"
            ],
            [
             0.1,
             "#c51b7d"
            ],
            [
             0.2,
             "#de77ae"
            ],
            [
             0.3,
             "#f1b6da"
            ],
            [
             0.4,
             "#fde0ef"
            ],
            [
             0.5,
             "#f7f7f7"
            ],
            [
             0.6,
             "#e6f5d0"
            ],
            [
             0.7,
             "#b8e186"
            ],
            [
             0.8,
             "#7fbc41"
            ],
            [
             0.9,
             "#4d9221"
            ],
            [
             1,
             "#276419"
            ]
           ],
           "sequential": [
            [
             0,
             "#0d0887"
            ],
            [
             0.1111111111111111,
             "#46039f"
            ],
            [
             0.2222222222222222,
             "#7201a8"
            ],
            [
             0.3333333333333333,
             "#9c179e"
            ],
            [
             0.4444444444444444,
             "#bd3786"
            ],
            [
             0.5555555555555556,
             "#d8576b"
            ],
            [
             0.6666666666666666,
             "#ed7953"
            ],
            [
             0.7777777777777778,
             "#fb9f3a"
            ],
            [
             0.8888888888888888,
             "#fdca26"
            ],
            [
             1,
             "#f0f921"
            ]
           ],
           "sequentialminus": [
            [
             0,
             "#0d0887"
            ],
            [
             0.1111111111111111,
             "#46039f"
            ],
            [
             0.2222222222222222,
             "#7201a8"
            ],
            [
             0.3333333333333333,
             "#9c179e"
            ],
            [
             0.4444444444444444,
             "#bd3786"
            ],
            [
             0.5555555555555556,
             "#d8576b"
            ],
            [
             0.6666666666666666,
             "#ed7953"
            ],
            [
             0.7777777777777778,
             "#fb9f3a"
            ],
            [
             0.8888888888888888,
             "#fdca26"
            ],
            [
             1,
             "#f0f921"
            ]
           ]
          },
          "colorway": [
           "#636efa",
           "#EF553B",
           "#00cc96",
           "#ab63fa",
           "#FFA15A",
           "#19d3f3",
           "#FF6692",
           "#B6E880",
           "#FF97FF",
           "#FECB52"
          ],
          "font": {
           "color": "#2a3f5f"
          },
          "geo": {
           "bgcolor": "white",
           "lakecolor": "white",
           "landcolor": "#E5ECF6",
           "showlakes": true,
           "showland": true,
           "subunitcolor": "white"
          },
          "hoverlabel": {
           "align": "left"
          },
          "hovermode": "closest",
          "mapbox": {
           "style": "light"
          },
          "paper_bgcolor": "white",
          "plot_bgcolor": "#E5ECF6",
          "polar": {
           "angularaxis": {
            "gridcolor": "white",
            "linecolor": "white",
            "ticks": ""
           },
           "bgcolor": "#E5ECF6",
           "radialaxis": {
            "gridcolor": "white",
            "linecolor": "white",
            "ticks": ""
           }
          },
          "scene": {
           "xaxis": {
            "backgroundcolor": "#E5ECF6",
            "gridcolor": "white",
            "gridwidth": 2,
            "linecolor": "white",
            "showbackground": true,
            "ticks": "",
            "zerolinecolor": "white"
           },
           "yaxis": {
            "backgroundcolor": "#E5ECF6",
            "gridcolor": "white",
            "gridwidth": 2,
            "linecolor": "white",
            "showbackground": true,
            "ticks": "",
            "zerolinecolor": "white"
           },
           "zaxis": {
            "backgroundcolor": "#E5ECF6",
            "gridcolor": "white",
            "gridwidth": 2,
            "linecolor": "white",
            "showbackground": true,
            "ticks": "",
            "zerolinecolor": "white"
           }
          },
          "shapedefaults": {
           "line": {
            "color": "#2a3f5f"
           }
          },
          "ternary": {
           "aaxis": {
            "gridcolor": "white",
            "linecolor": "white",
            "ticks": ""
           },
           "baxis": {
            "gridcolor": "white",
            "linecolor": "white",
            "ticks": ""
           },
           "bgcolor": "#E5ECF6",
           "caxis": {
            "gridcolor": "white",
            "linecolor": "white",
            "ticks": ""
           }
          },
          "title": {
           "x": 0.05
          },
          "xaxis": {
           "automargin": true,
           "gridcolor": "white",
           "linecolor": "white",
           "ticks": "",
           "title": {
            "standoff": 15
           },
           "zerolinecolor": "white",
           "zerolinewidth": 2
          },
          "yaxis": {
           "automargin": true,
           "gridcolor": "white",
           "linecolor": "white",
           "ticks": "",
           "title": {
            "standoff": 15
           },
           "zerolinecolor": "white",
           "zerolinewidth": 2
          }
         }
        },
        "title": {
         "text": "Real vs. Synthetic Data for columns 'admission_type' and 'hospital_stay_hours'"
        },
        "xaxis": {
         "anchor": "y",
         "domain": [
          0,
          1
         ],
         "title": {
          "text": "admission_type"
         }
        },
        "yaxis": {
         "anchor": "x",
         "domain": [
          0,
          1
         ],
         "title": {
          "text": "hospital_stay_hours"
         }
        }
       }
      }
     },
     "metadata": {},
     "output_type": "display_data"
    }
   ],
   "source": [
    "pairs = [['gender', 'age'], ['admission_type', 'hospital_stay_hours']]\n",
    "\n",
    "for p in pairs:\n",
    "    fig = get_column_pair_plot(\n",
    "        real_data=real_data,\n",
    "        synthetic_data=synthetic_data,\n",
    "        column_names=p,\n",
    "        metadata=metadata\n",
    "    )\n",
    "\n",
    "    fig.show()"
   ]
  }
 ],
 "metadata": {
  "kernelspec": {
   "display_name": "Python 3",
   "language": "python",
   "name": "python3"
  },
  "language_info": {
   "codemirror_mode": {
    "name": "ipython",
    "version": 3
   },
   "file_extension": ".py",
   "mimetype": "text/x-python",
   "name": "python",
   "nbconvert_exporter": "python",
   "pygments_lexer": "ipython3",
   "version": "3.11.9"
  }
 },
 "nbformat": 4,
 "nbformat_minor": 2
}
