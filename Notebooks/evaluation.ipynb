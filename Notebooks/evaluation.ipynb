{
 "cells": [
  {
   "cell_type": "code",
   "execution_count": 42,
   "metadata": {},
   "outputs": [],
   "source": [
    "import pandas as pd\n",
    "from sdv.metadata import SingleTableMetadata\n",
    "from sdv.evaluation.single_table import evaluate_quality\n",
    "from sdv.evaluation.single_table import run_diagnostic\n",
    "from sdv.evaluation.single_table import get_column_plot\n",
    "from sdv.evaluation.single_table import get_column_pair_plot\n"
   ]
  },
  {
   "cell_type": "code",
   "execution_count": 47,
   "metadata": {},
   "outputs": [
    {
     "name": "stdout",
     "output_type": "stream",
     "text": [
      "Test dataset has 219 instances with 7 features\n"
     ]
    }
   ],
   "source": [
    "# real_data = pd.read_csv(\"test_datasets/real_data_adult.csv\", index_col=0)\n",
    "# print(f\"Test dataset has {real_data.shape[0]} instances with {real_data.shape[1]} features\")\n",
    "\n",
    "real_data = pd.read_csv(\"test_datasets/processed_diabetes_data.csv\")\n",
    "print(f\"Test dataset has {real_data.shape[0]} instances with {real_data.shape[1]} features\")"
   ]
  },
  {
   "cell_type": "code",
   "execution_count": 44,
   "metadata": {},
   "outputs": [
    {
     "data": {
      "text/html": [
       "<div>\n",
       "<style scoped>\n",
       "    .dataframe tbody tr th:only-of-type {\n",
       "        vertical-align: middle;\n",
       "    }\n",
       "\n",
       "    .dataframe tbody tr th {\n",
       "        vertical-align: top;\n",
       "    }\n",
       "\n",
       "    .dataframe thead th {\n",
       "        text-align: right;\n",
       "    }\n",
       "</style>\n",
       "<table border=\"1\" class=\"dataframe\">\n",
       "  <thead>\n",
       "    <tr style=\"text-align: right;\">\n",
       "      <th></th>\n",
       "      <th>gender</th>\n",
       "      <th>age</th>\n",
       "      <th>initial_diagnosis</th>\n",
       "      <th>primary_icd9_code</th>\n",
       "      <th>hospital_expire_flag</th>\n",
       "      <th>expire_flag</th>\n",
       "      <th>hospital_stay_hours</th>\n",
       "    </tr>\n",
       "  </thead>\n",
       "  <tbody>\n",
       "    <tr>\n",
       "      <th>0</th>\n",
       "      <td>M</td>\n",
       "      <td>56</td>\n",
       "      <td>PERIPHERAL INSUFFICIENCY;RIGHT FOOT</td>\n",
       "      <td>25073</td>\n",
       "      <td>False</td>\n",
       "      <td>True</td>\n",
       "      <td>284</td>\n",
       "    </tr>\n",
       "    <tr>\n",
       "      <th>1</th>\n",
       "      <td>F</td>\n",
       "      <td>86</td>\n",
       "      <td>INFECTED RIGHT FOOT</td>\n",
       "      <td>25060</td>\n",
       "      <td>False</td>\n",
       "      <td>True</td>\n",
       "      <td>43</td>\n",
       "    </tr>\n",
       "    <tr>\n",
       "      <th>2</th>\n",
       "      <td>F</td>\n",
       "      <td>73</td>\n",
       "      <td>ENCEPHALOPATHY;TELEMETRY</td>\n",
       "      <td>25011</td>\n",
       "      <td>False</td>\n",
       "      <td>True</td>\n",
       "      <td>245</td>\n",
       "    </tr>\n",
       "    <tr>\n",
       "      <th>3</th>\n",
       "      <td>M</td>\n",
       "      <td>50</td>\n",
       "      <td>BILIARY COLIC</td>\n",
       "      <td>25080</td>\n",
       "      <td>False</td>\n",
       "      <td>False</td>\n",
       "      <td>46</td>\n",
       "    </tr>\n",
       "    <tr>\n",
       "      <th>4</th>\n",
       "      <td>M</td>\n",
       "      <td>32</td>\n",
       "      <td>DIABETIC KETOACIDOSIS</td>\n",
       "      <td>25011</td>\n",
       "      <td>False</td>\n",
       "      <td>False</td>\n",
       "      <td>92</td>\n",
       "    </tr>\n",
       "  </tbody>\n",
       "</table>\n",
       "</div>"
      ],
      "text/plain": [
       "  gender  age                    initial_diagnosis  primary_icd9_code  \\\n",
       "0      M   56  PERIPHERAL INSUFFICIENCY;RIGHT FOOT              25073   \n",
       "1      F   86                  INFECTED RIGHT FOOT              25060   \n",
       "2      F   73             ENCEPHALOPATHY;TELEMETRY              25011   \n",
       "3      M   50                        BILIARY COLIC              25080   \n",
       "4      M   32                DIABETIC KETOACIDOSIS              25011   \n",
       "\n",
       "   hospital_expire_flag  expire_flag  hospital_stay_hours  \n",
       "0                 False         True                  284  \n",
       "1                 False         True                   43  \n",
       "2                 False         True                  245  \n",
       "3                 False        False                   46  \n",
       "4                 False        False                   92  "
      ]
     },
     "execution_count": 44,
     "metadata": {},
     "output_type": "execute_result"
    }
   ],
   "source": [
    "real_data.head()"
   ]
  },
  {
   "cell_type": "markdown",
   "metadata": {},
   "source": [
    "**Creation of Meta data**\n",
    "\n",
    "Meta data are needed to evaluate the generated synthetic data"
   ]
  },
  {
   "cell_type": "code",
   "execution_count": 48,
   "metadata": {},
   "outputs": [],
   "source": [
    "metadata = SingleTableMetadata()\n",
    "metadata.detect_from_dataframe(real_data)"
   ]
  },
  {
   "cell_type": "code",
   "execution_count": 49,
   "metadata": {},
   "outputs": [
    {
     "name": "stdout",
     "output_type": "stream",
     "text": [
      "Auto detected data:\n",
      "\n"
     ]
    },
    {
     "data": {
      "image/svg+xml": [
       "<?xml version=\"1.0\" encoding=\"UTF-8\" standalone=\"no\"?>\n",
       "<!DOCTYPE svg PUBLIC \"-//W3C//DTD SVG 1.1//EN\"\n",
       " \"http://www.w3.org/Graphics/SVG/1.1/DTD/svg11.dtd\">\n",
       "<!-- Generated by graphviz version 11.0.0 (20240428.1522)\n",
       " -->\n",
       "<!-- Title: Metadata Pages: 1 -->\n",
       "<svg width=\"207pt\" height=\"127pt\"\n",
       " viewBox=\"0.00 0.00 207.00 127.25\" xmlns=\"http://www.w3.org/2000/svg\" xmlns:xlink=\"http://www.w3.org/1999/xlink\">\n",
       "<g id=\"graph0\" class=\"graph\" transform=\"scale(1 1) rotate(0) translate(4 123.25)\">\n",
       "<title>Metadata</title>\n",
       "<polygon fill=\"white\" stroke=\"none\" points=\"-4,4 -4,-123.25 203,-123.25 203,4 -4,4\"/>\n",
       "<g id=\"node1\" class=\"node\">\n",
       "<title></title>\n",
       "<path fill=\"#ffec8b\" stroke=\"black\" d=\"M12,-0.5C12,-0.5 187,-0.5 187,-0.5 193,-0.5 199,-6.5 199,-12.5 199,-12.5 199,-106.75 199,-106.75 199,-112.75 193,-118.75 187,-118.75 187,-118.75 12,-118.75 12,-118.75 6,-118.75 0,-112.75 0,-106.75 0,-106.75 0,-12.5 0,-12.5 0,-6.5 6,-0.5 12,-0.5\"/>\n",
       "<text text-anchor=\"start\" x=\"8\" y=\"-101.45\" font-family=\"Times New Roman,serif\" font-size=\"14.00\">gender : categorical</text>\n",
       "<text text-anchor=\"start\" x=\"8\" y=\"-85.7\" font-family=\"Times New Roman,serif\" font-size=\"14.00\">age : numerical</text>\n",
       "<text text-anchor=\"start\" x=\"8\" y=\"-69.95\" font-family=\"Times New Roman,serif\" font-size=\"14.00\">initial_diagnosis : unknown</text>\n",
       "<text text-anchor=\"start\" x=\"8\" y=\"-54.2\" font-family=\"Times New Roman,serif\" font-size=\"14.00\">primary_icd9_code : numerical</text>\n",
       "<text text-anchor=\"start\" x=\"8\" y=\"-38.45\" font-family=\"Times New Roman,serif\" font-size=\"14.00\">hospital_expire_flag : categorical</text>\n",
       "<text text-anchor=\"start\" x=\"8\" y=\"-22.7\" font-family=\"Times New Roman,serif\" font-size=\"14.00\">expire_flag : categorical</text>\n",
       "<text text-anchor=\"start\" x=\"8\" y=\"-6.95\" font-family=\"Times New Roman,serif\" font-size=\"14.00\">hospital_stay_hours : numerical</text>\n",
       "</g>\n",
       "</g>\n",
       "</svg>\n"
      ],
      "text/plain": [
       "<graphviz.graphs.Digraph at 0x16e117a6ed0>"
      ]
     },
     "execution_count": 49,
     "metadata": {},
     "output_type": "execute_result"
    }
   ],
   "source": [
    "print('Auto detected data:\\n')\n",
    "metadata.visualize()"
   ]
  },
  {
   "cell_type": "code",
   "execution_count": 50,
   "metadata": {},
   "outputs": [],
   "source": [
    "metadata.update_column(\n",
    "    column_name='initial_diagnosis',\n",
    "    sdtype='categorical',\n",
    ")"
   ]
  },
  {
   "cell_type": "code",
   "execution_count": 51,
   "metadata": {},
   "outputs": [],
   "source": [
    "metadata.validate()\n",
    "metadata.validate_data(data=real_data)"
   ]
  },
  {
   "cell_type": "code",
   "execution_count": 52,
   "metadata": {},
   "outputs": [],
   "source": [
    "metadata.save_to_json('test_datasets/metadata_processed_diabetes.json')"
   ]
  },
  {
   "cell_type": "code",
   "execution_count": 53,
   "metadata": {},
   "outputs": [],
   "source": [
    "# in the future, we can reload the metadata object from the file\n",
    "metadata = SingleTableMetadata.load_from_json('test_datasets/metadata_processed_diabetes.json')"
   ]
  },
  {
   "cell_type": "code",
   "execution_count": 54,
   "metadata": {},
   "outputs": [
    {
     "name": "stdout",
     "output_type": "stream",
     "text": [
      "Synthetic dataset has 200 instances with 7 features\n"
     ]
    }
   ],
   "source": [
    "synthetic_data = pd.read_csv(\"test_datasets/syn_data_diabetes.csv\", index_col=0)\n",
    "print(f\"Synthetic dataset has {synthetic_data.shape[0]} instances with {synthetic_data.shape[1]} features\")"
   ]
  },
  {
   "cell_type": "code",
   "execution_count": 55,
   "metadata": {},
   "outputs": [
    {
     "data": {
      "text/html": [
       "<div>\n",
       "<style scoped>\n",
       "    .dataframe tbody tr th:only-of-type {\n",
       "        vertical-align: middle;\n",
       "    }\n",
       "\n",
       "    .dataframe tbody tr th {\n",
       "        vertical-align: top;\n",
       "    }\n",
       "\n",
       "    .dataframe thead th {\n",
       "        text-align: right;\n",
       "    }\n",
       "</style>\n",
       "<table border=\"1\" class=\"dataframe\">\n",
       "  <thead>\n",
       "    <tr style=\"text-align: right;\">\n",
       "      <th></th>\n",
       "      <th>gender</th>\n",
       "      <th>age</th>\n",
       "      <th>initial_diagnosis</th>\n",
       "      <th>primary_icd9_code</th>\n",
       "      <th>hospital_expire_flag</th>\n",
       "      <th>expire_flag</th>\n",
       "      <th>hospital_stay_hours</th>\n",
       "    </tr>\n",
       "  </thead>\n",
       "  <tbody>\n",
       "    <tr>\n",
       "      <th>0</th>\n",
       "      <td>M</td>\n",
       "      <td>-257</td>\n",
       "      <td>PERIPHERAL INSUFFICIENCY;RIGHT FOOT</td>\n",
       "      <td>25003</td>\n",
       "      <td>True</td>\n",
       "      <td>True</td>\n",
       "      <td>728</td>\n",
       "    </tr>\n",
       "    <tr>\n",
       "      <th>1</th>\n",
       "      <td>M</td>\n",
       "      <td>152</td>\n",
       "      <td>PERIPHERAL INSUFFICIENCY;RIGHT FOOT</td>\n",
       "      <td>25095</td>\n",
       "      <td>False</td>\n",
       "      <td>True</td>\n",
       "      <td>1330</td>\n",
       "    </tr>\n",
       "    <tr>\n",
       "      <th>2</th>\n",
       "      <td>M</td>\n",
       "      <td>109</td>\n",
       "      <td>ENCEPHALOPATHY;TELEMETRY</td>\n",
       "      <td>25008</td>\n",
       "      <td>False</td>\n",
       "      <td>True</td>\n",
       "      <td>339</td>\n",
       "    </tr>\n",
       "    <tr>\n",
       "      <th>3</th>\n",
       "      <td>M</td>\n",
       "      <td>75</td>\n",
       "      <td>INFECTED RIGHT FOOT</td>\n",
       "      <td>25079</td>\n",
       "      <td>False</td>\n",
       "      <td>True</td>\n",
       "      <td>356</td>\n",
       "    </tr>\n",
       "    <tr>\n",
       "      <th>4</th>\n",
       "      <td>M</td>\n",
       "      <td>51</td>\n",
       "      <td>DIABETIC KETOACIDOSIS</td>\n",
       "      <td>25089</td>\n",
       "      <td>False</td>\n",
       "      <td>False</td>\n",
       "      <td>387</td>\n",
       "    </tr>\n",
       "  </tbody>\n",
       "</table>\n",
       "</div>"
      ],
      "text/plain": [
       "  gender  age                    initial_diagnosis  primary_icd9_code  \\\n",
       "0      M -257  PERIPHERAL INSUFFICIENCY;RIGHT FOOT              25003   \n",
       "1      M  152  PERIPHERAL INSUFFICIENCY;RIGHT FOOT              25095   \n",
       "2      M  109             ENCEPHALOPATHY;TELEMETRY              25008   \n",
       "3      M   75                  INFECTED RIGHT FOOT              25079   \n",
       "4      M   51                DIABETIC KETOACIDOSIS              25089   \n",
       "\n",
       "   hospital_expire_flag  expire_flag  hospital_stay_hours  \n",
       "0                  True         True                  728  \n",
       "1                 False         True                 1330  \n",
       "2                 False         True                  339  \n",
       "3                 False         True                  356  \n",
       "4                 False        False                  387  "
      ]
     },
     "execution_count": 55,
     "metadata": {},
     "output_type": "execute_result"
    }
   ],
   "source": [
    "synthetic_data.head()"
   ]
  },
  {
   "cell_type": "code",
   "execution_count": 56,
   "metadata": {},
   "outputs": [
    {
     "name": "stdout",
     "output_type": "stream",
     "text": [
      "Generating report ...\n",
      "(1/3) Evaluating Coverage: : 100%|██████████| 7/7 [00:00<00:00, 824.56it/s]\n",
      "(2/3) Evaluating Boundary: :   0%|          | 0/7 [00:00<?, ?it/s]"
     ]
    },
    {
     "name": "stdout",
     "output_type": "stream",
     "text": [
      "(2/3) Evaluating Boundary: : 100%|██████████| 7/7 [00:00<00:00, 1469.84it/s]\n",
      "(3/3) Evaluating Synthesis: : 100%|██████████| 1/1 [00:00<00:00,  1.47it/s]\n",
      "\n",
      "Diagnostic Results:\n",
      "\n",
      "SUCCESS:\n",
      "✓ The synthetic data covers over 90% of the numerical ranges present in the real data\n",
      "✓ Over 90% of the synthetic rows are not copies of the real data\n",
      "\n",
      "WARNING:\n",
      "! The synthetic data is missing more than 10% of the categories present in the real data\n",
      "! More than 10% the synthetic data does not follow the min/max boundaries set by the real data\n"
     ]
    }
   ],
   "source": [
    "diagnostic = run_diagnostic(\n",
    "    real_data=real_data,\n",
    "    synthetic_data=synthetic_data,\n",
    "    metadata=metadata\n",
    ")"
   ]
  },
  {
   "cell_type": "code",
   "execution_count": 57,
   "metadata": {},
   "outputs": [
    {
     "name": "stdout",
     "output_type": "stream",
     "text": [
      "Generating report ...\n",
      "(1/2) Evaluating Column Shapes: : 100%|██████████| 7/7 [00:00<00:00, 776.91it/s]\n",
      "(2/2) Evaluating Column Pair Trends: : 100%|██████████| 21/21 [00:00<00:00, 53.30it/s]\n",
      "\n",
      "Overall Quality Score: 53.23%\n",
      "\n",
      "Properties:\n",
      "- Column Shapes: 67.76%\n",
      "- Column Pair Trends: 38.7%\n"
     ]
    }
   ],
   "source": [
    "quality_report = evaluate_quality(\n",
    "    real_data,\n",
    "    synthetic_data,\n",
    "    metadata)"
   ]
  },
  {
   "cell_type": "code",
   "execution_count": 58,
   "metadata": {},
   "outputs": [
    {
     "data": {
      "text/html": [
       "<div>\n",
       "<style scoped>\n",
       "    .dataframe tbody tr th:only-of-type {\n",
       "        vertical-align: middle;\n",
       "    }\n",
       "\n",
       "    .dataframe tbody tr th {\n",
       "        vertical-align: top;\n",
       "    }\n",
       "\n",
       "    .dataframe thead th {\n",
       "        text-align: right;\n",
       "    }\n",
       "</style>\n",
       "<table border=\"1\" class=\"dataframe\">\n",
       "  <thead>\n",
       "    <tr style=\"text-align: right;\">\n",
       "      <th></th>\n",
       "      <th>Column</th>\n",
       "      <th>Metric</th>\n",
       "      <th>Score</th>\n",
       "    </tr>\n",
       "  </thead>\n",
       "  <tbody>\n",
       "    <tr>\n",
       "      <th>0</th>\n",
       "      <td>gender</td>\n",
       "      <td>TVComplement</td>\n",
       "      <td>0.739452</td>\n",
       "    </tr>\n",
       "    <tr>\n",
       "      <th>1</th>\n",
       "      <td>age</td>\n",
       "      <td>KSComplement</td>\n",
       "      <td>0.668927</td>\n",
       "    </tr>\n",
       "    <tr>\n",
       "      <th>2</th>\n",
       "      <td>initial_diagnosis</td>\n",
       "      <td>TVComplement</td>\n",
       "      <td>0.072831</td>\n",
       "    </tr>\n",
       "    <tr>\n",
       "      <th>3</th>\n",
       "      <td>primary_icd9_code</td>\n",
       "      <td>KSComplement</td>\n",
       "      <td>0.762831</td>\n",
       "    </tr>\n",
       "    <tr>\n",
       "      <th>4</th>\n",
       "      <td>hospital_expire_flag</td>\n",
       "      <td>TVComplement</td>\n",
       "      <td>0.896096</td>\n",
       "    </tr>\n",
       "    <tr>\n",
       "      <th>5</th>\n",
       "      <td>expire_flag</td>\n",
       "      <td>TVComplement</td>\n",
       "      <td>0.934863</td>\n",
       "    </tr>\n",
       "    <tr>\n",
       "      <th>6</th>\n",
       "      <td>hospital_stay_hours</td>\n",
       "      <td>KSComplement</td>\n",
       "      <td>0.668516</td>\n",
       "    </tr>\n",
       "  </tbody>\n",
       "</table>\n",
       "</div>"
      ],
      "text/plain": [
       "                 Column        Metric     Score\n",
       "0                gender  TVComplement  0.739452\n",
       "1                   age  KSComplement  0.668927\n",
       "2     initial_diagnosis  TVComplement  0.072831\n",
       "3     primary_icd9_code  KSComplement  0.762831\n",
       "4  hospital_expire_flag  TVComplement  0.896096\n",
       "5           expire_flag  TVComplement  0.934863\n",
       "6   hospital_stay_hours  KSComplement  0.668516"
      ]
     },
     "execution_count": 58,
     "metadata": {},
     "output_type": "execute_result"
    }
   ],
   "source": [
    "quality_report.get_details('Column Shapes')"
   ]
  },
  {
   "cell_type": "code",
   "execution_count": 59,
   "metadata": {},
   "outputs": [
    {
     "data": {
      "application/vnd.plotly.v1+json": {
       "config": {
        "plotlyServerURL": "https://plot.ly"
       },
       "data": [
        {
         "alignmentgroup": "True",
         "bingroup": "x",
         "histnorm": "probability density",
         "hovertemplate": "<b>Real</b><br>Frequency: %{y}<extra></extra>",
         "legendgroup": "Real",
         "marker": {
          "color": "#000036",
          "pattern": {
           "shape": ""
          }
         },
         "name": "Real",
         "offsetgroup": "Real",
         "orientation": "v",
         "showlegend": true,
         "type": "histogram",
         "x": [
          "M",
          "F",
          "F",
          "M",
          "M",
          "M",
          "F",
          "M",
          "F",
          "F",
          "F",
          "F",
          "M",
          "M",
          "M",
          "F",
          "M",
          "F",
          "M",
          "M",
          "F",
          "M",
          "M",
          "F",
          "F",
          "M",
          "M",
          "F",
          "F",
          "F",
          "F",
          "M",
          "M",
          "F",
          "M",
          "M",
          "M",
          "M",
          "M",
          "M",
          "M",
          "M",
          "F",
          "F",
          "M",
          "M",
          "F",
          "M",
          "M",
          "M",
          "F",
          "M",
          "M",
          "M",
          "M",
          "M",
          "M",
          "F",
          "M",
          "M",
          "M",
          "F",
          "M",
          "F",
          "F",
          "F",
          "M",
          "F",
          "M",
          "F",
          "M",
          "F",
          "F",
          "M",
          "F",
          "M",
          "M",
          "M",
          "F",
          "M",
          "F",
          "M",
          "M",
          "F",
          "F",
          "F",
          "F",
          "F",
          "F",
          "M",
          "F",
          "F",
          "M",
          "M",
          "M",
          "F",
          "F",
          "F",
          "M",
          "M",
          "F",
          "M",
          "F",
          "M",
          "F",
          "F",
          "F",
          "F",
          "F",
          "F",
          "F",
          "M",
          "M",
          "F",
          "F",
          "M",
          "F",
          "M",
          "M",
          "M",
          "F",
          "F",
          "M",
          "M",
          "M",
          "F",
          "M",
          "M",
          "M",
          "M",
          "F",
          "M",
          "F",
          "F",
          "M",
          "M",
          "F",
          "F",
          "F",
          "F",
          "F",
          "F",
          "F",
          "F",
          "F",
          "F",
          "F",
          "F",
          "F",
          "F",
          "F",
          "F",
          "F",
          "F",
          "M",
          "F",
          "F",
          "F",
          "M",
          "F",
          "M",
          "F",
          "F",
          "F",
          "M",
          "F",
          "M",
          "F",
          "M",
          "M",
          "F",
          "F",
          "F",
          "F",
          "F",
          "M",
          "M",
          "M",
          "F",
          "F",
          "F",
          "M",
          "F",
          "F",
          "M",
          "M",
          "M",
          "M",
          "M",
          "M",
          "M",
          "F",
          "F",
          "F",
          "M",
          "M",
          "M",
          "M",
          "F",
          "F",
          "F",
          "M",
          "F",
          "F",
          "F",
          "F",
          "M",
          "M",
          "M",
          "M",
          "M",
          "F",
          "F",
          "F",
          "M",
          "M",
          "F",
          "M",
          "F"
         ],
         "xaxis": "x",
         "yaxis": "y"
        },
        {
         "alignmentgroup": "True",
         "bingroup": "x",
         "histnorm": "probability density",
         "hovertemplate": "<b>Synthetic</b><br>Frequency: %{y}<extra></extra>",
         "legendgroup": "Synthetic",
         "marker": {
          "color": "#01E0C9",
          "pattern": {
           "shape": "/"
          }
         },
         "name": "Synthetic",
         "offsetgroup": "Synthetic",
         "orientation": "v",
         "showlegend": true,
         "type": "histogram",
         "x": [
          "M",
          "M",
          "M",
          "M",
          "M",
          "M",
          "F",
          "M",
          "F",
          "F",
          "F",
          "F",
          "M",
          "M",
          "F",
          "M",
          "F",
          "F",
          "F",
          "M",
          "F",
          "M",
          "M",
          "M",
          "F",
          "M",
          "M",
          "M",
          "M",
          "M",
          "M",
          "M",
          "M",
          "M",
          "F",
          "F",
          "M",
          "M",
          "F",
          "M",
          "F",
          "M",
          "M",
          "M",
          "F",
          "M",
          "F",
          "F",
          "M",
          "M",
          "M",
          "M",
          "M",
          "M",
          "M",
          "F",
          "M",
          "M",
          "M",
          "M",
          "M",
          "M",
          "M",
          "F",
          "M",
          "F",
          "F",
          "M",
          "M",
          "F",
          "F",
          "M",
          "M",
          "M",
          "M",
          "F",
          "M",
          "M",
          "M",
          "M",
          "M",
          "F",
          "M",
          "M",
          "M",
          "M",
          "F",
          "M",
          "M",
          "M",
          "F",
          "M",
          "M",
          "M",
          "M",
          "M",
          "F",
          "F",
          "M",
          "M",
          "F",
          "M",
          "M",
          "F",
          "M",
          "M",
          "M",
          "M",
          "F",
          "M",
          "M",
          "M",
          "M",
          "M",
          "F",
          "M",
          "M",
          "M",
          "M",
          "M",
          "M",
          "M",
          "M",
          "M",
          "M",
          "M",
          "M",
          "M",
          "M",
          "F",
          "F",
          "M",
          "F",
          "M",
          "F",
          "M",
          "F",
          "M",
          "M",
          "M",
          "F",
          "M",
          "M",
          "F",
          "F",
          "M",
          "M",
          "M",
          "M",
          "M",
          "M",
          "M",
          "M",
          "M",
          "M",
          "M",
          "M",
          "M",
          "F",
          "M",
          "M",
          "M",
          "M",
          "M",
          "M",
          "F",
          "F",
          "M",
          "F",
          "M",
          "M",
          "M",
          "M",
          "M",
          "M",
          "F",
          "M",
          "M",
          "M",
          "F",
          "M",
          "M",
          "F",
          "M",
          "F",
          "M",
          "M",
          "M",
          "M",
          "M",
          "M",
          "M",
          "M",
          "M",
          "M",
          "M",
          "M",
          "F",
          "F",
          "M"
         ],
         "xaxis": "x",
         "yaxis": "y"
        }
       ],
       "layout": {
        "barmode": "group",
        "font": {
         "size": 18
        },
        "legend": {
         "title": {
          "text": "Data"
         },
         "tracegroupgap": 0
        },
        "margin": {
         "t": 60
        },
        "plot_bgcolor": "#F5F5F8",
        "template": {
         "data": {
          "bar": [
           {
            "error_x": {
             "color": "#2a3f5f"
            },
            "error_y": {
             "color": "#2a3f5f"
            },
            "marker": {
             "line": {
              "color": "#E5ECF6",
              "width": 0.5
             },
             "pattern": {
              "fillmode": "overlay",
              "size": 10,
              "solidity": 0.2
             }
            },
            "type": "bar"
           }
          ],
          "barpolar": [
           {
            "marker": {
             "line": {
              "color": "#E5ECF6",
              "width": 0.5
             },
             "pattern": {
              "fillmode": "overlay",
              "size": 10,
              "solidity": 0.2
             }
            },
            "type": "barpolar"
           }
          ],
          "carpet": [
           {
            "aaxis": {
             "endlinecolor": "#2a3f5f",
             "gridcolor": "white",
             "linecolor": "white",
             "minorgridcolor": "white",
             "startlinecolor": "#2a3f5f"
            },
            "baxis": {
             "endlinecolor": "#2a3f5f",
             "gridcolor": "white",
             "linecolor": "white",
             "minorgridcolor": "white",
             "startlinecolor": "#2a3f5f"
            },
            "type": "carpet"
           }
          ],
          "choropleth": [
           {
            "colorbar": {
             "outlinewidth": 0,
             "ticks": ""
            },
            "type": "choropleth"
           }
          ],
          "contour": [
           {
            "colorbar": {
             "outlinewidth": 0,
             "ticks": ""
            },
            "colorscale": [
             [
              0,
              "#0d0887"
             ],
             [
              0.1111111111111111,
              "#46039f"
             ],
             [
              0.2222222222222222,
              "#7201a8"
             ],
             [
              0.3333333333333333,
              "#9c179e"
             ],
             [
              0.4444444444444444,
              "#bd3786"
             ],
             [
              0.5555555555555556,
              "#d8576b"
             ],
             [
              0.6666666666666666,
              "#ed7953"
             ],
             [
              0.7777777777777778,
              "#fb9f3a"
             ],
             [
              0.8888888888888888,
              "#fdca26"
             ],
             [
              1,
              "#f0f921"
             ]
            ],
            "type": "contour"
           }
          ],
          "contourcarpet": [
           {
            "colorbar": {
             "outlinewidth": 0,
             "ticks": ""
            },
            "type": "contourcarpet"
           }
          ],
          "heatmap": [
           {
            "colorbar": {
             "outlinewidth": 0,
             "ticks": ""
            },
            "colorscale": [
             [
              0,
              "#0d0887"
             ],
             [
              0.1111111111111111,
              "#46039f"
             ],
             [
              0.2222222222222222,
              "#7201a8"
             ],
             [
              0.3333333333333333,
              "#9c179e"
             ],
             [
              0.4444444444444444,
              "#bd3786"
             ],
             [
              0.5555555555555556,
              "#d8576b"
             ],
             [
              0.6666666666666666,
              "#ed7953"
             ],
             [
              0.7777777777777778,
              "#fb9f3a"
             ],
             [
              0.8888888888888888,
              "#fdca26"
             ],
             [
              1,
              "#f0f921"
             ]
            ],
            "type": "heatmap"
           }
          ],
          "heatmapgl": [
           {
            "colorbar": {
             "outlinewidth": 0,
             "ticks": ""
            },
            "colorscale": [
             [
              0,
              "#0d0887"
             ],
             [
              0.1111111111111111,
              "#46039f"
             ],
             [
              0.2222222222222222,
              "#7201a8"
             ],
             [
              0.3333333333333333,
              "#9c179e"
             ],
             [
              0.4444444444444444,
              "#bd3786"
             ],
             [
              0.5555555555555556,
              "#d8576b"
             ],
             [
              0.6666666666666666,
              "#ed7953"
             ],
             [
              0.7777777777777778,
              "#fb9f3a"
             ],
             [
              0.8888888888888888,
              "#fdca26"
             ],
             [
              1,
              "#f0f921"
             ]
            ],
            "type": "heatmapgl"
           }
          ],
          "histogram": [
           {
            "marker": {
             "pattern": {
              "fillmode": "overlay",
              "size": 10,
              "solidity": 0.2
             }
            },
            "type": "histogram"
           }
          ],
          "histogram2d": [
           {
            "colorbar": {
             "outlinewidth": 0,
             "ticks": ""
            },
            "colorscale": [
             [
              0,
              "#0d0887"
             ],
             [
              0.1111111111111111,
              "#46039f"
             ],
             [
              0.2222222222222222,
              "#7201a8"
             ],
             [
              0.3333333333333333,
              "#9c179e"
             ],
             [
              0.4444444444444444,
              "#bd3786"
             ],
             [
              0.5555555555555556,
              "#d8576b"
             ],
             [
              0.6666666666666666,
              "#ed7953"
             ],
             [
              0.7777777777777778,
              "#fb9f3a"
             ],
             [
              0.8888888888888888,
              "#fdca26"
             ],
             [
              1,
              "#f0f921"
             ]
            ],
            "type": "histogram2d"
           }
          ],
          "histogram2dcontour": [
           {
            "colorbar": {
             "outlinewidth": 0,
             "ticks": ""
            },
            "colorscale": [
             [
              0,
              "#0d0887"
             ],
             [
              0.1111111111111111,
              "#46039f"
             ],
             [
              0.2222222222222222,
              "#7201a8"
             ],
             [
              0.3333333333333333,
              "#9c179e"
             ],
             [
              0.4444444444444444,
              "#bd3786"
             ],
             [
              0.5555555555555556,
              "#d8576b"
             ],
             [
              0.6666666666666666,
              "#ed7953"
             ],
             [
              0.7777777777777778,
              "#fb9f3a"
             ],
             [
              0.8888888888888888,
              "#fdca26"
             ],
             [
              1,
              "#f0f921"
             ]
            ],
            "type": "histogram2dcontour"
           }
          ],
          "mesh3d": [
           {
            "colorbar": {
             "outlinewidth": 0,
             "ticks": ""
            },
            "type": "mesh3d"
           }
          ],
          "parcoords": [
           {
            "line": {
             "colorbar": {
              "outlinewidth": 0,
              "ticks": ""
             }
            },
            "type": "parcoords"
           }
          ],
          "pie": [
           {
            "automargin": true,
            "type": "pie"
           }
          ],
          "scatter": [
           {
            "fillpattern": {
             "fillmode": "overlay",
             "size": 10,
             "solidity": 0.2
            },
            "type": "scatter"
           }
          ],
          "scatter3d": [
           {
            "line": {
             "colorbar": {
              "outlinewidth": 0,
              "ticks": ""
             }
            },
            "marker": {
             "colorbar": {
              "outlinewidth": 0,
              "ticks": ""
             }
            },
            "type": "scatter3d"
           }
          ],
          "scattercarpet": [
           {
            "marker": {
             "colorbar": {
              "outlinewidth": 0,
              "ticks": ""
             }
            },
            "type": "scattercarpet"
           }
          ],
          "scattergeo": [
           {
            "marker": {
             "colorbar": {
              "outlinewidth": 0,
              "ticks": ""
             }
            },
            "type": "scattergeo"
           }
          ],
          "scattergl": [
           {
            "marker": {
             "colorbar": {
              "outlinewidth": 0,
              "ticks": ""
             }
            },
            "type": "scattergl"
           }
          ],
          "scattermapbox": [
           {
            "marker": {
             "colorbar": {
              "outlinewidth": 0,
              "ticks": ""
             }
            },
            "type": "scattermapbox"
           }
          ],
          "scatterpolar": [
           {
            "marker": {
             "colorbar": {
              "outlinewidth": 0,
              "ticks": ""
             }
            },
            "type": "scatterpolar"
           }
          ],
          "scatterpolargl": [
           {
            "marker": {
             "colorbar": {
              "outlinewidth": 0,
              "ticks": ""
             }
            },
            "type": "scatterpolargl"
           }
          ],
          "scatterternary": [
           {
            "marker": {
             "colorbar": {
              "outlinewidth": 0,
              "ticks": ""
             }
            },
            "type": "scatterternary"
           }
          ],
          "surface": [
           {
            "colorbar": {
             "outlinewidth": 0,
             "ticks": ""
            },
            "colorscale": [
             [
              0,
              "#0d0887"
             ],
             [
              0.1111111111111111,
              "#46039f"
             ],
             [
              0.2222222222222222,
              "#7201a8"
             ],
             [
              0.3333333333333333,
              "#9c179e"
             ],
             [
              0.4444444444444444,
              "#bd3786"
             ],
             [
              0.5555555555555556,
              "#d8576b"
             ],
             [
              0.6666666666666666,
              "#ed7953"
             ],
             [
              0.7777777777777778,
              "#fb9f3a"
             ],
             [
              0.8888888888888888,
              "#fdca26"
             ],
             [
              1,
              "#f0f921"
             ]
            ],
            "type": "surface"
           }
          ],
          "table": [
           {
            "cells": {
             "fill": {
              "color": "#EBF0F8"
             },
             "line": {
              "color": "white"
             }
            },
            "header": {
             "fill": {
              "color": "#C8D4E3"
             },
             "line": {
              "color": "white"
             }
            },
            "type": "table"
           }
          ]
         },
         "layout": {
          "annotationdefaults": {
           "arrowcolor": "#2a3f5f",
           "arrowhead": 0,
           "arrowwidth": 1
          },
          "autotypenumbers": "strict",
          "coloraxis": {
           "colorbar": {
            "outlinewidth": 0,
            "ticks": ""
           }
          },
          "colorscale": {
           "diverging": [
            [
             0,
             "#8e0152"
            ],
            [
             0.1,
             "#c51b7d"
            ],
            [
             0.2,
             "#de77ae"
            ],
            [
             0.3,
             "#f1b6da"
            ],
            [
             0.4,
             "#fde0ef"
            ],
            [
             0.5,
             "#f7f7f7"
            ],
            [
             0.6,
             "#e6f5d0"
            ],
            [
             0.7,
             "#b8e186"
            ],
            [
             0.8,
             "#7fbc41"
            ],
            [
             0.9,
             "#4d9221"
            ],
            [
             1,
             "#276419"
            ]
           ],
           "sequential": [
            [
             0,
             "#0d0887"
            ],
            [
             0.1111111111111111,
             "#46039f"
            ],
            [
             0.2222222222222222,
             "#7201a8"
            ],
            [
             0.3333333333333333,
             "#9c179e"
            ],
            [
             0.4444444444444444,
             "#bd3786"
            ],
            [
             0.5555555555555556,
             "#d8576b"
            ],
            [
             0.6666666666666666,
             "#ed7953"
            ],
            [
             0.7777777777777778,
             "#fb9f3a"
            ],
            [
             0.8888888888888888,
             "#fdca26"
            ],
            [
             1,
             "#f0f921"
            ]
           ],
           "sequentialminus": [
            [
             0,
             "#0d0887"
            ],
            [
             0.1111111111111111,
             "#46039f"
            ],
            [
             0.2222222222222222,
             "#7201a8"
            ],
            [
             0.3333333333333333,
             "#9c179e"
            ],
            [
             0.4444444444444444,
             "#bd3786"
            ],
            [
             0.5555555555555556,
             "#d8576b"
            ],
            [
             0.6666666666666666,
             "#ed7953"
            ],
            [
             0.7777777777777778,
             "#fb9f3a"
            ],
            [
             0.8888888888888888,
             "#fdca26"
            ],
            [
             1,
             "#f0f921"
            ]
           ]
          },
          "colorway": [
           "#636efa",
           "#EF553B",
           "#00cc96",
           "#ab63fa",
           "#FFA15A",
           "#19d3f3",
           "#FF6692",
           "#B6E880",
           "#FF97FF",
           "#FECB52"
          ],
          "font": {
           "color": "#2a3f5f"
          },
          "geo": {
           "bgcolor": "white",
           "lakecolor": "white",
           "landcolor": "#E5ECF6",
           "showlakes": true,
           "showland": true,
           "subunitcolor": "white"
          },
          "hoverlabel": {
           "align": "left"
          },
          "hovermode": "closest",
          "mapbox": {
           "style": "light"
          },
          "paper_bgcolor": "white",
          "plot_bgcolor": "#E5ECF6",
          "polar": {
           "angularaxis": {
            "gridcolor": "white",
            "linecolor": "white",
            "ticks": ""
           },
           "bgcolor": "#E5ECF6",
           "radialaxis": {
            "gridcolor": "white",
            "linecolor": "white",
            "ticks": ""
           }
          },
          "scene": {
           "xaxis": {
            "backgroundcolor": "#E5ECF6",
            "gridcolor": "white",
            "gridwidth": 2,
            "linecolor": "white",
            "showbackground": true,
            "ticks": "",
            "zerolinecolor": "white"
           },
           "yaxis": {
            "backgroundcolor": "#E5ECF6",
            "gridcolor": "white",
            "gridwidth": 2,
            "linecolor": "white",
            "showbackground": true,
            "ticks": "",
            "zerolinecolor": "white"
           },
           "zaxis": {
            "backgroundcolor": "#E5ECF6",
            "gridcolor": "white",
            "gridwidth": 2,
            "linecolor": "white",
            "showbackground": true,
            "ticks": "",
            "zerolinecolor": "white"
           }
          },
          "shapedefaults": {
           "line": {
            "color": "#2a3f5f"
           }
          },
          "ternary": {
           "aaxis": {
            "gridcolor": "white",
            "linecolor": "white",
            "ticks": ""
           },
           "baxis": {
            "gridcolor": "white",
            "linecolor": "white",
            "ticks": ""
           },
           "bgcolor": "#E5ECF6",
           "caxis": {
            "gridcolor": "white",
            "linecolor": "white",
            "ticks": ""
           }
          },
          "title": {
           "x": 0.05
          },
          "xaxis": {
           "automargin": true,
           "gridcolor": "white",
           "linecolor": "white",
           "ticks": "",
           "title": {
            "standoff": 15
           },
           "zerolinecolor": "white",
           "zerolinewidth": 2
          },
          "yaxis": {
           "automargin": true,
           "gridcolor": "white",
           "linecolor": "white",
           "ticks": "",
           "title": {
            "standoff": 15
           },
           "zerolinecolor": "white",
           "zerolinewidth": 2
          }
         }
        },
        "title": {
         "text": "Real vs. Synthetic Data for column 'gender'"
        },
        "xaxis": {
         "anchor": "y",
         "domain": [
          0,
          1
         ],
         "title": {
          "text": "Category"
         }
        },
        "yaxis": {
         "anchor": "x",
         "domain": [
          0,
          1
         ],
         "title": {
          "text": "Frequency"
         }
        }
       }
      }
     },
     "metadata": {},
     "output_type": "display_data"
    },
    {
     "data": {
      "application/vnd.plotly.v1+json": {
       "config": {
        "plotlyServerURL": "https://plot.ly"
       },
       "data": [
        {
         "fill": "tozeroy",
         "hovertemplate": "<b>Real</b><br>Frequency: %{y}<extra></extra>",
         "legendgroup": "Real",
         "marker": {
          "color": "#000036"
         },
         "mode": "lines",
         "name": "Real",
         "showlegend": true,
         "type": "scatter",
         "x": [
          19,
          19.562,
          20.124,
          20.686,
          21.248,
          21.81,
          22.372,
          22.934,
          23.496000000000002,
          24.058,
          24.62,
          25.182000000000002,
          25.744,
          26.306,
          26.868000000000002,
          27.43,
          27.992,
          28.554000000000002,
          29.116,
          29.678,
          30.240000000000002,
          30.802,
          31.364,
          31.926000000000002,
          32.488,
          33.05,
          33.612,
          34.174,
          34.736000000000004,
          35.298,
          35.86,
          36.422,
          36.984,
          37.546,
          38.108000000000004,
          38.67,
          39.232,
          39.794,
          40.356,
          40.918,
          41.480000000000004,
          42.042,
          42.604,
          43.166,
          43.728,
          44.29,
          44.852000000000004,
          45.414,
          45.976,
          46.538,
          47.1,
          47.662,
          48.224000000000004,
          48.786,
          49.348,
          49.91,
          50.472,
          51.034,
          51.596,
          52.158,
          52.72,
          53.282,
          53.844,
          54.406,
          54.968,
          55.53,
          56.092,
          56.654,
          57.216,
          57.778,
          58.34,
          58.902,
          59.464,
          60.026,
          60.588,
          61.15,
          61.712,
          62.274,
          62.836,
          63.398,
          63.96,
          64.52199999999999,
          65.084,
          65.646,
          66.208,
          66.77000000000001,
          67.332,
          67.894,
          68.456,
          69.018,
          69.58,
          70.142,
          70.70400000000001,
          71.26599999999999,
          71.828,
          72.39,
          72.952,
          73.51400000000001,
          74.076,
          74.638,
          75.2,
          75.762,
          76.324,
          76.886,
          77.44800000000001,
          78.00999999999999,
          78.572,
          79.134,
          79.696,
          80.25800000000001,
          80.82,
          81.382,
          81.944,
          82.506,
          83.068,
          83.63,
          84.192,
          84.754,
          85.316,
          85.878,
          86.44,
          87.002,
          87.564,
          88.126,
          88.688,
          89.25,
          89.812,
          90.374,
          90.936,
          91.498,
          92.06,
          92.622,
          93.184,
          93.746,
          94.308,
          94.87,
          95.432,
          95.994,
          96.556,
          97.118,
          97.68,
          98.242,
          98.804,
          99.366,
          99.928,
          100.49,
          101.052,
          101.614,
          102.176,
          102.738,
          103.3,
          103.862,
          104.424,
          104.986,
          105.548,
          106.11,
          106.672,
          107.234,
          107.796,
          108.358,
          108.92,
          109.482,
          110.044,
          110.606,
          111.168,
          111.73,
          112.292,
          112.854,
          113.416,
          113.978,
          114.54,
          115.102,
          115.664,
          116.226,
          116.788,
          117.35,
          117.912,
          118.474,
          119.036,
          119.598,
          120.16,
          120.722,
          121.284,
          121.846,
          122.408,
          122.97,
          123.532,
          124.094,
          124.656,
          125.218,
          125.78,
          126.342,
          126.904,
          127.466,
          128.02800000000002,
          128.59,
          129.152,
          129.714,
          130.276,
          130.838,
          131.4,
          131.962,
          132.524,
          133.086,
          133.648,
          134.20999999999998,
          134.772,
          135.334,
          135.89600000000002,
          136.458,
          137.01999999999998,
          137.582,
          138.144,
          138.70600000000002,
          139.268,
          139.82999999999998,
          140.392,
          140.954,
          141.51600000000002,
          142.078,
          142.64,
          143.202,
          143.764,
          144.326,
          144.888,
          145.45,
          146.012,
          146.574,
          147.136,
          147.698,
          148.26,
          148.822,
          149.384,
          149.946,
          150.508,
          151.07,
          151.632,
          152.194,
          152.756,
          153.318,
          153.88,
          154.442,
          155.004,
          155.566,
          156.128,
          156.69,
          157.252,
          157.814,
          158.376,
          158.938,
          159.5,
          160.062,
          160.624,
          161.186,
          161.748,
          162.31,
          162.872,
          163.434,
          163.996,
          164.558,
          165.12,
          165.682,
          166.244,
          166.806,
          167.368,
          167.93,
          168.492,
          169.054,
          169.616,
          170.178,
          170.74,
          171.302,
          171.864,
          172.426,
          172.988,
          173.55,
          174.112,
          174.674,
          175.236,
          175.798,
          176.36,
          176.922,
          177.484,
          178.046,
          178.608,
          179.17,
          179.732,
          180.294,
          180.856,
          181.418,
          181.98,
          182.542,
          183.104,
          183.666,
          184.228,
          184.79,
          185.352,
          185.914,
          186.476,
          187.038,
          187.6,
          188.162,
          188.724,
          189.286,
          189.848,
          190.41,
          190.972,
          191.534,
          192.096,
          192.658,
          193.22,
          193.782,
          194.344,
          194.906,
          195.468,
          196.03,
          196.592,
          197.154,
          197.716,
          198.278,
          198.84,
          199.402,
          199.964,
          200.526,
          201.088,
          201.65,
          202.212,
          202.774,
          203.336,
          203.898,
          204.46,
          205.022,
          205.584,
          206.146,
          206.708,
          207.27,
          207.832,
          208.394,
          208.956,
          209.518,
          210.08,
          210.642,
          211.204,
          211.766,
          212.328,
          212.89,
          213.452,
          214.014,
          214.576,
          215.138,
          215.7,
          216.262,
          216.824,
          217.386,
          217.948,
          218.51,
          219.072,
          219.634,
          220.196,
          220.758,
          221.32,
          221.882,
          222.444,
          223.006,
          223.568,
          224.13,
          224.692,
          225.254,
          225.816,
          226.378,
          226.94,
          227.502,
          228.064,
          228.626,
          229.188,
          229.75,
          230.312,
          230.874,
          231.436,
          231.998,
          232.56,
          233.122,
          233.684,
          234.246,
          234.808,
          235.37,
          235.932,
          236.494,
          237.056,
          237.618,
          238.18,
          238.742,
          239.304,
          239.866,
          240.428,
          240.99,
          241.552,
          242.114,
          242.676,
          243.238,
          243.8,
          244.362,
          244.924,
          245.486,
          246.048,
          246.61,
          247.172,
          247.734,
          248.296,
          248.858,
          249.42,
          249.982,
          250.544,
          251.106,
          251.668,
          252.23,
          252.792,
          253.354,
          253.916,
          254.478,
          255.04,
          255.602,
          256.164,
          256.726,
          257.288,
          257.85,
          258.41200000000003,
          258.974,
          259.536,
          260.098,
          260.65999999999997,
          261.222,
          261.784,
          262.346,
          262.908,
          263.47,
          264.03200000000004,
          264.594,
          265.156,
          265.71799999999996,
          266.28,
          266.842,
          267.404,
          267.966,
          268.528,
          269.09000000000003,
          269.652,
          270.214,
          270.776,
          271.33799999999997,
          271.9,
          272.462,
          273.024,
          273.586,
          274.148,
          274.71000000000004,
          275.272,
          275.834,
          276.396,
          276.958,
          277.52,
          278.082,
          278.644,
          279.206,
          279.768,
          280.33,
          280.892,
          281.454,
          282.016,
          282.578,
          283.14,
          283.702,
          284.264,
          284.826,
          285.388,
          285.95,
          286.512,
          287.074,
          287.636,
          288.198,
          288.76,
          289.322,
          289.884,
          290.446,
          291.008,
          291.57,
          292.132,
          292.694,
          293.256,
          293.818,
          294.38,
          294.942,
          295.504,
          296.066,
          296.628,
          297.19,
          297.752,
          298.314,
          298.876,
          299.438
         ],
         "xaxis": "x",
         "y": [
          0.007235911503190705,
          0.007590150215963373,
          0.007942925290669057,
          0.008293485214745431,
          0.00864120468606739,
          0.008985587686153075,
          0.009326266074686172,
          0.00966299379539461,
          0.009995636957516284,
          0.010324160221469527,
          0.01064861006412922,
          0.010969095621251122,
          0.01128576789622422,
          0.011598798181094242,
          0.01190835655508109,
          0.012214591306911687,
          0.012517610071463986,
          0.012817463381624612,
          0.013114131217763536,
          0.013407512996131406,
          0.013697421281161387,
          0.01398357934313136,
          0.014265622520124052,
          0.014543103189637276,
          0.0148154990177422,
          0.01508222403843557,
          0.01534264202740528,
          0.015596081575776449,
          0.015841852241678254,
          0.016079261160023527,
          0.016307629521378823,
          0.016526308385396756,
          0.016734693367980162,
          0.016932237828317615,
          0.01711846427595095,
          0.017292973812885963,
          0.01745545351565643,
          0.017605681742200924,
          0.017743531414511692,
          0.017868971377683222,
          0.017982065968061102,
          0.018082972937972484,
          0.018171939883660206,
          0.018249299309382253,
          0.018315462437943453,
          0.018370911850553378,
          0.01841619301146453,
          0.018451904709809924,
          0.01847868843642949,
          0.018497216710438396,
          0.01850818038099134,
          0.018512274955034116,
          0.01851018604139132,
          0.01850257405357671,
          0.018490058375281213,
          0.018473201259607906,
          0.01845249180103807,
          0.018428330382628425,
          0.01840101405476763,
          0.018370723340936135,
          0.018337510985917384,
          0.018301293159338452,
          0.018261843600007845,
          0.018218791133388892,
          0.018171620916300125,
          0.01811967966166686,
          0.018062184975368573,
          0.017998238801673998,
          0.01792684482916685,
          0.017846929561850706,
          0.017757366617024834,
          0.017657003679248214,
          0.01754469142454981,
          0.017419313636545378,
          0.01727981767078607,
          0.01712524438871161,
          0.016954756679796287,
          0.016767665720134668,
          0.016563454176596076,
          0.016341795655151932,
          0.01610256980619917,
          0.015845872633797557,
          0.015572021704132822,
          0.015281556105195292,
          0.014975231168513205,
          0.01465400811886007,
          0.014319038963689275,
          0.013971647065837148,
          0.013613303956824684,
          0.013245603040891198,
          0.012870230909735434,
          0.01248893703383711,
          0.012103502618150018,
          0.011715709408687098,
          0.01132730921355008,
          0.010939994859328221,
          0.010555373243929456,
          0.010174941072481694,
          0.009800063776732352,
          0.009431958023163574,
          0.009071678113542954,
          0.008720106476430917,
          0.008377948341712063,
          0.00804573058480142,
          0.007723804624957041,
          0.007412353165146773,
          0.007111400471105051,
          0.006820825806417602,
          0.0065403795704229994,
          0.0062697016280354925,
          0.006008341276711628,
          0.005755778266923747,
          0.005511444279585013,
          0.005274744267445214,
          0.005045077087655675,
          0.0048218548890956526,
          0.004604520769731065,
          0.004392564284751875,
          0.004185534463477755,
          0.003983050079509879,
          0.003784807011403756,
          0.003590582627005451,
          0.003400237220126089,
          0.003213712620003306,
          0.003031028178735048,
          0.0028522744165860796,
          0.0026776046672210437,
          0.002507225112527237,
          0.0023413836284281796,
          0.002180357878332669,
          0.0020244430897151866,
          0.0018739399325837965,
          0.0017291428877025455,
          0.0015903294493857026,
          0.001457750454888408,
          0.0013316217725913876,
          0.001212117517170642,
          0.0010993648946117285,
          0.0009934407159879228,
          0.0008943695588302576,
          0.0008021235007723416,
          0.000716623303619843,
          0.0006377408882609042,
          0.0005653029125942142,
          0.0004990952461168251,
          0.00043886812574927376,
          0.0003843417772535341,
          0.0003352122942713226,
          0.00029115758138630146,
          0.0002518431873454067,
          0.00021692787823833783,
          0.00018606882660736682,
          0.00015892631978824505,
          0.0001351679180367309,
          0.0001144720191102422,
          0.00009653081007987895,
          0.00008105260858236157,
          0.00006776361403153697,
          0.00005640910424261018,
          0.00004675412440889929,
          0.00003858372349795329,
          0.0000317027981175862,
          0.000025935606057050247,
          0.00002112501141629398,
          0.00001713152091766919,
          0.00001383216708311177,
          0.000011119288879888265,
          0.000008899254586724671,
          0.000007091165366515804,
          0.000005625571659989163,
          0.000004443228291084634,
          0.000003493908299038086,
          0.0000027352901307094946,
          0.0000021319280369607437,
          0.000001654311372673883,
          0.0000012780150181106934,
          9.829403065058566e-7,
          7.526436227126679e-7,
          5.73748177507959e-7,
          4.354332983245924e-7,
          3.289948407441778e-7,
          2.4746994582166854e-7,
          1.8531927807294158e-7,
          1.3816001411359947e-7,
          1.0254315507416714e-7,
          7.576915679998644e-8,
          5.573636783575061e-8,
          4.081730120745069e-8,
          2.9758314127083094e-8,
          2.159880858290383e-8,
          1.5606579746209094e-8,
          1.1226417577664337e-8,
          8.039503407556677e-9,
          5.731534343885617e-9,
          4.06785342797949e-9,
          2.8741636977666155e-9,
          2.0216622476760825e-9,
          1.4156493616642899e-9,
          9.868516921558902e-10,
          6.848513008421085e-10,
          4.731381762014519e-10,
          3.254064238164435e-10,
          2.2279723261123907e-10,
          1.518581551673236e-10,
          1.0304103795038251e-10,
          6.960256268538e-11,
          4.6803923445126624e-11,
          3.133144624102712e-11,
          2.0879442788078106e-11,
          1.385149910565318e-11,
          9.147727040293837e-12,
          6.014053633179737e-12,
          3.9360283289767746e-12,
          2.5643960216170296e-12,
          1.663209961793986e-12,
          1.0738492345913439e-12,
          6.901968105782834e-13,
          4.4160617755232706e-13,
          2.812736478917952e-13,
          1.7834207975085304e-13,
          1.1256636704431693e-13,
          7.072821301970773e-14,
          4.423898044047527e-14,
          2.754514748183289e-14,
          1.7073078979803183e-14,
          1.053427236595416e-14,
          6.470269644169893e-15,
          3.9560754306913e-15,
          2.40785485200321e-15,
          1.4588774644300342e-15,
          8.798919055273962e-16,
          5.282762099559635e-16,
          3.157281064509973e-16,
          1.8783872898825793e-16,
          1.112438452832048e-16,
          6.558206058552986e-17,
          3.848678239671781e-17,
          2.2483033397474834e-17,
          1.3074173502850462e-17,
          7.568135691918512e-18,
          4.3609208301493834e-18,
          2.5013901072911077e-18,
          1.4282291808169029e-18,
          8.117586943480841e-19,
          4.592698126850724e-19,
          2.5865453581367967e-19,
          1.4500497167590937e-19,
          8.091995669360728e-20,
          4.4950829734988875e-20,
          2.485584213871046e-20,
          1.3681299014271717e-20,
          7.49607054392252e-21,
          4.0883387689321026e-21,
          2.219557382046771e-21,
          1.1994760797899672e-21,
          6.452409879179185e-22,
          3.455070257548965e-22,
          1.8416022849459417e-22,
          9.770983714824564e-23,
          5.160403728035591e-23,
          2.7128856647182765e-23,
          1.4196497235112497e-23,
          7.394899990927356e-24,
          3.834284178992416e-24,
          1.978958501271948e-24,
          1.0166910233143592e-24,
          5.199250316886076e-25,
          2.6466190414637865e-25,
          1.3410366480458202e-25,
          6.76375575012214e-26,
          3.395727234531963e-26,
          1.6969726985488057e-26,
          8.44138406759586e-27,
          4.179735426795056e-27,
          2.060059850134905e-27,
          1.0106630588854427e-27,
          4.93546476820642e-28,
          2.399078393543895e-28,
          1.1607940102605654e-28,
          5.590618233270689e-29,
          2.680143849818197e-29,
          1.278938316736166e-29,
          6.074827701686343e-30,
          2.8721747006571186e-30,
          1.3516987731174186e-30,
          6.331998891429524e-31,
          2.9525227620340088e-31,
          1.3703669282227875e-31,
          6.33098605265223e-32,
          2.9113633228239783e-32,
          1.3326365274196856e-32,
          6.071793280318069e-33,
          2.7536700774368695e-33,
          1.2430717870640157e-33,
          5.58559712677304e-34,
          2.4982265728793045e-34,
          1.1121992160662358e-34,
          4.928577899672944e-35,
          2.1739456611230603e-35,
          9.544726895298891e-36,
          4.1712463575120345e-36,
          1.8144936084287886e-36,
          7.856553724574617e-37,
          3.3860674341520493e-37,
          1.452600513380902e-37,
          6.20277636413072e-38,
          2.636511822599162e-38,
          1.1157365157766503e-38,
          4.706261882496255e-39,
          1.9917481221886796e-39,
          8.774122387111096e-40,
          4.768090111074066e-40,
          4.681590711245712e-40,
          8.430982604400995e-40,
          1.898969577090196e-39,
          4.4678609468701116e-39,
          1.0553554840915539e-38,
          2.484946931572066e-38,
          5.825309016290226e-38,
          1.3592906481268048e-37,
          3.157049722482057e-37,
          7.298330758302114e-37,
          1.6793384199984103e-36,
          3.846142663881891e-36,
          8.767686735016085e-36,
          1.9893771547809546e-35,
          4.492847681271157e-35,
          1.0099473422684502e-34,
          2.2596867173255987e-34,
          5.0323426177256075e-34,
          1.1154873176875212e-33,
          2.4611129131959084e-33,
          5.404691480358338e-33,
          1.1813613095158933e-32,
          2.5702007461994063e-32,
          5.56575152600885e-32,
          1.1996458319136708e-31,
          2.573681207622643e-31,
          5.495774695798712e-31,
          1.1680879814329202e-30,
          2.4711246758229588e-30,
          5.203388180090086e-30,
          1.0905617501561837e-29,
          2.2750280901335544e-29,
          4.7238460108948763e-29,
          9.76286237486052e-29,
          2.0083114721482144e-28,
          4.112041013567867e-28,
          8.380236457407147e-28,
          1.6999164429856865e-27,
          3.432190171288058e-27,
          6.897434396631198e-27,
          1.3796733653947928e-26,
          2.7468658418857685e-26,
          5.443410465726861e-26,
          1.0736857415485707e-25,
          2.1079279102616685e-25,
          4.1191422426733966e-25,
          8.01180353641833e-25,
          1.5510516480243429e-24,
          2.988785135155729e-24,
          5.732388239001131e-24,
          1.0943316618831454e-23,
          2.0793844873384287e-23,
          3.932720675493987e-23,
          7.403274793488569e-23,
          1.3871617494006923e-22,
          2.5870379907849464e-22,
          4.802318662488877e-22,
          8.873023049048789e-22,
          1.6317916680384653e-21,
          2.986966002762765e-21,
          5.4421225141224e-21,
          9.869128780783733e-21,
          1.7814013794706734e-20,
          3.2004954872696706e-20,
          5.723281677584845e-20,
          1.0186980830257645e-19,
          1.8047552912084593e-19,
          3.1824649207006347e-19,
          5.585748703909814e-19,
          9.758242988989882e-19,
          1.6968143552202012e-18,
          2.9367670432580367e-18,
          5.059145066486117e-18,
          8.674755321833035e-18,
          1.4805047397921924e-17,
          2.5149817436713182e-17,
          4.252382656922654e-17,
          7.156526870981658e-17,
          1.1987944978646979e-16,
          1.9987553643812907e-16,
          3.31701175311815e-16,
          5.479069950118133e-16,
          9.00822336638284e-16,
          1.4741575949846643e-15,
          2.4011602705436953e-15,
          3.8928785087699005e-15,
          6.281928921426854e-15,
          1.0089918370921249e-14,
          1.6130757190060443e-14,
          2.566813542019578e-14,
          4.065428771860507e-14,
          6.409008648580851e-14,
          1.005652240480409e-13,
          1.5706421932100527e-13,
          2.4416261137881897e-13,
          3.7779267139160247e-13,
          5.81835698021373e-13,
          8.919071893214417e-13,
          1.3608536811242147e-12,
          2.066691564537129e-12,
          3.1240096586973788e-12,
          4.700256251219993e-12,
          7.038873658850178e-12,
          1.0491975581269756e-11,
          1.5566244184928547e-11,
          2.29870305619937e-11,
          3.3787368952275795e-11,
          4.943087997881839e-11,
          7.198048627360029e-11,
          1.0432867151056128e-10,
          1.5050989226594797e-10,
          2.16121950889855e-10,
          3.088909469787987e-10,
          4.394241767118935e-10,
          6.222074143976216e-10,
          8.769177944514121e-10,
          1.2301414443872614e-9,
          1.7176065384517306e-9,
          2.387067970794919e-9,
          3.3020097635252064e-9,
          4.546365917018679e-9,
          6.23049982397887e-9,
          8.498726544387583e-9,
          1.1538710830639847e-8,
          1.559312608272784e-8,
          2.0974014213159012e-8,
          2.8080341946190343e-8,
          3.741930292193401e-8,
          4.9631963900704127e-8,
          6.552389328288242e-8,
          8.610143607317956e-8,
          1.1261430538962564e-7,
          1.466051398149084e-7,
          1.899666206906919e-7,
          2.450066456499623e-7,
          3.145219057533108e-7,
          4.018800051307814e-7,
          5.111099862463153e-7,
          6.470007742737212e-7,
          8.152066260912414e-7,
          0.0000010223581613994805,
          0.0000012761769675140994,
          0.0000015855911121900285,
          0.0000019608481826004087,
          0.000002413621711757583,
          0.0000029571060814349107,
          0.000003606094235265999,
          0.0000043770318363133374,
          0.000005288040905500031,
          0.000006358905531613934,
          0.000007611012004407134,
          0.000009067235745212017,
          0.000010751767748489275,
          0.00001268987395193781,
          0.000014907582062674648,
          0.000017431291910348784,
          0.00002028730738606481,
          0.00002350129044946643,
          0.000027097640512500753,
          0.00003109880567854101,
          0.000035524535743885474,
          0.00004039109044239197,
          0.00004571041999540827,
          0.00005148933845905849,
          0.00005772871346425565,
          0.00006442269853796173,
          0.00007155803609354728,
          0.0000791134602103103,
          0.00008705922833463452,
          0.00009535680990688167,
          0.0001039587575698231,
          0.00011280878301777113,
          0.00012184205473017106,
          0.00013098572889076406,
          0.00014015971787860514,
          0.00014927769304608478,
          0.0001582483103423154,
          0.00016697663901355366,
          0.00017536576546305565,
          0.0001833185367441473,
          0.00019073940145309027,
          0.00019753630032203032,
          0.00020362255488605552,
          0.00020891870045302083,
          0.0002133542094079766,
          0.00021686905271789248,
          0.00021941505135647592,
          0.0002209569751373505
         ],
         "yaxis": "y"
        },
        {
         "fill": "tozeroy",
         "hovertemplate": "<b>Synthetic</b><br>Frequency: %{y}<extra></extra>",
         "legendgroup": "Synthetic",
         "marker": {
          "color": "#01E0C9"
         },
         "mode": "lines",
         "name": "Synthetic",
         "showlegend": true,
         "type": "scatter",
         "x": [
          -257,
          -255.552,
          -254.104,
          -252.656,
          -251.208,
          -249.76,
          -248.312,
          -246.864,
          -245.416,
          -243.968,
          -242.52,
          -241.072,
          -239.624,
          -238.176,
          -236.728,
          -235.28,
          -233.832,
          -232.38400000000001,
          -230.936,
          -229.488,
          -228.04,
          -226.59199999999998,
          -225.144,
          -223.696,
          -222.248,
          -220.8,
          -219.352,
          -217.904,
          -216.45600000000002,
          -215.008,
          -213.56,
          -212.112,
          -210.664,
          -209.216,
          -207.768,
          -206.32,
          -204.872,
          -203.424,
          -201.976,
          -200.528,
          -199.07999999999998,
          -197.632,
          -196.184,
          -194.736,
          -193.288,
          -191.84,
          -190.392,
          -188.94400000000002,
          -187.49599999999998,
          -186.048,
          -184.6,
          -183.152,
          -181.704,
          -180.256,
          -178.808,
          -177.36,
          -175.912,
          -174.464,
          -173.01600000000002,
          -171.56799999999998,
          -170.12,
          -168.672,
          -167.224,
          -165.776,
          -164.328,
          -162.88,
          -161.43200000000002,
          -159.98399999999998,
          -158.536,
          -157.088,
          -155.64,
          -154.192,
          -152.744,
          -151.296,
          -149.848,
          -148.4,
          -146.952,
          -145.50400000000002,
          -144.05599999999998,
          -142.608,
          -141.16,
          -139.712,
          -138.264,
          -136.816,
          -135.368,
          -133.92000000000002,
          -132.47199999999998,
          -131.024,
          -129.576,
          -128.128,
          -126.68,
          -125.232,
          -123.78399999999999,
          -122.33600000000001,
          -120.888,
          -119.44,
          -117.99199999999999,
          -116.54400000000001,
          -115.096,
          -113.648,
          -112.19999999999999,
          -110.75200000000001,
          -109.304,
          -107.856,
          -106.40799999999999,
          -104.96000000000001,
          -103.512,
          -102.064,
          -100.61600000000001,
          -99.168,
          -97.72,
          -96.27199999999999,
          -94.82400000000001,
          -93.376,
          -91.928,
          -90.47999999999999,
          -89.03200000000001,
          -87.584,
          -86.136,
          -84.68799999999999,
          -83.24000000000001,
          -81.792,
          -80.344,
          -78.89599999999999,
          -77.44800000000001,
          -76,
          -74.55199999999999,
          -73.10400000000001,
          -71.656,
          -70.208,
          -68.75999999999999,
          -67.31200000000001,
          -65.864,
          -64.416,
          -62.96799999999999,
          -61.52000000000001,
          -60.072,
          -58.623999999999995,
          -57.17599999999999,
          -55.72800000000001,
          -54.28,
          -52.831999999999994,
          -51.383999999999986,
          -49.93600000000001,
          -48.488,
          -47.03999999999999,
          -45.59200000000001,
          -44.144000000000005,
          -42.696,
          -41.24799999999999,
          -39.80000000000001,
          -38.352000000000004,
          -36.903999999999996,
          -35.45599999999999,
          -34.00800000000001,
          -32.56,
          -31.111999999999995,
          -29.663999999999987,
          -28.216000000000008,
          -26.768,
          -25.319999999999993,
          -23.872000000000014,
          -22.424000000000007,
          -20.976,
          -19.52799999999999,
          -18.080000000000013,
          -16.632000000000005,
          -15.183999999999997,
          -13.73599999999999,
          -12.288000000000011,
          -10.840000000000003,
          -9.391999999999996,
          -7.943999999999988,
          -6.496000000000009,
          -5.048000000000002,
          -3.5999999999999943,
          -2.151999999999987,
          -0.7040000000000077,
          0.7440000000000282,
          2.1920000000000073,
          3.6399999999999864,
          5.088000000000022,
          6.536000000000001,
          7.9839999999999804,
          9.432000000000016,
          10.879999999999995,
          12.327999999999975,
          13.77600000000001,
          15.22399999999999,
          16.672000000000025,
          18.120000000000005,
          19.567999999999984,
          21.01600000000002,
          22.464,
          23.911999999999978,
          25.360000000000014,
          26.807999999999993,
          28.255999999999972,
          29.704000000000008,
          31.151999999999987,
          32.60000000000002,
          34.048,
          35.49599999999998,
          36.94400000000002,
          38.391999999999996,
          39.839999999999975,
          41.28800000000001,
          42.73599999999999,
          44.184000000000026,
          45.632000000000005,
          47.079999999999984,
          48.52800000000002,
          49.976,
          51.42399999999998,
          52.872000000000014,
          54.31999999999999,
          55.76799999999997,
          57.21600000000001,
          58.66399999999999,
          60.11200000000002,
          61.56,
          63.00799999999998,
          64.45600000000002,
          65.904,
          67.35199999999998,
          68.80000000000001,
          70.24799999999999,
          71.69600000000003,
          73.144,
          74.59199999999998,
          76.04000000000002,
          77.488,
          78.93599999999998,
          80.38400000000001,
          81.832,
          83.27999999999997,
          84.72800000000001,
          86.17599999999999,
          87.62400000000002,
          89.072,
          90.51999999999998,
          91.96800000000002,
          93.416,
          94.86399999999998,
          96.31200000000001,
          97.75999999999999,
          99.20800000000003,
          100.656,
          102.10399999999998,
          103.55200000000002,
          105,
          106.44799999999998,
          107.89600000000002,
          109.344,
          110.79199999999997,
          112.24000000000001,
          113.68799999999999,
          115.13600000000002,
          116.584,
          118.03199999999998,
          119.48000000000002,
          120.928,
          122.37599999999998,
          123.82400000000001,
          125.27199999999999,
          126.72000000000003,
          128.168,
          129.61599999999999,
          131.06400000000002,
          132.512,
          133.95999999999998,
          135.40800000000002,
          136.856,
          138.30399999999997,
          139.752,
          141.2,
          142.64800000000002,
          144.096,
          145.54399999999998,
          146.99200000000002,
          148.44,
          149.88799999999998,
          151.336,
          152.784,
          154.23200000000003,
          155.68,
          157.128,
          158.57600000000002,
          160.024,
          161.47199999999998,
          162.92000000000002,
          164.368,
          165.81599999999997,
          167.264,
          168.712,
          170.16000000000003,
          171.608,
          173.05599999999998,
          174.50400000000002,
          175.952,
          177.39999999999998,
          178.848,
          180.296,
          181.74400000000003,
          183.192,
          184.64,
          186.08800000000002,
          187.536,
          188.98399999999998,
          190.43200000000002,
          191.88,
          193.32799999999997,
          194.776,
          196.224,
          197.67200000000003,
          199.12,
          200.56799999999998,
          202.01600000000002,
          203.464,
          204.91199999999998,
          206.36,
          207.808,
          209.25599999999997,
          210.704,
          212.152,
          213.60000000000002,
          215.048,
          216.49599999999998,
          217.94400000000002,
          219.392,
          220.83999999999997,
          222.288,
          223.736,
          225.18400000000003,
          226.632,
          228.07999999999998,
          229.52800000000002,
          230.976,
          232.42399999999998,
          233.872,
          235.32,
          236.76799999999997,
          238.216,
          239.664,
          241.11200000000002,
          242.56,
          244.00799999999998,
          245.45600000000002,
          246.904,
          248.35199999999998,
          249.8,
          251.248,
          252.69600000000003,
          254.144,
          255.59199999999998,
          257.03999999999996,
          258.48800000000006,
          259.93600000000004,
          261.384,
          262.832,
          264.28,
          265.72799999999995,
          267.17600000000004,
          268.624,
          270.072,
          271.52,
          272.96799999999996,
          274.41600000000005,
          275.86400000000003,
          277.312,
          278.76,
          280.20799999999997,
          281.65599999999995,
          283.10400000000004,
          284.552,
          286,
          287.448,
          288.89599999999996,
          290.34400000000005,
          291.79200000000003,
          293.24,
          294.688,
          296.13599999999997,
          297.58399999999995,
          299.03200000000004,
          300.48,
          301.928,
          303.376,
          304.82399999999996,
          306.27200000000005,
          307.72,
          309.168,
          310.616,
          312.06399999999996,
          313.51199999999994,
          314.96000000000004,
          316.408,
          317.856,
          319.304,
          320.75199999999995,
          322.20000000000005,
          323.648,
          325.096,
          326.544,
          327.99199999999996,
          329.44000000000005,
          330.88800000000003,
          332.336,
          333.784,
          335.23199999999997,
          336.67999999999995,
          338.12800000000004,
          339.576,
          341.024,
          342.472,
          343.91999999999996,
          345.36800000000005,
          346.81600000000003,
          348.264,
          349.712,
          351.15999999999997,
          352.60799999999995,
          354.05600000000004,
          355.504,
          356.952,
          358.4,
          359.84799999999996,
          361.29600000000005,
          362.744,
          364.192,
          365.64,
          367.08799999999997,
          368.53599999999994,
          369.98400000000004,
          371.432,
          372.88,
          374.328,
          375.77599999999995,
          377.22400000000005,
          378.672,
          380.12,
          381.568,
          383.01599999999996,
          384.46400000000006,
          385.91200000000003,
          387.36,
          388.808,
          390.256,
          391.70399999999995,
          393.15200000000004,
          394.6,
          396.048,
          397.496,
          398.94399999999996,
          400.39200000000005,
          401.84000000000003,
          403.288,
          404.736,
          406.18399999999997,
          407.63199999999995,
          409.08000000000004,
          410.528,
          411.976,
          413.424,
          414.87199999999996,
          416.32000000000005,
          417.76800000000003,
          419.216,
          420.664,
          422.11199999999997,
          423.55999999999995,
          425.00800000000004,
          426.456,
          427.904,
          429.352,
          430.79999999999995,
          432.24800000000005,
          433.696,
          435.144,
          436.592,
          438.03999999999996,
          439.48800000000006,
          440.93600000000004,
          442.384,
          443.832,
          445.28,
          446.72799999999995,
          448.17600000000004,
          449.624,
          451.072,
          452.52,
          453.96799999999996,
          455.41600000000005,
          456.86400000000003,
          458.312,
          459.76,
          461.20799999999997,
          462.65599999999995,
          464.10400000000004,
          465.552
         ],
         "xaxis": "x",
         "y": [
          0.00008927272859164415,
          0.00009064761661175982,
          0.00009196660018326789,
          0.0000932279304216975,
          0.0000944300813489883,
          0.00009557175728770831,
          0.00009665189896541817,
          0.0000976696882922499,
          0.00009862455178604755,
          0.00009951616263100082,
          0.0001003444413674717,
          0.00010110955522255285,
          0.0001018119161026668,
          0.00010245217728110761,
          0.00010303122882469919,
          0.00010355019181458652,
          0.00010401041142645718,
          0.00010441344894510766,
          0.00010476107279709392,
          0.0001050552486931654,
          0.00010529812897915748,
          0.0001054920412999481,
          0.00010563947668589652,
          0.00010574307717481944,
          0.00010580562308498364,
          0.00010583002005578218,
          0.00010581928597270282,
          0.00010577653789189467,
          0.00010570497907712667,
          0.00010560788625823917,
          0.00010548859721537835,
          0.00010535049878744417,
          0.0001051970153963615,
          0.00010503159817109804,
          0.00010485771474692537,
          0.00010467883980635125,
          0.00010449844641860749,
          0.00010431999822466229,
          0.00010414694250461044,
          0.00010398270415411576,
          0.00010383068058648085,
          0.00010369423756705715,
          0.0001035767059772145,
          0.00010348137949610558,
          0.00010341151318010596,
          0.00010337032291220927,
          0.00010336098568689589,
          0.00010338664069017531,
          0.00010345039112967965,
          0.00010355530676592434,
          0.00010370442709317308,
          0.00010390076511676135,
          0.00010414731167325314,
          0.00010444704024037199,
          0.00010480291218524798,
          0.00010521788240206367,
          0.00010569490529359971,
          0.00010623694105536396,
          0.00010684696222584056,
          0.00010752796047177461,
          0.00010828295358320681,
          0.00010911499265902625,
          0.00011002716947000351,
          0.00011102262399244102,
          0.00011210455211160324,
          0.00011327621349983304,
          0.00011454093967959684,
          0.00011590214228651984,
          0.00011736332155166848,
          0.00011892807502583975,
          0.00012060010657134516,
          0.00012238323564869465,
          0.00012428140692666325,
          0.00012629870024445222,
          0.00012843934095404353,
          0.00013070771066944775,
          0.00013310835844736885,
          0.00013564601242097544,
          0.0001383255919050077,
          0.00014115221998649042,
          0.00014413123661096238,
          0.0001472682121694531,
          0.00015056896158660498,
          0.00015403955890539686,
          0.0001576863523590414,
          0.00016151597991585415,
          0.00016553538527834725,
          0.00016975183431352554,
          0.00017417293188744733,
          0.00017880663907354178,
          0.0001836612907010125,
          0.00018874561320684515,
          0.0001940687427524522,
          0.0001996402435637855,
          0.00020547012645169677,
          0.00021156886746735528,
          0.00021794742664548323,
          0.00022461726678590582,
          0.00023159037222124715,
          0.0002388792675153863,
          0.0002464970360333056,
          0.0002544573383180565,
          0.00026277443020453407,
          0.00027146318059243846,
          0.00028053908879205043,
          0.0002900183013461147,
          0.0002999176282191463,
          0.00031025455823172873,
          0.00032104727360189475,
          0.00033231466343844416,
          0.0003440763360121354,
          0.000356352629610242,
          0.0003691646217581177,
          0.00038253413656843405,
          0.000396483749954919,
          0.0004110367924230741,
          0.00042621734912588684,
          0.0004420502568484345,
          0.00045856109756195105,
          0.00047577618816602103,
          0.0004937225660175019,
          0.0005124279698272906,
          0.0005319208154916088,
          0.0005522301664138154,
          0.0005733856978663163,
          0.0005954176549406823,
          0.000618356803637961,
          0.0006422343746610884,
          0.0006670819994875241,
          0.0006929316383233079,
          0.0007198154995698812,
          0.0007477659504724773,
          0.0007768154186638416,
          0.0008069962843694445,
          0.0008383407631002425,
          0.0008708807787260968,
          0.0009046478268969858,
          0.0009396728288596796,
          0.0009759859758040427,
          0.001013616563964967,
          0.0010525928208023464,
          0.00109294172268158,
          0.0011346888045800452,
          0.0011778579624495188,
          0.001222471248969786,
          0.0012685486635333877,
          0.001316107937404388,
          0.0013651643150940508,
          0.001415730333092096,
          0.0014678155971825585,
          0.0015214265596569406,
          0.0015765662978132929,
          0.001633234295196769,
          0.001691426227094317,
          0.0017511337518422143,
          0.0018123443095397272,
          0.0018750409297840535,
          0.001939202050050807,
          0.002004801346339847,
          0.002071807577687924,
          0.0021401844461176912,
          0.0022098904735464073,
          0.0022808788971180292,
          0.00235309758434909,
          0.00242648896939259,
          0.0025009900116255727,
          0.00257653217765573,
          0.002653041447721411,
          0.0027304383473284112,
          0.002808638004827315,
          0.0028875502354877287,
          0.002967079652471962,
          0.00304712580495172,
          0.003127583343448449,
          0.0032083422123125355,
          0.0032892878690895027,
          0.0033703015303549635,
          0.0034512604434340875,
          0.00353203818325852,
          0.003612504973454167,
          0.0036925280305985693,
          0.0037719719304376283,
          0.0038506989947091667,
          0.003928569697086277,
          0.00400544308662682,
          0.004081177226998299,
          0.004155629649639439,
          0.004228657818922102,
          0.004300119607290013,
          0.0043698737782741975,
          0.004437780475219864,
          0.004503701713505112,
          0.0045675018739891335,
          0.004629048195396217,
          0.004688211263321783,
          0.004744865493538179,
          0.004798889607280757,
          0.004850167096208792,
          0.004898586674760911,
          0.004944042717661352,
          0.004986435680380123,
          0.0050256725004086305,
          0.005061666977280894,
          0.005094340129349713,
          0.005123620525416946,
          0.005149444589416707,
          0.00517175687646042,
          0.005190510318672104,
          0.005205666439371526,
          0.005217195534301474,
          0.005225076818742589,
          0.005229298539515171,
          0.005229858051031484,
          0.005226761854733551,
          0.0052200256014297815,
          0.005209674056228747,
          0.0051957410259584145,
          0.005178269249154124,
          0.005157310248896754,
          0.005132924148983776,
          0.005105179454117972,
          0.0050741527950014,
          0.005039928639423192,
          0.005002598970628846,
          0.004962262934453157,
          0.004919026456888123,
          0.0048730018339393135,
          0.004824307295797374,
          0.004773066547514649,
          0.004719408288528142,
          0.004663465713508138,
          0.004605375997135199,
          0.004545279765515454,
          0.004483320557034057,
          0.004419644275518237,
          0.0043543986386331565,
          0.004287732624465877,
          0.004219795919263271,
          0.004150738369279207,
          0.00408070943965442,
          0.004009857683198299,
          0.003938330221866835,
          0.003866272243634489,
          0.003793826517341004,
          0.003721132927957954,
          0.003648328034564987,
          0.0035755446531536544,
          0.0035029114661892665,
          0.0034305526606590664,
          0.0033585875961213633,
          0.0032871305040456608,
          0.0032162902195014345,
          0.00314616994601453,
          0.0030768670541678083,
          0.003008472914278624,
          0.0029410727632425506,
          0.0028747456053926155,
          0.002809564146988175,
          0.002745594763720279,
          0.002682897500401942,
          0.0026215261018054103,
          0.002561528073414699,
          0.0025029447706831818,
          0.0024458115152236268,
          0.002390157736213109,
          0.0023360071351689127,
          0.0022833778721446747,
          0.002232282771308879,
          0.0021827295438010966,
          0.0021347210257150967,
          0.0020882554290318073,
          0.002043326603319074,
          0.0019999243060283916,
          0.0019580344792506674,
          0.0019176395308427025,
          0.0018787186179021027,
          0.0018412479306497392,
          0.0018052009748740854,
          0.0017705488511992138,
          0.0017372605295565649,
          0.0017053031173676618,
          0.0016746421200795213,
          0.0016452416928344747,
          0.0016170648821998749,
          0.001590073857028917,
          0.0015642301276700445,
          0.001539494752887245,
          0.0015158285339957134,
          0.001493192195855295,
          0.001471546554496554,
          0.0014508526712800882,
          0.001431071993607771,
          0.0014121664823140328,
          0.001394098725965497,
          0.0013768320423874663,
          0.0013603305678157353,
          0.0013445593341415867,
          0.0013294843347764766,
          0.00131507257971109,
          0.0013012921403810394,
          0.0012881121849790205,
          0.0012755030048711346,
          0.0012634360327837717,
          0.0012518838534276789,
          0.0012408202072183027,
          0.0012302199877369181,
          0.0012200592335563673,
          0.0012103151150291982,
          0.0012009659166056057,
          0.0011919910152146192,
          0.0011833708552054358,
          0.0011750869203074343,
          0.0011671217030281317,
          0.0011594586718688413,
          0.0011520822366989174,
          0.001144977712591666,
          0.0011381312823891398,
          0.0011315299582293128,
          0.0011251615422382176,
          0.0011190145865617304,
          0.001113078352887063,
          0.0011073427715829704,
          0.0011017984005700341,
          0.0010964363840184886,
          0.0010912484109604763,
          0.0010862266738965842,
          0.0010813638274724733,
          0.001076652947300447,
          0.0010720874890022963,
          0.0010676612475536635,
          0.0010633683170158314,
          0.0010592030507481358,
          0.0010551600222024847,
          0.0010512339864105179,
          0.0010474198422831865,
          0.0010437125958517473,
          0.0010401073245877952,
          0.0010365991429477622,
          0.0010331831692939734,
          0.0010298544943494483,
          0.001026608151347107,
          0.001023439088035532,
          0.001020342140702799,
          0.0010173120103771415,
          0.0010143432413580375,
          0.001011430202223954,
          0.001008567069453218,
          0.0010057478137825548,
          0.001002966189413737,
          0.0010002157261626743,
          0.0009974897246273842,
          0.0009947812544316827,
          0.000992083155580515,
          0.000989388042940688,
          0.0009866883138377937,
          0.000983976158736431,
          0.0009812435749469008,
          0.0009784823832775177,
          0.0009756842475278565,
          0.0009728406966950366,
          0.0009699431497425989,
          0.0009669829427601104,
          0.0009639513583214588,
          0.0009608396568311395,
          0.0009576391096309333,
          0.0009543410336243057,
          0.0009509368271629321,
          0.0009474180069289527,
          0.0009437762455381374,
          0.0009400034095830501,
          0.0009360915978317209,
          0.0009320331792961791,
          0.0009278208308865889,
          0.0009234475743705485,
          0.0009189068123633587,
          0.0009141923630837028,
          0.0009092984936200051,
          0.0009042199514658077,
          0.0008989519940974751,
          0.000893490416384467,
          0.0008878315756409603,
          0.0008819724141476895,
          0.0008759104789942199,
          0.0008696439391143402,
          0.0008631715994105141,
          0.0008564929118873105,
          0.0008496079837379713,
          0.0008425175823527684,
          0.0008352231372420982,
          0.000827726738891245,
          0.0008200311345871531,
          0.0008121397212800431,
          0.0008040565355642634,
          0.0007957862408829433,
          0.0007873341120797608,
          0.0007787060174382295,
          0.0007699083983641252,
          0.0007609482468799564,
          0.0007518330811115367,
          0.0007425709189556533,
          0.000733170250124546,
          0.0007236400067672339,
          0.0007139895328697913,
          0.0007042285526363631,
          0.0006943671380501934,
          0.0006844156758091608,
          0.0006743848338235083,
          0.0006642855274546684,
          0.0006541288856635503,
          0.0006439262172244662,
          0.0006336889771473762,
          0.000623428733436429,
          0.0006131571342972245,
          0.0006028858758889994,
          0.0005926266707014046,
          0.0005823912166188944,
          0.0005721911667193459,
          0.0005620380998376003,
          0.0005519434919094466,
          0.0005419186880974521,
          0.0005319748756871747,
          0.0005221230577309214,
          0.0005123740274065737,
          0.0005027383430511867,
          0.0004932263038232976,
          0.0004838479259442298,
          0.000474612919467201,
          0.0004655306655238263,
          0.00045661019400058055,
          0.00044786016160296214,
          0.0004392888302723704,
          0.00043090404592993853,
          0.00042271321753262897,
          0.00041472329643957897,
          0.0004069407561007578,
          0.0003993715720952194,
          0.0003920212025623402,
          0.00038489456908604613,
          0.00037799603810897763,
          0.00037132940297033396,
          0.0003648978666775583,
          0.00035870402553770487,
          0.0003527498537888961,
          0.0003470366893854978,
          0.00034156522110213145,
          0.00033633547713114855,
          0.0003313468153555035,
          0.0003265979154837233,
          0.0003220867732358591,
          0.0003178106967685972,
          0.0003137663055240976,
          0.00030994953168048323,
          0.00030635562437222023,
          0.0003029791568359007,
          0.00029981403662123434,
          0.0002968535189884893,
          0.0002940902235923139,
          0.0002915161545280513,
          0.00028912272379052627,
          0.0002869007781671259,
          0.0002848406295571258,
          0.00028293208867793485,
          0.0002811645020866548,
          0.0002795267924124082,
          0.00027800750166171964,
          0.0002765948374262233,
          0.00027527672178955204,
          0.00027404084269883636,
          0.0002728747075362284,
          0.0002717656985976616,
          0.00027070113016003513,
          0.00026966830679453805,
          0.0002686545825632461,
          0.00026764742071868784,
          0.0002666344535121237,
          0.00026560354170595076,
          0.0002645428333791905,
          0.0002634408216125203,
          0.00026228640064088774,
          0.0002610689200674237,
          0.00025977823674213567,
          0.00025840476392265864,
          0.0002569395173520488,
          0.00025537415791007076,
          0.00025370103051944537,
          0.0002519131990168397,
          0.00025000447672970423,
          0.0002479694525340773,
          0.00024580351220481025,
          0.00024350285490793827,
          0.00024106450472473107,
          0.00023848631713785685,
          0.00023576698045166028,
          0.0002329060121603409,
          0.0002299037503193615,
          0.00022676134001630428,
          0.00022348071507715398,
          0.00022006457518224435,
          0.0002165163586024396,
          0.0002128402108001723
         ],
         "yaxis": "y"
        }
       ],
       "layout": {
        "barmode": "overlay",
        "font": {
         "size": 18
        },
        "hovermode": "closest",
        "legend": {
         "traceorder": "reversed"
        },
        "plot_bgcolor": "#F5F5F8",
        "template": {
         "data": {
          "bar": [
           {
            "error_x": {
             "color": "#2a3f5f"
            },
            "error_y": {
             "color": "#2a3f5f"
            },
            "marker": {
             "line": {
              "color": "#E5ECF6",
              "width": 0.5
             },
             "pattern": {
              "fillmode": "overlay",
              "size": 10,
              "solidity": 0.2
             }
            },
            "type": "bar"
           }
          ],
          "barpolar": [
           {
            "marker": {
             "line": {
              "color": "#E5ECF6",
              "width": 0.5
             },
             "pattern": {
              "fillmode": "overlay",
              "size": 10,
              "solidity": 0.2
             }
            },
            "type": "barpolar"
           }
          ],
          "carpet": [
           {
            "aaxis": {
             "endlinecolor": "#2a3f5f",
             "gridcolor": "white",
             "linecolor": "white",
             "minorgridcolor": "white",
             "startlinecolor": "#2a3f5f"
            },
            "baxis": {
             "endlinecolor": "#2a3f5f",
             "gridcolor": "white",
             "linecolor": "white",
             "minorgridcolor": "white",
             "startlinecolor": "#2a3f5f"
            },
            "type": "carpet"
           }
          ],
          "choropleth": [
           {
            "colorbar": {
             "outlinewidth": 0,
             "ticks": ""
            },
            "type": "choropleth"
           }
          ],
          "contour": [
           {
            "colorbar": {
             "outlinewidth": 0,
             "ticks": ""
            },
            "colorscale": [
             [
              0,
              "#0d0887"
             ],
             [
              0.1111111111111111,
              "#46039f"
             ],
             [
              0.2222222222222222,
              "#7201a8"
             ],
             [
              0.3333333333333333,
              "#9c179e"
             ],
             [
              0.4444444444444444,
              "#bd3786"
             ],
             [
              0.5555555555555556,
              "#d8576b"
             ],
             [
              0.6666666666666666,
              "#ed7953"
             ],
             [
              0.7777777777777778,
              "#fb9f3a"
             ],
             [
              0.8888888888888888,
              "#fdca26"
             ],
             [
              1,
              "#f0f921"
             ]
            ],
            "type": "contour"
           }
          ],
          "contourcarpet": [
           {
            "colorbar": {
             "outlinewidth": 0,
             "ticks": ""
            },
            "type": "contourcarpet"
           }
          ],
          "heatmap": [
           {
            "colorbar": {
             "outlinewidth": 0,
             "ticks": ""
            },
            "colorscale": [
             [
              0,
              "#0d0887"
             ],
             [
              0.1111111111111111,
              "#46039f"
             ],
             [
              0.2222222222222222,
              "#7201a8"
             ],
             [
              0.3333333333333333,
              "#9c179e"
             ],
             [
              0.4444444444444444,
              "#bd3786"
             ],
             [
              0.5555555555555556,
              "#d8576b"
             ],
             [
              0.6666666666666666,
              "#ed7953"
             ],
             [
              0.7777777777777778,
              "#fb9f3a"
             ],
             [
              0.8888888888888888,
              "#fdca26"
             ],
             [
              1,
              "#f0f921"
             ]
            ],
            "type": "heatmap"
           }
          ],
          "heatmapgl": [
           {
            "colorbar": {
             "outlinewidth": 0,
             "ticks": ""
            },
            "colorscale": [
             [
              0,
              "#0d0887"
             ],
             [
              0.1111111111111111,
              "#46039f"
             ],
             [
              0.2222222222222222,
              "#7201a8"
             ],
             [
              0.3333333333333333,
              "#9c179e"
             ],
             [
              0.4444444444444444,
              "#bd3786"
             ],
             [
              0.5555555555555556,
              "#d8576b"
             ],
             [
              0.6666666666666666,
              "#ed7953"
             ],
             [
              0.7777777777777778,
              "#fb9f3a"
             ],
             [
              0.8888888888888888,
              "#fdca26"
             ],
             [
              1,
              "#f0f921"
             ]
            ],
            "type": "heatmapgl"
           }
          ],
          "histogram": [
           {
            "marker": {
             "pattern": {
              "fillmode": "overlay",
              "size": 10,
              "solidity": 0.2
             }
            },
            "type": "histogram"
           }
          ],
          "histogram2d": [
           {
            "colorbar": {
             "outlinewidth": 0,
             "ticks": ""
            },
            "colorscale": [
             [
              0,
              "#0d0887"
             ],
             [
              0.1111111111111111,
              "#46039f"
             ],
             [
              0.2222222222222222,
              "#7201a8"
             ],
             [
              0.3333333333333333,
              "#9c179e"
             ],
             [
              0.4444444444444444,
              "#bd3786"
             ],
             [
              0.5555555555555556,
              "#d8576b"
             ],
             [
              0.6666666666666666,
              "#ed7953"
             ],
             [
              0.7777777777777778,
              "#fb9f3a"
             ],
             [
              0.8888888888888888,
              "#fdca26"
             ],
             [
              1,
              "#f0f921"
             ]
            ],
            "type": "histogram2d"
           }
          ],
          "histogram2dcontour": [
           {
            "colorbar": {
             "outlinewidth": 0,
             "ticks": ""
            },
            "colorscale": [
             [
              0,
              "#0d0887"
             ],
             [
              0.1111111111111111,
              "#46039f"
             ],
             [
              0.2222222222222222,
              "#7201a8"
             ],
             [
              0.3333333333333333,
              "#9c179e"
             ],
             [
              0.4444444444444444,
              "#bd3786"
             ],
             [
              0.5555555555555556,
              "#d8576b"
             ],
             [
              0.6666666666666666,
              "#ed7953"
             ],
             [
              0.7777777777777778,
              "#fb9f3a"
             ],
             [
              0.8888888888888888,
              "#fdca26"
             ],
             [
              1,
              "#f0f921"
             ]
            ],
            "type": "histogram2dcontour"
           }
          ],
          "mesh3d": [
           {
            "colorbar": {
             "outlinewidth": 0,
             "ticks": ""
            },
            "type": "mesh3d"
           }
          ],
          "parcoords": [
           {
            "line": {
             "colorbar": {
              "outlinewidth": 0,
              "ticks": ""
             }
            },
            "type": "parcoords"
           }
          ],
          "pie": [
           {
            "automargin": true,
            "type": "pie"
           }
          ],
          "scatter": [
           {
            "fillpattern": {
             "fillmode": "overlay",
             "size": 10,
             "solidity": 0.2
            },
            "type": "scatter"
           }
          ],
          "scatter3d": [
           {
            "line": {
             "colorbar": {
              "outlinewidth": 0,
              "ticks": ""
             }
            },
            "marker": {
             "colorbar": {
              "outlinewidth": 0,
              "ticks": ""
             }
            },
            "type": "scatter3d"
           }
          ],
          "scattercarpet": [
           {
            "marker": {
             "colorbar": {
              "outlinewidth": 0,
              "ticks": ""
             }
            },
            "type": "scattercarpet"
           }
          ],
          "scattergeo": [
           {
            "marker": {
             "colorbar": {
              "outlinewidth": 0,
              "ticks": ""
             }
            },
            "type": "scattergeo"
           }
          ],
          "scattergl": [
           {
            "marker": {
             "colorbar": {
              "outlinewidth": 0,
              "ticks": ""
             }
            },
            "type": "scattergl"
           }
          ],
          "scattermapbox": [
           {
            "marker": {
             "colorbar": {
              "outlinewidth": 0,
              "ticks": ""
             }
            },
            "type": "scattermapbox"
           }
          ],
          "scatterpolar": [
           {
            "marker": {
             "colorbar": {
              "outlinewidth": 0,
              "ticks": ""
             }
            },
            "type": "scatterpolar"
           }
          ],
          "scatterpolargl": [
           {
            "marker": {
             "colorbar": {
              "outlinewidth": 0,
              "ticks": ""
             }
            },
            "type": "scatterpolargl"
           }
          ],
          "scatterternary": [
           {
            "marker": {
             "colorbar": {
              "outlinewidth": 0,
              "ticks": ""
             }
            },
            "type": "scatterternary"
           }
          ],
          "surface": [
           {
            "colorbar": {
             "outlinewidth": 0,
             "ticks": ""
            },
            "colorscale": [
             [
              0,
              "#0d0887"
             ],
             [
              0.1111111111111111,
              "#46039f"
             ],
             [
              0.2222222222222222,
              "#7201a8"
             ],
             [
              0.3333333333333333,
              "#9c179e"
             ],
             [
              0.4444444444444444,
              "#bd3786"
             ],
             [
              0.5555555555555556,
              "#d8576b"
             ],
             [
              0.6666666666666666,
              "#ed7953"
             ],
             [
              0.7777777777777778,
              "#fb9f3a"
             ],
             [
              0.8888888888888888,
              "#fdca26"
             ],
             [
              1,
              "#f0f921"
             ]
            ],
            "type": "surface"
           }
          ],
          "table": [
           {
            "cells": {
             "fill": {
              "color": "#EBF0F8"
             },
             "line": {
              "color": "white"
             }
            },
            "header": {
             "fill": {
              "color": "#C8D4E3"
             },
             "line": {
              "color": "white"
             }
            },
            "type": "table"
           }
          ]
         },
         "layout": {
          "annotationdefaults": {
           "arrowcolor": "#2a3f5f",
           "arrowhead": 0,
           "arrowwidth": 1
          },
          "autotypenumbers": "strict",
          "coloraxis": {
           "colorbar": {
            "outlinewidth": 0,
            "ticks": ""
           }
          },
          "colorscale": {
           "diverging": [
            [
             0,
             "#8e0152"
            ],
            [
             0.1,
             "#c51b7d"
            ],
            [
             0.2,
             "#de77ae"
            ],
            [
             0.3,
             "#f1b6da"
            ],
            [
             0.4,
             "#fde0ef"
            ],
            [
             0.5,
             "#f7f7f7"
            ],
            [
             0.6,
             "#e6f5d0"
            ],
            [
             0.7,
             "#b8e186"
            ],
            [
             0.8,
             "#7fbc41"
            ],
            [
             0.9,
             "#4d9221"
            ],
            [
             1,
             "#276419"
            ]
           ],
           "sequential": [
            [
             0,
             "#0d0887"
            ],
            [
             0.1111111111111111,
             "#46039f"
            ],
            [
             0.2222222222222222,
             "#7201a8"
            ],
            [
             0.3333333333333333,
             "#9c179e"
            ],
            [
             0.4444444444444444,
             "#bd3786"
            ],
            [
             0.5555555555555556,
             "#d8576b"
            ],
            [
             0.6666666666666666,
             "#ed7953"
            ],
            [
             0.7777777777777778,
             "#fb9f3a"
            ],
            [
             0.8888888888888888,
             "#fdca26"
            ],
            [
             1,
             "#f0f921"
            ]
           ],
           "sequentialminus": [
            [
             0,
             "#0d0887"
            ],
            [
             0.1111111111111111,
             "#46039f"
            ],
            [
             0.2222222222222222,
             "#7201a8"
            ],
            [
             0.3333333333333333,
             "#9c179e"
            ],
            [
             0.4444444444444444,
             "#bd3786"
            ],
            [
             0.5555555555555556,
             "#d8576b"
            ],
            [
             0.6666666666666666,
             "#ed7953"
            ],
            [
             0.7777777777777778,
             "#fb9f3a"
            ],
            [
             0.8888888888888888,
             "#fdca26"
            ],
            [
             1,
             "#f0f921"
            ]
           ]
          },
          "colorway": [
           "#636efa",
           "#EF553B",
           "#00cc96",
           "#ab63fa",
           "#FFA15A",
           "#19d3f3",
           "#FF6692",
           "#B6E880",
           "#FF97FF",
           "#FECB52"
          ],
          "font": {
           "color": "#2a3f5f"
          },
          "geo": {
           "bgcolor": "white",
           "lakecolor": "white",
           "landcolor": "#E5ECF6",
           "showlakes": true,
           "showland": true,
           "subunitcolor": "white"
          },
          "hoverlabel": {
           "align": "left"
          },
          "hovermode": "closest",
          "mapbox": {
           "style": "light"
          },
          "paper_bgcolor": "white",
          "plot_bgcolor": "#E5ECF6",
          "polar": {
           "angularaxis": {
            "gridcolor": "white",
            "linecolor": "white",
            "ticks": ""
           },
           "bgcolor": "#E5ECF6",
           "radialaxis": {
            "gridcolor": "white",
            "linecolor": "white",
            "ticks": ""
           }
          },
          "scene": {
           "xaxis": {
            "backgroundcolor": "#E5ECF6",
            "gridcolor": "white",
            "gridwidth": 2,
            "linecolor": "white",
            "showbackground": true,
            "ticks": "",
            "zerolinecolor": "white"
           },
           "yaxis": {
            "backgroundcolor": "#E5ECF6",
            "gridcolor": "white",
            "gridwidth": 2,
            "linecolor": "white",
            "showbackground": true,
            "ticks": "",
            "zerolinecolor": "white"
           },
           "zaxis": {
            "backgroundcolor": "#E5ECF6",
            "gridcolor": "white",
            "gridwidth": 2,
            "linecolor": "white",
            "showbackground": true,
            "ticks": "",
            "zerolinecolor": "white"
           }
          },
          "shapedefaults": {
           "line": {
            "color": "#2a3f5f"
           }
          },
          "ternary": {
           "aaxis": {
            "gridcolor": "white",
            "linecolor": "white",
            "ticks": ""
           },
           "baxis": {
            "gridcolor": "white",
            "linecolor": "white",
            "ticks": ""
           },
           "bgcolor": "#E5ECF6",
           "caxis": {
            "gridcolor": "white",
            "linecolor": "white",
            "ticks": ""
           }
          },
          "title": {
           "x": 0.05
          },
          "xaxis": {
           "automargin": true,
           "gridcolor": "white",
           "linecolor": "white",
           "ticks": "",
           "title": {
            "standoff": 15
           },
           "zerolinecolor": "white",
           "zerolinewidth": 2
          },
          "yaxis": {
           "automargin": true,
           "gridcolor": "white",
           "linecolor": "white",
           "ticks": "",
           "title": {
            "standoff": 15
           },
           "zerolinecolor": "white",
           "zerolinewidth": 2
          }
         }
        },
        "title": {
         "text": "Real vs. Synthetic Data for column 'age'"
        },
        "xaxis": {
         "anchor": "y2",
         "domain": [
          0,
          1
         ],
         "title": {
          "text": "Value"
         },
         "zeroline": false
        },
        "yaxis": {
         "anchor": "free",
         "domain": [
          0,
          1
         ],
         "position": 0,
         "title": {
          "text": "Frequency"
         }
        }
       }
      }
     },
     "metadata": {},
     "output_type": "display_data"
    },
    {
     "data": {
      "application/vnd.plotly.v1+json": {
       "config": {
        "plotlyServerURL": "https://plot.ly"
       },
       "data": [
        {
         "alignmentgroup": "True",
         "bingroup": "x",
         "histnorm": "probability density",
         "hovertemplate": "<b>Real</b><br>Frequency: %{y}<extra></extra>",
         "legendgroup": "Real",
         "marker": {
          "color": "#000036",
          "pattern": {
           "shape": ""
          }
         },
         "name": "Real",
         "offsetgroup": "Real",
         "orientation": "v",
         "showlegend": true,
         "type": "histogram",
         "x": [
          "PERIPHERAL INSUFFICIENCY;RIGHT FOOT",
          "INFECTED RIGHT FOOT",
          "ENCEPHALOPATHY;TELEMETRY",
          "BILIARY COLIC",
          "DIABETIC KETOACIDOSIS",
          "CHRONIC RENAL FAILURE/SDA",
          "ALTERED MENTAL STATUS",
          "SEPSIS",
          "DIABETES;HYPERGLYCEMIA",
          "DIABETIC KETOACIDOSIS",
          "WEAKNESS",
          "DIABETIC KETOACIDOSIS",
          "DIABETIC KETOACIDOSIS",
          "END STAGE RENAL DISEASE",
          "DIABETIC KETOACIDOSIS",
          "GANGRENE LEFT FOOT",
          "GRAND MAL SEIZURES",
          "HYPERGLYCEMIA",
          "DIABETIC KETOACIDOSIS",
          "DIABETES MELLITUS-PRE-OP PANCREAS TRANSPLANT",
          "DIABETIC KETOACIDOSIS",
          "KIDNEY FAILURE FOR KIDNEY TRANSPLANT",
          "PANCREAS TRANSPLANT",
          "SHORTNESS OF BREATH",
          "HYPERGLYCEMIA-PNEUMONIA",
          "DIABETIC KETOACIDOSIS",
          "S/P KIDNEY TX,PRE OP PANCREAS TX",
          "DIABETIC KETOACIDOSIS;MENTAL STATUS CHANGES",
          "DIABETIC KETOACIDOSIS",
          "DIABETIC KETOACIDOSIS",
          "DIABETIC KETOACIDOSIS",
          "DIABETIC KETOACIDOSIS",
          "RIGHT HEEL OSTEOMYELITIS;CORONARY ARTERY DISEASE",
          "HYPERGLYCEMIA;HYPOTENSION;ACIDOSIS;",
          "HYPOGLYCEMIA",
          "RESPIRATORY FAILURE",
          "HYPOGLYCEMIA",
          "RIGHT ANKLE WOUND",
          "UNCONTROLLED DIABETES MELLITUS",
          "KIDNEY/PANCREAS TX",
          "PRE/OP PANCREAS TRANSPLANT",
          "DIABETIC KETOACIDOSIS",
          "HYPOGLYCEMIA",
          "DIABETIC KETOACIDOSIS",
          "DIABETIC KETOACIDOSIS",
          "DIABETIC KETOACIDOSIS",
          "S/P FALL",
          "ISCHEMIC L FOOT",
          "DKA",
          "GASTROPARESIS\\J-TUBE PLACEMENT",
          "CONGESTIVE HEART FAILURE",
          "DIABETIC KETOACIDOSIS",
          "CHR/SDA",
          "RULE OUT CEREBROVASCULAR ACCIDENT",
          "DIABETIC KETOACIDOSIS",
          "HYPOTENSION",
          "DKA/ UGI BLEED",
          "END STAGE RENAL DISEASE",
          "ABDOMINAL PAIN",
          "GASTROPHARESIS/SDA",
          "MENTAL STATUS CHANGES;HYPOGLYCEMIA",
          "DIABETIC KETOACIDOSIS",
          "INFECTED FOOT ULCER,RIGHT;IV ANTIBITOICS;VEIN MAPPING;DIALIYZE",
          "ABDOMINAL PAIN;VOMITING;INSULIN DEPENDENT DIABETES",
          "DIABETIC KETOACIDOSIS",
          "UNCONTROLLED DIABETES MELLITUS",
          "DIABECTIC KETOACIDOSIS",
          "DIABETIC KETOACIDOSIS",
          "DIABETIC KETOACIDOSIS",
          "FEVER,LETHARGY",
          "DIABETIC KETOACIDOSIS",
          "DIABETIC KETO ACIDOSIS",
          "HYPOGLYCEMIA",
          "PERIPHERAL VASCULAR DISEASE",
          "ALTERED MENTAL STATUS",
          "S/P FALL;ALTERED MENTAL STATUS",
          "DIABETIC KETOACIDOSIS",
          "INFECTED LEFT FOOT;CELLULITIS",
          "DIABETIC KETOACIDOSIS",
          "HYPERGLYCEMIA",
          "DIABETIC KETOACIDOSIS",
          "HIV;DEHYDRATION",
          "HYPERNATREMIA-HYPERGLYCEMIA",
          "HYPERGLYCEMIA",
          "DKA, R/O MI",
          "DIABETIC KETOACIDOSIS",
          "HYPERGLYCEMIA;CONGESTIVE HEART FAILURE;TELEMETRY",
          "DIABETID KETOACIDOSIS",
          "DIABETIC KETOACIDOSIS",
          "DIABETIC KETOACIDOSIS",
          "UNRESPONSIVENESS;RESPIRATORY FAILURE",
          "DKA",
          "DIABETIC KETO ACIDOSIS",
          "DIABETIC KETOACIDOSIS",
          "NEW ONSET DIABETES",
          "SEPSIS",
          "DIABETES;KETOACIDOSIS",
          "PANCREAS KIDNEY TRANSPLANT",
          "DIABETIC KETOACIDOSIS;GASTROINTESTINAL BLEED",
          "DIABETIC KETOACIDOSIS",
          "CHRONIC RENAL FAILURE",
          "END STAGE RENAL DISEASE",
          "HYPERGLYCEMIA/DKA",
          "SEIZURE;DIABETIC KETOACIDOSIS;TELEMETRY",
          "PANCREAS TRANSPLANT",
          "DIABETIC KETOACIDOSIS",
          "DIABETIC KETOACIDOSIS",
          "DIABETIC KETOACIDOSIS",
          "CHEST PAIN, HYPOGLYCEMIA",
          "ALTER MENTAL STATUS, HYPOGLYCEMIA",
          "HYPOGLYCEMIA",
          "HYPOGLYCEMIA",
          "INFECTED LEFT TOE ULCER",
          "DIABETIC KETOACIDOSIS",
          "DIABETIC KETOACIDOSIS",
          "CRF/SDA",
          "HYPOGLYCEMIA",
          "DKA",
          "DIABETIC KETOACIDOSIS",
          "RENAL FAILURE-SEPSIS",
          "DIABETIC RENAL FAILURE",
          "HYPOGLYCEMIA",
          "DIABETES KETOACIDOSIS",
          "NON HEALING ULCER, RIGHT LEG/SDA",
          "CHRONIC RENAL FAILURE",
          "DIABETIC KETOACIDOSIS",
          "HYPOGLYCEMIA, HYPONATREMIA",
          "SPINAL ABSCESS",
          "DIABETIC KETOACIDOSIS",
          "PARTIAL SMALL BOWEL OBSTRUCTION",
          "NEW ONSET DIABETES",
          "DIABETIC KETOACIDOSIS",
          "CHARCOT DEFORMITY LEFT FOOT/SDA",
          "DIABETIC KETOACIDOSIS",
          "HYPOGLYCEMIA/MSDS",
          "DIABETIC KETOACIDOSIS",
          "DKA;GASTROINTESTINAL BLEED",
          "DIABETIC KETO ACIDOSIS",
          "RULE-OUT MYOCARDIAL INFARCTION;TELEMETRY; CP",
          "DIABETIC KETOACIDOSIS",
          "INTRACTABLE NAUSEA,VOMITING",
          "DIABETIC KETOACIDOSIS",
          "DIABETIC KETOACIDOSIS",
          "DIABETIC KETOACIDOSIS; ACUTE RENAL FAILURE",
          "DIABETIC KETOACIDOSIS",
          "DIABETIC KETOACIDOSIS",
          "HYPERGLYCEMIA;HEADACHE;? SEIZURE",
          "RIGHT LEG WEAKNESS",
          "DIABETIC KETOACIDOSIS",
          "HYPERKALEMIA,? DIABETIC KETOACIDOSIS",
          "DIABETIC KETOACIDOSIS",
          "ABDOMINAL PAIN",
          "DIABETIC KETOACIDOSIS",
          "CHEST PAIN;TELEMETRY;RULE-OUT MYOCARDIAL INFARCTION;TELEMETRY",
          "DIABETIC KETOACIDOSIS",
          "ACIDOSIS",
          "R/O SEPSIS-DKA-IMMUNO SUPRESSED KIDNEY TX",
          "UNRESPONSIVE",
          "HYPERGLYCEMIA",
          "LEFT HEEL ULCER",
          "END STAGE RENAL DISEASE",
          "HYPOTENSION",
          "DIABETIC KETOACIDOSIS",
          "DIABETIC KETOACIDOSIS",
          "DIABETIC KETOACIDOSIS",
          "PANCREATIC TRANSPLANT",
          "LEFT HAND 3RD DIGIT;INFECTION;;IV ANTIBIOTICS",
          "HYPOGLYCEMIA;TELEMETRY",
          "DIABETIC FOOT ULCER",
          "DKA",
          "DIABETIC KETOACIDOSIS",
          "DIABETIC KETOACIDOSIS",
          "DIABETIC KETOACIDOSIS",
          "HYPERGLYCEMIC/HYPEROSMOLAR",
          "DIABETIC KETOACIDOSIS",
          "DIABETIC KETOACIDOSIS",
          "DIABETIC KETOACIDOSIS,RENAL FAILURE",
          "HYPOGLYCEMIA",
          "HIP PAIN",
          "DKA, UROSEPSIS",
          "HYPERGLYCEMIA",
          "DIABETIC KETOACIDOSIS",
          "DIABETES KETOACIDOSIS",
          "DIABETIC KETOACIDOSIS;RENAL FAILURE",
          "DIABETIC KETOACIDOSIS",
          "DIABETIC KETOACIDOSIS",
          "DIABETIC KETOACIDOSIS",
          "DIABETIC KETOACIDOSIS",
          "DIABETIC KETOACIDOSIS",
          "DIABETIC KETOACIDOSIS",
          "DIABETIC KETOACIDOSIS;TELEMETRY",
          "R/O MI N/V",
          "DIABETIC KETOACIDOSIS",
          "DIABETIC KETOACIDOSIS",
          "MENTAL STATUS CHANGES",
          "S/P FALL; ANEMIA",
          "HYPERTENSION",
          "MENTAL STATUS CHANGES",
          "OBESITY,DIABETES/SDA",
          "HYPEROSMOLAR NON-KETOTIC HYPERGLYCEMIA",
          "DKA",
          "DIABETIC KETOACIDOSIS;NEW ONSET DIABETES",
          "DIABETIC KETOACIDOSIS",
          "RIGHT RENAL CALCULI;DIABETIC KETOACIDOSIS",
          "DIABETIC KETOACIDOSIS",
          "CHF, HYPOGLYCEMIA",
          "HYPOGLYCEMIA",
          "INFECTED RIGHT HEEL;ULCER;DM",
          "CHRONIC RENAL FAILURE ;KIDNEY PANCREAS TRANSPLANT",
          "TOE INFECTION",
          "DIABETIC KETOACIDOSIS",
          "DKA",
          "DIABETIC KETOACIDOSIS",
          "DIABETIC KETOACIDOSIS",
          "FOOT INFECTION",
          "DIABETIC KETOACIDOSIS",
          "METABOLIC ACIDOSIS",
          "BILATERAL LOWER EXTREMITY GANGRENE",
          "HYPOGLYCEMIA;TELEMETRY"
         ],
         "xaxis": "x",
         "yaxis": "y"
        },
        {
         "alignmentgroup": "True",
         "bingroup": "x",
         "histnorm": "probability density",
         "hovertemplate": "<b>Synthetic</b><br>Frequency: %{y}<extra></extra>",
         "legendgroup": "Synthetic",
         "marker": {
          "color": "#01E0C9",
          "pattern": {
           "shape": "/"
          }
         },
         "name": "Synthetic",
         "offsetgroup": "Synthetic",
         "orientation": "v",
         "showlegend": true,
         "type": "histogram",
         "x": [
          "PERIPHERAL INSUFFICIENCY;RIGHT FOOT",
          "PERIPHERAL INSUFFICIENCY;RIGHT FOOT",
          "ENCEPHALOPATHY;TELEMETRY",
          "INFECTED RIGHT FOOT",
          "DIABETIC KETOACIDOSIS",
          "DIABETIC KETOACIDOSIS",
          "INFECTED RIGHT FOOT",
          "PERIPHERAL INSUFFICIENCY;RIGHT FOOT",
          "PERIPHERAL INSUFFICIENCY;RIGHT FOOT",
          "BILIARY COLIC",
          "PERIPHERAL INSUFFICIENCY;RIGHT FOOT",
          "INFECTED RIGHT FOOT",
          "PERIPHERAL INSUFFICIENCY;RIGHT FOOT",
          "INFECTED RIGHT FOOT",
          "PERIPHERAL INSUFFICIENCY;RIGHT FOOT",
          "INFECTED RIGHT FOOT",
          "ENCEPHALOPATHY;TELEMETRY",
          "INFECTED RIGHT FOOT",
          "INFECTED RIGHT FOOT",
          "INFECTED RIGHT FOOT",
          "PERIPHERAL INSUFFICIENCY;RIGHT FOOT",
          "BILIARY COLIC",
          "ENCEPHALOPATHY;TELEMETRY",
          "PERIPHERAL INSUFFICIENCY;RIGHT FOOT",
          "ENCEPHALOPATHY;TELEMETRY",
          "PERIPHERAL INSUFFICIENCY;RIGHT FOOT",
          "PERIPHERAL INSUFFICIENCY;RIGHT FOOT",
          "PERIPHERAL INSUFFICIENCY;RIGHT FOOT",
          "PERIPHERAL INSUFFICIENCY;RIGHT FOOT",
          "PERIPHERAL INSUFFICIENCY;RIGHT FOOT",
          "ENCEPHALOPATHY;TELEMETRY",
          "PERIPHERAL INSUFFICIENCY;RIGHT FOOT",
          "PERIPHERAL INSUFFICIENCY;RIGHT FOOT",
          "PERIPHERAL INSUFFICIENCY;RIGHT FOOT",
          "PERIPHERAL INSUFFICIENCY;RIGHT FOOT",
          "PERIPHERAL INSUFFICIENCY;RIGHT FOOT",
          "INFECTED RIGHT FOOT",
          "INFECTED RIGHT FOOT",
          "PERIPHERAL INSUFFICIENCY;RIGHT FOOT",
          "PERIPHERAL INSUFFICIENCY;RIGHT FOOT",
          "PERIPHERAL INSUFFICIENCY;RIGHT FOOT",
          "ENCEPHALOPATHY;TELEMETRY",
          "INFECTED RIGHT FOOT",
          "ENCEPHALOPATHY;TELEMETRY",
          "INFECTED RIGHT FOOT",
          "PERIPHERAL INSUFFICIENCY;RIGHT FOOT",
          "PERIPHERAL INSUFFICIENCY;RIGHT FOOT",
          "PERIPHERAL INSUFFICIENCY;RIGHT FOOT",
          "INFECTED RIGHT FOOT",
          "INFECTED RIGHT FOOT",
          "INFECTED RIGHT FOOT",
          "CHRONIC RENAL FAILURE/SDA",
          "PERIPHERAL INSUFFICIENCY;RIGHT FOOT",
          "ENCEPHALOPATHY;TELEMETRY",
          "INFECTED RIGHT FOOT",
          "BILIARY COLIC",
          "INFECTED RIGHT FOOT",
          "INFECTED RIGHT FOOT",
          "ENCEPHALOPATHY;TELEMETRY",
          "INFECTED RIGHT FOOT",
          "INFECTED RIGHT FOOT",
          "BILIARY COLIC",
          "PERIPHERAL INSUFFICIENCY;RIGHT FOOT",
          "PERIPHERAL INSUFFICIENCY;RIGHT FOOT",
          "PERIPHERAL INSUFFICIENCY;RIGHT FOOT",
          "INFECTED RIGHT FOOT",
          "PERIPHERAL INSUFFICIENCY;RIGHT FOOT",
          "PERIPHERAL INSUFFICIENCY;RIGHT FOOT",
          "INFECTED RIGHT FOOT",
          "INFECTED RIGHT FOOT",
          "PERIPHERAL INSUFFICIENCY;RIGHT FOOT",
          "INFECTED RIGHT FOOT",
          "PERIPHERAL INSUFFICIENCY;RIGHT FOOT",
          "INFECTED RIGHT FOOT",
          "PERIPHERAL INSUFFICIENCY;RIGHT FOOT",
          "INFECTED RIGHT FOOT",
          "BILIARY COLIC",
          "INFECTED RIGHT FOOT",
          "PERIPHERAL INSUFFICIENCY;RIGHT FOOT",
          "BILIARY COLIC",
          "PERIPHERAL INSUFFICIENCY;RIGHT FOOT",
          "PERIPHERAL INSUFFICIENCY;RIGHT FOOT",
          "INFECTED RIGHT FOOT",
          "PERIPHERAL INSUFFICIENCY;RIGHT FOOT",
          "INFECTED RIGHT FOOT",
          "PERIPHERAL INSUFFICIENCY;RIGHT FOOT",
          "PERIPHERAL INSUFFICIENCY;RIGHT FOOT",
          "PERIPHERAL INSUFFICIENCY;RIGHT FOOT",
          "INFECTED RIGHT FOOT",
          "PERIPHERAL INSUFFICIENCY;RIGHT FOOT",
          "PERIPHERAL INSUFFICIENCY;RIGHT FOOT",
          "END STAGE RENAL DISEASE",
          "PERIPHERAL INSUFFICIENCY;RIGHT FOOT",
          "PERIPHERAL INSUFFICIENCY;RIGHT FOOT",
          "PERIPHERAL INSUFFICIENCY;RIGHT FOOT",
          "INFECTED RIGHT FOOT",
          "DIABETIC KETOACIDOSIS",
          "BILIARY COLIC",
          "PERIPHERAL INSUFFICIENCY;RIGHT FOOT",
          "PERIPHERAL INSUFFICIENCY;RIGHT FOOT",
          "PERIPHERAL INSUFFICIENCY;RIGHT FOOT",
          "INFECTED RIGHT FOOT",
          "PERIPHERAL INSUFFICIENCY;RIGHT FOOT",
          "PERIPHERAL INSUFFICIENCY;RIGHT FOOT",
          "PERIPHERAL INSUFFICIENCY;RIGHT FOOT",
          "PERIPHERAL INSUFFICIENCY;RIGHT FOOT",
          "PERIPHERAL INSUFFICIENCY;RIGHT FOOT",
          "PERIPHERAL INSUFFICIENCY;RIGHT FOOT",
          "INFECTED RIGHT FOOT",
          "PERIPHERAL INSUFFICIENCY;RIGHT FOOT",
          "INFECTED RIGHT FOOT",
          "PERIPHERAL INSUFFICIENCY;RIGHT FOOT",
          "INFECTED RIGHT FOOT",
          "INFECTED RIGHT FOOT",
          "ENCEPHALOPATHY;TELEMETRY",
          "BILIARY COLIC",
          "PERIPHERAL INSUFFICIENCY;RIGHT FOOT",
          "PERIPHERAL INSUFFICIENCY;RIGHT FOOT",
          "ENCEPHALOPATHY;TELEMETRY",
          "INFECTED RIGHT FOOT",
          "PERIPHERAL INSUFFICIENCY;RIGHT FOOT",
          "INFECTED RIGHT FOOT",
          "INFECTED RIGHT FOOT",
          "PERIPHERAL INSUFFICIENCY;RIGHT FOOT",
          "PERIPHERAL INSUFFICIENCY;RIGHT FOOT",
          "PERIPHERAL INSUFFICIENCY;RIGHT FOOT",
          "DIABETIC KETOACIDOSIS",
          "ENCEPHALOPATHY;TELEMETRY",
          "BILIARY COLIC",
          "PERIPHERAL INSUFFICIENCY;RIGHT FOOT",
          "PERIPHERAL INSUFFICIENCY;RIGHT FOOT",
          "PERIPHERAL INSUFFICIENCY;RIGHT FOOT",
          "INFECTED RIGHT FOOT",
          "INFECTED RIGHT FOOT",
          "PERIPHERAL INSUFFICIENCY;RIGHT FOOT",
          "PERIPHERAL INSUFFICIENCY;RIGHT FOOT",
          "ENCEPHALOPATHY;TELEMETRY",
          "PERIPHERAL INSUFFICIENCY;RIGHT FOOT",
          "INFECTED RIGHT FOOT",
          "PERIPHERAL INSUFFICIENCY;RIGHT FOOT",
          "DIABETIC KETOACIDOSIS",
          "INFECTED RIGHT FOOT",
          "INFECTED RIGHT FOOT",
          "PERIPHERAL INSUFFICIENCY;RIGHT FOOT",
          "PERIPHERAL INSUFFICIENCY;RIGHT FOOT",
          "PERIPHERAL INSUFFICIENCY;RIGHT FOOT",
          "PERIPHERAL INSUFFICIENCY;RIGHT FOOT",
          "PERIPHERAL INSUFFICIENCY;RIGHT FOOT",
          "INFECTED RIGHT FOOT",
          "PERIPHERAL INSUFFICIENCY;RIGHT FOOT",
          "INFECTED RIGHT FOOT",
          "INFECTED RIGHT FOOT",
          "PERIPHERAL INSUFFICIENCY;RIGHT FOOT",
          "INFECTED RIGHT FOOT",
          "PERIPHERAL INSUFFICIENCY;RIGHT FOOT",
          "INFECTED RIGHT FOOT",
          "INFECTED RIGHT FOOT",
          "INFECTED RIGHT FOOT",
          "BILIARY COLIC",
          "ENCEPHALOPATHY;TELEMETRY",
          "PERIPHERAL INSUFFICIENCY;RIGHT FOOT",
          "ENCEPHALOPATHY;TELEMETRY",
          "PERIPHERAL INSUFFICIENCY;RIGHT FOOT",
          "INFECTED RIGHT FOOT",
          "PERIPHERAL INSUFFICIENCY;RIGHT FOOT",
          "ENCEPHALOPATHY;TELEMETRY",
          "PERIPHERAL INSUFFICIENCY;RIGHT FOOT",
          "INFECTED RIGHT FOOT",
          "PERIPHERAL INSUFFICIENCY;RIGHT FOOT",
          "ENCEPHALOPATHY;TELEMETRY",
          "DIABETIC KETOACIDOSIS",
          "INFECTED RIGHT FOOT",
          "INFECTED RIGHT FOOT",
          "ENCEPHALOPATHY;TELEMETRY",
          "BILIARY COLIC",
          "PERIPHERAL INSUFFICIENCY;RIGHT FOOT",
          "PERIPHERAL INSUFFICIENCY;RIGHT FOOT",
          "PERIPHERAL INSUFFICIENCY;RIGHT FOOT",
          "PERIPHERAL INSUFFICIENCY;RIGHT FOOT",
          "BILIARY COLIC",
          "PERIPHERAL INSUFFICIENCY;RIGHT FOOT",
          "ALTERED MENTAL STATUS",
          "INFECTED RIGHT FOOT",
          "PERIPHERAL INSUFFICIENCY;RIGHT FOOT",
          "INFECTED RIGHT FOOT",
          "PERIPHERAL INSUFFICIENCY;RIGHT FOOT",
          "PERIPHERAL INSUFFICIENCY;RIGHT FOOT",
          "INFECTED RIGHT FOOT",
          "PERIPHERAL INSUFFICIENCY;RIGHT FOOT",
          "PERIPHERAL INSUFFICIENCY;RIGHT FOOT",
          "ENCEPHALOPATHY;TELEMETRY",
          "INFECTED RIGHT FOOT",
          "INFECTED RIGHT FOOT",
          "PERIPHERAL INSUFFICIENCY;RIGHT FOOT",
          "INFECTED RIGHT FOOT",
          "PERIPHERAL INSUFFICIENCY;RIGHT FOOT",
          "PERIPHERAL INSUFFICIENCY;RIGHT FOOT",
          "DIABETIC KETOACIDOSIS",
          "DIABETIC KETOACIDOSIS",
          "PERIPHERAL INSUFFICIENCY;RIGHT FOOT"
         ],
         "xaxis": "x",
         "yaxis": "y"
        }
       ],
       "layout": {
        "barmode": "group",
        "font": {
         "size": 18
        },
        "legend": {
         "title": {
          "text": "Data"
         },
         "tracegroupgap": 0
        },
        "margin": {
         "t": 60
        },
        "plot_bgcolor": "#F5F5F8",
        "template": {
         "data": {
          "bar": [
           {
            "error_x": {
             "color": "#2a3f5f"
            },
            "error_y": {
             "color": "#2a3f5f"
            },
            "marker": {
             "line": {
              "color": "#E5ECF6",
              "width": 0.5
             },
             "pattern": {
              "fillmode": "overlay",
              "size": 10,
              "solidity": 0.2
             }
            },
            "type": "bar"
           }
          ],
          "barpolar": [
           {
            "marker": {
             "line": {
              "color": "#E5ECF6",
              "width": 0.5
             },
             "pattern": {
              "fillmode": "overlay",
              "size": 10,
              "solidity": 0.2
             }
            },
            "type": "barpolar"
           }
          ],
          "carpet": [
           {
            "aaxis": {
             "endlinecolor": "#2a3f5f",
             "gridcolor": "white",
             "linecolor": "white",
             "minorgridcolor": "white",
             "startlinecolor": "#2a3f5f"
            },
            "baxis": {
             "endlinecolor": "#2a3f5f",
             "gridcolor": "white",
             "linecolor": "white",
             "minorgridcolor": "white",
             "startlinecolor": "#2a3f5f"
            },
            "type": "carpet"
           }
          ],
          "choropleth": [
           {
            "colorbar": {
             "outlinewidth": 0,
             "ticks": ""
            },
            "type": "choropleth"
           }
          ],
          "contour": [
           {
            "colorbar": {
             "outlinewidth": 0,
             "ticks": ""
            },
            "colorscale": [
             [
              0,
              "#0d0887"
             ],
             [
              0.1111111111111111,
              "#46039f"
             ],
             [
              0.2222222222222222,
              "#7201a8"
             ],
             [
              0.3333333333333333,
              "#9c179e"
             ],
             [
              0.4444444444444444,
              "#bd3786"
             ],
             [
              0.5555555555555556,
              "#d8576b"
             ],
             [
              0.6666666666666666,
              "#ed7953"
             ],
             [
              0.7777777777777778,
              "#fb9f3a"
             ],
             [
              0.8888888888888888,
              "#fdca26"
             ],
             [
              1,
              "#f0f921"
             ]
            ],
            "type": "contour"
           }
          ],
          "contourcarpet": [
           {
            "colorbar": {
             "outlinewidth": 0,
             "ticks": ""
            },
            "type": "contourcarpet"
           }
          ],
          "heatmap": [
           {
            "colorbar": {
             "outlinewidth": 0,
             "ticks": ""
            },
            "colorscale": [
             [
              0,
              "#0d0887"
             ],
             [
              0.1111111111111111,
              "#46039f"
             ],
             [
              0.2222222222222222,
              "#7201a8"
             ],
             [
              0.3333333333333333,
              "#9c179e"
             ],
             [
              0.4444444444444444,
              "#bd3786"
             ],
             [
              0.5555555555555556,
              "#d8576b"
             ],
             [
              0.6666666666666666,
              "#ed7953"
             ],
             [
              0.7777777777777778,
              "#fb9f3a"
             ],
             [
              0.8888888888888888,
              "#fdca26"
             ],
             [
              1,
              "#f0f921"
             ]
            ],
            "type": "heatmap"
           }
          ],
          "heatmapgl": [
           {
            "colorbar": {
             "outlinewidth": 0,
             "ticks": ""
            },
            "colorscale": [
             [
              0,
              "#0d0887"
             ],
             [
              0.1111111111111111,
              "#46039f"
             ],
             [
              0.2222222222222222,
              "#7201a8"
             ],
             [
              0.3333333333333333,
              "#9c179e"
             ],
             [
              0.4444444444444444,
              "#bd3786"
             ],
             [
              0.5555555555555556,
              "#d8576b"
             ],
             [
              0.6666666666666666,
              "#ed7953"
             ],
             [
              0.7777777777777778,
              "#fb9f3a"
             ],
             [
              0.8888888888888888,
              "#fdca26"
             ],
             [
              1,
              "#f0f921"
             ]
            ],
            "type": "heatmapgl"
           }
          ],
          "histogram": [
           {
            "marker": {
             "pattern": {
              "fillmode": "overlay",
              "size": 10,
              "solidity": 0.2
             }
            },
            "type": "histogram"
           }
          ],
          "histogram2d": [
           {
            "colorbar": {
             "outlinewidth": 0,
             "ticks": ""
            },
            "colorscale": [
             [
              0,
              "#0d0887"
             ],
             [
              0.1111111111111111,
              "#46039f"
             ],
             [
              0.2222222222222222,
              "#7201a8"
             ],
             [
              0.3333333333333333,
              "#9c179e"
             ],
             [
              0.4444444444444444,
              "#bd3786"
             ],
             [
              0.5555555555555556,
              "#d8576b"
             ],
             [
              0.6666666666666666,
              "#ed7953"
             ],
             [
              0.7777777777777778,
              "#fb9f3a"
             ],
             [
              0.8888888888888888,
              "#fdca26"
             ],
             [
              1,
              "#f0f921"
             ]
            ],
            "type": "histogram2d"
           }
          ],
          "histogram2dcontour": [
           {
            "colorbar": {
             "outlinewidth": 0,
             "ticks": ""
            },
            "colorscale": [
             [
              0,
              "#0d0887"
             ],
             [
              0.1111111111111111,
              "#46039f"
             ],
             [
              0.2222222222222222,
              "#7201a8"
             ],
             [
              0.3333333333333333,
              "#9c179e"
             ],
             [
              0.4444444444444444,
              "#bd3786"
             ],
             [
              0.5555555555555556,
              "#d8576b"
             ],
             [
              0.6666666666666666,
              "#ed7953"
             ],
             [
              0.7777777777777778,
              "#fb9f3a"
             ],
             [
              0.8888888888888888,
              "#fdca26"
             ],
             [
              1,
              "#f0f921"
             ]
            ],
            "type": "histogram2dcontour"
           }
          ],
          "mesh3d": [
           {
            "colorbar": {
             "outlinewidth": 0,
             "ticks": ""
            },
            "type": "mesh3d"
           }
          ],
          "parcoords": [
           {
            "line": {
             "colorbar": {
              "outlinewidth": 0,
              "ticks": ""
             }
            },
            "type": "parcoords"
           }
          ],
          "pie": [
           {
            "automargin": true,
            "type": "pie"
           }
          ],
          "scatter": [
           {
            "fillpattern": {
             "fillmode": "overlay",
             "size": 10,
             "solidity": 0.2
            },
            "type": "scatter"
           }
          ],
          "scatter3d": [
           {
            "line": {
             "colorbar": {
              "outlinewidth": 0,
              "ticks": ""
             }
            },
            "marker": {
             "colorbar": {
              "outlinewidth": 0,
              "ticks": ""
             }
            },
            "type": "scatter3d"
           }
          ],
          "scattercarpet": [
           {
            "marker": {
             "colorbar": {
              "outlinewidth": 0,
              "ticks": ""
             }
            },
            "type": "scattercarpet"
           }
          ],
          "scattergeo": [
           {
            "marker": {
             "colorbar": {
              "outlinewidth": 0,
              "ticks": ""
             }
            },
            "type": "scattergeo"
           }
          ],
          "scattergl": [
           {
            "marker": {
             "colorbar": {
              "outlinewidth": 0,
              "ticks": ""
             }
            },
            "type": "scattergl"
           }
          ],
          "scattermapbox": [
           {
            "marker": {
             "colorbar": {
              "outlinewidth": 0,
              "ticks": ""
             }
            },
            "type": "scattermapbox"
           }
          ],
          "scatterpolar": [
           {
            "marker": {
             "colorbar": {
              "outlinewidth": 0,
              "ticks": ""
             }
            },
            "type": "scatterpolar"
           }
          ],
          "scatterpolargl": [
           {
            "marker": {
             "colorbar": {
              "outlinewidth": 0,
              "ticks": ""
             }
            },
            "type": "scatterpolargl"
           }
          ],
          "scatterternary": [
           {
            "marker": {
             "colorbar": {
              "outlinewidth": 0,
              "ticks": ""
             }
            },
            "type": "scatterternary"
           }
          ],
          "surface": [
           {
            "colorbar": {
             "outlinewidth": 0,
             "ticks": ""
            },
            "colorscale": [
             [
              0,
              "#0d0887"
             ],
             [
              0.1111111111111111,
              "#46039f"
             ],
             [
              0.2222222222222222,
              "#7201a8"
             ],
             [
              0.3333333333333333,
              "#9c179e"
             ],
             [
              0.4444444444444444,
              "#bd3786"
             ],
             [
              0.5555555555555556,
              "#d8576b"
             ],
             [
              0.6666666666666666,
              "#ed7953"
             ],
             [
              0.7777777777777778,
              "#fb9f3a"
             ],
             [
              0.8888888888888888,
              "#fdca26"
             ],
             [
              1,
              "#f0f921"
             ]
            ],
            "type": "surface"
           }
          ],
          "table": [
           {
            "cells": {
             "fill": {
              "color": "#EBF0F8"
             },
             "line": {
              "color": "white"
             }
            },
            "header": {
             "fill": {
              "color": "#C8D4E3"
             },
             "line": {
              "color": "white"
             }
            },
            "type": "table"
           }
          ]
         },
         "layout": {
          "annotationdefaults": {
           "arrowcolor": "#2a3f5f",
           "arrowhead": 0,
           "arrowwidth": 1
          },
          "autotypenumbers": "strict",
          "coloraxis": {
           "colorbar": {
            "outlinewidth": 0,
            "ticks": ""
           }
          },
          "colorscale": {
           "diverging": [
            [
             0,
             "#8e0152"
            ],
            [
             0.1,
             "#c51b7d"
            ],
            [
             0.2,
             "#de77ae"
            ],
            [
             0.3,
             "#f1b6da"
            ],
            [
             0.4,
             "#fde0ef"
            ],
            [
             0.5,
             "#f7f7f7"
            ],
            [
             0.6,
             "#e6f5d0"
            ],
            [
             0.7,
             "#b8e186"
            ],
            [
             0.8,
             "#7fbc41"
            ],
            [
             0.9,
             "#4d9221"
            ],
            [
             1,
             "#276419"
            ]
           ],
           "sequential": [
            [
             0,
             "#0d0887"
            ],
            [
             0.1111111111111111,
             "#46039f"
            ],
            [
             0.2222222222222222,
             "#7201a8"
            ],
            [
             0.3333333333333333,
             "#9c179e"
            ],
            [
             0.4444444444444444,
             "#bd3786"
            ],
            [
             0.5555555555555556,
             "#d8576b"
            ],
            [
             0.6666666666666666,
             "#ed7953"
            ],
            [
             0.7777777777777778,
             "#fb9f3a"
            ],
            [
             0.8888888888888888,
             "#fdca26"
            ],
            [
             1,
             "#f0f921"
            ]
           ],
           "sequentialminus": [
            [
             0,
             "#0d0887"
            ],
            [
             0.1111111111111111,
             "#46039f"
            ],
            [
             0.2222222222222222,
             "#7201a8"
            ],
            [
             0.3333333333333333,
             "#9c179e"
            ],
            [
             0.4444444444444444,
             "#bd3786"
            ],
            [
             0.5555555555555556,
             "#d8576b"
            ],
            [
             0.6666666666666666,
             "#ed7953"
            ],
            [
             0.7777777777777778,
             "#fb9f3a"
            ],
            [
             0.8888888888888888,
             "#fdca26"
            ],
            [
             1,
             "#f0f921"
            ]
           ]
          },
          "colorway": [
           "#636efa",
           "#EF553B",
           "#00cc96",
           "#ab63fa",
           "#FFA15A",
           "#19d3f3",
           "#FF6692",
           "#B6E880",
           "#FF97FF",
           "#FECB52"
          ],
          "font": {
           "color": "#2a3f5f"
          },
          "geo": {
           "bgcolor": "white",
           "lakecolor": "white",
           "landcolor": "#E5ECF6",
           "showlakes": true,
           "showland": true,
           "subunitcolor": "white"
          },
          "hoverlabel": {
           "align": "left"
          },
          "hovermode": "closest",
          "mapbox": {
           "style": "light"
          },
          "paper_bgcolor": "white",
          "plot_bgcolor": "#E5ECF6",
          "polar": {
           "angularaxis": {
            "gridcolor": "white",
            "linecolor": "white",
            "ticks": ""
           },
           "bgcolor": "#E5ECF6",
           "radialaxis": {
            "gridcolor": "white",
            "linecolor": "white",
            "ticks": ""
           }
          },
          "scene": {
           "xaxis": {
            "backgroundcolor": "#E5ECF6",
            "gridcolor": "white",
            "gridwidth": 2,
            "linecolor": "white",
            "showbackground": true,
            "ticks": "",
            "zerolinecolor": "white"
           },
           "yaxis": {
            "backgroundcolor": "#E5ECF6",
            "gridcolor": "white",
            "gridwidth": 2,
            "linecolor": "white",
            "showbackground": true,
            "ticks": "",
            "zerolinecolor": "white"
           },
           "zaxis": {
            "backgroundcolor": "#E5ECF6",
            "gridcolor": "white",
            "gridwidth": 2,
            "linecolor": "white",
            "showbackground": true,
            "ticks": "",
            "zerolinecolor": "white"
           }
          },
          "shapedefaults": {
           "line": {
            "color": "#2a3f5f"
           }
          },
          "ternary": {
           "aaxis": {
            "gridcolor": "white",
            "linecolor": "white",
            "ticks": ""
           },
           "baxis": {
            "gridcolor": "white",
            "linecolor": "white",
            "ticks": ""
           },
           "bgcolor": "#E5ECF6",
           "caxis": {
            "gridcolor": "white",
            "linecolor": "white",
            "ticks": ""
           }
          },
          "title": {
           "x": 0.05
          },
          "xaxis": {
           "automargin": true,
           "gridcolor": "white",
           "linecolor": "white",
           "ticks": "",
           "title": {
            "standoff": 15
           },
           "zerolinecolor": "white",
           "zerolinewidth": 2
          },
          "yaxis": {
           "automargin": true,
           "gridcolor": "white",
           "linecolor": "white",
           "ticks": "",
           "title": {
            "standoff": 15
           },
           "zerolinecolor": "white",
           "zerolinewidth": 2
          }
         }
        },
        "title": {
         "text": "Real vs. Synthetic Data for column 'initial_diagnosis'"
        },
        "xaxis": {
         "anchor": "y",
         "domain": [
          0,
          1
         ],
         "title": {
          "text": "Category"
         }
        },
        "yaxis": {
         "anchor": "x",
         "domain": [
          0,
          1
         ],
         "title": {
          "text": "Frequency"
         }
        }
       }
      }
     },
     "metadata": {},
     "output_type": "display_data"
    },
    {
     "data": {
      "application/vnd.plotly.v1+json": {
       "config": {
        "plotlyServerURL": "https://plot.ly"
       },
       "data": [
        {
         "fill": "tozeroy",
         "hovertemplate": "<b>Real</b><br>Frequency: %{y}<extra></extra>",
         "legendgroup": "Real",
         "marker": {
          "color": "#000036"
         },
         "mode": "lines",
         "name": "Real",
         "showlegend": true,
         "type": "scatter",
         "x": [
          25000,
          25000.166,
          25000.332,
          25000.498,
          25000.664,
          25000.83,
          25000.996,
          25001.162,
          25001.328,
          25001.494,
          25001.66,
          25001.826,
          25001.992,
          25002.158,
          25002.324,
          25002.49,
          25002.656,
          25002.822,
          25002.988,
          25003.154,
          25003.32,
          25003.486,
          25003.652,
          25003.818,
          25003.984,
          25004.15,
          25004.316,
          25004.482,
          25004.648,
          25004.814,
          25004.98,
          25005.146,
          25005.312,
          25005.478,
          25005.644,
          25005.81,
          25005.976,
          25006.142,
          25006.308,
          25006.474,
          25006.64,
          25006.806,
          25006.972,
          25007.138,
          25007.304,
          25007.47,
          25007.636,
          25007.802,
          25007.968,
          25008.134,
          25008.3,
          25008.466,
          25008.632,
          25008.798,
          25008.964,
          25009.13,
          25009.296,
          25009.462,
          25009.628,
          25009.794,
          25009.96,
          25010.126,
          25010.292,
          25010.458,
          25010.624,
          25010.79,
          25010.956,
          25011.122,
          25011.288,
          25011.454,
          25011.62,
          25011.786,
          25011.952,
          25012.118,
          25012.284,
          25012.45,
          25012.616,
          25012.782,
          25012.948,
          25013.114,
          25013.28,
          25013.446,
          25013.612,
          25013.778,
          25013.944,
          25014.11,
          25014.276,
          25014.442,
          25014.608,
          25014.774,
          25014.94,
          25015.106,
          25015.272,
          25015.438,
          25015.604,
          25015.77,
          25015.936,
          25016.102,
          25016.268,
          25016.434,
          25016.6,
          25016.766,
          25016.932,
          25017.098,
          25017.264,
          25017.43,
          25017.596,
          25017.762,
          25017.928,
          25018.094,
          25018.26,
          25018.426,
          25018.592,
          25018.758,
          25018.924,
          25019.09,
          25019.256,
          25019.422,
          25019.588,
          25019.754,
          25019.92,
          25020.086,
          25020.252,
          25020.418,
          25020.584,
          25020.75,
          25020.916,
          25021.082,
          25021.248,
          25021.414,
          25021.58,
          25021.746,
          25021.912,
          25022.078,
          25022.244,
          25022.41,
          25022.576,
          25022.742,
          25022.908,
          25023.074,
          25023.24,
          25023.406,
          25023.572,
          25023.738,
          25023.904,
          25024.07,
          25024.236,
          25024.402,
          25024.568,
          25024.734,
          25024.9,
          25025.066,
          25025.232,
          25025.398,
          25025.564,
          25025.73,
          25025.896,
          25026.062,
          25026.228,
          25026.394,
          25026.56,
          25026.726,
          25026.892,
          25027.058,
          25027.224,
          25027.39,
          25027.556,
          25027.722,
          25027.888,
          25028.054,
          25028.22,
          25028.386,
          25028.552,
          25028.718,
          25028.884,
          25029.05,
          25029.216,
          25029.382,
          25029.548,
          25029.714,
          25029.88,
          25030.046,
          25030.212,
          25030.378,
          25030.544,
          25030.71,
          25030.876,
          25031.042,
          25031.208,
          25031.374,
          25031.54,
          25031.706,
          25031.872,
          25032.038,
          25032.204,
          25032.37,
          25032.536,
          25032.702,
          25032.868,
          25033.034,
          25033.2,
          25033.366,
          25033.532,
          25033.698,
          25033.864,
          25034.03,
          25034.196,
          25034.362,
          25034.528,
          25034.694,
          25034.86,
          25035.026,
          25035.192,
          25035.358,
          25035.524,
          25035.69,
          25035.856,
          25036.022,
          25036.188,
          25036.354,
          25036.52,
          25036.686,
          25036.852,
          25037.018,
          25037.184,
          25037.35,
          25037.516,
          25037.682,
          25037.848,
          25038.014,
          25038.18,
          25038.346,
          25038.512,
          25038.678,
          25038.844,
          25039.01,
          25039.176,
          25039.342,
          25039.508,
          25039.674,
          25039.84,
          25040.006,
          25040.172,
          25040.338,
          25040.504,
          25040.67,
          25040.836,
          25041.002,
          25041.168,
          25041.334,
          25041.5,
          25041.666,
          25041.832,
          25041.998,
          25042.164,
          25042.33,
          25042.496,
          25042.662,
          25042.828,
          25042.994,
          25043.16,
          25043.326,
          25043.492,
          25043.658,
          25043.824,
          25043.99,
          25044.156,
          25044.322,
          25044.488,
          25044.654,
          25044.82,
          25044.986,
          25045.152,
          25045.318,
          25045.484,
          25045.65,
          25045.816,
          25045.982,
          25046.148,
          25046.314,
          25046.48,
          25046.646,
          25046.812,
          25046.978,
          25047.144,
          25047.31,
          25047.476,
          25047.642,
          25047.808,
          25047.974,
          25048.14,
          25048.306,
          25048.472,
          25048.638,
          25048.804,
          25048.97,
          25049.136,
          25049.302,
          25049.468,
          25049.634,
          25049.8,
          25049.966,
          25050.132,
          25050.298,
          25050.464,
          25050.63,
          25050.796,
          25050.962,
          25051.128,
          25051.294,
          25051.46,
          25051.626,
          25051.792,
          25051.958,
          25052.124,
          25052.29,
          25052.456,
          25052.622,
          25052.788,
          25052.954,
          25053.12,
          25053.286,
          25053.452,
          25053.618,
          25053.784,
          25053.95,
          25054.116,
          25054.282,
          25054.448,
          25054.614,
          25054.78,
          25054.946,
          25055.112,
          25055.278,
          25055.444,
          25055.61,
          25055.776,
          25055.942,
          25056.108,
          25056.274,
          25056.44,
          25056.606,
          25056.772,
          25056.938,
          25057.104,
          25057.27,
          25057.436,
          25057.602,
          25057.768,
          25057.934,
          25058.1,
          25058.266,
          25058.432,
          25058.598,
          25058.764,
          25058.93,
          25059.096,
          25059.262,
          25059.428,
          25059.594,
          25059.76,
          25059.926,
          25060.092,
          25060.258,
          25060.424,
          25060.59,
          25060.756,
          25060.922,
          25061.088,
          25061.254,
          25061.42,
          25061.586,
          25061.752,
          25061.918,
          25062.084,
          25062.25,
          25062.416,
          25062.582,
          25062.748,
          25062.914,
          25063.08,
          25063.246,
          25063.412,
          25063.578,
          25063.744,
          25063.91,
          25064.076,
          25064.242,
          25064.408,
          25064.574,
          25064.74,
          25064.906,
          25065.072,
          25065.238,
          25065.404,
          25065.57,
          25065.736,
          25065.902,
          25066.068,
          25066.234,
          25066.4,
          25066.566,
          25066.732,
          25066.898,
          25067.064,
          25067.23,
          25067.396,
          25067.562,
          25067.728,
          25067.894,
          25068.06,
          25068.226,
          25068.392,
          25068.558,
          25068.724,
          25068.89,
          25069.056,
          25069.222,
          25069.388,
          25069.554,
          25069.72,
          25069.886,
          25070.052,
          25070.218,
          25070.384,
          25070.55,
          25070.716,
          25070.882,
          25071.048,
          25071.214,
          25071.38,
          25071.546,
          25071.712,
          25071.878,
          25072.044,
          25072.21,
          25072.376,
          25072.542,
          25072.708,
          25072.874,
          25073.04,
          25073.206,
          25073.372,
          25073.538,
          25073.704,
          25073.87,
          25074.036,
          25074.202,
          25074.368,
          25074.534,
          25074.7,
          25074.866,
          25075.032,
          25075.198,
          25075.364,
          25075.53,
          25075.696,
          25075.862,
          25076.028,
          25076.194,
          25076.36,
          25076.526,
          25076.692,
          25076.858,
          25077.024,
          25077.19,
          25077.356,
          25077.522,
          25077.688,
          25077.854,
          25078.02,
          25078.186,
          25078.352,
          25078.518,
          25078.684,
          25078.85,
          25079.016,
          25079.182,
          25079.348,
          25079.514,
          25079.68,
          25079.846,
          25080.012,
          25080.178,
          25080.344,
          25080.51,
          25080.676,
          25080.842,
          25081.008,
          25081.174,
          25081.34,
          25081.506,
          25081.672,
          25081.838,
          25082.004,
          25082.17,
          25082.336,
          25082.502,
          25082.668,
          25082.834
         ],
         "xaxis": "x",
         "y": [
          0.012393257339237157,
          0.012639697253309762,
          0.01288752844742961,
          0.0131366377611683,
          0.013386908618611498,
          0.01363822109470895,
          0.013890451987925139,
          0.014143474899232915,
          0.0143971603174322,
          0.014651375710764117,
          0.014905985624822156,
          0.01516085178660966,
          0.01541583321481155,
          0.015670786336100542,
          0.01592556510742467,
          0.01618002114416181,
          0.016434003854012537,
          0.016687360576534676,
          0.016939936728071175,
          0.017191575952038126,
          0.017442120274297625,
          0.01769141026346138,
          0.01793928519590993,
          0.01818558322534589,
          0.01843014155655471,
          0.01867279662326567,
          0.01891338426971623,
          0.01915173993582405,
          0.01938769884546266,
          0.019621096197765725,
          0.019851767361071988,
          0.020079548069119817,
          0.020304274619379482,
          0.020525784072980707,
          0.02074391445606446,
          0.020958504962089806,
          0.021169396154872216,
          0.02137643017191498,
          0.021579450927712712,
          0.02177830431665587,
          0.02197283841520544,
          0.022162903682894138,
          0.022348353161892646,
          0.02252904267469543,
          0.02270483101959142,
          0.02287558016354904,
          0.02304115543214815,
          0.0232014256962259,
          0.02335626355481349,
          0.023505545514101507,
          0.023649152162021445,
          0.023786968338130824,
          0.02391888329846595,
          0.024044790875034795,
          0.02416458962965501,
          0.024278183001786736,
          0.02438547945011012,
          0.024486392587575984,
          0.024580841309578175,
          0.02466874991508585,
          0.02475004822042829,
          0.024824671665537083,
          0.02489256141238099,
          0.024953664435465258,
          0.025007933604144654,
          0.025055327756602908,
          0.025095811765359962,
          0.025129356594158086,
          0.025155939346095328,
          0.025175543302940244,
          0.025188157955508803,
          0.025193779025061307,
          0.025192408475661506,
          0.025184054517476597,
          0.025168731601003653,
          0.02514646040223203,
          0.025117267798769563,
          0.025081186836978023,
          0.025038256690174596,
          0.02498852260799711,
          0.024932035857011068,
          0.0248688536526899,
          0.024799039082896546,
          0.0247226610230198,
          0.024639794042919525,
          0.02455051830589164,
          0.02445491945982573,
          0.024353088520764003,
          0.024245121749109217,
          0.02413112051872894,
          0.024011191179174197,
          0.023885444911294566,
          0.023753997576578572,
          0.023616969560403354,
          0.023474485609583116,
          0.023326674664512548,
          0.02317366968617306,
          0.023015607478378386,
          0.022852628505569662,
          0.02268487670650434,
          0.022512499304185793,
          0.022335646612356833,
          0.02215447183897686,
          0.021969130886948074,
          0.021779782152516372,
          0.021586586321677672,
          0.021389706164954704,
          0.021189306330907192,
          0.02098555313870163,
          0.020778614370175346,
          0.02056865906164186,
          0.020355857295865167,
          0.02014037999451669,
          0.019922398711458827,
          0.019702085427195554,
          0.019479612344781776,
          0.01925515168759299,
          0.01902887549919345,
          0.01880095544557006,
          0.018571562620197893,
          0.018340867352030703,
          0.018109039016778235,
          0.0178762458517805,
          0.017642654774655646,
          0.01740843120596985,
          0.017173738896211845,
          0.016938739757298024,
          0.01670359369873194,
          0.01646845846869923,
          0.01623348950024622,
          0.015998839762718653,
          0.01576465961862554,
          0.015531096686036756,
          0.015298295706739334,
          0.015066398420148902,
          0.014835543443175853,
          0.014605866156102553,
          0.014377498594565382,
          0.014150569347674087,
          0.01392520346241368,
          0.013701522354247386,
          0.013479643724081983,
          0.013259681481457467,
          0.013041745674177369,
          0.012825942424179134,
          0.01261237386971673,
          0.012401138113869468,
          0.012192329179270826,
          0.01198603696898133,
          0.011782347233607344,
          0.011581341544413136,
          0.011383097272473181,
          0.01118768757370565,
          0.010995181379810762,
          0.01080564339483864,
          0.010619134097430972,
          0.010435709748589185,
          0.010255422404786276,
          0.010078319936365331,
          0.009904446051063678,
          0.009733840322530185,
          0.009566538223699565,
          0.00940257116485054,
          0.009241966536264148,
          0.009084747755241374,
          0.008930934317388678,
          0.008780541851987251,
          0.00863358218128738,
          0.00849006338356956,
          0.008349989859783824,
          0.008213362403658194,
          0.008080178275033198,
          0.007950431276311828,
          0.007824111831834171,
          0.007701207070015576,
          0.007581700908062244,
          0.007465574139144696,
          0.0073528045217964265,
          0.007243366871441416,
          0.007137233153806162,
          0.007034372580159701,
          0.006934751704121823,
          0.006838334519926897,
          0.006745082562003085,
          0.0066549550056784895,
          0.006567908768867538,
          0.006483898614608482,
          0.006402877254305034,
          0.006324795451498157,
          0.0062496021260588395,
          0.006177244458650515,
          0.006107667995330033,
          0.006040816752145133,
          0.005976633319626192,
          0.005915058967010865,
          0.00585603374610665,
          0.005799496594660773,
          0.005745385439123862,
          0.0056936372966954925,
          0.005644188376534559,
          0.005596974180047839,
          0.005551929600126117,
          0.005508989019255944,
          0.005468086406378468,
          0.005429155412443075,
          0.005392129464526797,
          0.0053569418584503425,
          0.005323525849812343,
          0.005291814743348942,
          0.005261741980537389,
          0.005233241225392774,
          0.005206246448357724,
          0.005180692008234572,
          0.005156512732084078,
          0.005133643993042232,
          0.005112021785973788,
          0.00509158280092454,
          0.005072264494313919,
          0.005054005157810433,
          0.005036743984846931,
          0.005020421134736834,
          0.00500497779433386,
          0.004990356237212761,
          0.004976499880322814,
          0.004963353338089897,
          0.004950862473928823,
          0.004938974449144566,
          0.004927637769195425,
          0.004916802327297628,
          0.004906419445353148,
          0.004896441912183751,
          0.004886824019063425,
          0.004877521592534176,
          0.004868492024503586,
          0.004859694299619056,
          0.0048510890199197215,
          0.004842638426767623,
          0.004834306420067794,
          0.004826058574782393,
          0.004817862154755932,
          0.004809686123861871,
          0.004801501154496983,
          0.004793279633438767,
          0.004784995665093518,
          0.004776625072167315,
          0.004768145393783685,
          0.004759535881089457,
          0.004750777490385065,
          0.004741852873817532,
          0.004732746367683208,
          0.004723443978385919,
          0.0047139333661007365,
          0.00470420382619666,
          0.004694246268472531,
          0.004684053194268486,
          0.004673618671509533,
          0.004662938307748941,
          0.004652009221276897,
          0.0046408300103635124,
          0.004629400720708686,
          0.004617722811170528,
          0.004605799117853322,
          0.0045936338166274225,
          0.0045812323841656144,
          0.004568601557576696,
          0.004555749292720234,
          0.004542684721288648,
          0.004529418106741224,
          0.004515960799183531,
          0.004502325189277165,
          0.004488524661267926,
          0.004474573545234557,
          0.004460487068637559,
          0.004446281307266868,
          0.004431973135683113,
          0.004417580177241205,
          0.004403120753789486,
          0.004388613835140197,
          0.004374078988404474,
          0.0043595363272785565,
          0.004345006461375349,
          0.004330510445697385,
          0.0043160697303273494,
          0.0043017061104378964,
          0.00428744167669737,
          0.004273298766164216,
          0.004259299913745774,
          0.004245467804307952,
          0.0042318252255131045,
          0.004218395021462992,
          0.004205200047219882,
          0.004192263124282274,
          0.004179606997077563,
          0.004167254290543052,
          0.0041552274688565465,
          0.004143548795376761,
          0.0041322402938507195,
          0.004121323710940014,
          0.004110820480119827,
          0.0041007516869933395,
          0.004091138036062985,
          0.004081999819005335,
          0.004073356884475703,
          0.0040652286094798,
          0.004057633872336595,
          0.004050591027260457,
          0.0040441178805754536,
          0.004038231668582954,
          0.004032949037093056,
          0.004028286022624824,
          0.004024258035281628,
          0.004020879843299909,
          0.004018165559267168,
          0.004016128628000984,
          0.0040147818160764645,
          0.004014137202986853,
          0.00401420617391657,
          0.00401499941410399,
          0.004016526904766547,
          0.004018797920557594,
          0.004021821028521422,
          0.004025604088509,
          0.004030154255013602,
          0.004035477980383903,
          0.0040415810193673305,
          0.004048468434935116,
          0.004056144605336937,
          0.004064613232331152,
          0.004073877350535431,
          0.004083939337835716,
          0.004094800926796212,
          0.004106463217009823,
          0.004118926688317311,
          0.004132191214838449,
          0.004146256079745216,
          0.004161119990706385,
          0.00417678109593901,
          0.004193237000798445,
          0.004210484784833496,
          0.00422852101923619,
          0.004247341784622338,
          0.004266942689066849,
          0.004287318886326775,
          0.0043084650941820355,
          0.004330375612828818,
          0.004353044343249537,
          0.00437646480550415,
          0.004400630156869163,
          0.004425533209763835,
          0.004451166449400846,
          0.004477522051099987,
          0.0045045918972108434,
          0.004532367593577222,
          0.004560840485503846,
          0.004590001673157845,
          0.004619842026375403,
          0.004650352198799989,
          0.004681522641333698,
          0.004713343614849823,
          0.004745805202122348,
          0.004778897318947009,
          0.00481260972442805,
          0.004846932030376975,
          0.004881853709827354,
          0.004917364104625192,
          0.004953452432088838,
          0.004990107790703681,
          0.005027319164871916,
          0.00506507542868288,
          0.005103365348705446,
          0.005142177585813417,
          0.005181500696041303,
          0.0052213231304612156,
          0.005261633234126339,
          0.005302419244058174,
          0.005343669286322776,
          0.005385371372193795,
          0.005427513393449116,
          0.005470083116812595,
          0.005513068177578303,
          0.005556456072450297,
          0.005600234151633778,
          0.005644389610224617,
          0.0056889094789231475,
          0.00573378061414046,
          0.005778989687528529,
          0.0058245231749915185,
          0.005870367345229014,
          0.005916508247873435,
          0.0059629317012609324,
          0.006009623279919572,
          0.0060565683018093735,
          0.006103751815408736,
          0.006151158586667111,
          0.006198773085929502,
          0.006246579474881966,
          0.0062945615935659435,
          0.006342702947570121,
          0.006390986695430364,
          0.006439395636312388,
          0.006487912198061149,
          0.006536518425665588,
          0.006585195970213883,
          0.006633926078402694,
          0.006682689582665083,
          0.006731466891987938,
          0.006780237983463246,
          0.0068289823946592896,
          0.006877679216852912,
          0.006926307089187565,
          0.00697484419381252,
          0.007023268252054454,
          0.007071556521681532,
          0.007119685795288352,
          0.007167632399873943,
          0.00721537219763629,
          0.007262880588031514,
          0.007310132511133016,
          0.0073571024523228735,
          0.007403764448353226,
          0.007450092094786928,
          0.007496058554856459,
          0.007541636569767191,
          0.007586798470425501,
          0.007631516190642737,
          0.007675761281804498,
          0.007719504928999816,
          0.007762717968625668,
          0.007805370907459506,
          0.00784743394318186,
          0.007888876986334717,
          0.007929669683712778,
          0.007969781443157147,
          0.008009181459710342,
          0.008047838743138417,
          0.008085722146747586,
          0.00812280039748576,
          0.00815904212726399,
          0.0081944159054732,
          0.00822889027263039,
          0.008262433775107677,
          0.008295015000884164,
          0.00832660261626558,
          0.008357165403494347,
          0.008386672299200164,
          0.00841509243360795,
          0.008442395170434476,
          0.008468550147397667,
          0.008493527317258946,
          0.0085172969893216,
          0.008539829871292755,
          0.00856109711143754,
          0.00858107034092468,
          0.008599721716291614,
          0.00861702396191889,
          0.008632950412442908,
          0.008647475055006307,
          0.008660572571249678,
          0.008672218378965538,
          0.008682388673309708,
          0.008691060467481583,
          0.008698211632784825,
          0.008703820937972504,
          0.008707868087788563,
          0.008710333760615236,
          0.008711199645138489,
          0.008710448475945438,
          0.008708064067967805,
          0.008704031349689985,
          0.00869833639504037,
          0.00869096645388803,
          0.008681909981069512,
          0.008671156663873773,
          0.00865869744791355,
          0.008644524561321818,
          0.008628631537205,
          0.008611013234297879,
          0.00859166585576313,
          0.008570586966085177,
          0.008547775506010944,
          0.008523231805491194,
          0.008496957594592514,
          0.008468956012337815,
          0.008439231613440618,
          0.008407790372928783,
          0.008374639688614136,
          0.008339788381401987,
          0.008303246693437077,
          0.008265026284068652,
          0.00822514022363354,
          0.008183602985068478,
          0.008140430433362423,
          0.00809563981284825,
          0.00804924973235844,
          0.008001280148286294,
          0.007951752345540818,
          0.00790068891646157,
          0.007848113737724021,
          0.00779405194526008,
          0.0077385299072558105
         ],
         "yaxis": "y"
        },
        {
         "fill": "tozeroy",
         "hovertemplate": "<b>Synthetic</b><br>Frequency: %{y}<extra></extra>",
         "legendgroup": "Synthetic",
         "marker": {
          "color": "#01E0C9"
         },
         "mode": "lines",
         "name": "Synthetic",
         "showlegend": true,
         "type": "scatter",
         "x": [
          25000,
          25000.196,
          25000.392,
          25000.588,
          25000.784,
          25000.98,
          25001.176,
          25001.372,
          25001.568,
          25001.764,
          25001.96,
          25002.156,
          25002.352,
          25002.548,
          25002.744,
          25002.94,
          25003.136,
          25003.332,
          25003.528,
          25003.724,
          25003.92,
          25004.116,
          25004.312,
          25004.508,
          25004.704,
          25004.9,
          25005.096,
          25005.292,
          25005.488,
          25005.684,
          25005.88,
          25006.076,
          25006.272,
          25006.468,
          25006.664,
          25006.86,
          25007.056,
          25007.252,
          25007.448,
          25007.644,
          25007.84,
          25008.036,
          25008.232,
          25008.428,
          25008.624,
          25008.82,
          25009.016,
          25009.212,
          25009.408,
          25009.604,
          25009.8,
          25009.996,
          25010.192,
          25010.388,
          25010.584,
          25010.78,
          25010.976,
          25011.172,
          25011.368,
          25011.564,
          25011.76,
          25011.956,
          25012.152,
          25012.348,
          25012.544,
          25012.74,
          25012.936,
          25013.132,
          25013.328,
          25013.524,
          25013.72,
          25013.916,
          25014.112,
          25014.308,
          25014.504,
          25014.7,
          25014.896,
          25015.092,
          25015.288,
          25015.484,
          25015.68,
          25015.876,
          25016.072,
          25016.268,
          25016.464,
          25016.66,
          25016.856,
          25017.052,
          25017.248,
          25017.444,
          25017.64,
          25017.836,
          25018.032,
          25018.228,
          25018.424,
          25018.62,
          25018.816,
          25019.012,
          25019.208,
          25019.404,
          25019.6,
          25019.796,
          25019.992,
          25020.188,
          25020.384,
          25020.58,
          25020.776,
          25020.972,
          25021.168,
          25021.364,
          25021.56,
          25021.756,
          25021.952,
          25022.148,
          25022.344,
          25022.54,
          25022.736,
          25022.932,
          25023.128,
          25023.324,
          25023.52,
          25023.716,
          25023.912,
          25024.108,
          25024.304,
          25024.5,
          25024.696,
          25024.892,
          25025.088,
          25025.284,
          25025.48,
          25025.676,
          25025.872,
          25026.068,
          25026.264,
          25026.46,
          25026.656,
          25026.852,
          25027.048,
          25027.244,
          25027.44,
          25027.636,
          25027.832,
          25028.028,
          25028.224,
          25028.42,
          25028.616,
          25028.812,
          25029.008,
          25029.204,
          25029.4,
          25029.596,
          25029.792,
          25029.988,
          25030.184,
          25030.38,
          25030.576,
          25030.772,
          25030.968,
          25031.164,
          25031.36,
          25031.556,
          25031.752,
          25031.948,
          25032.144,
          25032.34,
          25032.536,
          25032.732,
          25032.928,
          25033.124,
          25033.32,
          25033.516,
          25033.712,
          25033.908,
          25034.104,
          25034.3,
          25034.496,
          25034.692,
          25034.888,
          25035.084,
          25035.28,
          25035.476,
          25035.672,
          25035.868,
          25036.064,
          25036.26,
          25036.456,
          25036.652,
          25036.848,
          25037.044,
          25037.24,
          25037.436,
          25037.632,
          25037.828,
          25038.024,
          25038.22,
          25038.416,
          25038.612,
          25038.808,
          25039.004,
          25039.2,
          25039.396,
          25039.592,
          25039.788,
          25039.984,
          25040.18,
          25040.376,
          25040.572,
          25040.768,
          25040.964,
          25041.16,
          25041.356,
          25041.552,
          25041.748,
          25041.944,
          25042.14,
          25042.336,
          25042.532,
          25042.728,
          25042.924,
          25043.12,
          25043.316,
          25043.512,
          25043.708,
          25043.904,
          25044.1,
          25044.296,
          25044.492,
          25044.688,
          25044.884,
          25045.08,
          25045.276,
          25045.472,
          25045.668,
          25045.864,
          25046.06,
          25046.256,
          25046.452,
          25046.648,
          25046.844,
          25047.04,
          25047.236,
          25047.432,
          25047.628,
          25047.824,
          25048.02,
          25048.216,
          25048.412,
          25048.608,
          25048.804,
          25049,
          25049.196,
          25049.392,
          25049.588,
          25049.784,
          25049.98,
          25050.176,
          25050.372,
          25050.568,
          25050.764,
          25050.96,
          25051.156,
          25051.352,
          25051.548,
          25051.744,
          25051.94,
          25052.136,
          25052.332,
          25052.528,
          25052.724,
          25052.92,
          25053.116,
          25053.312,
          25053.508,
          25053.704,
          25053.9,
          25054.096,
          25054.292,
          25054.488,
          25054.684,
          25054.88,
          25055.076,
          25055.272,
          25055.468,
          25055.664,
          25055.86,
          25056.056,
          25056.252,
          25056.448,
          25056.644,
          25056.84,
          25057.036,
          25057.232,
          25057.428,
          25057.624,
          25057.82,
          25058.016,
          25058.212,
          25058.408,
          25058.604,
          25058.8,
          25058.996,
          25059.192,
          25059.388,
          25059.584,
          25059.78,
          25059.976,
          25060.172,
          25060.368,
          25060.564,
          25060.76,
          25060.956,
          25061.152,
          25061.348,
          25061.544,
          25061.74,
          25061.936,
          25062.132,
          25062.328,
          25062.524,
          25062.72,
          25062.916,
          25063.112,
          25063.308,
          25063.504,
          25063.7,
          25063.896,
          25064.092,
          25064.288,
          25064.484,
          25064.68,
          25064.876,
          25065.072,
          25065.268,
          25065.464,
          25065.66,
          25065.856,
          25066.052,
          25066.248,
          25066.444,
          25066.64,
          25066.836,
          25067.032,
          25067.228,
          25067.424,
          25067.62,
          25067.816,
          25068.012,
          25068.208,
          25068.404,
          25068.6,
          25068.796,
          25068.992,
          25069.188,
          25069.384,
          25069.58,
          25069.776,
          25069.972,
          25070.168,
          25070.364,
          25070.56,
          25070.756,
          25070.952,
          25071.148,
          25071.344,
          25071.54,
          25071.736,
          25071.932,
          25072.128,
          25072.324,
          25072.52,
          25072.716,
          25072.912,
          25073.108,
          25073.304,
          25073.5,
          25073.696,
          25073.892,
          25074.088,
          25074.284,
          25074.48,
          25074.676,
          25074.872,
          25075.068,
          25075.264,
          25075.46,
          25075.656,
          25075.852,
          25076.048,
          25076.244,
          25076.44,
          25076.636,
          25076.832,
          25077.028,
          25077.224,
          25077.42,
          25077.616,
          25077.812,
          25078.008,
          25078.204,
          25078.4,
          25078.596,
          25078.792,
          25078.988,
          25079.184,
          25079.38,
          25079.576,
          25079.772,
          25079.968,
          25080.164,
          25080.36,
          25080.556,
          25080.752,
          25080.948,
          25081.144,
          25081.34,
          25081.536,
          25081.732,
          25081.928,
          25082.124,
          25082.32,
          25082.516,
          25082.712,
          25082.908,
          25083.104,
          25083.3,
          25083.496,
          25083.692,
          25083.888,
          25084.084,
          25084.28,
          25084.476,
          25084.672,
          25084.868,
          25085.064,
          25085.26,
          25085.456,
          25085.652,
          25085.848,
          25086.044,
          25086.24,
          25086.436,
          25086.632,
          25086.828,
          25087.024,
          25087.22,
          25087.416,
          25087.612,
          25087.808,
          25088.004,
          25088.2,
          25088.396,
          25088.592,
          25088.788,
          25088.984,
          25089.18,
          25089.376,
          25089.572,
          25089.768,
          25089.964,
          25090.16,
          25090.356,
          25090.552,
          25090.748,
          25090.944,
          25091.14,
          25091.336,
          25091.532,
          25091.728,
          25091.924,
          25092.12,
          25092.316,
          25092.512,
          25092.708,
          25092.904,
          25093.1,
          25093.296,
          25093.492,
          25093.688,
          25093.884,
          25094.08,
          25094.276,
          25094.472,
          25094.668,
          25094.864,
          25095.06,
          25095.256,
          25095.452,
          25095.648,
          25095.844,
          25096.04,
          25096.236,
          25096.432,
          25096.628,
          25096.824,
          25097.02,
          25097.216,
          25097.412,
          25097.608,
          25097.804
         ],
         "xaxis": "x",
         "y": [
          0.012741613420339252,
          0.012967066712761427,
          0.01319183040350824,
          0.013415738332330156,
          0.013638622848229469,
          0.013860315031946336,
          0.014080644923980873,
          0.014299441757776473,
          0.01451653419754089,
          0.014731750580294647,
          0.014944919161717694,
          0.015155868365223608,
          0.01536442703380381,
          0.01557042468416955,
          0.015773691762584266,
          0.015974059901894214,
          0.016171362179252566,
          0.016365433373907074,
          0.016556110224536506,
          0.01674323168561207,
          0.016926639182145483,
          0.017106176862303802,
          0.017281691847338982,
          0.017453034478255015,
          0.0176200585586418,
          0.017782621593138353,
          0.017940585021016135,
          0.018093814444283617,
          0.018242179849822404,
          0.01838555582507081,
          0.018523821766696875,
          0.01865686208180996,
          0.018784566381268752,
          0.018906829664582965,
          0.019023552496009108,
          0.019134641171452266,
          0.01924000787574009,
          0.019339570829930524,
          0.019433254428331846,
          0.019520989364878942,
          0.019602712748600117,
          0.019678368207926948,
          0.019747905983578482,
          0.019811283009833716,
          0.01986846298402567,
          0.019919416424082088,
          0.019964120714011276,
          0.02000256013725131,
          0.020034725897805257,
          0.020060616129147495,
          0.020080235890906583,
          0.020093597153345466,
          0.020100718769710348,
          0.020101626436540346,
          0.020096352642054775,
          0.020084936602772906,
          0.020067424188541832,
          0.020043867836179827,
          0.020014326451970006,
          0.019978865303255915,
          0.019937555899431043,
          0.019890475862629365,
          0.019837708788435732,
          0.019779344096985365,
          0.019715476874818727,
          0.01964620770787841,
          0.019571642506062713,
          0.01949189231977016,
          0.01940707314887556,
          0.019317305744574804,
          0.019222715404599175,
          0.019123431762266628,
          0.01901958856983887,
          0.018911323476719553,
          0.01879877780298199,
          0.018682096308713366,
          0.018561426959730343,
          0.018436920690163446,
          0.018308731162400164,
          0.018177014524949766,
          0.01804192916872104,
          0.017903635482195195,
          0.017762295606049736,
          0.017618073187707636,
          0.0174711331362734,
          0.017321641378396306,
          0.017169764615483647,
          0.01701567008276305,
          0.01685952531059018,
          0.016701497888499315,
          0.01654175523239032,
          0.016380464355226318,
          0.01621779164169457,
          0.01605390262717502,
          0.01588896178134107,
          0.015723132296795374,
          0.015556575883030844,
          0.015389452565986315,
          0.015221920493544887,
          0.015054135747207022,
          0.014886252160149587,
          0.01471842114196086,
          0.014550791510223414,
          0.014383509329096933,
          0.01421671775513111,
          0.014050556890417117,
          0.013885163643192441,
          0.01372067159601935,
          0.01355721088163824,
          0.013394908066552498,
          0.01323388604235938,
          0.013074263924922011,
          0.012916156961363908,
          0.012759676444852295,
          0.01260492963721257,
          0.012452019699306356,
          0.012301045629092787,
          0.012152102207367255,
          0.012005279951066785,
          0.011860665074020742,
          0.011718339455098684,
          0.011578380613607357,
          0.011440861691780907,
          0.011305851444279893,
          0.011173414234520193,
          0.01104361003764818,
          0.01091649445004727,
          0.010792118705173253,
          0.010670529695513145,
          0.010551770000528662,
          0.01043587792036439,
          0.010322887515100175,
          0.010212828649390803,
          0.01010572704226168,
          0.01000160432183094,
          0.009900478084788441,
          0.009802361960394752,
          0.009707265678766631,
          0.009615195143271965,
          0.009526152506796764,
          0.00944013625165115,
          0.009357141272934784,
          0.009277158965127331,
          0.009200177311676105,
          0.009126180977403475,
          0.009055151403495615,
          0.008987066904884518,
          0.008921902769802948,
          0.008859631361318317,
          0.00880022222066201,
          0.008743642172125895,
          0.008689855429368934,
          0.008638823702930891,
          0.008590506308761054,
          0.00854486027760345,
          0.008501840465051546,
          0.008461399662093928,
          0.008423488706002156,
          0.008388056591388174,
          0.0083550505812676,
          0.008324416317989889,
          0.008296097933878185,
          0.008270038161429369,
          0.008246178442946327,
          0.00822445903945988,
          0.008204819138805624,
          0.008187196962738811,
          0.008171529872956745,
          0.008157754475915997,
          0.008145806726325385,
          0.008135622029212019,
          0.008127135340451456,
          0.008120281265660273,
          0.008114994157358201,
          0.008111208210304649,
          0.008108857554921151,
          0.00810787634871738,
          0.008108198865638582,
          0.00810975958325894,
          0.008112493267748627,
          0.008116335056545371,
          0.008121220538667186,
          0.008127085832604356,
          0.00813386766173389,
          0.008141503427205002,
          0.008149931278244019,
          0.008159090179833807,
          0.008168919977728076,
          0.008179361460759125,
          0.008190356420406214,
          0.008201847707594646,
          0.008213779286698088,
          0.008226096286719206,
          0.008238745049629943,
          0.008251673175857822,
          0.008264829566901192,
          0.008278164465066797,
          0.008291629490326979,
          0.008305177674289892,
          0.008318763491286848,
          0.008332342886585072,
          0.008345873301729416,
          0.008359313697028067,
          0.008372624571200853,
          0.008385767978204041,
          0.008398707541257143,
          0.008411408464100354,
          0.00842383753950686,
          0.008435963155085458,
          0.008447755296411867,
          0.008459185547523,
          0.008470227088819128,
          0.008480854692421698,
          0.008491044715030543,
          0.008500775088334816,
          0.008510025307033544,
          0.008518776414519364,
          0.008527010986287673,
          0.008534713111135597,
          0.00854186837021258,
          0.008548463813992872,
          0.008554487937241308,
          0.008559930652042561,
          0.00856478325897062,
          0.008569038416476774,
          0.008572690108573089,
          0.008575733610894913,
          0.008578165455224447,
          0.008579983392561715,
          0.008581186354828118,
          0.00858177441529214,
          0.008581748747806352,
          0.008581111584946911,
          0.008579866175147577,
          0.00857801673892161,
          0.008575568424265642,
          0.008572527261340838,
          0.008568900116525885,
          0.008564694645939043,
          0.008559919248525316,
          0.008554583018804433,
          0.008548695699377575,
          0.008542267633289224,
          0.008535309716338738,
          0.008527833349439814,
          0.008519850391122208,
          0.008511373110268509,
          0.008502414139182518,
          0.008492986427079142,
          0.008483103194089145,
          0.008472777885865129,
          0.008462024128880806,
          0.008450855686508146,
          0.008439286415954294,
          0.008427330226144692,
          0.008415001036630263,
          0.008402312737593317,
          0.008389279151031466,
          0.008375913993189087,
          0.008362230838302185,
          0.008348243083727223,
          0.008333963916513617,
          0.008319406281475303,
          0.008304582850821859,
          0.008289505995397382,
          0.008274187757570934,
          0.008258639825827255,
          0.008242873511093332,
          0.008226899724831857,
          0.008210728958936995,
          0.00819437126745463,
          0.008177836250143705,
          0.008161133037902562,
          0.008144270280060264,
          0.008127256133549457,
          0.008110098253950468,
          0.00809280378841121,
          0.008075379370429658,
          0.008057831116481302,
          0.008040164624478366,
          0.008022384974033321,
          0.008004496728493434,
          0.007986503938718977,
          0.007968410148562524,
          0.007950218402001786,
          0.00793193125188456,
          0.007913550770229294,
          0.007895078560020264,
          0.00787651576844319,
          0.007857863101491986,
          0.007839120839874003,
          0.007820288856147889,
          0.007801366633014393,
          0.007782353282677025,
          0.007763247567197626,
          0.007744047919758532,
          0.007724752466740308,
          0.007705359050533391,
          0.007685865252988999,
          0.00766626841941333,
          0.007646565683018838,
          0.007626753989735067,
          0.00760683012328007,
          0.007586790730405544,
          0.00756663234621722,
          0.007546351419472409,
          0.007525944337769897,
          0.007505407452533219,
          0.007484737103701999,
          0.007463929644035943,
          0.007442981462953183,
          0.0074218890098153726,
          0.007400648816574086,
          0.007379257519708187,
          0.00735771188137622,
          0.007336008809701521,
          0.007314145378140447,
          0.007292118843859337,
          0.007269926665060132,
          0.007247566517208066,
          0.0072250363081077604,
          0.007202334191778521,
          0.007179458581097546,
          0.007156408159172397,
          0.007133181889408267,
          0.007109779024255167,
          0.007086199112611442,
          0.00706244200586554,
          0.007038507862577511,
          0.007014397151789274,
          0.006990110654972235,
          0.006965649466611705,
          0.00694101499345086,
          0.006916208952407536,
          0.006891233367181919,
          0.0068660905635923005,
          0.006840783163666562,
          0.00681531407852094,
          0.006789686500077077,
          0.006763903891657375,
          0.006737969977502324,
          0.006711888731272218,
          0.006685664363583977,
          0.006659301308636481,
          0.0066328042099959164,
          0.006606177905600265,
          0.006579427412043364,
          0.006552557908216983,
          0.006525574718375247,
          0.00649848329468668,
          0.006471289199356374,
          0.006443998086384857,
          0.006416615683031711,
          0.006389147771066665,
          0.006361600167875717,
          0.006333978707488301,
          0.006306289221611364,
          0.006278537520722103,
          0.006250729375307218,
          0.006222870497297278,
          0.0061949665217765374,
          0.006167022989025409,
          0.006139045326951462,
          0.006111038833977964,
          0.006083008662440905,
          0.00605495980254182,
          0.006026897066917753,
          0.005998825075869868,
          0.005970748243289038,
          0.005942670763330213,
          0.00591459659786693,
          0.005886529464754524,
          0.005858472826942992,
          0.005830429882460949,
          0.005802403555288131,
          0.0057743964871472125,
          0.005746411030225273,
          0.005718449240832272,
          0.00569051287401627,
          0.0056626033791358065,
          0.005634721896386276,
          0.005606869254290186,
          0.005579045968141958,
          0.005551252239394502,
          0.005523487955988512,
          0.005495752693606059,
          0.005468045717827531,
          0.005440365987185146,
          0.005412712157082953,
          0.005385082584567569,
          0.00535747533391527,
          0.005329888183019822,
          0.005302318630547015,
          0.005274763903820142,
          0.005247220967415436,
          0.005219686532428785,
          0.00519215706637365,
          0.005164628803688967,
          0.00513709775680665,
          0.005109559727748294,
          0.005082010320215399,
          0.0050544449521334935,
          0.005026858868605847,
          0.004999247155249378,
          0.004971604751868829,
          0.004943926466425643,
          0.0049162069892742365,
          0.004888440907622366,
          0.004860622720173068,
          0.00483274685192241,
          0.004804807669067378,
          0.004776799493995477,
          0.004748716620311376,
          0.0047205533278781246,
          0.004692303897834308,
          0.004663962627549177,
          0.0046355238454956395,
          0.004606981926004969,
          0.00457833130386867,
          0.0045495664887700545,
          0.004520682079512963,
          0.0044916727780158865,
          0.004462533403057632,
          0.004433258903745136,
          0.0044038443726749435,
          0.004374285058778031,
          0.004344576379821758,
          0.004314713934543732,
          0.0042846935144107414,
          0.004254511114979692,
          0.004224162946838537,
          0.004193645446123574,
          0.004162955284593221,
          0.004132089379239148,
          0.004101044901434377,
          0.004069819285601349,
          0.004038410237383542,
          0.004006815741323352,
          0.003975034068031197,
          0.003943063780836078,
          0.003910903741913685,
          0.0038785531178888713,
          0.0038460113849054724,
          0.003813278333152182,
          0.0037803540708535874,
          0.003747239027717464,
          0.003713933957829891,
          0.003680439942009809,
          0.0036467583896162793,
          0.003612891039802002,
          0.003578839962227188,
          0.003544607557228962,
          0.003510196555441969,
          0.003475610016886468,
          0.0034408513295211113,
          0.003405924207257992,
          0.003370832687458486,
          0.0033355811279090156,
          0.0033001742032761783,
          0.0032646169010620064,
          0.003228914517060321,
          0.0031930726503155422,
          0.003157097197606876,
          0.0031209943474606264,
          0.0030847705736939558,
          0.0030484326285150237,
          0.0030119875351841694,
          0.0029754425802412175,
          0.0029388053053258875,
          0.002902083498597779,
          0.0028652851857627593,
          0.0028284186207354974,
          0.002791492275940703,
          0.00275451483227839,
          0.0027174951687567376,
          0.0026804423518246557,
          0.002643365624414226,
          0.0026062743947037332,
          0.002569178224634072,
          0.0025320868181901456,
          0.0024950100094585084,
          0.0024579577505001145,
          0.0024209400990390186,
          0.0023839672059961323,
          0.0023470493028911843,
          0.00231019668913138,
          0.0022734197191999817,
          0.002236728789780575,
          0.0022001343268313587,
          0.002163646772624025,
          0.002127276572783289,
          0.0020910341633416456,
          0.0020549299578241863,
          0.0020189743344001007,
          0.0019831776231100154,
          0.0019475500932000333,
          0.0019121019405714344,
          0.001876843275381913,
          0.001841784109812133,
          0.0018069343460113746
         ],
         "yaxis": "y"
        }
       ],
       "layout": {
        "barmode": "overlay",
        "font": {
         "size": 18
        },
        "hovermode": "closest",
        "legend": {
         "traceorder": "reversed"
        },
        "plot_bgcolor": "#F5F5F8",
        "template": {
         "data": {
          "bar": [
           {
            "error_x": {
             "color": "#2a3f5f"
            },
            "error_y": {
             "color": "#2a3f5f"
            },
            "marker": {
             "line": {
              "color": "#E5ECF6",
              "width": 0.5
             },
             "pattern": {
              "fillmode": "overlay",
              "size": 10,
              "solidity": 0.2
             }
            },
            "type": "bar"
           }
          ],
          "barpolar": [
           {
            "marker": {
             "line": {
              "color": "#E5ECF6",
              "width": 0.5
             },
             "pattern": {
              "fillmode": "overlay",
              "size": 10,
              "solidity": 0.2
             }
            },
            "type": "barpolar"
           }
          ],
          "carpet": [
           {
            "aaxis": {
             "endlinecolor": "#2a3f5f",
             "gridcolor": "white",
             "linecolor": "white",
             "minorgridcolor": "white",
             "startlinecolor": "#2a3f5f"
            },
            "baxis": {
             "endlinecolor": "#2a3f5f",
             "gridcolor": "white",
             "linecolor": "white",
             "minorgridcolor": "white",
             "startlinecolor": "#2a3f5f"
            },
            "type": "carpet"
           }
          ],
          "choropleth": [
           {
            "colorbar": {
             "outlinewidth": 0,
             "ticks": ""
            },
            "type": "choropleth"
           }
          ],
          "contour": [
           {
            "colorbar": {
             "outlinewidth": 0,
             "ticks": ""
            },
            "colorscale": [
             [
              0,
              "#0d0887"
             ],
             [
              0.1111111111111111,
              "#46039f"
             ],
             [
              0.2222222222222222,
              "#7201a8"
             ],
             [
              0.3333333333333333,
              "#9c179e"
             ],
             [
              0.4444444444444444,
              "#bd3786"
             ],
             [
              0.5555555555555556,
              "#d8576b"
             ],
             [
              0.6666666666666666,
              "#ed7953"
             ],
             [
              0.7777777777777778,
              "#fb9f3a"
             ],
             [
              0.8888888888888888,
              "#fdca26"
             ],
             [
              1,
              "#f0f921"
             ]
            ],
            "type": "contour"
           }
          ],
          "contourcarpet": [
           {
            "colorbar": {
             "outlinewidth": 0,
             "ticks": ""
            },
            "type": "contourcarpet"
           }
          ],
          "heatmap": [
           {
            "colorbar": {
             "outlinewidth": 0,
             "ticks": ""
            },
            "colorscale": [
             [
              0,
              "#0d0887"
             ],
             [
              0.1111111111111111,
              "#46039f"
             ],
             [
              0.2222222222222222,
              "#7201a8"
             ],
             [
              0.3333333333333333,
              "#9c179e"
             ],
             [
              0.4444444444444444,
              "#bd3786"
             ],
             [
              0.5555555555555556,
              "#d8576b"
             ],
             [
              0.6666666666666666,
              "#ed7953"
             ],
             [
              0.7777777777777778,
              "#fb9f3a"
             ],
             [
              0.8888888888888888,
              "#fdca26"
             ],
             [
              1,
              "#f0f921"
             ]
            ],
            "type": "heatmap"
           }
          ],
          "heatmapgl": [
           {
            "colorbar": {
             "outlinewidth": 0,
             "ticks": ""
            },
            "colorscale": [
             [
              0,
              "#0d0887"
             ],
             [
              0.1111111111111111,
              "#46039f"
             ],
             [
              0.2222222222222222,
              "#7201a8"
             ],
             [
              0.3333333333333333,
              "#9c179e"
             ],
             [
              0.4444444444444444,
              "#bd3786"
             ],
             [
              0.5555555555555556,
              "#d8576b"
             ],
             [
              0.6666666666666666,
              "#ed7953"
             ],
             [
              0.7777777777777778,
              "#fb9f3a"
             ],
             [
              0.8888888888888888,
              "#fdca26"
             ],
             [
              1,
              "#f0f921"
             ]
            ],
            "type": "heatmapgl"
           }
          ],
          "histogram": [
           {
            "marker": {
             "pattern": {
              "fillmode": "overlay",
              "size": 10,
              "solidity": 0.2
             }
            },
            "type": "histogram"
           }
          ],
          "histogram2d": [
           {
            "colorbar": {
             "outlinewidth": 0,
             "ticks": ""
            },
            "colorscale": [
             [
              0,
              "#0d0887"
             ],
             [
              0.1111111111111111,
              "#46039f"
             ],
             [
              0.2222222222222222,
              "#7201a8"
             ],
             [
              0.3333333333333333,
              "#9c179e"
             ],
             [
              0.4444444444444444,
              "#bd3786"
             ],
             [
              0.5555555555555556,
              "#d8576b"
             ],
             [
              0.6666666666666666,
              "#ed7953"
             ],
             [
              0.7777777777777778,
              "#fb9f3a"
             ],
             [
              0.8888888888888888,
              "#fdca26"
             ],
             [
              1,
              "#f0f921"
             ]
            ],
            "type": "histogram2d"
           }
          ],
          "histogram2dcontour": [
           {
            "colorbar": {
             "outlinewidth": 0,
             "ticks": ""
            },
            "colorscale": [
             [
              0,
              "#0d0887"
             ],
             [
              0.1111111111111111,
              "#46039f"
             ],
             [
              0.2222222222222222,
              "#7201a8"
             ],
             [
              0.3333333333333333,
              "#9c179e"
             ],
             [
              0.4444444444444444,
              "#bd3786"
             ],
             [
              0.5555555555555556,
              "#d8576b"
             ],
             [
              0.6666666666666666,
              "#ed7953"
             ],
             [
              0.7777777777777778,
              "#fb9f3a"
             ],
             [
              0.8888888888888888,
              "#fdca26"
             ],
             [
              1,
              "#f0f921"
             ]
            ],
            "type": "histogram2dcontour"
           }
          ],
          "mesh3d": [
           {
            "colorbar": {
             "outlinewidth": 0,
             "ticks": ""
            },
            "type": "mesh3d"
           }
          ],
          "parcoords": [
           {
            "line": {
             "colorbar": {
              "outlinewidth": 0,
              "ticks": ""
             }
            },
            "type": "parcoords"
           }
          ],
          "pie": [
           {
            "automargin": true,
            "type": "pie"
           }
          ],
          "scatter": [
           {
            "fillpattern": {
             "fillmode": "overlay",
             "size": 10,
             "solidity": 0.2
            },
            "type": "scatter"
           }
          ],
          "scatter3d": [
           {
            "line": {
             "colorbar": {
              "outlinewidth": 0,
              "ticks": ""
             }
            },
            "marker": {
             "colorbar": {
              "outlinewidth": 0,
              "ticks": ""
             }
            },
            "type": "scatter3d"
           }
          ],
          "scattercarpet": [
           {
            "marker": {
             "colorbar": {
              "outlinewidth": 0,
              "ticks": ""
             }
            },
            "type": "scattercarpet"
           }
          ],
          "scattergeo": [
           {
            "marker": {
             "colorbar": {
              "outlinewidth": 0,
              "ticks": ""
             }
            },
            "type": "scattergeo"
           }
          ],
          "scattergl": [
           {
            "marker": {
             "colorbar": {
              "outlinewidth": 0,
              "ticks": ""
             }
            },
            "type": "scattergl"
           }
          ],
          "scattermapbox": [
           {
            "marker": {
             "colorbar": {
              "outlinewidth": 0,
              "ticks": ""
             }
            },
            "type": "scattermapbox"
           }
          ],
          "scatterpolar": [
           {
            "marker": {
             "colorbar": {
              "outlinewidth": 0,
              "ticks": ""
             }
            },
            "type": "scatterpolar"
           }
          ],
          "scatterpolargl": [
           {
            "marker": {
             "colorbar": {
              "outlinewidth": 0,
              "ticks": ""
             }
            },
            "type": "scatterpolargl"
           }
          ],
          "scatterternary": [
           {
            "marker": {
             "colorbar": {
              "outlinewidth": 0,
              "ticks": ""
             }
            },
            "type": "scatterternary"
           }
          ],
          "surface": [
           {
            "colorbar": {
             "outlinewidth": 0,
             "ticks": ""
            },
            "colorscale": [
             [
              0,
              "#0d0887"
             ],
             [
              0.1111111111111111,
              "#46039f"
             ],
             [
              0.2222222222222222,
              "#7201a8"
             ],
             [
              0.3333333333333333,
              "#9c179e"
             ],
             [
              0.4444444444444444,
              "#bd3786"
             ],
             [
              0.5555555555555556,
              "#d8576b"
             ],
             [
              0.6666666666666666,
              "#ed7953"
             ],
             [
              0.7777777777777778,
              "#fb9f3a"
             ],
             [
              0.8888888888888888,
              "#fdca26"
             ],
             [
              1,
              "#f0f921"
             ]
            ],
            "type": "surface"
           }
          ],
          "table": [
           {
            "cells": {
             "fill": {
              "color": "#EBF0F8"
             },
             "line": {
              "color": "white"
             }
            },
            "header": {
             "fill": {
              "color": "#C8D4E3"
             },
             "line": {
              "color": "white"
             }
            },
            "type": "table"
           }
          ]
         },
         "layout": {
          "annotationdefaults": {
           "arrowcolor": "#2a3f5f",
           "arrowhead": 0,
           "arrowwidth": 1
          },
          "autotypenumbers": "strict",
          "coloraxis": {
           "colorbar": {
            "outlinewidth": 0,
            "ticks": ""
           }
          },
          "colorscale": {
           "diverging": [
            [
             0,
             "#8e0152"
            ],
            [
             0.1,
             "#c51b7d"
            ],
            [
             0.2,
             "#de77ae"
            ],
            [
             0.3,
             "#f1b6da"
            ],
            [
             0.4,
             "#fde0ef"
            ],
            [
             0.5,
             "#f7f7f7"
            ],
            [
             0.6,
             "#e6f5d0"
            ],
            [
             0.7,
             "#b8e186"
            ],
            [
             0.8,
             "#7fbc41"
            ],
            [
             0.9,
             "#4d9221"
            ],
            [
             1,
             "#276419"
            ]
           ],
           "sequential": [
            [
             0,
             "#0d0887"
            ],
            [
             0.1111111111111111,
             "#46039f"
            ],
            [
             0.2222222222222222,
             "#7201a8"
            ],
            [
             0.3333333333333333,
             "#9c179e"
            ],
            [
             0.4444444444444444,
             "#bd3786"
            ],
            [
             0.5555555555555556,
             "#d8576b"
            ],
            [
             0.6666666666666666,
             "#ed7953"
            ],
            [
             0.7777777777777778,
             "#fb9f3a"
            ],
            [
             0.8888888888888888,
             "#fdca26"
            ],
            [
             1,
             "#f0f921"
            ]
           ],
           "sequentialminus": [
            [
             0,
             "#0d0887"
            ],
            [
             0.1111111111111111,
             "#46039f"
            ],
            [
             0.2222222222222222,
             "#7201a8"
            ],
            [
             0.3333333333333333,
             "#9c179e"
            ],
            [
             0.4444444444444444,
             "#bd3786"
            ],
            [
             0.5555555555555556,
             "#d8576b"
            ],
            [
             0.6666666666666666,
             "#ed7953"
            ],
            [
             0.7777777777777778,
             "#fb9f3a"
            ],
            [
             0.8888888888888888,
             "#fdca26"
            ],
            [
             1,
             "#f0f921"
            ]
           ]
          },
          "colorway": [
           "#636efa",
           "#EF553B",
           "#00cc96",
           "#ab63fa",
           "#FFA15A",
           "#19d3f3",
           "#FF6692",
           "#B6E880",
           "#FF97FF",
           "#FECB52"
          ],
          "font": {
           "color": "#2a3f5f"
          },
          "geo": {
           "bgcolor": "white",
           "lakecolor": "white",
           "landcolor": "#E5ECF6",
           "showlakes": true,
           "showland": true,
           "subunitcolor": "white"
          },
          "hoverlabel": {
           "align": "left"
          },
          "hovermode": "closest",
          "mapbox": {
           "style": "light"
          },
          "paper_bgcolor": "white",
          "plot_bgcolor": "#E5ECF6",
          "polar": {
           "angularaxis": {
            "gridcolor": "white",
            "linecolor": "white",
            "ticks": ""
           },
           "bgcolor": "#E5ECF6",
           "radialaxis": {
            "gridcolor": "white",
            "linecolor": "white",
            "ticks": ""
           }
          },
          "scene": {
           "xaxis": {
            "backgroundcolor": "#E5ECF6",
            "gridcolor": "white",
            "gridwidth": 2,
            "linecolor": "white",
            "showbackground": true,
            "ticks": "",
            "zerolinecolor": "white"
           },
           "yaxis": {
            "backgroundcolor": "#E5ECF6",
            "gridcolor": "white",
            "gridwidth": 2,
            "linecolor": "white",
            "showbackground": true,
            "ticks": "",
            "zerolinecolor": "white"
           },
           "zaxis": {
            "backgroundcolor": "#E5ECF6",
            "gridcolor": "white",
            "gridwidth": 2,
            "linecolor": "white",
            "showbackground": true,
            "ticks": "",
            "zerolinecolor": "white"
           }
          },
          "shapedefaults": {
           "line": {
            "color": "#2a3f5f"
           }
          },
          "ternary": {
           "aaxis": {
            "gridcolor": "white",
            "linecolor": "white",
            "ticks": ""
           },
           "baxis": {
            "gridcolor": "white",
            "linecolor": "white",
            "ticks": ""
           },
           "bgcolor": "#E5ECF6",
           "caxis": {
            "gridcolor": "white",
            "linecolor": "white",
            "ticks": ""
           }
          },
          "title": {
           "x": 0.05
          },
          "xaxis": {
           "automargin": true,
           "gridcolor": "white",
           "linecolor": "white",
           "ticks": "",
           "title": {
            "standoff": 15
           },
           "zerolinecolor": "white",
           "zerolinewidth": 2
          },
          "yaxis": {
           "automargin": true,
           "gridcolor": "white",
           "linecolor": "white",
           "ticks": "",
           "title": {
            "standoff": 15
           },
           "zerolinecolor": "white",
           "zerolinewidth": 2
          }
         }
        },
        "title": {
         "text": "Real vs. Synthetic Data for column 'primary_icd9_code'"
        },
        "xaxis": {
         "anchor": "y2",
         "domain": [
          0,
          1
         ],
         "title": {
          "text": "Value"
         },
         "zeroline": false
        },
        "yaxis": {
         "anchor": "free",
         "domain": [
          0,
          1
         ],
         "position": 0,
         "title": {
          "text": "Frequency"
         }
        }
       }
      }
     },
     "metadata": {},
     "output_type": "display_data"
    },
    {
     "data": {
      "application/vnd.plotly.v1+json": {
       "config": {
        "plotlyServerURL": "https://plot.ly"
       },
       "data": [
        {
         "alignmentgroup": "True",
         "bingroup": "x",
         "histnorm": "probability density",
         "hovertemplate": "<b>Real</b><br>Frequency: %{y}<extra></extra>",
         "legendgroup": "Real",
         "marker": {
          "color": "#000036",
          "pattern": {
           "shape": ""
          }
         },
         "name": "Real",
         "offsetgroup": "Real",
         "orientation": "v",
         "showlegend": true,
         "type": "histogram",
         "x": [
          false,
          false,
          false,
          false,
          false,
          false,
          false,
          false,
          false,
          false,
          false,
          false,
          false,
          false,
          false,
          true,
          false,
          false,
          false,
          false,
          false,
          false,
          false,
          false,
          false,
          false,
          false,
          false,
          false,
          false,
          false,
          false,
          false,
          false,
          true,
          false,
          false,
          false,
          false,
          false,
          false,
          false,
          false,
          false,
          false,
          false,
          false,
          false,
          false,
          false,
          false,
          false,
          false,
          false,
          false,
          false,
          false,
          false,
          false,
          false,
          false,
          false,
          false,
          false,
          false,
          false,
          false,
          false,
          false,
          false,
          false,
          false,
          false,
          true,
          false,
          false,
          false,
          false,
          false,
          false,
          false,
          false,
          false,
          false,
          false,
          false,
          false,
          false,
          false,
          false,
          false,
          false,
          false,
          false,
          false,
          false,
          false,
          false,
          false,
          false,
          false,
          false,
          false,
          false,
          false,
          false,
          false,
          false,
          false,
          false,
          false,
          true,
          false,
          false,
          false,
          false,
          false,
          false,
          false,
          false,
          false,
          false,
          false,
          false,
          false,
          false,
          false,
          false,
          false,
          true,
          false,
          false,
          false,
          false,
          false,
          false,
          false,
          false,
          false,
          false,
          false,
          false,
          false,
          false,
          false,
          false,
          false,
          false,
          false,
          false,
          false,
          false,
          false,
          false,
          false,
          false,
          false,
          false,
          false,
          true,
          false,
          false,
          false,
          false,
          false,
          false,
          false,
          false,
          false,
          false,
          false,
          false,
          false,
          false,
          false,
          false,
          false,
          false,
          false,
          false,
          false,
          false,
          false,
          false,
          false,
          false,
          false,
          false,
          false,
          false,
          false,
          false,
          false,
          false,
          false,
          false,
          false,
          false,
          false,
          false,
          false,
          false,
          false,
          false,
          false,
          false,
          false,
          false,
          true,
          false,
          false,
          false,
          false,
          true,
          false,
          false,
          false,
          true,
          false
         ],
         "xaxis": "x",
         "yaxis": "y"
        },
        {
         "alignmentgroup": "True",
         "bingroup": "x",
         "histnorm": "probability density",
         "hovertemplate": "<b>Synthetic</b><br>Frequency: %{y}<extra></extra>",
         "legendgroup": "Synthetic",
         "marker": {
          "color": "#01E0C9",
          "pattern": {
           "shape": "/"
          }
         },
         "name": "Synthetic",
         "offsetgroup": "Synthetic",
         "orientation": "v",
         "showlegend": true,
         "type": "histogram",
         "x": [
          true,
          false,
          false,
          false,
          false,
          true,
          false,
          false,
          false,
          false,
          false,
          false,
          false,
          false,
          false,
          false,
          false,
          true,
          false,
          true,
          false,
          false,
          false,
          false,
          false,
          true,
          false,
          false,
          true,
          false,
          true,
          false,
          false,
          false,
          false,
          false,
          false,
          false,
          false,
          false,
          false,
          false,
          false,
          false,
          false,
          true,
          true,
          false,
          false,
          false,
          true,
          false,
          true,
          false,
          false,
          false,
          false,
          false,
          false,
          false,
          false,
          true,
          false,
          false,
          false,
          false,
          false,
          false,
          true,
          false,
          true,
          false,
          false,
          false,
          false,
          false,
          false,
          false,
          false,
          false,
          true,
          false,
          false,
          false,
          false,
          false,
          false,
          false,
          true,
          false,
          false,
          false,
          false,
          false,
          false,
          false,
          false,
          true,
          false,
          false,
          false,
          false,
          false,
          false,
          false,
          false,
          true,
          false,
          false,
          true,
          false,
          false,
          true,
          false,
          false,
          false,
          false,
          false,
          false,
          false,
          false,
          true,
          false,
          false,
          false,
          false,
          false,
          false,
          false,
          false,
          false,
          false,
          false,
          false,
          false,
          false,
          false,
          false,
          true,
          true,
          true,
          false,
          false,
          false,
          false,
          false,
          false,
          false,
          false,
          false,
          false,
          false,
          false,
          false,
          false,
          false,
          false,
          false,
          false,
          false,
          false,
          false,
          false,
          false,
          false,
          false,
          false,
          false,
          true,
          false,
          false,
          false,
          false,
          true,
          false,
          false,
          false,
          false,
          false,
          false,
          false,
          false,
          false,
          false,
          false,
          false,
          false,
          true,
          false,
          false,
          true,
          false,
          false,
          true,
          false,
          false,
          false,
          false,
          false,
          false
         ],
         "xaxis": "x",
         "yaxis": "y"
        }
       ],
       "layout": {
        "barmode": "group",
        "font": {
         "size": 18
        },
        "legend": {
         "title": {
          "text": "Data"
         },
         "tracegroupgap": 0
        },
        "margin": {
         "t": 60
        },
        "plot_bgcolor": "#F5F5F8",
        "template": {
         "data": {
          "bar": [
           {
            "error_x": {
             "color": "#2a3f5f"
            },
            "error_y": {
             "color": "#2a3f5f"
            },
            "marker": {
             "line": {
              "color": "#E5ECF6",
              "width": 0.5
             },
             "pattern": {
              "fillmode": "overlay",
              "size": 10,
              "solidity": 0.2
             }
            },
            "type": "bar"
           }
          ],
          "barpolar": [
           {
            "marker": {
             "line": {
              "color": "#E5ECF6",
              "width": 0.5
             },
             "pattern": {
              "fillmode": "overlay",
              "size": 10,
              "solidity": 0.2
             }
            },
            "type": "barpolar"
           }
          ],
          "carpet": [
           {
            "aaxis": {
             "endlinecolor": "#2a3f5f",
             "gridcolor": "white",
             "linecolor": "white",
             "minorgridcolor": "white",
             "startlinecolor": "#2a3f5f"
            },
            "baxis": {
             "endlinecolor": "#2a3f5f",
             "gridcolor": "white",
             "linecolor": "white",
             "minorgridcolor": "white",
             "startlinecolor": "#2a3f5f"
            },
            "type": "carpet"
           }
          ],
          "choropleth": [
           {
            "colorbar": {
             "outlinewidth": 0,
             "ticks": ""
            },
            "type": "choropleth"
           }
          ],
          "contour": [
           {
            "colorbar": {
             "outlinewidth": 0,
             "ticks": ""
            },
            "colorscale": [
             [
              0,
              "#0d0887"
             ],
             [
              0.1111111111111111,
              "#46039f"
             ],
             [
              0.2222222222222222,
              "#7201a8"
             ],
             [
              0.3333333333333333,
              "#9c179e"
             ],
             [
              0.4444444444444444,
              "#bd3786"
             ],
             [
              0.5555555555555556,
              "#d8576b"
             ],
             [
              0.6666666666666666,
              "#ed7953"
             ],
             [
              0.7777777777777778,
              "#fb9f3a"
             ],
             [
              0.8888888888888888,
              "#fdca26"
             ],
             [
              1,
              "#f0f921"
             ]
            ],
            "type": "contour"
           }
          ],
          "contourcarpet": [
           {
            "colorbar": {
             "outlinewidth": 0,
             "ticks": ""
            },
            "type": "contourcarpet"
           }
          ],
          "heatmap": [
           {
            "colorbar": {
             "outlinewidth": 0,
             "ticks": ""
            },
            "colorscale": [
             [
              0,
              "#0d0887"
             ],
             [
              0.1111111111111111,
              "#46039f"
             ],
             [
              0.2222222222222222,
              "#7201a8"
             ],
             [
              0.3333333333333333,
              "#9c179e"
             ],
             [
              0.4444444444444444,
              "#bd3786"
             ],
             [
              0.5555555555555556,
              "#d8576b"
             ],
             [
              0.6666666666666666,
              "#ed7953"
             ],
             [
              0.7777777777777778,
              "#fb9f3a"
             ],
             [
              0.8888888888888888,
              "#fdca26"
             ],
             [
              1,
              "#f0f921"
             ]
            ],
            "type": "heatmap"
           }
          ],
          "heatmapgl": [
           {
            "colorbar": {
             "outlinewidth": 0,
             "ticks": ""
            },
            "colorscale": [
             [
              0,
              "#0d0887"
             ],
             [
              0.1111111111111111,
              "#46039f"
             ],
             [
              0.2222222222222222,
              "#7201a8"
             ],
             [
              0.3333333333333333,
              "#9c179e"
             ],
             [
              0.4444444444444444,
              "#bd3786"
             ],
             [
              0.5555555555555556,
              "#d8576b"
             ],
             [
              0.6666666666666666,
              "#ed7953"
             ],
             [
              0.7777777777777778,
              "#fb9f3a"
             ],
             [
              0.8888888888888888,
              "#fdca26"
             ],
             [
              1,
              "#f0f921"
             ]
            ],
            "type": "heatmapgl"
           }
          ],
          "histogram": [
           {
            "marker": {
             "pattern": {
              "fillmode": "overlay",
              "size": 10,
              "solidity": 0.2
             }
            },
            "type": "histogram"
           }
          ],
          "histogram2d": [
           {
            "colorbar": {
             "outlinewidth": 0,
             "ticks": ""
            },
            "colorscale": [
             [
              0,
              "#0d0887"
             ],
             [
              0.1111111111111111,
              "#46039f"
             ],
             [
              0.2222222222222222,
              "#7201a8"
             ],
             [
              0.3333333333333333,
              "#9c179e"
             ],
             [
              0.4444444444444444,
              "#bd3786"
             ],
             [
              0.5555555555555556,
              "#d8576b"
             ],
             [
              0.6666666666666666,
              "#ed7953"
             ],
             [
              0.7777777777777778,
              "#fb9f3a"
             ],
             [
              0.8888888888888888,
              "#fdca26"
             ],
             [
              1,
              "#f0f921"
             ]
            ],
            "type": "histogram2d"
           }
          ],
          "histogram2dcontour": [
           {
            "colorbar": {
             "outlinewidth": 0,
             "ticks": ""
            },
            "colorscale": [
             [
              0,
              "#0d0887"
             ],
             [
              0.1111111111111111,
              "#46039f"
             ],
             [
              0.2222222222222222,
              "#7201a8"
             ],
             [
              0.3333333333333333,
              "#9c179e"
             ],
             [
              0.4444444444444444,
              "#bd3786"
             ],
             [
              0.5555555555555556,
              "#d8576b"
             ],
             [
              0.6666666666666666,
              "#ed7953"
             ],
             [
              0.7777777777777778,
              "#fb9f3a"
             ],
             [
              0.8888888888888888,
              "#fdca26"
             ],
             [
              1,
              "#f0f921"
             ]
            ],
            "type": "histogram2dcontour"
           }
          ],
          "mesh3d": [
           {
            "colorbar": {
             "outlinewidth": 0,
             "ticks": ""
            },
            "type": "mesh3d"
           }
          ],
          "parcoords": [
           {
            "line": {
             "colorbar": {
              "outlinewidth": 0,
              "ticks": ""
             }
            },
            "type": "parcoords"
           }
          ],
          "pie": [
           {
            "automargin": true,
            "type": "pie"
           }
          ],
          "scatter": [
           {
            "fillpattern": {
             "fillmode": "overlay",
             "size": 10,
             "solidity": 0.2
            },
            "type": "scatter"
           }
          ],
          "scatter3d": [
           {
            "line": {
             "colorbar": {
              "outlinewidth": 0,
              "ticks": ""
             }
            },
            "marker": {
             "colorbar": {
              "outlinewidth": 0,
              "ticks": ""
             }
            },
            "type": "scatter3d"
           }
          ],
          "scattercarpet": [
           {
            "marker": {
             "colorbar": {
              "outlinewidth": 0,
              "ticks": ""
             }
            },
            "type": "scattercarpet"
           }
          ],
          "scattergeo": [
           {
            "marker": {
             "colorbar": {
              "outlinewidth": 0,
              "ticks": ""
             }
            },
            "type": "scattergeo"
           }
          ],
          "scattergl": [
           {
            "marker": {
             "colorbar": {
              "outlinewidth": 0,
              "ticks": ""
             }
            },
            "type": "scattergl"
           }
          ],
          "scattermapbox": [
           {
            "marker": {
             "colorbar": {
              "outlinewidth": 0,
              "ticks": ""
             }
            },
            "type": "scattermapbox"
           }
          ],
          "scatterpolar": [
           {
            "marker": {
             "colorbar": {
              "outlinewidth": 0,
              "ticks": ""
             }
            },
            "type": "scatterpolar"
           }
          ],
          "scatterpolargl": [
           {
            "marker": {
             "colorbar": {
              "outlinewidth": 0,
              "ticks": ""
             }
            },
            "type": "scatterpolargl"
           }
          ],
          "scatterternary": [
           {
            "marker": {
             "colorbar": {
              "outlinewidth": 0,
              "ticks": ""
             }
            },
            "type": "scatterternary"
           }
          ],
          "surface": [
           {
            "colorbar": {
             "outlinewidth": 0,
             "ticks": ""
            },
            "colorscale": [
             [
              0,
              "#0d0887"
             ],
             [
              0.1111111111111111,
              "#46039f"
             ],
             [
              0.2222222222222222,
              "#7201a8"
             ],
             [
              0.3333333333333333,
              "#9c179e"
             ],
             [
              0.4444444444444444,
              "#bd3786"
             ],
             [
              0.5555555555555556,
              "#d8576b"
             ],
             [
              0.6666666666666666,
              "#ed7953"
             ],
             [
              0.7777777777777778,
              "#fb9f3a"
             ],
             [
              0.8888888888888888,
              "#fdca26"
             ],
             [
              1,
              "#f0f921"
             ]
            ],
            "type": "surface"
           }
          ],
          "table": [
           {
            "cells": {
             "fill": {
              "color": "#EBF0F8"
             },
             "line": {
              "color": "white"
             }
            },
            "header": {
             "fill": {
              "color": "#C8D4E3"
             },
             "line": {
              "color": "white"
             }
            },
            "type": "table"
           }
          ]
         },
         "layout": {
          "annotationdefaults": {
           "arrowcolor": "#2a3f5f",
           "arrowhead": 0,
           "arrowwidth": 1
          },
          "autotypenumbers": "strict",
          "coloraxis": {
           "colorbar": {
            "outlinewidth": 0,
            "ticks": ""
           }
          },
          "colorscale": {
           "diverging": [
            [
             0,
             "#8e0152"
            ],
            [
             0.1,
             "#c51b7d"
            ],
            [
             0.2,
             "#de77ae"
            ],
            [
             0.3,
             "#f1b6da"
            ],
            [
             0.4,
             "#fde0ef"
            ],
            [
             0.5,
             "#f7f7f7"
            ],
            [
             0.6,
             "#e6f5d0"
            ],
            [
             0.7,
             "#b8e186"
            ],
            [
             0.8,
             "#7fbc41"
            ],
            [
             0.9,
             "#4d9221"
            ],
            [
             1,
             "#276419"
            ]
           ],
           "sequential": [
            [
             0,
             "#0d0887"
            ],
            [
             0.1111111111111111,
             "#46039f"
            ],
            [
             0.2222222222222222,
             "#7201a8"
            ],
            [
             0.3333333333333333,
             "#9c179e"
            ],
            [
             0.4444444444444444,
             "#bd3786"
            ],
            [
             0.5555555555555556,
             "#d8576b"
            ],
            [
             0.6666666666666666,
             "#ed7953"
            ],
            [
             0.7777777777777778,
             "#fb9f3a"
            ],
            [
             0.8888888888888888,
             "#fdca26"
            ],
            [
             1,
             "#f0f921"
            ]
           ],
           "sequentialminus": [
            [
             0,
             "#0d0887"
            ],
            [
             0.1111111111111111,
             "#46039f"
            ],
            [
             0.2222222222222222,
             "#7201a8"
            ],
            [
             0.3333333333333333,
             "#9c179e"
            ],
            [
             0.4444444444444444,
             "#bd3786"
            ],
            [
             0.5555555555555556,
             "#d8576b"
            ],
            [
             0.6666666666666666,
             "#ed7953"
            ],
            [
             0.7777777777777778,
             "#fb9f3a"
            ],
            [
             0.8888888888888888,
             "#fdca26"
            ],
            [
             1,
             "#f0f921"
            ]
           ]
          },
          "colorway": [
           "#636efa",
           "#EF553B",
           "#00cc96",
           "#ab63fa",
           "#FFA15A",
           "#19d3f3",
           "#FF6692",
           "#B6E880",
           "#FF97FF",
           "#FECB52"
          ],
          "font": {
           "color": "#2a3f5f"
          },
          "geo": {
           "bgcolor": "white",
           "lakecolor": "white",
           "landcolor": "#E5ECF6",
           "showlakes": true,
           "showland": true,
           "subunitcolor": "white"
          },
          "hoverlabel": {
           "align": "left"
          },
          "hovermode": "closest",
          "mapbox": {
           "style": "light"
          },
          "paper_bgcolor": "white",
          "plot_bgcolor": "#E5ECF6",
          "polar": {
           "angularaxis": {
            "gridcolor": "white",
            "linecolor": "white",
            "ticks": ""
           },
           "bgcolor": "#E5ECF6",
           "radialaxis": {
            "gridcolor": "white",
            "linecolor": "white",
            "ticks": ""
           }
          },
          "scene": {
           "xaxis": {
            "backgroundcolor": "#E5ECF6",
            "gridcolor": "white",
            "gridwidth": 2,
            "linecolor": "white",
            "showbackground": true,
            "ticks": "",
            "zerolinecolor": "white"
           },
           "yaxis": {
            "backgroundcolor": "#E5ECF6",
            "gridcolor": "white",
            "gridwidth": 2,
            "linecolor": "white",
            "showbackground": true,
            "ticks": "",
            "zerolinecolor": "white"
           },
           "zaxis": {
            "backgroundcolor": "#E5ECF6",
            "gridcolor": "white",
            "gridwidth": 2,
            "linecolor": "white",
            "showbackground": true,
            "ticks": "",
            "zerolinecolor": "white"
           }
          },
          "shapedefaults": {
           "line": {
            "color": "#2a3f5f"
           }
          },
          "ternary": {
           "aaxis": {
            "gridcolor": "white",
            "linecolor": "white",
            "ticks": ""
           },
           "baxis": {
            "gridcolor": "white",
            "linecolor": "white",
            "ticks": ""
           },
           "bgcolor": "#E5ECF6",
           "caxis": {
            "gridcolor": "white",
            "linecolor": "white",
            "ticks": ""
           }
          },
          "title": {
           "x": 0.05
          },
          "xaxis": {
           "automargin": true,
           "gridcolor": "white",
           "linecolor": "white",
           "ticks": "",
           "title": {
            "standoff": 15
           },
           "zerolinecolor": "white",
           "zerolinewidth": 2
          },
          "yaxis": {
           "automargin": true,
           "gridcolor": "white",
           "linecolor": "white",
           "ticks": "",
           "title": {
            "standoff": 15
           },
           "zerolinecolor": "white",
           "zerolinewidth": 2
          }
         }
        },
        "title": {
         "text": "Real vs. Synthetic Data for column 'hospital_expire_flag'"
        },
        "xaxis": {
         "anchor": "y",
         "domain": [
          0,
          1
         ],
         "title": {
          "text": "Category"
         }
        },
        "yaxis": {
         "anchor": "x",
         "domain": [
          0,
          1
         ],
         "title": {
          "text": "Frequency"
         }
        }
       }
      }
     },
     "metadata": {},
     "output_type": "display_data"
    },
    {
     "data": {
      "application/vnd.plotly.v1+json": {
       "config": {
        "plotlyServerURL": "https://plot.ly"
       },
       "data": [
        {
         "alignmentgroup": "True",
         "bingroup": "x",
         "histnorm": "probability density",
         "hovertemplate": "<b>Real</b><br>Frequency: %{y}<extra></extra>",
         "legendgroup": "Real",
         "marker": {
          "color": "#000036",
          "pattern": {
           "shape": ""
          }
         },
         "name": "Real",
         "offsetgroup": "Real",
         "orientation": "v",
         "showlegend": true,
         "type": "histogram",
         "x": [
          true,
          true,
          true,
          false,
          false,
          true,
          true,
          true,
          false,
          true,
          false,
          false,
          false,
          true,
          false,
          true,
          true,
          false,
          false,
          false,
          false,
          true,
          true,
          true,
          true,
          false,
          false,
          false,
          false,
          false,
          false,
          true,
          false,
          true,
          true,
          true,
          true,
          true,
          false,
          true,
          true,
          true,
          false,
          false,
          true,
          true,
          true,
          true,
          false,
          true,
          true,
          false,
          true,
          true,
          false,
          false,
          false,
          true,
          true,
          true,
          true,
          true,
          true,
          false,
          false,
          true,
          true,
          false,
          true,
          false,
          true,
          false,
          true,
          true,
          true,
          true,
          true,
          true,
          false,
          true,
          false,
          false,
          true,
          true,
          true,
          true,
          true,
          true,
          true,
          true,
          true,
          true,
          false,
          true,
          false,
          false,
          false,
          false,
          false,
          true,
          false,
          true,
          true,
          true,
          true,
          true,
          false,
          false,
          true,
          true,
          true,
          true,
          false,
          false,
          false,
          true,
          true,
          true,
          true,
          true,
          false,
          true,
          false,
          true,
          true,
          false,
          false,
          true,
          false,
          true,
          false,
          false,
          true,
          true,
          true,
          false,
          true,
          true,
          true,
          true,
          true,
          true,
          true,
          true,
          true,
          true,
          true,
          true,
          true,
          true,
          true,
          true,
          false,
          true,
          false,
          true,
          true,
          true,
          false,
          true,
          true,
          false,
          false,
          false,
          false,
          false,
          true,
          false,
          false,
          true,
          false,
          false,
          false,
          false,
          false,
          true,
          true,
          true,
          true,
          true,
          true,
          false,
          true,
          true,
          false,
          true,
          true,
          true,
          true,
          true,
          false,
          true,
          false,
          false,
          true,
          true,
          true,
          true,
          false,
          true,
          false,
          false,
          true,
          true,
          true,
          true,
          true,
          true,
          true,
          true,
          false,
          false,
          true,
          true,
          false,
          false,
          true,
          true,
          true
         ],
         "xaxis": "x",
         "yaxis": "y"
        },
        {
         "alignmentgroup": "True",
         "bingroup": "x",
         "histnorm": "probability density",
         "hovertemplate": "<b>Synthetic</b><br>Frequency: %{y}<extra></extra>",
         "legendgroup": "Synthetic",
         "marker": {
          "color": "#01E0C9",
          "pattern": {
           "shape": "/"
          }
         },
         "name": "Synthetic",
         "offsetgroup": "Synthetic",
         "orientation": "v",
         "showlegend": true,
         "type": "histogram",
         "x": [
          true,
          true,
          true,
          true,
          false,
          false,
          true,
          true,
          false,
          false,
          true,
          false,
          true,
          false,
          false,
          true,
          false,
          true,
          true,
          true,
          true,
          true,
          false,
          true,
          true,
          true,
          false,
          false,
          true,
          true,
          false,
          false,
          false,
          false,
          true,
          true,
          false,
          false,
          true,
          true,
          true,
          true,
          false,
          true,
          true,
          true,
          true,
          true,
          false,
          false,
          true,
          true,
          false,
          true,
          true,
          false,
          false,
          true,
          false,
          false,
          false,
          false,
          false,
          false,
          true,
          true,
          true,
          false,
          false,
          false,
          true,
          false,
          true,
          false,
          true,
          true,
          false,
          false,
          true,
          false,
          false,
          false,
          true,
          true,
          false,
          true,
          true,
          false,
          true,
          false,
          false,
          false,
          true,
          true,
          false,
          false,
          false,
          true,
          true,
          false,
          false,
          true,
          true,
          false,
          false,
          true,
          true,
          false,
          true,
          true,
          true,
          false,
          true,
          false,
          true,
          true,
          true,
          true,
          true,
          true,
          true,
          false,
          false,
          false,
          false,
          false,
          true,
          true,
          false,
          false,
          true,
          false,
          false,
          false,
          false,
          true,
          false,
          true,
          true,
          true,
          true,
          true,
          true,
          true,
          false,
          true,
          true,
          true,
          true,
          true,
          false,
          false,
          true,
          false,
          true,
          false,
          false,
          true,
          true,
          false,
          false,
          true,
          false,
          true,
          true,
          true,
          false,
          true,
          false,
          true,
          true,
          true,
          true,
          false,
          true,
          true,
          false,
          true,
          true,
          true,
          true,
          true,
          false,
          false,
          true,
          false,
          false,
          true,
          true,
          false,
          false,
          false,
          false,
          true,
          true,
          true,
          true,
          true,
          true,
          true
         ],
         "xaxis": "x",
         "yaxis": "y"
        }
       ],
       "layout": {
        "barmode": "group",
        "font": {
         "size": 18
        },
        "legend": {
         "title": {
          "text": "Data"
         },
         "tracegroupgap": 0
        },
        "margin": {
         "t": 60
        },
        "plot_bgcolor": "#F5F5F8",
        "template": {
         "data": {
          "bar": [
           {
            "error_x": {
             "color": "#2a3f5f"
            },
            "error_y": {
             "color": "#2a3f5f"
            },
            "marker": {
             "line": {
              "color": "#E5ECF6",
              "width": 0.5
             },
             "pattern": {
              "fillmode": "overlay",
              "size": 10,
              "solidity": 0.2
             }
            },
            "type": "bar"
           }
          ],
          "barpolar": [
           {
            "marker": {
             "line": {
              "color": "#E5ECF6",
              "width": 0.5
             },
             "pattern": {
              "fillmode": "overlay",
              "size": 10,
              "solidity": 0.2
             }
            },
            "type": "barpolar"
           }
          ],
          "carpet": [
           {
            "aaxis": {
             "endlinecolor": "#2a3f5f",
             "gridcolor": "white",
             "linecolor": "white",
             "minorgridcolor": "white",
             "startlinecolor": "#2a3f5f"
            },
            "baxis": {
             "endlinecolor": "#2a3f5f",
             "gridcolor": "white",
             "linecolor": "white",
             "minorgridcolor": "white",
             "startlinecolor": "#2a3f5f"
            },
            "type": "carpet"
           }
          ],
          "choropleth": [
           {
            "colorbar": {
             "outlinewidth": 0,
             "ticks": ""
            },
            "type": "choropleth"
           }
          ],
          "contour": [
           {
            "colorbar": {
             "outlinewidth": 0,
             "ticks": ""
            },
            "colorscale": [
             [
              0,
              "#0d0887"
             ],
             [
              0.1111111111111111,
              "#46039f"
             ],
             [
              0.2222222222222222,
              "#7201a8"
             ],
             [
              0.3333333333333333,
              "#9c179e"
             ],
             [
              0.4444444444444444,
              "#bd3786"
             ],
             [
              0.5555555555555556,
              "#d8576b"
             ],
             [
              0.6666666666666666,
              "#ed7953"
             ],
             [
              0.7777777777777778,
              "#fb9f3a"
             ],
             [
              0.8888888888888888,
              "#fdca26"
             ],
             [
              1,
              "#f0f921"
             ]
            ],
            "type": "contour"
           }
          ],
          "contourcarpet": [
           {
            "colorbar": {
             "outlinewidth": 0,
             "ticks": ""
            },
            "type": "contourcarpet"
           }
          ],
          "heatmap": [
           {
            "colorbar": {
             "outlinewidth": 0,
             "ticks": ""
            },
            "colorscale": [
             [
              0,
              "#0d0887"
             ],
             [
              0.1111111111111111,
              "#46039f"
             ],
             [
              0.2222222222222222,
              "#7201a8"
             ],
             [
              0.3333333333333333,
              "#9c179e"
             ],
             [
              0.4444444444444444,
              "#bd3786"
             ],
             [
              0.5555555555555556,
              "#d8576b"
             ],
             [
              0.6666666666666666,
              "#ed7953"
             ],
             [
              0.7777777777777778,
              "#fb9f3a"
             ],
             [
              0.8888888888888888,
              "#fdca26"
             ],
             [
              1,
              "#f0f921"
             ]
            ],
            "type": "heatmap"
           }
          ],
          "heatmapgl": [
           {
            "colorbar": {
             "outlinewidth": 0,
             "ticks": ""
            },
            "colorscale": [
             [
              0,
              "#0d0887"
             ],
             [
              0.1111111111111111,
              "#46039f"
             ],
             [
              0.2222222222222222,
              "#7201a8"
             ],
             [
              0.3333333333333333,
              "#9c179e"
             ],
             [
              0.4444444444444444,
              "#bd3786"
             ],
             [
              0.5555555555555556,
              "#d8576b"
             ],
             [
              0.6666666666666666,
              "#ed7953"
             ],
             [
              0.7777777777777778,
              "#fb9f3a"
             ],
             [
              0.8888888888888888,
              "#fdca26"
             ],
             [
              1,
              "#f0f921"
             ]
            ],
            "type": "heatmapgl"
           }
          ],
          "histogram": [
           {
            "marker": {
             "pattern": {
              "fillmode": "overlay",
              "size": 10,
              "solidity": 0.2
             }
            },
            "type": "histogram"
           }
          ],
          "histogram2d": [
           {
            "colorbar": {
             "outlinewidth": 0,
             "ticks": ""
            },
            "colorscale": [
             [
              0,
              "#0d0887"
             ],
             [
              0.1111111111111111,
              "#46039f"
             ],
             [
              0.2222222222222222,
              "#7201a8"
             ],
             [
              0.3333333333333333,
              "#9c179e"
             ],
             [
              0.4444444444444444,
              "#bd3786"
             ],
             [
              0.5555555555555556,
              "#d8576b"
             ],
             [
              0.6666666666666666,
              "#ed7953"
             ],
             [
              0.7777777777777778,
              "#fb9f3a"
             ],
             [
              0.8888888888888888,
              "#fdca26"
             ],
             [
              1,
              "#f0f921"
             ]
            ],
            "type": "histogram2d"
           }
          ],
          "histogram2dcontour": [
           {
            "colorbar": {
             "outlinewidth": 0,
             "ticks": ""
            },
            "colorscale": [
             [
              0,
              "#0d0887"
             ],
             [
              0.1111111111111111,
              "#46039f"
             ],
             [
              0.2222222222222222,
              "#7201a8"
             ],
             [
              0.3333333333333333,
              "#9c179e"
             ],
             [
              0.4444444444444444,
              "#bd3786"
             ],
             [
              0.5555555555555556,
              "#d8576b"
             ],
             [
              0.6666666666666666,
              "#ed7953"
             ],
             [
              0.7777777777777778,
              "#fb9f3a"
             ],
             [
              0.8888888888888888,
              "#fdca26"
             ],
             [
              1,
              "#f0f921"
             ]
            ],
            "type": "histogram2dcontour"
           }
          ],
          "mesh3d": [
           {
            "colorbar": {
             "outlinewidth": 0,
             "ticks": ""
            },
            "type": "mesh3d"
           }
          ],
          "parcoords": [
           {
            "line": {
             "colorbar": {
              "outlinewidth": 0,
              "ticks": ""
             }
            },
            "type": "parcoords"
           }
          ],
          "pie": [
           {
            "automargin": true,
            "type": "pie"
           }
          ],
          "scatter": [
           {
            "fillpattern": {
             "fillmode": "overlay",
             "size": 10,
             "solidity": 0.2
            },
            "type": "scatter"
           }
          ],
          "scatter3d": [
           {
            "line": {
             "colorbar": {
              "outlinewidth": 0,
              "ticks": ""
             }
            },
            "marker": {
             "colorbar": {
              "outlinewidth": 0,
              "ticks": ""
             }
            },
            "type": "scatter3d"
           }
          ],
          "scattercarpet": [
           {
            "marker": {
             "colorbar": {
              "outlinewidth": 0,
              "ticks": ""
             }
            },
            "type": "scattercarpet"
           }
          ],
          "scattergeo": [
           {
            "marker": {
             "colorbar": {
              "outlinewidth": 0,
              "ticks": ""
             }
            },
            "type": "scattergeo"
           }
          ],
          "scattergl": [
           {
            "marker": {
             "colorbar": {
              "outlinewidth": 0,
              "ticks": ""
             }
            },
            "type": "scattergl"
           }
          ],
          "scattermapbox": [
           {
            "marker": {
             "colorbar": {
              "outlinewidth": 0,
              "ticks": ""
             }
            },
            "type": "scattermapbox"
           }
          ],
          "scatterpolar": [
           {
            "marker": {
             "colorbar": {
              "outlinewidth": 0,
              "ticks": ""
             }
            },
            "type": "scatterpolar"
           }
          ],
          "scatterpolargl": [
           {
            "marker": {
             "colorbar": {
              "outlinewidth": 0,
              "ticks": ""
             }
            },
            "type": "scatterpolargl"
           }
          ],
          "scatterternary": [
           {
            "marker": {
             "colorbar": {
              "outlinewidth": 0,
              "ticks": ""
             }
            },
            "type": "scatterternary"
           }
          ],
          "surface": [
           {
            "colorbar": {
             "outlinewidth": 0,
             "ticks": ""
            },
            "colorscale": [
             [
              0,
              "#0d0887"
             ],
             [
              0.1111111111111111,
              "#46039f"
             ],
             [
              0.2222222222222222,
              "#7201a8"
             ],
             [
              0.3333333333333333,
              "#9c179e"
             ],
             [
              0.4444444444444444,
              "#bd3786"
             ],
             [
              0.5555555555555556,
              "#d8576b"
             ],
             [
              0.6666666666666666,
              "#ed7953"
             ],
             [
              0.7777777777777778,
              "#fb9f3a"
             ],
             [
              0.8888888888888888,
              "#fdca26"
             ],
             [
              1,
              "#f0f921"
             ]
            ],
            "type": "surface"
           }
          ],
          "table": [
           {
            "cells": {
             "fill": {
              "color": "#EBF0F8"
             },
             "line": {
              "color": "white"
             }
            },
            "header": {
             "fill": {
              "color": "#C8D4E3"
             },
             "line": {
              "color": "white"
             }
            },
            "type": "table"
           }
          ]
         },
         "layout": {
          "annotationdefaults": {
           "arrowcolor": "#2a3f5f",
           "arrowhead": 0,
           "arrowwidth": 1
          },
          "autotypenumbers": "strict",
          "coloraxis": {
           "colorbar": {
            "outlinewidth": 0,
            "ticks": ""
           }
          },
          "colorscale": {
           "diverging": [
            [
             0,
             "#8e0152"
            ],
            [
             0.1,
             "#c51b7d"
            ],
            [
             0.2,
             "#de77ae"
            ],
            [
             0.3,
             "#f1b6da"
            ],
            [
             0.4,
             "#fde0ef"
            ],
            [
             0.5,
             "#f7f7f7"
            ],
            [
             0.6,
             "#e6f5d0"
            ],
            [
             0.7,
             "#b8e186"
            ],
            [
             0.8,
             "#7fbc41"
            ],
            [
             0.9,
             "#4d9221"
            ],
            [
             1,
             "#276419"
            ]
           ],
           "sequential": [
            [
             0,
             "#0d0887"
            ],
            [
             0.1111111111111111,
             "#46039f"
            ],
            [
             0.2222222222222222,
             "#7201a8"
            ],
            [
             0.3333333333333333,
             "#9c179e"
            ],
            [
             0.4444444444444444,
             "#bd3786"
            ],
            [
             0.5555555555555556,
             "#d8576b"
            ],
            [
             0.6666666666666666,
             "#ed7953"
            ],
            [
             0.7777777777777778,
             "#fb9f3a"
            ],
            [
             0.8888888888888888,
             "#fdca26"
            ],
            [
             1,
             "#f0f921"
            ]
           ],
           "sequentialminus": [
            [
             0,
             "#0d0887"
            ],
            [
             0.1111111111111111,
             "#46039f"
            ],
            [
             0.2222222222222222,
             "#7201a8"
            ],
            [
             0.3333333333333333,
             "#9c179e"
            ],
            [
             0.4444444444444444,
             "#bd3786"
            ],
            [
             0.5555555555555556,
             "#d8576b"
            ],
            [
             0.6666666666666666,
             "#ed7953"
            ],
            [
             0.7777777777777778,
             "#fb9f3a"
            ],
            [
             0.8888888888888888,
             "#fdca26"
            ],
            [
             1,
             "#f0f921"
            ]
           ]
          },
          "colorway": [
           "#636efa",
           "#EF553B",
           "#00cc96",
           "#ab63fa",
           "#FFA15A",
           "#19d3f3",
           "#FF6692",
           "#B6E880",
           "#FF97FF",
           "#FECB52"
          ],
          "font": {
           "color": "#2a3f5f"
          },
          "geo": {
           "bgcolor": "white",
           "lakecolor": "white",
           "landcolor": "#E5ECF6",
           "showlakes": true,
           "showland": true,
           "subunitcolor": "white"
          },
          "hoverlabel": {
           "align": "left"
          },
          "hovermode": "closest",
          "mapbox": {
           "style": "light"
          },
          "paper_bgcolor": "white",
          "plot_bgcolor": "#E5ECF6",
          "polar": {
           "angularaxis": {
            "gridcolor": "white",
            "linecolor": "white",
            "ticks": ""
           },
           "bgcolor": "#E5ECF6",
           "radialaxis": {
            "gridcolor": "white",
            "linecolor": "white",
            "ticks": ""
           }
          },
          "scene": {
           "xaxis": {
            "backgroundcolor": "#E5ECF6",
            "gridcolor": "white",
            "gridwidth": 2,
            "linecolor": "white",
            "showbackground": true,
            "ticks": "",
            "zerolinecolor": "white"
           },
           "yaxis": {
            "backgroundcolor": "#E5ECF6",
            "gridcolor": "white",
            "gridwidth": 2,
            "linecolor": "white",
            "showbackground": true,
            "ticks": "",
            "zerolinecolor": "white"
           },
           "zaxis": {
            "backgroundcolor": "#E5ECF6",
            "gridcolor": "white",
            "gridwidth": 2,
            "linecolor": "white",
            "showbackground": true,
            "ticks": "",
            "zerolinecolor": "white"
           }
          },
          "shapedefaults": {
           "line": {
            "color": "#2a3f5f"
           }
          },
          "ternary": {
           "aaxis": {
            "gridcolor": "white",
            "linecolor": "white",
            "ticks": ""
           },
           "baxis": {
            "gridcolor": "white",
            "linecolor": "white",
            "ticks": ""
           },
           "bgcolor": "#E5ECF6",
           "caxis": {
            "gridcolor": "white",
            "linecolor": "white",
            "ticks": ""
           }
          },
          "title": {
           "x": 0.05
          },
          "xaxis": {
           "automargin": true,
           "gridcolor": "white",
           "linecolor": "white",
           "ticks": "",
           "title": {
            "standoff": 15
           },
           "zerolinecolor": "white",
           "zerolinewidth": 2
          },
          "yaxis": {
           "automargin": true,
           "gridcolor": "white",
           "linecolor": "white",
           "ticks": "",
           "title": {
            "standoff": 15
           },
           "zerolinecolor": "white",
           "zerolinewidth": 2
          }
         }
        },
        "title": {
         "text": "Real vs. Synthetic Data for column 'expire_flag'"
        },
        "xaxis": {
         "anchor": "y",
         "domain": [
          0,
          1
         ],
         "title": {
          "text": "Category"
         }
        },
        "yaxis": {
         "anchor": "x",
         "domain": [
          0,
          1
         ],
         "title": {
          "text": "Frequency"
         }
        }
       }
      }
     },
     "metadata": {},
     "output_type": "display_data"
    },
    {
     "data": {
      "application/vnd.plotly.v1+json": {
       "config": {
        "plotlyServerURL": "https://plot.ly"
       },
       "data": [
        {
         "fill": "tozeroy",
         "hovertemplate": "<b>Real</b><br>Frequency: %{y}<extra></extra>",
         "legendgroup": "Real",
         "marker": {
          "color": "#000036"
         },
         "mode": "lines",
         "name": "Real",
         "showlegend": true,
         "type": "scatter",
         "x": [
          9,
          12.186,
          15.372,
          18.558,
          21.744,
          24.93,
          28.116,
          31.302,
          34.488,
          37.674,
          40.86,
          44.046,
          47.232,
          50.418,
          53.604,
          56.79,
          59.976,
          63.162,
          66.348,
          69.53399999999999,
          72.72,
          75.906,
          79.092,
          82.278,
          85.464,
          88.65,
          91.836,
          95.022,
          98.208,
          101.394,
          104.58,
          107.766,
          110.952,
          114.138,
          117.324,
          120.51,
          123.696,
          126.882,
          130.06799999999998,
          133.25400000000002,
          136.44,
          139.626,
          142.812,
          145.998,
          149.184,
          152.37,
          155.556,
          158.742,
          161.928,
          165.114,
          168.3,
          171.486,
          174.672,
          177.858,
          181.044,
          184.23,
          187.416,
          190.602,
          193.788,
          196.974,
          200.16,
          203.346,
          206.532,
          209.718,
          212.904,
          216.09,
          219.276,
          222.462,
          225.648,
          228.834,
          232.02,
          235.206,
          238.392,
          241.578,
          244.764,
          247.95,
          251.136,
          254.322,
          257.50800000000004,
          260.69399999999996,
          263.88,
          267.066,
          270.252,
          273.438,
          276.624,
          279.81,
          282.996,
          286.182,
          289.368,
          292.554,
          295.74,
          298.926,
          302.112,
          305.298,
          308.484,
          311.67,
          314.856,
          318.042,
          321.228,
          324.414,
          327.6,
          330.786,
          333.972,
          337.158,
          340.344,
          343.53,
          346.716,
          349.902,
          353.088,
          356.274,
          359.46,
          362.646,
          365.832,
          369.018,
          372.204,
          375.39,
          378.576,
          381.762,
          384.948,
          388.134,
          391.32,
          394.506,
          397.692,
          400.878,
          404.064,
          407.25,
          410.436,
          413.622,
          416.808,
          419.994,
          423.18,
          426.366,
          429.552,
          432.738,
          435.924,
          439.11,
          442.296,
          445.482,
          448.668,
          451.854,
          455.04,
          458.226,
          461.412,
          464.598,
          467.784,
          470.97,
          474.156,
          477.342,
          480.528,
          483.714,
          486.9,
          490.086,
          493.272,
          496.458,
          499.644,
          502.83,
          506.016,
          509.202,
          512.3879999999999,
          515.5740000000001,
          518.76,
          521.946,
          525.132,
          528.318,
          531.504,
          534.69,
          537.876,
          541.062,
          544.248,
          547.434,
          550.62,
          553.806,
          556.992,
          560.178,
          563.364,
          566.55,
          569.736,
          572.922,
          576.108,
          579.294,
          582.48,
          585.666,
          588.852,
          592.038,
          595.224,
          598.41,
          601.596,
          604.782,
          607.968,
          611.154,
          614.34,
          617.526,
          620.712,
          623.898,
          627.084,
          630.27,
          633.456,
          636.642,
          639.828,
          643.014,
          646.2,
          649.386,
          652.572,
          655.758,
          658.944,
          662.13,
          665.316,
          668.502,
          671.688,
          674.874,
          678.06,
          681.246,
          684.432,
          687.618,
          690.804,
          693.99,
          697.176,
          700.362,
          703.548,
          706.734,
          709.92,
          713.106,
          716.292,
          719.478,
          722.664,
          725.85,
          729.036,
          732.222,
          735.408,
          738.594,
          741.78,
          744.966,
          748.152,
          751.338,
          754.524,
          757.71,
          760.896,
          764.082,
          767.268,
          770.454,
          773.64,
          776.826,
          780.012,
          783.198,
          786.384,
          789.57,
          792.756,
          795.942,
          799.128,
          802.314,
          805.5,
          808.686,
          811.872,
          815.058,
          818.244,
          821.43,
          824.616,
          827.802,
          830.988,
          834.174,
          837.36,
          840.546,
          843.732,
          846.918,
          850.104,
          853.29,
          856.476,
          859.662,
          862.848,
          866.034,
          869.22,
          872.406,
          875.592,
          878.778,
          881.964,
          885.15,
          888.336,
          891.522,
          894.708,
          897.894,
          901.08,
          904.266,
          907.452,
          910.638,
          913.824,
          917.01,
          920.196,
          923.382,
          926.568,
          929.754,
          932.94,
          936.126,
          939.312,
          942.498,
          945.684,
          948.87,
          952.056,
          955.242,
          958.428,
          961.614,
          964.8,
          967.986,
          971.172,
          974.358,
          977.544,
          980.73,
          983.916,
          987.102,
          990.288,
          993.474,
          996.66,
          999.846,
          1003.032,
          1006.218,
          1009.404,
          1012.59,
          1015.776,
          1018.962,
          1022.148,
          1025.3339999999998,
          1028.52,
          1031.7060000000001,
          1034.892,
          1038.078,
          1041.264,
          1044.45,
          1047.636,
          1050.822,
          1054.008,
          1057.194,
          1060.38,
          1063.566,
          1066.752,
          1069.938,
          1073.124,
          1076.31,
          1079.496,
          1082.682,
          1085.868,
          1089.054,
          1092.24,
          1095.426,
          1098.612,
          1101.798,
          1104.984,
          1108.17,
          1111.356,
          1114.542,
          1117.728,
          1120.914,
          1124.1,
          1127.286,
          1130.472,
          1133.658,
          1136.844,
          1140.03,
          1143.216,
          1146.402,
          1149.588,
          1152.774,
          1155.96,
          1159.146,
          1162.332,
          1165.518,
          1168.704,
          1171.89,
          1175.076,
          1178.262,
          1181.448,
          1184.634,
          1187.82,
          1191.006,
          1194.192,
          1197.378,
          1200.564,
          1203.75,
          1206.936,
          1210.122,
          1213.308,
          1216.494,
          1219.68,
          1222.866,
          1226.052,
          1229.238,
          1232.424,
          1235.61,
          1238.796,
          1241.982,
          1245.168,
          1248.354,
          1251.54,
          1254.726,
          1257.912,
          1261.098,
          1264.284,
          1267.47,
          1270.656,
          1273.842,
          1277.028,
          1280.214,
          1283.4,
          1286.586,
          1289.772,
          1292.958,
          1296.144,
          1299.33,
          1302.516,
          1305.702,
          1308.888,
          1312.074,
          1315.26,
          1318.446,
          1321.632,
          1324.818,
          1328.004,
          1331.19,
          1334.376,
          1337.562,
          1340.748,
          1343.934,
          1347.12,
          1350.306,
          1353.492,
          1356.678,
          1359.864,
          1363.05,
          1366.236,
          1369.422,
          1372.608,
          1375.794,
          1378.98,
          1382.166,
          1385.352,
          1388.538,
          1391.724,
          1394.91,
          1398.096,
          1401.282,
          1404.468,
          1407.654,
          1410.84,
          1414.026,
          1417.212,
          1420.398,
          1423.584,
          1426.77,
          1429.956,
          1433.142,
          1436.328,
          1439.514,
          1442.7,
          1445.886,
          1449.072,
          1452.258,
          1455.444,
          1458.63,
          1461.816,
          1465.002,
          1468.188,
          1471.374,
          1474.56,
          1477.746,
          1480.932,
          1484.118,
          1487.304,
          1490.49,
          1493.676,
          1496.862,
          1500.048,
          1503.234,
          1506.42,
          1509.606,
          1512.792,
          1515.978,
          1519.164,
          1522.35,
          1525.536,
          1528.722,
          1531.908,
          1535.094,
          1538.28,
          1541.466,
          1544.652,
          1547.838,
          1551.024,
          1554.21,
          1557.396,
          1560.582,
          1563.768,
          1566.954,
          1570.14,
          1573.326,
          1576.512,
          1579.698,
          1582.884,
          1586.07,
          1589.256,
          1592.442,
          1595.628,
          1598.814
         ],
         "xaxis": "x",
         "y": [
          0.0019215231646362815,
          0.00197259052109737,
          0.0020228799265896687,
          0.0020722798465912,
          0.002120680492581273,
          0.002167974352233271,
          0.0022140567106517673,
          0.0022588261586712855,
          0.00230218508430544,
          0.0023440401435467603,
          0.002384302706868246,
          0.0024228892779660687,
          0.0024597218815076588,
          0.002494728416907561,
          0.002527842975443039,
          0.002559006118338849,
          0.002588165113792617,
          0.0026152741312751005,
          0.0026402943918191384,
          0.0026631942734033267,
          0.002683949370936661,
          0.0027025425107543477,
          0.0027189637199381647,
          0.002733210151172537,
          0.0027452859642355604,
          0.0027552021655984677,
          0.002762976407963046,
          0.002768632751900898,
          0.0027722013920675466,
          0.0027737183507448335,
          0.0027732251417144737,
          0.0027707684076813794,
          0.002766399534645529,
          0.0027601742467644364,
          0.002752152185353424,
          0.00274239647573763,
          0.0027309732856976936,
          0.0027179513792409886,
          0.002703401669382765,
          0.0026873967735379315,
          0.002670010575006347,
          0.0026513177938840885,
          0.0026313935705528425,
          0.002610313064692071,
          0.002588151072526593,
          0.0025649816647691052,
          0.0025408778474462312,
          0.002515911247511169,
          0.002490151824849739,
          0.0024636676119828673,
          0.0024365244824610657,
          0.002408785948638454,
          0.002380512989209052,
          0.0023517639065894014,
          0.0023225942139420974,
          0.002293056551357789,
          0.0022632006304506114,
          0.0022330732063768786,
          0.002202718076060714,
          0.002172176101205467,
          0.002141485254487208,
          0.002110680687168001,
          0.0020797948162325805,
          0.0020488574290431294,
          0.002017895803423571,
          0.001986934841026666,
          0.0019559972118043936,
          0.001925103507393734,
          0.0018942724012451153,
          0.0018635208133588402,
          0.0018328640775537553,
          0.001802316109271462,
          0.0017718895720164197,
          0.0017415960406456327,
          0.0017114461598495836,
          0.0016814497963062117,
          0.0016516161831405072,
          0.001621954055481144,
          0.0015924717760706537,
          0.00156317745005485,
          0.0015340790282482644,
          0.001505184398343533,
          0.0014765014637018203,
          0.0014480382095268262,
          0.001419802756384766,
          0.001391803401185595,
          0.0013640486458850738,
          0.001336547214301686,
          0.0013093080575660632,
          0.00128234034883211,
          0.0012556534679780229,
          0.001229256977111,
          0.001203160587761384,
          0.0011773741207098658,
          0.0011519074594352732,
          0.0011267704982003655,
          0.0011019730858092226,
          0.001077524966072661,
          0.0010534357160082615,
          0.0010297146827795407,
          0.00100637092034555,
          0.0009834131267484943,
          0.0009608495829139187,
          0.0009386880937766265,
          0.0009169359324768842,
          0.0008955997882969188,
          0.0008746857189282887,
          0.0008541991075777023,
          0.0008341446253334973,
          0.000814526199128404,
          0.0007953469855476471,
          0.0007766093506459164,
          0.0007583148558534213,
          0.0007404642499710022,
          0.0007230574671781345,
          0.0007060936309063443,
          0.0006895710633648412,
          0.0006734873004456132,
          0.0006578391116824487,
          0.0006426225248925253,
          0.0006278328550909236,
          0.0006134647372375126,
          0.0005995121623524415,
          0.0005859685165207733,
          0.0005728266222984317,
          0.0005600787820304802,
          0.0005477168225982663,
          0.0005357321411239218,
          0.0005241157511784453,
          0.0005128583290626272,
          0.0005019502597577465,
          0.0004913816821746303,
          0.0004811425333646373,
          0.00047122259139362085,
          0.00046161151661932665,
          0.0004522988911532091,
          0.0004432742563285571,
          0.0004345271480375514,
          0.0004260471298396677,
          0.00041782382378213805,
          0.00040984693890946185,
          0.0004021062974726745,
          0.00039459185887985094,
          0.000387293741456769,
          0.0003802022421104785,
          0.00037330785400856544,
          0.00036660128240293945,
          0.00036007345873903616,
          0.00035371555319936246,
          0.0003475189858344369,
          0.00034147543643452344,
          0.0003355768532923469,
          0.0003298154610004625,
          0.00032418376741747047,
          0.00031867456992515424,
          0.00031328096108427367,
          0.00030799633378061653,
          0.0003028143859353769,
          0.00029772912483549735,
          0.00029273487112070227,
          0.00028782626244499513,
          0.00028299825681186243,
          0.0002782461355646773,
          0.0002735655059972481,
          0.000268952303534441,
          0.00026440279341960823,
          0.00025991357183448294,
          0.000255481566368414,
          0.00025110403574753697,
          0.0002467785687307527,
          0.00024250308207834955,
          0.00023827581750070816,
          0.00023409533749874057,
          0.00022996052001447587,
          0.0002258705518193375,
          0.0002218249205789799,
          0.00021782340554689434,
          0.00021386606685403744,
          0.00020995323337823232,
          0.00020608548919474036,
          0.0002022636586278637,
          0.00019848878994237245,
          0.00019476213773264838,
          0.00019108514408631812,
          0.00018745941861752645,
          0.00018388671748249542,
          0.00018036892150639325,
          0.00017690801356546446,
          0.0001735060553816035,
          0.00017016516389791256,
          0.0001668874874129936,
          0.00016367518165872765,
          0.0001605303860108988,
          0.00015745520002420144,
          0.00015445166048285962,
          0.00015152171915531866,
          0.00014866722143626405,
          0.00014588988605167464,
          0.00014319128599284367,
          0.00014057283083345742,
          0.00013803575057007194,
          0.0001355810811109122,
          0.00013320965152103804,
          0.0001309220731138517,
          0.00012871873045990382,
          0.00012659977436430044,
          0.00012456511684395802,
          0.00012261442811582095,
          0.00012074713558719805,
          0.00011896242481987323,
          0.0001172592424208511,
          0.00011563630079476577,
          0.00011409208467631375,
          0.00011262485934577875,
          0.00011123268041698446,
          0.00010991340507494896,
          0.00010866470463027888,
          0.0001074840782489916,
          0.00010636886771004341,
          0.00010531627303841336,
          0.00010432336885910108,
          0.0001033871213168377,
          0.00010250440540758627,
          0.00010167202257093632,
          0.00010088671839715274,
          0.00010014520030877461,
          0.00009944415508411907,
          0.00009878026609863854,
          0.00009815023016962144,
          0.00009755077390003222,
          0.00009697866942810738,
          0.0000964307495005178,
          0.00009590392179821201,
          0.00009539518245531625,
          0.00009490162872247922,
          0.0000944204707366437,
          0.00009394904236925573,
          0.00009348481113423624,
          0.00009302538714553664,
          0.0000925685311216719,
          0.00009211216144122328,
          0.00009165436025886103,
          0.0000911933786959562,
          0.00009072764112332897,
          0.00009025574855614637,
          0.00008977648118249367,
          0.00008928880004777751,
          0.00008879184791696219,
          0.00008828494933581245,
          0.00008776760991093336,
          0.00008723951482660914,
          0.00008670052661437076,
          0.00008615068218903585,
          0.00008559018916279548,
          0.00008501942144692407,
          0.00008443891414899143,
          0.00008384935777219839,
          0.0000832515917227427,
          0.00008264659713105773,
          0.00008203548899343577,
          0.0000814195076419966,
          0.00008080000955325903,
          0.00008017845750869464,
          0.00007955641012462508,
          0.00007893551077359999,
          0.00007831747592492561,
          0.00007770408293823069,
          0.0000770971573507391,
          0.00007649855970617525,
          0.00007591017198080171,
          0.00007533388366984555,
          0.00007477157760534485,
          0.00007422511558406669,
          0.00007369632389145248,
          0.00007318697881434803,
          0.00007269879224141371,
          0.000072233397455415,
          0.00007179233522591405,
          0.00007137704031406997,
          0.00007098882850319981,
          0.00007062888426932724,
          0.00007029824920508965,
          0.00006999781130800846,
          0.0000697282952402327,
          0.00006949025366142299,
          0.00006928405972948066,
          0.00006910990085538681,
          0.00006896777378857523,
          0.00006885748109812051,
          0.0000687786291027043,
          0.00006873062728897692,
          0.00006871268924372205,
          0.00006872383511035013,
          0.00006876289556488976,
          0.0000688285172910212,
          0.00006891916991803244,
          0.00006903315437008365,
          0.00006916861256007711,
          0.00006932353834695282,
          0.00006949578966158615,
          0.00006968310169384203,
          0.0000698831010219374,
          0.00007009332055523366,
          0.00007031121515308338,
          0.00007053417777550103,
          0.0000707595560163294,
          0.0000709846688662832,
          0.00007120682355183846,
          0.00007142333229639117,
          0.00007163152885243533,
          0.00007182878465766215,
          0.00007201252447378892,
          0.00007218024137449513,
          0.00007232951095795783,
          0.00007245800466999353,
          0.00007256350213557203,
          0.00007264390240929202,
          0.00007269723406910397,
          0.00007272166409193616,
          0.00007271550546471243,
          0.0000726772234993327,
          0.00007260544083530911,
          0.00007249894112869773,
          0.00007235667144054043,
          0.00007217774335203178,
          0.00007196143284688016,
          0.00007170717901366284,
          0.0000714145816322437,
          0.00007108339771839135,
          0.00007071353710950063,
          0.00007030505718169655,
          0.00006985815679451809,
          0.00006937316956381019,
          0.00006885055656637244,
          0.00006829089858133286,
          0.00006769488797317015,
          0.00006706332031984306,
          0.00006639708588668158,
          0.00006569716104263537,
          0.00006496459971027571,
          0.00006420052493472571,
          0.00006340612064958185,
          0.0000625826237100416,
          0.00006173131625500405,
          0.000060853518451025866,
          0.00005995058166185184,
          0.00005902388207794363,
          0.000058074814831158926,
          0.000057104788610635006,
          0.00005611522078713403,
          0.00005510753304474411,
          0.000054083147511017876,
          0.00005304348336946375,
          0.000051989953931874776,
          0.000050923964142360845,
          0.00004984690848018623,
          0.000048760169224656254,
          0.00004766511504236026,
          0.000046563099855064235,
          0.00004545546194545358,
          0.00004434352325772293,
          0.00004322858885065639,
          0.000042111946462283584,
          0.00004099486614737892,
          0.00003987859995190236,
          0.00003876438159189611,
          0.00003765342610824816,
          0.00003654692947302217,
          0.00003544606812764067,
          0.00003435199843798781,
          0.000033265856056372295,
          0.00003218875518517601,
          0.00003112178774179562,
          0.000030066022429094944,
          0.0000290225037199355,
          0.00002799225076836402,
          0.000026976256263652463,
          0.000025975485246545685,
          0.0000249908739097287,
          0.00002402332840664351,
          0.000023073723694341284,
          0.000022142902437028556,
          0.000021231673997350326,
          0.000020340813542261933,
          0.000019471061289571285,
          0.000018623121919922045,
          0.000017797664177158614,
          0.000016995320677699217,
          0.000016216687946796103,
          0.0000154623266964233,
          0.000014732762356058782,
          0.000014028485863873135,
          0.000013349954721866208,
          0.000012697594314357219,
          0.000012071799485005232,
          0.000011472936363265353,
          0.000010901344426941701,
          0.000010357338783332382,
          0.000009841212647434117,
          0.000009353239991835688,
          0.00000889367833933356,
          0.000008462771665991146,
          0.000008060753379381099,
          0.000007687849334135382,
          0.00000734428084471087,
          0.00000703026765349261,
          0.0000067460308110239045,
          0.000006491795424291714,
          0.0000062677932286253805,
          0.000006074264938894763,
          0.00000591146233632807,
          0.000005779650048411624,
          0.000005679106980982564,
          0.0000056101273637730956,
          0.0000055730213733025815,
          0.000005568115300126812,
          0.000005595751231023604,
          0.000005656286220699277,
          0.000005750090932015018,
          0.0000058775477285262425,
          0.000006039048208268584,
          0.000006234990173173406,
          0.000006465774034213332,
          0.000006731798658319887,
          0.000007033456669231726,
          0.000007371129220673778,
          0.000007745180266577837,
          0.000008155950359377791,
          0.000008603750013687399,
          0.00000908885267883041,
          0.00000961148736967987,
          0.000010171831011008817,
          0.000010770000555988508,
          0.000011406044944529544,
          0.000012079936971777071,
          0.000012791565141176374,
          0.000013540725580058099,
          0.000014327114098594717,
          0.00001515031847518611,
          0.000016009811052803855,
          0.000016904941731500533,
          0.000017834931442142693,
          0.000018798866185417485,
          0.000019795691718271033,
          0.000020824208967144508,
          0.0000218830702436788,
          0.000022970776333969758,
          0.000024085674526977914,
          0.000025225957641372342,
          0.00002638966410294522,
          0.000027574679116825384,
          0.00002877873697010703,
          0.000029999424491269743,
          0.00003123418568296712,
          0.00003248032753451454,
          0.00003373502700979214,
          0.00003499533919541669,
          0.00003625820658303979,
          0.000037520469448604325,
          0.00003877887728047996,
          0.000040030101197703816,
          0.000041270747289211586,
          0.000042497370795076104,
          0.00004370649104149203,
          0.000044894607032670374,
          0.00004605821359504443,
          0.000047193817962342465,
          0.000048297956684226144,
          0.00004936721273642944,
          0.000050398232706702535,
          0.000051387743928437794,
          0.00005233257143266363,
          0.000053229654589159835,
          0.00005407606330878099,
          0.00005486901368167532,
          0.000055605882929919004,
          0.00005628422355812372,
          0.00005690177659176088,
          0.00005745648380021508,
          0.00005794649880984998,
          0.00005837019702155548,
          0.000058726184257241524,
          0.00005901330407043819,
          0.000059230643667441545,
          0.000059377538397178495,
          0.00005945357478002869,
          0.000059458592058103104,
          0.00005939268226180624,
          0.00005925618879977062,
          0.00005904970359132132,
          0.000058774062772378594,
          0.00005843034101702313,
          0.000058019844527715977,
          0.00005754410275728619,
          0.00005700485893517751,
          0.000056404059478998316,
          0.0000557438423800802,
          0.00005502652465845447,
          0.000054254588988360836,
          0.00005343066960007189
         ],
         "yaxis": "y"
        },
        {
         "fill": "tozeroy",
         "hovertemplate": "<b>Synthetic</b><br>Frequency: %{y}<extra></extra>",
         "legendgroup": "Synthetic",
         "marker": {
          "color": "#01E0C9"
         },
         "mode": "lines",
         "name": "Synthetic",
         "showlegend": true,
         "type": "scatter",
         "x": [
          -274,
          -269.658,
          -265.316,
          -260.974,
          -256.632,
          -252.29,
          -247.948,
          -243.606,
          -239.264,
          -234.922,
          -230.57999999999998,
          -226.238,
          -221.89600000000002,
          -217.554,
          -213.212,
          -208.87,
          -204.52800000000002,
          -200.186,
          -195.844,
          -191.502,
          -187.16,
          -182.81799999999998,
          -178.476,
          -174.13400000000001,
          -169.792,
          -165.45,
          -161.108,
          -156.76600000000002,
          -152.424,
          -148.082,
          -143.74,
          -139.398,
          -135.056,
          -130.714,
          -126.37200000000001,
          -122.03,
          -117.68799999999999,
          -113.346,
          -109.00399999999999,
          -104.662,
          -100.32,
          -95.97800000000001,
          -91.636,
          -87.29400000000001,
          -82.952,
          -78.61000000000001,
          -74.268,
          -69.92599999999999,
          -65.584,
          -61.24199999999999,
          -56.900000000000006,
          -52.55799999999999,
          -48.21600000000001,
          -43.873999999999995,
          -39.53200000000001,
          -35.19,
          -30.848000000000013,
          -26.506,
          -22.163999999999987,
          -17.822000000000003,
          -13.480000000000018,
          -9.137999999999977,
          -4.795999999999992,
          -0.45400000000000773,
          3.887999999999977,
          8.230000000000018,
          12.572000000000003,
          16.913999999999987,
          21.255999999999972,
          25.598000000000013,
          29.939999999999998,
          34.28199999999998,
          38.624000000000024,
          42.96600000000001,
          47.30799999999999,
          51.64999999999998,
          55.99200000000002,
          60.334,
          64.67599999999999,
          69.01799999999997,
          73.36000000000001,
          77.702,
          82.04399999999998,
          86.38600000000002,
          90.72800000000001,
          95.07,
          99.41199999999998,
          103.75400000000002,
          108.096,
          112.43799999999999,
          116.77999999999997,
          121.12200000000001,
          125.464,
          129.80599999999998,
          134.14800000000002,
          138.49,
          142.832,
          147.17399999999998,
          151.51600000000002,
          155.858,
          160.2,
          164.54199999999997,
          168.88400000000001,
          173.226,
          177.56799999999998,
          181.91000000000003,
          186.252,
          190.594,
          194.93599999999998,
          199.27800000000002,
          203.62,
          207.962,
          212.30399999999997,
          216.64600000000002,
          220.988,
          225.32999999999998,
          229.67200000000003,
          234.014,
          238.356,
          242.69799999999998,
          247.03999999999996,
          251.38199999999995,
          255.72400000000005,
          260.06600000000003,
          264.408,
          268.75,
          273.092,
          277.43399999999997,
          281.77599999999995,
          286.11800000000005,
          290.46000000000004,
          294.802,
          299.144,
          303.486,
          307.828,
          312.16999999999996,
          316.51199999999994,
          320.85400000000004,
          325.196,
          329.538,
          333.88,
          338.222,
          342.56399999999996,
          346.90599999999995,
          351.24800000000005,
          355.59000000000003,
          359.932,
          364.274,
          368.616,
          372.95799999999997,
          377.29999999999995,
          381.64200000000005,
          385.98400000000004,
          390.326,
          394.668,
          399.01,
          403.352,
          407.69399999999996,
          412.03599999999994,
          416.37800000000004,
          420.72,
          425.062,
          429.404,
          433.746,
          438.08799999999997,
          442.42999999999995,
          446.77200000000005,
          451.11400000000003,
          455.456,
          459.798,
          464.14,
          468.48199999999997,
          472.82399999999996,
          477.16600000000005,
          481.50800000000004,
          485.85,
          490.192,
          494.534,
          498.876,
          503.21799999999996,
          507.55999999999995,
          511.90200000000004,
          516.244,
          520.586,
          524.928,
          529.27,
          533.612,
          537.954,
          542.296,
          546.638,
          550.98,
          555.322,
          559.664,
          564.006,
          568.348,
          572.69,
          577.032,
          581.374,
          585.716,
          590.058,
          594.4,
          598.742,
          603.084,
          607.426,
          611.768,
          616.11,
          620.452,
          624.794,
          629.136,
          633.478,
          637.82,
          642.162,
          646.504,
          650.846,
          655.188,
          659.53,
          663.872,
          668.214,
          672.556,
          676.898,
          681.24,
          685.582,
          689.924,
          694.266,
          698.608,
          702.95,
          707.292,
          711.634,
          715.976,
          720.318,
          724.66,
          729.002,
          733.344,
          737.686,
          742.028,
          746.37,
          750.712,
          755.0540000000001,
          759.396,
          763.738,
          768.0799999999999,
          772.422,
          776.7639999999999,
          781.106,
          785.4480000000001,
          789.79,
          794.1320000000001,
          798.4739999999999,
          802.816,
          807.1579999999999,
          811.5,
          815.8420000000001,
          820.184,
          824.5260000000001,
          828.8679999999999,
          833.21,
          837.5519999999999,
          841.894,
          846.2360000000001,
          850.578,
          854.9200000000001,
          859.262,
          863.604,
          867.9459999999999,
          872.288,
          876.6300000000001,
          880.972,
          885.3140000000001,
          889.656,
          893.998,
          898.3399999999999,
          902.682,
          907.0239999999999,
          911.366,
          915.7080000000001,
          920.05,
          924.392,
          928.7339999999999,
          933.076,
          937.4179999999999,
          941.76,
          946.1020000000001,
          950.444,
          954.7860000000001,
          959.1279999999999,
          963.47,
          967.8119999999999,
          972.154,
          976.4960000000001,
          980.838,
          985.1800000000001,
          989.5219999999999,
          993.864,
          998.2059999999999,
          1002.548,
          1006.8900000000001,
          1011.232,
          1015.5740000000001,
          1019.9159999999999,
          1024.258,
          1028.6,
          1032.942,
          1037.284,
          1041.626,
          1045.968,
          1050.31,
          1054.652,
          1058.994,
          1063.336,
          1067.678,
          1072.02,
          1076.362,
          1080.704,
          1085.046,
          1089.388,
          1093.73,
          1098.072,
          1102.414,
          1106.756,
          1111.098,
          1115.44,
          1119.782,
          1124.124,
          1128.466,
          1132.808,
          1137.15,
          1141.492,
          1145.834,
          1150.176,
          1154.518,
          1158.86,
          1163.202,
          1167.544,
          1171.886,
          1176.228,
          1180.57,
          1184.912,
          1189.254,
          1193.596,
          1197.938,
          1202.28,
          1206.622,
          1210.964,
          1215.306,
          1219.648,
          1223.99,
          1228.332,
          1232.674,
          1237.016,
          1241.358,
          1245.7,
          1250.042,
          1254.384,
          1258.726,
          1263.068,
          1267.41,
          1271.752,
          1276.094,
          1280.436,
          1284.778,
          1289.12,
          1293.462,
          1297.804,
          1302.146,
          1306.488,
          1310.83,
          1315.172,
          1319.514,
          1323.856,
          1328.198,
          1332.54,
          1336.882,
          1341.224,
          1345.566,
          1349.908,
          1354.25,
          1358.592,
          1362.934,
          1367.276,
          1371.618,
          1375.96,
          1380.302,
          1384.644,
          1388.986,
          1393.328,
          1397.67,
          1402.012,
          1406.354,
          1410.696,
          1415.038,
          1419.38,
          1423.722,
          1428.064,
          1432.406,
          1436.748,
          1441.09,
          1445.432,
          1449.774,
          1454.116,
          1458.458,
          1462.8,
          1467.142,
          1471.484,
          1475.826,
          1480.168,
          1484.51,
          1488.852,
          1493.194,
          1497.536,
          1501.878,
          1506.22,
          1510.562,
          1514.904,
          1519.246,
          1523.588,
          1527.93,
          1532.272,
          1536.614,
          1540.956,
          1545.298,
          1549.64,
          1553.982,
          1558.324,
          1562.666,
          1567.008,
          1571.35,
          1575.692,
          1580.034,
          1584.376,
          1588.718,
          1593.06,
          1597.402,
          1601.744,
          1606.086,
          1610.428,
          1614.77,
          1619.112,
          1623.454,
          1627.796,
          1632.138,
          1636.48,
          1640.822,
          1645.164,
          1649.506,
          1653.848,
          1658.19,
          1662.532,
          1666.874,
          1671.216,
          1675.558,
          1679.9,
          1684.242,
          1688.584,
          1692.926,
          1697.268,
          1701.61,
          1705.952,
          1710.294,
          1714.636,
          1718.978,
          1723.32,
          1727.662,
          1732.004,
          1736.346,
          1740.688,
          1745.03,
          1749.372,
          1753.714,
          1758.056,
          1762.398,
          1766.74,
          1771.082,
          1775.424,
          1779.766,
          1784.1080000000002,
          1788.4499999999998,
          1792.792,
          1797.134,
          1801.476,
          1805.8180000000002,
          1810.1599999999999,
          1814.502,
          1818.844,
          1823.1860000000001,
          1827.5279999999998,
          1831.87,
          1836.212,
          1840.554,
          1844.8960000000002,
          1849.2379999999998,
          1853.58,
          1857.922,
          1862.2640000000001,
          1866.6060000000002,
          1870.9479999999999,
          1875.29,
          1879.632,
          1883.9740000000002,
          1888.3159999999998,
          1892.658
         ],
         "xaxis": "x",
         "y": [
          0.00014218341470361985,
          0.00014804595886292056,
          0.0001541029235172339,
          0.0001603580347325071,
          0.0001668149160446407,
          0.00017347707529642828,
          0.00018034789111229493,
          0.00018743059904227551,
          0.00019472827740977825,
          0.00020224383290076006,
          0.00020997998593497245,
          0.00021793925586290674,
          0.00022612394603495857,
          0.000234536128792106,
          0.00024317763043005985,
          0.0002520500161913511,
          0.0002611545753421697,
          0.0002704923063929177,
          0.00028006390252339884,
          0.0002898697372752848,
          0.00029990985057597175,
          0.000310183935159158,
          0.0003206913234483964,
          0.0003314309749705117,
          0.0003424014643660814,
          0.00035360097006417626,
          0.00036502726368820476,
          0.00037667770025899127,
          0.0003885492092601868,
          0.0004006382866296488,
          0.000412940987738668,
          0.00042545292141871665,
          0.00043816924509288097,
          0.00045108466106619677,
          0.0004641934140258512,
          0.0004774892897985527,
          0.0004909656154083832,
          0.0005046152604741171,
          0.0005184306399803172,
          0.0005324037184515633,
          0.0005465260155538922,
          0.0005607886131420139,
          0.0005751821637650711,
          0.0005896969006377257,
          0.000604322649077169,
          0.0006190488394002708,
          0.0006338645212686378,
          0.0006487583794627214,
          0.0006637187510595016,
          0.0006787336439815745,
          0.0006937907568787999,
          0.000708877500297055,
          0.0007239810190820734,
          0.0007390882159599523,
          0.0007541857762296333,
          0.0007692601934966027,
          0.0007842977963712441,
          0.0007992847760497151,
          0.0008142072146899681,
          0.0008290511144906658,
          0.0008438024273762122,
          0.0008584470851869959,
          0.000872971030270318,
          0.0008873602463642397,
          0.0009016007896639112,
          0.0009156788199577413,
          0.0009295806317191229,
          0.0009432926850383371,
          0.0009568016362787205,
          0.0009700943683412375,
          0.000983158020422227,
          0.00099598001715031,
          0.0010085480969902643,
          0.0010208503398040465,
          0.0010328751934621306,
          0.0010446114994018517,
          0.0010560485170335284,
          0.0010671759468997716,
          0.0010779839524984996,
          0.0010884631806858042,
          0.0010986047805808812,
          0.0011084004209017508,
          0.0011178423056673818,
          0.0011269231882090746,
          0.0011356363834415515,
          0.0011439757783520154,
          0.0011519358406735561,
          0.001159511625717496,
          0.0011666987813477333,
          0.0011734935510885837,
          0.0011798927753662223,
          0.00118589389089234,
          0.0011914949282071214,
          0.0011966945074070685,
          0.0012014918320914492,
          0.001205886681569148,
          0.0012098794013755852,
          0.0012134708921568598,
          0.0012166625969854804,
          0.0012194564871788886,
          0.0012218550466984142,
          0.0012238612552122872,
          0.0012254785699118479,
          0.0012267109061751015,
          0.0012275626171762606,
          0.0012280384725438245,
          0.0012281436361731058,
          0.0012278836433018794,
          0.0012272643769599774,
          0.0012262920439051997,
          0.0012249731501588572,
          0.001223314476254521,
          0.0012213230523133536,
          0.0012190061330583312,
          0.001216371172878299,
          0.001213425801050616,
          0.0012101777972285052,
          0.001206635067296008,
          0.0012028056196897148,
          0.001198697542282205,
          0.0011943189799174104,
          0.0011896781126830161,
          0.0011847831349994522,
          0.0011796422355991381,
          0.0011742635784634384,
          0.0011686552847782377,
          0.001162825415962362,
          0.0011567819578160584,
          0.0011505328058296943,
          0.0011440857516855957,
          0.0011374484709786683,
          0.0011306285121741486,
          0.0011236332868135327,
          0.0011164700609725246,
          0.001109145947967708,
          0.001101667902301719,
          0.0010940427148298515,
          0.0010862770091245413,
          0.001078377239007796,
          0.0010703496872157422,
          0.0010622004651536586,
          0.0010539355136946463,
          0.0010455606049701036,
          0.0010370813450956396,
          0.0010285031777719671,
          0.0010198313886966722,
          0.0010110711107195016,
          0.0010022273296711893,
          0.0009933048907934741,
          0.000984308505696317,
          0.0009752427597670122,
          0.0009661121199550917,
          0.0009569209428567093,
          0.0009476734830223,
          0.0009383739014120516,
          0.000929026273924793,
          0.0009196345999275138,
          0.000910202810714693,
          0.0009007347778290484,
          0.0008912343211780742,
          0.0008817052168839146,
          0.0008721512048075585,
          0.000862575995692188,
          0.0008529832778745107,
          0.0008433767235172808,
          0.000833759994320676,
          0.0008241367466749587,
          0.0008145106362216774,
          0.0008048853217956063,
          0.0007952644687247409,
          0.0007856517514706812,
          0.0007760508555968915,
          0.0007664654790574015,
          0.0007568993328035247,
          0.0007473561407111443,
          0.0007378396388359166,
          0.0007283535740084662,
          0.0007189017017860928,
          0.000709487783781896,
          0.0007001155843962364,
          0.0006907888669793317,
          0.000681511389457335,
          0.0006722868994575257,
          0.0006631191289712117,
          0.0006540117885956044,
          0.00064496856139825,
          0.000635993096449592,
          0.0006270890020708723,
          0.0006182598388458716,
          0.0006095091124459399,
          0.0006008402663183222,
          0.0005922566742880634,
          0.000583761633123629,
          0.000575358355115961,
          0.0005670499607199112,
          0.000558839471305912,
          0.0005507298020683511,
          0.00054272375513547,
          0.0005348240129236415,
          0.0005270331317767306,
          0.0005193535359288031,
          0.0005117875118258428,
          0.0005043372028393454,
          0.0004970046044016803,
          0.0004897915595900366,
          0.00048269975518254433,
          0.00047573071820689733,
          0.0004688858129984331,
          0.0004621662387812532,
          0.00045557302778257477,
          0.0004491070438871158,
          0.00044276898183499093,
          0.0004365593669632975,
          0.0004304785554883997,
          0.00042452673532280064,
          0.00041870392741754964,
          0.00041300998761828787,
          0.00040744460902038124,
          0.0004020073248060858,
          0.0003966975115443918,
          0.00039151439293208447,
          0.0003864570439526448,
          0.00038152439542794793,
          0.00037671523893624125,
          0.0003720282320686378,
          0.0003674619039953652,
          0.0003630146613122084,
          0.00035868479413703576,
          0.00035447048242593797,
          0.00035036980247841733,
          0.0003463807336011111,
          0.0003425011648998495,
          0.0003387289021702992,
          0.0003350616748581108,
          0.00033149714306030095,
          0.00032803290454057067,
          0.0003246665017323714,
          0.0003213954287047628,
          0.0003182171380674439,
          0.00031512904779276875,
          0.00031212854793405854,
          0.00030921300722108974,
          0.00030637977951523276,
          0.0003036262101083507,
          0.00030094964185119487,
          0.0002983474210986774,
          0.00029581690346099586,
          0.0002933554593511756,
          0.0002909604793211112,
          0.0002886293791796571,
          0.0002863596048877298,
          0.0002841486372266783,
          0.0002819939962374336,
          0.00027989324542905785,
          0.0002778439957563746,
          0.0002758439093672593,
          0.00027389070312101865,
          0.0002719821518799723,
          0.0002701160915769672,
          0.0002682904220620444,
          0.00026650310973184754,
          0.00026475218994567387,
          0.00026303576923222377,
          0.00026135202729121525,
          0.00025969921879403314,
          0.00025807567498751323,
          0.0002564798051048172,
          0.0002549100975871629,
          0.00025336512111992195,
          0.00025184352548630163,
          0.00025034404224151535,
          0.00024886548520999786,
          0.0002474067508078741,
          0.00024596681819253973,
          0.0002445447492408703,
          0.00024313968835725162,
          0.00024175086211233768,
          0.00024037757871318266,
          0.00023901922730518076,
          0.00023767527710609446,
          0.00023634527637234084,
          0.00023502885119767436,
          0.00023372570414442897,
          0.00023243561270757393,
          0.00023115842761201784,
          0.00022989407094382936,
          0.0002286425341163552,
          0.00022740387567261438,
          0.00022617821892578836,
          0.00022496574944015808,
          0.00022376671235541936,
          0.00022258140955794533,
          0.00022141019670325919,
          0.00022025348009471085,
          0.000219111713424123,
          0.00021798539438097188,
          0.00021687506113748096,
          0.00021578128871784142,
          0.00021470468526059344,
          0.00021364588818403242,
          0.0002126055602652978,
          0.00021158438564458407,
          0.00021058306576664728,
          0.00020960231527246902,
          0.00020864285785458263,
          0.00020770542209012775,
          0.00020679073726620847,
          0.000205899529212544,
          0.00020503251615673783,
          0.0002041904046177349,
          0.00020337388535318578,
          0.00020258362937647473,
          0.00020182028405912235,
          0.00020108446933410348,
          0.0002003767740153538,
          0.00019969775224836569,
          0.0001990479201062851,
          0.00019842775234534755,
          0.00019783767933279151,
          0.0001972780841596212,
          0.0001967492999497019,
          0.00019625160737572452,
          0.00019578523239153025,
          0.0001953503441891785,
          0.00019494705338797197,
          0.00019457541046142,
          0.00019423540440685518,
          0.00019392696166110706,
          0.00019364994526430672,
          0.0001934041542725494,
          0.0001931893234187947,
          0.0001930051230200314,
          0.00019285115912742482,
          0.0001927269739148491,
          0.00019263204629996206,
          0.0001925657927907607,
          0.00019252756854940865,
          0.00019251666866403728,
          0.00019253232961821573,
          0.00019257373094685627,
          0.0001926399970664867,
          0.00019273019926708057,
          0.00019284335785200134,
          0.00019297844441208342,
          0.00019313438421945546,
          0.0001933100587263984,
          0.00019350430815434665,
          0.0001937159341580522,
          0.00019394370254997528,
          0.00019418634607011405,
          0.00019444256718674025,
          0.00019471104091388477,
          0.00019499041763187825,
          0.0001952793258978286,
          0.00019557637523357434,
          0.00019588015887939242,
          0.0001961892565025779,
          0.00019650223685088231,
          0.00019681766034177338,
          0.00019713408157946425,
          0.00019745005179271292,
          0.00019776412118747082,
          0.00019807484120955296,
          0.00019838076671360876,
          0.0001986804580357876,
          0.00019897248296858497,
          0.00019925541863743636,
          0.0001995278532796713,
          0.00019978838792745132,
          0.00020003563799726826,
          0.00020026823478948337,
          0.00020048482690222165,
          0.00020068408156469268,
          0.00020086468589569198,
          0.0002010253480936276,
          0.0002011647985649207,
          0.00020128179099803133,
          0.00020137510339066834,
          0.00020144353903794553,
          0.00020148592748934994,
          0.0002015011254823831,
          0.000201488017860632,
          0.00020144551848382265,
          0.00020137257113709924,
          0.0002012681504463782,
          0.00020113126280612843,
          0.0002009609473253591,
          0.00020075627679693752,
          0.00020051635869463086,
          0.00020024033620147697,
          0.00019992738927223613,
          0.00019957673573178116,
          0.00019918763241034716,
          0.00019875937631560128,
          0.00019829130584050525,
          0.00019778280200495734,
          0.0001972332897282075,
          0.00019664223912806684,
          0.0001960091668419684,
          0.00019533363736402544,
          0.00019461526439134026,
          0.00019385371217199533,
          0.0001930486968463824,
          0.00019219998777282831,
          0.0001913074088278455,
          0.00019037083967079812,
          0.000189390216962317,
          0.00018836553552543817,
          0.00018729684943818452,
          0.00018618427304614523,
          0.00018502798188356695,
          0.00018382821349151546,
          0.00018258526812183775,
          0.00018129950931592396,
          0.0001799713643476446,
          0.00017860132452031963,
          0.00017718994530816344,
          0.00017573784633332084,
          0.00017424571117038802,
          0.0001727142869711621,
          0.0001711443839033049,
          0.00016953687439761098,
          0.00016789269219964154,
          0.00016621283122261618,
          0.00016449834419962497,
          0.0001627503411344378,
          0.00016096998755142154,
          0.000159158502546335,
          0.00015731715664103575,
          0.00015544726944638344,
          0.0001535502071388857,
          0.00015162737975784322,
          0.00014968023833095118,
          0.0001477102718374562,
          0.00014571900401907424,
          0.00014370799004990222,
          0.00014167881307753982,
          0.00013963308064851983,
          0.00013757242103196887,
          0.0001354984794561389,
          0.00013341291427308496,
          0.00013131739306729642,
          0.00012921358872451956,
          0.00012710317547734036,
          0.0001249878249443123,
          0.00012286920217952652,
          0.0001207489617495314,
          0.00011862874385439638,
          0.00011651017050951357,
          0.00011439484180440899,
          0.00011228433225442659,
          0.00011018018726063154,
          0.00010808391969267295,
          0.00010599700660865581,
          0.00010392088612529016,
          0.0001018569544507383,
          0.00009980656309165266,
          0.00009777101624491664,
          0.00009575156838355589,
          0.00009374942204520442,
          0.00009176572583037985,
          0.00008980157261666193,
          0.00008785799799369193,
          0.00008593597892270823,
          0.00008403643262313392,
          0.00008216021568752714,
          0.00008030812342501209,
          0.0000784808894321377,
          0.0000766791853889478,
          0.0000749036210769402,
          0.00007315474461449577,
          0.00007143304290433462,
          0.00006973894228655467,
          0.00006807280938988763,
          0.00006643495217292985,
          0.00006482562114630167,
          0.00006324501076594691,
          0.0000616932609871277,
          0.00006017045896806569,
          0.00005867664091167953,
          0.000057211794033422406,
          0.00005577585864287106,
          0.000054368730326441404,
          0.000052990262218403904,
          0.000051640267347255804,
          0.00005031852104446421,
          0.00004902476340262996,
          0.00004775870177022681,
          0.000046520013270252,
          0.000045308347330370276,
          0.00004412332821244506,
          0.00004296455752972415,
          0.00004183161674037408,
          0.0000407240696065438,
          0.0000396414646086666,
          0.00003858333730528248,
          0.00003754921262928096,
          0.000036538607112103796,
          0.00003555103102813089,
          0.00003458599045216475
         ],
         "yaxis": "y"
        }
       ],
       "layout": {
        "barmode": "overlay",
        "font": {
         "size": 18
        },
        "hovermode": "closest",
        "legend": {
         "traceorder": "reversed"
        },
        "plot_bgcolor": "#F5F5F8",
        "template": {
         "data": {
          "bar": [
           {
            "error_x": {
             "color": "#2a3f5f"
            },
            "error_y": {
             "color": "#2a3f5f"
            },
            "marker": {
             "line": {
              "color": "#E5ECF6",
              "width": 0.5
             },
             "pattern": {
              "fillmode": "overlay",
              "size": 10,
              "solidity": 0.2
             }
            },
            "type": "bar"
           }
          ],
          "barpolar": [
           {
            "marker": {
             "line": {
              "color": "#E5ECF6",
              "width": 0.5
             },
             "pattern": {
              "fillmode": "overlay",
              "size": 10,
              "solidity": 0.2
             }
            },
            "type": "barpolar"
           }
          ],
          "carpet": [
           {
            "aaxis": {
             "endlinecolor": "#2a3f5f",
             "gridcolor": "white",
             "linecolor": "white",
             "minorgridcolor": "white",
             "startlinecolor": "#2a3f5f"
            },
            "baxis": {
             "endlinecolor": "#2a3f5f",
             "gridcolor": "white",
             "linecolor": "white",
             "minorgridcolor": "white",
             "startlinecolor": "#2a3f5f"
            },
            "type": "carpet"
           }
          ],
          "choropleth": [
           {
            "colorbar": {
             "outlinewidth": 0,
             "ticks": ""
            },
            "type": "choropleth"
           }
          ],
          "contour": [
           {
            "colorbar": {
             "outlinewidth": 0,
             "ticks": ""
            },
            "colorscale": [
             [
              0,
              "#0d0887"
             ],
             [
              0.1111111111111111,
              "#46039f"
             ],
             [
              0.2222222222222222,
              "#7201a8"
             ],
             [
              0.3333333333333333,
              "#9c179e"
             ],
             [
              0.4444444444444444,
              "#bd3786"
             ],
             [
              0.5555555555555556,
              "#d8576b"
             ],
             [
              0.6666666666666666,
              "#ed7953"
             ],
             [
              0.7777777777777778,
              "#fb9f3a"
             ],
             [
              0.8888888888888888,
              "#fdca26"
             ],
             [
              1,
              "#f0f921"
             ]
            ],
            "type": "contour"
           }
          ],
          "contourcarpet": [
           {
            "colorbar": {
             "outlinewidth": 0,
             "ticks": ""
            },
            "type": "contourcarpet"
           }
          ],
          "heatmap": [
           {
            "colorbar": {
             "outlinewidth": 0,
             "ticks": ""
            },
            "colorscale": [
             [
              0,
              "#0d0887"
             ],
             [
              0.1111111111111111,
              "#46039f"
             ],
             [
              0.2222222222222222,
              "#7201a8"
             ],
             [
              0.3333333333333333,
              "#9c179e"
             ],
             [
              0.4444444444444444,
              "#bd3786"
             ],
             [
              0.5555555555555556,
              "#d8576b"
             ],
             [
              0.6666666666666666,
              "#ed7953"
             ],
             [
              0.7777777777777778,
              "#fb9f3a"
             ],
             [
              0.8888888888888888,
              "#fdca26"
             ],
             [
              1,
              "#f0f921"
             ]
            ],
            "type": "heatmap"
           }
          ],
          "heatmapgl": [
           {
            "colorbar": {
             "outlinewidth": 0,
             "ticks": ""
            },
            "colorscale": [
             [
              0,
              "#0d0887"
             ],
             [
              0.1111111111111111,
              "#46039f"
             ],
             [
              0.2222222222222222,
              "#7201a8"
             ],
             [
              0.3333333333333333,
              "#9c179e"
             ],
             [
              0.4444444444444444,
              "#bd3786"
             ],
             [
              0.5555555555555556,
              "#d8576b"
             ],
             [
              0.6666666666666666,
              "#ed7953"
             ],
             [
              0.7777777777777778,
              "#fb9f3a"
             ],
             [
              0.8888888888888888,
              "#fdca26"
             ],
             [
              1,
              "#f0f921"
             ]
            ],
            "type": "heatmapgl"
           }
          ],
          "histogram": [
           {
            "marker": {
             "pattern": {
              "fillmode": "overlay",
              "size": 10,
              "solidity": 0.2
             }
            },
            "type": "histogram"
           }
          ],
          "histogram2d": [
           {
            "colorbar": {
             "outlinewidth": 0,
             "ticks": ""
            },
            "colorscale": [
             [
              0,
              "#0d0887"
             ],
             [
              0.1111111111111111,
              "#46039f"
             ],
             [
              0.2222222222222222,
              "#7201a8"
             ],
             [
              0.3333333333333333,
              "#9c179e"
             ],
             [
              0.4444444444444444,
              "#bd3786"
             ],
             [
              0.5555555555555556,
              "#d8576b"
             ],
             [
              0.6666666666666666,
              "#ed7953"
             ],
             [
              0.7777777777777778,
              "#fb9f3a"
             ],
             [
              0.8888888888888888,
              "#fdca26"
             ],
             [
              1,
              "#f0f921"
             ]
            ],
            "type": "histogram2d"
           }
          ],
          "histogram2dcontour": [
           {
            "colorbar": {
             "outlinewidth": 0,
             "ticks": ""
            },
            "colorscale": [
             [
              0,
              "#0d0887"
             ],
             [
              0.1111111111111111,
              "#46039f"
             ],
             [
              0.2222222222222222,
              "#7201a8"
             ],
             [
              0.3333333333333333,
              "#9c179e"
             ],
             [
              0.4444444444444444,
              "#bd3786"
             ],
             [
              0.5555555555555556,
              "#d8576b"
             ],
             [
              0.6666666666666666,
              "#ed7953"
             ],
             [
              0.7777777777777778,
              "#fb9f3a"
             ],
             [
              0.8888888888888888,
              "#fdca26"
             ],
             [
              1,
              "#f0f921"
             ]
            ],
            "type": "histogram2dcontour"
           }
          ],
          "mesh3d": [
           {
            "colorbar": {
             "outlinewidth": 0,
             "ticks": ""
            },
            "type": "mesh3d"
           }
          ],
          "parcoords": [
           {
            "line": {
             "colorbar": {
              "outlinewidth": 0,
              "ticks": ""
             }
            },
            "type": "parcoords"
           }
          ],
          "pie": [
           {
            "automargin": true,
            "type": "pie"
           }
          ],
          "scatter": [
           {
            "fillpattern": {
             "fillmode": "overlay",
             "size": 10,
             "solidity": 0.2
            },
            "type": "scatter"
           }
          ],
          "scatter3d": [
           {
            "line": {
             "colorbar": {
              "outlinewidth": 0,
              "ticks": ""
             }
            },
            "marker": {
             "colorbar": {
              "outlinewidth": 0,
              "ticks": ""
             }
            },
            "type": "scatter3d"
           }
          ],
          "scattercarpet": [
           {
            "marker": {
             "colorbar": {
              "outlinewidth": 0,
              "ticks": ""
             }
            },
            "type": "scattercarpet"
           }
          ],
          "scattergeo": [
           {
            "marker": {
             "colorbar": {
              "outlinewidth": 0,
              "ticks": ""
             }
            },
            "type": "scattergeo"
           }
          ],
          "scattergl": [
           {
            "marker": {
             "colorbar": {
              "outlinewidth": 0,
              "ticks": ""
             }
            },
            "type": "scattergl"
           }
          ],
          "scattermapbox": [
           {
            "marker": {
             "colorbar": {
              "outlinewidth": 0,
              "ticks": ""
             }
            },
            "type": "scattermapbox"
           }
          ],
          "scatterpolar": [
           {
            "marker": {
             "colorbar": {
              "outlinewidth": 0,
              "ticks": ""
             }
            },
            "type": "scatterpolar"
           }
          ],
          "scatterpolargl": [
           {
            "marker": {
             "colorbar": {
              "outlinewidth": 0,
              "ticks": ""
             }
            },
            "type": "scatterpolargl"
           }
          ],
          "scatterternary": [
           {
            "marker": {
             "colorbar": {
              "outlinewidth": 0,
              "ticks": ""
             }
            },
            "type": "scatterternary"
           }
          ],
          "surface": [
           {
            "colorbar": {
             "outlinewidth": 0,
             "ticks": ""
            },
            "colorscale": [
             [
              0,
              "#0d0887"
             ],
             [
              0.1111111111111111,
              "#46039f"
             ],
             [
              0.2222222222222222,
              "#7201a8"
             ],
             [
              0.3333333333333333,
              "#9c179e"
             ],
             [
              0.4444444444444444,
              "#bd3786"
             ],
             [
              0.5555555555555556,
              "#d8576b"
             ],
             [
              0.6666666666666666,
              "#ed7953"
             ],
             [
              0.7777777777777778,
              "#fb9f3a"
             ],
             [
              0.8888888888888888,
              "#fdca26"
             ],
             [
              1,
              "#f0f921"
             ]
            ],
            "type": "surface"
           }
          ],
          "table": [
           {
            "cells": {
             "fill": {
              "color": "#EBF0F8"
             },
             "line": {
              "color": "white"
             }
            },
            "header": {
             "fill": {
              "color": "#C8D4E3"
             },
             "line": {
              "color": "white"
             }
            },
            "type": "table"
           }
          ]
         },
         "layout": {
          "annotationdefaults": {
           "arrowcolor": "#2a3f5f",
           "arrowhead": 0,
           "arrowwidth": 1
          },
          "autotypenumbers": "strict",
          "coloraxis": {
           "colorbar": {
            "outlinewidth": 0,
            "ticks": ""
           }
          },
          "colorscale": {
           "diverging": [
            [
             0,
             "#8e0152"
            ],
            [
             0.1,
             "#c51b7d"
            ],
            [
             0.2,
             "#de77ae"
            ],
            [
             0.3,
             "#f1b6da"
            ],
            [
             0.4,
             "#fde0ef"
            ],
            [
             0.5,
             "#f7f7f7"
            ],
            [
             0.6,
             "#e6f5d0"
            ],
            [
             0.7,
             "#b8e186"
            ],
            [
             0.8,
             "#7fbc41"
            ],
            [
             0.9,
             "#4d9221"
            ],
            [
             1,
             "#276419"
            ]
           ],
           "sequential": [
            [
             0,
             "#0d0887"
            ],
            [
             0.1111111111111111,
             "#46039f"
            ],
            [
             0.2222222222222222,
             "#7201a8"
            ],
            [
             0.3333333333333333,
             "#9c179e"
            ],
            [
             0.4444444444444444,
             "#bd3786"
            ],
            [
             0.5555555555555556,
             "#d8576b"
            ],
            [
             0.6666666666666666,
             "#ed7953"
            ],
            [
             0.7777777777777778,
             "#fb9f3a"
            ],
            [
             0.8888888888888888,
             "#fdca26"
            ],
            [
             1,
             "#f0f921"
            ]
           ],
           "sequentialminus": [
            [
             0,
             "#0d0887"
            ],
            [
             0.1111111111111111,
             "#46039f"
            ],
            [
             0.2222222222222222,
             "#7201a8"
            ],
            [
             0.3333333333333333,
             "#9c179e"
            ],
            [
             0.4444444444444444,
             "#bd3786"
            ],
            [
             0.5555555555555556,
             "#d8576b"
            ],
            [
             0.6666666666666666,
             "#ed7953"
            ],
            [
             0.7777777777777778,
             "#fb9f3a"
            ],
            [
             0.8888888888888888,
             "#fdca26"
            ],
            [
             1,
             "#f0f921"
            ]
           ]
          },
          "colorway": [
           "#636efa",
           "#EF553B",
           "#00cc96",
           "#ab63fa",
           "#FFA15A",
           "#19d3f3",
           "#FF6692",
           "#B6E880",
           "#FF97FF",
           "#FECB52"
          ],
          "font": {
           "color": "#2a3f5f"
          },
          "geo": {
           "bgcolor": "white",
           "lakecolor": "white",
           "landcolor": "#E5ECF6",
           "showlakes": true,
           "showland": true,
           "subunitcolor": "white"
          },
          "hoverlabel": {
           "align": "left"
          },
          "hovermode": "closest",
          "mapbox": {
           "style": "light"
          },
          "paper_bgcolor": "white",
          "plot_bgcolor": "#E5ECF6",
          "polar": {
           "angularaxis": {
            "gridcolor": "white",
            "linecolor": "white",
            "ticks": ""
           },
           "bgcolor": "#E5ECF6",
           "radialaxis": {
            "gridcolor": "white",
            "linecolor": "white",
            "ticks": ""
           }
          },
          "scene": {
           "xaxis": {
            "backgroundcolor": "#E5ECF6",
            "gridcolor": "white",
            "gridwidth": 2,
            "linecolor": "white",
            "showbackground": true,
            "ticks": "",
            "zerolinecolor": "white"
           },
           "yaxis": {
            "backgroundcolor": "#E5ECF6",
            "gridcolor": "white",
            "gridwidth": 2,
            "linecolor": "white",
            "showbackground": true,
            "ticks": "",
            "zerolinecolor": "white"
           },
           "zaxis": {
            "backgroundcolor": "#E5ECF6",
            "gridcolor": "white",
            "gridwidth": 2,
            "linecolor": "white",
            "showbackground": true,
            "ticks": "",
            "zerolinecolor": "white"
           }
          },
          "shapedefaults": {
           "line": {
            "color": "#2a3f5f"
           }
          },
          "ternary": {
           "aaxis": {
            "gridcolor": "white",
            "linecolor": "white",
            "ticks": ""
           },
           "baxis": {
            "gridcolor": "white",
            "linecolor": "white",
            "ticks": ""
           },
           "bgcolor": "#E5ECF6",
           "caxis": {
            "gridcolor": "white",
            "linecolor": "white",
            "ticks": ""
           }
          },
          "title": {
           "x": 0.05
          },
          "xaxis": {
           "automargin": true,
           "gridcolor": "white",
           "linecolor": "white",
           "ticks": "",
           "title": {
            "standoff": 15
           },
           "zerolinecolor": "white",
           "zerolinewidth": 2
          },
          "yaxis": {
           "automargin": true,
           "gridcolor": "white",
           "linecolor": "white",
           "ticks": "",
           "title": {
            "standoff": 15
           },
           "zerolinecolor": "white",
           "zerolinewidth": 2
          }
         }
        },
        "title": {
         "text": "Real vs. Synthetic Data for column 'hospital_stay_hours'"
        },
        "xaxis": {
         "anchor": "y2",
         "domain": [
          0,
          1
         ],
         "title": {
          "text": "Value"
         },
         "zeroline": false
        },
        "yaxis": {
         "anchor": "free",
         "domain": [
          0,
          1
         ],
         "position": 0,
         "title": {
          "text": "Frequency"
         }
        }
       }
      }
     },
     "metadata": {},
     "output_type": "display_data"
    }
   ],
   "source": [
    "for column in real_data.columns:\n",
    "    # Generate the plot for the current column\n",
    "    fig = get_column_plot(\n",
    "        real_data=real_data,\n",
    "        synthetic_data=synthetic_data,\n",
    "        column_name=column,\n",
    "        metadata=metadata\n",
    "    )\n",
    "    \n",
    "    fig.show()"
   ]
  },
  {
   "cell_type": "code",
   "execution_count": 60,
   "metadata": {},
   "outputs": [
    {
     "data": {
      "application/vnd.plotly.v1+json": {
       "config": {
        "plotlyServerURL": "https://plot.ly"
       },
       "data": [
        {
         "alignmentgroup": "True",
         "hovertemplate": "Data=Real<br>gender=%{x}<br>age=%{y}<extra></extra>",
         "legendgroup": "Real",
         "marker": {
          "color": "#000036"
         },
         "name": "Real",
         "notched": false,
         "offsetgroup": "Real",
         "orientation": "v",
         "showlegend": true,
         "type": "box",
         "x": [
          "M",
          "F",
          "F",
          "M",
          "M",
          "M",
          "F",
          "M",
          "F",
          "F",
          "F",
          "F",
          "M",
          "M",
          "M",
          "F",
          "M",
          "F",
          "M",
          "M",
          "F",
          "M",
          "M",
          "F",
          "F",
          "M",
          "M",
          "F",
          "F",
          "F",
          "F",
          "M",
          "M",
          "F",
          "M",
          "M",
          "M",
          "M",
          "M",
          "M",
          "M",
          "M",
          "F",
          "F",
          "M",
          "M",
          "F",
          "M",
          "M",
          "M",
          "F",
          "M",
          "M",
          "M",
          "M",
          "M",
          "M",
          "F",
          "M",
          "M",
          "M",
          "F",
          "M",
          "F",
          "F",
          "F",
          "M",
          "F",
          "M",
          "F",
          "M",
          "F",
          "F",
          "M",
          "F",
          "M",
          "M",
          "M",
          "F",
          "M",
          "F",
          "M",
          "M",
          "F",
          "F",
          "F",
          "F",
          "F",
          "F",
          "M",
          "F",
          "F",
          "M",
          "M",
          "M",
          "F",
          "F",
          "F",
          "M",
          "M",
          "F",
          "M",
          "F",
          "M",
          "F",
          "F",
          "F",
          "F",
          "F",
          "F",
          "F",
          "M",
          "M",
          "F",
          "F",
          "M",
          "F",
          "M",
          "M",
          "M",
          "F",
          "F",
          "M",
          "M",
          "M",
          "F",
          "M",
          "M",
          "M",
          "M",
          "F",
          "M",
          "F",
          "F",
          "M",
          "M",
          "F",
          "F",
          "F",
          "F",
          "F",
          "F",
          "F",
          "F",
          "F",
          "F",
          "F",
          "F",
          "F",
          "F",
          "F",
          "F",
          "F",
          "F",
          "M",
          "F",
          "F",
          "F",
          "M",
          "F",
          "M",
          "F",
          "F",
          "F",
          "M",
          "F",
          "M",
          "F",
          "M",
          "M",
          "F",
          "F",
          "F",
          "F",
          "F",
          "M",
          "M",
          "M",
          "F",
          "F",
          "F",
          "M",
          "F",
          "F",
          "M",
          "M",
          "M",
          "M",
          "M",
          "M",
          "M",
          "F",
          "F",
          "F",
          "M",
          "M",
          "M",
          "M",
          "F",
          "F",
          "F",
          "M",
          "F",
          "F",
          "F",
          "F",
          "M",
          "M",
          "M",
          "M",
          "M",
          "F",
          "F",
          "F",
          "M",
          "M",
          "F",
          "M",
          "F"
         ],
         "x0": " ",
         "xaxis": "x",
         "y": [
          56,
          86,
          73,
          50,
          32,
          54,
          47,
          56,
          48,
          42,
          51,
          45,
          63,
          59,
          38,
          72,
          63,
          50,
          21,
          35,
          42,
          50,
          50,
          55,
          57,
          19,
          46,
          39,
          21,
          22,
          22,
          58,
          54,
          88,
          58,
          65,
          75,
          66,
          35,
          43,
          45,
          46,
          84,
          32,
          300,
          63,
          87,
          75,
          19,
          51,
          76,
          53,
          43,
          84,
          28,
          49,
          40,
          50,
          47,
          47,
          48,
          74,
          64,
          29,
          52,
          27,
          46,
          31,
          22,
          60,
          73,
          21,
          57,
          68,
          65,
          63,
          22,
          62,
          24,
          62,
          20,
          36,
          64,
          60,
          61,
          62,
          62,
          62,
          63,
          39,
          49,
          50,
          35,
          36,
          38,
          35,
          35,
          44,
          53,
          39,
          51,
          66,
          83,
          48,
          39,
          47,
          20,
          23,
          62,
          62,
          62,
          68,
          84,
          24,
          27,
          47,
          69,
          50,
          51,
          52,
          61,
          61,
          41,
          66,
          68,
          22,
          59,
          58,
          25,
          76,
          42,
          50,
          65,
          63,
          44,
          29,
          32,
          34,
          34,
          34,
          34,
          34,
          35,
          35,
          35,
          35,
          36,
          36,
          36,
          36,
          36,
          36,
          43,
          78,
          39,
          43,
          43,
          44,
          68,
          84,
          71,
          69,
          24,
          39,
          38,
          41,
          71,
          64,
          71,
          84,
          20,
          20,
          21,
          55,
          19,
          56,
          56,
          59,
          42,
          42,
          43,
          31,
          67,
          67,
          40,
          45,
          47,
          47,
          48,
          63,
          25,
          57,
          21,
          59,
          45,
          84,
          70,
          63,
          49,
          85,
          36,
          63,
          28,
          28,
          28,
          56,
          70,
          66,
          50,
          70,
          35,
          24,
          61,
          64,
          74,
          54,
          54,
          65,
          77
         ],
         "y0": " ",
         "yaxis": "y"
        },
        {
         "alignmentgroup": "True",
         "hovertemplate": "Data=Synthetic<br>gender=%{x}<br>age=%{y}<extra></extra>",
         "legendgroup": "Synthetic",
         "marker": {
          "color": "#01E0C9"
         },
         "name": "Synthetic",
         "notched": false,
         "offsetgroup": "Synthetic",
         "orientation": "v",
         "showlegend": true,
         "type": "box",
         "x": [
          "M",
          "M",
          "M",
          "M",
          "M",
          "M",
          "F",
          "M",
          "F",
          "F",
          "F",
          "F",
          "M",
          "M",
          "F",
          "M",
          "F",
          "F",
          "F",
          "M",
          "F",
          "M",
          "M",
          "M",
          "F",
          "M",
          "M",
          "M",
          "M",
          "M",
          "M",
          "M",
          "M",
          "M",
          "F",
          "F",
          "M",
          "M",
          "F",
          "M",
          "F",
          "M",
          "M",
          "M",
          "F",
          "M",
          "F",
          "F",
          "M",
          "M",
          "M",
          "M",
          "M",
          "M",
          "M",
          "F",
          "M",
          "M",
          "M",
          "M",
          "M",
          "M",
          "M",
          "F",
          "M",
          "F",
          "F",
          "M",
          "M",
          "F",
          "F",
          "M",
          "M",
          "M",
          "M",
          "F",
          "M",
          "M",
          "M",
          "M",
          "M",
          "F",
          "M",
          "M",
          "M",
          "M",
          "F",
          "M",
          "M",
          "M",
          "F",
          "M",
          "M",
          "M",
          "M",
          "M",
          "F",
          "F",
          "M",
          "M",
          "F",
          "M",
          "M",
          "F",
          "M",
          "M",
          "M",
          "M",
          "F",
          "M",
          "M",
          "M",
          "M",
          "M",
          "F",
          "M",
          "M",
          "M",
          "M",
          "M",
          "M",
          "M",
          "M",
          "M",
          "M",
          "M",
          "M",
          "M",
          "M",
          "F",
          "F",
          "M",
          "F",
          "M",
          "F",
          "M",
          "F",
          "M",
          "M",
          "M",
          "F",
          "M",
          "M",
          "F",
          "F",
          "M",
          "M",
          "M",
          "M",
          "M",
          "M",
          "M",
          "M",
          "M",
          "M",
          "M",
          "M",
          "M",
          "F",
          "M",
          "M",
          "M",
          "M",
          "M",
          "M",
          "F",
          "F",
          "M",
          "F",
          "M",
          "M",
          "M",
          "M",
          "M",
          "M",
          "F",
          "M",
          "M",
          "M",
          "F",
          "M",
          "M",
          "F",
          "M",
          "F",
          "M",
          "M",
          "M",
          "M",
          "M",
          "M",
          "M",
          "M",
          "M",
          "M",
          "M",
          "M",
          "F",
          "F",
          "M"
         ],
         "x0": " ",
         "xaxis": "x",
         "y": [
          -257,
          152,
          109,
          75,
          51,
          39,
          57,
          65,
          221,
          13,
          -38,
          65,
          41,
          106,
          269,
          87,
          25,
          67,
          102,
          49,
          39,
          308,
          77,
          277,
          124,
          2,
          73,
          19,
          19,
          69,
          72,
          70,
          24,
          41,
          180,
          42,
          59,
          206,
          45,
          74,
          28,
          24,
          79,
          56,
          67,
          34,
          -27,
          150,
          85,
          -2,
          19,
          81,
          298,
          81,
          92,
          74,
          363,
          47,
          43,
          17,
          40,
          444,
          -21,
          -169,
          128,
          372,
          149,
          75,
          71,
          84,
          133,
          7,
          0,
          66,
          -48,
          364,
          11,
          14,
          69,
          73,
          16,
          275,
          28,
          39,
          163,
          249,
          19,
          -18,
          60,
          20,
          48,
          28,
          45,
          48,
          203,
          143,
          45,
          -16,
          11,
          467,
          257,
          77,
          71,
          96,
          94,
          67,
          191,
          1,
          327,
          29,
          13,
          261,
          68,
          -44,
          43,
          129,
          0,
          69,
          60,
          44,
          122,
          -224,
          216,
          45,
          320,
          242,
          69,
          21,
          52,
          34,
          25,
          46,
          28,
          25,
          56,
          88,
          35,
          8,
          149,
          73,
          203,
          10,
          325,
          50,
          -50,
          -64,
          49,
          289,
          54,
          448,
          64,
          217,
          189,
          10,
          288,
          51,
          27,
          -101,
          269,
          66,
          83,
          82,
          27,
          84,
          21,
          50,
          58,
          208,
          -112,
          114,
          42,
          318,
          13,
          221,
          171,
          24,
          56,
          232,
          304,
          159,
          -55,
          340,
          175,
          55,
          96,
          452,
          -26,
          146,
          26,
          299,
          52,
          86,
          244,
          49,
          138,
          413,
          172,
          4,
          60,
          110
         ],
         "y0": " ",
         "yaxis": "y"
        }
       ],
       "layout": {
        "boxmode": "group",
        "font": {
         "size": 18
        },
        "legend": {
         "title": {
          "text": "Data"
         },
         "tracegroupgap": 0
        },
        "margin": {
         "t": 60
        },
        "plot_bgcolor": "#F5F5F8",
        "template": {
         "data": {
          "bar": [
           {
            "error_x": {
             "color": "#2a3f5f"
            },
            "error_y": {
             "color": "#2a3f5f"
            },
            "marker": {
             "line": {
              "color": "#E5ECF6",
              "width": 0.5
             },
             "pattern": {
              "fillmode": "overlay",
              "size": 10,
              "solidity": 0.2
             }
            },
            "type": "bar"
           }
          ],
          "barpolar": [
           {
            "marker": {
             "line": {
              "color": "#E5ECF6",
              "width": 0.5
             },
             "pattern": {
              "fillmode": "overlay",
              "size": 10,
              "solidity": 0.2
             }
            },
            "type": "barpolar"
           }
          ],
          "carpet": [
           {
            "aaxis": {
             "endlinecolor": "#2a3f5f",
             "gridcolor": "white",
             "linecolor": "white",
             "minorgridcolor": "white",
             "startlinecolor": "#2a3f5f"
            },
            "baxis": {
             "endlinecolor": "#2a3f5f",
             "gridcolor": "white",
             "linecolor": "white",
             "minorgridcolor": "white",
             "startlinecolor": "#2a3f5f"
            },
            "type": "carpet"
           }
          ],
          "choropleth": [
           {
            "colorbar": {
             "outlinewidth": 0,
             "ticks": ""
            },
            "type": "choropleth"
           }
          ],
          "contour": [
           {
            "colorbar": {
             "outlinewidth": 0,
             "ticks": ""
            },
            "colorscale": [
             [
              0,
              "#0d0887"
             ],
             [
              0.1111111111111111,
              "#46039f"
             ],
             [
              0.2222222222222222,
              "#7201a8"
             ],
             [
              0.3333333333333333,
              "#9c179e"
             ],
             [
              0.4444444444444444,
              "#bd3786"
             ],
             [
              0.5555555555555556,
              "#d8576b"
             ],
             [
              0.6666666666666666,
              "#ed7953"
             ],
             [
              0.7777777777777778,
              "#fb9f3a"
             ],
             [
              0.8888888888888888,
              "#fdca26"
             ],
             [
              1,
              "#f0f921"
             ]
            ],
            "type": "contour"
           }
          ],
          "contourcarpet": [
           {
            "colorbar": {
             "outlinewidth": 0,
             "ticks": ""
            },
            "type": "contourcarpet"
           }
          ],
          "heatmap": [
           {
            "colorbar": {
             "outlinewidth": 0,
             "ticks": ""
            },
            "colorscale": [
             [
              0,
              "#0d0887"
             ],
             [
              0.1111111111111111,
              "#46039f"
             ],
             [
              0.2222222222222222,
              "#7201a8"
             ],
             [
              0.3333333333333333,
              "#9c179e"
             ],
             [
              0.4444444444444444,
              "#bd3786"
             ],
             [
              0.5555555555555556,
              "#d8576b"
             ],
             [
              0.6666666666666666,
              "#ed7953"
             ],
             [
              0.7777777777777778,
              "#fb9f3a"
             ],
             [
              0.8888888888888888,
              "#fdca26"
             ],
             [
              1,
              "#f0f921"
             ]
            ],
            "type": "heatmap"
           }
          ],
          "heatmapgl": [
           {
            "colorbar": {
             "outlinewidth": 0,
             "ticks": ""
            },
            "colorscale": [
             [
              0,
              "#0d0887"
             ],
             [
              0.1111111111111111,
              "#46039f"
             ],
             [
              0.2222222222222222,
              "#7201a8"
             ],
             [
              0.3333333333333333,
              "#9c179e"
             ],
             [
              0.4444444444444444,
              "#bd3786"
             ],
             [
              0.5555555555555556,
              "#d8576b"
             ],
             [
              0.6666666666666666,
              "#ed7953"
             ],
             [
              0.7777777777777778,
              "#fb9f3a"
             ],
             [
              0.8888888888888888,
              "#fdca26"
             ],
             [
              1,
              "#f0f921"
             ]
            ],
            "type": "heatmapgl"
           }
          ],
          "histogram": [
           {
            "marker": {
             "pattern": {
              "fillmode": "overlay",
              "size": 10,
              "solidity": 0.2
             }
            },
            "type": "histogram"
           }
          ],
          "histogram2d": [
           {
            "colorbar": {
             "outlinewidth": 0,
             "ticks": ""
            },
            "colorscale": [
             [
              0,
              "#0d0887"
             ],
             [
              0.1111111111111111,
              "#46039f"
             ],
             [
              0.2222222222222222,
              "#7201a8"
             ],
             [
              0.3333333333333333,
              "#9c179e"
             ],
             [
              0.4444444444444444,
              "#bd3786"
             ],
             [
              0.5555555555555556,
              "#d8576b"
             ],
             [
              0.6666666666666666,
              "#ed7953"
             ],
             [
              0.7777777777777778,
              "#fb9f3a"
             ],
             [
              0.8888888888888888,
              "#fdca26"
             ],
             [
              1,
              "#f0f921"
             ]
            ],
            "type": "histogram2d"
           }
          ],
          "histogram2dcontour": [
           {
            "colorbar": {
             "outlinewidth": 0,
             "ticks": ""
            },
            "colorscale": [
             [
              0,
              "#0d0887"
             ],
             [
              0.1111111111111111,
              "#46039f"
             ],
             [
              0.2222222222222222,
              "#7201a8"
             ],
             [
              0.3333333333333333,
              "#9c179e"
             ],
             [
              0.4444444444444444,
              "#bd3786"
             ],
             [
              0.5555555555555556,
              "#d8576b"
             ],
             [
              0.6666666666666666,
              "#ed7953"
             ],
             [
              0.7777777777777778,
              "#fb9f3a"
             ],
             [
              0.8888888888888888,
              "#fdca26"
             ],
             [
              1,
              "#f0f921"
             ]
            ],
            "type": "histogram2dcontour"
           }
          ],
          "mesh3d": [
           {
            "colorbar": {
             "outlinewidth": 0,
             "ticks": ""
            },
            "type": "mesh3d"
           }
          ],
          "parcoords": [
           {
            "line": {
             "colorbar": {
              "outlinewidth": 0,
              "ticks": ""
             }
            },
            "type": "parcoords"
           }
          ],
          "pie": [
           {
            "automargin": true,
            "type": "pie"
           }
          ],
          "scatter": [
           {
            "fillpattern": {
             "fillmode": "overlay",
             "size": 10,
             "solidity": 0.2
            },
            "type": "scatter"
           }
          ],
          "scatter3d": [
           {
            "line": {
             "colorbar": {
              "outlinewidth": 0,
              "ticks": ""
             }
            },
            "marker": {
             "colorbar": {
              "outlinewidth": 0,
              "ticks": ""
             }
            },
            "type": "scatter3d"
           }
          ],
          "scattercarpet": [
           {
            "marker": {
             "colorbar": {
              "outlinewidth": 0,
              "ticks": ""
             }
            },
            "type": "scattercarpet"
           }
          ],
          "scattergeo": [
           {
            "marker": {
             "colorbar": {
              "outlinewidth": 0,
              "ticks": ""
             }
            },
            "type": "scattergeo"
           }
          ],
          "scattergl": [
           {
            "marker": {
             "colorbar": {
              "outlinewidth": 0,
              "ticks": ""
             }
            },
            "type": "scattergl"
           }
          ],
          "scattermapbox": [
           {
            "marker": {
             "colorbar": {
              "outlinewidth": 0,
              "ticks": ""
             }
            },
            "type": "scattermapbox"
           }
          ],
          "scatterpolar": [
           {
            "marker": {
             "colorbar": {
              "outlinewidth": 0,
              "ticks": ""
             }
            },
            "type": "scatterpolar"
           }
          ],
          "scatterpolargl": [
           {
            "marker": {
             "colorbar": {
              "outlinewidth": 0,
              "ticks": ""
             }
            },
            "type": "scatterpolargl"
           }
          ],
          "scatterternary": [
           {
            "marker": {
             "colorbar": {
              "outlinewidth": 0,
              "ticks": ""
             }
            },
            "type": "scatterternary"
           }
          ],
          "surface": [
           {
            "colorbar": {
             "outlinewidth": 0,
             "ticks": ""
            },
            "colorscale": [
             [
              0,
              "#0d0887"
             ],
             [
              0.1111111111111111,
              "#46039f"
             ],
             [
              0.2222222222222222,
              "#7201a8"
             ],
             [
              0.3333333333333333,
              "#9c179e"
             ],
             [
              0.4444444444444444,
              "#bd3786"
             ],
             [
              0.5555555555555556,
              "#d8576b"
             ],
             [
              0.6666666666666666,
              "#ed7953"
             ],
             [
              0.7777777777777778,
              "#fb9f3a"
             ],
             [
              0.8888888888888888,
              "#fdca26"
             ],
             [
              1,
              "#f0f921"
             ]
            ],
            "type": "surface"
           }
          ],
          "table": [
           {
            "cells": {
             "fill": {
              "color": "#EBF0F8"
             },
             "line": {
              "color": "white"
             }
            },
            "header": {
             "fill": {
              "color": "#C8D4E3"
             },
             "line": {
              "color": "white"
             }
            },
            "type": "table"
           }
          ]
         },
         "layout": {
          "annotationdefaults": {
           "arrowcolor": "#2a3f5f",
           "arrowhead": 0,
           "arrowwidth": 1
          },
          "autotypenumbers": "strict",
          "coloraxis": {
           "colorbar": {
            "outlinewidth": 0,
            "ticks": ""
           }
          },
          "colorscale": {
           "diverging": [
            [
             0,
             "#8e0152"
            ],
            [
             0.1,
             "#c51b7d"
            ],
            [
             0.2,
             "#de77ae"
            ],
            [
             0.3,
             "#f1b6da"
            ],
            [
             0.4,
             "#fde0ef"
            ],
            [
             0.5,
             "#f7f7f7"
            ],
            [
             0.6,
             "#e6f5d0"
            ],
            [
             0.7,
             "#b8e186"
            ],
            [
             0.8,
             "#7fbc41"
            ],
            [
             0.9,
             "#4d9221"
            ],
            [
             1,
             "#276419"
            ]
           ],
           "sequential": [
            [
             0,
             "#0d0887"
            ],
            [
             0.1111111111111111,
             "#46039f"
            ],
            [
             0.2222222222222222,
             "#7201a8"
            ],
            [
             0.3333333333333333,
             "#9c179e"
            ],
            [
             0.4444444444444444,
             "#bd3786"
            ],
            [
             0.5555555555555556,
             "#d8576b"
            ],
            [
             0.6666666666666666,
             "#ed7953"
            ],
            [
             0.7777777777777778,
             "#fb9f3a"
            ],
            [
             0.8888888888888888,
             "#fdca26"
            ],
            [
             1,
             "#f0f921"
            ]
           ],
           "sequentialminus": [
            [
             0,
             "#0d0887"
            ],
            [
             0.1111111111111111,
             "#46039f"
            ],
            [
             0.2222222222222222,
             "#7201a8"
            ],
            [
             0.3333333333333333,
             "#9c179e"
            ],
            [
             0.4444444444444444,
             "#bd3786"
            ],
            [
             0.5555555555555556,
             "#d8576b"
            ],
            [
             0.6666666666666666,
             "#ed7953"
            ],
            [
             0.7777777777777778,
             "#fb9f3a"
            ],
            [
             0.8888888888888888,
             "#fdca26"
            ],
            [
             1,
             "#f0f921"
            ]
           ]
          },
          "colorway": [
           "#636efa",
           "#EF553B",
           "#00cc96",
           "#ab63fa",
           "#FFA15A",
           "#19d3f3",
           "#FF6692",
           "#B6E880",
           "#FF97FF",
           "#FECB52"
          ],
          "font": {
           "color": "#2a3f5f"
          },
          "geo": {
           "bgcolor": "white",
           "lakecolor": "white",
           "landcolor": "#E5ECF6",
           "showlakes": true,
           "showland": true,
           "subunitcolor": "white"
          },
          "hoverlabel": {
           "align": "left"
          },
          "hovermode": "closest",
          "mapbox": {
           "style": "light"
          },
          "paper_bgcolor": "white",
          "plot_bgcolor": "#E5ECF6",
          "polar": {
           "angularaxis": {
            "gridcolor": "white",
            "linecolor": "white",
            "ticks": ""
           },
           "bgcolor": "#E5ECF6",
           "radialaxis": {
            "gridcolor": "white",
            "linecolor": "white",
            "ticks": ""
           }
          },
          "scene": {
           "xaxis": {
            "backgroundcolor": "#E5ECF6",
            "gridcolor": "white",
            "gridwidth": 2,
            "linecolor": "white",
            "showbackground": true,
            "ticks": "",
            "zerolinecolor": "white"
           },
           "yaxis": {
            "backgroundcolor": "#E5ECF6",
            "gridcolor": "white",
            "gridwidth": 2,
            "linecolor": "white",
            "showbackground": true,
            "ticks": "",
            "zerolinecolor": "white"
           },
           "zaxis": {
            "backgroundcolor": "#E5ECF6",
            "gridcolor": "white",
            "gridwidth": 2,
            "linecolor": "white",
            "showbackground": true,
            "ticks": "",
            "zerolinecolor": "white"
           }
          },
          "shapedefaults": {
           "line": {
            "color": "#2a3f5f"
           }
          },
          "ternary": {
           "aaxis": {
            "gridcolor": "white",
            "linecolor": "white",
            "ticks": ""
           },
           "baxis": {
            "gridcolor": "white",
            "linecolor": "white",
            "ticks": ""
           },
           "bgcolor": "#E5ECF6",
           "caxis": {
            "gridcolor": "white",
            "linecolor": "white",
            "ticks": ""
           }
          },
          "title": {
           "x": 0.05
          },
          "xaxis": {
           "automargin": true,
           "gridcolor": "white",
           "linecolor": "white",
           "ticks": "",
           "title": {
            "standoff": 15
           },
           "zerolinecolor": "white",
           "zerolinewidth": 2
          },
          "yaxis": {
           "automargin": true,
           "gridcolor": "white",
           "linecolor": "white",
           "ticks": "",
           "title": {
            "standoff": 15
           },
           "zerolinecolor": "white",
           "zerolinewidth": 2
          }
         }
        },
        "title": {
         "text": "Real vs. Synthetic Data for columns 'gender' and 'age'"
        },
        "xaxis": {
         "anchor": "y",
         "domain": [
          0,
          1
         ],
         "title": {
          "text": "gender"
         }
        },
        "yaxis": {
         "anchor": "x",
         "domain": [
          0,
          1
         ],
         "title": {
          "text": "age"
         }
        }
       }
      }
     },
     "metadata": {},
     "output_type": "display_data"
    },
    {
     "data": {
      "application/vnd.plotly.v1+json": {
       "config": {
        "plotlyServerURL": "https://plot.ly"
       },
       "data": [
        {
         "coloraxis": "coloraxis",
         "histnorm": "probability",
         "hovertemplate": "Data=Real<br>expire_flag=%{x}<br>hospital_expire_flag=%{y}<br>probability=%{z}<extra></extra>",
         "name": "",
         "type": "histogram2d",
         "x": [
          true,
          true,
          true,
          false,
          false,
          true,
          true,
          true,
          false,
          true,
          false,
          false,
          false,
          true,
          false,
          true,
          true,
          false,
          false,
          false,
          false,
          true,
          true,
          true,
          true,
          false,
          false,
          false,
          false,
          false,
          false,
          true,
          false,
          true,
          true,
          true,
          true,
          true,
          false,
          true,
          true,
          true,
          false,
          false,
          true,
          true,
          true,
          true,
          false,
          true,
          true,
          false,
          true,
          true,
          false,
          false,
          false,
          true,
          true,
          true,
          true,
          true,
          true,
          false,
          false,
          true,
          true,
          false,
          true,
          false,
          true,
          false,
          true,
          true,
          true,
          true,
          true,
          true,
          false,
          true,
          false,
          false,
          true,
          true,
          true,
          true,
          true,
          true,
          true,
          true,
          true,
          true,
          false,
          true,
          false,
          false,
          false,
          false,
          false,
          true,
          false,
          true,
          true,
          true,
          true,
          true,
          false,
          false,
          true,
          true,
          true,
          true,
          false,
          false,
          false,
          true,
          true,
          true,
          true,
          true,
          false,
          true,
          false,
          true,
          true,
          false,
          false,
          true,
          false,
          true,
          false,
          false,
          true,
          true,
          true,
          false,
          true,
          true,
          true,
          true,
          true,
          true,
          true,
          true,
          true,
          true,
          true,
          true,
          true,
          true,
          true,
          true,
          false,
          true,
          false,
          true,
          true,
          true,
          false,
          true,
          true,
          false,
          false,
          false,
          false,
          false,
          true,
          false,
          false,
          true,
          false,
          false,
          false,
          false,
          false,
          true,
          true,
          true,
          true,
          true,
          true,
          false,
          true,
          true,
          false,
          true,
          true,
          true,
          true,
          true,
          false,
          true,
          false,
          false,
          true,
          true,
          true,
          true,
          false,
          true,
          false,
          false,
          true,
          true,
          true,
          true,
          true,
          true,
          true,
          true,
          false,
          false,
          true,
          true,
          false,
          false,
          true,
          true,
          true
         ],
         "xaxis": "x",
         "xbingroup": "x",
         "y": [
          false,
          false,
          false,
          false,
          false,
          false,
          false,
          false,
          false,
          false,
          false,
          false,
          false,
          false,
          false,
          true,
          false,
          false,
          false,
          false,
          false,
          false,
          false,
          false,
          false,
          false,
          false,
          false,
          false,
          false,
          false,
          false,
          false,
          false,
          true,
          false,
          false,
          false,
          false,
          false,
          false,
          false,
          false,
          false,
          false,
          false,
          false,
          false,
          false,
          false,
          false,
          false,
          false,
          false,
          false,
          false,
          false,
          false,
          false,
          false,
          false,
          false,
          false,
          false,
          false,
          false,
          false,
          false,
          false,
          false,
          false,
          false,
          false,
          true,
          false,
          false,
          false,
          false,
          false,
          false,
          false,
          false,
          false,
          false,
          false,
          false,
          false,
          false,
          false,
          false,
          false,
          false,
          false,
          false,
          false,
          false,
          false,
          false,
          false,
          false,
          false,
          false,
          false,
          false,
          false,
          false,
          false,
          false,
          false,
          false,
          false,
          true,
          false,
          false,
          false,
          false,
          false,
          false,
          false,
          false,
          false,
          false,
          false,
          false,
          false,
          false,
          false,
          false,
          false,
          true,
          false,
          false,
          false,
          false,
          false,
          false,
          false,
          false,
          false,
          false,
          false,
          false,
          false,
          false,
          false,
          false,
          false,
          false,
          false,
          false,
          false,
          false,
          false,
          false,
          false,
          false,
          false,
          false,
          false,
          true,
          false,
          false,
          false,
          false,
          false,
          false,
          false,
          false,
          false,
          false,
          false,
          false,
          false,
          false,
          false,
          false,
          false,
          false,
          false,
          false,
          false,
          false,
          false,
          false,
          false,
          false,
          false,
          false,
          false,
          false,
          false,
          false,
          false,
          false,
          false,
          false,
          false,
          false,
          false,
          false,
          false,
          false,
          false,
          false,
          false,
          false,
          false,
          false,
          true,
          false,
          false,
          false,
          false,
          true,
          false,
          false,
          false,
          true,
          false
         ],
         "yaxis": "y",
         "ybingroup": "y"
        },
        {
         "coloraxis": "coloraxis",
         "histnorm": "probability",
         "hovertemplate": "Data=Synthetic<br>expire_flag=%{x}<br>hospital_expire_flag=%{y}<br>probability=%{z}<extra></extra>",
         "name": "",
         "type": "histogram2d",
         "x": [
          true,
          true,
          true,
          true,
          false,
          false,
          true,
          true,
          false,
          false,
          true,
          false,
          true,
          false,
          false,
          true,
          false,
          true,
          true,
          true,
          true,
          true,
          false,
          true,
          true,
          true,
          false,
          false,
          true,
          true,
          false,
          false,
          false,
          false,
          true,
          true,
          false,
          false,
          true,
          true,
          true,
          true,
          false,
          true,
          true,
          true,
          true,
          true,
          false,
          false,
          true,
          true,
          false,
          true,
          true,
          false,
          false,
          true,
          false,
          false,
          false,
          false,
          false,
          false,
          true,
          true,
          true,
          false,
          false,
          false,
          true,
          false,
          true,
          false,
          true,
          true,
          false,
          false,
          true,
          false,
          false,
          false,
          true,
          true,
          false,
          true,
          true,
          false,
          true,
          false,
          false,
          false,
          true,
          true,
          false,
          false,
          false,
          true,
          true,
          false,
          false,
          true,
          true,
          false,
          false,
          true,
          true,
          false,
          true,
          true,
          true,
          false,
          true,
          false,
          true,
          true,
          true,
          true,
          true,
          true,
          true,
          false,
          false,
          false,
          false,
          false,
          true,
          true,
          false,
          false,
          true,
          false,
          false,
          false,
          false,
          true,
          false,
          true,
          true,
          true,
          true,
          true,
          true,
          true,
          false,
          true,
          true,
          true,
          true,
          true,
          false,
          false,
          true,
          false,
          true,
          false,
          false,
          true,
          true,
          false,
          false,
          true,
          false,
          true,
          true,
          true,
          false,
          true,
          false,
          true,
          true,
          true,
          true,
          false,
          true,
          true,
          false,
          true,
          true,
          true,
          true,
          true,
          false,
          false,
          true,
          false,
          false,
          true,
          true,
          false,
          false,
          false,
          false,
          true,
          true,
          true,
          true,
          true,
          true,
          true
         ],
         "xaxis": "x2",
         "xbingroup": "x",
         "y": [
          true,
          false,
          false,
          false,
          false,
          true,
          false,
          false,
          false,
          false,
          false,
          false,
          false,
          false,
          false,
          false,
          false,
          true,
          false,
          true,
          false,
          false,
          false,
          false,
          false,
          true,
          false,
          false,
          true,
          false,
          true,
          false,
          false,
          false,
          false,
          false,
          false,
          false,
          false,
          false,
          false,
          false,
          false,
          false,
          false,
          true,
          true,
          false,
          false,
          false,
          true,
          false,
          true,
          false,
          false,
          false,
          false,
          false,
          false,
          false,
          false,
          true,
          false,
          false,
          false,
          false,
          false,
          false,
          true,
          false,
          true,
          false,
          false,
          false,
          false,
          false,
          false,
          false,
          false,
          false,
          true,
          false,
          false,
          false,
          false,
          false,
          false,
          false,
          true,
          false,
          false,
          false,
          false,
          false,
          false,
          false,
          false,
          true,
          false,
          false,
          false,
          false,
          false,
          false,
          false,
          false,
          true,
          false,
          false,
          true,
          false,
          false,
          true,
          false,
          false,
          false,
          false,
          false,
          false,
          false,
          false,
          true,
          false,
          false,
          false,
          false,
          false,
          false,
          false,
          false,
          false,
          false,
          false,
          false,
          false,
          false,
          false,
          false,
          true,
          true,
          true,
          false,
          false,
          false,
          false,
          false,
          false,
          false,
          false,
          false,
          false,
          false,
          false,
          false,
          false,
          false,
          false,
          false,
          false,
          false,
          false,
          false,
          false,
          false,
          false,
          false,
          false,
          false,
          true,
          false,
          false,
          false,
          false,
          true,
          false,
          false,
          false,
          false,
          false,
          false,
          false,
          false,
          false,
          false,
          false,
          false,
          false,
          true,
          false,
          false,
          true,
          false,
          false,
          true,
          false,
          false,
          false,
          false,
          false,
          false
         ],
         "yaxis": "y2",
         "ybingroup": "y"
        }
       ],
       "layout": {
        "annotations": [
         {
          "font": {},
          "showarrow": false,
          "text": "Real Data",
          "x": 0.245,
          "xanchor": "center",
          "xref": "paper",
          "y": 1,
          "yanchor": "bottom",
          "yref": "paper"
         },
         {
          "font": {},
          "showarrow": false,
          "text": "Synthetic Data",
          "x": 0.755,
          "xanchor": "center",
          "xref": "paper",
          "y": 1,
          "yanchor": "bottom",
          "yref": "paper"
         }
        ],
        "coloraxis": {
         "colorbar": {
          "title": {
           "text": "probability"
          }
         },
         "colorscale": [
          [
           0,
           "#000036"
          ],
          [
           1,
           "#01E0C9"
          ]
         ]
        },
        "font": {
         "size": 18
        },
        "legend": {
         "tracegroupgap": 0
        },
        "margin": {
         "t": 60
        },
        "template": {
         "data": {
          "bar": [
           {
            "error_x": {
             "color": "#2a3f5f"
            },
            "error_y": {
             "color": "#2a3f5f"
            },
            "marker": {
             "line": {
              "color": "#E5ECF6",
              "width": 0.5
             },
             "pattern": {
              "fillmode": "overlay",
              "size": 10,
              "solidity": 0.2
             }
            },
            "type": "bar"
           }
          ],
          "barpolar": [
           {
            "marker": {
             "line": {
              "color": "#E5ECF6",
              "width": 0.5
             },
             "pattern": {
              "fillmode": "overlay",
              "size": 10,
              "solidity": 0.2
             }
            },
            "type": "barpolar"
           }
          ],
          "carpet": [
           {
            "aaxis": {
             "endlinecolor": "#2a3f5f",
             "gridcolor": "white",
             "linecolor": "white",
             "minorgridcolor": "white",
             "startlinecolor": "#2a3f5f"
            },
            "baxis": {
             "endlinecolor": "#2a3f5f",
             "gridcolor": "white",
             "linecolor": "white",
             "minorgridcolor": "white",
             "startlinecolor": "#2a3f5f"
            },
            "type": "carpet"
           }
          ],
          "choropleth": [
           {
            "colorbar": {
             "outlinewidth": 0,
             "ticks": ""
            },
            "type": "choropleth"
           }
          ],
          "contour": [
           {
            "colorbar": {
             "outlinewidth": 0,
             "ticks": ""
            },
            "colorscale": [
             [
              0,
              "#0d0887"
             ],
             [
              0.1111111111111111,
              "#46039f"
             ],
             [
              0.2222222222222222,
              "#7201a8"
             ],
             [
              0.3333333333333333,
              "#9c179e"
             ],
             [
              0.4444444444444444,
              "#bd3786"
             ],
             [
              0.5555555555555556,
              "#d8576b"
             ],
             [
              0.6666666666666666,
              "#ed7953"
             ],
             [
              0.7777777777777778,
              "#fb9f3a"
             ],
             [
              0.8888888888888888,
              "#fdca26"
             ],
             [
              1,
              "#f0f921"
             ]
            ],
            "type": "contour"
           }
          ],
          "contourcarpet": [
           {
            "colorbar": {
             "outlinewidth": 0,
             "ticks": ""
            },
            "type": "contourcarpet"
           }
          ],
          "heatmap": [
           {
            "colorbar": {
             "outlinewidth": 0,
             "ticks": ""
            },
            "colorscale": [
             [
              0,
              "#0d0887"
             ],
             [
              0.1111111111111111,
              "#46039f"
             ],
             [
              0.2222222222222222,
              "#7201a8"
             ],
             [
              0.3333333333333333,
              "#9c179e"
             ],
             [
              0.4444444444444444,
              "#bd3786"
             ],
             [
              0.5555555555555556,
              "#d8576b"
             ],
             [
              0.6666666666666666,
              "#ed7953"
             ],
             [
              0.7777777777777778,
              "#fb9f3a"
             ],
             [
              0.8888888888888888,
              "#fdca26"
             ],
             [
              1,
              "#f0f921"
             ]
            ],
            "type": "heatmap"
           }
          ],
          "heatmapgl": [
           {
            "colorbar": {
             "outlinewidth": 0,
             "ticks": ""
            },
            "colorscale": [
             [
              0,
              "#0d0887"
             ],
             [
              0.1111111111111111,
              "#46039f"
             ],
             [
              0.2222222222222222,
              "#7201a8"
             ],
             [
              0.3333333333333333,
              "#9c179e"
             ],
             [
              0.4444444444444444,
              "#bd3786"
             ],
             [
              0.5555555555555556,
              "#d8576b"
             ],
             [
              0.6666666666666666,
              "#ed7953"
             ],
             [
              0.7777777777777778,
              "#fb9f3a"
             ],
             [
              0.8888888888888888,
              "#fdca26"
             ],
             [
              1,
              "#f0f921"
             ]
            ],
            "type": "heatmapgl"
           }
          ],
          "histogram": [
           {
            "marker": {
             "pattern": {
              "fillmode": "overlay",
              "size": 10,
              "solidity": 0.2
             }
            },
            "type": "histogram"
           }
          ],
          "histogram2d": [
           {
            "colorbar": {
             "outlinewidth": 0,
             "ticks": ""
            },
            "colorscale": [
             [
              0,
              "#0d0887"
             ],
             [
              0.1111111111111111,
              "#46039f"
             ],
             [
              0.2222222222222222,
              "#7201a8"
             ],
             [
              0.3333333333333333,
              "#9c179e"
             ],
             [
              0.4444444444444444,
              "#bd3786"
             ],
             [
              0.5555555555555556,
              "#d8576b"
             ],
             [
              0.6666666666666666,
              "#ed7953"
             ],
             [
              0.7777777777777778,
              "#fb9f3a"
             ],
             [
              0.8888888888888888,
              "#fdca26"
             ],
             [
              1,
              "#f0f921"
             ]
            ],
            "type": "histogram2d"
           }
          ],
          "histogram2dcontour": [
           {
            "colorbar": {
             "outlinewidth": 0,
             "ticks": ""
            },
            "colorscale": [
             [
              0,
              "#0d0887"
             ],
             [
              0.1111111111111111,
              "#46039f"
             ],
             [
              0.2222222222222222,
              "#7201a8"
             ],
             [
              0.3333333333333333,
              "#9c179e"
             ],
             [
              0.4444444444444444,
              "#bd3786"
             ],
             [
              0.5555555555555556,
              "#d8576b"
             ],
             [
              0.6666666666666666,
              "#ed7953"
             ],
             [
              0.7777777777777778,
              "#fb9f3a"
             ],
             [
              0.8888888888888888,
              "#fdca26"
             ],
             [
              1,
              "#f0f921"
             ]
            ],
            "type": "histogram2dcontour"
           }
          ],
          "mesh3d": [
           {
            "colorbar": {
             "outlinewidth": 0,
             "ticks": ""
            },
            "type": "mesh3d"
           }
          ],
          "parcoords": [
           {
            "line": {
             "colorbar": {
              "outlinewidth": 0,
              "ticks": ""
             }
            },
            "type": "parcoords"
           }
          ],
          "pie": [
           {
            "automargin": true,
            "type": "pie"
           }
          ],
          "scatter": [
           {
            "fillpattern": {
             "fillmode": "overlay",
             "size": 10,
             "solidity": 0.2
            },
            "type": "scatter"
           }
          ],
          "scatter3d": [
           {
            "line": {
             "colorbar": {
              "outlinewidth": 0,
              "ticks": ""
             }
            },
            "marker": {
             "colorbar": {
              "outlinewidth": 0,
              "ticks": ""
             }
            },
            "type": "scatter3d"
           }
          ],
          "scattercarpet": [
           {
            "marker": {
             "colorbar": {
              "outlinewidth": 0,
              "ticks": ""
             }
            },
            "type": "scattercarpet"
           }
          ],
          "scattergeo": [
           {
            "marker": {
             "colorbar": {
              "outlinewidth": 0,
              "ticks": ""
             }
            },
            "type": "scattergeo"
           }
          ],
          "scattergl": [
           {
            "marker": {
             "colorbar": {
              "outlinewidth": 0,
              "ticks": ""
             }
            },
            "type": "scattergl"
           }
          ],
          "scattermapbox": [
           {
            "marker": {
             "colorbar": {
              "outlinewidth": 0,
              "ticks": ""
             }
            },
            "type": "scattermapbox"
           }
          ],
          "scatterpolar": [
           {
            "marker": {
             "colorbar": {
              "outlinewidth": 0,
              "ticks": ""
             }
            },
            "type": "scatterpolar"
           }
          ],
          "scatterpolargl": [
           {
            "marker": {
             "colorbar": {
              "outlinewidth": 0,
              "ticks": ""
             }
            },
            "type": "scatterpolargl"
           }
          ],
          "scatterternary": [
           {
            "marker": {
             "colorbar": {
              "outlinewidth": 0,
              "ticks": ""
             }
            },
            "type": "scatterternary"
           }
          ],
          "surface": [
           {
            "colorbar": {
             "outlinewidth": 0,
             "ticks": ""
            },
            "colorscale": [
             [
              0,
              "#0d0887"
             ],
             [
              0.1111111111111111,
              "#46039f"
             ],
             [
              0.2222222222222222,
              "#7201a8"
             ],
             [
              0.3333333333333333,
              "#9c179e"
             ],
             [
              0.4444444444444444,
              "#bd3786"
             ],
             [
              0.5555555555555556,
              "#d8576b"
             ],
             [
              0.6666666666666666,
              "#ed7953"
             ],
             [
              0.7777777777777778,
              "#fb9f3a"
             ],
             [
              0.8888888888888888,
              "#fdca26"
             ],
             [
              1,
              "#f0f921"
             ]
            ],
            "type": "surface"
           }
          ],
          "table": [
           {
            "cells": {
             "fill": {
              "color": "#EBF0F8"
             },
             "line": {
              "color": "white"
             }
            },
            "header": {
             "fill": {
              "color": "#C8D4E3"
             },
             "line": {
              "color": "white"
             }
            },
            "type": "table"
           }
          ]
         },
         "layout": {
          "annotationdefaults": {
           "arrowcolor": "#2a3f5f",
           "arrowhead": 0,
           "arrowwidth": 1
          },
          "autotypenumbers": "strict",
          "coloraxis": {
           "colorbar": {
            "outlinewidth": 0,
            "ticks": ""
           }
          },
          "colorscale": {
           "diverging": [
            [
             0,
             "#8e0152"
            ],
            [
             0.1,
             "#c51b7d"
            ],
            [
             0.2,
             "#de77ae"
            ],
            [
             0.3,
             "#f1b6da"
            ],
            [
             0.4,
             "#fde0ef"
            ],
            [
             0.5,
             "#f7f7f7"
            ],
            [
             0.6,
             "#e6f5d0"
            ],
            [
             0.7,
             "#b8e186"
            ],
            [
             0.8,
             "#7fbc41"
            ],
            [
             0.9,
             "#4d9221"
            ],
            [
             1,
             "#276419"
            ]
           ],
           "sequential": [
            [
             0,
             "#0d0887"
            ],
            [
             0.1111111111111111,
             "#46039f"
            ],
            [
             0.2222222222222222,
             "#7201a8"
            ],
            [
             0.3333333333333333,
             "#9c179e"
            ],
            [
             0.4444444444444444,
             "#bd3786"
            ],
            [
             0.5555555555555556,
             "#d8576b"
            ],
            [
             0.6666666666666666,
             "#ed7953"
            ],
            [
             0.7777777777777778,
             "#fb9f3a"
            ],
            [
             0.8888888888888888,
             "#fdca26"
            ],
            [
             1,
             "#f0f921"
            ]
           ],
           "sequentialminus": [
            [
             0,
             "#0d0887"
            ],
            [
             0.1111111111111111,
             "#46039f"
            ],
            [
             0.2222222222222222,
             "#7201a8"
            ],
            [
             0.3333333333333333,
             "#9c179e"
            ],
            [
             0.4444444444444444,
             "#bd3786"
            ],
            [
             0.5555555555555556,
             "#d8576b"
            ],
            [
             0.6666666666666666,
             "#ed7953"
            ],
            [
             0.7777777777777778,
             "#fb9f3a"
            ],
            [
             0.8888888888888888,
             "#fdca26"
            ],
            [
             1,
             "#f0f921"
            ]
           ]
          },
          "colorway": [
           "#636efa",
           "#EF553B",
           "#00cc96",
           "#ab63fa",
           "#FFA15A",
           "#19d3f3",
           "#FF6692",
           "#B6E880",
           "#FF97FF",
           "#FECB52"
          ],
          "font": {
           "color": "#2a3f5f"
          },
          "geo": {
           "bgcolor": "white",
           "lakecolor": "white",
           "landcolor": "#E5ECF6",
           "showlakes": true,
           "showland": true,
           "subunitcolor": "white"
          },
          "hoverlabel": {
           "align": "left"
          },
          "hovermode": "closest",
          "mapbox": {
           "style": "light"
          },
          "paper_bgcolor": "white",
          "plot_bgcolor": "#E5ECF6",
          "polar": {
           "angularaxis": {
            "gridcolor": "white",
            "linecolor": "white",
            "ticks": ""
           },
           "bgcolor": "#E5ECF6",
           "radialaxis": {
            "gridcolor": "white",
            "linecolor": "white",
            "ticks": ""
           }
          },
          "scene": {
           "xaxis": {
            "backgroundcolor": "#E5ECF6",
            "gridcolor": "white",
            "gridwidth": 2,
            "linecolor": "white",
            "showbackground": true,
            "ticks": "",
            "zerolinecolor": "white"
           },
           "yaxis": {
            "backgroundcolor": "#E5ECF6",
            "gridcolor": "white",
            "gridwidth": 2,
            "linecolor": "white",
            "showbackground": true,
            "ticks": "",
            "zerolinecolor": "white"
           },
           "zaxis": {
            "backgroundcolor": "#E5ECF6",
            "gridcolor": "white",
            "gridwidth": 2,
            "linecolor": "white",
            "showbackground": true,
            "ticks": "",
            "zerolinecolor": "white"
           }
          },
          "shapedefaults": {
           "line": {
            "color": "#2a3f5f"
           }
          },
          "ternary": {
           "aaxis": {
            "gridcolor": "white",
            "linecolor": "white",
            "ticks": ""
           },
           "baxis": {
            "gridcolor": "white",
            "linecolor": "white",
            "ticks": ""
           },
           "bgcolor": "#E5ECF6",
           "caxis": {
            "gridcolor": "white",
            "linecolor": "white",
            "ticks": ""
           }
          },
          "title": {
           "x": 0.05
          },
          "xaxis": {
           "automargin": true,
           "gridcolor": "white",
           "linecolor": "white",
           "ticks": "",
           "title": {
            "standoff": 15
           },
           "zerolinecolor": "white",
           "zerolinewidth": 2
          },
          "yaxis": {
           "automargin": true,
           "gridcolor": "white",
           "linecolor": "white",
           "ticks": "",
           "title": {
            "standoff": 15
           },
           "zerolinecolor": "white",
           "zerolinewidth": 2
          }
         }
        },
        "title": {
         "text": "Real vs Synthetic Data for columns 'expire_flag' and 'hospital_expire_flag'"
        },
        "xaxis": {
         "anchor": "y",
         "domain": [
          0,
          0.49
         ],
         "title": {
          "text": "expire_flag"
         }
        },
        "xaxis2": {
         "anchor": "y2",
         "domain": [
          0.51,
          1
         ],
         "matches": "x",
         "title": {
          "text": "expire_flag"
         }
        },
        "yaxis": {
         "anchor": "x",
         "domain": [
          0,
          1
         ],
         "title": {
          "text": "hospital_expire_flag"
         }
        },
        "yaxis2": {
         "anchor": "x2",
         "domain": [
          0,
          1
         ],
         "matches": "y",
         "showticklabels": false
        }
       }
      }
     },
     "metadata": {},
     "output_type": "display_data"
    },
    {
     "data": {
      "application/vnd.plotly.v1+json": {
       "config": {
        "plotlyServerURL": "https://plot.ly"
       },
       "data": [
        {
         "hovertemplate": "Data=Real<br>primary_icd9_code=%{x}<br>hospital_stay_hours=%{y}<extra></extra>",
         "legendgroup": "Real",
         "marker": {
          "color": "#000036",
          "symbol": "circle"
         },
         "mode": "markers",
         "name": "Real",
         "orientation": "v",
         "showlegend": true,
         "type": "scatter",
         "x": [
          25073,
          25060,
          25011,
          25080,
          25011,
          25041,
          25080,
          25060,
          25002,
          25011,
          25011,
          25013,
          25010,
          25040,
          25012,
          25072,
          25080,
          25012,
          25012,
          25063,
          25011,
          25041,
          25041,
          25010,
          25022,
          25011,
          25083,
          25013,
          25013,
          25013,
          25013,
          25011,
          25080,
          25011,
          25080,
          25080,
          25080,
          25080,
          25041,
          25041,
          25041,
          25011,
          25080,
          25011,
          25011,
          25010,
          25080,
          25070,
          25011,
          25061,
          25040,
          25011,
          25041,
          25010,
          25013,
          25081,
          25011,
          25040,
          25060,
          25062,
          25083,
          25011,
          25071,
          25003,
          25010,
          25063,
          25011,
          25013,
          25011,
          25012,
          25013,
          25013,
          25082,
          25072,
          25062,
          25010,
          25013,
          25072,
          25011,
          25012,
          25013,
          25020,
          25020,
          25011,
          25011,
          25011,
          25000,
          25013,
          25011,
          25082,
          25083,
          25013,
          25013,
          25011,
          25012,
          25011,
          25011,
          25041,
          25011,
          25013,
          25040,
          25042,
          25013,
          25010,
          25041,
          25013,
          25011,
          25013,
          25080,
          25080,
          25080,
          25080,
          25072,
          25011,
          25011,
          25040,
          25080,
          25013,
          25011,
          25011,
          25041,
          25082,
          25011,
          25070,
          25041,
          25011,
          25080,
          25081,
          25013,
          25011,
          25011,
          25010,
          25060,
          25002,
          25081,
          25013,
          25011,
          25013,
          25011,
          25013,
          25011,
          25011,
          25011,
          25011,
          25011,
          25011,
          25023,
          25061,
          25013,
          25013,
          25081,
          25013,
          25011,
          25010,
          25011,
          25011,
          25011,
          25013,
          25020,
          25070,
          25041,
          25030,
          25011,
          25011,
          25013,
          25061,
          25070,
          25081,
          25080,
          25013,
          25011,
          25013,
          25013,
          25012,
          25013,
          25012,
          25011,
          25080,
          25013,
          25011,
          25041,
          25012,
          25011,
          25010,
          25012,
          25011,
          25013,
          25013,
          25013,
          25013,
          25011,
          25010,
          25011,
          25011,
          25043,
          25080,
          25011,
          25080,
          25000,
          25020,
          25013,
          25020,
          25013,
          25063,
          25011,
          25080,
          25081,
          25081,
          25041,
          25070,
          25013,
          25013,
          25012,
          25011,
          25060,
          25012,
          25012,
          25070,
          25080
         ],
         "xaxis": "x",
         "y": [
          284,
          43,
          245,
          46,
          92,
          318,
          236,
          384,
          109,
          73,
          229,
          264,
          12,
          517,
          126,
          433,
          500,
          138,
          63,
          282,
          67,
          191,
          1155,
          164,
          132,
          48,
          310,
          123,
          85,
          52,
          46,
          183,
          603,
          240,
          258,
          39,
          134,
          212,
          170,
          761,
          1013,
          37,
          258,
          70,
          420,
          225,
          20,
          262,
          51,
          694,
          252,
          41,
          124,
          185,
          131,
          72,
          289,
          257,
          91,
          71,
          313,
          70,
          234,
          93,
          94,
          1004,
          129,
          59,
          36,
          229,
          133,
          60,
          341,
          848,
          1533,
          1073,
          41,
          286,
          53,
          95,
          18,
          551,
          238,
          73,
          99,
          172,
          81,
          173,
          593,
          258,
          48,
          97,
          60,
          63,
          64,
          92,
          45,
          348,
          118,
          223,
          156,
          155,
          42,
          216,
          391,
          277,
          100,
          87,
          171,
          164,
          192,
          190,
          861,
          61,
          64,
          298,
          87,
          211,
          95,
          135,
          297,
          61,
          26,
          511,
          181,
          140,
          45,
          432,
          120,
          569,
          77,
          193,
          251,
          125,
          47,
          28,
          90,
          153,
          68,
          82,
          73,
          97,
          100,
          64,
          76,
          176,
          67,
          293,
          146,
          449,
          1538,
          1602,
          71,
          66,
          113,
          120,
          113,
          165,
          20,
          203,
          205,
          371,
          66,
          67,
          111,
          169,
          24,
          43,
          548,
          140,
          46,
          15,
          9,
          125,
          67,
          221,
          235,
          97,
          370,
          64,
          23,
          63,
          48,
          91,
          66,
          40,
          341,
          177,
          264,
          208,
          41,
          751,
          42,
          13,
          432,
          333,
          214,
          160,
          52,
          239,
          48,
          85,
          41,
          260,
          55,
          97,
          116,
          209,
          268,
          435,
          64,
          51,
          59,
          118,
          428,
          159,
          249,
          287,
          120
         ],
         "yaxis": "y"
        },
        {
         "hovertemplate": "Data=Synthetic<br>primary_icd9_code=%{x}<br>hospital_stay_hours=%{y}<extra></extra>",
         "legendgroup": "Synthetic",
         "marker": {
          "color": "#01E0C9",
          "symbol": "diamond"
         },
         "mode": "markers",
         "name": "Synthetic",
         "orientation": "v",
         "showlegend": true,
         "type": "scatter",
         "x": [
          25003,
          25095,
          25008,
          25079,
          25089,
          25011,
          25062,
          25037,
          25067,
          25063,
          25037,
          25034,
          25012,
          25018,
          25012,
          25010,
          25009,
          25016,
          25001,
          25055,
          25035,
          25008,
          25065,
          25004,
          25007,
          25063,
          25007,
          25060,
          25006,
          25053,
          25047,
          25012,
          25021,
          25008,
          25004,
          25011,
          25063,
          25041,
          25040,
          25008,
          25013,
          25094,
          25007,
          25066,
          25040,
          25036,
          25054,
          25075,
          25085,
          25073,
          25022,
          25020,
          25006,
          25012,
          25074,
          25013,
          25018,
          25008,
          25028,
          25061,
          25008,
          25015,
          25077,
          25010,
          25011,
          25012,
          25049,
          25011,
          25009,
          25018,
          25045,
          25011,
          25025,
          25070,
          25083,
          25004,
          25003,
          25026,
          25013,
          25008,
          25044,
          25075,
          25013,
          25014,
          25008,
          25000,
          25062,
          25008,
          25011,
          25041,
          25028,
          25047,
          25032,
          25012,
          25007,
          25007,
          25013,
          25042,
          25006,
          25062,
          25054,
          25061,
          25006,
          25012,
          25040,
          25086,
          25055,
          25050,
          25079,
          25018,
          25014,
          25063,
          25005,
          25016,
          25043,
          25066,
          25006,
          25009,
          25052,
          25013,
          25010,
          25010,
          25044,
          25086,
          25098,
          25087,
          25010,
          25006,
          25091,
          25013,
          25013,
          25006,
          25002,
          25033,
          25070,
          25084,
          25064,
          25038,
          25049,
          25005,
          25009,
          25051,
          25015,
          25009,
          25062,
          25046,
          25017,
          25013,
          25012,
          25004,
          25006,
          25016,
          25003,
          25034,
          25049,
          25040,
          25008,
          25006,
          25037,
          25001,
          25008,
          25036,
          25052,
          25016,
          25008,
          25020,
          25011,
          25016,
          25040,
          25008,
          25075,
          25081,
          25044,
          25013,
          25023,
          25007,
          25056,
          25063,
          25046,
          25024,
          25069,
          25052,
          25074,
          25043,
          25002,
          25035,
          25002,
          25008,
          25024,
          25053,
          25091,
          25003,
          25011,
          25014,
          25018,
          25026,
          25079,
          25007,
          25046,
          25007
         ],
         "xaxis": "x",
         "y": [
          728,
          1330,
          339,
          356,
          387,
          437,
          6,
          893,
          440,
          321,
          479,
          62,
          1012,
          1347,
          250,
          504,
          187,
          497,
          422,
          167,
          189,
          83,
          559,
          1897,
          120,
          305,
          136,
          538,
          1197,
          390,
          195,
          168,
          35,
          1603,
          85,
          151,
          -16,
          964,
          170,
          146,
          322,
          302,
          1401,
          216,
          43,
          736,
          734,
          147,
          345,
          1485,
          1012,
          761,
          75,
          285,
          -62,
          541,
          -37,
          139,
          1259,
          13,
          251,
          159,
          242,
          350,
          258,
          39,
          97,
          52,
          450,
          114,
          310,
          134,
          302,
          30,
          104,
          220,
          397,
          1444,
          1332,
          92,
          85,
          71,
          194,
          228,
          118,
          143,
          509,
          200,
          3,
          705,
          526,
          739,
          238,
          606,
          1745,
          79,
          416,
          182,
          166,
          1530,
          366,
          -21,
          972,
          51,
          81,
          678,
          -24,
          417,
          136,
          272,
          405,
          -57,
          811,
          988,
          406,
          35,
          214,
          -141,
          1295,
          -195,
          856,
          928,
          1211,
          461,
          1331,
          138,
          823,
          258,
          859,
          464,
          1067,
          713,
          81,
          436,
          450,
          -4,
          608,
          219,
          118,
          247,
          1203,
          1493,
          305,
          256,
          342,
          517,
          131,
          1647,
          101,
          51,
          185,
          282,
          424,
          1386,
          169,
          1534,
          981,
          -39,
          511,
          563,
          21,
          128,
          369,
          -153,
          1570,
          1146,
          56,
          412,
          294,
          128,
          44,
          110,
          1056,
          211,
          391,
          418,
          154,
          -71,
          -38,
          312,
          85,
          585,
          809,
          300,
          208,
          497,
          1540,
          1574,
          312,
          261,
          135,
          66,
          414,
          466,
          73,
          54,
          164,
          120,
          605,
          -274
         ],
         "yaxis": "y"
        }
       ],
       "layout": {
        "font": {
         "size": 18
        },
        "legend": {
         "title": {
          "text": "Data"
         },
         "tracegroupgap": 0
        },
        "margin": {
         "t": 60
        },
        "plot_bgcolor": "#F5F5F8",
        "template": {
         "data": {
          "bar": [
           {
            "error_x": {
             "color": "#2a3f5f"
            },
            "error_y": {
             "color": "#2a3f5f"
            },
            "marker": {
             "line": {
              "color": "#E5ECF6",
              "width": 0.5
             },
             "pattern": {
              "fillmode": "overlay",
              "size": 10,
              "solidity": 0.2
             }
            },
            "type": "bar"
           }
          ],
          "barpolar": [
           {
            "marker": {
             "line": {
              "color": "#E5ECF6",
              "width": 0.5
             },
             "pattern": {
              "fillmode": "overlay",
              "size": 10,
              "solidity": 0.2
             }
            },
            "type": "barpolar"
           }
          ],
          "carpet": [
           {
            "aaxis": {
             "endlinecolor": "#2a3f5f",
             "gridcolor": "white",
             "linecolor": "white",
             "minorgridcolor": "white",
             "startlinecolor": "#2a3f5f"
            },
            "baxis": {
             "endlinecolor": "#2a3f5f",
             "gridcolor": "white",
             "linecolor": "white",
             "minorgridcolor": "white",
             "startlinecolor": "#2a3f5f"
            },
            "type": "carpet"
           }
          ],
          "choropleth": [
           {
            "colorbar": {
             "outlinewidth": 0,
             "ticks": ""
            },
            "type": "choropleth"
           }
          ],
          "contour": [
           {
            "colorbar": {
             "outlinewidth": 0,
             "ticks": ""
            },
            "colorscale": [
             [
              0,
              "#0d0887"
             ],
             [
              0.1111111111111111,
              "#46039f"
             ],
             [
              0.2222222222222222,
              "#7201a8"
             ],
             [
              0.3333333333333333,
              "#9c179e"
             ],
             [
              0.4444444444444444,
              "#bd3786"
             ],
             [
              0.5555555555555556,
              "#d8576b"
             ],
             [
              0.6666666666666666,
              "#ed7953"
             ],
             [
              0.7777777777777778,
              "#fb9f3a"
             ],
             [
              0.8888888888888888,
              "#fdca26"
             ],
             [
              1,
              "#f0f921"
             ]
            ],
            "type": "contour"
           }
          ],
          "contourcarpet": [
           {
            "colorbar": {
             "outlinewidth": 0,
             "ticks": ""
            },
            "type": "contourcarpet"
           }
          ],
          "heatmap": [
           {
            "colorbar": {
             "outlinewidth": 0,
             "ticks": ""
            },
            "colorscale": [
             [
              0,
              "#0d0887"
             ],
             [
              0.1111111111111111,
              "#46039f"
             ],
             [
              0.2222222222222222,
              "#7201a8"
             ],
             [
              0.3333333333333333,
              "#9c179e"
             ],
             [
              0.4444444444444444,
              "#bd3786"
             ],
             [
              0.5555555555555556,
              "#d8576b"
             ],
             [
              0.6666666666666666,
              "#ed7953"
             ],
             [
              0.7777777777777778,
              "#fb9f3a"
             ],
             [
              0.8888888888888888,
              "#fdca26"
             ],
             [
              1,
              "#f0f921"
             ]
            ],
            "type": "heatmap"
           }
          ],
          "heatmapgl": [
           {
            "colorbar": {
             "outlinewidth": 0,
             "ticks": ""
            },
            "colorscale": [
             [
              0,
              "#0d0887"
             ],
             [
              0.1111111111111111,
              "#46039f"
             ],
             [
              0.2222222222222222,
              "#7201a8"
             ],
             [
              0.3333333333333333,
              "#9c179e"
             ],
             [
              0.4444444444444444,
              "#bd3786"
             ],
             [
              0.5555555555555556,
              "#d8576b"
             ],
             [
              0.6666666666666666,
              "#ed7953"
             ],
             [
              0.7777777777777778,
              "#fb9f3a"
             ],
             [
              0.8888888888888888,
              "#fdca26"
             ],
             [
              1,
              "#f0f921"
             ]
            ],
            "type": "heatmapgl"
           }
          ],
          "histogram": [
           {
            "marker": {
             "pattern": {
              "fillmode": "overlay",
              "size": 10,
              "solidity": 0.2
             }
            },
            "type": "histogram"
           }
          ],
          "histogram2d": [
           {
            "colorbar": {
             "outlinewidth": 0,
             "ticks": ""
            },
            "colorscale": [
             [
              0,
              "#0d0887"
             ],
             [
              0.1111111111111111,
              "#46039f"
             ],
             [
              0.2222222222222222,
              "#7201a8"
             ],
             [
              0.3333333333333333,
              "#9c179e"
             ],
             [
              0.4444444444444444,
              "#bd3786"
             ],
             [
              0.5555555555555556,
              "#d8576b"
             ],
             [
              0.6666666666666666,
              "#ed7953"
             ],
             [
              0.7777777777777778,
              "#fb9f3a"
             ],
             [
              0.8888888888888888,
              "#fdca26"
             ],
             [
              1,
              "#f0f921"
             ]
            ],
            "type": "histogram2d"
           }
          ],
          "histogram2dcontour": [
           {
            "colorbar": {
             "outlinewidth": 0,
             "ticks": ""
            },
            "colorscale": [
             [
              0,
              "#0d0887"
             ],
             [
              0.1111111111111111,
              "#46039f"
             ],
             [
              0.2222222222222222,
              "#7201a8"
             ],
             [
              0.3333333333333333,
              "#9c179e"
             ],
             [
              0.4444444444444444,
              "#bd3786"
             ],
             [
              0.5555555555555556,
              "#d8576b"
             ],
             [
              0.6666666666666666,
              "#ed7953"
             ],
             [
              0.7777777777777778,
              "#fb9f3a"
             ],
             [
              0.8888888888888888,
              "#fdca26"
             ],
             [
              1,
              "#f0f921"
             ]
            ],
            "type": "histogram2dcontour"
           }
          ],
          "mesh3d": [
           {
            "colorbar": {
             "outlinewidth": 0,
             "ticks": ""
            },
            "type": "mesh3d"
           }
          ],
          "parcoords": [
           {
            "line": {
             "colorbar": {
              "outlinewidth": 0,
              "ticks": ""
             }
            },
            "type": "parcoords"
           }
          ],
          "pie": [
           {
            "automargin": true,
            "type": "pie"
           }
          ],
          "scatter": [
           {
            "fillpattern": {
             "fillmode": "overlay",
             "size": 10,
             "solidity": 0.2
            },
            "type": "scatter"
           }
          ],
          "scatter3d": [
           {
            "line": {
             "colorbar": {
              "outlinewidth": 0,
              "ticks": ""
             }
            },
            "marker": {
             "colorbar": {
              "outlinewidth": 0,
              "ticks": ""
             }
            },
            "type": "scatter3d"
           }
          ],
          "scattercarpet": [
           {
            "marker": {
             "colorbar": {
              "outlinewidth": 0,
              "ticks": ""
             }
            },
            "type": "scattercarpet"
           }
          ],
          "scattergeo": [
           {
            "marker": {
             "colorbar": {
              "outlinewidth": 0,
              "ticks": ""
             }
            },
            "type": "scattergeo"
           }
          ],
          "scattergl": [
           {
            "marker": {
             "colorbar": {
              "outlinewidth": 0,
              "ticks": ""
             }
            },
            "type": "scattergl"
           }
          ],
          "scattermapbox": [
           {
            "marker": {
             "colorbar": {
              "outlinewidth": 0,
              "ticks": ""
             }
            },
            "type": "scattermapbox"
           }
          ],
          "scatterpolar": [
           {
            "marker": {
             "colorbar": {
              "outlinewidth": 0,
              "ticks": ""
             }
            },
            "type": "scatterpolar"
           }
          ],
          "scatterpolargl": [
           {
            "marker": {
             "colorbar": {
              "outlinewidth": 0,
              "ticks": ""
             }
            },
            "type": "scatterpolargl"
           }
          ],
          "scatterternary": [
           {
            "marker": {
             "colorbar": {
              "outlinewidth": 0,
              "ticks": ""
             }
            },
            "type": "scatterternary"
           }
          ],
          "surface": [
           {
            "colorbar": {
             "outlinewidth": 0,
             "ticks": ""
            },
            "colorscale": [
             [
              0,
              "#0d0887"
             ],
             [
              0.1111111111111111,
              "#46039f"
             ],
             [
              0.2222222222222222,
              "#7201a8"
             ],
             [
              0.3333333333333333,
              "#9c179e"
             ],
             [
              0.4444444444444444,
              "#bd3786"
             ],
             [
              0.5555555555555556,
              "#d8576b"
             ],
             [
              0.6666666666666666,
              "#ed7953"
             ],
             [
              0.7777777777777778,
              "#fb9f3a"
             ],
             [
              0.8888888888888888,
              "#fdca26"
             ],
             [
              1,
              "#f0f921"
             ]
            ],
            "type": "surface"
           }
          ],
          "table": [
           {
            "cells": {
             "fill": {
              "color": "#EBF0F8"
             },
             "line": {
              "color": "white"
             }
            },
            "header": {
             "fill": {
              "color": "#C8D4E3"
             },
             "line": {
              "color": "white"
             }
            },
            "type": "table"
           }
          ]
         },
         "layout": {
          "annotationdefaults": {
           "arrowcolor": "#2a3f5f",
           "arrowhead": 0,
           "arrowwidth": 1
          },
          "autotypenumbers": "strict",
          "coloraxis": {
           "colorbar": {
            "outlinewidth": 0,
            "ticks": ""
           }
          },
          "colorscale": {
           "diverging": [
            [
             0,
             "#8e0152"
            ],
            [
             0.1,
             "#c51b7d"
            ],
            [
             0.2,
             "#de77ae"
            ],
            [
             0.3,
             "#f1b6da"
            ],
            [
             0.4,
             "#fde0ef"
            ],
            [
             0.5,
             "#f7f7f7"
            ],
            [
             0.6,
             "#e6f5d0"
            ],
            [
             0.7,
             "#b8e186"
            ],
            [
             0.8,
             "#7fbc41"
            ],
            [
             0.9,
             "#4d9221"
            ],
            [
             1,
             "#276419"
            ]
           ],
           "sequential": [
            [
             0,
             "#0d0887"
            ],
            [
             0.1111111111111111,
             "#46039f"
            ],
            [
             0.2222222222222222,
             "#7201a8"
            ],
            [
             0.3333333333333333,
             "#9c179e"
            ],
            [
             0.4444444444444444,
             "#bd3786"
            ],
            [
             0.5555555555555556,
             "#d8576b"
            ],
            [
             0.6666666666666666,
             "#ed7953"
            ],
            [
             0.7777777777777778,
             "#fb9f3a"
            ],
            [
             0.8888888888888888,
             "#fdca26"
            ],
            [
             1,
             "#f0f921"
            ]
           ],
           "sequentialminus": [
            [
             0,
             "#0d0887"
            ],
            [
             0.1111111111111111,
             "#46039f"
            ],
            [
             0.2222222222222222,
             "#7201a8"
            ],
            [
             0.3333333333333333,
             "#9c179e"
            ],
            [
             0.4444444444444444,
             "#bd3786"
            ],
            [
             0.5555555555555556,
             "#d8576b"
            ],
            [
             0.6666666666666666,
             "#ed7953"
            ],
            [
             0.7777777777777778,
             "#fb9f3a"
            ],
            [
             0.8888888888888888,
             "#fdca26"
            ],
            [
             1,
             "#f0f921"
            ]
           ]
          },
          "colorway": [
           "#636efa",
           "#EF553B",
           "#00cc96",
           "#ab63fa",
           "#FFA15A",
           "#19d3f3",
           "#FF6692",
           "#B6E880",
           "#FF97FF",
           "#FECB52"
          ],
          "font": {
           "color": "#2a3f5f"
          },
          "geo": {
           "bgcolor": "white",
           "lakecolor": "white",
           "landcolor": "#E5ECF6",
           "showlakes": true,
           "showland": true,
           "subunitcolor": "white"
          },
          "hoverlabel": {
           "align": "left"
          },
          "hovermode": "closest",
          "mapbox": {
           "style": "light"
          },
          "paper_bgcolor": "white",
          "plot_bgcolor": "#E5ECF6",
          "polar": {
           "angularaxis": {
            "gridcolor": "white",
            "linecolor": "white",
            "ticks": ""
           },
           "bgcolor": "#E5ECF6",
           "radialaxis": {
            "gridcolor": "white",
            "linecolor": "white",
            "ticks": ""
           }
          },
          "scene": {
           "xaxis": {
            "backgroundcolor": "#E5ECF6",
            "gridcolor": "white",
            "gridwidth": 2,
            "linecolor": "white",
            "showbackground": true,
            "ticks": "",
            "zerolinecolor": "white"
           },
           "yaxis": {
            "backgroundcolor": "#E5ECF6",
            "gridcolor": "white",
            "gridwidth": 2,
            "linecolor": "white",
            "showbackground": true,
            "ticks": "",
            "zerolinecolor": "white"
           },
           "zaxis": {
            "backgroundcolor": "#E5ECF6",
            "gridcolor": "white",
            "gridwidth": 2,
            "linecolor": "white",
            "showbackground": true,
            "ticks": "",
            "zerolinecolor": "white"
           }
          },
          "shapedefaults": {
           "line": {
            "color": "#2a3f5f"
           }
          },
          "ternary": {
           "aaxis": {
            "gridcolor": "white",
            "linecolor": "white",
            "ticks": ""
           },
           "baxis": {
            "gridcolor": "white",
            "linecolor": "white",
            "ticks": ""
           },
           "bgcolor": "#E5ECF6",
           "caxis": {
            "gridcolor": "white",
            "linecolor": "white",
            "ticks": ""
           }
          },
          "title": {
           "x": 0.05
          },
          "xaxis": {
           "automargin": true,
           "gridcolor": "white",
           "linecolor": "white",
           "ticks": "",
           "title": {
            "standoff": 15
           },
           "zerolinecolor": "white",
           "zerolinewidth": 2
          },
          "yaxis": {
           "automargin": true,
           "gridcolor": "white",
           "linecolor": "white",
           "ticks": "",
           "title": {
            "standoff": 15
           },
           "zerolinecolor": "white",
           "zerolinewidth": 2
          }
         }
        },
        "title": {
         "text": "Real vs. Synthetic Data for columns 'primary_icd9_code' and 'hospital_stay_hours'"
        },
        "xaxis": {
         "anchor": "y",
         "domain": [
          0,
          1
         ],
         "title": {
          "text": "primary_icd9_code"
         }
        },
        "yaxis": {
         "anchor": "x",
         "domain": [
          0,
          1
         ],
         "title": {
          "text": "hospital_stay_hours"
         }
        }
       }
      }
     },
     "metadata": {},
     "output_type": "display_data"
    }
   ],
   "source": [
    "\n",
    "pairs = [['gender', 'age'], ['expire_flag', 'hospital_expire_flag'], ['primary_icd9_code', 'hospital_stay_hours']]\n",
    "\n",
    "for p in pairs:\n",
    "    fig = get_column_pair_plot(\n",
    "        real_data=real_data,\n",
    "        synthetic_data=synthetic_data,\n",
    "        column_names=p,\n",
    "        metadata=metadata\n",
    "    )\n",
    "\n",
    "    fig.show()"
   ]
  }
 ],
 "metadata": {
  "kernelspec": {
   "display_name": "Python 3",
   "language": "python",
   "name": "python3"
  },
  "language_info": {
   "codemirror_mode": {
    "name": "ipython",
    "version": 3
   },
   "file_extension": ".py",
   "mimetype": "text/x-python",
   "name": "python",
   "nbconvert_exporter": "python",
   "pygments_lexer": "ipython3",
   "version": "3.11.9"
  }
 },
 "nbformat": 4,
 "nbformat_minor": 2
}
